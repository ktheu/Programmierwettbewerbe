{
 "cells": [
  {
   "cell_type": "code",
   "execution_count": 1,
   "id": "710d4e4c-9aee-41fc-8c2b-f1670a431ed0",
   "metadata": {},
   "outputs": [],
   "source": [
    "def readWords(filename):\n",
    "    file = open(filename, mode=\"r\", encoding=\"utf-8\")\n",
    "    words = file.read().split(\"\\n\")\n",
    "    return words\n",
    "\n",
    "def searchVocals(word):\n",
    "    vocals = [\"a\", \"e\", \"i\", \"o\", \"u\", \"ä\", \"ö\", \"ü\"]\n",
    "    _list = []\n",
    "    _next = True\n",
    "    index = -1\n",
    "    for i in word:\n",
    "        index += 1\n",
    "        if _next:\n",
    "            if i.lower() in vocals:\n",
    "                list_add = \"\"\n",
    "                list_add += i\n",
    "                indexNext = word.index(i) + 1\n",
    "                try:\n",
    "                    if word[indexNext].lower() in vocals:\n",
    "                        list_add += word[indexNext]\n",
    "                        _next = False\n",
    "                except:\n",
    "                    pass\n",
    "                _list.append([list_add, index])\n",
    "        else:\n",
    "            _next = True\n",
    "    return _list\n",
    "\n",
    "def searchEssentialVocal(vocal, word):\n",
    "    output1 = \"\"\n",
    "    output2 = \"\"\n",
    "    if len(vocal) == 1:\n",
    "        essential = vocal[0]\n",
    "    elif len(vocal) == 0:\n",
    "        essential = []\n",
    "    else:\n",
    "        essential = vocal[(len(vocal)-1)-1]\n",
    "    for i in range(0, essential[1]):\n",
    "        output1 += word[i]\n",
    "    for i in range(essential[1], len(word)):\n",
    "        output2 += word[i]\n",
    "    return [output1, output2]\n",
    "\n",
    "def testRhyme(essential1, essential2):\n",
    "    word1 = essential1[0] + essential1[1]\n",
    "    word2 = essential2[0] + essential2[1]\n",
    "    if essential1[1] == essential2[1]:\n",
    "        if len(essential1[1]) >= len(essential1[0]) and len(essential2[1]) >= len(essential2[0]):\n",
    "            return True\n",
    "    return False\n"
   ]
  },
  {
   "cell_type": "code",
   "execution_count": null,
   "id": "e81e28bb-9859-4cdc-9562-c3e41fad44a6",
   "metadata": {},
   "outputs": [],
   "source": []
  }
 ],
 "metadata": {
  "kernelspec": {
   "display_name": "Python 3 (ipykernel)",
   "language": "python",
   "name": "python3"
  },
  "language_info": {
   "codemirror_mode": {
    "name": "ipython",
    "version": 3
   },
   "file_extension": ".py",
   "mimetype": "text/x-python",
   "name": "python",
   "nbconvert_exporter": "python",
   "pygments_lexer": "ipython3",
   "version": "3.9.12"
  }
 },
 "nbformat": 4,
 "nbformat_minor": 5
}
