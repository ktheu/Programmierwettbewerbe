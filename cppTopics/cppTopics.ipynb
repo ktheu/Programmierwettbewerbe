{
 "cells": [
  {
   "cell_type": "markdown",
   "id": "e8178a5d-e55c-4681-842b-c0d59dd3a32e",
   "metadata": {},
   "source": [
    "### C++ Topics\n",
    "\n"
   ]
  },
  {
   "cell_type": "markdown",
   "id": "89d88de8-30cc-4035-8576-ec31c855aa65",
   "metadata": {},
   "source": [
    "#### Große Werte, inf\n",
    "\n",
    "Bei einer (accepted) Lösung für die CSES-Aufgabe Investigation habe ich folgende Zeile gefunden:\n",
    "\n",
    "    const long long inf = 0x3f3f3f3f3f3f;"
   ]
  },
  {
   "cell_type": "markdown",
   "id": "c24b7320-1989-497b-95c2-271fe79bc8cd",
   "metadata": {},
   "source": [
    "Wenn man den Wert ausgibt, ist das\n",
    "\n",
    "    69540876599103"
   ]
  },
  {
   "cell_type": "code",
   "execution_count": 16,
   "id": "9b6dbba3-256a-4219-8dc1-c9f7a25924a4",
   "metadata": {},
   "outputs": [
    {
     "data": {
      "text/plain": [
       "'0x3f3f3f3f3f3f'"
      ]
     },
     "execution_count": 16,
     "metadata": {},
     "output_type": "execute_result"
    }
   ],
   "source": [
    "x = 69540876599103\n",
    "hex(x)"
   ]
  },
  {
   "cell_type": "code",
   "execution_count": 17,
   "id": "7c0497ae-e885-46e4-a5e5-d3692f249012",
   "metadata": {},
   "outputs": [
    {
     "name": "stdout",
     "output_type": "stream",
     "text": [
      "6.95e+13\n"
     ]
    }
   ],
   "source": [
    "print(f'{x:.2e}')"
   ]
  },
  {
   "cell_type": "markdown",
   "id": "05d6d824-e649-4682-ba0d-4a397be7d2ab",
   "metadata": {},
   "source": [
    "Das ist deutlich weniger als das auch übliche\n",
    "\n",
    "    const long long inf = 1e19\n",
    "\n"
   ]
  },
  {
   "cell_type": "markdown",
   "id": "c0cb9298-8685-47e3-b479-3255dda5366e",
   "metadata": {},
   "source": [
    "Bie dieser Aufgabe muss man Distanzen aufaddieren. Die constraints sind so:\n",
    "Es gibt bis zu $2*10^5$ Kanten und jede Kante kann maximal $10^9$ lang sein. Das bedeutet, es keine Wege, die länger als $2*10^{14}$ sind. Der gewählte Wert für inf ist eigentlich zu klein. \n",
    "\n",
    "Hier nutzen wir alle 8 Bytes eines long long aus:\n",
    "\n",
    "    const long long inf = 0x3f3f3f3f3f3f3f3f;\n",
    "\n",
    "Die Ausgabe ergibt:\n",
    "\n",
    "    4557430888798830399\n",
    "\n",
    "Dieser Wert wäre ok."
   ]
  },
  {
   "cell_type": "code",
   "execution_count": 41,
   "id": "d474cc63-db9a-4b6c-bd98-02cd0dd9a8d4",
   "metadata": {},
   "outputs": [
    {
     "name": "stdout",
     "output_type": "stream",
     "text": [
      "0x3f3f3f3f3f3f3f3f\n",
      "4.56e+18\n"
     ]
    }
   ],
   "source": [
    "x = 4557430888798830399\n",
    "print(hex(x))\n",
    "print(f'{x:.2e}')"
   ]
  },
  {
   "cell_type": "markdown",
   "id": "aa754cc4-2e17-4b0b-bceb-4d5aad2384ee",
   "metadata": {},
   "source": [
    "Warum nutzen wir die 8 Bytes nicht voll aus?\n",
    "\n",
    "    const long long inf = 0xffffffffffffffff;\n",
    "\n",
    "Die Ausgabe ergibt \n",
    "\n",
    "    -1\n",
    "\n",
    "Das Zahlen werden im 64-bit Zweierkomplement codiert, wenn das 1. Bit 1 ist, bedeutet das, dass die Zahl negativ ist."
   ]
  },
  {
   "cell_type": "markdown",
   "id": "e93f6603-025b-4f73-8807-b71d5bdee467",
   "metadata": {},
   "source": [
    "Wenn wir nur das 1. Bit auf 0 setzen erhalten wir:\n",
    "\n",
    "    const long long inf = 0x7fffffffffffffff;\n",
    "\n",
    "Die Ausgabe ergibt \n",
    "\n",
    "    9223372036854775807"
   ]
  },
  {
   "cell_type": "code",
   "execution_count": 42,
   "id": "7d03da10-45d7-44fb-ba8a-1d71b02d97d8",
   "metadata": {},
   "outputs": [
    {
     "name": "stdout",
     "output_type": "stream",
     "text": [
      "0x7fffffffffffffff\n",
      "9.22e+18\n"
     ]
    }
   ],
   "source": [
    "x = 9223372036854775807\n",
    "print(hex(x))\n",
    "print(f'{x:.2e}')"
   ]
  },
  {
   "cell_type": "markdown",
   "id": "4b2dd013-468d-49b6-ada2-423129b881bc",
   "metadata": {},
   "source": [
    "Das ist genau der Wert der Konstanten *LLONG_MAX*.\n",
    "\n",
    "Warum nimmt man diesen Wert nicht als *inf*? Weil jede Addition dann etwas negatives liefert.\n",
    "\n",
    "    inf + 1 \n",
    "\n",
    "ergibt\n",
    "    \n",
    "    -9223372036854775808\n",
    "\n",
    "Das ist genau der Wert der Konstanten *LLONG_MIN*.\n",
    "\n",
    "Für *inf* sollte man einen Wert nehmen, so dass *inf + inf* immer noch im positiven Bereich ist. Also z.B:\n",
    "\n",
    "    "
   ]
  },
  {
   "cell_type": "code",
   "execution_count": 36,
   "id": "cd7a99f7-caa6-4a6d-987b-bcbd0c3ae08a",
   "metadata": {},
   "outputs": [
    {
     "name": "stdout",
     "output_type": "stream",
     "text": [
      "0x3fffffffffffffff\n",
      "4.61e+18\n"
     ]
    }
   ],
   "source": [
    "x = 9223372036854775807\n",
    "x = x // 2\n",
    "print(hex(x))\n",
    "print(f'{x:.2e}')"
   ]
  },
  {
   "cell_type": "markdown",
   "id": "f3a9bbe3-5da1-4a69-a9bd-5c8372a37f0d",
   "metadata": {},
   "source": [
    "Daher kommt ein gängiger inf-Wert:\n",
    "\n",
    "    const long long inf = 4e18;\n",
    "\n",
    "Häufig auch ohne den Faktor 4\n",
    "\n",
    "    const long long inf = 1e18;\n",
    "\n",
    "Weil die Stellen besser abzuzählen sind, nimmt man bei der hexadezimalen Zuweisung gerne eine Folge von 3f.\n",
    "\n",
    "    const long long inf = 0x3f3f3f3f3f3f3f3f;\n",
    "\n",
    "Dies ergibt\n",
    "\n",
    "    4557430888798830399"
   ]
  },
  {
   "cell_type": "code",
   "execution_count": 43,
   "id": "38840842-e5f8-4832-882f-ed4c27e08e21",
   "metadata": {},
   "outputs": [
    {
     "name": "stdout",
     "output_type": "stream",
     "text": [
      "0x3f3f3f3f3f3f3f3f\n",
      "4.56e+18\n"
     ]
    }
   ],
   "source": [
    "x = 4557430888798830399\n",
    "print(hex(x))\n",
    "print(f'{x:.2e}')"
   ]
  },
  {
   "cell_type": "markdown",
   "id": "18e86526-22e9-44a0-b82c-cf9ef837cf06",
   "metadata": {},
   "source": [
    "Wenn wir ein C-Array mit lauter unendlich-Werten initialisieren wollen, können wir den Speicherbereich des Arrays mit lauter *3f* Bytes vollschreiben.\n",
    "\n",
    "    long long a[10];\r\n",
    "    memset(a, 0x3f, sizeof(a));"
   ]
  },
  {
   "cell_type": "code",
   "execution_count": null,
   "id": "3fb7a340-5c63-4401-8e00-9b35588b36ff",
   "metadata": {},
   "outputs": [],
   "source": []
  }
 ],
 "metadata": {
  "kernelspec": {
   "display_name": "Python 3 (ipykernel)",
   "language": "python",
   "name": "python3"
  },
  "language_info": {
   "codemirror_mode": {
    "name": "ipython",
    "version": 3
   },
   "file_extension": ".py",
   "mimetype": "text/x-python",
   "name": "python",
   "nbconvert_exporter": "python",
   "pygments_lexer": "ipython3",
   "version": "3.11.2"
  }
 },
 "nbformat": 4,
 "nbformat_minor": 5
}
