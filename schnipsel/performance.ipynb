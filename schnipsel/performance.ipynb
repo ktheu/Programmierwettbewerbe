{
 "cells": [
  {
   "cell_type": "markdown",
   "id": "393c053d-ba01-466d-b709-3f9d1fa8bde3",
   "metadata": {},
   "source": [
    "### Performance\n",
    "\n",
    "Zeitmessung:"
   ]
  },
  {
   "cell_type": "code",
   "execution_count": null,
   "id": "7a63d743-cf9e-47a8-8438-8520688e550a",
   "metadata": {},
   "outputs": [],
   "source": [
    "from time import perf_counter\n",
    "start = perf_counter()\n",
    "   ...\n",
    "print(perf_counter() - start)   # in seconds"
   ]
  },
  {
   "cell_type": "markdown",
   "id": "8f85816e-1263-463f-a35d-c2463c82f22e",
   "metadata": {},
   "source": [
    "Wenn bei Aufgaben das Zeitlimit nicht reicht, können folgende Änderungen\n",
    "versucht werden:"
   ]
  },
  {
   "cell_type": "code",
   "execution_count": null,
   "id": "ec70cb7b-14c5-4098-a588-27ce89a3fec8",
   "metadata": {},
   "outputs": [],
   "source": [
    "stdin.readline()   statt input()\n",
    "stdout.write()     statt print()"
   ]
  },
  {
   "cell_type": "code",
   "execution_count": null,
   "id": "555d44ee-90fb-45dc-a5c3-727d27a1a471",
   "metadata": {},
   "outputs": [],
   "source": [
    "if not condition: continue       statt\n",
    "if condition:\n",
    "     weiter()"
   ]
  },
  {
   "cell_type": "code",
   "execution_count": null,
   "id": "ab7b978c-5ab9-42ed-9d67-b2de801955bb",
   "metadata": {},
   "outputs": [],
   "source": [
    "# Keine Variablen wegen scheinbarer Doppelberechnung anlegen:\n",
    "\n",
    "if a + b > t:\n",
    "    t = a + b      statt\n",
    "\n",
    "c = a + b\n",
    "if c > t:\n",
    "    t = c"
   ]
  },
  {
   "cell_type": "code",
   "execution_count": null,
   "id": "6e40fb16-9e4d-4f62-afa3-a041a66c5699",
   "metadata": {},
   "outputs": [],
   "source": [
    "# Versuche Matrizen eindimensional zu modellieren:\n",
    "D = [inf]* 250000  statt  D = [[inf] * 500 for _ in range(500)]\n",
    "D[a + 500*b]       statt  D[a][b]"
   ]
  },
  {
   "cell_type": "code",
   "execution_count": null,
   "id": "028aa68c-22b5-49c3-9d5d-e96b16ea3fad",
   "metadata": {},
   "outputs": [],
   "source": [
    "# Nutze join statt String-Concatenation\n",
    "output = \" \".join([\"Programming\" , \"is\", \"fun\"])  statt\n",
    "output = \"Programming \" + \"is \" + \"fun\""
   ]
  },
  {
   "cell_type": "code",
   "execution_count": null,
   "id": "125e4291-6ba3-4667-abe0-b9597d0985b6",
   "metadata": {},
   "outputs": [],
   "source": [
    "a, b = 3, 5\n",
    "#  statt \n",
    "a = 3\n",
    "b = 5"
   ]
  },
  {
   "cell_type": "markdown",
   "id": "952a87b0-c405-4a24-91ec-190baace4002",
   "metadata": {},
   "source": [
    "- Vermeide Funktionsaufrufe mit Parameterübergabe - lieber den Code wiederholen.\n",
    "- Das Hauptprogramm in eine Funktion packen."
   ]
  },
  {
   "cell_type": "code",
   "execution_count": null,
   "id": "7da08fbf-f7fa-4783-b0cc-1bb49f748be3",
   "metadata": {},
   "outputs": [],
   "source": []
  }
 ],
 "metadata": {
  "kernelspec": {
   "display_name": "Python 3 (ipykernel)",
   "language": "python",
   "name": "python3"
  },
  "language_info": {
   "codemirror_mode": {
    "name": "ipython",
    "version": 3
   },
   "file_extension": ".py",
   "mimetype": "text/x-python",
   "name": "python",
   "nbconvert_exporter": "python",
   "pygments_lexer": "ipython3",
   "version": "3.11.2"
  }
 },
 "nbformat": 4,
 "nbformat_minor": 5
}
