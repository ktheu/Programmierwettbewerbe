{
 "cells": [
  {
   "cell_type": "markdown",
   "id": "f6fa834b-6980-44dc-b11f-b299e8f0e80f",
   "metadata": {},
   "source": [
    "### Kürzester und längster Pfad in einem DAG\n",
    "\n",
    "Den längsten Pfad in einem Graphen zu finden ist NP-schwer, aber in einem DAG geht es in linearer Zeit"
   ]
  },
  {
   "cell_type": "code",
   "execution_count": 2,
   "id": "24c886da-93a2-419d-851b-32de732bb95c",
   "metadata": {},
   "outputs": [
    {
     "name": "stdout",
     "output_type": "stream",
     "text": [
      "Overwriting input.txt\n"
     ]
    }
   ],
   "source": [
    "%%writefile input.txt\n",
    "8 13\n",
    "3 1 3\n",
    "3 7 6\n",
    "1 7 4\n",
    "1 4 4\n",
    "1 2 11\n",
    "2 6 9\n",
    "4 2 -4\n",
    "4 5 5\n",
    "4 8 2\n",
    "5 6 1\n",
    "7 4 8\n",
    "7 8 11\n",
    "8 6 2"
   ]
  },
  {
   "cell_type": "code",
   "execution_count": 3,
   "id": "d41bec47-b203-46a5-a2fd-c63dd555c6d1",
   "metadata": {},
   "outputs": [
    {
     "name": "stdout",
     "output_type": "stream",
     "text": [
      "7 4\n",
      "4 4\n",
      "2 11\n"
     ]
    }
   ],
   "source": [
    "stdin = open('input.txt')\n",
    "n, m = map(int, stdin.readline().split())   # n Knoten, m Kanten   \n",
    "adj = [[] for i in range(n+1)]              # Knoten starten bei 1        \n",
    "\n",
    "for i in range(m):                   # Kante von u nach v mit Kosten c               \n",
    "    u, v, c = map(int, stdin.readline().split())    \n",
    "    adj[u].append((v,c))\n",
    "\n",
    "u = 1\n",
    "for v,c in adj[u]:         # alle Nachbarn von u mit ihren Kosten\n",
    "     print(v,c)"
   ]
  },
  {
   "cell_type": "code",
   "execution_count": null,
   "id": "0a1de471-a77c-4002-aaa8-3a6240e5ad0d",
   "metadata": {},
   "outputs": [],
   "source": []
  }
 ],
 "metadata": {
  "kernelspec": {
   "display_name": "Python 3 (ipykernel)",
   "language": "python",
   "name": "python3"
  },
  "language_info": {
   "codemirror_mode": {
    "name": "ipython",
    "version": 3
   },
   "file_extension": ".py",
   "mimetype": "text/x-python",
   "name": "python",
   "nbconvert_exporter": "python",
   "pygments_lexer": "ipython3",
   "version": "3.11.2"
  }
 },
 "nbformat": 4,
 "nbformat_minor": 5
}
