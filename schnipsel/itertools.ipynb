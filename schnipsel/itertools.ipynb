{
 "cells": [
  {
   "cell_type": "markdown",
   "id": "319d6636-1b45-48f0-90e4-c208f7263aaa",
   "metadata": {},
   "source": [
    "### Itertools\n",
    "\n",
    "#### Teilmengen"
   ]
  },
  {
   "cell_type": "code",
   "execution_count": 1,
   "id": "703db422-1f28-40ad-82f5-7acb8ae20c37",
   "metadata": {},
   "outputs": [
    {
     "name": "stdout",
     "output_type": "stream",
     "text": [
      "(1, 2)\n",
      "(1, 3)\n",
      "(1, 4)\n",
      "(2, 3)\n",
      "(2, 4)\n",
      "(3, 4)\n"
     ]
    }
   ],
   "source": [
    "# Alle 2-elementigen Teilmengen als Tuple\n",
    "import itertools as it\n",
    "a = [1,2,3,4]\n",
    "for x in it.combinations(a,2):\n",
    "    print(x)"
   ]
  },
  {
   "cell_type": "code",
   "execution_count": 2,
   "id": "58a41e97-3bca-418a-bbac-4da96c9ea1e9",
   "metadata": {},
   "outputs": [
    {
     "name": "stdout",
     "output_type": "stream",
     "text": [
      "()\n",
      "(1,)\n",
      "(2,)\n",
      "(3,)\n",
      "(4,)\n",
      "(1, 2)\n",
      "(1, 3)\n",
      "(1, 4)\n",
      "(2, 3)\n",
      "(2, 4)\n",
      "(3, 4)\n",
      "(1, 2, 3)\n",
      "(1, 2, 4)\n",
      "(1, 3, 4)\n",
      "(2, 3, 4)\n",
      "(1, 2, 3, 4)\n"
     ]
    }
   ],
   "source": [
    "# Alle Teilmengen als Tuple\n",
    "import itertools as it\n",
    "a = [1,2,3,4]\n",
    "for x in it.chain.from_iterable(it.combinations(a, k) for k in range(len(a)+1)):\n",
    "    print(x)"
   ]
  },
  {
   "cell_type": "markdown",
   "id": "ee18cae2-609c-4dbc-848f-d8294ad09e7c",
   "metadata": {},
   "source": [
    "#### Permutationen "
   ]
  },
  {
   "cell_type": "code",
   "execution_count": 3,
   "id": "4dac4af8-0763-4a8e-8edf-41c02ac9895e",
   "metadata": {},
   "outputs": [
    {
     "name": "stdout",
     "output_type": "stream",
     "text": [
      "(1, 2)\n",
      "(1, 3)\n",
      "(2, 1)\n",
      "(2, 3)\n",
      "(3, 1)\n",
      "(3, 2)\n"
     ]
    }
   ],
   "source": [
    "# Alle 2-elementigen Permutationen:\n",
    "import itertools as it\n",
    "for x in it.permutations([1,2,3],2):\n",
    "    print(x)"
   ]
  },
  {
   "cell_type": "code",
   "execution_count": 4,
   "id": "742d94d0-a0f7-42e7-924f-c53b196ee8fa",
   "metadata": {},
   "outputs": [
    {
     "name": "stdout",
     "output_type": "stream",
     "text": [
      "(1, 2, 3)\n",
      "(1, 3, 2)\n",
      "(2, 1, 3)\n",
      "(2, 3, 1)\n",
      "(3, 1, 2)\n",
      "(3, 2, 1)\n"
     ]
    }
   ],
   "source": [
    "# Alle Permutationen\n",
    "import itertools as it\n",
    "for x in it.permutations([1,2,3]):\n",
    "    print(x)"
   ]
  },
  {
   "cell_type": "markdown",
   "id": "220024a2-1c0f-40ed-b3bb-36d770a12d08",
   "metadata": {},
   "source": [
    "#### Cartesische Produkte"
   ]
  },
  {
   "cell_type": "code",
   "execution_count": 5,
   "id": "97430e7e-4eef-4766-9bcf-3c7e20b6e894",
   "metadata": {},
   "outputs": [
    {
     "name": "stdout",
     "output_type": "stream",
     "text": [
      "(1, 1)\n",
      "(1, 2)\n",
      "(1, 3)\n",
      "(2, 1)\n",
      "(2, 2)\n",
      "(2, 3)\n",
      "(3, 1)\n",
      "(3, 2)\n",
      "(3, 3)\n"
     ]
    }
   ],
   "source": [
    "# Alle 2-elementigen cartesische Produkte.\n",
    "import itertools as it\n",
    "for x in it.product([1,2,3],repeat=2):\n",
    "    print(x)"
   ]
  },
  {
   "cell_type": "markdown",
   "id": "3b4aa740-8462-4ed5-99ce-6f559772f676",
   "metadata": {},
   "source": [
    "#### Weitere Beispiele"
   ]
  },
  {
   "cell_type": "code",
   "execution_count": 6,
   "id": "0d8c8042-c460-4a99-a5b2-a9af502c2a3b",
   "metadata": {},
   "outputs": [
    {
     "name": "stdout",
     "output_type": "stream",
     "text": [
      "(0, 0, 0, 0)\n",
      "(0, 0, 0, 1)\n",
      "(0, 0, 1, 0)\n",
      "(0, 0, 1, 1)\n",
      "(0, 1, 0, 0)\n",
      "(0, 1, 0, 1)\n",
      "(0, 1, 1, 0)\n",
      "(0, 1, 1, 1)\n",
      "(1, 0, 0, 0)\n",
      "(1, 0, 0, 1)\n",
      "(1, 0, 1, 0)\n",
      "(1, 0, 1, 1)\n",
      "(1, 1, 0, 0)\n",
      "(1, 1, 0, 1)\n",
      "(1, 1, 1, 0)\n",
      "(1, 1, 1, 1)\n"
     ]
    }
   ],
   "source": [
    "# Alle 4-elementige Binärfolgen\n",
    "import itertools as it\n",
    "for x in it.product([0,1],repeat = 4):\n",
    "    print(x)"
   ]
  },
  {
   "cell_type": "code",
   "execution_count": 7,
   "id": "9335a001-129c-403f-b69b-8f6227748670",
   "metadata": {},
   "outputs": [
    {
     "name": "stdout",
     "output_type": "stream",
     "text": [
      "[1, 1, 0, 0, 0]\n",
      "[1, 0, 1, 0, 0]\n",
      "[1, 0, 0, 1, 0]\n",
      "[1, 0, 0, 0, 1]\n",
      "[0, 1, 1, 0, 0]\n",
      "[0, 1, 0, 1, 0]\n",
      "[0, 1, 0, 0, 1]\n",
      "[0, 0, 1, 1, 0]\n",
      "[0, 0, 1, 0, 1]\n",
      "[0, 0, 0, 1, 1]\n"
     ]
    }
   ],
   "source": [
    "# Alle n-elementigen Binärfolgen, die an genau k Stellen eine 1 haben, sonst 0.\n",
    "import itertools as it\n",
    "n, k = 5, 2\n",
    "for x in it.combinations(range(n),k):\n",
    "    print([int(i in x) for i in range(n)])"
   ]
  },
  {
   "cell_type": "code",
   "execution_count": 8,
   "id": "fd7feca3-b063-4291-b2a7-7f1422cdcf9d",
   "metadata": {},
   "outputs": [
    {
     "name": "stdout",
     "output_type": "stream",
     "text": [
      "[]\n",
      "[5]\n",
      "[2]\n",
      "[2, 5]\n",
      "[9]\n",
      "[9, 5]\n",
      "[9, 2]\n",
      "[9, 2, 5]\n",
      "[10]\n",
      "[10, 5]\n",
      "[10, 2]\n",
      "[10, 2, 5]\n",
      "[10, 9]\n",
      "[10, 9, 5]\n",
      "[10, 9, 2]\n",
      "[10, 9, 2, 5]\n"
     ]
    }
   ],
   "source": [
    "# Alle Teillisten einer Liste aufzählen\n",
    "# Jedes Element kann entweder genommen werden oder nicht, also 2^n Möglichkeiten\n",
    "a = [10, 9, 2, 5]\n",
    "iter = it.product([0,1],repeat=len(a))\n",
    "for selector in iter:\n",
    "    print([d for d, s in zip(a, selector) if s])"
   ]
  }
 ],
 "metadata": {
  "kernelspec": {
   "display_name": "Python 3 (ipykernel)",
   "language": "python",
   "name": "python3"
  },
  "language_info": {
   "codemirror_mode": {
    "name": "ipython",
    "version": 3
   },
   "file_extension": ".py",
   "mimetype": "text/x-python",
   "name": "python",
   "nbconvert_exporter": "python",
   "pygments_lexer": "ipython3",
   "version": "3.11.2"
  }
 },
 "nbformat": 4,
 "nbformat_minor": 5
}
