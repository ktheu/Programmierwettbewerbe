{
 "cells": [
  {
   "cell_type": "markdown",
   "id": "a2611293-5342-40f5-8414-b44f87d947cc",
   "metadata": {},
   "source": [
    "### Prefix Sum"
   ]
  },
  {
   "cell_type": "code",
   "execution_count": null,
   "id": "456084d2-ec1d-4ec6-bc42-e92d2d50d913",
   "metadata": {},
   "outputs": [],
   "source": [
    "# pref[k] = Summe der ersten k Elemente\n",
    "# Basisbeispiel: x[0] ... x[n-1]\n",
    "\n",
    "pref = [0] * (n+1)\n",
    "for i in range(1, n+1):\n",
    "    pref[i] = pref[i-1] + x[i-1]\n",
    "for i in range(q):\n",
    "    a, b = map(int, input().split())\n",
    "    print(pref[b] - pref[a-1])"
   ]
  },
  {
   "cell_type": "code",
   "execution_count": null,
   "id": "72579d4d-adf3-467d-ab09-f9d0e33ebbad",
   "metadata": {},
   "outputs": [],
   "source": [
    "# pref[i][k] = Häufigkeit des Zeichens i in den ersten k Elementen\n",
    "pref = {}\n",
    "for k in range(1,4):\n",
    "    tmp = [0] * (N+1)\n",
    "    for i in range(N):\n",
    "        if x[i] == k:\n",
    "            tmp[i+1] = 1\n",
    "    for i in range(N):\n",
    "        tmp[i+1] += tmp[i]\n",
    "    pref[k] = tmp\n",
    "\n",
    "a, b = map(int, input().split())\n",
    "for i in range(1, 4):\n",
    "    k = pref[i][b] - pref[i][a-1]"
   ]
  }
 ],
 "metadata": {
  "kernelspec": {
   "display_name": "Python 3 (ipykernel)",
   "language": "python",
   "name": "python3"
  },
  "language_info": {
   "codemirror_mode": {
    "name": "ipython",
    "version": 3
   },
   "file_extension": ".py",
   "mimetype": "text/x-python",
   "name": "python",
   "nbconvert_exporter": "python",
   "pygments_lexer": "ipython3",
   "version": "3.11.2"
  }
 },
 "nbformat": 4,
 "nbformat_minor": 5
}
