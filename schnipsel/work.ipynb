{
 "cells": [
  {
   "cell_type": "code",
   "execution_count": 24,
   "id": "12aeaf9c-db31-41aa-9622-b83350cd9b57",
   "metadata": {
    "tags": []
   },
   "outputs": [
    {
     "data": {
      "text/plain": [
       "1.4142135623730951"
      ]
     },
     "execution_count": 24,
     "metadata": {},
     "output_type": "execute_result"
    }
   ],
   "source": [
    "import math\n",
    "\n",
    "p1 = (0,0)\n",
    "p2 = (1,1)\n",
    "math.dist(p1,p2)"
   ]
  },
  {
   "cell_type": "code",
   "execution_count": 1,
   "id": "9763cbd3-0c2a-41de-862e-ffcc3eca73ac",
   "metadata": {
    "tags": []
   },
   "outputs": [],
   "source": [
    "def koordinatenform(p1, p2):\n",
    "    ''' Geradengleichung a*x + b*y = c '''\n",
    "    x1, y1 = p1\n",
    "    x2, y2 = p2\n",
    "    a = -(y2-y1)\n",
    "    b = (x2-x1)\n",
    "    c = a*x1 + b*y1\n",
    "    return a, b, c"
   ]
  },
  {
   "cell_type": "code",
   "execution_count": 9,
   "id": "f43607ba-c127-4b09-904e-87857818cbaa",
   "metadata": {
    "tags": []
   },
   "outputs": [
    {
     "data": {
      "text/plain": [
       "(-1, 2, 5)"
      ]
     },
     "execution_count": 9,
     "metadata": {},
     "output_type": "execute_result"
    }
   ],
   "source": [
    "p1 = (3,4)\n",
    "p2 = (5,5)\n",
    "koordinatenform(p1, p2)"
   ]
  },
  {
   "cell_type": "code",
   "execution_count": 2,
   "id": "0ea3f0c8-ea71-4464-9f45-9fdb5026d611",
   "metadata": {},
   "outputs": [],
   "source": [
    "def gerade(p1, p2):\n",
    "    ''' wir setzen voraus, dass p1 und p2 unterschiedliche x-Koordinaten haben '''\n",
    "    x1, y1 = p1\n",
    "    x2, y2 = p2\n",
    "    m = (y2 - y1) / (x2 - x1)\n",
    "    b = y1 - m * x1\n",
    "    return lambda x : m * x + b"
   ]
  },
  {
   "cell_type": "code",
   "execution_count": 3,
   "id": "f14a16c0-ae8c-4a8b-b317-a6fb545878f4",
   "metadata": {
    "tags": []
   },
   "outputs": [],
   "source": [
    "f = gerade((2,2),(4,5))"
   ]
  },
  {
   "cell_type": "code",
   "execution_count": 5,
   "id": "44d8e897-d419-4179-93ca-477c29489c13",
   "metadata": {
    "tags": []
   },
   "outputs": [
    {
     "data": {
      "text/plain": [
       "9.5"
      ]
     },
     "execution_count": 5,
     "metadata": {},
     "output_type": "execute_result"
    }
   ],
   "source": [
    "f(7)"
   ]
  },
  {
   "cell_type": "code",
   "execution_count": 15,
   "id": "aea8ac0d-6392-4da1-b86d-093546bb8e13",
   "metadata": {
    "tags": []
   },
   "outputs": [],
   "source": [
    "def schnittpunkt(p1, p2, p3, p4):\n",
    "    ''' returns Schnittpunkt der beiden Geraden, die durch p1, p2 bzw. p3, p4 gegeben sind '''\n",
    "    xd = p1[0]-p2[0], p3[0]-p4[0]\n",
    "    yd = p1[1]-p2[1], p3[1]-p4[1]\n",
    "    \n",
    "    def det(a,b):\n",
    "        return a[0]*b[1]-a[1]*b[0]\n",
    "    \n",
    "    div = det(xd,yd)\n",
    "    if div == 0:\n",
    "        raise Exception('kein Schnittpunkt')\n",
    "    d = det(p1,p2), det(p3,p4)\n",
    "    x = det(d, xd) / div\n",
    "    y = det(d, yd) / div\n",
    "    return x, y\n",
    "                    "
   ]
  },
  {
   "cell_type": "code",
   "execution_count": 19,
   "id": "d05efc30-9328-47b1-a891-4625d9e0277f",
   "metadata": {},
   "outputs": [
    {
     "ename": "Exception",
     "evalue": "kein Schnittpunkt",
     "output_type": "error",
     "traceback": [
      "\u001b[1;31m---------------------------------------------------------------------------\u001b[0m",
      "\u001b[1;31mException\u001b[0m                                 Traceback (most recent call last)",
      "Cell \u001b[1;32mIn[19], line 1\u001b[0m\n\u001b[1;32m----> 1\u001b[0m \u001b[43mschnittpunkt\u001b[49m\u001b[43m(\u001b[49m\u001b[43m(\u001b[49m\u001b[38;5;241;43m2\u001b[39;49m\u001b[43m,\u001b[49m\u001b[38;5;241;43m2\u001b[39;49m\u001b[43m)\u001b[49m\u001b[43m,\u001b[49m\u001b[43m(\u001b[49m\u001b[38;5;241;43m-\u001b[39;49m\u001b[38;5;241;43m2\u001b[39;49m\u001b[43m,\u001b[49m\u001b[38;5;241;43m2\u001b[39;49m\u001b[43m)\u001b[49m\u001b[43m,\u001b[49m\u001b[43m(\u001b[49m\u001b[38;5;241;43m2\u001b[39;49m\u001b[43m,\u001b[49m\u001b[38;5;241;43m4\u001b[39;49m\u001b[43m)\u001b[49m\u001b[43m,\u001b[49m\u001b[43m(\u001b[49m\u001b[38;5;241;43m-\u001b[39;49m\u001b[38;5;241;43m3\u001b[39;49m\u001b[43m,\u001b[49m\u001b[38;5;241;43m4\u001b[39;49m\u001b[43m)\u001b[49m\u001b[43m)\u001b[49m\n",
      "Cell \u001b[1;32mIn[15], line 11\u001b[0m, in \u001b[0;36mschnittpunkt\u001b[1;34m(p1, p2, p3, p4)\u001b[0m\n\u001b[0;32m      9\u001b[0m div \u001b[38;5;241m=\u001b[39m det(xd,yd)\n\u001b[0;32m     10\u001b[0m \u001b[38;5;28;01mif\u001b[39;00m div \u001b[38;5;241m==\u001b[39m \u001b[38;5;241m0\u001b[39m:\n\u001b[1;32m---> 11\u001b[0m     \u001b[38;5;28;01mraise\u001b[39;00m \u001b[38;5;167;01mException\u001b[39;00m(\u001b[38;5;124m'\u001b[39m\u001b[38;5;124mkein Schnittpunkt\u001b[39m\u001b[38;5;124m'\u001b[39m)\n\u001b[0;32m     12\u001b[0m d \u001b[38;5;241m=\u001b[39m det(p1,p2), det(p3,p4)\n\u001b[0;32m     13\u001b[0m x \u001b[38;5;241m=\u001b[39m det(d, xd) \u001b[38;5;241m/\u001b[39m div\n",
      "\u001b[1;31mException\u001b[0m: kein Schnittpunkt"
     ]
    }
   ],
   "source": [
    "schnittpunkt((2,2),(-2,2),(2,4),(-3,4))"
   ]
  },
  {
   "cell_type": "code",
   "execution_count": null,
   "id": "942e32aa-1d2f-4bdb-9ef7-dac61252c000",
   "metadata": {},
   "outputs": [],
   "source": [
    "def line_intersection(line1, line2):\n",
    "    xdiff = (line1[0][0] - line1[1][0], line2[0][0] - line2[1][0])\n",
    "    ydiff = (line1[0][1] - line1[1][1], line2[0][1] - line2[1][1])\n",
    "\n",
    "    def det(a, b):\n",
    "        return a[0] * b[1] - a[1] * b[0]\n",
    "\n",
    "    div = det(xdiff, ydiff)\n",
    "    if div == 0:\n",
    "       raise Exception('lines do not intersect')\n",
    "\n",
    "    d = (det(*line1), det(*line2))\n",
    "    x = det(d, xdiff) / div\n",
    "    y = det(d, ydiff) / div\n",
    "    return x, y\n",
    "\n",
    "print line_intersection((A, B), (C, D))\n"
   ]
  },
  {
   "cell_type": "code",
   "execution_count": 34,
   "id": "b75e9653-d4a8-4ae0-af87-78884a3ffbbe",
   "metadata": {
    "tags": []
   },
   "outputs": [],
   "source": [
    "def abstand_punkt_gerade(p, p1, p2):\n",
    "    if p1 == p2: raise Exception(f'keine Gerade gegeben durch {p1} und {p2} gegeben')\n",
    "    x, y = p\n",
    "    x1, y1 = p1\n",
    "    x2, y2 = p2\n",
    "    nx, ny =  -(y2-y1),(x2-x1)  # Normale\n",
    "    return abs(nx*(x-x1) + ny*(y-y1))/math.sqrt(nx*nx+ny*ny)\n",
    " \n",
    "  "
   ]
  },
  {
   "cell_type": "code",
   "execution_count": 35,
   "id": "7db64a6f-0e80-450b-b6e4-cf717dd7d657",
   "metadata": {
    "tags": []
   },
   "outputs": [
    {
     "data": {
      "text/plain": [
       "3.5777087639996634"
      ]
     },
     "execution_count": 35,
     "metadata": {},
     "output_type": "execute_result"
    }
   ],
   "source": [
    "p = (1,1)\n",
    "p1 = (3,4)\n",
    "p2 = (7,2)\n",
    "abstand_punkt_gerade(p, p1, p2)"
   ]
  },
  {
   "cell_type": "code",
   "execution_count": 36,
   "id": "d94a6dc7-7481-4167-9a25-02a920d9d7e8",
   "metadata": {
    "tags": []
   },
   "outputs": [],
   "source": [
    "def getWinkel(p1,p2,p3):\n",
    "    '''\n",
    "    returns: Winkel am Punkt p1 im Dreieck p1-p2-p3\n",
    "    '''\n",
    "    dx = p3[0]-p1[0]    # Ziel - Start\n",
    "    dy = p3[1]-p1[1]\n",
    "    alpha1 = math.degrees(math.atan2(dy,dx))\n",
    "    dx = p2[0]-p1[0]    # Ziel - Start\n",
    "    dy = p2[1]-p1[1]\n",
    "    alpha2 = math.degrees(math.atan2(dy,dx))\n",
    "    angle = abs(alpha1-alpha2)\n",
    "    if angle > 180: angle-= 360\n",
    "    return abs(angle)"
   ]
  },
  {
   "cell_type": "code",
   "execution_count": null,
   "id": "2f60e3e3-4e3f-4e51-bc7d-e4312ef6c711",
   "metadata": {},
   "outputs": [],
   "source": []
  }
 ],
 "metadata": {
  "kernelspec": {
   "display_name": "Python 3 (ipykernel)",
   "language": "python",
   "name": "python3"
  },
  "language_info": {
   "codemirror_mode": {
    "name": "ipython",
    "version": 3
   },
   "file_extension": ".py",
   "mimetype": "text/x-python",
   "name": "python",
   "nbconvert_exporter": "python",
   "pygments_lexer": "ipython3",
   "version": "3.11.2"
  }
 },
 "nbformat": 4,
 "nbformat_minor": 5
}
