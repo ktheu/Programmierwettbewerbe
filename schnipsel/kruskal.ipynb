{
 "cells": [
  {
   "cell_type": "markdown",
   "id": "22b5d55c-0998-4b6e-8754-5ab4c1f78f27",
   "metadata": {},
   "source": [
    "### Minimale Spannbäume\n",
    "\n",
    "Ein Teilgraph H eines ungerichteten Graphen G heisst Spannbaum von G, wenn H ein Baum auf den Knoten von\n",
    "G ist.\n",
    "Ein Spannbaum S eines gewichteten, ungerichteten Graphen heisst minimaler Spannbaum, (minimal spanning tree, MST), wenn S minimales Gewicht unter allen Spannbäumen von G besitzt.\n",
    "\n",
    "#### Kruskal\n",
    "\n",
    "Der Kruskal-Algorithmus mit union-find hat eine Laufzeit von $O((|V| + |E|) \\cdot \\log(|V|))$."
   ]
  },
  {
   "cell_type": "code",
   "execution_count": 1,
   "id": "bcb1f96c-797b-455e-b840-463fe35e21b6",
   "metadata": {},
   "outputs": [
    {
     "name": "stdout",
     "output_type": "stream",
     "text": [
      "[('a', 'd'), ('c', 'e'), ('d', 'f'), ('a', 'b'), ('b', 'e'), ('e', 'g')]\n",
      "Gesamtkosten:  39\n"
     ]
    }
   ],
   "source": [
    "G = {\n",
    "  'a': {'b':7, 'd':5},\n",
    "  'b': {'a':7, 'd':9, 'e':7, 'c':8},\n",
    "  'c': {'b':8, 'e':5},\n",
    "  'd': {'a':5, 'b':9, 'e':15, 'f':6},\n",
    "  'e': {'b':7, 'c':5, 'd':15, 'f':8, 'g':9},\n",
    "  'f': {'d':6, 'e':8, 'g':11},\n",
    "  'g': {'e':9, 'f':11}\n",
    "}\n",
    "\n",
    "def find(u):\n",
    "    if chef[u] != chef[chef[u]]:\n",
    "        chef[u] = find(chef[u])        # Path compression\n",
    "    return chef[u]\n",
    "\n",
    "def union(u, v):                       # union by rank\n",
    "    u, v = find(u), find(v)\n",
    "    if rank[u] > rank[v]:\n",
    "        chef[v] = u\n",
    "    else:\n",
    "        chef[u] = v\n",
    "    if rank[u] == rank[v]:\n",
    "        rank[v]+=1\n",
    "\n",
    "summe = 0\n",
    "gesehen = set()\n",
    "\n",
    "E = [(G[u][v],u,v) for u in G for v in G[u]]  # Kantenliste mit Kosten\n",
    "\n",
    "mst = []                             # leerer Anfangsbaum\n",
    "chef = {u:u for u in G}              # zunächst ist jeder eigener chef\n",
    "rank = {u:0 for u in G}              # und hat Rang 0\n",
    "for _, u, v in sorted(E):\n",
    "    if find(u) != find(v):           # wenn chefs verschieden, wird die\n",
    "        mst.append((u, v))           # Kante in den mst aufgenommen\n",
    "        summe += G[u][v]\n",
    "        union(u, v)\n",
    "\n",
    "print(mst)\n",
    "print('Gesamtkosten: ', summe)"
   ]
  },
  {
   "cell_type": "markdown",
   "id": "c5694454-eac8-4ffe-8b7d-51feb3581403",
   "metadata": {},
   "source": [
    "#### Jarnik-Prim\n",
    "\n",
    "Der Algorithmus von Jarnik-Prim hat eine Laufzeit von $O(|V| \\cdot |E|)$."
   ]
  },
  {
   "cell_type": "code",
   "execution_count": 3,
   "id": "abfdb4ff-9037-46a3-bc31-e72c55b10c2d",
   "metadata": {},
   "outputs": [
    {
     "name": "stdout",
     "output_type": "stream",
     "text": [
      "{'a': None, 'd': 'a', 'f': 'd', 'b': 'a', 'e': 'b', 'c': 'e', 'g': 'e'}\n",
      "Gesamtkosten:  39\n"
     ]
    }
   ],
   "source": [
    "from heapq import heappop, heappush\n",
    "\n",
    "G = {\n",
    "  'a': {'b':7, 'd':5},\n",
    "  'b': {'a':7, 'd':9, 'e':7, 'c':8},\n",
    "  'c': {'b':8, 'e':5},\n",
    "  'd': {'a':5, 'b':9, 'e':15, 'f':6},\n",
    "  'e': {'b':7, 'c':5, 'd':15, 'f':8, 'g':9},\n",
    "  'f': {'d':6, 'e':8, 'g':11},\n",
    "  'g': {'e':9, 'f':11}\n",
    "}\n",
    "\n",
    "start = 'a'                              # Startknoten\n",
    "mst = {}                                 # leere Teillösung\n",
    "heap = [(0, None, start)]                # Heap mit Kanten und Kosten\n",
    "summe = 0\n",
    "while heap:\n",
    "    cost, prev, u = heappop(heap)\n",
    "    if u in mst: continue            # Zielknoten schon im Baum?\n",
    "    mst[u] = prev                    # Kante von u nach prev kommt in mst\n",
    "    summe += cost\n",
    "    for v, cost in G[u].items():\n",
    "        heappush(heap, (cost, u, v))\n",
    "\n",
    "print(mst)\n",
    "print('Gesamtkosten: ', summe)\n",
    " "
   ]
  },
  {
   "cell_type": "code",
   "execution_count": null,
   "id": "e1a882fb-380f-4886-a497-6816a424d607",
   "metadata": {},
   "outputs": [],
   "source": []
  }
 ],
 "metadata": {
  "kernelspec": {
   "display_name": "Python 3 (ipykernel)",
   "language": "python",
   "name": "python3"
  },
  "language_info": {
   "codemirror_mode": {
    "name": "ipython",
    "version": 3
   },
   "file_extension": ".py",
   "mimetype": "text/x-python",
   "name": "python",
   "nbconvert_exporter": "python",
   "pygments_lexer": "ipython3",
   "version": "3.11.2"
  }
 },
 "nbformat": 4,
 "nbformat_minor": 5
}
