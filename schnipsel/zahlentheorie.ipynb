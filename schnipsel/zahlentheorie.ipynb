{
 "cells": [
  {
   "cell_type": "markdown",
   "id": "dd88fbec-f46e-49d6-b9e2-2932ab6a76af",
   "metadata": {},
   "source": [
    "### Zahlentheorie\n",
    "\n",
    "#### Summenformeln"
   ]
  },
  {
   "cell_type": "code",
   "execution_count": 1,
   "id": "268a43b0-2ddd-43b3-8f1c-a3fa2961f016",
   "metadata": {},
   "outputs": [
    {
     "data": {
      "text/plain": [
       "5050"
      ]
     },
     "execution_count": 1,
     "metadata": {},
     "output_type": "execute_result"
    }
   ],
   "source": [
    "# Summe der Zahlen von 1 bis n\n",
    "n = 100\n",
    "summe =  n*(n+1)//2\n",
    "summe"
   ]
  },
  {
   "cell_type": "code",
   "execution_count": 4,
   "id": "4cc75173-59d3-44c2-9e4a-dac401dfaa5c",
   "metadata": {},
   "outputs": [
    {
     "data": {
      "text/plain": [
       "1.998046875"
      ]
     },
     "execution_count": 4,
     "metadata": {},
     "output_type": "execute_result"
    }
   ],
   "source": [
    "# Geometrische Summenformel: 1 + r + r^2 + ... r^k\n",
    "r = 0.5\n",
    "k = 10\n",
    "summe = (1 - r ** k) / (1 - r)\n",
    "summe"
   ]
  },
  {
   "cell_type": "markdown",
   "id": "c180b43c-e660-495f-ad87-f078821be103",
   "metadata": {},
   "source": [
    "#### Euklidscher Algorithmus"
   ]
  },
  {
   "cell_type": "code",
   "execution_count": 9,
   "id": "20733433-59e7-45d1-b63e-827db1690d8e",
   "metadata": {},
   "outputs": [
    {
     "data": {
      "text/plain": [
       "6"
      ]
     },
     "execution_count": 9,
     "metadata": {},
     "output_type": "execute_result"
    }
   ],
   "source": [
    "def ggt(a,b):\n",
    "    '''\n",
    "    a, b: positive ganze Zahlen\n",
    "    returns: größten gemeinsamen Teiler von a und b\n",
    "    '''\n",
    "    while b != 0:\n",
    "        a, b = b, a % b\n",
    "    return a\n",
    "\n",
    "ggt(24, 30)"
   ]
  },
  {
   "cell_type": "code",
   "execution_count": 3,
   "id": "d334048c-e00c-4c07-9317-9347882c6e0a",
   "metadata": {},
   "outputs": [
    {
     "data": {
      "text/plain": [
       "6"
      ]
     },
     "execution_count": 3,
     "metadata": {},
     "output_type": "execute_result"
    }
   ],
   "source": [
    "import math\n",
    "math.gcd(24,30)       # ggT"
   ]
  },
  {
   "cell_type": "markdown",
   "id": "108b58c9-28ce-4efe-8197-dea71c0d141b",
   "metadata": {},
   "source": [
    "#### Sieb des Eratosthenes "
   ]
  },
  {
   "cell_type": "code",
   "execution_count": 11,
   "id": "1c80b194-26a0-40e0-9944-8af6873fa8d0",
   "metadata": {},
   "outputs": [
    {
     "name": "stdout",
     "output_type": "stream",
     "text": [
      "[2, 3, 5, 7, 11, 13, 17, 19, 23, 29, 31, 37, 41, 43, 47, 53, 59, 61, 67, 71, 73, 79, 83, 89, 97]\n"
     ]
    }
   ],
   "source": [
    "def eratosthenes(n):\n",
    "    '''\n",
    "    n: positive ganze Zahl\n",
    "    returns: Liste mit allen Primzahlen <= n\n",
    "    '''\n",
    "    tmp = []\n",
    "    prim = [True] * (n+1)\n",
    "    for i in range(2,n+1):\n",
    "        if prim[i]:\n",
    "            tmp.append(i)\n",
    "            for j in range(i+i,n+1,i):\n",
    "                prim[j] = False\n",
    "    return tmp\n",
    "\n",
    "print(eratosthenes(100))"
   ]
  },
  {
   "cell_type": "markdown",
   "id": "c897417c-20d7-4537-9d5b-1b39f6cdf8d7",
   "metadata": {},
   "source": [
    "#### Anzahl der Teiler"
   ]
  },
  {
   "cell_type": "code",
   "execution_count": 13,
   "id": "41445346-86a5-45d1-b8b3-3c7c45448309",
   "metadata": {},
   "outputs": [
    {
     "name": "stdout",
     "output_type": "stream",
     "text": [
      "[1, 1, 2, 2, 3, 2, 4, 2, 4, 3, 4, 2, 6, 2, 4, 4, 5, 2, 6, 2, 6, 4, 4, 2, 8, 3, 4, 4, 6, 2, 8]\n"
     ]
    }
   ],
   "source": [
    "def anzahlTeiler(n):\n",
    "    '''\n",
    "    n: positive ganze Zahl\n",
    "    returns: Liste mit der Anzahl der Teiler aller Zahlen <= n \n",
    "    '''\n",
    "    tmp = [1] * (n+1)\n",
    "    for i in range(2,n+1):\n",
    "        for j in range(i,n+1,i):\n",
    "            tmp[j]+=1\n",
    "    return tmp\n",
    "print(anzahlTeiler(30)) "
   ]
  }
 ],
 "metadata": {
  "kernelspec": {
   "display_name": "Python 3 (ipykernel)",
   "language": "python",
   "name": "python3"
  },
  "language_info": {
   "codemirror_mode": {
    "name": "ipython",
    "version": 3
   },
   "file_extension": ".py",
   "mimetype": "text/x-python",
   "name": "python",
   "nbconvert_exporter": "python",
   "pygments_lexer": "ipython3",
   "version": "3.11.2"
  }
 },
 "nbformat": 4,
 "nbformat_minor": 5
}
