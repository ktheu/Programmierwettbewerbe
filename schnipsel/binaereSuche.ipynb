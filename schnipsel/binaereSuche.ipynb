{
 "cells": [
  {
   "cell_type": "markdown",
   "id": "0cbf226e-e4b4-471d-9278-a5a3e8e6ad98",
   "metadata": {},
   "source": [
    "### Lineare Suche und Binäre Suche\n",
    "\n",
    "#### Lineare Suche"
   ]
  },
  {
   "cell_type": "code",
   "execution_count": 2,
   "id": "2b5a653d-9380-4ab8-804b-34a7aaa2ba7c",
   "metadata": {},
   "outputs": [
    {
     "data": {
      "text/plain": [
       "2"
      ]
     },
     "execution_count": 2,
     "metadata": {},
     "output_type": "execute_result"
    }
   ],
   "source": [
    "# Beispiel: bei welchem Index in der Liste a ist die Zahl, die bei Division durch 5 den größten Rest hat.\n",
    "\n",
    "def lineareSuche(a):\n",
    "    best = None\n",
    "    best_val = None  \n",
    "    for i in range(len(a)):\n",
    "        val = a[i] % 5               \n",
    "        if best_val is None or val > best_val:\n",
    "            best_val = val\n",
    "            best = i                # hier ist der Index gesucht\n",
    "    return best   \n",
    "\n",
    "a = [5,32,14,23,1]\n",
    "lineareSuche(a)"
   ]
  },
  {
   "cell_type": "markdown",
   "id": "2761d864-b5fb-46a2-8fed-aae4168d00ec",
   "metadata": {},
   "source": [
    "#### Binäre Suche "
   ]
  },
  {
   "cell_type": "code",
   "execution_count": 4,
   "id": "fe26a661-3f28-4bce-8303-59a127a2461e",
   "metadata": {},
   "outputs": [
    {
     "data": {
      "text/plain": [
       "4"
      ]
     },
     "execution_count": 4,
     "metadata": {},
     "output_type": "execute_result"
    }
   ],
   "source": [
    "def binaereSuche(a, x):\n",
    "    '''\n",
    "    a: sortierte Liste mit Zahlen\n",
    "    x: Zahl\n",
    "    returns: Index von x in a, falls x in a\n",
    "             -1              , falls x nicht in a\n",
    "    '''\n",
    "    links = 0\n",
    "    rechts = len(a)-1\n",
    "    # mitte = (links + rechts)//2      # in manchen Sprachen Gefahr von overflow\n",
    "    mitte = links + (rechts-links)//2\n",
    "    while links <= rechts and a[mitte] != x:\n",
    "        if a[mitte] < x:\n",
    "            links = mitte + 1\n",
    "        else:\n",
    "            rechts = mitte - 1\n",
    "        mitte = (links + rechts)//2\n",
    "\n",
    "    if links > rechts:\n",
    "        return -1\n",
    "    else:\n",
    "        return mitte\n",
    "\n",
    "a = [2,4,7,8,12,15,17,18,21,22,25]\n",
    "binaereSuche(a,12)"
   ]
  },
  {
   "cell_type": "markdown",
   "id": "7899ae01-5bd8-4ae7-ae37-8d3bf96341be",
   "metadata": {},
   "source": [
    "###  Andere Implementation"
   ]
  },
  {
   "cell_type": "code",
   "execution_count": 2,
   "id": "68799f02-2de7-430e-8460-e0c08417cfab",
   "metadata": {},
   "outputs": [
    {
     "data": {
      "text/plain": [
       "9"
      ]
     },
     "execution_count": 2,
     "metadata": {},
     "output_type": "execute_result"
    }
   ],
   "source": [
    "def binaereSuche(a, target):\n",
    "    '''\n",
    "    a: sortierte Liste mit Zahlen\n",
    "    target: gesuchte Zahl\n",
    "    returns: Index von x in a, falls x in a\n",
    "             -1              , falls x nicht in a\n",
    "    '''\n",
    "    L = 0\n",
    "    R = len(a)-1\n",
    "    while L <= R:  \n",
    "        mid = L + (R-L)//2\n",
    "        if a[mid] == target:\n",
    "            return mid\n",
    "        if a[mid] < target:\n",
    "            L = mid + 1\n",
    "        else:\n",
    "            R = mid - 1\n",
    "    return -1\n",
    "\n",
    "a = [2,4,7,8,12,15,17,18,21,22,25]\n",
    "binaereSuche(a,22)"
   ]
  },
  {
   "cell_type": "markdown",
   "id": "43c2efe8-75d7-425b-8132-658f2ac72cdd",
   "metadata": {},
   "source": [
    "Blick auf Binary Search: Ein Array mit Prefix of False und Suffix of True (oder umgekehrt) und wir suchen die Grenze.\n",
    "Untersuche das mittlere Element. Wenn es die Bedingung erfüllt, speichere es als mögliche Antwort, dann suche in der richtigen Richtung nach einer besseren Antwort."
   ]
  },
  {
   "cell_type": "markdown",
   "id": "6877cd68-6b6c-4d3a-ad77-d299449c20e4",
   "metadata": {},
   "source": [
    "### Lower Bound\n",
    "\n",
    "Target ist die untere Grenze dessen, was wir suchen. Gesucht ist die erste Zahl >= target"
   ]
  },
  {
   "cell_type": "code",
   "execution_count": 8,
   "id": "74462f6f-ea5c-46bb-a583-f8624e73139b",
   "metadata": {},
   "outputs": [
    {
     "name": "stdout",
     "output_type": "stream",
     "text": [
      "[False, False, True, True, True, True]\n"
     ]
    }
   ],
   "source": [
    "target = 4\n",
    "a = [2,3,5,6,10,12]\n",
    "b = [x > target for x in a]\n",
    "print(b)"
   ]
  },
  {
   "cell_type": "markdown",
   "id": "ed335b08-3f41-4d77-b1e6-37b11aa4d9f2",
   "metadata": {},
   "source": [
    "Wenn wir auf ein True stoßen, speichern wir das als Antwort *ans* und versuchen links davon noch ein bessere True zu finden."
   ]
  },
  {
   "cell_type": "code",
   "execution_count": 12,
   "id": "9d7a3e66-1db8-4096-8da7-febc0073eeb6",
   "metadata": {},
   "outputs": [
    {
     "data": {
      "text/plain": [
       "6"
      ]
     },
     "execution_count": 12,
     "metadata": {},
     "output_type": "execute_result"
    }
   ],
   "source": [
    "def binaereSuche(a, target):\n",
    "    L = 0\n",
    "    R = len(a)-1\n",
    "    ans = -1\n",
    "    while L <= R:  \n",
    "        mid = L + (R-L)//2\n",
    "        if a[mid] >= target:\n",
    "            ans = mid\n",
    "            R = mid - 1            # links ein besseres True suchen\n",
    "        else:\n",
    "            L = mid + 1\n",
    "    return ans\n",
    "\n",
    "a = [2,4,7,8,12,15,17,18,21,22,25]\n",
    "binaereSuche(a,16)"
   ]
  },
  {
   "cell_type": "markdown",
   "id": "80361c07-34cf-476f-a32a-725d32e9bee2",
   "metadata": {},
   "source": [
    "Binary Search findet die Grenze zwischen False and True in einem Array."
   ]
  },
  {
   "cell_type": "markdown",
   "id": "f4e751bc-2b0d-48ed-87f9-7b47a778e9dd",
   "metadata": {},
   "source": [
    "#### Rotated Array\n",
    "\n",
    "Ein sortieretes Array wurde an einer unbekannten Stelle rotiert. Wir wollen den Rotationspunkt bestimmen. Wenn wir auf True stoßen, speicher wir die Antwort in *ans* und versuchen links ein besseres True zu finden."
   ]
  },
  {
   "cell_type": "code",
   "execution_count": 13,
   "id": "9f3f959c-064e-4a8a-8c28-094dc8562b46",
   "metadata": {},
   "outputs": [
    {
     "name": "stdout",
     "output_type": "stream",
     "text": [
      "[True, True, True, False, False, False]\n"
     ]
    }
   ],
   "source": [
    "a = [6,10,12,2,3,5]\n",
    "b = [x > a[-1] for x in a]\n",
    "print(b)"
   ]
  },
  {
   "cell_type": "code",
   "execution_count": 21,
   "id": "b4399b11-74b8-4e63-bcad-267c1ecd38bc",
   "metadata": {},
   "outputs": [
    {
     "data": {
      "text/plain": [
       "2"
      ]
     },
     "execution_count": 21,
     "metadata": {},
     "output_type": "execute_result"
    }
   ],
   "source": [
    "def binaereSuche(a):\n",
    "    L = 0\n",
    "    R = len(a)-1\n",
    "    ans = -1\n",
    "    while L <= R:  \n",
    "        mid = L + (R-L)//2\n",
    "        if a[mid] > a[-1]:\n",
    "            ans = mid\n",
    "            L = mid + 1            # links ein besseres True suchen\n",
    "        else:\n",
    "            R = mid - 1\n",
    "    return ans\n",
    "\n",
    "a = [6,10,12,2,3,5]\n",
    "binaereSuche(a)"
   ]
  },
  {
   "cell_type": "markdown",
   "id": "eda07e5a-3b5c-45f1-b72e-f3286e42445f",
   "metadata": {},
   "source": [
    "#### Maximum \n",
    "Suche das Maximum n einem array, das steigt und dann wieder fällt."
   ]
  },
  {
   "cell_type": "code",
   "execution_count": 26,
   "id": "df410392-829e-4c4c-a658-bd0fc287d6ca",
   "metadata": {},
   "outputs": [
    {
     "data": {
      "text/plain": [
       "[True, True, True, True, True, False, False, False, False, False]"
      ]
     },
     "execution_count": 26,
     "metadata": {},
     "output_type": "execute_result"
    }
   ],
   "source": [
    "a = [2,3,4,6,9,12,11,8,6,4,1]\n",
    "b = [a[i-1]<a[i] for i in range(1,len(a))]   # das erste Element kann eine mögliche Anwort sein\n",
    "b"
   ]
  },
  {
   "cell_type": "code",
   "execution_count": 29,
   "id": "7dc8feca-8d39-4fc9-9f6e-c35ecddcc6ba",
   "metadata": {},
   "outputs": [
    {
     "data": {
      "text/plain": [
       "5"
      ]
     },
     "execution_count": 29,
     "metadata": {},
     "output_type": "execute_result"
    }
   ],
   "source": [
    "def binaereSuche(a):\n",
    "    L = 0\n",
    "    R = len(a)-1\n",
    "    ans = -1\n",
    "    while L <= R:  \n",
    "        mid = L + (R-L)//2\n",
    "        if mid == 0 or a[mid] > a[mid-1]:  # auch das erste Element kann eine mögliche Antwort sein\n",
    "            ans = mid\n",
    "            L = mid + 1            # links ein besseres True suchen\n",
    "        else:\n",
    "            R = mid - 1\n",
    "    return ans\n",
    "\n",
    "a = [2,3,4,6,9,12,11,8,6,4,1]\n",
    "binaereSuche(a)"
   ]
  },
  {
   "cell_type": "markdown",
   "id": "5342c7dd-5b1c-4813-b1be-5ccf776f4d0d",
   "metadata": {},
   "source": [
    "#### Quadratwurzel"
   ]
  },
  {
   "cell_type": "code",
   "execution_count": 34,
   "id": "b8706f9e-9ff6-4cbd-826f-441430f4c4ac",
   "metadata": {},
   "outputs": [
    {
     "data": {
      "text/plain": [
       "1.4142135619185865"
      ]
     },
     "execution_count": 34,
     "metadata": {},
     "output_type": "execute_result"
    }
   ],
   "source": [
    "def binaereSuche(x, eps):\n",
    "    L = 0\n",
    "    R = x\n",
    "    while R-L > eps:\n",
    "        mid = L + (R-L)/2\n",
    "        if mid*mid < x:\n",
    "            L = mid\n",
    "        else:\n",
    "            R = mid\n",
    "    return   L + (R-L)/2\n",
    "\n",
    "binaereSuche(2,0.000000001)"
   ]
  },
  {
   "cell_type": "code",
   "execution_count": null,
   "id": "a9d40845-9e53-45d9-a145-225574de5e39",
   "metadata": {},
   "outputs": [],
   "source": []
  }
 ],
 "metadata": {
  "kernelspec": {
   "display_name": "Python 3 (ipykernel)",
   "language": "python",
   "name": "python3"
  },
  "language_info": {
   "codemirror_mode": {
    "name": "ipython",
    "version": 3
   },
   "file_extension": ".py",
   "mimetype": "text/x-python",
   "name": "python",
   "nbconvert_exporter": "python",
   "pygments_lexer": "ipython3",
   "version": "3.11.2"
  }
 },
 "nbformat": 4,
 "nbformat_minor": 5
}
