{
 "cells": [
  {
   "cell_type": "markdown",
   "id": "0cbf226e-e4b4-471d-9278-a5a3e8e6ad98",
   "metadata": {},
   "source": [
    "### Lineare Suche und Binäre Suche\n",
    "\n",
    "#### Lineare Suche"
   ]
  },
  {
   "cell_type": "code",
   "execution_count": 2,
   "id": "2b5a653d-9380-4ab8-804b-34a7aaa2ba7c",
   "metadata": {},
   "outputs": [
    {
     "data": {
      "text/plain": [
       "2"
      ]
     },
     "execution_count": 2,
     "metadata": {},
     "output_type": "execute_result"
    }
   ],
   "source": [
    "# Beispiel: bei welchem Index in der Liste a ist die Zahl, die bei Division durch 5 den größten Rest hat.\n",
    "\n",
    "def lineareSuche(a):\n",
    "    best = None\n",
    "    best_val = None  \n",
    "    for i in range(len(a)):\n",
    "        val = a[i] % 5               \n",
    "        if best_val is None or val > best_val:\n",
    "            best_val = val\n",
    "            best = i                # hier ist der Index gesucht\n",
    "    return best   \n",
    "\n",
    "a = [5,32,14,23,1]\n",
    "lineareSuche(a)"
   ]
  },
  {
   "cell_type": "markdown",
   "id": "2761d864-b5fb-46a2-8fed-aae4168d00ec",
   "metadata": {},
   "source": [
    "#### Binäre Suche "
   ]
  },
  {
   "cell_type": "code",
   "execution_count": 4,
   "id": "fe26a661-3f28-4bce-8303-59a127a2461e",
   "metadata": {},
   "outputs": [
    {
     "data": {
      "text/plain": [
       "4"
      ]
     },
     "execution_count": 4,
     "metadata": {},
     "output_type": "execute_result"
    }
   ],
   "source": [
    "def binaereSuche(a, x):\n",
    "    '''\n",
    "    a: sortierte Liste mit Zahlen\n",
    "    x: Zahl\n",
    "    returns: Index von x in a, falls x in a\n",
    "             -1              , falls x nicht in a\n",
    "    '''\n",
    "    links = 0\n",
    "    rechts = len(a)-1\n",
    "    mitte = (links + rechts)//2\n",
    "    while links <= rechts and a[mitte] != x:\n",
    "        if a[mitte] < x:\n",
    "            links = mitte + 1\n",
    "        else:\n",
    "            rechts = mitte - 1\n",
    "        mitte = (links + rechts)//2\n",
    "\n",
    "    if links > rechts:\n",
    "        return -1\n",
    "    else:\n",
    "        return mitte\n",
    "\n",
    "a = [2,4,7,8,12,15,17,18,21,22,25]\n",
    "binaereSuche(a,12)"
   ]
  },
  {
   "cell_type": "code",
   "execution_count": null,
   "id": "68799f02-2de7-430e-8460-e0c08417cfab",
   "metadata": {},
   "outputs": [],
   "source": []
  }
 ],
 "metadata": {
  "kernelspec": {
   "display_name": "Python 3 (ipykernel)",
   "language": "python",
   "name": "python3"
  },
  "language_info": {
   "codemirror_mode": {
    "name": "ipython",
    "version": 3
   },
   "file_extension": ".py",
   "mimetype": "text/x-python",
   "name": "python",
   "nbconvert_exporter": "python",
   "pygments_lexer": "ipython3",
   "version": "3.11.2"
  }
 },
 "nbformat": 4,
 "nbformat_minor": 5
}
