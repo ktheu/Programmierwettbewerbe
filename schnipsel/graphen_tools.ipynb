{
 "cells": [
  {
   "cell_type": "markdown",
   "id": "78c424a2-00d3-4fbf-a14e-3b84195edebe",
   "metadata": {},
   "source": [
    "### Graphen Tools\n",
    "\n",
    "Die Funktionen setzen Graphen adj als Adjazenlisten voraus"
   ]
  },
  {
   "cell_type": "code",
   "execution_count": 41,
   "id": "574382b2-fb66-4567-8a1d-eccfe1274824",
   "metadata": {},
   "outputs": [],
   "source": [
    "def createAdj(filename, directed = True, weighted = True):\n",
    "    stdin = open(filename)\n",
    "    n, m = map(int, stdin.readline().split())   # n Knoten, m Kanten   \n",
    "    adj = [[] for i in range(n+1)]              # Knoten starten bei 1        \n",
    "\n",
    "    if not weighted:\n",
    "        for i in range(m):                   # Kante von u nach v mit Kosten c               \n",
    "            u, v = map(int, stdin.readline().split())    \n",
    "            adj[u].append((v,c))\n",
    "            if not directed:\n",
    "                adj[v].append((u,c))\n",
    "    else:\n",
    "        for i in range(m):                   # Kante von u nach v mit Kosten c               \n",
    "            u, v, c = map(int, stdin.readline().split())    \n",
    "            adj[u].append((v,c))\n",
    "            if not directed:\n",
    "                adj[v].append((u,c))\n",
    "    return adj\n",
    "   \n",
    "    "
   ]
  },
  {
   "cell_type": "code",
   "execution_count": 61,
   "id": "4c4a4036-65b3-4d3d-b3ed-acf4fac11607",
   "metadata": {},
   "outputs": [],
   "source": [
    "def topoSort(adj, weighted = True):\n",
    "    '''\n",
    "    adj: Eine Ajazenzliste, entweder gewichtet oder ungewichtet\n",
    "    returns: Liste mit topologischer Sortierung\n",
    "    '''\n",
    "    def dfs(v):\n",
    "        nonlocal counter\n",
    "        visited[v] = True\n",
    "        if weighted:\n",
    "            for w,c in adj[v]:\n",
    "                if not visited[w]:\n",
    "                    dfs(w)\n",
    "        else:\n",
    "           for w in adj[v]:\n",
    "                if not visited[w]:\n",
    "                    dfs(w)\n",
    "            \n",
    "        postvisit[v] = counter\n",
    "        counter += 1\n",
    "\n",
    "    n = len(adj)\n",
    "    visited = [False for i in range(1,n+1)]\n",
    "    postvisit = [0 for i in range(1,n+1)]\n",
    "    counter = 1\n",
    "    \n",
    "    for v in range(1,n):\n",
    "        if not visited[v] :\n",
    "            dfs(v)\n",
    "    return  sorted(range(1,n),key=lambda v: postvisit[v],reverse = True)\n"
   ]
  },
  {
   "cell_type": "code",
   "execution_count": 60,
   "id": "8497237e-ad1f-4928-a948-a1bc43c27b41",
   "metadata": {},
   "outputs": [
    {
     "data": {
      "text/plain": [
       "[3, 1, 7, 4, 8, 5, 2, 6]"
      ]
     },
     "execution_count": 60,
     "metadata": {},
     "output_type": "execute_result"
    }
   ],
   "source": [
    "adj = createAdj('input.txt')\n",
    "topoSort(adj)"
   ]
  },
  {
   "cell_type": "code",
   "execution_count": null,
   "id": "162b86d0-02ef-4686-99f4-2febc010c3a7",
   "metadata": {},
   "outputs": [],
   "source": []
  }
 ],
 "metadata": {
  "kernelspec": {
   "display_name": "Python 3 (ipykernel)",
   "language": "python",
   "name": "python3"
  },
  "language_info": {
   "codemirror_mode": {
    "name": "ipython",
    "version": 3
   },
   "file_extension": ".py",
   "mimetype": "text/x-python",
   "name": "python",
   "nbconvert_exporter": "python",
   "pygments_lexer": "ipython3",
   "version": "3.11.2"
  }
 },
 "nbformat": 4,
 "nbformat_minor": 5
}
