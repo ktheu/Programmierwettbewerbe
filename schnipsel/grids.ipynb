{
 "cells": [
  {
   "cell_type": "markdown",
   "id": "1fd8b3bb-8309-48da-9191-26bc897cc836",
   "metadata": {},
   "source": [
    "### Grids\n",
    "\n",
    "Grids werden meist in der folgenden Form gegeben."
   ]
  },
  {
   "cell_type": "code",
   "execution_count": 31,
   "id": "9b2afbc4-4f44-490b-baea-2778ace27ad7",
   "metadata": {},
   "outputs": [
    {
     "name": "stdout",
     "output_type": "stream",
     "text": [
      "Overwriting input.txt\n"
     ]
    }
   ],
   "source": [
    "%%writefile input.txt\n",
    "10 10\n",
    "####.###..\n",
    "#.######.#\n",
    "##.######.\n",
    "###.###..#\n",
    "##.####..#\n",
    "#####..###\n",
    "#.########\n",
    "#.####.#.#\n",
    "#####..##.\n",
    "######.###"
   ]
  },
  {
   "cell_type": "markdown",
   "id": "4612728d-7a3f-458e-abfd-f460f95f901f",
   "metadata": {},
   "source": [
    "#### Daten einlesen"
   ]
  },
  {
   "cell_type": "code",
   "execution_count": 36,
   "id": "3bd53ee0-e8f1-46dc-aeb4-fc0941053fda",
   "metadata": {},
   "outputs": [],
   "source": [
    "from sys import stdin\n",
    "stdin = open(\"input.txt\", \"r\")\n",
    "n, m = map(int, stdin.readline().split())    # Anzahl Zeilen, Spalten"
   ]
  },
  {
   "cell_type": "markdown",
   "id": "b700874a-cbe9-4d4f-9f4b-32eed1784c2f",
   "metadata": {},
   "source": [
    "Manchmal reicht es, nur die begehbaren und besuchten Positionen zu verwalten. Das können wir mit der Matrix *vis* erreichen."
   ]
  },
  {
   "cell_type": "code",
   "execution_count": 22,
   "id": "95b47fa3-1e32-4d80-a090-bc96501f35d9",
   "metadata": {},
   "outputs": [],
   "source": [
    "vis = [[False]*m for _ in range(n)]          # die besuchten Positionen bzw. Wand\n",
    "for i in range(n):\n",
    "    row = stdin.readline()\n",
    "    for j in range(m):\n",
    "        if row[j] == '#':\n",
    "            vis[i][j] = True"
   ]
  },
  {
   "cell_type": "markdown",
   "id": "ecb6c150-3011-4dc3-addd-f13726f32249",
   "metadata": {},
   "source": [
    "Manchmal benötigen wir Zugriff auf alle Zeichen des grids."
   ]
  },
  {
   "cell_type": "code",
   "execution_count": 37,
   "id": "8d30b5c4-8f10-4670-9c26-e8649b0d2edd",
   "metadata": {},
   "outputs": [
    {
     "data": {
      "text/plain": [
       "[['#', '#', '#', '#', '.', '#', '#', '#', '.', '.'],\n",
       " ['#', '.', '#', '#', '#', '#', '#', '#', '.', '#'],\n",
       " ['#', '#', '.', '#', '#', '#', '#', '#', '#', '.'],\n",
       " ['#', '#', '#', '.', '#', '#', '#', '.', '.', '#'],\n",
       " ['#', '#', '.', '#', '#', '#', '#', '.', '.', '#'],\n",
       " ['#', '#', '#', '#', '#', '.', '.', '#', '#', '#'],\n",
       " ['#', '.', '#', '#', '#', '#', '#', '#', '#', '#'],\n",
       " ['#', '.', '#', '#', '#', '#', '.', '#', '.', '#'],\n",
       " ['#', '#', '#', '#', '#', '.', '.', '#', '#', '.'],\n",
       " ['#', '#', '#', '#', '#', '#', '.', '#', '#', '#']]"
      ]
     },
     "execution_count": 37,
     "metadata": {},
     "output_type": "execute_result"
    }
   ],
   "source": [
    "grid = [['']*m for _ in range(n)]            # alle Zeichen des grids im Zugriff\n",
    "for i in range(n):\n",
    "    row = stdin.readline()\n",
    "    for j in range(m):\n",
    "        grid[i][j] = row[j]\n",
    "\n",
    "grid"
   ]
  },
  {
   "cell_type": "markdown",
   "id": "4bc38ab8-27b0-4820-8020-8845907c8187",
   "metadata": {},
   "source": [
    "#### Die Nachbarn besuchen\n",
    "\n",
    "Die Nachbarschaft kann man mit einer Tuple-Liste *dirs* erreichen oder (etwas schneller) mit zwei Richtungslisten *dx* und *dy*."
   ]
  },
  {
   "cell_type": "code",
   "execution_count": 38,
   "id": "e003af94-c867-48c0-b0b0-2c2665f459f8",
   "metadata": {},
   "outputs": [],
   "source": [
    "x, y = 0, 8\n",
    "dirs = [(1,0),(-1,0),(0,1),(0,-1)]\n",
    "\n",
    "for xd, yd in dirs:\n",
    "    x1 = x + xd\n",
    "    y1 = y + yd\n",
    "    if 0 <= x1 < n and 0 <= y1 < m and not vis[x1][y1]:\n",
    "        vis[x1][y1] = True\n",
    "        print(x1,y1)"
   ]
  },
  {
   "cell_type": "code",
   "execution_count": null,
   "id": "1371a47c-c1bd-477e-8789-7b8777996080",
   "metadata": {},
   "outputs": [],
   "source": [
    "x, y = 0, 8\n",
    "dx = [1,-1,0,0]                          # mögliche Richtungen\n",
    "dy = [0,0,1,-1]\n",
    "\n",
    "for i in range(4):\n",
    "    x1 = x + dx[i]\n",
    "    y1 = y + dy[i]\n",
    "    if 0 <= x1 < n and 0 <= y1 < m and not vis[x1][y1]:\n",
    "        vis[x1][y1] = True\n",
    "        print(x1,y1)"
   ]
  },
  {
   "cell_type": "markdown",
   "id": "22f5b85b-69d9-47fb-99d4-88b84e597860",
   "metadata": {},
   "source": [
    "#### Tiefensuche - dfs\n"
   ]
  },
  {
   "cell_type": "code",
   "execution_count": null,
   "id": "e4f3fff1-463f-4cc6-a4ed-5875470e2308",
   "metadata": {},
   "outputs": [],
   "source": [
    "# iteratives dfs\n",
    "def dfs(x, y):\n",
    "    vis[x][y] = True\n",
    "    stack = [(x, y)]\n",
    "    while stack:\n",
    "        x, y = stack.pop()\n",
    "        # nochwas machen?\n",
    "        for xd, yd in dirs:\n",
    "            x1, y1 = x + xd, y + yd\n",
    "            if 0 <= x1 < n and 0 <= y1 < m and not vis[x1][y1]:\n",
    "                vis[x1][y1] = True\n",
    "                stack.append((x1, y1))"
   ]
  },
  {
   "cell_type": "code",
   "execution_count": 40,
   "id": "e6ee033b-490c-49d1-a454-f09c4c3c1f9a",
   "metadata": {},
   "outputs": [],
   "source": [
    "# rekursives dfs\n",
    "\n",
    "def dfs(x, y):\n",
    "    # nochwas machen: previsit \n",
    "    vis[x][y] = True\n",
    "    for xd, yd in dirs:\n",
    "        x1, y1 = x + xd, y + yd\n",
    "        if 0 <= x1 < n and 0 <= y1 < m and not vis[x1][y1]:\n",
    "            dfs(x1, y1)\n",
    "    # nochwas machen: postvisit\n"
   ]
  },
  {
   "cell_type": "markdown",
   "id": "bc21c3f8-cdd5-40d4-8f1f-2cf9000eefdf",
   "metadata": {},
   "source": [
    "#### Breitensuche - bfs\n",
    "\n",
    "Mit der Breitensuche wollen wir häufig den kürzesten Weg finden. Dazu verwalten wir die Vorgänger in einer\n",
    "Matrix pre. Daraus rekonstruieren wir uns den Weg zwischen zwei Positionen"
   ]
  },
  {
   "cell_type": "code",
   "execution_count": 50,
   "id": "e0062747-cacf-495d-b42a-99711f014c66",
   "metadata": {},
   "outputs": [
    {
     "data": {
      "text/plain": [
       "[(4, 8), (3, 8), (3, 7)]"
      ]
     },
     "execution_count": 50,
     "metadata": {},
     "output_type": "execute_result"
    }
   ],
   "source": [
    "from collections import deque\n",
    "from sys import stdin\n",
    "stdin = open(\"input.txt\", \"r\")\n",
    "\n",
    "def bfs(x, y):\n",
    "    vis[x][y] = True\n",
    "    queue = deque([(x, y)])\n",
    "    while queue:\n",
    "        x, y = queue.popleft()\n",
    "        # nochwas machen?\n",
    "        for xd, yd in dirs:\n",
    "            x1, y1 = x + xd, y + yd\n",
    "            if 0 <= x1 < n and 0 <= y1 < m and not vis[x1][y1]:\n",
    "                vis[x1][y1] = True\n",
    "                pre[x1][y1] = (x,y)   \n",
    "                queue.append((x1, y1))\n",
    "\n",
    "def reconstructPath(von,bis):\n",
    "    ''' von, bis: Tuple mit Koordinaten '''\n",
    "    x1, y1 = von\n",
    "    x2, y2 = bis\n",
    "    path = [bis]\n",
    "    while x2 != x1 or y2 != y1:\n",
    "        x2, y2 = pre[x2][y2]\n",
    "        path.append((x2,y2))\n",
    "    path.reverse()\n",
    "    return path\n",
    "\n",
    "n, m = map(int, stdin.readline().split())\n",
    "\n",
    "vis = [[False]*m for _ in range(n)]   \n",
    "pre = [[None]*m for _ in range(n)]\n",
    "dirs = [(1,0),(-1,0),(0,1),(0,-1)]\n",
    "\n",
    "for i in range(n):\n",
    "    row = stdin.readline()\n",
    "    for j in range(m):\n",
    "        if row[j] == '#':\n",
    "            vis[i][j] = True\n",
    "\n",
    "bfs(4,8)\n",
    "\n",
    "von = (4,8)\n",
    "bis = (3,7)\n",
    "reconstructPath(von,bis)"
   ]
  },
  {
   "cell_type": "markdown",
   "id": "53569cd0-4ceb-4b44-a5ad-58bddbcbf29b",
   "metadata": {},
   "source": [
    "#### Zeilen oder Spalten in einem Grid löschen"
   ]
  },
  {
   "cell_type": "code",
   "execution_count": null,
   "id": "7562779d-b9fc-40e0-9bd7-b5af39acbef1",
   "metadata": {},
   "outputs": [],
   "source": [
    "def delete_col(grid,k):\n",
    "    ''' deletes inplace column k '''\n",
    "    for row in grid:\n",
    "        del row[k]\n",
    "\n",
    "def delete_row(grid,k):\n",
    "    ''' deletes inplace row k '''\n",
    "    del grid[k]"
   ]
  },
  {
   "cell_type": "markdown",
   "id": "9edd4d3b-c14e-44d5-8c25-421f99e5ecb3",
   "metadata": {},
   "source": [
    "-----\n",
    "\n",
    "C++"
   ]
  },
  {
   "cell_type": "code",
   "execution_count": null,
   "id": "504f253e-a7c9-4ec9-8251-7bf157807ef8",
   "metadata": {},
   "outputs": [],
   "source": [
    "char c;\n",
    "int n, m;\n",
    "int h[] = {1, -1, 0, 0}, v[] = {0, 0, 1, -1};\n",
    "bool vis[1000][1000];\n",
    "int main() {\n",
    "    cin >> n >> m;\n",
    "    for (int i = 0; i < n; i++) {\n",
    "        for (int j = 0; j < m; j++) {\n",
    "            cin >> c;\n",
    "            vis[i][j] = (c == '#');\n",
    "        }\n",
    "    }\n",
    "}"
   ]
  },
  {
   "cell_type": "code",
   "execution_count": null,
   "id": "75e47705-2e35-4575-b328-792e55f1f65b",
   "metadata": {},
   "outputs": [],
   "source": [
    "// Die Nachbarschaft besuchen\n",
    "for (int i = 0; i < 4; i++) {\n",
    "    int x1 = x + h[i], y1 = y + v[i];\n",
    "    if (0 <= x1 && x1 < n && 0 <= y1 && y1 < m && !vis[x1][y1]) {\n",
    "        cout << x1 << \" \" << y1 << endl;\n",
    "    }\n",
    "}"
   ]
  }
 ],
 "metadata": {
  "kernelspec": {
   "display_name": "Python 3 (ipykernel)",
   "language": "python",
   "name": "python3"
  },
  "language_info": {
   "codemirror_mode": {
    "name": "ipython",
    "version": 3
   },
   "file_extension": ".py",
   "mimetype": "text/x-python",
   "name": "python",
   "nbconvert_exporter": "python",
   "pygments_lexer": "ipython3",
   "version": "3.11.2"
  }
 },
 "nbformat": 4,
 "nbformat_minor": 5
}
