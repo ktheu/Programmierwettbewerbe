{
 "cells": [
  {
   "cell_type": "markdown",
   "id": "d2266cb9-0fb0-4b9d-bb3e-bc7326565c2c",
   "metadata": {},
   "source": [
    "### Bit-Operationen"
   ]
  },
  {
   "cell_type": "code",
   "execution_count": 8,
   "id": "aa8e6182-1494-4aed-96a3-d78e7b9b5d0c",
   "metadata": {},
   "outputs": [
    {
     "name": "stdout",
     "output_type": "stream",
     "text": [
      "0b1110\n",
      "4\n",
      "13\n"
     ]
    }
   ],
   "source": [
    "x = 14\n",
    "print(bin(x))            # bit-String\n",
    "print(x.bit_length())    # Anzahl benötigter Bits für int x\n",
    "print(int('0b1101',2))   # Binärstring in int umwandeln"
   ]
  },
  {
   "cell_type": "code",
   "execution_count": 13,
   "id": "eb1a6511-8cc9-46b4-81d2-ffbdffdc1a7f",
   "metadata": {},
   "outputs": [
    {
     "name": "stdout",
     "output_type": "stream",
     "text": [
      "1024\n",
      "0b10000000000\n"
     ]
    }
   ],
   "source": [
    "k = 1\n",
    "k <<= 10  # die 1 wird um 10 Stellen nach links verschoben\n",
    "print(k)\n",
    "print(bin(k)) "
   ]
  },
  {
   "cell_type": "code",
   "execution_count": 16,
   "id": "a6fe297e-3b84-42dc-9d83-ce07bebaf724",
   "metadata": {},
   "outputs": [
    {
     "name": "stdout",
     "output_type": "stream",
     "text": [
      "0b10110000\n"
     ]
    }
   ],
   "source": [
    "k = 0b1011   \n",
    "k <<=4           # das Bitmuster für k wird um 4 Stellen nach links verschoben: k = k* (2**4)\n",
    "print(bin(k))"
   ]
  },
  {
   "cell_type": "code",
   "execution_count": 38,
   "id": "2fc86ed2-d025-4fd8-a14a-3c85fe8f8b8a",
   "metadata": {},
   "outputs": [
    {
     "name": "stdout",
     "output_type": "stream",
     "text": [
      "0b1011101\n",
      "0b1000\n",
      "0b1010101\n"
     ]
    }
   ],
   "source": [
    "k = 0b1001100\n",
    "a = 0b11001\n",
    "\n",
    "print(bin(k | a))  # die Bits mit oder verbinden\n",
    "print(bin(k & a))  # die Bits mit und  verbinden\n",
    "print(bin(k ^ a))  # die Bits mit xor  verbinden "
   ]
  },
  {
   "cell_type": "code",
   "execution_count": 43,
   "id": "9ba62e6c-1804-4bcf-b4cc-61794a799fb6",
   "metadata": {},
   "outputs": [
    {
     "name": "stdout",
     "output_type": "stream",
     "text": [
      "0b100\n",
      "0b110\n",
      "0b11\n"
     ]
    }
   ],
   "source": [
    "# die Bits an bestimmten Stellen\n",
    "k = 0b1001100 \n",
    "print(bin(k & 0b111))        # die drei letzten Stellen\n",
    "print(bin(k >> 1 & 0b111))   # die drei letzten Stellen, dann 1 nach links\n",
    "print(bin(k >> 2 & 0b111))   # die drei letzten Stellen, dann 2 nach links"
   ]
  },
  {
   "cell_type": "code",
   "execution_count": 28,
   "id": "1048c562-53e9-45ca-afdd-216650a124e7",
   "metadata": {},
   "outputs": [
    {
     "name": "stdout",
     "output_type": "stream",
     "text": [
      "0 3 2 2 0 3 2 1 "
     ]
    }
   ],
   "source": [
    "# die Bits in 2er-Portionen von rechts nach links lesen\n",
    "k = 0b110110010101100\n",
    "for i in range(0,k.bit_length(),2):\n",
    "    c = (k >> i) & 0b11\n",
    "    print(c, end=' ')"
   ]
  },
  {
   "cell_type": "code",
   "execution_count": null,
   "id": "1a754fb1-646b-46a3-974d-917f37aed298",
   "metadata": {},
   "outputs": [],
   "source": []
  }
 ],
 "metadata": {
  "kernelspec": {
   "display_name": "Python 3 (ipykernel)",
   "language": "python",
   "name": "python3"
  },
  "language_info": {
   "codemirror_mode": {
    "name": "ipython",
    "version": 3
   },
   "file_extension": ".py",
   "mimetype": "text/x-python",
   "name": "python",
   "nbconvert_exporter": "python",
   "pygments_lexer": "ipython3",
   "version": "3.11.2"
  }
 },
 "nbformat": 4,
 "nbformat_minor": 5
}
