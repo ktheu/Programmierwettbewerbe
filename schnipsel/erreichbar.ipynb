{
 "cells": [
  {
   "cell_type": "markdown",
   "id": "ee4a6dc8-1d75-4172-b529-7df6a7157a69",
   "metadata": {},
   "source": [
    "### Erreichbarkeit, Zusammenhangskomponenten, Topologische Sortierung\n",
    "\n",
    "#### Erreichbarkeit\n",
    "\n",
    "Erreichbarkeit wird mittels Tiefensuche festgestellt in $O(|V|)+O(|E|)$.\n"
   ]
  },
  {
   "cell_type": "code",
   "execution_count": 6,
   "id": "a02956bd-bba8-4e58-aff5-bdb76914f48b",
   "metadata": {},
   "outputs": [
    {
     "data": {
      "text/plain": [
       "['a', 'b', 'c']"
      ]
     },
     "execution_count": 6,
     "metadata": {},
     "output_type": "execute_result"
    }
   ],
   "source": [
    "G = {'a':set('bc'),\n",
    "     'b':set(), \n",
    "     'c':set(),\n",
    "     'd':set('b')}\n",
    "\n",
    "visited =  {v : False for v in G}       \n",
    "def explore(v):  \n",
    "    visited[v] = True\n",
    "    for w in G[v]:\n",
    "        if not visited[w]:\n",
    "            explore(w) \n",
    "            \n",
    "explore('a')\n",
    "result = [v for v in G if visited[v]] \n",
    "result"
   ]
  },
  {
   "cell_type": "markdown",
   "id": "3861ec1d-760b-4ca2-9d36-965594d9dcf2",
   "metadata": {},
   "source": [
    "#### Zusammenhangskomponenten in einem ungerichteten Graphen"
   ]
  },
  {
   "cell_type": "code",
   "execution_count": 7,
   "id": "567b72ab-63a6-4017-81a1-27ea2a088f44",
   "metadata": {},
   "outputs": [
    {
     "name": "stdout",
     "output_type": "stream",
     "text": [
      "1 - a b\n",
      "2 - c d\n"
     ]
    }
   ],
   "source": [
    "G = {'a':set('b'),\n",
    "     'b':set('a'), \n",
    "     'c':set('d'),\n",
    "     'd':set('c')}\n",
    "\n",
    "def explore(v):\n",
    "    visited[v] = True\n",
    "    ccnum[v] = cc\n",
    "    for w in G[v]:\n",
    "        if not visited[w]:\n",
    "            explore(w)\n",
    "\n",
    "visited = {v : False for v in G}\n",
    "ccnum = {v : 0 for v in G}     # connected component nr von v\n",
    "cc = 1                         # aktuelle connected component nr\n",
    "for v in G:\n",
    "    if not visited[v] :\n",
    "        explore(v)\n",
    "        cc+=1\n",
    "\n",
    "for i in range(1,cc):\n",
    "    result = [v for v in G if visited[v] and ccnum[v] == i]\n",
    "    print(i,'-',*result)"
   ]
  },
  {
   "cell_type": "markdown",
   "id": "17b49eed-5b8c-4558-a508-1906d57e4160",
   "metadata": {},
   "source": [
    "#### Starke Zusammenhangskomponenten \n",
    "\n",
    "In einem gerichteten Graphen heißen zwei Knoten u und v (stark) zusammenhängend, wenn u von v und v von u erreichbar ist.\n",
    "\n",
    "<img src='./img/graphen_17.png'>\n",
    "\n",
    "[Video](https://www.youtube.com/watch?v=qm82ypRnOjI&list=PLWeMgMhRDsIHVtFQLF07HdrmbLI7dARgs&index=5)"
   ]
  },
  {
   "cell_type": "code",
   "execution_count": 9,
   "id": "a966d62d-2061-4cbb-9684-f0fc0d3407d1",
   "metadata": {},
   "outputs": [
    {
     "name": "stdout",
     "output_type": "stream",
     "text": [
      "1 - f\n",
      "2 - h i\n",
      "3 - g\n",
      "4 - a b c e\n",
      "5 - d\n"
     ]
    }
   ],
   "source": [
    "G = {\n",
    "'a': set('b'),\n",
    "'b': set('ef'),\n",
    "'c': set('b'),\n",
    "'d': set('ag'),\n",
    "'e': set('ach'),\n",
    "'f': set(),\n",
    "'g': set('h'),\n",
    "'h': set('i'),\n",
    "'i': set('fh')\n",
    "}\n",
    "\n",
    "# explore reverse Graph, merke postvisit nr\n",
    "def exploreR(v):\n",
    "    global counter\n",
    "    visited[v] = True\n",
    "    for w in Gr[v]:\n",
    "        if not visited[w]:\n",
    "            exploreR(w)\n",
    "    postvisit[v] = counter\n",
    "    counter+=1\n",
    "\n",
    "# explore Graph, merke connected component number\n",
    "def explore(v):\n",
    "    visited[v] = True\n",
    "    ccnum[v] = cc\n",
    "    for w in G[v]:\n",
    "        if not visited[w]:\n",
    "            explore(w)\n",
    "\n",
    "# Gr ist der reverse Graph von G\n",
    "Gr = {v:set() for v in G}\n",
    "for v in G:\n",
    "    for w in G[v]:\n",
    "        Gr[w].add(v)\n",
    "\n",
    "# dfs durch den reversen Graphen, merke postvisit-nr\n",
    "visited = {v : False for v in Gr}\n",
    "postvisit = {v : 0 for v in Gr}\n",
    "counter = 1\n",
    "for v in Gr:\n",
    "    if not visited[v] :\n",
    "        exploreR(v)\n",
    "\n",
    "# die Knoten in der umgekehrten postvisit-Reihenfolge des reversen Graphen\n",
    "vlist = sorted(Gr,key=lambda v: postvisit[v],reverse=True)\n",
    "\n",
    "# dfs durch den Ausgangsgraphen, in der vlist Reihenfolge, dabei component nr merken\n",
    "visited = {v : False for v in G}\n",
    "ccnum = {v : 0 for v in G}\n",
    "cc = 1\n",
    "for v in vlist:\n",
    "    if not visited[v] :\n",
    "        explore(v)\n",
    "        cc+=1\n",
    "\n",
    "# Ausgabe\n",
    "for i in range(1,cc):\n",
    "    result = [v for v in G if ccnum[v] == i]\n",
    "    print(i,'-',*result)\n"
   ]
  }
 ],
 "metadata": {
  "kernelspec": {
   "display_name": "Python 3 (ipykernel)",
   "language": "python",
   "name": "python3"
  },
  "language_info": {
   "codemirror_mode": {
    "name": "ipython",
    "version": 3
   },
   "file_extension": ".py",
   "mimetype": "text/x-python",
   "name": "python",
   "nbconvert_exporter": "python",
   "pygments_lexer": "ipython3",
   "version": "3.11.2"
  }
 },
 "nbformat": 4,
 "nbformat_minor": 5
}
