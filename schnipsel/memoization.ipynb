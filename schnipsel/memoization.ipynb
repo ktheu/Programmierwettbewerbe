{
 "cells": [
  {
   "cell_type": "markdown",
   "id": "834cec57-e0b4-4ea9-9b28-3fc25a9102b4",
   "metadata": {},
   "source": [
    "#### Memoization\n",
    "\n",
    "Memoization verhindert, dass wir bei rekursiven Aufrufen Dinge mehrfach berechnen.\n",
    "Das Beispiel zeigt die rekursive Berechnung der Fibonacci-Zahlen. "
   ]
  },
  {
   "cell_type": "code",
   "execution_count": 1,
   "id": "6590ca1c-9b9e-4fc1-a389-79de7c3e773c",
   "metadata": {},
   "outputs": [
    {
     "data": {
      "text/plain": [
       "5358359254990966640871840"
      ]
     },
     "execution_count": 1,
     "metadata": {},
     "output_type": "execute_result"
    }
   ],
   "source": [
    "def fib(n):\n",
    "    if n in memo: return memo[n]   \n",
    "    if n <= 2: \n",
    "        result = 1\n",
    "    else:\n",
    "        result = fib(n-2) + fib(n-1)\n",
    "    memo[n] = result\n",
    "    return result\n",
    "\n",
    "memo = {}fib(120)\n",
    " "
   ]
  },
  {
   "cell_type": "markdown",
   "id": "b542e5b9-a2c6-469b-b1ee-b18c38203692",
   "metadata": {},
   "source": [
    "Statt memo als globale Variable zu definieren, können wir es beim ersten Aufruf erzeugen und dann\n",
    "an die weiteren Aufrufe mitgeben. "
   ]
  },
  {
   "cell_type": "code",
   "execution_count": 2,
   "id": "39d52bb5-14f9-4cdc-8675-c18b0e4ccefe",
   "metadata": {},
   "outputs": [
    {
     "data": {
      "text/plain": [
       "5358359254990966640871840"
      ]
     },
     "execution_count": 2,
     "metadata": {},
     "output_type": "execute_result"
    }
   ],
   "source": [
    "def fib(n, memo={}):\n",
    "    if n in memo: return memo[n]   \n",
    "    if n <= 2: \n",
    "        result = 1\n",
    "    else:\n",
    "        result = fib(n-2, memo) + fib(n-1, memo)\n",
    "    memo[n] = result\n",
    "    return result\n",
    " \n",
    "fib(120)\n",
    " "
   ]
  }
 ],
 "metadata": {
  "kernelspec": {
   "display_name": "Python 3 (ipykernel)",
   "language": "python",
   "name": "python3"
  },
  "language_info": {
   "codemirror_mode": {
    "name": "ipython",
    "version": 3
   },
   "file_extension": ".py",
   "mimetype": "text/x-python",
   "name": "python",
   "nbconvert_exporter": "python",
   "pygments_lexer": "ipython3",
   "version": "3.11.2"
  }
 },
 "nbformat": 4,
 "nbformat_minor": 5
}
