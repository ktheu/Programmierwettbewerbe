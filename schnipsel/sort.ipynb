{
 "cells": [
  {
   "cell_type": "markdown",
   "id": "f65bceac-7818-499d-a5fc-3de6b3865970",
   "metadata": {},
   "source": [
    "### Sort\n",
    "\n",
    "#### Aufsteigend sortieren"
   ]
  },
  {
   "cell_type": "code",
   "execution_count": 5,
   "id": "7993a1ba-dad3-4044-bb0a-ac4fc478c161",
   "metadata": {},
   "outputs": [
    {
     "data": {
      "text/plain": [
       "[1, 2, 3, 4]"
      ]
     },
     "execution_count": 5,
     "metadata": {},
     "output_type": "execute_result"
    }
   ],
   "source": [
    "a = [4,2,1,3]\n",
    "a.sort()                # inplace: a wird sortiert\n",
    "a"
   ]
  },
  {
   "cell_type": "code",
   "execution_count": 6,
   "id": "e875ecb4-5996-4643-b547-4eeb84933be1",
   "metadata": {},
   "outputs": [
    {
     "data": {
      "text/plain": [
       "[1, 2, 3, 4]"
      ]
     },
     "execution_count": 6,
     "metadata": {},
     "output_type": "execute_result"
    }
   ],
   "source": [
    "a = [4,2,1,3]\n",
    "b = sorted(a)           # a bleibt unverändert\n",
    "b"
   ]
  },
  {
   "cell_type": "markdown",
   "id": "401d48b8-c94a-4fc3-a1d8-1e9a7e180303",
   "metadata": {},
   "source": [
    "#### Absteigend sortieren"
   ]
  },
  {
   "cell_type": "code",
   "execution_count": 7,
   "id": "e7678c76-8276-48a4-97ab-775dedd59d9e",
   "metadata": {},
   "outputs": [
    {
     "data": {
      "text/plain": [
       "[4, 3, 2, 1]"
      ]
     },
     "execution_count": 7,
     "metadata": {},
     "output_type": "execute_result"
    }
   ],
   "source": [
    "a = [4,2,1,3]\n",
    "a.sort(reverse = True)\n",
    "a"
   ]
  },
  {
   "cell_type": "code",
   "execution_count": 9,
   "id": "1368aae8-cac3-498a-a196-23780de3cd4b",
   "metadata": {},
   "outputs": [
    {
     "data": {
      "text/plain": [
       "[4, 3, 2, 1]"
      ]
     },
     "execution_count": 9,
     "metadata": {},
     "output_type": "execute_result"
    }
   ],
   "source": [
    "a = [4,2,1,3]\n",
    "b = sorted(a, reverse = True)\n",
    "b"
   ]
  },
  {
   "cell_type": "markdown",
   "id": "3d2887dc-8a8e-45a2-b52f-b0858fc980d4",
   "metadata": {},
   "source": [
    "#### Mit anonymer Funktion sortieren"
   ]
  },
  {
   "cell_type": "code",
   "execution_count": 15,
   "id": "5d6fad1f-3c11-49e8-a858-fc54feca33cf",
   "metadata": {},
   "outputs": [
    {
     "data": {
      "text/plain": [
       "[80, 97, 23, 44]"
      ]
     },
     "execution_count": 15,
     "metadata": {},
     "output_type": "execute_result"
    }
   ],
   "source": [
    "a = [44, 97, 80, 23]\n",
    "a.sort(key = lambda x : x % 5)\n",
    "b = sorted(a, key = lambda x : x % 5)\n",
    "b"
   ]
  },
  {
   "cell_type": "code",
   "execution_count": 16,
   "id": "090b69c2-836d-45f4-8bce-c9db8a4cb6a7",
   "metadata": {},
   "outputs": [
    {
     "data": {
      "text/plain": [
       "[44, 23, 97, 80]"
      ]
     },
     "execution_count": 16,
     "metadata": {},
     "output_type": "execute_result"
    }
   ],
   "source": [
    "a = [44, 97, 80, 23]\n",
    "a.sort(key = lambda x : x % 5, reverse = True)\n",
    "b = sorted(a, key = lambda x : x % 5, reverse = True)\n",
    "b"
   ]
  },
  {
   "cell_type": "markdown",
   "id": "093c2037-8141-442f-9a93-04d67bb5f414",
   "metadata": {},
   "source": [
    "#### Nach mehreren Kriterien sortieren"
   ]
  },
  {
   "cell_type": "code",
   "execution_count": 17,
   "id": "880d6033-eba0-40b2-9b5c-ba6424664747",
   "metadata": {},
   "outputs": [
    {
     "name": "stdout",
     "output_type": "stream",
     "text": [
      "[(3, 'a'), (3, 'c'), (2, 'c'), (2, 'd'), (1, 'a'), (1, 'b')]\n"
     ]
    }
   ],
   "source": [
    "# Nach der ersten Stelle abwärts, dann nach der 2. Stelle aufwärts sortieren.\n",
    "a = [(1, 'a'), (3, 'c'), (1, 'b'), (2, 'c'), (3, 'a'), (2, 'd')]\n",
    "a.sort(key = lambda x : (-x[0],x[1]))\n",
    "print(a)"
   ]
  }
 ],
 "metadata": {
  "kernelspec": {
   "display_name": "Python 3 (ipykernel)",
   "language": "python",
   "name": "python3"
  },
  "language_info": {
   "codemirror_mode": {
    "name": "ipython",
    "version": 3
   },
   "file_extension": ".py",
   "mimetype": "text/x-python",
   "name": "python",
   "nbconvert_exporter": "python",
   "pygments_lexer": "ipython3",
   "version": "3.11.2"
  }
 },
 "nbformat": 4,
 "nbformat_minor": 5
}
