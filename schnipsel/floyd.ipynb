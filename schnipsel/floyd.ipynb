{
 "cells": [
  {
   "cell_type": "markdown",
   "id": "9b9ee2c6-24bb-41c9-a1de-3807f6cc7816",
   "metadata": {},
   "source": [
    "### Kürzeste Wege: Floyd-Warshall und Dijkstra\n",
    "\n",
    "#### Floyd-Warshall\n",
    "\n",
    "Der Algorithmus von Floyd-Warshall berechnet die kürzestesten Wege zwischen allen\n",
    "Knoten in einem Graphen (all-pairs-shortest-path) in $O(n^3)$."
   ]
  },
  {
   "cell_type": "code",
   "execution_count": 2,
   "id": "b2e1d2c7-e81f-4af2-af0f-38eaf5f93ab9",
   "metadata": {},
   "outputs": [
    {
     "name": "stdout",
     "output_type": "stream",
     "text": [
      "0 - 2 - 1 - 3\n",
      "Kosten = 7\n"
     ]
    }
   ],
   "source": [
    "def floyd(c):\n",
    "    ''' \n",
    "    c: Kostenmatrix = Graph als Adjazenzmatrix\n",
    "    returns: d, p - Distanzmatrix und Wegematrix mit dem Vorgänger des kürzesten Wegs \n",
    "    '''\n",
    "    n = len(c)\n",
    "    d = [[0]*n for j in range(n)]   # Distanzmatrix\n",
    "    p = [[0]*n for j in range(n)]   # Wegematrix mit den Vorgängern (prevs)\n",
    "    for i in range(n):\n",
    "        for j in range(n):\n",
    "            d[i][j] = c[i][j]\n",
    "            p[i][j] = i\n",
    "\n",
    "    for k in range(n):\n",
    "        for i in range(n):\n",
    "            for j in range(n):\n",
    "                tmp = d[i][k] + d[k][j]\n",
    "                if tmp < d[i][j]:\n",
    "                    d[i][j] = tmp\n",
    "                    p[i][j] = p[k][j]\n",
    "    return d, p\n",
    "\n",
    "def getPath(p, i, j):\n",
    "    if i == j: return str(i)\n",
    "    return getPath(p,i,p[i][j]) + ' - ' + str(j)\n",
    "\n",
    "\n",
    "inf = float('inf')\n",
    "G = [[0,   8,   2, inf],\n",
    "     [inf, 0, inf,   4],\n",
    "     [inf, 1,   0,   6],\n",
    "     [inf, 2, inf,   0]]\n",
    "\n",
    "d, p = floyd(G)\n",
    "\n",
    "print(getPath(p,0,3))            # kürzester Weg von Knoten 0 nach Knoten 3\n",
    "print(\"Kosten =\",d[0][3])        # Kosten dieses Weges"
   ]
  },
  {
   "cell_type": "markdown",
   "id": "09e6aa5e-90cb-4eb1-a484-be20ee6673d7",
   "metadata": {},
   "source": [
    "#### Dijkstra\n",
    "\n",
    "Der Algorithmus von Dijkstra berechnet die kürzeste Entfernung eines Knotens zu allen \n",
    "anderen Knoten in einem Graphen mit nicht-negativen Kantenkosten (single-source-shortest-path)\n",
    "in $O((|V|+|E|)⋅log|V|)$.\n",
    "\n",
    "[Video](https://www.youtube.com/watch?v=PKjT-LObjEM&list=PLWeMgMhRDsIHVtFQLF07HdrmbLI7dARgs&index=7)"
   ]
  },
  {
   "cell_type": "code",
   "execution_count": 4,
   "id": "da15e1a5-4ee8-43c9-993c-64885299f055",
   "metadata": {},
   "outputs": [
    {
     "name": "stdout",
     "output_type": "stream",
     "text": [
      "Pfad von a nach f : a b c d e f\n",
      "Distanz: 16\n"
     ]
    }
   ],
   "source": [
    "G = {\n",
    "'a': {'b':2, 'c':9},\n",
    "'b': {'c':5, 'd':13},\n",
    "'c': {'d':6, 'e':9},\n",
    "'d': {'e':1, 'f':5},\n",
    "'e': {'f':2},\n",
    "'f': {}\n",
    "}\n",
    "\n",
    "from heapq import heapify, heappop, heappush\n",
    "\n",
    "def reconstructPath(s,u,prev):\n",
    "    temp = []\n",
    "    while u != s:\n",
    "        temp.append(u)\n",
    "        u = prev[u]\n",
    "    temp.append(s)\n",
    "    temp.reverse()\n",
    "    return temp\n",
    "\n",
    "inf = float('inf')\n",
    "dist = {v:inf for v in G}\n",
    "prev = {v:None for v in G}\n",
    "\n",
    "s = 'a'         # startknoten\n",
    "dist[s] = 0\n",
    "endgueltig = set()    \n",
    "\n",
    "vorlaeufig = [(dist[v],v) for v in G]\n",
    "heapify(vorlaeufig)\n",
    "\n",
    "while vorlaeufig:\n",
    "    _, u = heappop(vorlaeufig)\n",
    "    if u in endgueltig: continue\n",
    "    endgueltig.add(u)\n",
    "    for v in G[u]:\n",
    "        if dist[v] > dist[u] + G[u][v]:\n",
    "            dist[v] = dist[u] + G[u][v]\n",
    "            prev[v] = u\n",
    "            heappush(vorlaeufig,(dist[v],v))\n",
    "ziel = 'f'\n",
    "print('Pfad von',s,'nach',ziel,':',*reconstructPath('a','f',prev))\n",
    "print('Distanz:',dist[ziel])\n"
   ]
  },
  {
   "cell_type": "markdown",
   "id": "670d4809-faf5-49d6-b176-61089d1962e6",
   "metadata": {},
   "source": [
    "#### Bellman-Ford\n",
    "\n",
    "Der Algorithmus von Bellman-Ford berechnet die kürzeste Entfernung eines Knotens zu allen \n",
    "anderen Knoten in einem Graphen auch bei negativen Kantenkosten falls es\n",
    "keine negativen Zyklen gibt (single-source-shortest-path) \n",
    "in $O(|V| \\cdot |E|)$.\n",
    "\n",
    "[Video](https://www.youtube.com/watch?v=LmNXvIoRNIc&list=PLWeMgMhRDsIHVtFQLF07HdrmbLI7dARgs&index=8&t=20s)"
   ]
  },
  {
   "cell_type": "code",
   "execution_count": 6,
   "id": "79a6c7b5-b388-4cc2-891e-126902d54a55",
   "metadata": {},
   "outputs": [
    {
     "name": "stdout",
     "output_type": "stream",
     "text": [
      "Pfad von a nach b : a e c b\n",
      "Distanz: 2\n"
     ]
    }
   ],
   "source": [
    "G = {\n",
    "'a': {'b':6,'e':7},\n",
    "'b': {'d':-4,'e':8,'c':5},\n",
    "'c': {'b':-2},\n",
    "'d': {'c':7},\n",
    "'e': {'c':-3,'d':9}\n",
    "}\n",
    "\n",
    "def reconstructPath(s,u,prev):\n",
    "    temp = []\n",
    "    while u != s:\n",
    "        temp.append(u)\n",
    "        u = prev[u]\n",
    "    temp.append(s)\n",
    "    temp.reverse()\n",
    "    return temp\n",
    "\n",
    "inf = float('inf')\n",
    "dist = {v:inf for v in G}\n",
    "prev = {v:None for v in G}\n",
    "\n",
    "start, ziel = 'a' , 'b'\n",
    "dist[start] = 0\n",
    "\n",
    "changed = True\n",
    "while changed:\n",
    "    changed = False\n",
    "    for u in G:\n",
    "        for v in G[u]:\n",
    "            if dist[v] > dist[u] + G[u][v]:\n",
    "                dist[v] = dist[u] + G[u][v]\n",
    "                prev[v] = u\n",
    "                changed = True\n",
    "\n",
    "print('Pfad von',start,'nach',ziel,':',*reconstructPath(start,ziel,prev))\n",
    "print('Distanz:',dist[ziel])\n"
   ]
  }
 ],
 "metadata": {
  "kernelspec": {
   "display_name": "Python 3 (ipykernel)",
   "language": "python",
   "name": "python3"
  },
  "language_info": {
   "codemirror_mode": {
    "name": "ipython",
    "version": 3
   },
   "file_extension": ".py",
   "mimetype": "text/x-python",
   "name": "python",
   "nbconvert_exporter": "python",
   "pygments_lexer": "ipython3",
   "version": "3.11.2"
  }
 },
 "nbformat": 4,
 "nbformat_minor": 5
}
