{
 "cells": [
  {
   "cell_type": "markdown",
   "id": "f598d2c6-8c51-49a5-8964-e245b048da91",
   "metadata": {},
   "source": [
    "### Graphen - Modellierung\n",
    "\n",
    "#### Adjazenzmatrix\n",
    "\n",
    "Ungewichtete Graphen: 0 = es exisitiert keine Kante"
   ]
  },
  {
   "cell_type": "code",
   "execution_count": 1,
   "id": "5b14c0fd-b74f-4475-bfad-8a08c3e23f5c",
   "metadata": {},
   "outputs": [
    {
     "data": {
      "text/plain": [
       "[1, 2]"
      ]
     },
     "execution_count": 1,
     "metadata": {},
     "output_type": "execute_result"
    }
   ],
   "source": [
    "G = [[0, 1, 1, 0],  \n",
    "     [0, 0, 0, 1],  \n",
    "     [0, 1, 0, 1],  \n",
    "     [0, 1, 0, 0]]\n",
    "\n",
    "G[0][1] == 1                                    # True, wenn es Kante von 0 nach 1 gibt\n",
    "[j for j in range(len(G)) if G[0][j] == 1]      # alle Nachbarn von 0\n"
   ]
  },
  {
   "cell_type": "markdown",
   "id": "02c84382-3dc7-4b49-8d6c-0e413d80bba0",
   "metadata": {},
   "source": [
    "Gewichtete Graphen: inf = es exisitiert keine Kante"
   ]
  },
  {
   "cell_type": "code",
   "execution_count": 2,
   "id": "750b72d7-06f2-4d2a-bf90-c76ea4c7e96a",
   "metadata": {},
   "outputs": [
    {
     "data": {
      "text/plain": [
       "[1, 2]"
      ]
     },
     "execution_count": 2,
     "metadata": {},
     "output_type": "execute_result"
    }
   ],
   "source": [
    "inf = float('inf') \n",
    "G = [[0,   8,   2, inf],  \n",
    "     [inf, 0, inf,   4],  \n",
    "     [inf, 1,   0,   6],  \n",
    "     [inf, 2, inf,   0]]\n",
    "\n",
    "G[0][1]                                                 # die Kosten der Kante von 0 nach 1\n",
    "[j for j in range(len(G)) if j!=0 and G[0][j] < inf]    # alle Nachbarn von 0"
   ]
  },
  {
   "cell_type": "markdown",
   "id": "547d5130-7a91-48f9-98bd-410bd6f2a437",
   "metadata": {},
   "source": [
    "#### Adjazenzmatrix erstellen.\n",
    "\n",
    "Beispiel: Für einen gerichteten, gewichteten Graphen.<br>\n",
    "3 Knoten, 4 Kanten im Format: von, bis, Kosten <br>\n",
    "Die Knotennamen werden um 1 vermindert, da die Reihen/Spalten in der Matrix mit Null beginnen.\n",
    "\n",
    "\n"
   ]
  },
  {
   "cell_type": "code",
   "execution_count": 26,
   "id": "9c8673e3-7be3-46c8-9e34-15b114dc8d10",
   "metadata": {},
   "outputs": [
    {
     "name": "stdout",
     "output_type": "stream",
     "text": [
      "Overwriting input.txt\n"
     ]
    }
   ],
   "source": [
    "%%writefile input.txt\n",
    "3 4\n",
    "1 2 2\n",
    "2 3 1\n",
    "1 3 4 \n",
    "3 2 1"
   ]
  },
  {
   "cell_type": "code",
   "execution_count": 27,
   "id": "830aae6f-6a08-4be7-938d-e0124d22483d",
   "metadata": {},
   "outputs": [
    {
     "data": {
      "text/plain": [
       "[[0, 2, 4], [inf, 0, 1], [inf, 1, 0]]"
      ]
     },
     "execution_count": 27,
     "metadata": {},
     "output_type": "execute_result"
    }
   ],
   "source": [
    "inf = float('inf')\n",
    "stdin = open('input.txt')\n",
    "n, m = map(int,stdin.readline().split())\n",
    "zeile = [inf for _ in range(n)]\n",
    "adj = [zeile[:] for _ in range(n)]\n",
    "for i in range(n): adj[i][i] = 0\n",
    "for i in range(m):\n",
    "    a, b, c = map(int, stdin.readline().split())\n",
    "    a-=1\n",
    "    b-=1\n",
    "    adj[a][b] = c\n",
    "adj"
   ]
  },
  {
   "cell_type": "code",
   "execution_count": 28,
   "id": "086b1602-f599-4790-95ee-0e2d7fbe5786",
   "metadata": {},
   "outputs": [
    {
     "data": {
      "text/plain": [
       "[[0, 2, 4], [inf, 0, 1], [inf, 1, 0]]"
      ]
     },
     "execution_count": 28,
     "metadata": {},
     "output_type": "execute_result"
    }
   ],
   "source": [
    "inf = float('inf')\n",
    "stdin = open(\"input.txt\", \"r\") \n",
    "n, m = map(int,stdin.readline().split())\n",
    "zeile = [inf for _ in range(n)]\n",
    "adj = [zeile[:] for _ in range(n)]\n",
    "for i in range(n): adj[i][i] = 0\n",
    "for i in range(m):\n",
    "    a, b, c = map(int, stdin.readline().split())  # von, bis, Kosten\n",
    "    a-=1\n",
    "    b-=1\n",
    "    adj[a][b] = c\n",
    "\n",
    "adj"
   ]
  },
  {
   "cell_type": "markdown",
   "id": "11404280-bca6-41b5-a2c9-aaef9ed951a2",
   "metadata": {},
   "source": [
    "#### Adjazenzsets und Adjazenzdicts\n",
    "\n",
    "Ungewichtete Graphen"
   ]
  },
  {
   "cell_type": "code",
   "execution_count": 12,
   "id": "5c4987ed-b115-46d3-9b99-45dd2fb7d507",
   "metadata": {},
   "outputs": [
    {
     "data": {
      "text/plain": [
       "{'b', 'c'}"
      ]
     },
     "execution_count": 12,
     "metadata": {},
     "output_type": "execute_result"
    }
   ],
   "source": [
    "G = {'a':set('bc'),\n",
    "     'b':set('d'), \n",
    "     'c':set('bd'),\n",
    "     'd':set('b')}\n",
    "\n",
    "'b' in G['a']        # True, wenn es Kante von a nach b gibt   \n",
    "G['a']    "
   ]
  },
  {
   "cell_type": "markdown",
   "id": "07bd198c-70bc-4e59-afa8-82cde51bee86",
   "metadata": {},
   "source": [
    "Gewichtete Graphen"
   ]
  },
  {
   "cell_type": "code",
   "execution_count": 13,
   "id": "c504e106-7a4e-46f0-bf3a-0509dfab88a8",
   "metadata": {},
   "outputs": [
    {
     "data": {
      "text/plain": [
       "['b', 'c']"
      ]
     },
     "execution_count": 13,
     "metadata": {},
     "output_type": "execute_result"
    }
   ],
   "source": [
    "G = {\n",
    "'a': {'b':2, 'c':9},\n",
    "'b': {'c':5, 'd':13},\n",
    "'c': {'d':6, 'e':9},\n",
    "'d': {'e':1, 'f':5},\n",
    "'e': {'f':2},\n",
    "'f': {}\n",
    "}\n",
    "\n",
    "'b' in G['a']        # True, wenn es Kante von a nach b gibt   \n",
    "G['a']['b']          # Die Kosten der Kante von a nach b\n",
    "[v for v in G['a']]  # alle Nachbarn von 'a'"
   ]
  },
  {
   "cell_type": "markdown",
   "id": "36b4fa35-7fb9-42de-af5f-7da14ec8f73b",
   "metadata": {},
   "source": [
    "#### Adjazenzlisten  \n",
    "\n",
    "Wenn die Frage, ob zwei Knoten benachbart sind, nicht so häufig vorkommt, ist \n",
    "die Implementation mit Listen in der Regel schneller.\n",
    "\n",
    "Beispiel: Ungerichteter, ungewichteter Graph"
   ]
  },
  {
   "cell_type": "code",
   "execution_count": 18,
   "id": "fd3e8c25-cc7c-4423-8923-3df703e34024",
   "metadata": {},
   "outputs": [
    {
     "name": "stdout",
     "output_type": "stream",
     "text": [
      "Overwriting input.txt\n"
     ]
    }
   ],
   "source": [
    "%%writefile input.txt\n",
    "3 4\n",
    "1 2  \n",
    "2 3  \n",
    "1 3 \n",
    "3 2 "
   ]
  },
  {
   "cell_type": "code",
   "execution_count": 21,
   "id": "e1bb8eea-9bcf-42ec-ae0e-21cf7dfe92e5",
   "metadata": {},
   "outputs": [
    {
     "name": "stdout",
     "output_type": "stream",
     "text": [
      "2\n",
      "3\n"
     ]
    }
   ],
   "source": [
    "stdin = open('input.txt')\n",
    "n, m = map(int, stdin.readline().split())   # n Knoten, m Kanten\n",
    "adj = [[] for _ in range(n+1)]              # Knoten starten bei 1\n",
    "\n",
    "for _ in range(m):                         \n",
    "    u, v = map(int, stdin.readline().split())   # Kante zwischen u und v\n",
    "    adj[u].append(v) \n",
    "    adj[v].append(u)\n",
    "    \n",
    "u = 1\n",
    "for v in adj[u]:   # alle Nachbarn von u\n",
    "    print(v)"
   ]
  },
  {
   "cell_type": "markdown",
   "id": "6de6f690-f1af-408c-be90-fd5a15cb59ba",
   "metadata": {},
   "source": [
    "Beispiel: gerichteter, gewichteter Graph"
   ]
  },
  {
   "cell_type": "code",
   "execution_count": 29,
   "id": "a5c1484e-cdc0-49b9-a07a-22572cdc05c0",
   "metadata": {},
   "outputs": [
    {
     "name": "stdout",
     "output_type": "stream",
     "text": [
      "Overwriting input.txt\n"
     ]
    }
   ],
   "source": [
    "%%writefile input.txt\n",
    "3 4\n",
    "1 2 2\n",
    "2 3 1\n",
    "1 3 4 \n",
    "3 2 1"
   ]
  },
  {
   "cell_type": "code",
   "execution_count": 31,
   "id": "1314c070-1804-4d6a-809d-5a12694a68cc",
   "metadata": {},
   "outputs": [
    {
     "name": "stdout",
     "output_type": "stream",
     "text": [
      "2 2\n",
      "3 4\n"
     ]
    }
   ],
   "source": [
    "stdin = open('input.txt')\n",
    "n, m = map(int, stdin.readline().split())   # n Knoten, m Kanten   \n",
    "adj = [[] for i in range(n+1)]              # Knoten starten bei 1        \n",
    "\n",
    "for i in range(m):                   # Kante von u nach v mit Kosten c               \n",
    "    u, v, c = map(int, stdin.readline().split())    \n",
    "    adj[u].append((v,c))\n",
    "\n",
    "u = 1\n",
    "for v,c in adj[u]:         # alle Nachbarn von u mit ihren Kosten\n",
    "     print(v,c)"
   ]
  },
  {
   "cell_type": "markdown",
   "id": "67e59730-7006-4b8a-b78e-4f681377333e",
   "metadata": {},
   "source": [
    "-----\n",
    "C++\n",
    "\n",
    "#### Adjazenzmatrix"
   ]
  },
  {
   "cell_type": "code",
   "execution_count": null,
   "id": "afcfcf46-c537-447f-b1b8-5aebe5ff48b5",
   "metadata": {},
   "outputs": [],
   "source": [
    "long long adj[n][n];\n",
    "for (int i = 0; i < n; i++) {\n",
    "    for (int j = 0; j < n; j++) {\n",
    "        if (i == j)\n",
    "            adj[i][j] = 0;\n",
    "        else\n",
    "            adj[i][j] = inf;\n",
    "    }\n",
    "}\n",
    "\n",
    "for (int i = 0; i < m; i++) {\n",
    "    int a, b, c;\n",
    "    cin >> a >> b >> c;\n",
    "    a--;\n",
    "    b--;\n",
    "    adj[a][b] = c;\n",
    "    adj[b][a] = c;\n",
    "}"
   ]
  },
  {
   "cell_type": "markdown",
   "id": "8d073df8-e840-43dd-b353-2ec1577e2bfb",
   "metadata": {},
   "source": [
    "#### Adjazenzliste"
   ]
  },
  {
   "cell_type": "code",
   "execution_count": null,
   "id": "c4a57740-ee5e-4397-846a-7671bec14187",
   "metadata": {},
   "outputs": [],
   "source": [
    "int n, m;\n",
    "cin >> n >> m;\n",
    "vector<pair<int, int>> adj[n + 1];\n",
    "for (int i = 0; i < m; i++) {\n",
    "    int u, v, c;\n",
    "    cin >> u >> v >> c;\n",
    "    adj[u].push_back({v, c});\n",
    "}"
   ]
  }
 ],
 "metadata": {
  "kernelspec": {
   "display_name": "Python 3 (ipykernel)",
   "language": "python",
   "name": "python3"
  },
  "language_info": {
   "codemirror_mode": {
    "name": "ipython",
    "version": 3
   },
   "file_extension": ".py",
   "mimetype": "text/x-python",
   "name": "python",
   "nbconvert_exporter": "python",
   "pygments_lexer": "ipython3",
   "version": "3.11.2"
  }
 },
 "nbformat": 4,
 "nbformat_minor": 5
}
