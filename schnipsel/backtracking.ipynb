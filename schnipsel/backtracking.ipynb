{
 "cells": [
  {
   "cell_type": "markdown",
   "id": "063adde7-1be8-481c-b5db-af9dcd59a65f",
   "metadata": {},
   "source": [
    "### Backtracking\n",
    "\n",
    "\n",
    "Backtracking ist ein systematisches Ausprobieren. Wenn wir in eine Sackgasse geraten sind, gehen wir zurück (backtrack) und probieren die nächste Variante aus. Meistens sind alle möglichen Lösungen gefragt.\n",
    "\n",
    "Backtracking ist anwendbar, wenn wir eine Lösung schrittweise aufbauen können und wenn wir für eine\n",
    "Teillösung die möglichen Kandidaten aufzählen können, die die Teillösung erweitern. \n",
    "\n",
    "Eine Teillösung bezeichnen wir mit $x$. $x$ ist eine Liste mit Entscheidungen $x[0]...x[k]$, die zur Lösung führen sollen.\n",
    "\n",
    "Im Gegensatz zur rekursiven Tiefensuche wird beim backtracking derselbe Pfad immer wieder verändert. Erst wenn eine Lösung gefunden wird, wird eine Kopie gesichert.\n"
   ]
  },
  {
   "cell_type": "code",
   "execution_count": null,
   "id": "a44bbf38-d12b-4f7d-b64a-c57d835007ac",
   "metadata": {},
   "outputs": [],
   "source": [
    "def back(x):\n",
    "    if isSolution(x):\n",
    "        solutions.append(x.copy())\n",
    "    else:\n",
    "        for cand in candidates(x):\n",
    "            if isGood(cand,x):\n",
    "                x.append(cand)\n",
    "                back(x)\n",
    "                x.pop()\n",
    "                \n",
    "def isSolution(x):\n",
    "    '''\n",
    "    returns: True, wenn der Lösungsvektor x eine Lösung darstellt\n",
    "    '''\n",
    "    pass\n",
    "\n",
    "def candidates(x):\n",
    "    '''\n",
    "    returns: Liste von Entscheidungen, die den Lösungsvektor x um eine Stufe erweitern\n",
    "    '''\n",
    "    pass\n",
    "\n",
    "def isGood(cand, x):\n",
    "    '''\n",
    "    returns: True, wenn die Entscheidung cand den Lösungsvektor x sinnvoll erweitert.\n",
    "    '''\n",
    "               \n",
    "solutions = []\n",
    "back([])\n"
   ]
  }
 ],
 "metadata": {
  "kernelspec": {
   "display_name": "Python 3 (ipykernel)",
   "language": "python",
   "name": "python3"
  },
  "language_info": {
   "codemirror_mode": {
    "name": "ipython",
    "version": 3
   },
   "file_extension": ".py",
   "mimetype": "text/x-python",
   "name": "python",
   "nbconvert_exporter": "python",
   "pygments_lexer": "ipython3",
   "version": "3.11.2"
  }
 },
 "nbformat": 4,
 "nbformat_minor": 5
}
