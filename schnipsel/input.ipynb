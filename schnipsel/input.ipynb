{
 "cells": [
  {
   "cell_type": "markdown",
   "id": "64a68b4e-49a6-4ea4-a866-1b4e19dff2fe",
   "metadata": {},
   "source": [
    "### Input, Infinity"
   ]
  },
  {
   "cell_type": "markdown",
   "id": "543d585f-7494-4336-a60a-59f39e02de7f",
   "metadata": {},
   "source": [
    "#### Input\n",
    "\n",
    "Wir nutzen ``stdin.readline()`` statt ``input()``, denn dann können wir für die lokale Entwicklung auf die Eingabe aus einer Datei umschalten.\n",
    "\n",
    "Zwei Zahlen einlesen"
   ]
  },
  {
   "cell_type": "code",
   "execution_count": null,
   "id": "4e490dbb-35a1-481f-9e06-b46ee56f68aa",
   "metadata": {},
   "outputs": [],
   "source": [
    "from sys import stdin\n",
    "stdin = open(\"input.txt\", \"r\")     # ist dies auskommentiert, dann ist stdin.readline() wie input()\n",
    "a, b = map(int,stdin.readline().split())  \n",
    "a, b = [int(x) for x in stdin.readline().split()]    # etwas langsamer"
   ]
  },
  {
   "cell_type": "markdown",
   "id": "51626fa5-ae17-4cb1-9cb7-b3b2e7cb2be7",
   "metadata": {},
   "source": [
    "Bei einigen älteren USACO-Problemen müssen Dateien geschrieben werden."
   ]
  },
  {
   "cell_type": "code",
   "execution_count": null,
   "id": "a9d54ac6-cce9-4f41-9ae6-b20b35d13ee9",
   "metadata": {},
   "outputs": [],
   "source": [
    "from sys import stdin, stdout\n",
    "stdin = open(\"problem.in\", \"r\")\n",
    "stdout = open(\"problem.out\", \"w\") "
   ]
  },
  {
   "cell_type": "code",
   "execution_count": null,
   "id": "2580aff9-a02a-457d-990f-1d26dfff5cc3",
   "metadata": {},
   "outputs": [],
   "source": [
    "stdout.write()      # macht keinen Zeilenvorschub, manchmal Zeitvorteil zu print() "
   ]
  },
  {
   "cell_type": "markdown",
   "id": "ac8d97b5-721c-4ab4-af9a-5dc27da067d1",
   "metadata": {},
   "source": [
    "#### Infinity"
   ]
  },
  {
   "cell_type": "code",
   "execution_count": null,
   "id": "628cc192-c4cd-45ef-8d2a-bf05aa1358a9",
   "metadata": {},
   "outputs": [],
   "source": [
    "inf = float('inf')\n",
    "inf = 1<<59   # = 2 hoch 59 = eine sehr große Zahl - ist schneller als float('inf') "
   ]
  },
  {
   "cell_type": "markdown",
   "id": "0cee8cd2-5da9-448c-8557-4fd1e294bea3",
   "metadata": {},
   "source": [
    "----\n",
    "\n",
    "C++"
   ]
  },
  {
   "cell_type": "markdown",
   "id": "df51ad4d-90ee-420a-885f-82477ab567ed",
   "metadata": {},
   "source": [
    "#### Header, typedefs und main"
   ]
  },
  {
   "cell_type": "code",
   "execution_count": null,
   "id": "0225d2fd-64c4-467e-a3f1-84708f13380c",
   "metadata": {},
   "outputs": [],
   "source": [
    "#include <bits/stdc++.h>\n",
    "using namespace std;\n",
    "\n",
    "typedef long long ll;\n",
    "typedef vector<int> vi;\n",
    "typedef pair<int,int> pi;\n",
    "\n",
    "const ll inf = 1e18;\n",
    "\n",
    "int main() {\n",
    "    ios_base::sync_with_stdio(false);\n",
    "    cin.tie(NULL);\n",
    "}"
   ]
  },
  {
   "cell_type": "markdown",
   "id": "469876af-de3f-4830-bc07-a0cf6354fe95",
   "metadata": {},
   "source": [
    "#### Input"
   ]
  },
  {
   "cell_type": "code",
   "execution_count": null,
   "id": "06c01c0d-b8bf-49c1-88fa-560d59b65ee6",
   "metadata": {},
   "outputs": [],
   "source": [
    "freopen(\"C:\\\\Users\\\\khthe\\\\...\\\\Programmierwettbewerbe\\\\test.txt\", \"r\", stdin);\n",
    "freopen(\"C:\\\\Users\\\\khthe\\\\...\\\\Programmierwettbewerbe\\\\test.out\", \"w\", stdout);\n",
    "cin >> n >> q;\n",
    "cout << n << \" \" << q << endl;\n",
    "\n",
    "// Für ältere USACO-Aufgaben\n",
    "freopen(\"swap.in\", \"r\", stdin);\n",
    "freopen(\"swap.out\", \"w\", stdout);"
   ]
  },
  {
   "cell_type": "markdown",
   "id": "fbcd0ef2-3d07-4732-a773-d008148db390",
   "metadata": {},
   "source": [
    "#### Infinity"
   ]
  },
  {
   "cell_type": "code",
   "execution_count": null,
   "id": "b8252d78-99b1-4d2d-a36f-3d11a9c1f058",
   "metadata": {},
   "outputs": [],
   "source": [
    "const int inf = 1e9;\n",
    "const long long inf = 1e18;\n",
    " \n",
    "// Array dist mit unendlich füllen\n",
    "ll dist[100001]\n",
    "memset(dist, 0x3f, sizeof(dist));"
   ]
  }
 ],
 "metadata": {
  "kernelspec": {
   "display_name": "Python 3 (ipykernel)",
   "language": "python",
   "name": "python3"
  },
  "language_info": {
   "codemirror_mode": {
    "name": "ipython",
    "version": 3
   },
   "file_extension": ".py",
   "mimetype": "text/x-python",
   "name": "python",
   "nbconvert_exporter": "python",
   "pygments_lexer": "ipython3",
   "version": "3.11.2"
  }
 },
 "nbformat": 4,
 "nbformat_minor": 5
}
