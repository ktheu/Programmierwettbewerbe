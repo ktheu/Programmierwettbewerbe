{
 "cells": [
  {
   "cell_type": "markdown",
   "id": "a7d22149-1f88-4ba3-b74a-0c0a126f53a3",
   "metadata": {},
   "source": [
    "### Binärer Baum"
   ]
  },
  {
   "cell_type": "code",
   "execution_count": 109,
   "id": "c43edbf6-d854-4550-a05e-275265633f9e",
   "metadata": {},
   "outputs": [],
   "source": [
    "class TreeNode:\n",
    "    def __init__(self, val, left=None, right=None):\n",
    "        self.val = val\n",
    "        self.left = left\n",
    "        self.right = right \n",
    "\n",
    "    def fromList(self,lst):\n",
    "        '''\n",
    "        lst: Liste, die die Knoten ebenenweise aufzählt, z.B: [8, 3, 10, 1, 6, None, 14, None, None, 4, 7, 13]\n",
    "        '''\n",
    "        if not lst: return None\n",
    "    \n",
    "        self.val = lst[0]\n",
    "        queue = [self]\n",
    "        i = 1\n",
    "    \n",
    "        while i < len(lst):\n",
    "            current_node = queue.pop(0)\n",
    "            if lst[i] is not None:\n",
    "                current_node.left = TreeNode(lst[i])\n",
    "                queue.append(current_node.left)\n",
    "            i += 1\n",
    "            if i < len(lst) and lst[i] is not None:\n",
    "                current_node.right = TreeNode(lst[i])\n",
    "                queue.append(current_node.right)\n",
    "            i += 1\n",
    "\n",
    "    def __str__(self):\n",
    "        def dfs(node,ans,e):\n",
    "            if node is None: return\n",
    "            dfs(node.right,ans,e+1)\n",
    "            ans.append((node.val,e))\n",
    "            dfs(node.left,ans,e+1)\n",
    "            e-=1\n",
    "            return\n",
    "        ans=[]\n",
    "        dfs(self,ans,0)\n",
    "        tmp = ''\n",
    "        for v,k in ans:\n",
    "            tmp+='.'*k+str(v)+'\\n'\n",
    "        return tmp\n",
    "\n",
    "    def preorder(self):\n",
    "        def dfs(node):\n",
    "            if node is None: return []\n",
    "            return [node.val] + dfs(node.left) + dfs(node.right)\n",
    "        return dfs(self)\n",
    "\n",
    "    def inorder(self):\n",
    "        def dfs(node):\n",
    "            if node is None: return []\n",
    "            return dfs(node.left) + [node.val] + dfs(node.right)\n",
    "        return dfs(self)\n",
    "\n",
    "    def postorder(self):\n",
    "        def dfs(node):\n",
    "            if node is None: return []\n",
    "            return dfs(node.left) + dfs(node.right) + [node.val]\n",
    "        return dfs(self)\n",
    "\n",
    "    def bfsOrder(self):\n",
    "        from collections import deque\n",
    "        ans = []\n",
    "        def bfs(node):\n",
    "            q = deque([node])\n",
    "            while q:\n",
    "                node = q.popleft()\n",
    "                ans.append(node.val)\n",
    "                if node.left:\n",
    "                    q.append(node.left)\n",
    "                if node.right:\n",
    "                    q.append(node.right)\n",
    "        bfs(self)\n",
    "        return ans\n",
    "\n",
    "    def zigZagOrder(self):\n",
    "        ans = []\n",
    "        def bfs(node):\n",
    "            q = deque([node])\n",
    "            level = 0\n",
    "            while q:\n",
    "                nodes_in_current_level = len(q)\n",
    "                a = []\n",
    "                for _ in range(nodes_in_current_level):\n",
    "                    node = q.popleft()\n",
    "                    a.append(node.val)\n",
    "                    if node.left:\n",
    "                        q.append(node.left)\n",
    "                    if node.right:\n",
    "                        q.append(node.right)\n",
    "                if level%2 == 1:\n",
    "                    a.reverse()\n",
    "                ans.extend(a)\n",
    "                level+=1\n",
    "        bfs(self)\n",
    "        return ans\n",
    "\n",
    "    def ebenen(self):\n",
    "        ''' preorder-Liste mit den Ebenen der Knoten '''\n",
    "        def dfs(node,ans,e):\n",
    "            if node is None: return\n",
    "            ans.append(e)\n",
    "            dfs(node.left,ans,e+1)\n",
    "            dfs(node.right,ans,e+1)\n",
    "            e-=1\n",
    "            return\n",
    "        ans=[]\n",
    "        dfs(self,ans,1)\n",
    "        return ans\n",
    "\n",
    "    def __eq__(self, other):\n",
    "        if not self and not other: return True\n",
    "        if self and other and self.val == other.val:\n",
    "            return self.left == other.left and self.right == other.right\n",
    "        return False\n",
    "       \n",
    "\n",
    "    def maxDepth(self):\n",
    "        return max(self.ebenen())\n",
    "\n",
    "    def lca(self, p, q):\n",
    "        def dfs(node, p, q):\n",
    "            if node is None:\n",
    "                return None\n",
    "            if node == p or node == q:\n",
    "                return node\n",
    "            \n",
    "            left = dfs(node.left,p,q)\n",
    "            right = dfs(node.right,p,q)\n",
    "            if left and right:\n",
    "                return node\n",
    "            if left:\n",
    "                return left\n",
    "            return right\n",
    "\n",
    "        return dfs(self,p,q)\n",
    "         \n",
    "\n"
   ]
  },
  {
   "cell_type": "code",
   "execution_count": 112,
   "id": "7fb04c83-9929-4f27-92ed-fdaae1034bd6",
   "metadata": {},
   "outputs": [
    {
     "name": "stdout",
     "output_type": "stream",
     "text": [
      "..14\n",
      "...13\n",
      ".10\n",
      "8\n",
      "...7\n",
      "..6\n",
      "...4\n",
      ".3\n",
      "..1\n",
      "\n"
     ]
    },
    {
     "data": {
      "text/plain": [
       "3"
      ]
     },
     "execution_count": 112,
     "metadata": {},
     "output_type": "execute_result"
    }
   ],
   "source": [
    "lst = [8, 3, 10, 1, 6, None, 14, None, None, 4, 7, 13]\n",
    "b = TreeNode(0)\n",
    "\n",
    "b.fromList(lst)\n",
    "print(b)\n",
    "\n",
    "p = b.left.left\n",
    "q = b.left.right.left\n",
    "\n",
    "b.lca(p,q).val"
   ]
  },
  {
   "cell_type": "code",
   "execution_count": 71,
   "id": "ad2d469b-e399-4977-a452-761eb2d5f2ab",
   "metadata": {},
   "outputs": [
    {
     "name": "stdout",
     "output_type": "stream",
     "text": [
      "3\n"
     ]
    }
   ],
   "source": [
    "lst = [3,9,20,None,None,15,7]\n",
    "b1 = TreeNode(0)\n",
    "b1.fromList(lst)\n",
    "print(b1.maxDepth())"
   ]
  },
  {
   "cell_type": "code",
   "execution_count": 72,
   "id": "86614975-97c7-4947-b818-1486d8ef6564",
   "metadata": {},
   "outputs": [],
   "source": [
    "from collections import deque"
   ]
  },
  {
   "cell_type": "code",
   "execution_count": 74,
   "id": "b96c764d-5f73-45bc-b538-7cdbd5e04993",
   "metadata": {},
   "outputs": [
    {
     "ename": "TypeError",
     "evalue": "'int' object is not iterable",
     "output_type": "error",
     "traceback": [
      "\u001b[1;31m---------------------------------------------\u001b[0m",
      "\u001b[1;31mTypeError\u001b[0m   Traceback (most recent call last)",
      "Cell \u001b[1;32mIn[74], line 1\u001b[0m\n\u001b[1;32m----> 1\u001b[0m q \u001b[38;5;241m=\u001b[39m \u001b[43mdeque\u001b[49m\u001b[43m(\u001b[49m\u001b[38;5;241;43m4\u001b[39;49m\u001b[43m)\u001b[49m\n",
      "\u001b[1;31mTypeError\u001b[0m: 'int' object is not iterable"
     ]
    }
   ],
   "source": [
    " "
   ]
  },
  {
   "cell_type": "code",
   "execution_count": null,
   "id": "1834f65d-0d2c-43cb-bcf6-ed59ede2168d",
   "metadata": {},
   "outputs": [],
   "source": []
  }
 ],
 "metadata": {
  "kernelspec": {
   "display_name": "Python 3 (ipykernel)",
   "language": "python",
   "name": "python3"
  },
  "language_info": {
   "codemirror_mode": {
    "name": "ipython",
    "version": 3
   },
   "file_extension": ".py",
   "mimetype": "text/x-python",
   "name": "python",
   "nbconvert_exporter": "python",
   "pygments_lexer": "ipython3",
   "version": "3.11.2"
  }
 },
 "nbformat": 4,
 "nbformat_minor": 5
}
