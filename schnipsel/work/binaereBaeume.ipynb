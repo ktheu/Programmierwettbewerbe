{
 "cells": [
  {
   "cell_type": "markdown",
   "id": "1bab1745-3295-4b9b-8a54-45a7b387f189",
   "metadata": {},
   "source": [
    "### Binäre Bäume"
   ]
  },
  {
   "cell_type": "code",
   "execution_count": 109,
   "id": "c43edbf6-d854-4550-a05e-275265633f9e",
   "metadata": {},
   "outputs": [],
   "source": [
    "class TreeNode:\n",
    "    def __init__(self, val, left=None, right=None):\n",
    "        self.val = val\n",
    "        self.left = left\n",
    "        self.right = right "
   ]
  },
  {
   "cell_type": "code",
   "execution_count": 116,
   "id": "d0c221d0-5b6e-4817-8f86-7ce63e4e0a64",
   "metadata": {},
   "outputs": [],
   "source": [
    "def treeFromList(lst):\n",
    "    '''\n",
    "    lst: Liste, die die Knoten ebenenweise aufzählt, z.B: [8, 3, 10, 1, 6, None, 14, None, None, 4, 7, 13]\n",
    "    '''\n",
    "    if not lst: return None\n",
    "\n",
    "    root = TreeNode(lst[0])\n",
    "    queue = [root]\n",
    "    i = 1\n",
    "\n",
    "    while i < len(lst):\n",
    "        current_node = queue.pop(0)\n",
    "        if lst[i] is not None:\n",
    "            current_node.left = TreeNode(lst[i])\n",
    "            queue.append(current_node.left)\n",
    "        i += 1\n",
    "        if i < len(lst) and lst[i] is not None:\n",
    "            current_node.right = TreeNode(lst[i])\n",
    "            queue.append(current_node.right)\n",
    "        i += 1\n",
    "    return root"
   ]
  },
  {
   "cell_type": "code",
   "execution_count": 196,
   "id": "0302e233-8888-4fc2-93a7-3b946dfb751f",
   "metadata": {},
   "outputs": [],
   "source": [
    "def printTree(node):\n",
    "    def dfs(node,ans,e):\n",
    "        if node is None: return\n",
    "        dfs(node.right,ans,e+1)\n",
    "        ans.append((node.val,e))\n",
    "        dfs(node.left,ans,e+1)\n",
    "        e-=1\n",
    "        return\n",
    "    ans=[]\n",
    "    dfs(node,ans,0)\n",
    "    tmp = ''\n",
    "    for v,k in ans:\n",
    "        tmp+='.'*k+str(v)+'\\n'\n",
    "    print(tmp)"
   ]
  },
  {
   "cell_type": "code",
   "execution_count": 130,
   "id": "0d11f599-c352-4a13-9bbb-8f9d34471bdb",
   "metadata": {},
   "outputs": [
    {
     "name": "stdout",
     "output_type": "stream",
     "text": [
      "..14\n",
      "...13\n",
      ".10\n",
      "8\n",
      "...7\n",
      "..6\n",
      "...4\n",
      ".3\n",
      "..1\n",
      "\n"
     ]
    }
   ],
   "source": [
    "a = [8, 3, 10, 1, 6, None, 14, None, None, 4, 7, 13]\n",
    "b = treeFromList(a)\n",
    "printTree(b)\n"
   ]
  },
  {
   "cell_type": "markdown",
   "id": "4e5e7ba0-31ef-48d6-a8d5-67a3e7a8a35c",
   "metadata": {},
   "source": [
    "#### preorder, inorder, postorder \n",
    "\n"
   ]
  },
  {
   "cell_type": "code",
   "execution_count": 129,
   "id": "fc03845b-8fb6-4cff-8607-53f621e8b4fa",
   "metadata": {},
   "outputs": [
    {
     "name": "stdout",
     "output_type": "stream",
     "text": [
      "[8, 3, 1, 6, 4, 7, 10, 14, 13]\n",
      "[1, 3, 4, 6, 7, 8, 10, 13, 14]\n",
      "[1, 4, 7, 6, 3, 13, 14, 10, 8]\n"
     ]
    }
   ],
   "source": [
    "# Durch Zusammenfügen der Antworten der Kinder\n",
    "def preorder(node):\n",
    "    if node is None: return []\n",
    "    return [node.val] + preorder(node.left) + preorder(node.right)\n",
    "\n",
    "def inorder(node):\n",
    "    if node is None: return []\n",
    "    return inorder(node.left) + [node.val] + inorder(node.right)\n",
    "\n",
    "def postorder(node):\n",
    "    if node is None: return []\n",
    "    return  postorder(node.left) + postorder(node.right) + [node.val] \n",
    "\n",
    "print(preorder(baum))\n",
    "print(inorder(baum))\n",
    "print(postorder(baum))"
   ]
  },
  {
   "cell_type": "code",
   "execution_count": 126,
   "id": "dba8b346-1be4-4aac-b53e-af471fbc8bae",
   "metadata": {},
   "outputs": [],
   "source": [
    "# Durch Mitgabe der zu füllenden Antwort\n",
    "def preorder(node,ans):\n",
    "    if node is None: return\n",
    "    ans.append(node.val)\n",
    "    preorder(node.left,ans)\n",
    "    preorder(node.right,ans)\n",
    "    return\n",
    "\n",
    "def inorder(node,ans):\n",
    "    if node is None: return\n",
    "    inorder(node.left,ans)\n",
    "    ans.append(node.val)\n",
    "    inorder(node.right,ans)\n",
    "    return\n",
    "\n",
    "def postorder(node,ans):\n",
    "    if node is None: return\n",
    "    postorder(node.left,ans)\n",
    "    postorder(node.right,ans)\n",
    "    ans.append(node.val)\n",
    "    return"
   ]
  },
  {
   "cell_type": "code",
   "execution_count": 127,
   "id": "3b2e53a0-21ab-4e00-aca2-9990d72baa2c",
   "metadata": {},
   "outputs": [
    {
     "name": "stdout",
     "output_type": "stream",
     "text": [
      "[8, 3, 1, 6, 4, 7, 10, 14, 13]\n",
      "[1, 3, 4, 6, 7, 8, 10, 13, 14]\n",
      "[1, 4, 7, 6, 3, 13, 14, 10, 8]\n"
     ]
    }
   ],
   "source": [
    "ans=[]\n",
    "preorder(baum,ans)\n",
    "print(ans)\n",
    "ans = []\n",
    "inorder(baum,ans)\n",
    "print(ans)\n",
    "ans = []\n",
    "postorder(baum,ans)\n",
    "print(ans)"
   ]
  },
  {
   "cell_type": "markdown",
   "id": "1fa3034c-d2ed-458b-9534-39d9331f4486",
   "metadata": {},
   "source": [
    "#### maxDepth"
   ]
  },
  {
   "cell_type": "code",
   "execution_count": 158,
   "id": "b0a2513a-16a1-4070-a143-30782d8554d4",
   "metadata": {},
   "outputs": [],
   "source": [
    "lst = [8, 3, 10, 1, 6, None, 14, None, None, 4, 7, 13]\n",
    "baum = TreeNode(0)\n",
    "baum = treeFromList(lst)"
   ]
  },
  {
   "cell_type": "code",
   "execution_count": 160,
   "id": "f1b34911-bb2e-40c9-871a-ba1b876233e4",
   "metadata": {},
   "outputs": [
    {
     "data": {
      "text/plain": [
       "4"
      ]
     },
     "execution_count": 160,
     "metadata": {},
     "output_type": "execute_result"
    }
   ],
   "source": [
    "# Wir werten die Antworten der Kinder aus\n",
    "def dfs(node):\n",
    "    if node is None: return 0\n",
    "    left_val = dfs(node.left)\n",
    "    right_val = dfs(node.right)\n",
    "    return max(left_val, right_val)+1\n",
    "dfs(baum)"
   ]
  },
  {
   "cell_type": "code",
   "execution_count": 166,
   "id": "aac9767e-b7b7-424a-926e-1b133057b993",
   "metadata": {},
   "outputs": [
    {
     "name": "stdout",
     "output_type": "stream",
     "text": [
      "4\n"
     ]
    }
   ],
   "source": [
    "# Wir verändern beim dfs eine Variable und speichern uns global deren Maximum.\n",
    "# dfs returned hier keinen Wert sondern läuft nur durch den Baum und verändert dabei gelegentlich die globale Variable\n",
    "# Die Knoten bekommen von oben (durch den Aufruf) Informationen mitgeliefert\n",
    "def dfs(node,ebene=1):\n",
    "    global max_ebene\n",
    "    if node is None: return\n",
    "    if ebene > max_ebene:\n",
    "        max_ebene=ebene\n",
    "    dfs(node.left,ebene+1)\n",
    "    dfs(node.right,ebene+1)\n",
    "    return\n",
    "max_ebene = 0\n",
    "dfs(baum)\n",
    "print(max_ebene)"
   ]
  },
  {
   "cell_type": "markdown",
   "id": "5154eecb-28ed-4f85-8da0-757e4c50fa95",
   "metadata": {},
   "source": [
    "#### PathSum"
   ]
  },
  {
   "cell_type": "markdown",
   "id": "43608232-bfc5-4396-8bd6-86b6776c4beb",
   "metadata": {},
   "source": [
    "Nicht immer ist es möglich, die Rekursionsbremse bei den None-Nodes zu machen. Das zeigt das folgende Beispiel:"
   ]
  },
  {
   "cell_type": "code",
   "execution_count": 250,
   "id": "e0c995fc-0185-4ccd-ae36-45c4541b6f5d",
   "metadata": {},
   "outputs": [
    {
     "name": "stdout",
     "output_type": "stream",
     "text": [
      "1\n",
      ".2\n",
      "\n"
     ]
    }
   ],
   "source": [
    "lst = [1,2]\n",
    "b1 = treeFromList(a)\n",
    "printTree(b1)"
   ]
  },
  {
   "cell_type": "code",
   "execution_count": 251,
   "id": "6a159551-55da-4c6f-9cbb-678827da6147",
   "metadata": {},
   "outputs": [
    {
     "name": "stdout",
     "output_type": "stream",
     "text": [
      "..14\n",
      "...13\n",
      ".10\n",
      "8\n",
      "...7\n",
      "..6\n",
      "...4\n",
      ".3\n",
      "..1\n",
      "\n"
     ]
    }
   ],
   "source": [
    "lst = [8, 3, 10, 1, 6, None, 14, None, None, 4, 7, 13]\n",
    "b2 = TreeNode(0)\n",
    "b2 = treeFromList(lst)\n",
    "printTree(b2)"
   ]
  },
  {
   "cell_type": "code",
   "execution_count": 252,
   "id": "d84cf715-02ab-4d96-9e0e-6b7669ee676c",
   "metadata": {},
   "outputs": [
    {
     "data": {
      "text/plain": [
       "True"
      ]
     },
     "execution_count": 252,
     "metadata": {},
     "output_type": "execute_result"
    }
   ],
   "source": [
    "# liefert die falsche Antwort für b = treeFromList([1,2])\n",
    "def dfs(node,target):\n",
    "    if node is None:\n",
    "        return target == 0\n",
    "    return dfs(node.left,target-node.val) or dfs(node.right,target-node.val)\n",
    "dfs(b1,1)"
   ]
  },
  {
   "cell_type": "code",
   "execution_count": 255,
   "id": "d5161e93-71fb-456b-97e4-bff027580b01",
   "metadata": {},
   "outputs": [
    {
     "name": "stdout",
     "output_type": "stream",
     "text": [
      "False\n",
      "True\n"
     ]
    }
   ],
   "source": [
    "# Wir geben den Knoten Information mit, welche Zahlen die Pfade unter ihnen erreichen sollten\n",
    "def dfs(node, target):\n",
    "    if node.left is None and node.right is None:\n",
    "        return target == node.val\n",
    "\n",
    "    if node.left is None:\n",
    "        return dfs(node.right,target-node.val)\n",
    "\n",
    "    if node.right is None:\n",
    "        return dfs(node.left,target-node.val)\n",
    "    \n",
    "    return dfs(node.left,target-node.val) or dfs(node.right,target-node.val)  \n",
    "    \n",
    "print(dfs(b1,1))\n",
    "print(dfs(b2,21))"
   ]
  },
  {
   "cell_type": "code",
   "execution_count": 257,
   "id": "302ac86b-98ea-4467-a852-6627977d63f1",
   "metadata": {},
   "outputs": [
    {
     "name": "stdout",
     "output_type": "stream",
     "text": [
      "4\n"
     ]
    }
   ],
   "source": [
    "# Wir könnten auch wieder mit dfs den Baum durchlaufen und geeignete Variablen updaten\n",
    "def dfs(node, fertig = False):\n",
    "    global summe \n",
    "    if fertig or node is None: \n",
    "        return\n",
    "        \n",
    "    summe+=node.val\n",
    "    if node.left is None and node.right is None and summe == target:\n",
    "        fertig = True\n",
    "        return\n",
    "\n",
    "\n",
    "    dfs(node.left, fertig)\n",
    "    dfs(node.right, fertig)\n",
    "    if not fertig:\n",
    "        summe = summe-node.val\n",
    "    return\n",
    "\n",
    "summe = 0\n",
    "target = 21\n",
    "dfs(b2)\n",
    "print(summe)"
   ]
  },
  {
   "cell_type": "code",
   "execution_count": 268,
   "id": "452d2093-cff4-4a7a-b8ff-32ad754aa740",
   "metadata": {},
   "outputs": [
    {
     "name": "stdout",
     "output_type": "stream",
     "text": [
      "False\n",
      "True\n"
     ]
    }
   ],
   "source": [
    "# Wir könnten auch wieder mit dfs den Baum durchlaufen und eine Variable fertig updaten\n",
    "def dfs(node, target, summe=0):\n",
    "    global fertig\n",
    "    if fertig or node is None: \n",
    "        return\n",
    "        \n",
    "    summe+=node.val\n",
    "    if node.left is None and node.right is None and summe == target:\n",
    "        fertig = True\n",
    "        return\n",
    "\n",
    "    dfs(node.left, target, summe)\n",
    "    dfs(node.right, target, summe)\n",
    "    summe = summe-node.val\n",
    "    return\n",
    "\n",
    "\n",
    "fertig = False\n",
    "dfs(b1, 1)\n",
    "print(fertig)\n",
    "\n",
    "fertig = False\n",
    "dfs(b2, 21)\n",
    "print(fertig)\n",
    " "
   ]
  },
  {
   "cell_type": "markdown",
   "id": "1634f2bc-00f4-467c-801a-5447d4354e40",
   "metadata": {},
   "source": [
    "#### Lowest Common Ancestor (LCA)\n",
    "\n",
    "Die Kinder melden von unten nach oben, ob unter ihnen einer der gesuchten Knoten ist. Sobald zwei positive Meldungen\n",
    "bekommt, ist der LCA gefunden."
   ]
  },
  {
   "cell_type": "code",
   "execution_count": 272,
   "id": "664145d0-fc1f-4c4e-8926-8876d7489645",
   "metadata": {},
   "outputs": [],
   "source": [
    "def dfs(node, p, q):\n",
    "\n",
    "    if node is None:\n",
    "        return None\n",
    "    \n",
    "    if node == p or node == q:\n",
    "        return node\n",
    "    \n",
    "    left = dfs(node.left,p,q)\n",
    "    right = dfs(node.right,p,q)\n",
    "\n",
    "    if left and right:\n",
    "        return node\n",
    "\n",
    "    if left:\n",
    "        return left\n",
    "\n",
    "    return right"
   ]
  },
  {
   "cell_type": "code",
   "execution_count": 273,
   "id": "6a24b6a1-8b06-4a1d-9cf6-3f07539085ef",
   "metadata": {},
   "outputs": [
    {
     "name": "stdout",
     "output_type": "stream",
     "text": [
      "..14\n",
      "...13\n",
      ".10\n",
      "8\n",
      "...7\n",
      "..6\n",
      "...4\n",
      ".3\n",
      "..1\n",
      "\n"
     ]
    }
   ],
   "source": [
    "lst = [8, 3, 10, 1, 6, None, 14, None, None, 4, 7, 13]\n",
    "b2 = TreeNode(0)\n",
    "b2 = treeFromList(lst)\n",
    "printTree(b2)"
   ]
  },
  {
   "cell_type": "code",
   "execution_count": 275,
   "id": "876a1ea0-fd10-4061-8af5-61df35dec584",
   "metadata": {},
   "outputs": [
    {
     "name": "stdout",
     "output_type": "stream",
     "text": [
      "3\n"
     ]
    }
   ],
   "source": [
    "p = b2.left.left\n",
    "q = b2.left.right.left\n",
    "lca = dfs(b2,p,q)\n",
    "print(lca.val)"
   ]
  },
  {
   "cell_type": "code",
   "execution_count": null,
   "id": "c709d9bf-1722-4f68-ab11-1ad60ad9d37f",
   "metadata": {},
   "outputs": [],
   "source": []
  }
 ],
 "metadata": {
  "kernelspec": {
   "display_name": "Python 3 (ipykernel)",
   "language": "python",
   "name": "python3"
  },
  "language_info": {
   "codemirror_mode": {
    "name": "ipython",
    "version": 3
   },
   "file_extension": ".py",
   "mimetype": "text/x-python",
   "name": "python",
   "nbconvert_exporter": "python",
   "pygments_lexer": "ipython3",
   "version": "3.11.2"
  }
 },
 "nbformat": 4,
 "nbformat_minor": 5
}
