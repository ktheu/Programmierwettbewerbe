{
 "cells": [
  {
   "cell_type": "markdown",
   "id": "e8e978c1-9645-43d6-8f3e-1083373749cf",
   "metadata": {},
   "source": [
    "### Topologische Sortierung\n",
    "\n",
    "Die postvisit-Nummern in umgekehrter Reihenfolge liefern eine topologische Sortierung."
   ]
  },
  {
   "cell_type": "code",
   "execution_count": 2,
   "id": "82543fca-1ed1-41e2-8512-e7f20b049ac3",
   "metadata": {},
   "outputs": [
    {
     "name": "stdout",
     "output_type": "stream",
     "text": [
      "1 e\n",
      "2 f\n",
      "3 b\n",
      "4 a\n",
      "5 c\n",
      "6 d\n",
      "7 g\n"
     ]
    }
   ],
   "source": [
    "G = {\n",
    "'a': set('c'),\n",
    "'b': set('c'),\n",
    "'c': set('d'),\n",
    "'d': set('g'),\n",
    "'e': set('df'),\n",
    "'f': set('g'),\n",
    "'g': set()\n",
    "}\n",
    "\n",
    "def dfs(v):\n",
    "    global counter\n",
    "    visited[v] = True\n",
    "    for w in G[v]:\n",
    "        if not visited[w]:\n",
    "            dfs(w)\n",
    "    postvisit[v] = counter\n",
    "    counter += 1\n",
    "    \n",
    "visited = {v : False for v in G}\n",
    "postvisit = {v : 0 for v in G}\n",
    "counter = 1\n",
    "\n",
    "for v in G:\n",
    "    if not visited[v] :\n",
    "        dfs(v)\n",
    "\n",
    "topolist = sorted(G.keys(),key=lambda v: postvisit[v],reverse = True)\n",
    "for i in range(len(topolist)):\n",
    "    print(i+1,topolist[i])\n"
   ]
  },
  {
   "cell_type": "markdown",
   "id": "4eb295f3-3589-4d62-b182-c6fc6707f63a",
   "metadata": {},
   "source": [
    "------"
   ]
  },
  {
   "cell_type": "code",
   "execution_count": 5,
   "id": "9e3538b7-26bf-41fb-b29e-99a2e407cce3",
   "metadata": {},
   "outputs": [],
   "source": [
    "\n",
    "    "
   ]
  },
  {
   "cell_type": "code",
   "execution_count": null,
   "id": "da1c7622-5385-4cf7-9bc1-cf51ba5fea0a",
   "metadata": {},
   "outputs": [],
   "source": []
  }
 ],
 "metadata": {
  "kernelspec": {
   "display_name": "Python 3 (ipykernel)",
   "language": "python",
   "name": "python3"
  },
  "language_info": {
   "codemirror_mode": {
    "name": "ipython",
    "version": 3
   },
   "file_extension": ".py",
   "mimetype": "text/x-python",
   "name": "python",
   "nbconvert_exporter": "python",
   "pygments_lexer": "ipython3",
   "version": "3.11.2"
  }
 },
 "nbformat": 4,
 "nbformat_minor": 5
}
