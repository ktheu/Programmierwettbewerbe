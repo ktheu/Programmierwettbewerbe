{
 "cells": [
  {
   "cell_type": "markdown",
   "id": "a17e3d6f-b7cd-4b9a-ab16-8fca6217e36d",
   "metadata": {},
   "source": [
    "### Listen\n",
    "\n",
    "#### Shift/Rotate\n",
    "\n",
    "Ein k-facher Linksshift mit wrap-around der Liste a bedeutet, dass die Anfangsliste der Länge k nach hinten verschoben wird.\n",
    "Eine k-facher Rechtsshift ist ein len(a)-k (oder -k) fache Linksshift."
   ]
  },
  {
   "cell_type": "code",
   "execution_count": 4,
   "id": "b5183252-2a6a-424a-9dc8-7c588086f19f",
   "metadata": {},
   "outputs": [
    {
     "name": "stdout",
     "output_type": "stream",
     "text": [
      "[2, 3, 4, 5, 0, 1]\n",
      "[4, 5, 0, 1, 2, 3]\n"
     ]
    }
   ],
   "source": [
    "def shiftLeft(a,k):\n",
    "    idx = k%len(a)\n",
    "    return a[idx:]+a[:idx]\n",
    "\n",
    "def shiftRight(a,k):\n",
    "    return shiftLeft(a,-k)\n",
    "\n",
    "a = [0,1,2,3,4,5]\n",
    "print(shiftLeft(a,2))\n",
    "print(shiftRight(a,2))"
   ]
  },
  {
   "cell_type": "markdown",
   "id": "e9061022-0302-4b98-b450-fedb6801599a",
   "metadata": {},
   "source": [
    "#### Flatten\n",
    "Eine Liste von Listen kann mit einer doppelten Listcomprehension geflattet werden."
   ]
  },
  {
   "cell_type": "code",
   "execution_count": 5,
   "id": "d0362c52-005f-472c-9e18-184fa1cbb74c",
   "metadata": {},
   "outputs": [
    {
     "data": {
      "text/plain": [
       "[2, 3, 1, 4, 5, 6, 0]"
      ]
     },
     "execution_count": 5,
     "metadata": {},
     "output_type": "execute_result"
    }
   ],
   "source": [
    "aa = [[2, 3, 1], [4, 5], [6, 0]]\n",
    "b = [x for a in aa for x in a]\n",
    "b"
   ]
  }
 ],
 "metadata": {
  "kernelspec": {
   "display_name": "Python 3 (ipykernel)",
   "language": "python",
   "name": "python3"
  },
  "language_info": {
   "codemirror_mode": {
    "name": "ipython",
    "version": 3
   },
   "file_extension": ".py",
   "mimetype": "text/x-python",
   "name": "python",
   "nbconvert_exporter": "python",
   "pygments_lexer": "ipython3",
   "version": "3.11.2"
  }
 },
 "nbformat": 4,
 "nbformat_minor": 5
}
