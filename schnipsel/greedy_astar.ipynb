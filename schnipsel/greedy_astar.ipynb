{
 "cells": [
  {
   "cell_type": "markdown",
   "id": "8a0acffc-1d2d-41d5-ab92-281c0fb1c0ad",
   "metadata": {},
   "source": [
    "### Best-first Search (Greedy) und A*\n",
    "\n",
    "#### Best first search\n",
    "\n",
    "Best-first search ist ein allgemeiner Begriff für eine Suche, bei dem der state als nächstes aus der frontier geholt wird, der laut einer Evaluations-Funktion den besten (=niedrigsten) Wert hat.\n",
    "\n",
    "#### Greedy\n",
    "\n",
    "Greedy ist eine Form des best-first search. Der state ist am besten, der die größte Ähnlichkeit (oder den kleinsten Abstand) zum goalstate hat.\n"
   ]
  },
  {
   "cell_type": "code",
   "execution_count": 3,
   "id": "81e3be6d-585a-4b3c-a7ee-dedf914f7813",
   "metadata": {},
   "outputs": [],
   "source": [
    "def h(state):\n",
    "    '''\n",
    "    returns: Vorwärtskosten laut Heuristik\n",
    "    '''\n",
    "    pass\n",
    "\n",
    "\n",
    "from heapq import heappop, heappush\n",
    "def greedy(s):\n",
    "    frontier =[(h(s),s)]  \n",
    "    prev = {s:None}\n",
    "    while frontier:\n",
    "        _ ,state = heappop(frontier)  \n",
    "        if goaltest(state):\n",
    "            return prev, state\n",
    "        for v in nextstates(state):\n",
    "            if v not in prev:\n",
    "                heappush(frontier,(h(v),v))\n",
    "                prev[v] = state\n",
    "    return None, None"
   ]
  },
  {
   "cell_type": "markdown",
   "id": "4b95f633-14e8-482b-b95a-2248ea8ecd58",
   "metadata": {},
   "source": [
    "#### A*  \n",
    "\n",
    "Der A*-Algorithmus berücksichtigt sowohl die vermuteten Vorwärtskosten laut Heuristik als auch die bisher tatsächlich angefallenen (Rückwärts)-Kosten. \n",
    "\n",
    "Eine Heuristik heißt zulässig, wenn sie die tatsächlich anfallenden Kosten nicht überschätzt. Mit einer zulässigen Heuristik findet A* die optimale Lösung."
   ]
  },
  {
   "cell_type": "code",
   "execution_count": 6,
   "id": "9c3951db-6804-459a-b71b-ff0823ad48a2",
   "metadata": {},
   "outputs": [],
   "source": [
    "def h(state):\n",
    "    '''\n",
    "    returns: Vorwärtskosten laut Heuristik\n",
    "    '''\n",
    "    pass\n",
    "\n",
    "from heapq import heappop, heappush\n",
    "def astar(s):\n",
    "    frontier =[(h(s),s)]  \n",
    "    prev = {s:None}\n",
    "    g = {s:0}           # Rückwärtskosten\n",
    "    while frontier:\n",
    "        _ ,state = heappop(frontier)   \n",
    "        if goaltest(state):\n",
    "            return prev, state\n",
    "        for v in nextstates(state):\n",
    "            gg = g[state] + 1                # hier werden pro \"Zug\" die Rückwärtskosten um 1 erhöht\n",
    "            if v not in prev or gg < g[v]:   # wenn v noch nicht gesehen oder \n",
    "                g[v] = gg                    # die Rückwärtskosten geringer als bisher\n",
    "                heappush(frontier,(g[v]+h(v),v))\n",
    "                prev[v] = state\n",
    "    return None, None\n",
    " "
   ]
  },
  {
   "cell_type": "code",
   "execution_count": null,
   "id": "69be17dd-cba8-452d-b4be-6d2e0286d57b",
   "metadata": {},
   "outputs": [],
   "source": []
  }
 ],
 "metadata": {
  "kernelspec": {
   "display_name": "Python 3 (ipykernel)",
   "language": "python",
   "name": "python3"
  },
  "language_info": {
   "codemirror_mode": {
    "name": "ipython",
    "version": 3
   },
   "file_extension": ".py",
   "mimetype": "text/x-python",
   "name": "python",
   "nbconvert_exporter": "python",
   "pygments_lexer": "ipython3",
   "version": "3.11.2"
  }
 },
 "nbformat": 4,
 "nbformat_minor": 5
}
