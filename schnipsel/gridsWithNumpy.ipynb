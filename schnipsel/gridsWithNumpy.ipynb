{
 "cells": [
  {
   "cell_type": "markdown",
   "id": "0cebf1f7-fb43-4be7-9945-134aebc26e8a",
   "metadata": {},
   "source": [
    "### Grids mit Numpy\n",
    "\n",
    "Grids sind zweidimensionale Listen. Häufig nennt man das auch: Matrix."
   ]
  },
  {
   "cell_type": "code",
   "execution_count": 2,
   "id": "247c2aa5-0128-4c51-a2a8-6f411339685e",
   "metadata": {},
   "outputs": [],
   "source": [
    "import numpy as np"
   ]
  },
  {
   "cell_type": "markdown",
   "id": "06bf2449-63e0-4df6-bd8d-aa85b1479586",
   "metadata": {},
   "source": [
    "### Grids erzeugen"
   ]
  },
  {
   "cell_type": "code",
   "execution_count": 3,
   "id": "25cc0412-60d7-440d-a95a-cbdd786d5a08",
   "metadata": {},
   "outputs": [],
   "source": [
    "a = np.zeros((3,5),dtype='<U1')      # 3 x 5 matrix mit leeren Strings\n",
    "a = np.zeros((3,5))                  # 3 x 5 matrix mit float-Nullen\n",
    "a = np.zeros((3,5),dtype='int')      # 3 x 5 matrix mit int-Nullen\n",
    "a = np.zeros((3,5),dtype=object)     # 3 x 5 matrix mit None"
   ]
  },
  {
   "cell_type": "code",
   "execution_count": 4,
   "id": "3d1fe9c4-e7c4-4f09-bf05-ec29ec7e6740",
   "metadata": {},
   "outputs": [],
   "source": [
    "a = np.ones((3,5))                   # 3 x 5 matrix mit float-Einsen\n",
    "a = np.ones((3,5),dtype='int')       # 3 x 5 matrix mit int-Einsen"
   ]
  },
  {
   "cell_type": "code",
   "execution_count": 5,
   "id": "5c1d47c0-24af-4aaa-bed8-54562496acb9",
   "metadata": {},
   "outputs": [],
   "source": [
    "a = np.full((3,5),2)                  # 3 x 5 matrix, alle Felder mit 2 initialisiert\n",
    "a = np.full((3,5),'.')                # 3 x 5 matrix, alle Felder mit '.' initialisiert"
   ]
  },
  {
   "cell_type": "code",
   "execution_count": 6,
   "id": "3fc6cc4b-26cb-4ed4-a724-c15a8635b4c3",
   "metadata": {},
   "outputs": [
    {
     "data": {
      "text/plain": [
       "array([[1, 0, 0],\n",
       "       [0, 1, 0],\n",
       "       [0, 0, 1]])"
      ]
     },
     "execution_count": 6,
     "metadata": {},
     "output_type": "execute_result"
    }
   ],
   "source": [
    "a = np.eye(3)                         # 3 x 3 Einheitsmatrix (float)\n",
    "a = np.eye(3,dtype='int')             # 3 x 3 Einheitsmatrix (int)\n",
    "a"
   ]
  },
  {
   "cell_type": "code",
   "execution_count": 7,
   "id": "f73d2813-dc94-4080-9da1-e3359af3e215",
   "metadata": {},
   "outputs": [
    {
     "data": {
      "text/plain": [
       "array([[ 0,  1,  2,  3,  4],\n",
       "       [ 5,  6,  7,  8,  9],\n",
       "       [10, 11, 12, 13, 14]])"
      ]
     },
     "execution_count": 7,
     "metadata": {},
     "output_type": "execute_result"
    }
   ],
   "source": [
    "a = np.array(range(15)).reshape((3,5))        # Matrix aus range oder liste\n",
    "a"
   ]
  },
  {
   "cell_type": "code",
   "execution_count": 8,
   "id": "fa9b29a0-22e9-42d1-acb9-3e5db8594151",
   "metadata": {},
   "outputs": [
    {
     "data": {
      "text/plain": [
       "array([[0, 1, 0, 0, 1],\n",
       "       [1, 1, 0, 1, 1],\n",
       "       [1, 1, 0, 0, 0]])"
      ]
     },
     "execution_count": 8,
     "metadata": {},
     "output_type": "execute_result"
    }
   ],
   "source": [
    "# 3 x 5 Matrix mit zufällig 0 oder 1\n",
    "a = np.array([np.random.randint(0,2) for _ in range(15)]).reshape((3,5))\n",
    "a"
   ]
  },
  {
   "cell_type": "code",
   "execution_count": 9,
   "id": "a9c83827-98eb-4da1-bcac-d2ec0239eee0",
   "metadata": {},
   "outputs": [
    {
     "data": {
      "text/plain": [
       "array([0, 1, 0, 0, 1, 1, 1, 0, 1, 1, 1, 1, 0, 0, 0])"
      ]
     },
     "execution_count": 9,
     "metadata": {},
     "output_type": "execute_result"
    }
   ],
   "source": [
    "a.flatten()                                   # umwandeln in ein 1D-array, zurück mit reshape((3,5))"
   ]
  },
  {
   "cell_type": "markdown",
   "id": "0c56144e-0b05-4dfd-af42-2c5d38fd2b19",
   "metadata": {},
   "source": [
    "#### Elemente durchlaufen"
   ]
  },
  {
   "cell_type": "code",
   "execution_count": 10,
   "id": "40988fda-4e43-4168-a051-1b6ed48a1495",
   "metadata": {},
   "outputs": [],
   "source": [
    "a = np.array([\n",
    "   [6, 9, 6, 1],\n",
    "   [1, 2, 8, 7],\n",
    "   [3, 5, 6, 3]])"
   ]
  },
  {
   "cell_type": "code",
   "execution_count": 11,
   "id": "ea33e1e5-e1d6-41a4-98b7-a6143ae96466",
   "metadata": {},
   "outputs": [
    {
     "name": "stdout",
     "output_type": "stream",
     "text": [
      "6 9 6 1 1 2 8 7 3 5 6 3 "
     ]
    }
   ],
   "source": [
    "# Zeilen durchlaufen\n",
    "rows, cols = a.shape\n",
    "for i in range(rows):\n",
    "    for j in range(cols):\n",
    "        print(a[i,j], end= ' ')"
   ]
  },
  {
   "cell_type": "code",
   "execution_count": 12,
   "id": "7d7a1683-4f1d-4e95-9461-76c6549da64a",
   "metadata": {},
   "outputs": [
    {
     "name": "stdout",
     "output_type": "stream",
     "text": [
      "6 1 3 9 2 5 6 8 6 1 7 3 "
     ]
    }
   ],
   "source": [
    "# Spalten durchlaufen\n",
    "rows, cols = a.shape\n",
    "for j in range(cols):\n",
    "    for i in range(rows):\n",
    "        print(a[i,j], end= ' ')"
   ]
  },
  {
   "cell_type": "markdown",
   "id": "4e624d6d-17f9-4e14-bda2-4d2a645a902b",
   "metadata": {},
   "source": [
    "#### Zeile und Spalte\n",
    "```\n",
    "axis = 0 # operation bezieht sich auf Spalten\n",
    "axis = 1 # operation bezieht sich auf Zeile\n",
    "```"
   ]
  },
  {
   "cell_type": "code",
   "execution_count": 13,
   "id": "cfecabc3-d052-4955-8776-dac6d2351877",
   "metadata": {},
   "outputs": [
    {
     "data": {
      "text/plain": [
       "array([ 2,  7, 12])"
      ]
     },
     "execution_count": 13,
     "metadata": {},
     "output_type": "execute_result"
    }
   ],
   "source": [
    "a = np.array([\n",
    "   [ 0,  1,  2,  3,  4],\n",
    "   [ 5,  6,  7,  8,  9],\n",
    "   [10, 11, 12, 13, 14]])\n",
    "\n",
    "a[1,2]           # Element an Zeile 1 und Spalte 2    \n",
    "a[1,:]           # Zeile 1\n",
    "a[:,2]           # Spalte 2"
   ]
  },
  {
   "cell_type": "code",
   "execution_count": 262,
   "id": "35b9ee43-aae8-4867-9c40-5f1cec25dfbe",
   "metadata": {},
   "outputs": [
    {
     "data": {
      "text/plain": [
       "array([15, 18, 21, 24, 27])"
      ]
     },
     "execution_count": 262,
     "metadata": {},
     "output_type": "execute_result"
    }
   ],
   "source": [
    "np.sum(a, axis=0) # Die Summen für jede Spalte"
   ]
  },
  {
   "cell_type": "code",
   "execution_count": 263,
   "id": "7890938f-362e-4e78-9291-e38dd7b1a0e3",
   "metadata": {},
   "outputs": [
    {
     "data": {
      "text/plain": [
       "array([10, 35, 60])"
      ]
     },
     "execution_count": 263,
     "metadata": {},
     "output_type": "execute_result"
    }
   ],
   "source": [
    "np.sum(a, axis=1) # Die Summen für jede Zeile"
   ]
  },
  {
   "cell_type": "code",
   "execution_count": 17,
   "id": "d9dd2084-38f4-477a-af69-e39a21a83aee",
   "metadata": {},
   "outputs": [
    {
     "data": {
      "text/plain": [
       "array([ 2.,  7., 12.])"
      ]
     },
     "execution_count": 17,
     "metadata": {},
     "output_type": "execute_result"
    }
   ],
   "source": [
    "np.max(a, axis=0)   # Das Maximum für jede Spalte    # analog min\n",
    "np.max(a, axis=1)   # Das Maximum für jede Zeile\n",
    "np.mean(a, axis=0)  # Der Durchschnitt für jede Spalte\n",
    "np.mean(a, axis=1)  # Der Durchschnitt für jede Zeile\n"
   ]
  },
  {
   "cell_type": "code",
   "execution_count": 20,
   "id": "7bdb25c0-9a6d-4132-be08-5859f1a2bf47",
   "metadata": {},
   "outputs": [
    {
     "data": {
      "text/plain": [
       "15"
      ]
     },
     "execution_count": 20,
     "metadata": {},
     "output_type": "execute_result"
    }
   ],
   "source": [
    "np.sum(a[0])        # Summe für Zeile 0    \n",
    "np.sum(a[:,0])      # Summe für Spalte 0"
   ]
  },
  {
   "cell_type": "code",
   "execution_count": 24,
   "id": "7ed515e2-3c36-4c0f-927d-49fe1061097a",
   "metadata": {},
   "outputs": [
    {
     "data": {
      "text/plain": [
       "array([[ 0,  2,  4,  6,  8],\n",
       "       [10, 12, 14, 16, 18],\n",
       "       [20, 22, 24, 26, 28]])"
      ]
     },
     "execution_count": 24,
     "metadata": {},
     "output_type": "execute_result"
    }
   ],
   "source": [
    " "
   ]
  },
  {
   "cell_type": "markdown",
   "id": "b2f10aa7-9b20-478b-846b-2d9aa2810933",
   "metadata": {},
   "source": [
    "#### Vertauschen von Zeilen und Spalten"
   ]
  },
  {
   "cell_type": "code",
   "execution_count": 224,
   "id": "0475ddc8-3751-49f7-8205-7f52a1aa097c",
   "metadata": {},
   "outputs": [
    {
     "data": {
      "text/plain": [
       "array([[10, 11, 12, 13, 14],\n",
       "       [ 5,  6,  7,  8,  9],\n",
       "       [ 0,  1,  2,  3,  4]])"
      ]
     },
     "execution_count": 224,
     "metadata": {},
     "output_type": "execute_result"
    }
   ],
   "source": [
    "# Vertauschen zweier Zeilen\n",
    "a = np.array([\n",
    "   [ 0,  1,  2,  3,  4],\n",
    "   [ 5,  6,  7,  8,  9],\n",
    "   [10, 11, 12, 13, 14],\n",
    "])\n",
    "a1 = a.copy()                \n",
    "a1[[0,2],:] = a1[[2,0],:]      # vertausche Zeile 0 und 2\n",
    "a1"
   ]
  },
  {
   "cell_type": "code",
   "execution_count": 225,
   "id": "9a74b34d-f7a1-41dd-bf45-fde4384ed730",
   "metadata": {},
   "outputs": [
    {
     "data": {
      "text/plain": [
       "array([[ 2,  1,  0,  3,  4],\n",
       "       [ 7,  6,  5,  8,  9],\n",
       "       [12, 11, 10, 13, 14]])"
      ]
     },
     "execution_count": 225,
     "metadata": {},
     "output_type": "execute_result"
    }
   ],
   "source": [
    "# Vertauschen zweier Spalten    \n",
    "a1 = a.copy()  \n",
    "a1[:,[0,2]] = a1[:,[2,0]]      # vertausche Spalte 0 und 2\n",
    "a1"
   ]
  },
  {
   "cell_type": "code",
   "execution_count": 232,
   "id": "13c18c81-7271-4a6b-b61c-d101f78fd4d4",
   "metadata": {},
   "outputs": [
    {
     "data": {
      "text/plain": [
       "array([[ 0,  2,  3,  1,  4],\n",
       "       [ 5,  7,  8,  6,  9],\n",
       "       [10, 12, 13, 11, 14]])"
      ]
     },
     "execution_count": 232,
     "metadata": {},
     "output_type": "execute_result"
    }
   ],
   "source": [
    "# Umgruppierung von Spalten\n",
    "a1 = a.copy()                \n",
    "a1[:,[1,2,3]]= a1[:,[2,3,1]]\n",
    "a1"
   ]
  },
  {
   "cell_type": "markdown",
   "id": "3d53acf1-73c9-4ce8-aa30-610aeff1e1bc",
   "metadata": {},
   "source": [
    "#### Sortieren"
   ]
  },
  {
   "cell_type": "code",
   "execution_count": 148,
   "id": "13e98a8b-2777-4eb3-9f58-42f3e8cf7a1b",
   "metadata": {},
   "outputs": [
    {
     "data": {
      "text/plain": [
       "array([[ 6, 12, 13,  9, 10],\n",
       "       [12,  6, 16,  1, 17],\n",
       "       [ 2, 13,  8, 14, 29],\n",
       "       [ 7, 26, 19, 21,  6]])"
      ]
     },
     "execution_count": 148,
     "metadata": {},
     "output_type": "execute_result"
    }
   ],
   "source": [
    "np.random.seed(1)\n",
    "a0 = [np.random.randint(1,30) for _  in range(20)]\n",
    "a = np.array(a0).reshape((4,5))\n",
    "a"
   ]
  },
  {
   "cell_type": "code",
   "execution_count": 140,
   "id": "9be4bfe6-2c1e-4290-b32a-f9a6aad2ca1c",
   "metadata": {},
   "outputs": [
    {
     "data": {
      "text/plain": [
       "array([[ 2,  6,  8,  1,  6],\n",
       "       [ 6, 12, 13,  9, 10],\n",
       "       [ 7, 13, 16, 14, 17],\n",
       "       [12, 26, 19, 21, 29]])"
      ]
     },
     "execution_count": 140,
     "metadata": {},
     "output_type": "execute_result"
    }
   ],
   "source": [
    "b = np.sort(a,axis = 0)        # Spalten sortieren\n",
    "b"
   ]
  },
  {
   "cell_type": "code",
   "execution_count": 141,
   "id": "705a8447-07b6-495d-83c7-090170749d25",
   "metadata": {},
   "outputs": [
    {
     "data": {
      "text/plain": [
       "array([[ 6,  9, 10, 12, 13],\n",
       "       [ 1,  6, 12, 16, 17],\n",
       "       [ 2,  8, 13, 14, 29],\n",
       "       [ 6,  7, 19, 21, 26]])"
      ]
     },
     "execution_count": 141,
     "metadata": {},
     "output_type": "execute_result"
    }
   ],
   "source": [
    "b = np.sort(a,axis = 1)        # Zeilen sortieren\n",
    "b"
   ]
  },
  {
   "cell_type": "code",
   "execution_count": 142,
   "id": "3add4b37-0ddc-4bea-8eec-6ecea23765d0",
   "metadata": {},
   "outputs": [
    {
     "data": {
      "text/plain": [
       "array([[12, 26, 19, 21, 29],\n",
       "       [ 7, 13, 16, 14, 17],\n",
       "       [ 6, 12, 13,  9, 10],\n",
       "       [ 2,  6,  8,  1,  6]])"
      ]
     },
     "execution_count": 142,
     "metadata": {},
     "output_type": "execute_result"
    }
   ],
   "source": [
    "b = np.sort(a,axis = 0)[::-1]  # Spalten umgekehrt sortieren\n",
    "b"
   ]
  },
  {
   "cell_type": "code",
   "execution_count": 153,
   "id": "049ea4b5-9ab2-437a-a9df-8d40c47343e9",
   "metadata": {},
   "outputs": [
    {
     "data": {
      "text/plain": [
       "array([[13, 12, 10,  9,  6],\n",
       "       [17, 16, 12,  6,  1],\n",
       "       [29, 14, 13,  8,  2],\n",
       "       [26, 21, 19,  7,  6]])"
      ]
     },
     "execution_count": 153,
     "metadata": {},
     "output_type": "execute_result"
    }
   ],
   "source": [
    "b = a.transpose()              # Zeilen umgekehrt sortieren\n",
    "b = np.sort(b,axis = 0)[::-1]\n",
    "b = b.transpose()\n",
    "b"
   ]
  },
  {
   "cell_type": "markdown",
   "id": "bee405c7-e95d-4cbb-934b-3224612edb8a",
   "metadata": {},
   "source": [
    "#### Slicing"
   ]
  },
  {
   "cell_type": "code",
   "execution_count": 27,
   "id": "f03d2ba4-eae0-4adf-a832-d759815ae10c",
   "metadata": {},
   "outputs": [
    {
     "data": {
      "text/plain": [
       "array([[ 0,  1,  2,  3,  4],\n",
       "       [ 5,  6,  7,  8,  9],\n",
       "       [10, 11, 12, 13, 14]])"
      ]
     },
     "execution_count": 27,
     "metadata": {},
     "output_type": "execute_result"
    }
   ],
   "source": [
    "grid = np.arange(0,15,1).reshape((3,5))\n",
    "grid"
   ]
  },
  {
   "cell_type": "code",
   "execution_count": 34,
   "id": "151d8b69-d2f6-4c2e-9114-5b9f70dbe224",
   "metadata": {},
   "outputs": [
    {
     "data": {
      "text/plain": [
       "array([10, 11, 12, 13, 14])"
      ]
     },
     "execution_count": 34,
     "metadata": {},
     "output_type": "execute_result"
    }
   ],
   "source": [
    "# Zeile mit Index 2 als 1D-Liste\n",
    "grid[2,:]"
   ]
  },
  {
   "cell_type": "code",
   "execution_count": 33,
   "id": "a34f85ce-c80a-4d1e-80c8-0aef8b9f91b7",
   "metadata": {},
   "outputs": [
    {
     "data": {
      "text/plain": [
       "array([ 2,  7, 12])"
      ]
     },
     "execution_count": 33,
     "metadata": {},
     "output_type": "execute_result"
    }
   ],
   "source": [
    "# Spalte mit Index 2 als 1D-Liste\n",
    "grid[:,2]"
   ]
  },
  {
   "cell_type": "code",
   "execution_count": 36,
   "id": "6b2dc75c-7e85-48bd-bcb4-1d60fdfa39f9",
   "metadata": {},
   "outputs": [
    {
     "data": {
      "text/plain": [
       "array([[0, 1, 2, 3, 4],\n",
       "       [5, 6, 7, 8, 9]])"
      ]
     },
     "execution_count": 36,
     "metadata": {},
     "output_type": "execute_result"
    }
   ],
   "source": [
    "grid[0:2,:]   # Zeile 0 und 1 als 2D"
   ]
  },
  {
   "cell_type": "code",
   "execution_count": 38,
   "id": "fa1e226a-075c-49e1-b704-0d891b64c053",
   "metadata": {},
   "outputs": [
    {
     "data": {
      "text/plain": [
       "array([[ 0,  1],\n",
       "       [ 5,  6],\n",
       "       [10, 11]])"
      ]
     },
     "execution_count": 38,
     "metadata": {},
     "output_type": "execute_result"
    }
   ],
   "source": [
    "grid[:,0:2]    # Spalten 0 und 1 als 2D"
   ]
  },
  {
   "cell_type": "code",
   "execution_count": 41,
   "id": "2f4dd147-3794-4430-949a-db03d498a4c3",
   "metadata": {},
   "outputs": [
    {
     "data": {
      "text/plain": [
       "array([[1, 2, 3],\n",
       "       [6, 7, 8]])"
      ]
     },
     "execution_count": 41,
     "metadata": {},
     "output_type": "execute_result"
    }
   ],
   "source": [
    "grid[0:2,1:4]   # Zeile 0,1 mit Spalten 1,2,3 als Teilbereich"
   ]
  },
  {
   "cell_type": "markdown",
   "id": "5aec50f6-9b67-4e1e-a666-80facb37f83e",
   "metadata": {},
   "source": [
    "#### Transposition und Drehen"
   ]
  },
  {
   "cell_type": "code",
   "execution_count": 239,
   "id": "d3ab790a-d510-40d6-b026-37e609951b40",
   "metadata": {},
   "outputs": [
    {
     "data": {
      "text/plain": [
       "array([[ 0,  5, 10],\n",
       "       [ 1,  6, 11],\n",
       "       [ 2,  7, 12],\n",
       "       [ 3,  8, 13],\n",
       "       [ 4,  9, 14]])"
      ]
     },
     "execution_count": 239,
     "metadata": {},
     "output_type": "execute_result"
    }
   ],
   "source": [
    "# Transposition - Zeile 0 wird zu Spalte 0 usw.\n",
    "a = np.array([\n",
    "   [ 0,  1,  2,  3,  4],\n",
    "   [ 5,  6,  7,  8,  9],\n",
    "   [10, 11, 12, 13, 14]])\n",
    "a.T"
   ]
  },
  {
   "cell_type": "code",
   "execution_count": 248,
   "id": "094aa56a-3f36-49d2-acb4-01966175bd9f",
   "metadata": {},
   "outputs": [
    {
     "data": {
      "text/plain": [
       "array([[10,  5,  0],\n",
       "       [11,  6,  1],\n",
       "       [12,  7,  2],\n",
       "       [13,  8,  3],\n",
       "       [14,  9,  4]])"
      ]
     },
     "execution_count": 248,
     "metadata": {},
     "output_type": "execute_result"
    }
   ],
   "source": [
    "# im Uhrzeigersinn um 90 Grad drehen\n",
    "a[::-1,:].T "
   ]
  },
  {
   "cell_type": "code",
   "execution_count": 250,
   "id": "54e7ca82-c0d6-4974-8d60-8f2d67ac700e",
   "metadata": {},
   "outputs": [
    {
     "data": {
      "text/plain": [
       "array([[ 4,  9, 14],\n",
       "       [ 3,  8, 13],\n",
       "       [ 2,  7, 12],\n",
       "       [ 1,  6, 11],\n",
       "       [ 0,  5, 10]])"
      ]
     },
     "execution_count": 250,
     "metadata": {},
     "output_type": "execute_result"
    }
   ],
   "source": [
    "# gegen Uhrzeigersinn um 90 Grad drehen\n",
    "a[:,::-1].T"
   ]
  },
  {
   "cell_type": "code",
   "execution_count": 244,
   "id": "8c5e9491-7903-484c-b332-7b145a25030e",
   "metadata": {},
   "outputs": [
    {
     "data": {
      "text/plain": [
       "array([[14, 13, 12, 11, 10],\n",
       "       [ 9,  8,  7,  6,  5],\n",
       "       [ 4,  3,  2,  1,  0]])"
      ]
     },
     "execution_count": 244,
     "metadata": {},
     "output_type": "execute_result"
    }
   ],
   "source": [
    "# um 180 Grad drehen\n",
    "a[::-1,::-1] "
   ]
  },
  {
   "cell_type": "markdown",
   "id": "05045072-ea32-4d29-a2ef-27ca5b832dba",
   "metadata": {},
   "source": [
    "#### Find"
   ]
  },
  {
   "cell_type": "code",
   "execution_count": 125,
   "id": "b7f6b818-8895-49c1-8f67-17daa9e14280",
   "metadata": {},
   "outputs": [
    {
     "name": "stdout",
     "output_type": "stream",
     "text": [
      "[[1 0 1 1 0]\n",
      " [1 0 0 0 0]\n",
      " [1 0 0 0 0]]\n"
     ]
    },
    {
     "data": {
      "text/plain": [
       "[(0, 0), (0, 2), (0, 3), (1, 0), (2, 0)]"
      ]
     },
     "execution_count": 125,
     "metadata": {},
     "output_type": "execute_result"
    }
   ],
   "source": [
    "# Indizes für einen bestimmten Wert finden\n",
    "a = np.array([np.random.randint(0,2) for _ in range(15)]).reshape((3,5))\n",
    "print(a)\n",
    "list(zip(*np.where(a == 1)))"
   ]
  },
  {
   "cell_type": "code",
   "execution_count": 205,
   "id": "3db63468-40db-4970-807f-9111428615b9",
   "metadata": {},
   "outputs": [
    {
     "data": {
      "text/plain": [
       "array([[False, False, False],\n",
       "       [False,  True,  True],\n",
       "       [False, False,  True]])"
      ]
     },
     "execution_count": 205,
     "metadata": {},
     "output_type": "execute_result"
    }
   ],
   "source": [
    "# Check an welchen Stellen die 2 steht\n",
    "a = np.array([\n",
    "   [0, 1, 1],\n",
    "   [0, 2, 2],\n",
    "   [1, 1, 2],\n",
    "])\n",
    "a == 2"
   ]
  },
  {
   "cell_type": "code",
   "execution_count": 210,
   "id": "39f6d882-930b-4b91-983e-3c892a4a3c5e",
   "metadata": {},
   "outputs": [
    {
     "data": {
      "text/plain": [
       "3"
      ]
     },
     "execution_count": 210,
     "metadata": {},
     "output_type": "execute_result"
    }
   ],
   "source": [
    "# Anzahlen zählen\n",
    "np.count_nonzero(a == 2)           # Anzahl Zweien in a"
   ]
  },
  {
   "cell_type": "code",
   "execution_count": 194,
   "id": "e055e9eb-68ac-430a-969c-35aacb009572",
   "metadata": {},
   "outputs": [
    {
     "data": {
      "text/plain": [
       "array([[False,  True,  True,  True],\n",
       "       [ True, False,  True, False],\n",
       "       [False, False, False,  True]])"
      ]
     },
     "execution_count": 194,
     "metadata": {},
     "output_type": "execute_result"
    }
   ],
   "source": [
    "# check, an welchen Stellen die in der Liste angegebenen Werte sind\n",
    "a = np.array(\n",
    "    [[7, 3, 8, 3],\n",
    "     [8, 6, 9, 1],\n",
    "     [6, 4, 2, 3],\n",
    "    ])\n",
    "np.isin(a,[3,8,9])"
   ]
  },
  {
   "cell_type": "code",
   "execution_count": null,
   "id": "2df3c818-aa67-4cdf-9cb5-7456ee202fb5",
   "metadata": {},
   "outputs": [],
   "source": [
    "# Die Koordinate mit dem Maximum finden\n",
    "maxIdx = np.unravel_index(np.argmax(a), a.shape)"
   ]
  },
  {
   "cell_type": "markdown",
   "id": "05316616-908d-493f-b015-822cb6bf56af",
   "metadata": {},
   "source": [
    "#### 2D - 1D Conversion"
   ]
  },
  {
   "cell_type": "code",
   "execution_count": 13,
   "id": "18332871-67c1-4087-8e91-a5100b12cc23",
   "metadata": {},
   "outputs": [
    {
     "data": {
      "text/plain": [
       "(1, 2)"
      ]
     },
     "execution_count": 13,
     "metadata": {},
     "output_type": "execute_result"
    }
   ],
   "source": [
    "# Das Element mit Index 6 hat in einer 3x4 Matrix die Koordinate (1,2)\n",
    "np.unravel_index(6,(3,4))"
   ]
  },
  {
   "cell_type": "markdown",
   "id": "4b5a765d-f364-4317-afc0-fd3380c6e3e0",
   "metadata": {},
   "source": [
    "#### Boolean Indexing"
   ]
  },
  {
   "cell_type": "code",
   "execution_count": 50,
   "id": "60547cdb-4625-4efb-8811-3d136bc6d1cd",
   "metadata": {},
   "outputs": [
    {
     "data": {
      "text/plain": [
       "array([[7, 3, 8, 3],\n",
       "       [8, 6, 9, 1],\n",
       "       [6, 4, 2, 3]])"
      ]
     },
     "execution_count": 50,
     "metadata": {},
     "output_type": "execute_result"
    }
   ],
   "source": [
    "a = [7, 3, 8, 3, 8, 6, 9, 1, 6, 4, 2, 3]\n",
    "grid = np.array(a).reshape((3,4))\n",
    "grid"
   ]
  },
  {
   "cell_type": "code",
   "execution_count": 52,
   "id": "b7654278-ca62-4591-b0b4-d702c51ef1b6",
   "metadata": {},
   "outputs": [
    {
     "data": {
      "text/plain": [
       "array([3, 3, 1, 2, 3])"
      ]
     },
     "execution_count": 52,
     "metadata": {},
     "output_type": "execute_result"
    }
   ],
   "source": [
    "# Alle Zahlen im grid, die kleiner 4 sind als 1D-array\n",
    "grid[grid<4]"
   ]
  },
  {
   "cell_type": "code",
   "execution_count": 53,
   "id": "946ecf0c-1676-49ea-a975-9e22f038466b",
   "metadata": {},
   "outputs": [
    {
     "data": {
      "text/plain": [
       "array([[7, 3, 8, 3],\n",
       "       [6, 4, 2, 3]])"
      ]
     },
     "execution_count": 53,
     "metadata": {},
     "output_type": "execute_result"
    }
   ],
   "source": [
    "# Alle Zeilen, die in der Spalte mit Index 2 eine gerade Zahl haben \n",
    "grid[grid[:,2]%2==0,:]     "
   ]
  },
  {
   "cell_type": "code",
   "execution_count": 54,
   "id": "5b7f11e1-22e1-491f-bc3d-0a40fab7d9d7",
   "metadata": {},
   "outputs": [
    {
     "data": {
      "text/plain": [
       "array([[7, 3],\n",
       "       [8, 6],\n",
       "       [6, 4]])"
      ]
     },
     "execution_count": 54,
     "metadata": {},
     "output_type": "execute_result"
    }
   ],
   "source": [
    "# Alle Spalten, die in der Zeile mit Index 1 eine gerade Zahl haben.\n",
    "grid[:,grid[1,:]%2==0]    "
   ]
  }
 ],
 "metadata": {
  "kernelspec": {
   "display_name": "Python 3 (ipykernel)",
   "language": "python",
   "name": "python3"
  },
  "language_info": {
   "codemirror_mode": {
    "name": "ipython",
    "version": 3
   },
   "file_extension": ".py",
   "mimetype": "text/x-python",
   "name": "python",
   "nbconvert_exporter": "python",
   "pygments_lexer": "ipython3",
   "version": "3.11.2"
  }
 },
 "nbformat": 4,
 "nbformat_minor": 5
}
