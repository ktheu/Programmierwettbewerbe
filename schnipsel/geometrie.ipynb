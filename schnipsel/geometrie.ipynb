{
 "cells": [
  {
   "cell_type": "markdown",
   "id": "7bccccf2-d224-4949-91a5-b663de324b3a",
   "metadata": {},
   "source": [
    "### Geometrie 2D\n",
    "\n",
    "#### Euklidsche Distanz zwischen zwei Punkten"
   ]
  },
  {
   "cell_type": "code",
   "execution_count": 1,
   "id": "b5383f3b-510c-4dc8-b526-565582249f8f",
   "metadata": {},
   "outputs": [
    {
     "data": {
      "text/plain": [
       "1.4142135623730951"
      ]
     },
     "execution_count": 1,
     "metadata": {},
     "output_type": "execute_result"
    }
   ],
   "source": [
    "import math\n",
    "p1, p2 = (0,0), (1,1)   # zwei 2D-Punkte\n",
    "math.dist(p1,p2)"
   ]
  },
  {
   "cell_type": "markdown",
   "id": "7ea21c5e-ca94-4994-9f5b-36f581e003a3",
   "metadata": {},
   "source": [
    "#### Koordinatenform\n",
    "\n",
    "Koordinatenform einer Geraden, die durch zwei Punkte gegeben ist. Der Vector (a,b) ist eine\n",
    "Normale."
   ]
  },
  {
   "cell_type": "code",
   "execution_count": 7,
   "id": "84924674-bdac-4b35-93ba-65a58547cd5a",
   "metadata": {},
   "outputs": [
    {
     "name": "stdout",
     "output_type": "stream",
     "text": [
      "Koordinatenform: -4x + 2y = -2\n"
     ]
    }
   ],
   "source": [
    "def koordinatenform(p1, p2):\n",
    "    ''' \n",
    "    p1, p2: zwei Punkte als Tuple, die die Gerade festlegen\n",
    "    returns: a, b, c der Geradengleichung a*x + b*y = c '''\n",
    "    x1, y1 = p1\n",
    "    x2, y2 = p2\n",
    "    a = -(y2-y1)\n",
    "    b = (x2-x1)\n",
    "    c = a*x1 + b*y1\n",
    "    return a, b, c\n",
    "\n",
    "p1 = (1,1)\n",
    "p2 = (3,5)\n",
    "a, b, c = koordinatenform(p1, p2) \n",
    "print(f'Koordinatenform: {a}x + {b}y = {c}')\n"
   ]
  },
  {
   "cell_type": "markdown",
   "id": "795e131c-a764-44a7-8154-1496bbcdcad9",
   "metadata": {},
   "source": [
    "#### Abstand Punkt-Gerade"
   ]
  },
  {
   "cell_type": "code",
   "execution_count": 10,
   "id": "3bad3dce-de00-4906-90f1-c4940bdcfdb9",
   "metadata": {},
   "outputs": [
    {
     "data": {
      "text/plain": [
       "0.7071067811865475"
      ]
     },
     "execution_count": 10,
     "metadata": {},
     "output_type": "execute_result"
    }
   ],
   "source": [
    "def abstand_punkt_gerade(p, p1, p2):\n",
    "    '''\n",
    "    p Punkt, p1 und p2 definieren die Gerade g\n",
    "    returns: Abstand von p zu g.         \n",
    "    '''\n",
    "    if p1 == p2: raise Exception(f'keine Gerade durch {p1} und {p2} gegeben')\n",
    "    x, y = p\n",
    "    x1, y1 = p1\n",
    "    x2, y2 = p2\n",
    "    nx, ny =  -(y2-y1),(x2-x1)  # Normale\n",
    "    return abs(nx*(x-x1) + ny*(y-y1))/math.sqrt(nx*nx+ny*ny)\n",
    "\n",
    "p1 = (0,0)\n",
    "p2 = (1,1)\n",
    "p = (0,1)\n",
    "abstand_punkt_gerade(p, p1, p2)"
   ]
  },
  {
   "cell_type": "markdown",
   "id": "3a1d8d73-f1ea-4f76-a7c3-77ea119f74cb",
   "metadata": {},
   "source": [
    "#### Schnittpunkt zweier Geraden"
   ]
  },
  {
   "cell_type": "code",
   "execution_count": 11,
   "id": "c6bf7cc4-3eeb-471d-ae49-7bda31c693e1",
   "metadata": {},
   "outputs": [
    {
     "data": {
      "text/plain": [
       "(0.5, 0.5)"
      ]
     },
     "execution_count": 11,
     "metadata": {},
     "output_type": "execute_result"
    }
   ],
   "source": [
    "def schnittpunkt(p1, p2, p3, p4):\n",
    "    ''' returns Schnittpunkt der beiden Geraden, \n",
    "    die durch p1, p2 bzw. p3, p4 gegeben sind '''\n",
    "    xd = p1[0]-p2[0], p3[0]-p4[0]\n",
    "    yd = p1[1]-p2[1], p3[1]-p4[1]\n",
    "    \n",
    "    def det(a,b):\n",
    "        return a[0]*b[1]-a[1]*b[0]\n",
    "    \n",
    "    div = det(xd,yd)\n",
    "    if div == 0:\n",
    "        raise Exception('kein Schnittpunkt')\n",
    "    d = det(p1,p2), det(p3,p4)\n",
    "    x = det(d, xd) / div\n",
    "    y = det(d, yd) / div\n",
    "    return x, y\n",
    " \n",
    "p1, p2 = (0,0), (1,1)\n",
    "p3, p4 = (0,1), (1,0)\n",
    "schnittpunkt(p1, p2, p3, p4)"
   ]
  },
  {
   "cell_type": "markdown",
   "id": "493c46df-9d41-42cb-84f4-e33731744253",
   "metadata": {},
   "source": [
    "#### Winkel im Dreieck"
   ]
  },
  {
   "cell_type": "code",
   "execution_count": 14,
   "id": "caa0feb8-828b-449a-8a4e-45de8b0c72ef",
   "metadata": {},
   "outputs": [
    {
     "data": {
      "text/plain": [
       "45.0"
      ]
     },
     "execution_count": 14,
     "metadata": {},
     "output_type": "execute_result"
    }
   ],
   "source": [
    "def getWinkel(p1,p2,p3):\n",
    "    '''\n",
    "    returns: Winkel in Grad am Punkt p1 im Dreieck p1-p2-p3\n",
    "    '''\n",
    "    dx = p3[0]-p1[0]    # Ziel - Start\n",
    "    dy = p3[1]-p1[1]\n",
    "    alpha1 = math.degrees(math.atan2(dy,dx))\n",
    "    dx = p2[0]-p1[0]    # Ziel - Start\n",
    "    dy = p2[1]-p1[1]\n",
    "    alpha2 = math.degrees(math.atan2(dy,dx))\n",
    "    angle = abs(alpha1-alpha2)\n",
    "    if angle > 180: angle-= 360\n",
    "    return abs(angle)\n",
    "\n",
    "p1, p2, p3 = (0,0), (1,1), (1,0)\n",
    "getWinkel(p1, p2, p3)"
   ]
  }
 ],
 "metadata": {
  "kernelspec": {
   "display_name": "Python 3 (ipykernel)",
   "language": "python",
   "name": "python3"
  },
  "language_info": {
   "codemirror_mode": {
    "name": "ipython",
    "version": 3
   },
   "file_extension": ".py",
   "mimetype": "text/x-python",
   "name": "python",
   "nbconvert_exporter": "python",
   "pygments_lexer": "ipython3",
   "version": "3.11.2"
  }
 },
 "nbformat": 4,
 "nbformat_minor": 5
}
