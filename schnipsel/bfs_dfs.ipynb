{
 "cells": [
  {
   "cell_type": "markdown",
   "id": "fc40d642-5486-4d6b-ac98-38b31f28566a",
   "metadata": {},
   "source": [
    "### BFS und DFS\n",
    "\n",
    "\n",
    "#### Breitensuche \n",
    "\n",
    "Beispiel: Die Suche nach einem goalstate in einem Baum von Möglichkeiten.\n",
    "\n",
    "\n",
    "\n",
    "Wir beginnen mit einem startstate. Mögliche Folgeaktionen führen uns zu den nextstates. Die Knoten in unserem Suchbaum sind nicht die Aktionen, sondern die aus den Aktionen resultierenden Zustände. Unterschiedliche Aktionsfolgen können dieselben Zustände erzeugen. Dieselben Zustände wollen wir nicht nicht mehrfach untersuchen.\n",
    "\n",
    "Die states modellieren wir als Tuple, weil wir sie als keys in dem dictionary prev verwenden wollen. Das dictionary prev speichert für ein Tuple den Vorgänger. Es dient zwei Zwecken:\n",
    "-  Wir können feststellen, ob wir ein state im Laufe der Suche schon einmal gesehen haben.\n",
    "-  Wir können die Abfolge der Aktionen rekonstruieren, die uns vom Start zum Ziel führen.\n"
   ]
  },
  {
   "cell_type": "code",
   "execution_count": 1,
   "id": "33c9f856-49c2-4518-b6d3-a44d2bb15a9e",
   "metadata": {},
   "outputs": [],
   "source": [
    "from collections import deque\n",
    "def bfs(s):\n",
    "    frontier =  deque([s])\n",
    "    prev = {startstate:None}\n",
    "    while frontier:\n",
    "        state = frontier.popleft()\n",
    "        if goaltest(state):\n",
    "            return prev, state\n",
    "        for v in nextstates(state):\n",
    "            if v not in prev:\n",
    "                frontier.append(v)\n",
    "                prev[v] = state\n",
    "    return None, None\n",
    "\n",
    "def reconstructPath(prev,goalstate):\n",
    "    state = goalstate\n",
    "    path = []\n",
    "    while state is not None:\n",
    "        path.append(state)\n",
    "        state = prev[state]\n",
    "    path.reverse()\n",
    "    return path\n",
    "\n",
    "def nextstates(state):\n",
    "    '''\n",
    "    returns:  Liste mit möglichen Folgestellungen zu state\n",
    "    '''\n",
    "\n",
    "def goaltest(state):\n",
    "    '''\n",
    "    returns: True, wenn state eine Lösung ist\n",
    "    '''\n",
    "\n",
    "startstate = ....\n",
    "prev, goalstate = bfs(startstate)\n",
    "path = reconstructPath(prev, goalstate)"
   ]
  },
  {
   "cell_type": "markdown",
   "id": "f696447c-e524-43a6-8f26-8f5e0292e100",
   "metadata": {},
   "source": [
    "#### Tiefensuche\n",
    "\n",
    "Der Code für die iterative Tiefensuche gleicht dem der Breitensuche, nur verwenden wir als frontier einen Stack statt einer Schlange. \n"
   ]
  },
  {
   "cell_type": "code",
   "execution_count": null,
   "id": "28464c6e-e962-4433-b87b-e695b1c692a4",
   "metadata": {},
   "outputs": [],
   "source": [
    "def dfs(s):\n",
    "    frontier =  [s]\n",
    "    prev = {s:None}\n",
    "    while frontier:\n",
    "        state = frontier.pop()  \n",
    "        if goaltest(state):\n",
    "            return prev, state\n",
    "        for v in nextstates(state):\n",
    "            if v not in prev:\n",
    "                frontier.append(v)\n",
    "                prev[v] = state\n",
    "    return None, None"
   ]
  },
  {
   "cell_type": "markdown",
   "id": "0068a37a-eeb0-4c91-a3c8-eb32e61a24e3",
   "metadata": {},
   "source": [
    "Wenn uns der Weg zum Ziel nicht interessiert, können wir statt dem dict prev auch ein set visited nehmen."
   ]
  },
  {
   "cell_type": "code",
   "execution_count": 4,
   "id": "acb4366f-17f9-4d0d-bdf1-6be7566f71a3",
   "metadata": {},
   "outputs": [],
   "source": [
    "def dfs(s):\n",
    "    frontier =  [s]\n",
    "    visited = set()\n",
    "    while frontier:\n",
    "        state = frontier.pop()  \n",
    "        if goaltest(state):\n",
    "            return state\n",
    "        visited.add(state)\n",
    "        for v in nextstates(state):\n",
    "            if v not in visited:\n",
    "                frontier.append(v)\n",
    "    return visited"
   ]
  },
  {
   "cell_type": "markdown",
   "id": "acf50674-0c46-4bb8-9804-dca3b53e7d3a",
   "metadata": {},
   "source": [
    "Die rekursive Variante:\n"
   ]
  },
  {
   "cell_type": "code",
   "execution_count": 5,
   "id": "61ee5e8b-2481-4dae-b17b-4b4ca34d4b91",
   "metadata": {},
   "outputs": [],
   "source": [
    "visited = set()\n",
    "def dfs(v):  \n",
    "    visited.add(v)\n",
    "    for w in nextstates(v):\n",
    "        if w not in visited:\n",
    "            dfs(w) "
   ]
  },
  {
   "cell_type": "code",
   "execution_count": null,
   "id": "6b238431-6e74-457a-996a-f10e42644a26",
   "metadata": {},
   "outputs": [],
   "source": []
  }
 ],
 "metadata": {
  "kernelspec": {
   "display_name": "Python 3 (ipykernel)",
   "language": "python",
   "name": "python3"
  },
  "language_info": {
   "codemirror_mode": {
    "name": "ipython",
    "version": 3
   },
   "file_extension": ".py",
   "mimetype": "text/x-python",
   "name": "python",
   "nbconvert_exporter": "python",
   "pygments_lexer": "ipython3",
   "version": "3.11.2"
  }
 },
 "nbformat": 4,
 "nbformat_minor": 5
}
