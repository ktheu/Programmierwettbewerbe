{
 "cells": [
  {
   "cell_type": "markdown",
   "id": "1611de22-65b5-49c9-89fc-b5e241d36ca8",
   "metadata": {},
   "source": [
    "## A1\n",
    "\n",
    "Wende auf diese Aufgabe einen brute-force Ansatz an. Das ist hier nicht der cleverste Ansatz, aber wir wollen brute-force üben.\n",
    "\n",
    "\n"
   ]
  },
  {
   "cell_type": "markdown",
   "id": "938ac742-3578-4e1d-87ef-73f7a95cf76c",
   "metadata": {},
   "source": [
    "<img src='beavaria.png' width='600'>"
   ]
  },
  {
   "cell_type": "code",
   "execution_count": 115,
   "id": "584fa03e-47e0-464f-94ef-a25279f4078a",
   "metadata": {},
   "outputs": [],
   "source": [
    "def clan(tup):\n",
    "    a = [1,2,3,4,5]\n",
    "    sum = 0\n",
    "    for w in tup:\n",
    "        i,j = w\n",
    "        x = a[i]\n",
    "        y = a[j]\n",
    "        if i>j:\n",
    "            a.pop(i)\n",
    "            a.pop(j)\n",
    "        else:\n",
    "            a.pop(j)\n",
    "            a.pop(i)\n",
    "        sum = sum + x + y\n",
    "        a.append(x+y)\n",
    "    \n",
    "    return sum + a[0] + a[1]"
   ]
  },
  {
   "cell_type": "code",
   "execution_count": 116,
   "id": "3a6ecd66-60cd-4a80-b84e-30c2b71795a8",
   "metadata": {},
   "outputs": [
    {
     "name": "stdout",
     "output_type": "stream",
     "text": [
      "33\n"
     ]
    }
   ],
   "source": [
    "import itertools as it\n",
    "com52 = it.combinations(range(5),r=2)\n",
    "com42 = it.combinations(range(4),r=2)\n",
    "com32 = it.combinations(range(3),r=2)\n",
    "\n",
    "bestVal = 100000\n",
    "for x in it.product(com52,com42,com32):\n",
    "    if clan(x) < bestVal:\n",
    "        bestVal = clan(x)\n",
    "print(bestVal)"
   ]
  },
  {
   "cell_type": "code",
   "execution_count": null,
   "id": "62075938-dd90-463f-bce0-08526b6c1d6a",
   "metadata": {},
   "outputs": [],
   "source": []
  }
 ],
 "metadata": {
  "kernelspec": {
   "display_name": "Python 3 (ipykernel)",
   "language": "python",
   "name": "python3"
  },
  "language_info": {
   "codemirror_mode": {
    "name": "ipython",
    "version": 3
   },
   "file_extension": ".py",
   "mimetype": "text/x-python",
   "name": "python",
   "nbconvert_exporter": "python",
   "pygments_lexer": "ipython3",
   "version": "3.9.12"
  }
 },
 "nbformat": 4,
 "nbformat_minor": 5
}
