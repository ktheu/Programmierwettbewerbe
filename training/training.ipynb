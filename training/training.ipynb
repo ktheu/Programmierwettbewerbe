{
 "cells": [
  {
   "cell_type": "markdown",
   "id": "cf826365-b287-4fbd-9082-57424937eb3d",
   "metadata": {},
   "source": [
    "### Listen"
   ]
  },
  {
   "cell_type": "code",
   "execution_count": 5,
   "id": "ba99e8a4-1bb2-46b3-a0a0-d78201faa3c5",
   "metadata": {},
   "outputs": [
    {
     "name": "stdout",
     "output_type": "stream",
     "text": [
      "Finding tests in func\n",
      "Trying:\n",
      "    a = [1,2,3,4]\n",
      "Expecting nothing\n",
      "ok\n",
      "Trying:\n",
      "    func(a)\n",
      "Expecting:\n",
      "    [1, 4]\n",
      "ok\n",
      "Trying:\n",
      "    a\n",
      "Expecting:\n",
      "    [1, 2, 3, 4]\n",
      "ok\n",
      "Trying:\n",
      "    a = [1]\n",
      "Expecting nothing\n",
      "ok\n",
      "Trying:\n",
      "    func(a)\n",
      "Expecting:\n",
      "    [1, 1]\n",
      "ok\n"
     ]
    }
   ],
   "source": [
    "import doctest\n",
    "def func(a):\n",
    "    ''' 001  #Listen\n",
    "    a: Nicht leere Liste \n",
    "    returns: eine neue Liste mit zwei Elementen: dem ersten und letzten Element von a. \n",
    "    \n",
    "    >>> a = [1,2,3,4]\n",
    "    >>> func(a)\n",
    "    [1, 4]\n",
    "    >>> a\n",
    "    [1, 2, 3, 4]\n",
    "    \n",
    "    >>> a = [1]\n",
    "    >>> func(a)\n",
    "    [1, 1]\n",
    "    \n",
    "    '''\n",
    "    b = []\n",
    "    b.append(a[0])\n",
    "    b.append(a[-1])\n",
    "    return b\n",
    "\n",
    "doctest.run_docstring_examples(func,globals(),name=\"func\",verbose=True)"
   ]
  },
  {
   "cell_type": "code",
   "execution_count": 6,
   "id": "c2b00b35-a73a-4d66-8f0c-d0448a423583",
   "metadata": {},
   "outputs": [
    {
     "name": "stdout",
     "output_type": "stream",
     "text": [
      "Finding tests in func\n",
      "Trying:\n",
      "    a = [1,4,4,3]\n",
      "Expecting nothing\n",
      "ok\n",
      "Trying:\n",
      "    func(a)\n",
      "Expecting nothing\n",
      "ok\n",
      "Trying:\n",
      "    a\n",
      "Expecting:\n",
      "    [1, 3]\n",
      "ok\n",
      "Trying:\n",
      "    a = [4,4,4,4]\n",
      "Expecting nothing\n",
      "ok\n",
      "Trying:\n",
      "    func(a)\n",
      "Expecting nothing\n",
      "ok\n",
      "Trying:\n",
      "    a\n",
      "Expecting:\n",
      "    []\n",
      "ok\n"
     ]
    }
   ],
   "source": [
    "import doctest\n",
    "def func(a):\n",
    "    ''' 002 #Listen\n",
    "    a: Nicht leere Liste von ganzen Zahlen\n",
    "    returns: None, löscht das größte Element in a. \n",
    "             Wenn das größte Element mehrmals vorkommt, werden all Vorkommen gelöscht.\n",
    "             \n",
    "  \n",
    "    >>> a = [1,4,4,3]\n",
    "    >>> func(a)\n",
    "    >>> a\n",
    "    [1, 3]\n",
    "    \n",
    "    >>> a = [4,4,4,4]\n",
    "    >>> func(a)\n",
    "    >>> a\n",
    "    []\n",
    "    '''\n",
    "    x = max(a) \n",
    "    while len(a) > 0 and max(a) == x:\n",
    "        a.remove(x)\n",
    "\n",
    "        \n",
    "doctest.run_docstring_examples(func,globals(),name=\"func\",verbose=True)\n",
    " "
   ]
  },
  {
   "cell_type": "code",
   "execution_count": null,
   "id": "a8aa53fb-1de2-4e31-88a6-ffdae160eb57",
   "metadata": {},
   "outputs": [],
   "source": []
  }
 ],
 "metadata": {
  "kernelspec": {
   "display_name": "Python 3 (ipykernel)",
   "language": "python",
   "name": "python3"
  },
  "language_info": {
   "codemirror_mode": {
    "name": "ipython",
    "version": 3
   },
   "file_extension": ".py",
   "mimetype": "text/x-python",
   "name": "python",
   "nbconvert_exporter": "python",
   "pygments_lexer": "ipython3",
   "version": "3.9.6"
  }
 },
 "nbformat": 4,
 "nbformat_minor": 5
}
