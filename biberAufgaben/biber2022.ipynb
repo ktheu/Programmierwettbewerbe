{
 "cells": [
  {
   "cell_type": "markdown",
   "id": "18d5db08-aad3-4bd8-9c22-4a13931f4005",
   "metadata": {
    "tags": []
   },
   "source": [
    "## Informatik Biber 20222\n"
   ]
  },
  {
   "cell_type": "markdown",
   "id": "f003981f-ef46-4fe6-bd13-099fd5cac3e9",
   "metadata": {},
   "source": [
    "### Fiat Lux\n",
    "\n",
    "<img src='fiatlux.png' width='500'>"
   ]
  },
  {
   "cell_type": "raw",
   "id": "0a7cf72a-07d8-40b6-a549-0b9103b41913",
   "metadata": {},
   "source": [
    "1 1 0 1 0 0 0 1\n",
    "1 1 0 1 0 0 1 0\n",
    "1 1 0 1 0 1 0 1\n",
    "1 1 0 1 0 1 1 0\n",
    "1 1 0 1 1 0 0 1\n",
    "1 1 0 1 1 0 1 0\n",
    "1 1 0 1 1 1 0 0\n",
    "1 1 0 1 1 1 1 1\n",
    "1 1 1 0 0 0 0 1\n",
    "1 1 1 0 0 0 1 0\n",
    "1 1 1 0 0 1 0 1\n",
    "1 1 1 0 0 1 1 0\n",
    "1 1 1 0 1 0 0 1\n",
    "1 1 1 0 1 0 1 0\n",
    "1 1 1 0 1 1 0 0\n",
    "1 1 1 0 1 1 1 1"
   ]
  },
  {
   "cell_type": "code",
   "execution_count": 5,
   "id": "ee586424-587f-4e1c-bec6-08cf140ce484",
   "metadata": {},
   "outputs": [],
   "source": [
    "def xor(a,b):\n",
    "    return (a or b) and not (a and b)\n",
    "\n",
    "def fiat(x):\n",
    "    a,b,c,d,e,f,g,h = x\n",
    "    g1 = a and b\n",
    "    b1 = xor(c,d)\n",
    "    g2 = e and f\n",
    "    b2 = xor(g,h)\n",
    "    g3 = g1 and b1\n",
    "    b3 = xor(g2,b2)\n",
    "    fiat = g3 and b3\n",
    "    return fiat"
   ]
  },
  {
   "cell_type": "code",
   "execution_count": 9,
   "id": "768a87ca-9a7c-4138-a9c2-aff5a774714f",
   "metadata": {},
   "outputs": [
    {
     "name": "stdout",
     "output_type": "stream",
     "text": [
      "1 1 0 1 0 0 0 1\n",
      "1 1 0 1 0 0 1 0\n",
      "1 1 0 1 0 1 0 1\n",
      "1 1 0 1 0 1 1 0\n",
      "1 1 0 1 1 0 0 1\n",
      "1 1 0 1 1 0 1 0\n",
      "1 1 0 1 1 1 0 0\n",
      "1 1 0 1 1 1 1 1\n",
      "1 1 1 0 0 0 0 1\n",
      "1 1 1 0 0 0 1 0\n",
      "1 1 1 0 0 1 0 1\n",
      "1 1 1 0 0 1 1 0\n",
      "1 1 1 0 1 0 0 1\n",
      "1 1 1 0 1 0 1 0\n",
      "1 1 1 0 1 1 0 0\n",
      "1 1 1 0 1 1 1 1\n"
     ]
    }
   ],
   "source": [
    "import itertools as it\n",
    "iter = it.product([0,1],repeat = 8)\n",
    "for x in iter:\n",
    "    if fiat(x):\n",
    "        print(*x)"
   ]
  },
  {
   "cell_type": "code",
   "execution_count": null,
   "id": "f99bb17f-77ac-41c7-aaab-fae0cc74b502",
   "metadata": {},
   "outputs": [],
   "source": []
  }
 ],
 "metadata": {
  "kernelspec": {
   "display_name": "Python 3 (ipykernel)",
   "language": "python",
   "name": "python3"
  },
  "language_info": {
   "codemirror_mode": {
    "name": "ipython",
    "version": 3
   },
   "file_extension": ".py",
   "mimetype": "text/x-python",
   "name": "python",
   "nbconvert_exporter": "python",
   "pygments_lexer": "ipython3",
   "version": "3.10.6"
  }
 },
 "nbformat": 4,
 "nbformat_minor": 5
}
