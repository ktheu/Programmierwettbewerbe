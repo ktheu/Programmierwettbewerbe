{
 "cells": [
  {
   "cell_type": "markdown",
   "id": "02929ba7-0245-4b62-ae5b-a7f4d603b3a9",
   "metadata": {},
   "source": [
    "### Graphen - Teil 1"
   ]
  },
  {
   "cell_type": "markdown",
   "id": "f38d7554-4b33-479b-94db-cf5980e846af",
   "metadata": {},
   "source": [
    "#### Counting Rooms  \n",
    "Es wird nach der Anzahl zusammenhängender Räume (= connected components) gefragt.\n",
    "Wir starten von jedem nicht besuchten Knoten ein dfs und zählen, wie oft wir starten müssen um alle Knoten zu besuchen. \n",
    "\n",
    "*grids einlesen, dfs, erreichbarkeit*"
   ]
  },
  {
   "cell_type": "code",
   "execution_count": null,
   "id": "d239933a-43c5-40cc-adf9-2cceb08ae75d",
   "metadata": {},
   "outputs": [],
   "source": [
    "10 10\n",
    "####.###..\n",
    "#.######.#\n",
    "##.######.\n",
    "###.###..#\n",
    "##.####..#\n",
    "#####..###\n",
    "#.########\n",
    "#.####.#.#\n",
    "#####..##.\n",
    "######.###"
   ]
  },
  {
   "cell_type": "code",
   "execution_count": null,
   "id": "072d5fa7-4380-4b19-9637-345f31de8206",
   "metadata": {},
   "outputs": [],
   "source": [
    "10 10\n",
    "##..###..#\n",
    "..#.#.....\n",
    "..#...####\n",
    "#.....##..\n",
    "..#...#..#\n",
    ".##.#.##..\n",
    ".......#..\n",
    "..........\n",
    "...#.#....\n",
    "..#..#...####...##.#"
   ]
  },
  {
   "cell_type": "markdown",
   "id": "35b6abe1-cdbf-41e9-8428-f038e653ab21",
   "metadata": {},
   "source": [
    "#### Labyrinth\n",
    "In einem grid soll ein kürzester Weg von A nach B angegeben werden. Wir starten von A ein bfs und merken uns jeweils den Vorgänger. Falls wir B erreichen, rekonstruieren wir den Pfad von B zurück nach A.\n",
    "\n"
   ]
  },
  {
   "cell_type": "code",
   "execution_count": null,
   "id": "cf4b6369-3214-425b-a7b1-49daa62beed5",
   "metadata": {},
   "outputs": [],
   "source": [
    "10 10\n",
    "B#..##.#..\n",
    "#....A##..\n",
    "#.....#..#\n",
    ".#......#.\n",
    "..........\n",
    ".##..#.#..\n",
    "#.....#...\n",
    ".#..###..#\n",
    "..#.#.....\n",
    "..#......."
   ]
  },
  {
   "cell_type": "code",
   "execution_count": null,
   "id": "731e808a-4814-4389-b2c7-2750fada7cc8",
   "metadata": {},
   "outputs": [],
   "source": [
    "10 10\n",
    "...#..A.#.\n",
    "....B...##\n",
    "...#......\n",
    "..........\n",
    "...#.#....\n",
    "..##..#...\n",
    ".......#..\n",
    "#.......#.\n",
    "...#....#.\n",
    "#......#.."
   ]
  },
  {
   "cell_type": "markdown",
   "id": "735d1770-a62f-4aaa-9b00-75dbdbba1b25",
   "metadata": {},
   "source": [
    "#### Building Roads\n",
    "\n",
    "Es geht darum, die connected components zu finden und dann beliebige Verbindungen zwischen den connected components aufzuzählen.\n",
    "\n",
    "Wir starten von jedem nicht besuchten Knoten ein dfs und vermerken bei jedem Knoten, welche cc-Nummer er hat.\n",
    "Bei jedem neuen dfs-Start erhöhen wir die cc-Nummer um 1. Wir können uns beispielsweise jeweils den ersten Knoten merken, der die nächste cc-Nummer erhält und dann alle gemerkten Knoten verbinden."
   ]
  },
  {
   "cell_type": "code",
   "execution_count": null,
   "id": "7980780d-87ca-4ae0-a247-11b9d5805368",
   "metadata": {},
   "outputs": [],
   "source": [
    "10 10\n",
    "3 9\n",
    "6 8\n",
    "9 10\n",
    "7 8\n",
    "8 10\n",
    "7 10\n",
    "1 9\n",
    "8 9\n",
    "6 9\n",
    "2 7"
   ]
  },
  {
   "cell_type": "markdown",
   "id": "d06f257b-eb2b-4056-829d-a4c956d277c8",
   "metadata": {},
   "source": [
    "<img src='buildingRoads1.png' width='400'>"
   ]
  },
  {
   "cell_type": "code",
   "execution_count": null,
   "id": "d8e4400d-35d5-4095-9f28-da16dc68e1fd",
   "metadata": {},
   "outputs": [],
   "source": [
    "10 10\n",
    "4 8\n",
    "5 9\n",
    "4 9\n",
    "2 7\n",
    "6 7\n",
    "7 10\n",
    "1 5\n",
    "6 9\n",
    "8 9\n",
    "2 4"
   ]
  },
  {
   "cell_type": "markdown",
   "id": "24a3790a-2c7a-4637-9a5b-81b1c737829d",
   "metadata": {},
   "source": [
    "<img src='buildingRoads2.png' width='400'>"
   ]
  },
  {
   "cell_type": "markdown",
   "id": "3bb62b74-77e1-4dc4-9610-60a6e67371f2",
   "metadata": {},
   "source": [
    "#### Message Route\n",
    "\n",
    "In einem ungewichteten, ungerichteten Graphen soll ein kürzester Weg gefunden werden. Es soll die Anzahl der Knoten und die Abfolge der Knoten eines kürzesten Weges ausgegeben werden. <br>\n",
    "Wir starten bfs bei 1 und merken uns den Vorgänger."
   ]
  },
  {
   "cell_type": "markdown",
   "id": "67b95107-87b1-4de7-b55f-ce59a7e9acff",
   "metadata": {},
   "source": [
    "Test1:\n",
    "\n",
    "<img src='messageRoute1.png' width='500'>"
   ]
  },
  {
   "cell_type": "markdown",
   "id": "fcd55acc-2027-4038-84ed-4fad3559bb57",
   "metadata": {},
   "source": [
    "Test 4:\n",
    "\n",
    "<img src='messageRoute4.png' width='500'>"
   ]
  },
  {
   "cell_type": "markdown",
   "id": "480b7a37-a4ef-45de-942f-12a03e8ee45d",
   "metadata": {},
   "source": [
    "#### Building Teams\n",
    "\n",
    "Es soll herausgefunden werden, ob ein Freundschaftsgraph bipartite ist (d.h. sich aufteilen lässt in 2 Knotenmengen, so dass innerhalb jeder Knotenmengen keine Verbindung vorhanden ist).\n",
    "\n",
    "Wir wählen einen beliebigen Knoten als Startknoten und weisen ihm das Team 0 zu. Dann gehen wir mit bfs durch den Graphen. Für alle Nachbarn v eines Knoten u: Falls v noch nicht besucht wurde, bekommt er die andere Teamid (nicht die von u). Falls v schon besucht wurde und diesselbe Teamid wie u hat, wird abgebrochen. Der Graph ist dann nicht bipartite.\n",
    "\n",
    "Wir können das Verfahren auch mit dfs machen."
   ]
  },
  {
   "cell_type": "markdown",
   "id": "6909f590-2d8d-428b-ae28-be2bf2de94db",
   "metadata": {},
   "source": [
    "Test1:\n",
    "\n",
    "<img src='buildingTeams1.png' width='350'>"
   ]
  },
  {
   "cell_type": "markdown",
   "id": "a3b736a9-67a5-4ffa-a9db-6cb64c65ed67",
   "metadata": {},
   "source": [
    "Test1 (andere Darstellung)\n",
    "\n",
    "<img src='buildingTeams1A.png' width='400'>"
   ]
  },
  {
   "cell_type": "markdown",
   "id": "021e6565-f220-4f74-b7b0-b0163b6d712f",
   "metadata": {},
   "source": [
    "#### Round Trip"
   ]
  },
  {
   "cell_type": "markdown",
   "id": "916c61eb-163b-40e9-99eb-bbad77c9a0e3",
   "metadata": {},
   "source": [
    "In einem Straßennetz soll eine Rundtour gefunden werden, die durch mindestens 2 andere Städte geht.\n",
    "\n",
    "Wir starten von jedem nicht-besuchten Knoten ein dfs und merken uns jeweils den Vorgänger.\n",
    "Wenn wir bei der Untersuchung der Nachbarn einen Knoten finden, den wir schon besucht haben und\n",
    "der nicht der Vorgänger ist, haben wir einen gesuchten Kreis gefunden.\n",
    "\n",
    "<img src='roundTrip4.png' width='400'>\n"
   ]
  },
  {
   "cell_type": "code",
   "execution_count": null,
   "id": "76e47e22-77a6-4125-9014-b3498341759d",
   "metadata": {},
   "outputs": [],
   "source": []
  }
 ],
 "metadata": {
  "kernelspec": {
   "display_name": "Python 3 (ipykernel)",
   "language": "python",
   "name": "python3"
  },
  "language_info": {
   "codemirror_mode": {
    "name": "ipython",
    "version": 3
   },
   "file_extension": ".py",
   "mimetype": "text/x-python",
   "name": "python",
   "nbconvert_exporter": "python",
   "pygments_lexer": "ipython3",
   "version": "3.11.2"
  }
 },
 "nbformat": 4,
 "nbformat_minor": 5
}
