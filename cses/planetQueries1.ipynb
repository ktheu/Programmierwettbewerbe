{
 "cells": [
  {
   "cell_type": "markdown",
   "id": "dcf19ea7-118f-4226-8730-fa76fd8a1962",
   "metadata": {},
   "source": [
    "### Planet Queries 1"
   ]
  },
  {
   "cell_type": "markdown",
   "id": "6f3f303c-b1e7-41af-8075-18d4798a5683",
   "metadata": {},
   "source": [
    "<img src='bild1.png' width=\"600\">"
   ]
  },
  {
   "cell_type": "code",
   "execution_count": 30,
   "id": "79afceb8-60b9-4d93-b97e-622696c149f0",
   "metadata": {},
   "outputs": [
    {
     "name": "stdout",
     "output_type": "stream",
     "text": [
      "0 2 3 4 5 3 4\n",
      "0 3 4 5 3 4 5\n",
      "0 5 3 4 5 3 4\n",
      "0 3 4 5 3 4 5\n"
     ]
    }
   ],
   "source": [
    "nxt = [[] for _ in range(30)]\n",
    "nxt[0]= [0,2,3,4,5,3,4]\n",
    "for j in range(1,30):\n",
    "    nxt[j] = [nxt[j-1][nxt[j-1][i]] for i in range(7)]\n",
    "\n",
    "for j in range(4):\n",
    "    print(*nxt[j])"
   ]
  },
  {
   "cell_type": "code",
   "execution_count": 36,
   "id": "5908f952-e670-4c13-8643-199410472676",
   "metadata": {},
   "outputs": [
    {
     "name": "stdout",
     "output_type": "stream",
     "text": [
      "0 2 3 4 5 3 4\n",
      "0 3 4 5 3 4 5\n",
      "0 5 3 4 5 3 4\n",
      "0 3 4 5 3 4 5\n"
     ]
    }
   ],
   "source": [
    "# oder so\n",
    "nxt = []\n",
    "nxt.append([0,2,3,4,5,3,4])\n",
    "for _ in range(1,30):\n",
    "    nxt.append([nxt[-1][nxt[-1][i]] for i in range(7)])\n",
    "\n",
    "for j in range(4):\n",
    "    print(*nxt[j])"
   ]
  },
  {
   "cell_type": "markdown",
   "id": "de72f387-652a-4987-8874-9e809cd6e61f",
   "metadata": {},
   "source": [
    "#### Warum bis nxt[29]?\n",
    "\n",
    "Laut constraints werdem maximal $10^9$ Sprünge gemacht."
   ]
  },
  {
   "cell_type": "code",
   "execution_count": 38,
   "id": "241ba195-bd05-4cd1-8402-91765d8adabe",
   "metadata": {},
   "outputs": [
    {
     "data": {
      "text/plain": [
       "29.897352853986263"
      ]
     },
     "execution_count": 38,
     "metadata": {},
     "output_type": "execute_result"
    }
   ],
   "source": [
    "import math\n",
    "math.log(10**9,2) "
   ]
  },
  {
   "cell_type": "markdown",
   "id": "719dc6c5-2520-426f-9637-4511e6d4ca2c",
   "metadata": {},
   "source": [
    "Um $10^9$ als Summe von Zweierpotenzen darzustellen reicht es, bis $2^{29}$ zu gehen"
   ]
  },
  {
   "cell_type": "code",
   "execution_count": 39,
   "id": "f09f4437-3645-4f6c-b620-244c7a319868",
   "metadata": {},
   "outputs": [
    {
     "data": {
      "text/plain": [
       "'0b111011100110101100101000000000'"
      ]
     },
     "execution_count": 39,
     "metadata": {},
     "output_type": "execute_result"
    }
   ],
   "source": [
    "bin(10**9)"
   ]
  },
  {
   "cell_type": "code",
   "execution_count": 40,
   "id": "983f4d7b-c66a-4b74-95c4-b78875051db2",
   "metadata": {},
   "outputs": [
    {
     "data": {
      "text/plain": [
       "30"
      ]
     },
     "execution_count": 40,
     "metadata": {},
     "output_type": "execute_result"
    }
   ],
   "source": [
    "len(bin(10**9)[2:])"
   ]
  },
  {
   "cell_type": "markdown",
   "id": "8c97ac56-d15b-4299-a964-14b9f6daa59f",
   "metadata": {},
   "source": [
    "#### Der << Operator\n",
    "\n",
    "1 << k ist eine Zahl mit der Binärdarstellung 1 und dann k Nullen."
   ]
  },
  {
   "cell_type": "code",
   "execution_count": 52,
   "id": "82ced4b1-d2da-45d1-8b1b-921fe84fb6de",
   "metadata": {
    "jp-MarkdownHeadingCollapsed": true
   },
   "outputs": [
    {
     "name": "stdout",
     "output_type": "stream",
     "text": [
      "1 << 0 ist die Zahl 1, binär 1\n",
      "1 << 1 ist die Zahl 2, binär 10\n",
      "1 << 2 ist die Zahl 4, binär 100\n",
      "1 << 3 ist die Zahl 8, binär 1000\n",
      "1 << 4 ist die Zahl 16, binär 10000\n"
     ]
    }
   ],
   "source": [
    "for i in range(5):\n",
    "    print(f'1 << {i} ist die Zahl {1<<i}, binär {bin(1<<i)[2:]}')"
   ]
  },
  {
   "cell_type": "markdown",
   "id": "2bbf4dd5-9d9c-4cf8-bbd8-4100258e4f12",
   "metadata": {},
   "source": [
    "#### Der & Operator\n",
    "\n",
    "a & b ist die Zahl, die in ihrer Binärdarstellung genau an den Stellen eine Eins hat, an denen a und b Einsen haben."
   ]
  },
  {
   "cell_type": "code",
   "execution_count": 53,
   "id": "9eacf859-3504-434d-b04e-0b1c6f67a270",
   "metadata": {},
   "outputs": [
    {
     "data": {
      "text/plain": [
       "16"
      ]
     },
     "execution_count": 53,
     "metadata": {},
     "output_type": "execute_result"
    }
   ],
   "source": [
    "17 & 22"
   ]
  },
  {
   "cell_type": "code",
   "execution_count": 54,
   "id": "8180d06e-92da-4fe4-84fa-16840fb3d74d",
   "metadata": {},
   "outputs": [
    {
     "name": "stdout",
     "output_type": "stream",
     "text": [
      "0b10001\n",
      "0b10110\n",
      "0b10000\n"
     ]
    }
   ],
   "source": [
    "print(bin(17))\n",
    "print(bin(22))\n",
    "print(bin(17&22))"
   ]
  },
  {
   "cell_type": "markdown",
   "id": "1f5c8d7b-46d2-4366-a4b5-95905ac6924b",
   "metadata": {},
   "source": [
    "#### Zerlegung einer Zahl in eine Summe von Zweierpotenzen"
   ]
  },
  {
   "cell_type": "code",
   "execution_count": 55,
   "id": "e5f21401-854b-4e1f-b4e5-b04ea18a2824",
   "metadata": {},
   "outputs": [
    {
     "name": "stdout",
     "output_type": "stream",
     "text": [
      "[2, 4, 8, 32] 46\n"
     ]
    }
   ],
   "source": [
    "k = 46\n",
    "a = []\n",
    "for i in range(m+1):\n",
    "    if k&(1<<i):\n",
    "       a.append(2**i)\n",
    "print(a,sum(a))"
   ]
  },
  {
   "cell_type": "markdown",
   "id": "8e5b9625-5b42-4c6f-9b7e-f7fcc6b95875",
   "metadata": {},
   "source": [
    "#### Example"
   ]
  },
  {
   "cell_type": "code",
   "execution_count": 63,
   "id": "9a2fddd9-109e-4e8b-b2a7-2ae9ba38d068",
   "metadata": {},
   "outputs": [
    {
     "name": "stdout",
     "output_type": "stream",
     "text": [
      "Overwriting input.txt\n"
     ]
    }
   ],
   "source": [
    "%%writefile input.txt\n",
    "6 3\n",
    "2 3 4 5 3 4\n",
    "1 8\n",
    "6 5\n",
    "3 4"
   ]
  },
  {
   "cell_type": "code",
   "execution_count": 70,
   "id": "df881fdd-a0f6-44c2-bdff-b2fe93f15439",
   "metadata": {},
   "outputs": [
    {
     "name": "stdout",
     "output_type": "stream",
     "text": [
      "3\n",
      "5\n",
      "4\n"
     ]
    }
   ],
   "source": [
    "f = open('input.txt')\n",
    "\n",
    "n, q = [int(x) for x in f.readline().split()]\n",
    "\n",
    "nxt = []\n",
    "nxt.append([0]+[int(x) for x in f.readline().split()])\n",
    "for _ in range(1,30):\n",
    "    nxt.append([0]+[nxt[-1][nxt[-1][i]] for i in range(1,n+1)])\n",
    "\n",
    "for _ in range(q):\n",
    "    x, k = [int(x) for x in f.readline().split()]\n",
    "    for i in range(30):\n",
    "        if k&(1<<i):\n",
    "            x = nxt[i][x]\n",
    "    print(x)"
   ]
  },
  {
   "cell_type": "code",
   "execution_count": null,
   "id": "5e06ed0a-73c3-495a-9cf1-69129781897c",
   "metadata": {},
   "outputs": [],
   "source": []
  }
 ],
 "metadata": {
  "kernelspec": {
   "display_name": "Python 3 (ipykernel)",
   "language": "python",
   "name": "python3"
  },
  "language_info": {
   "codemirror_mode": {
    "name": "ipython",
    "version": 3
   },
   "file_extension": ".py",
   "mimetype": "text/x-python",
   "name": "python",
   "nbconvert_exporter": "python",
   "pygments_lexer": "ipython3",
   "version": "3.11.2"
  }
 },
 "nbformat": 4,
 "nbformat_minor": 5
}
