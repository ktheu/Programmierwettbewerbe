{
 "cells": [
  {
   "cell_type": "markdown",
   "id": "f8051299-c10f-45dd-8e2c-ffb5ae3684f2",
   "metadata": {},
   "source": [
    "<img src=a2.png>"
   ]
  },
  {
   "cell_type": "markdown",
   "id": "8e5d8955-10d2-4c15-be92-86e1f8d0417a",
   "metadata": {},
   "source": [
    "#### Beispieldaten (1-5)\n",
    "\n",
    "Jede Datei beschreibt eine Route und enthält\n",
    "\n",
    "  * in der ersten Zeile die Anzahl der Hotels n,\n",
    "  * in der zweiten Zeile Gesamtfahrzeit t in Minuten\n",
    "  * in den weiteren n Zeilen jeweils für jedes Hotel:\n",
    "    * die Entfernung t_i des Hotels vom Start, sowie\n",
    "    * die Bewertung b_i des Hotels.\n",
    "    \n",
    "Die maximale Tagesreise beträgt 6*60 = 360 Minuten"
   ]
  },
  {
   "cell_type": "code",
   "execution_count": 1,
   "id": "8d661cb3-a5c7-4a36-afa1-dff0eb1e1a4b",
   "metadata": {},
   "outputs": [
    {
     "name": "stdout",
     "output_type": "stream",
     "text": [
      "12\n",
      "1680\n",
      "12 4.3\n",
      "326 4.8\n",
      "347 2.7\n",
      "359 2.6\n",
      "553 3.6\n",
      "590 0.8\n",
      "687 4.4\n",
      "1007 2.8\n",
      "1008 2.6\n",
      "1321 2.1\n",
      "1360 2.8\n",
      "1411 3.3\n",
      "\n"
     ]
    }
   ],
   "source": [
    "nr = 1\n",
    "f = open('./beispieldaten/hotels'+str(nr)+'.txt')\n",
    "print(f.read())"
   ]
  },
  {
   "cell_type": "markdown",
   "id": "3b1f43a2-9753-441b-aaee-84a4afba4722",
   "metadata": {},
   "source": [
    "Die Reise darf 5 Tage dauern. Die Ankunft ist kein Hotel, sondern die Verwandten in Portugal. Also darf man höchstens 4 Hotels für die Übernachtung aussuchen. Wir müssen uns also (maximal) 4 mal für ein Hotel entscheiden. In der Menge der Entscheidungsmöglichkeiten suchen wir eine optimale Lösung: die niedrigste Bewertung eines Hotels soll so hoch wie möglich sein.\n",
    "\n",
    "Als *state* wählen wir das Tupel der bisherigen Entscheidungen. \n",
    "\n",
    "```\n",
    "state = (326, 687)      # Der state mit 2 Hotelübernachtungen\n",
    "```"
   ]
  },
  {
   "cell_type": "code",
   "execution_count": 46,
   "id": "9db33466-07bc-4a37-9504-fc1ba8b5b632",
   "metadata": {},
   "outputs": [],
   "source": [
    "startstate = ()               # leeres Tupel"
   ]
  },
  {
   "cell_type": "markdown",
   "id": "ef2fb46f-1a06-47c5-8f94-8b60a8aac453",
   "metadata": {},
   "source": [
    "Wir müssen die beiden Funktionen *goaltest* und *nextstates* implementieren. Für den Zielwert erlauben wir uns eine globale Variable.\n",
    "Die Hotels modellieren wir als dictionary."
   ]
  },
  {
   "cell_type": "code",
   "execution_count": 47,
   "id": "6f13f1b5-3250-447e-bc56-062e064c1c16",
   "metadata": {},
   "outputs": [
    {
     "name": "stdout",
     "output_type": "stream",
     "text": [
      "{12: 4.3, 326: 4.8, 347: 2.7, 359: 2.6, 553: 3.6, 590: 0.8, 687: 4.4, 1007: 2.8, 1008: 2.6, 1321: 2.1, 1360: 2.8, 1411: 3.3}\n",
      "1680\n"
     ]
    }
   ],
   "source": [
    "nr = 1\n",
    "f = open('./beispieldaten/hotels'+str(nr)+'.txt')\n",
    "anz = int(f.readline())\n",
    "ziel = int(f.readline())\n",
    "hotels = {}\n",
    "for i in range(anz):\n",
    "    t, b =  f.readline().split()\n",
    "    t = int(t)\n",
    "    b = float(b)\n",
    "    if t in hotels and b > hotels[t]:\n",
    "        hotels[t]=b\n",
    "    if t not in hotels:\n",
    "        hotels[t]=b\n",
    "print(hotels)\n",
    "print(ziel)\n",
    "    \n",
    " "
   ]
  },
  {
   "cell_type": "code",
   "execution_count": 48,
   "id": "97989c94-73ee-4f14-afb2-d9bcd7199c99",
   "metadata": {},
   "outputs": [],
   "source": [
    "def goaltest(state):\n",
    "    if ziel <= 360:\n",
    "        return True\n",
    "    if len(state) == 0: return False\n",
    "    return ziel - state[-1] <= 360"
   ]
  },
  {
   "cell_type": "code",
   "execution_count": 49,
   "id": "8c94bb86-1517-4d38-b0c1-e8918d3348ae",
   "metadata": {},
   "outputs": [],
   "source": [
    "def nextstates(state):\n",
    "    tmp = []\n",
    "    if len(state) == 4: return tmp\n",
    "    pos = state[-1] if len(state) > 0 else 0\n",
    "    for h in hotels:\n",
    "        if h - pos <= 360:\n",
    "            tmp.append(state + (h,))\n",
    "    return tmp        \n",
    "    "
   ]
  },
  {
   "cell_type": "markdown",
   "id": "11725d38-1aa6-4b15-b790-cebdbd484eaf",
   "metadata": {},
   "source": [
    "Da wir uns den ganzen Pfad merken, benötigen wir das dict *prev* nicht. "
   ]
  },
  {
   "cell_type": "code",
   "execution_count": 50,
   "id": "e675d0f8-c65f-4f1e-ab9c-dc5e33df0ae7",
   "metadata": {},
   "outputs": [],
   "source": [
    "from collections import deque\n",
    "\n",
    "def bfs(startstate):\n",
    "    frontier =  deque([startstate])\n",
    "    while frontier:\n",
    "        state = frontier.popleft()\n",
    "        if goaltest(state):\n",
    "            solutions.append(state)\n",
    "        for v in nextstates(state):\n",
    "            frontier.append(v)\n"
   ]
  },
  {
   "cell_type": "code",
   "execution_count": 51,
   "id": "2c4dc48f-014f-412e-9a9f-227c71a13491",
   "metadata": {},
   "outputs": [
    {
     "name": "stdout",
     "output_type": "stream",
     "text": [
      "CPU times: total: 0 ns\n",
      "Wall time: 1 ms\n"
     ]
    }
   ],
   "source": [
    "%%time \n",
    "startstate = ()\n",
    "solutions = []\n",
    "bfs(startstate)\n"
   ]
  },
  {
   "cell_type": "code",
   "execution_count": 52,
   "id": "25631a08-09f6-4ccc-85a5-016cf1abd57e",
   "metadata": {},
   "outputs": [
    {
     "name": "stdout",
     "output_type": "stream",
     "text": [
      "Beste Etappe: (347, 687, 1007, 1360) mit Bewertung 2.7\n"
     ]
    }
   ],
   "source": [
    "best = None\n",
    "best_val = 0\n",
    "for sol in solutions:\n",
    "    val = min([hotels[t] for t in sol])\n",
    "    if val > best_val:\n",
    "        best_val = val\n",
    "        best = sol\n",
    "\n",
    "print(f'Beste Etappe: {best} mit Bewertung {best_val}')\n"
   ]
  },
  {
   "cell_type": "markdown",
   "id": "9adb759c-9028-4fe8-b95c-12713b8e4dc7",
   "metadata": {},
   "source": [
    "#### Es dauert zu lang\n",
    "\n",
    "Bei Beispiel 3 merken wir, das unser Search-Space zu groß ist. Wir verbessern unsere *nextstates*-Funktion. Es kommen als Folgehotels nur solche in Frage, mit denen sich die Tour mit maximal 4 Übernachtungen schaffen lässt. "
   ]
  },
  {
   "cell_type": "markdown",
   "id": "82c628d8-22d2-4838-ab61-fac7aa37651a",
   "metadata": {},
   "source": [
    "#### Das vollständige Programm\n",
    "\n",
    "In der Variablen *zaehl* protokollieren wir, wieviele *states* wir aus der frontier geholt haben."
   ]
  },
  {
   "cell_type": "code",
   "execution_count": 57,
   "id": "96c026ba-3219-4312-a251-dd8409b3ccd1",
   "metadata": {},
   "outputs": [
    {
     "name": "stdout",
     "output_type": "stream",
     "text": [
      "Beste Etappe: (280, 636, 987, 1271) mit Bewertung 5.0\n",
      "CPU times: total: 31.1 s\n",
      "Wall time: 31.1 s\n"
     ]
    }
   ],
   "source": [
    "%%time\n",
    "from collections import deque\n",
    "\n",
    "def goaltest(state):\n",
    "    if ziel <= 360:\n",
    "        return True\n",
    "    if len(state) == 0: return False\n",
    "    return ziel - state[-1] <= 360\n",
    "\n",
    "def nextstates(state):\n",
    "    n = len(state)\n",
    "    if n == 4: return []\n",
    "    tmp = []\n",
    "    pos = state[-1] if len(state) > 0 else 0\n",
    "    for h in hotels:\n",
    "        if h - pos <= 360 and ziel-h <= (4-n)*360:\n",
    "            tmp.append(state + (h,))\n",
    "    return tmp   \n",
    "\n",
    "def bfs(startstate):\n",
    "    frontier =  deque([startstate])\n",
    "    while frontier:\n",
    "        state = frontier.popleft()\n",
    "        if goaltest(state):\n",
    "            solutions.append(state)\n",
    "        for v in nextstates(state):\n",
    "            frontier.append(v)\n",
    "\n",
    "\n",
    "nr = 5\n",
    "f = open('./beispieldaten/hotels'+str(nr)+'.txt')\n",
    "anz = int(f.readline())\n",
    "ziel = int(f.readline())\n",
    "hotels = {}\n",
    "for i in range(anz):\n",
    "    t, b =  f.readline().split()\n",
    "    t = int(t)\n",
    "    b = float(b)\n",
    "    if t in hotels and b > hotels[t]:\n",
    "        hotels[t]=b\n",
    "    if t not in hotels:\n",
    "        hotels[t]=b\n",
    " \n",
    "startstate = ()\n",
    "solutions = []\n",
    "bfs(startstate)\n",
    "\n",
    "best = None\n",
    "best_val = 0\n",
    "for sol in solutions:\n",
    "    val = min([hotels[t] for t in sol])\n",
    "    if val > best_val:\n",
    "        best_val = val\n",
    "        best = sol\n",
    "\n",
    "print(f'Beste Etappe: {best} mit Bewertung {best_val}')\n"
   ]
  },
  {
   "cell_type": "markdown",
   "id": "6434f41e-4df1-47b7-83e7-bc0ab8dc8458",
   "metadata": {},
   "source": [
    "### Ein anderer Ansatz\n",
    "Es kann möglich sein, auf verschiedenen Pfaden zu einem Hotel h zu kommen und trotzdem dieselbe Bewertung für die Pfade zu erhalten.\n",
    "Wir benötigen für unsere Aufgabe aber jeweils nur einen Pfad. Deswegen ändern wir die Modellierung unseres *state* ab. Dadurch wird sich die Größe unseres Search-Space weiter reduzieren.\n",
    "\n",
    "```\n",
    "Anzahl frontier-Entnahmen bei Beispiel 5:\n",
    "Variante 1:  6302797\n",
    "Variante 2:     6990\n",
    "```\n",
    "\n",
    "\n",
    "State ist eine Minutenangabe zusammen mit den noch verfügbaren Tagen und der bisherigen Bewertung (Minimum der bisherigen Unterkünfte)\n"
   ]
  },
  {
   "cell_type": "code",
   "execution_count": 59,
   "id": "24c75ae3-c5c4-4c4c-9ff1-17544028facf",
   "metadata": {},
   "outputs": [],
   "source": [
    "startstate = (0,5,10)  # Start an Position 0, noch 5 Tage zur Verfügung, = 10 bisherige minimale Bewertung (damit entscheidet 0 nichts)\n",
    "\n",
    "def goaltest(state):\n",
    "    zeit, tag, _ = state   # tag = noch verfügbare Tage\n",
    "    return (ziel-zeit) <= 360 and tag >= 1 \n",
    "\n",
    "def nextstates(state):\n",
    "    tmp = []\n",
    "    zeit, tag, b =  state\n",
    "    \n",
    "    for h in hotels:\n",
    "        if 0 < h-zeit <= 360 and ziel-h<= 360 * (tag-1):\n",
    "            tmp.append((h,tag-1,min(b,hotels[h])))\n",
    "    return tmp"
   ]
  },
  {
   "cell_type": "code",
   "execution_count": 60,
   "id": "9b95dcac-c28d-47cb-a096-595e9e6b10dd",
   "metadata": {},
   "outputs": [],
   "source": [
    "from collections import deque\n",
    "\n",
    "def bfs(startstate):\n",
    "    frontier =  deque([startstate])\n",
    "    prev = {startstate:None}\n",
    "    while frontier:\n",
    "        state = frontier.popleft()\n",
    "        if goaltest(state):\n",
    "            solutions.append(state)\n",
    "        for v in nextstates(state):\n",
    "            if v not in prev:\n",
    "                frontier.append(v)\n",
    "                prev[v] = state\n",
    "    return prev\n",
    "\n",
    "def reconstructPath(prev,goalstate):\n",
    "    state = goalstate\n",
    "    path=[]\n",
    "    while state is not None:\n",
    "        path.append(state)\n",
    "        state = prev[state]\n",
    "    path.reverse()\n",
    "    return path"
   ]
  },
  {
   "cell_type": "code",
   "execution_count": 61,
   "id": "400fddf0-c5f4-4fca-8316-e5b5688bc680",
   "metadata": {},
   "outputs": [],
   "source": [
    "nr = 5\n",
    "f = open('./beispieldaten/hotels'+str(nr)+'.txt')\n",
    "anz = int(f.readline())\n",
    "ziel = int(f.readline())\n",
    "hotels = {}\n",
    "for i in range(anz):\n",
    "    t, b =  f.readline().split()\n",
    "    t = int(t)\n",
    "    b = float(b)\n",
    "    if t in hotels and b > hotels[t]:\n",
    "        hotels[t]=b\n",
    "    if t not in hotels:\n",
    "        hotels[t]=b\n",
    "\n",
    "solutions = []\n",
    "prev = bfs(startstate)\n"
   ]
  },
  {
   "cell_type": "code",
   "execution_count": 62,
   "id": "ecf62e78-7fdf-46a1-927e-554e6cdaf0a2",
   "metadata": {},
   "outputs": [
    {
     "name": "stdout",
     "output_type": "stream",
     "text": [
      "5.0 [(0, 5, 10), (280, 4, 5.0), (636, 3, 5.0), (987, 2, 5.0), (1271, 1, 5.0)]\n"
     ]
    }
   ],
   "source": [
    "best = None\n",
    "best_val = 0\n",
    "\n",
    "for sol in solutions:\n",
    "    path = reconstructPath(prev,sol)\n",
    "    val = min([hotels[tup[0]] for tup in path[1:]])\n",
    "    if val > best_val:\n",
    "        best_val = val\n",
    "        best = path.copy()\n",
    "print(best_val, best)"
   ]
  },
  {
   "cell_type": "markdown",
   "id": "731da47a-f198-4b5a-86c3-99913f5ba81d",
   "metadata": {},
   "source": [
    "#### Das vollständige Programm - Version 2\n"
   ]
  },
  {
   "cell_type": "code",
   "execution_count": 64,
   "id": "84571262-0af9-40e5-9038-60db7fd7292a",
   "metadata": {},
   "outputs": [
    {
     "name": "stdout",
     "output_type": "stream",
     "text": [
      "Hotels für Beispiel 5:\n",
      "280 - 5.0, 636 - 5.0, 987 - 5.0, 1271 - 5.0, minimale Bewertung: 5.0\n",
      "CPU times: total: 562 ms\n",
      "Wall time: 570 ms\n"
     ]
    }
   ],
   "source": [
    "%%time\n",
    "from collections import deque\n",
    "\n",
    "def goaltest(state):\n",
    "    zeit, tag, _ = state   # tag = noch verfügbare Tage\n",
    "    return (ziel-zeit) <= 360 and tag >= 1 \n",
    "\n",
    "def nextstates(state):\n",
    "    tmp = []\n",
    "    zeit, tag, b =  state\n",
    "    \n",
    "    for h in hotels:\n",
    "        if 0 < h-zeit <= 360 and ziel-h<= 360 * (tag-1):\n",
    "            tmp.append((h,tag-1,min(b,hotels[h])))\n",
    "    return tmp\n",
    "\n",
    "def bfs(startstate):\n",
    "    frontier =  deque([startstate])\n",
    "    prev = {startstate:None}\n",
    "    while frontier:\n",
    "        state = frontier.popleft()\n",
    "        if goaltest(state):\n",
    "            solutions.append(state)\n",
    "        for v in nextstates(state):\n",
    "            if v not in prev:\n",
    "                frontier.append(v)\n",
    "                prev[v] = state\n",
    "    return prev\n",
    "\n",
    "def reconstructPath(prev,goalstate):\n",
    "    state = goalstate\n",
    "    path=[]\n",
    "    while state is not None:\n",
    "        path.append(state)\n",
    "        state = prev[state]\n",
    "    path.reverse()\n",
    "    return path\n",
    "\n",
    "nr = 5\n",
    "f = open('./beispieldaten/hotels'+str(nr)+'.txt')\n",
    "anz = int(f.readline())\n",
    "ziel = int(f.readline())\n",
    "hotels = {}\n",
    "for i in range(anz):\n",
    "    t, b =  f.readline().split()\n",
    "    t = int(t)\n",
    "    b = float(b)\n",
    "    if t in hotels and b > hotels[t]:\n",
    "        hotels[t]=b\n",
    "    if t not in hotels:\n",
    "        hotels[t]=b\n",
    " \n",
    "solutions = []\n",
    "startstate = (0,5,10) \n",
    "\n",
    "prev = bfs(startstate)\n",
    "\n",
    "best = None\n",
    "best_val = 0\n",
    "\n",
    "\n",
    "for sol in solutions:\n",
    "    path = reconstructPath(prev,sol)\n",
    "    val = min([hotels[tup[0]] for tup in path[1:]])\n",
    "    if val > best_val:\n",
    "        best_val = val\n",
    "        best = path.copy()\n",
    "\n",
    "print(f'Hotels für Beispiel {nr}:')\n",
    "for x in best[1:]:\n",
    "    print(f'{x[0]} - {hotels[x[0]]},',end=' ')\n",
    "print('minimale Bewertung:', best_val)\n",
    " "
   ]
  }
 ],
 "metadata": {
  "kernelspec": {
   "display_name": "Python 3 (ipykernel)",
   "language": "python",
   "name": "python3"
  },
  "language_info": {
   "codemirror_mode": {
    "name": "ipython",
    "version": 3
   },
   "file_extension": ".py",
   "mimetype": "text/x-python",
   "name": "python",
   "nbconvert_exporter": "python",
   "pygments_lexer": "ipython3",
   "version": "3.9.12"
  }
 },
 "nbformat": 4,
 "nbformat_minor": 5
}
