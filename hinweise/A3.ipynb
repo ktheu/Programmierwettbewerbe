{
 "cells": [
  {
   "cell_type": "code",
   "execution_count": 142,
   "id": "7ae39fbf-bc40-451b-baac-34381ba9f99f",
   "metadata": {},
   "outputs": [
    {
     "data": {
      "text/plain": [
       "(201, 81)"
      ]
     },
     "execution_count": 142,
     "metadata": {},
     "output_type": "execute_result"
    }
   ],
   "source": [
    "f = open('zauberschule5.txt')\n",
    "hoehe, breite = [int(x) for x in f.readline().split()]\n",
    "hoehe, breite"
   ]
  },
  {
   "cell_type": "code",
   "execution_count": 143,
   "id": "c0dd3be7-0b06-49e9-abbd-9ebf183d7d29",
   "metadata": {},
   "outputs": [],
   "source": [
    "grid = {(0, x, y): c for x in range(hoehe) for y, c in enumerate(f.readline().strip())}\n",
    "f.readline()\n",
    "grid.update({(1, x, y): c for x in range(hoehe) for y, c in enumerate(f.readline().strip())})\n",
    "G = {v:dict() for v in grid}"
   ]
  },
  {
   "cell_type": "code",
   "execution_count": 144,
   "id": "1ce99bd7-9554-441d-aa9c-418122bbb685",
   "metadata": {},
   "outputs": [],
   "source": [
    "def valid(tup):\n",
    "    z,x,y = tup\n",
    "    return 0 <= z <= 1 and 0 <= x < hoehe and 0 <= y < breite"
   ]
  },
  {
   "cell_type": "code",
   "execution_count": 145,
   "id": "6209e630-13d6-4d09-b94f-6a7462a5c664",
   "metadata": {},
   "outputs": [],
   "source": [
    "dirs = [(1,0,0),(-1,0,0),(0,1,0),(0,-1,0),(0,0,1),(0,0,-1)]\n",
    "start = None\n",
    "goal = None\n",
    "for pos in grid:\n",
    "    if grid[pos] == 'A':\n",
    "        start = pos\n",
    "    if grid[pos] == 'B':\n",
    "        goal = pos \n",
    "    if grid[pos] =='#': continue\n",
    "    z,x,y = pos\n",
    "    for zd,xd,yd in dirs:\n",
    "        zn, xn, yn = z+zd, x+xd, y+yd\n",
    "        if valid((zn,xn,yn)) and grid[(zn,xn,yn)] != '#':\n",
    "         \n",
    "            if z==zn: \n",
    "                G[pos][(zn,xn,yn)] = 1\n",
    "            else:\n",
    "                G[pos][(zn,xn,yn)] = 3          \n",
    "     "
   ]
  },
  {
   "cell_type": "code",
   "execution_count": 146,
   "id": "5404c444-97c8-4dd7-a7dd-d180da697d8d",
   "metadata": {},
   "outputs": [
    {
     "data": {
      "text/plain": [
       "((0, 167, 13), (0, 155, 71))"
      ]
     },
     "execution_count": 146,
     "metadata": {},
     "output_type": "execute_result"
    }
   ],
   "source": [
    "start, goal"
   ]
  },
  {
   "cell_type": "code",
   "execution_count": 147,
   "id": "23dca0c8-be69-4006-a53c-ac25d7e25332",
   "metadata": {},
   "outputs": [
    {
     "name": "stdout",
     "output_type": "stream",
     "text": [
      "Pfad von (0, 167, 13) nach (0, 155, 71) : (0, 167, 13) (1, 167, 13) (1, 168, 13) (1, 169, 13) (1, 169, 14) (1, 169, 15) (1, 170, 15) (1, 171, 15) (1, 171, 16) (1, 171, 17) (1, 171, 18) (1, 171, 19) (1, 171, 20) (1, 171, 21) (0, 171, 21) (0, 171, 22) (0, 171, 23) (0, 171, 24) (0, 171, 25) (0, 171, 26) (0, 171, 27) (0, 171, 28) (0, 171, 29) (0, 172, 29) (0, 173, 29) (1, 173, 29) (1, 173, 30) (1, 173, 31) (1, 173, 32) (1, 173, 33) (1, 173, 34) (1, 173, 35) (1, 173, 36) (1, 173, 37) (1, 172, 37) (1, 171, 37) (1, 170, 37) (1, 169, 37) (1, 169, 38) (1, 169, 39) (1, 169, 40) (1, 169, 41) (1, 169, 42) (1, 169, 43) (0, 169, 43) (0, 168, 43) (0, 167, 43) (0, 166, 43) (0, 165, 43) (0, 164, 43) (0, 163, 43) (0, 162, 43) (0, 161, 43) (1, 161, 43) (1, 161, 44) (1, 161, 45) (1, 161, 46) (1, 161, 47) (0, 161, 47) (0, 161, 48) (0, 161, 49) (0, 161, 50) (0, 161, 51) (0, 160, 51) (0, 159, 51) (0, 158, 51) (0, 157, 51) (0, 157, 52) (0, 157, 53) (0, 156, 53) (0, 155, 53) (0, 154, 53) (0, 153, 53) (0, 153, 54) (0, 153, 55) (1, 153, 55) (1, 153, 56) (1, 153, 57) (1, 153, 58) (1, 153, 59) (0, 153, 59) (0, 154, 59) (0, 155, 59) (0, 156, 59) (0, 157, 59) (0, 157, 60) (0, 157, 61) (0, 157, 62) (0, 157, 63) (0, 157, 64) (0, 157, 65) (1, 157, 65) (1, 157, 66) (1, 157, 67) (1, 157, 68) (1, 157, 69) (0, 157, 69) (0, 157, 70) (0, 157, 71) (0, 157, 72) (0, 157, 73) (0, 156, 73) (0, 155, 73) (0, 155, 72) (0, 155, 71)\n",
      "Distanz: 124\n"
     ]
    }
   ],
   "source": [
    "from heapq import heapify, heappop, heappush\n",
    "\n",
    "def reconstructPath(s,u,prev):\n",
    "    temp = []\n",
    "    while u != s:\n",
    "        temp.append(u)\n",
    "        u = prev[u]\n",
    "    temp.append(s)\n",
    "    temp.reverse()\n",
    "    return temp\n",
    "\n",
    "inf = float('inf')\n",
    "dist = {v:inf for v in G}\n",
    "prev = {v:None for v in G}\n",
    "\n",
    "s = start        # startknoten\n",
    "dist[s] = 0\n",
    "endgueltig = set()    \n",
    "\n",
    "vorlaeufig = [(dist[v],v) for v in G]\n",
    "heapify(vorlaeufig)\n",
    "\n",
    "while vorlaeufig:\n",
    "    _, u = heappop(vorlaeufig)\n",
    "    if u in endgueltig: continue\n",
    "    endgueltig.add(u)\n",
    "    for v in G[u]:\n",
    "        if dist[v] > dist[u] + G[u][v]:\n",
    "            dist[v] = dist[u] + G[u][v]\n",
    "            prev[v] = u\n",
    "            heappush(vorlaeufig,(dist[v],v))\n",
    "ziel = goal\n",
    "print('Pfad von',start,'nach',goal,':',*reconstructPath(start,goal,prev))\n",
    "print('Distanz:',dist[ziel])"
   ]
  },
  {
   "cell_type": "code",
   "execution_count": null,
   "id": "1ccf2b9d-f00e-481e-b985-722b8ab5bc6a",
   "metadata": {},
   "outputs": [],
   "source": []
  },
  {
   "cell_type": "code",
   "execution_count": null,
   "id": "93f5427d-f444-495c-a330-43cd40fc002b",
   "metadata": {},
   "outputs": [],
   "source": []
  },
  {
   "cell_type": "markdown",
   "id": "e51b1912-a638-4116-9356-7c8682efd502",
   "metadata": {},
   "source": [
    "### A3"
   ]
  },
  {
   "cell_type": "markdown",
   "id": "df4c31f5-b25d-4d6d-90ea-c5f7012609a1",
   "metadata": {},
   "source": [
    "Wir lesen ein 3D-Grid ein, das aus zwei Ebenen besteht."
   ]
  },
  {
   "cell_type": "code",
   "execution_count": 11,
   "id": "63abbf81-d8d4-496a-a12e-2f9edd93e9e4",
   "metadata": {},
   "outputs": [
    {
     "name": "stdout",
     "output_type": "stream",
     "text": [
      "Overwriting input.txt\n"
     ]
    }
   ],
   "source": [
    "%%writefile input.txt\n",
    "3 5\n",
    "#####\n",
    "# # #\n",
    "#####\n",
    "\n",
    "#####\n",
    "#   #\n",
    "#####"
   ]
  },
  {
   "cell_type": "code",
   "execution_count": 15,
   "id": "f8ea97f7-0996-4591-8598-40073dbb3fb6",
   "metadata": {},
   "outputs": [],
   "source": [
    "f = open('input.txt')\n",
    "hoehe, breite = [int(x) for x in f.readline().split()]\n",
    "\n",
    "grid0 = [list(f.readline().strip()) for _ in range(hoehe)]\n",
    "f.readline()    # leerzeile\n",
    "grid1 = [list(f.readline().strip()) for _ in range(hoehe)]\n",
    "f.close()\n",
    "grid = [grid0,grid1]"
   ]
  },
  {
   "cell_type": "code",
   "execution_count": 20,
   "id": "c3e1165d-72c6-473e-96ff-04047c8e48be",
   "metadata": {},
   "outputs": [
    {
     "name": "stdout",
     "output_type": "stream",
     "text": [
      "#####\n",
      "# # #\n",
      "#####\n",
      "\n",
      "#####\n",
      "#   #\n",
      "#####\n"
     ]
    }
   ],
   "source": [
    "def show(grid):\n",
    "    for row in grid[0]:\n",
    "        print(*row,sep='')\n",
    "    print()\n",
    "    for row in grid[1]:\n",
    "        print(*row,sep='')\n",
    "\n",
    "show(grid)"
   ]
  },
  {
   "cell_type": "markdown",
   "id": "a126fe76-4ac5-46b1-a296-3a04a9d1eb97",
   "metadata": {},
   "source": [
    "Wir können mit Indizes auf die Elemente des 3D-grids zugreifen. Der erste Index ist die Ebene, Index 0 ist die oberste Ebene."
   ]
  },
  {
   "cell_type": "code",
   "execution_count": 22,
   "id": "2ad4ffc1-d48f-48eb-bb6a-75407c9fe28e",
   "metadata": {},
   "outputs": [
    {
     "name": "stdout",
     "output_type": "stream",
     "text": [
      "#####\n",
      "# #A#\n",
      "#####\n",
      "\n",
      "#####\n",
      "#   #\n",
      "#####\n"
     ]
    }
   ],
   "source": [
    "grid[0][1][3] = 'A'   # oberste Ebene, Zeile 1, Spalte 3\n",
    "show(grid)"
   ]
  },
  {
   "cell_type": "markdown",
   "id": "9d9c5d10-cffd-4eeb-b6c8-206d87e474c3",
   "metadata": {},
   "source": [
    "Wir können das grid in einen gewichteten Graphen umwandeln, bei dem wir berücksichtigen, dass der Ebenenwechsel mit höherenn Kosten verbunden ist. Die Knoten V des Graphen sind die Koordinaten der begehbaren Punkte."
   ]
  },
  {
   "cell_type": "code",
   "execution_count": 26,
   "id": "1a53192d-0db0-44e8-9ba4-b041335fff89",
   "metadata": {},
   "outputs": [
    {
     "data": {
      "text/plain": [
       "[(0, 1, 1), (0, 1, 3), (1, 1, 1), (1, 1, 2), (1, 1, 3)]"
      ]
     },
     "execution_count": 26,
     "metadata": {},
     "output_type": "execute_result"
    }
   ],
   "source": [
    "V = [(z,x,y) for z in range(2) for x in range(hoehe) for y in range(breite) if grid[z][x][y] != '#']\n",
    "V"
   ]
  },
  {
   "cell_type": "markdown",
   "id": "e5315f38-4c3e-4e0c-bb69-cfb2d22a858a",
   "metadata": {},
   "source": [
    "Jedem Knoten werden seine Nachbarknoten mit den Kosten zugeordnet."
   ]
  },
  {
   "cell_type": "code",
   "execution_count": 34,
   "id": "5b926a9f-8f3c-4262-aeb1-80bd7bf0e2e7",
   "metadata": {},
   "outputs": [
    {
     "data": {
      "text/plain": [
       "{(0, 1, 1): 3, (1, 1, 2): 1}"
      ]
     },
     "execution_count": 34,
     "metadata": {},
     "output_type": "execute_result"
    }
   ],
   "source": [
    "G = {v: dict() for v in V}\n",
    "dirs = [(1,0,0),(-1,0,0),(0,1,0),(0,-1,0),(0,0,1),(0,0,-1)]   # mögliche Richtungen\n",
    "for v in V:\n",
    "    z,x,y = v\n",
    "    for zd,xd,yd in dirs:\n",
    "        zn, xn, yn = z+zd, x+xd, y+yd\n",
    "        if 0 <= zn < 2 and 0 <= xn < hoehe and 0 <= zn < breite and grid[zn][xn][yn] != '#':\n",
    "            posn = (zn,xn,yn)\n",
    "            G[v][posn] = 1 if z == zn else 3\n",
    "\n",
    "G[(1,1,1)]     "
   ]
  },
  {
   "cell_type": "markdown",
   "id": "a2b6abfa-685d-468b-9f7f-62092b7a6e8d",
   "metadata": {},
   "source": [
    "G[(1,1,1)] liefert\n",
    "{(0, 1, 1): 3, (1, 1, 2): 1}, d.h. wir können von (1,1,1) mit Kosten 3 nach (0,1,1) und mit Kosten 1 nach (1,1,2)"
   ]
  },
  {
   "cell_type": "markdown",
   "id": "31de590d-58c6-496c-9744-aa80db533293",
   "metadata": {},
   "source": [
    "Eine Implementation des Dijkstra-Algorithmus findet sich im Abschnitt Infokurs/Graphen1"
   ]
  }
 ],
 "metadata": {
  "kernelspec": {
   "display_name": "Python 3 (ipykernel)",
   "language": "python",
   "name": "python3"
  },
  "language_info": {
   "codemirror_mode": {
    "name": "ipython",
    "version": 3
   },
   "file_extension": ".py",
   "mimetype": "text/x-python",
   "name": "python",
   "nbconvert_exporter": "python",
   "pygments_lexer": "ipython3",
   "version": "3.11.2"
  }
 },
 "nbformat": 4,
 "nbformat_minor": 5
}
