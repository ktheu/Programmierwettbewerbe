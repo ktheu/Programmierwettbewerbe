{
 "cells": [
  {
   "cell_type": "markdown",
   "id": "4ed0025d-51c1-4104-836f-c1044bb779a4",
   "metadata": {},
   "source": [
    "## Sudoku Hinweise\n",
    "\n",
    "#### Einlesen der Daten"
   ]
  },
  {
   "cell_type": "code",
   "execution_count": 2,
   "id": "dc7bcc63-4054-4ef8-9136-f0b5387e28d2",
   "metadata": {},
   "outputs": [
    {
     "data": {
      "text/plain": [
       "array([[6, 0, 0, 0, 8, 0, 0, 0, 1],\n",
       "       [0, 9, 0, 4, 0, 0, 6, 0, 0],\n",
       "       [0, 0, 0, 0, 9, 0, 0, 0, 2],\n",
       "       [0, 0, 0, 0, 0, 1, 0, 0, 0],\n",
       "       [0, 0, 0, 6, 0, 0, 0, 0, 5],\n",
       "       [3, 2, 7, 5, 0, 0, 0, 0, 8],\n",
       "       [0, 0, 0, 0, 7, 0, 0, 0, 0],\n",
       "       [0, 0, 6, 8, 0, 3, 9, 7, 0],\n",
       "       [0, 0, 0, 0, 0, 0, 0, 8, 0]])"
      ]
     },
     "execution_count": 2,
     "metadata": {},
     "output_type": "execute_result"
    }
   ],
   "source": [
    "import numpy as np\n",
    "f = open('sudoku0.txt',\"r\",encoding='utf-8')\n",
    "data = f.read()                              # die ganze Eingabe in einen String lesen\n",
    "\n",
    "all =  [int(x) for x in data.split()]        # der Zeilenvorschub verschwindet bei der Umwandlung in int\n",
    "a = np.array(all[:81]).reshape(9,9)          # erstes Sudoku\n",
    "b = np.array(all[81:]).reshape(9,9)          # zweites Sudoku\n",
    "\n",
    "a"
   ]
  },
  {
   "cell_type": "markdown",
   "id": "ba644f32-f5e0-49d3-85ec-dbb11324a05b",
   "metadata": {},
   "source": [
    "#### Varianten erzeugen\n",
    "\n",
    "Wenn wir Teile einer Matrix bearbeiten, machen wir zunächst eine Kopie der Ausgangsmatrix, um Seiteneffekte zu vermeiden."
   ]
  },
  {
   "cell_type": "code",
   "execution_count": 3,
   "id": "e59aac8f-571a-4d4d-bef5-dc0acb0d88bd",
   "metadata": {},
   "outputs": [
    {
     "name": "stdout",
     "output_type": "stream",
     "text": [
      "[[0 0 0 0 9 0 0 0 2]\n",
      " [0 9 0 4 0 0 6 0 0]\n",
      " [6 0 0 0 8 0 0 0 1]\n",
      " [0 0 0 0 0 1 0 0 0]\n",
      " [0 0 0 6 0 0 0 0 5]\n",
      " [3 2 7 5 0 0 0 0 8]\n",
      " [0 0 0 0 7 0 0 0 0]\n",
      " [0 0 6 8 0 3 9 7 0]\n",
      " [0 0 0 0 0 0 0 8 0]]\n"
     ]
    }
   ],
   "source": [
    "# Vertauschen zweier Zeilen\n",
    "a1 = a.copy()                \n",
    "a1[[0,2],:] = a1[[2,0],:]\n",
    "print(a1)"
   ]
  },
  {
   "cell_type": "code",
   "execution_count": 4,
   "id": "b3a3e77c-ddb6-4561-9723-9984baa47478",
   "metadata": {},
   "outputs": [
    {
     "name": "stdout",
     "output_type": "stream",
     "text": [
      "[[0 0 0 0 7 0 0 0 0]\n",
      " [0 0 6 8 0 3 9 7 0]\n",
      " [0 0 0 0 0 0 0 8 0]\n",
      " [0 0 0 0 0 1 0 0 0]\n",
      " [0 0 0 6 0 0 0 0 5]\n",
      " [3 2 7 5 0 0 0 0 8]\n",
      " [6 0 0 0 8 0 0 0 1]\n",
      " [0 9 0 4 0 0 6 0 0]\n",
      " [0 0 0 0 9 0 0 0 2]]\n"
     ]
    }
   ],
   "source": [
    "# Vertauschen des oberen und unteren 3er-Zeilenblocks\n",
    "a1 = a.copy()                \n",
    "a1[[0,1,2,6,7,8],:] = a1[[6,7,8,0,1,2],:]\n",
    "print(a1)"
   ]
  },
  {
   "cell_type": "code",
   "execution_count": 5,
   "id": "6167f874-cf51-4a47-924d-c7645f0c7106",
   "metadata": {},
   "outputs": [
    {
     "name": "stdout",
     "output_type": "stream",
     "text": [
      "[[0 6 0 0 8 0 0 0 1]\n",
      " [9 0 0 4 0 0 6 0 0]\n",
      " [0 0 0 0 9 0 0 0 2]\n",
      " [0 0 0 0 0 1 0 0 0]\n",
      " [0 0 0 6 0 0 0 0 5]\n",
      " [2 3 7 5 0 0 0 0 8]\n",
      " [0 0 0 0 7 0 0 0 0]\n",
      " [0 0 6 8 0 3 9 7 0]\n",
      " [0 0 0 0 0 0 0 8 0]]\n"
     ]
    }
   ],
   "source": [
    "# Vertauschen zweier Spalten\n",
    "a1 = a.copy()                \n",
    "a1[:,[0,1]] = a1[:,[1,0]]\n",
    "print(a1)"
   ]
  },
  {
   "cell_type": "code",
   "execution_count": 6,
   "id": "475f4d62-cdf6-4a32-b768-17aa36bffb39",
   "metadata": {},
   "outputs": [
    {
     "name": "stdout",
     "output_type": "stream",
     "text": [
      "[[0 0 1 0 8 0 6 0 0]\n",
      " [6 0 0 4 0 0 0 9 0]\n",
      " [0 0 2 0 9 0 0 0 0]\n",
      " [0 0 0 0 0 1 0 0 0]\n",
      " [0 0 5 6 0 0 0 0 0]\n",
      " [0 0 8 5 0 0 3 2 7]\n",
      " [0 0 0 0 7 0 0 0 0]\n",
      " [9 7 0 8 0 3 0 0 6]\n",
      " [0 8 0 0 0 0 0 0 0]]\n"
     ]
    }
   ],
   "source": [
    "# Vertauschen des linken und rechten 3er-Spaltenblocks\n",
    "a1 = a.copy()                \n",
    "a1[:,[0,1,2,6,7,8]] = a1[:,[6,7,8,0,1,2]]\n",
    "print(a1)"
   ]
  },
  {
   "cell_type": "code",
   "execution_count": 7,
   "id": "fec5b5dc-adba-4e17-9fff-8bfe56afb3a3",
   "metadata": {},
   "outputs": [
    {
     "name": "stdout",
     "output_type": "stream",
     "text": [
      "[[0 0 0 3 0 0 0 0 6]\n",
      " [0 0 0 2 0 0 0 9 0]\n",
      " [0 6 0 7 0 0 0 0 0]\n",
      " [0 8 0 5 6 0 0 4 0]\n",
      " [0 0 7 0 0 0 9 0 8]\n",
      " [0 3 0 0 0 1 0 0 0]\n",
      " [0 9 0 0 0 0 0 6 0]\n",
      " [8 7 0 0 0 0 0 0 0]\n",
      " [0 0 0 8 5 0 2 0 1]]\n"
     ]
    }
   ],
   "source": [
    "# Drehen um 90 Grad im Uhrzeigersinn\n",
    "a1 = a.copy()\n",
    "a1 = a1[::-1,:].T\n",
    "print(a1)"
   ]
  },
  {
   "cell_type": "markdown",
   "id": "bb4d4c4d-3494-4416-b5a7-d59881a66d4e",
   "metadata": {
    "tags": []
   },
   "source": [
    "#### Anzahl Varianten\n",
    "\n",
    "- Für die Permutation der Spaltenblöcke gibt es 6 Möglichkeiten: $*6$  \n",
    "- Pro Spaltenblock gibt es für die Permutation der Spalten 6 Möglichkeiten: $6*6*6$  \n",
    "- Für die Permutation der Zeilenblöcke gibt es 6 Möglichkeiten: $*6$\n",
    "- Pro Zeilenblock gibt es für die Permutation der Zeilen 6 Möglichkeiten $6*6*6$ \n",
    "- Eine 90 Grad-Drehung kann stattfinden oder nicht: $*2$\n",
    "\n"
   ]
  },
  {
   "cell_type": "code",
   "execution_count": 8,
   "id": "00116136-0394-4ccd-a540-33053d51e688",
   "metadata": {},
   "outputs": [
    {
     "data": {
      "text/plain": [
       "3359232"
      ]
     },
     "execution_count": 8,
     "metadata": {},
     "output_type": "execute_result"
    }
   ],
   "source": [
    "# Anzahl Möglicher Varianten (ohne Permutation der Ziffern)\n",
    "(6**8)*2"
   ]
  },
  {
   "cell_type": "code",
   "execution_count": 9,
   "id": "71348c62-939d-443c-aaf1-88db1f492d22",
   "metadata": {},
   "outputs": [
    {
     "data": {
      "text/plain": [
       "1218998108160"
      ]
     },
     "execution_count": 9,
     "metadata": {},
     "output_type": "execute_result"
    }
   ],
   "source": [
    "# Anzahl Möglicher Varianten (mit Permutation der Ziffern)\n",
    "import math\n",
    "(6**8)*2 * math.factorial(9)"
   ]
  },
  {
   "cell_type": "markdown",
   "id": "5ca438cc-2812-4ae9-8389-ea29d04a719f",
   "metadata": {},
   "source": [
    "#### Mögliches Vorgehen\n",
    "\n",
    "Wir prüfen zunächst ohne Vertauschung von Ziffern, ob es eine Variante gibt, die die Leerstellen an derselben Stelle hat wie das zweite Sudoku. Dazu müssen wir 3359232 Varianten überprüfen. Das könnte vielleicht noch in vertretbarer Zeit möglich sein.\n",
    "\n",
    "Erst wenn wir solche Varianten gefunden haben, prüfen wir die Permutation der Ziffern.\n",
    "\n",
    "Wenn das Verfahren zu lange dauert, können wir einen backtracking-Algorithmus probieren. Wir können schrittweise überprüfen, ob wir auf dem richtigen Weg sind, indem wir die Nullstellen für die Bereiche zählen, die wir gerade bearbeiten."
   ]
  },
  {
   "cell_type": "markdown",
   "id": "5027c9b1-4b10-4ba2-9ffc-af8dc1ebe5d6",
   "metadata": {},
   "source": [
    "#### Nützliches mit numpy"
   ]
  },
  {
   "cell_type": "code",
   "execution_count": 26,
   "id": "a66d0cb3-56f8-4ba5-a794-d27229d30e18",
   "metadata": {},
   "outputs": [
    {
     "name": "stdout",
     "output_type": "stream",
     "text": [
      "[[6 0 0 0 8 0 0 0 1]\n",
      " [0 9 0 4 0 0 6 0 0]\n",
      " [0 0 0 0 9 0 0 0 2]\n",
      " [0 0 0 0 0 1 0 0 0]\n",
      " [0 0 0 6 0 0 0 0 5]\n",
      " [3 2 7 5 0 0 0 0 8]\n",
      " [0 0 0 0 7 0 0 0 0]\n",
      " [0 0 6 8 0 3 9 7 0]\n",
      " [0 0 0 0 0 0 0 8 0]]\n"
     ]
    }
   ],
   "source": [
    "a = np.array([[6, 0, 0, 0, 8, 0, 0, 0, 1],\n",
    "       [0, 9, 0, 4, 0, 0, 6, 0, 0],\n",
    "       [0, 0, 0, 0, 9, 0, 0, 0, 2],\n",
    "       [0, 0, 0, 0, 0, 1, 0, 0, 0],\n",
    "       [0, 0, 0, 6, 0, 0, 0, 0, 5],\n",
    "       [3, 2, 7, 5, 0, 0, 0, 0, 8],\n",
    "       [0, 0, 0, 0, 7, 0, 0, 0, 0],\n",
    "       [0, 0, 6, 8, 0, 3, 9, 7, 0],\n",
    "       [0, 0, 0, 0, 0, 0, 0, 8, 0]])\n",
    "print(a)"
   ]
  },
  {
   "cell_type": "code",
   "execution_count": 25,
   "id": "f8dccd35-e6c9-4daa-98d3-4d57663a0d62",
   "metadata": {},
   "outputs": [
    {
     "data": {
      "text/plain": [
       "19"
      ]
     },
     "execution_count": 25,
     "metadata": {},
     "output_type": "execute_result"
    }
   ],
   "source": [
    "# Die Anzahl Nullen in dem oberen Zeilenblock (3 Zeilen)\n",
    "np.count_nonzero(a[0:3,:]==0)"
   ]
  },
  {
   "cell_type": "code",
   "execution_count": 27,
   "id": "ba5db4e2-e5d1-43be-b98f-187723b66ddc",
   "metadata": {},
   "outputs": [
    {
     "name": "stdout",
     "output_type": "stream",
     "text": [
      "[[4 0 0 0 8 0 0 0 1]\n",
      " [0 9 0 6 0 0 4 0 0]\n",
      " [0 0 0 0 9 0 0 0 2]\n",
      " [0 0 0 0 0 1 0 0 0]\n",
      " [0 0 0 4 0 0 0 0 5]\n",
      " [6 2 7 5 0 0 0 0 8]\n",
      " [0 0 0 0 7 0 0 0 0]\n",
      " [0 0 4 8 0 6 9 7 0]\n",
      " [0 0 0 0 0 0 0 8 0]]\n"
     ]
    }
   ],
   "source": [
    "# Zahlen austauschen\n",
    "# von[i] wird durch nach[i] ersetzt\n",
    "\n",
    "von  = [4, 6, 3]\n",
    "nach = [3, 4, 6]\n",
    "\n",
    "for i in range(len(von)):\n",
    "    a[a == von[i]] = nach[i]\n",
    "print(a)\n"
   ]
  },
  {
   "cell_type": "code",
   "execution_count": 28,
   "id": "47c93517-c1c2-4b6e-a2c5-74709412f5c5",
   "metadata": {},
   "outputs": [
    {
     "data": {
      "text/plain": [
       "True"
      ]
     },
     "execution_count": 28,
     "metadata": {},
     "output_type": "execute_result"
    }
   ],
   "source": [
    "# Gegeben zwei Matrizen su1, su2 - Test ob an allen Stellen, \n",
    "# an denen su1 den Wert k1 hat, su2 den Wert k2 hat.\n",
    "su1 = np.array([[4, 0, 0, 0, 0, 8, 5, 0, 3],\n",
    "       [0, 5, 9, 0, 2, 0, 0, 0, 7],\n",
    "       [0, 0, 0, 7, 0, 0, 0, 0, 0],\n",
    "       [0, 0, 4, 0, 0, 0, 0, 0, 2],\n",
    "       [0, 0, 2, 1, 3, 9, 4, 0, 0],\n",
    "       [0, 6, 0, 0, 0, 0, 7, 0, 0],\n",
    "       [0, 0, 6, 0, 0, 2, 0, 0, 5],\n",
    "       [0, 9, 7, 0, 8, 0, 0, 0, 0],\n",
    "       [0, 0, 0, 0, 7, 0, 2, 0, 1]])\n",
    "su2 = np.array([[9, 0, 0, 0, 0, 3, 2, 0, 1],\n",
    "       [0, 2, 6, 0, 8, 0, 0, 0, 7],\n",
    "       [0, 0, 0, 7, 0, 0, 0, 0, 0],\n",
    "       [0, 0, 9, 0, 0, 0, 0, 0, 8],\n",
    "       [0, 0, 8, 4, 1, 6, 9, 0, 0],\n",
    "       [0, 5, 0, 0, 0, 0, 7, 0, 0],\n",
    "       [0, 0, 5, 0, 0, 8, 0, 0, 2],\n",
    "       [0, 6, 7, 0, 3, 0, 0, 0, 0],\n",
    "       [0, 0, 0, 0, 7, 0, 8, 0, 4]])\n",
    "\n",
    "k1 = 5\n",
    "k2 = 2\n",
    "np.array_equal(su1==k1, su2==k2)"
   ]
  },
  {
   "cell_type": "code",
   "execution_count": 9,
   "id": "2b4d50c0-89e3-4f4f-a171-08e045b32a26",
   "metadata": {},
   "outputs": [
    {
     "data": {
      "text/plain": [
       "True"
      ]
     },
     "execution_count": 9,
     "metadata": {},
     "output_type": "execute_result"
    }
   ],
   "source": [
    "# Test, ob in Zeile mit Index 1 die Zahlen 9, 4 und 6 vorkommen\n",
    "numbers = list(range(1,10))\n",
    "np.isin([9,4,6], a[1,:]).all()"
   ]
  },
  {
   "cell_type": "code",
   "execution_count": 31,
   "id": "e428e7c6-ee1a-4507-99b5-229ff2c60537",
   "metadata": {},
   "outputs": [],
   "source": [
    "import numpy as np\n",
    "def ulam(n):\n",
    "    if n == 1:\n",
    "        return np.array([1]).reshape(1,1)\n",
    "    u = ulam(n-2)\n",
    "    k = u[-1,-1]\n",
    "    n1 = n-2\n",
    "    rechts = np.arange(k+1,k+1+n)\n",
    " \n",
    "    print(rechts)"
   ]
  },
  {
   "cell_type": "code",
   "execution_count": 32,
   "id": "392d252a-a5c9-40be-9449-9aa052d1da5a",
   "metadata": {},
   "outputs": [
    {
     "name": "stdout",
     "output_type": "stream",
     "text": [
      "[2 3 4]\n",
      "None\n"
     ]
    }
   ],
   "source": [
    "print(ulam(3))"
   ]
  },
  {
   "cell_type": "code",
   "execution_count": 14,
   "id": "1c30e2d1-73fe-478f-97c0-941e2cfd1fa3",
   "metadata": {},
   "outputs": [],
   "source": [
    "a = np.array(range(81)).reshape(9,9)"
   ]
  },
  {
   "cell_type": "code",
   "execution_count": 16,
   "id": "4d4a34b8-5200-4756-9c55-7270e45e6702",
   "metadata": {},
   "outputs": [
    {
     "data": {
      "text/plain": [
       "80"
      ]
     },
     "execution_count": 16,
     "metadata": {},
     "output_type": "execute_result"
    }
   ],
   "source": [
    "a[-1,-1]\n"
   ]
  },
  {
   "cell_type": "code",
   "execution_count": 18,
   "id": "adc0e89f-4dcb-4038-8ef8-f2f0f2283ae9",
   "metadata": {},
   "outputs": [
    {
     "data": {
      "text/plain": [
       "array([4, 5])"
      ]
     },
     "execution_count": 18,
     "metadata": {},
     "output_type": "execute_result"
    }
   ],
   "source": [
    "np.arange(4,6)"
   ]
  },
  {
   "cell_type": "code",
   "execution_count": null,
   "id": "b2356418-067c-4969-a1c0-94c2d0b889fa",
   "metadata": {},
   "outputs": [],
   "source": []
  }
 ],
 "metadata": {
  "kernelspec": {
   "display_name": "Python 3 (ipykernel)",
   "language": "python",
   "name": "python3"
  },
  "language_info": {
   "codemirror_mode": {
    "name": "ipython",
    "version": 3
   },
   "file_extension": ".py",
   "mimetype": "text/x-python",
   "name": "python",
   "nbconvert_exporter": "python",
   "pygments_lexer": "ipython3",
   "version": "3.9.12"
  }
 },
 "nbformat": 4,
 "nbformat_minor": 5
}
