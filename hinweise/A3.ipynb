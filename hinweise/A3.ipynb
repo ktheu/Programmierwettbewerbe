{
 "cells": [
  {
   "cell_type": "markdown",
   "id": "e51b1912-a638-4116-9356-7c8682efd502",
   "metadata": {},
   "source": [
    "### A3"
   ]
  },
  {
   "cell_type": "markdown",
   "id": "df4c31f5-b25d-4d6d-90ea-c5f7012609a1",
   "metadata": {},
   "source": [
    "Wir lesen ein 3D-Grid ein, das aus zwei Ebenen besteht."
   ]
  },
  {
   "cell_type": "code",
   "execution_count": 1,
   "id": "63abbf81-d8d4-496a-a12e-2f9edd93e9e4",
   "metadata": {},
   "outputs": [
    {
     "name": "stdout",
     "output_type": "stream",
     "text": [
      "Overwriting input.txt\n"
     ]
    }
   ],
   "source": [
    "%%writefile input.txt\n",
    "3 5\n",
    "#####\n",
    "# # #\n",
    "#####\n",
    "\n",
    "#####\n",
    "#   #\n",
    "#####"
   ]
  },
  {
   "cell_type": "code",
   "execution_count": 2,
   "id": "f8ea97f7-0996-4591-8598-40073dbb3fb6",
   "metadata": {},
   "outputs": [],
   "source": [
    "f = open('input.txt')\n",
    "hoehe, breite = [int(x) for x in f.readline().split()]\n",
    "\n",
    "grid0 = [list(f.readline().strip()) for _ in range(hoehe)]\n",
    "f.readline()    # leerzeile\n",
    "grid1 = [list(f.readline().strip()) for _ in range(hoehe)]\n",
    "f.close()\n",
    "grid = [grid0,grid1]"
   ]
  },
  {
   "cell_type": "code",
   "execution_count": 3,
   "id": "c3e1165d-72c6-473e-96ff-04047c8e48be",
   "metadata": {},
   "outputs": [
    {
     "name": "stdout",
     "output_type": "stream",
     "text": [
      "#####\n",
      "# # #\n",
      "#####\n",
      "\n",
      "#####\n",
      "#   #\n",
      "#####\n"
     ]
    }
   ],
   "source": [
    "def show(grid):\n",
    "    for row in grid[0]:\n",
    "        print(*row,sep='')\n",
    "    print()\n",
    "    for row in grid[1]:\n",
    "        print(*row,sep='')\n",
    "\n",
    "show(grid)"
   ]
  },
  {
   "cell_type": "markdown",
   "id": "a126fe76-4ac5-46b1-a296-3a04a9d1eb97",
   "metadata": {},
   "source": [
    "Wir können mit Indizes auf die Elemente des 3D-grids zugreifen. Der erste Index ist die Ebene, Index 0 ist die oberste Ebene."
   ]
  },
  {
   "cell_type": "code",
   "execution_count": 4,
   "id": "2ad4ffc1-d48f-48eb-bb6a-75407c9fe28e",
   "metadata": {},
   "outputs": [
    {
     "name": "stdout",
     "output_type": "stream",
     "text": [
      "#####\n",
      "# #A#\n",
      "#####\n",
      "\n",
      "#####\n",
      "#   #\n",
      "#####\n"
     ]
    }
   ],
   "source": [
    "grid[0][1][3] = 'A'   # oberste Ebene, Zeile 1, Spalte 3\n",
    "show(grid)"
   ]
  },
  {
   "cell_type": "markdown",
   "id": "9d9c5d10-cffd-4eeb-b6c8-206d87e474c3",
   "metadata": {},
   "source": [
    "Wir können das grid in einen gewichteten Graphen umwandeln, bei dem wir berücksichtigen, dass der Ebenenwechsel mit höherenn Kosten verbunden ist. Die Knoten V des Graphen sind die Koordinaten der begehbaren Punkte."
   ]
  },
  {
   "cell_type": "code",
   "execution_count": 5,
   "id": "1a53192d-0db0-44e8-9ba4-b041335fff89",
   "metadata": {},
   "outputs": [
    {
     "data": {
      "text/plain": [
       "[(0, 1, 1), (0, 1, 3), (1, 1, 1), (1, 1, 2), (1, 1, 3)]"
      ]
     },
     "execution_count": 5,
     "metadata": {},
     "output_type": "execute_result"
    }
   ],
   "source": [
    "V = [(z,x,y) for z in range(2) for x in range(hoehe) for y in range(breite) if grid[z][x][y] != '#']\n",
    "V"
   ]
  },
  {
   "cell_type": "markdown",
   "id": "e5315f38-4c3e-4e0c-bb69-cfb2d22a858a",
   "metadata": {},
   "source": [
    "Jedem Knoten werden seine Nachbarknoten mit den Kosten zugeordnet."
   ]
  },
  {
   "cell_type": "code",
   "execution_count": 6,
   "id": "5b926a9f-8f3c-4262-aeb1-80bd7bf0e2e7",
   "metadata": {},
   "outputs": [
    {
     "data": {
      "text/plain": [
       "{(0, 1, 1): 3, (1, 1, 2): 1}"
      ]
     },
     "execution_count": 6,
     "metadata": {},
     "output_type": "execute_result"
    }
   ],
   "source": [
    "G = {v: dict() for v in V}\n",
    "dirs = [(1,0,0),(-1,0,0),(0,1,0),(0,-1,0),(0,0,1),(0,0,-1)]   # mögliche Richtungen\n",
    "for v in V:\n",
    "    z,x,y = v\n",
    "    for zd,xd,yd in dirs:\n",
    "        zn, xn, yn = z+zd, x+xd, y+yd\n",
    "        if 0 <= zn < 2 and 0 <= xn < hoehe and 0 <= zn < breite and grid[zn][xn][yn] != '#':\n",
    "            posn = (zn,xn,yn)\n",
    "            G[v][posn] = 1 if z == zn else 3\n",
    "\n",
    "G[(1,1,1)]     "
   ]
  },
  {
   "cell_type": "markdown",
   "id": "a2b6abfa-685d-468b-9f7f-62092b7a6e8d",
   "metadata": {},
   "source": [
    "G[(1,1,1)] liefert\n",
    "{(0, 1, 1): 3, (1, 1, 2): 1}, d.h. wir können von (1,1,1) mit Kosten 3 nach (0,1,1) und mit Kosten 1 nach (1,1,2)"
   ]
  },
  {
   "cell_type": "markdown",
   "id": "31de590d-58c6-496c-9744-aa80db533293",
   "metadata": {},
   "source": [
    "Eine Implementation des Dijkstra-Algorithmus findet sich im Abschnitt Infokurs/Graphen1"
   ]
  }
 ],
 "metadata": {
  "kernelspec": {
   "display_name": "Python 3 (ipykernel)",
   "language": "python",
   "name": "python3"
  },
  "language_info": {
   "codemirror_mode": {
    "name": "ipython",
    "version": 3
   },
   "file_extension": ".py",
   "mimetype": "text/x-python",
   "name": "python",
   "nbconvert_exporter": "python",
   "pygments_lexer": "ipython3",
   "version": "3.11.2"
  }
 },
 "nbformat": 4,
 "nbformat_minor": 5
}
