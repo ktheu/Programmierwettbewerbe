{
 "cells": [
  {
   "cell_type": "markdown",
   "id": "257352ab-6ae5-4c27-b2ad-bb7407230544",
   "metadata": {},
   "source": [
    "### J1 \n",
    "\n",
    "\n",
    "Erstelle in deinem Informatik-Ordner einen Unterordner mit dem Namen der Aufgabe und kopiere die 6 Beispieleingaben für die\n",
    "Aufgabe in diesen Unterordner. Erstelle in dem Unterordner ein Jupyter-Notebook.\n",
    "\n",
    "Lies die Aufgabenstellung genau durch. Löse für die ersten drei Beispieleingaben die Aufgaben schriftlich.\n",
    "Notiere in dem Jupyter-Notebook, wie die Ausgaben für dein Programm für die drei ersten Beispieleingaben aussehen sollen.\n",
    "\n",
    "Lies die Daten einer Beispieleingabe in geeignete Variablen ein.\n",
    "\n",
    "Überlege, wie du eine W.-Tüte modellieren willst, d.h. wie repräsentierst du eine Wundertüte in deinem Programm?\n",
    "\n"
   ]
  },
  {
   "cell_type": "markdown",
   "id": "e16fa8c7-4d62-4c04-bb23-f10f77e55b3f",
   "metadata": {},
   "source": [
    "### Hinweise"
   ]
  },
  {
   "cell_type": "code",
   "execution_count": 1,
   "id": "40858d6d-7778-470f-8117-3d39c2dd98c0",
   "metadata": {},
   "outputs": [
    {
     "data": {
      "text/plain": [
       "6"
      ]
     },
     "execution_count": 1,
     "metadata": {},
     "output_type": "execute_result"
    }
   ],
   "source": [
    "27 // 4  # ganzzahlige Division, d.h. der Rest wird weggeschmissen"
   ]
  },
  {
   "cell_type": "code",
   "execution_count": 3,
   "id": "f4e94dbb-a9a1-4fa0-b6c3-0e656faf9aef",
   "metadata": {},
   "outputs": [
    {
     "data": {
      "text/plain": [
       "3"
      ]
     },
     "execution_count": 3,
     "metadata": {},
     "output_type": "execute_result"
    }
   ],
   "source": [
    "27 % 4   # Der Modulo-Operator berechnet den Rest der ganzzahligen Division"
   ]
  },
  {
   "cell_type": "code",
   "execution_count": 4,
   "id": "4b57c415-fd3f-4a88-b7b1-0872d5616eda",
   "metadata": {},
   "outputs": [
    {
     "data": {
      "text/plain": [
       "[4, 4, 4, 4, 4]"
      ]
     },
     "execution_count": 4,
     "metadata": {},
     "output_type": "execute_result"
    }
   ],
   "source": [
    "[4]*5    # Inhalt der Liste wird wiederholt"
   ]
  },
  {
   "cell_type": "code",
   "execution_count": 8,
   "id": "7bf39495-5db5-446b-9c23-49136f920e59",
   "metadata": {},
   "outputs": [
    {
     "data": {
      "text/plain": [
       "[3, 3, 3, 3, 5, 5, 5]"
      ]
     },
     "execution_count": 8,
     "metadata": {},
     "output_type": "execute_result"
    }
   ],
   "source": [
    "[3]*4+[5]*3    # zwei Listen werden aneinandergepappt"
   ]
  },
  {
   "cell_type": "markdown",
   "id": "907a9f32-7f9d-4d3a-b5ce-e130b59b6136",
   "metadata": {},
   "source": [
    "Die folgende Funktion könnte hilfreich sein:"
   ]
  },
  {
   "cell_type": "code",
   "execution_count": null,
   "id": "791d1eb7-b762-44a1-97ea-677bdebd60b3",
   "metadata": {},
   "outputs": [],
   "source": [
    "def wandle(a):\n",
    "    '''\n",
    "    a : Liste mit positiven ganzen Zahlen\n",
    "    returns: Liste, die nacheinander a[i] mal den Index i+1 enthält\n",
    "\n",
    "    Beispiele:\n",
    "    >>> wandle([4,1,2])      \n",
    "    [1,1,1,1,2,3,3]\n",
    "\n",
    "    >>> wandle([4,3,2,8])\n",
    "    [1, 1, 1, 1, 2, 2, 2, 3, 3, 4, 4, 4, 4, 4, 4, 4, 4]\n",
    "    '''\n",
    "    pass"
   ]
  }
 ],
 "metadata": {
  "kernelspec": {
   "display_name": "Python 3 (ipykernel)",
   "language": "python",
   "name": "python3"
  },
  "language_info": {
   "codemirror_mode": {
    "name": "ipython",
    "version": 3
   },
   "file_extension": ".py",
   "mimetype": "text/x-python",
   "name": "python",
   "nbconvert_exporter": "python",
   "pygments_lexer": "ipython3",
   "version": "3.11.2"
  }
 },
 "nbformat": 4,
 "nbformat_minor": 5
}
