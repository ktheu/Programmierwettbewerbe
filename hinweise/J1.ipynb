{
 "cells": [
  {
   "cell_type": "markdown",
   "id": "99238a6f-3c2c-4c40-bc89-4052be778151",
   "metadata": {},
   "source": [
    "## Hinweise zu J1"
   ]
  },
  {
   "cell_type": "code",
   "execution_count": null,
   "id": "ea722f99-f930-4179-9ab0-b15d86ac259f",
   "metadata": {},
   "outputs": [],
   "source": [
    "# Einlesen der Reimworte in eine Liste\n",
    "f = open('reimerei0.txt',\"r\",encoding='utf-8')\n",
    "lines = [x.rstrip('\\n') for x in f.readlines()]   # eine Liste mit den Worte\n",
    " "
   ]
  },
  {
   "cell_type": "code",
   "execution_count": 2,
   "id": "9fcfbab6-c05a-4e5b-95b9-7b67ed9d6120",
   "metadata": {},
   "outputs": [
    {
     "name": "stdout",
     "output_type": "stream",
     "text": [
      "und da\n",
      "und oder\n",
      "und nee\n",
      "da oder\n",
      "da nee\n",
      "oder nee\n"
     ]
    }
   ],
   "source": [
    "# alle 2-elementigen Kombinationen einer Wortliste erzeugen\n",
    "import itertools as it\n",
    "a = ['und', 'da', 'oder', 'nee']\n",
    "for x in it.combinations(a,2):\n",
    "    w1, w2 = x\n",
    "    print(w1, w2)"
   ]
  },
  {
   "cell_type": "markdown",
   "id": "010ac0cd-c110-47a4-bff4-e86df4608423",
   "metadata": {},
   "source": [
    "#### Geeignete Funktionen definieren\n",
    "    \n",
    "\n",
    "\n",
    "\n",
    "\n",
    "Bei Analyse eines Wortes zur Bestimmung der maßgeblichen Vokalgruppe können leicht Fehler entstehen. Es empfiehlt sich, die Analyseschritte in mehrere Funktionen aufzuteilen, diese gut zu dokumentieren und zu testen. Ein mögliches Beispiel:\n",
    "  \n",
    "  \n"
   ]
  },
  {
   "cell_type": "code",
   "execution_count": null,
   "id": "b7e23926-63e9-4f9d-8ce4-731865406d2c",
   "metadata": {},
   "outputs": [],
   "source": [
    "def vokalgruppen(s):\n",
    "    '''\n",
    "    s: String (ein Wort)\n",
    "    returns: Liste mit Tuples, \n",
    "      erstes Element ist die Anfangsposition der Vokalgruppe in s\n",
    "      zweites Element ist die Vokalgruppe in s in Kleinschreibung\n",
    "    \n",
    "    Beispiel:\n",
    "    \n",
    "    >>> vokalgruppen('Infoermeaotik') \n",
    "    [(0, 'i'), (3, 'oe'), (7, 'eao'), (11, 'i')]\n",
    "    '''\n",
    "    pass       # your code\n",
    "    \n",
    "\n",
    "def massgeblicheVokalgruppe(s):\n",
    "    '''\n",
    "    s: String (ein Wort)\n",
    "    returns: ein Tuple mit der maßgeblichen Vokalgruppe in Kleinschreibung und deren Position\n",
    "       nach den Regeln der Reimerei\n",
    "    \n",
    "    Beispiele:\n",
    "    \n",
    "    >>> massgeblicheVokalgruppe('Infoermeaotik')\n",
    "    (7, 'eao')\n",
    "    \n",
    "    >>> massgeblicheVokalgruppe('Taifun')\n",
    "    (1, 'ai')\n",
    "    '''\n",
    "    pass       # your code"
   ]
  },
  {
   "cell_type": "code",
   "execution_count": null,
   "id": "a4e49ba4-47d6-4320-8c3a-1be4d8deb67e",
   "metadata": {},
   "outputs": [],
   "source": []
  }
 ],
 "metadata": {
  "kernelspec": {
   "display_name": "Python 3 (ipykernel)",
   "language": "python",
   "name": "python3"
  },
  "language_info": {
   "codemirror_mode": {
    "name": "ipython",
    "version": 3
   },
   "file_extension": ".py",
   "mimetype": "text/x-python",
   "name": "python",
   "nbconvert_exporter": "python",
   "pygments_lexer": "ipython3",
   "version": "3.9.12"
  }
 },
 "nbformat": 4,
 "nbformat_minor": 5
}
