{
 "cells": [
  {
   "cell_type": "code",
   "execution_count": 1,
   "id": "8e64abcf-adca-4e16-9eb4-70c630584c02",
   "metadata": {},
   "outputs": [],
   "source": [
    "import numpy as np\n",
    "def get_palette(num_cls):\n",
    "    palette = np.zeros(3 * num_cls, dtype=np.int32)\n",
    "\n",
    "    for j in range(0, num_cls):\n",
    "        lab = j\n",
    "        i = 0\n",
    "\n",
    "        while lab > 0:\n",
    "            palette[j*3 + 0] |= (((lab >> 0) & 1) << (7-i))\n",
    "            palette[j*3 + 1] |= (((lab >> 1) & 1) << (7-i))\n",
    "            palette[j*3 + 2] |= (((lab >> 2) & 1) << (7-i))\n",
    "            i = i + 1\n",
    "            lab >>= 3\n",
    "\n",
    "    return palette.reshape((-1, 3))"
   ]
  },
  {
   "cell_type": "code",
   "execution_count": 5,
   "id": "c10c712c-4adf-4060-ae93-dce07bfddb67",
   "metadata": {},
   "outputs": [
    {
     "data": {
      "text/plain": [
       "array([[  0,   0,   0],\n",
       "       [128,   0,   0],\n",
       "       [  0, 128,   0],\n",
       "       [128, 128,   0],\n",
       "       [  0,   0, 128],\n",
       "       [128,   0, 128],\n",
       "       [  0, 128, 128],\n",
       "       [128, 128, 128],\n",
       "       [ 64,   0,   0],\n",
       "       [192,   0,   0],\n",
       "       [ 64, 128,   0],\n",
       "       [192, 128,   0],\n",
       "       [ 64,   0, 128],\n",
       "       [192,   0, 128],\n",
       "       [ 64, 128, 128],\n",
       "       [192, 128, 128],\n",
       "       [  0,  64,   0],\n",
       "       [128,  64,   0],\n",
       "       [  0, 192,   0],\n",
       "       [128, 192,   0]])"
      ]
     },
     "execution_count": 5,
     "metadata": {},
     "output_type": "execute_result"
    }
   ],
   "source": [
    "get_palette(20)"
   ]
  },
  {
   "cell_type": "code",
   "execution_count": null,
   "id": "18198618-9c4a-45c7-853b-45bd5ebb260d",
   "metadata": {},
   "outputs": [],
   "source": []
  }
 ],
 "metadata": {
  "kernelspec": {
   "display_name": "Python 3 (ipykernel)",
   "language": "python",
   "name": "python3"
  },
  "language_info": {
   "codemirror_mode": {
    "name": "ipython",
    "version": 3
   },
   "file_extension": ".py",
   "mimetype": "text/x-python",
   "name": "python",
   "nbconvert_exporter": "python",
   "pygments_lexer": "ipython3",
   "version": "3.10.6"
  }
 },
 "nbformat": 4,
 "nbformat_minor": 5
}
