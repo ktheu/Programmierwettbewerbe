{
 "cells": [
  {
   "cell_type": "markdown",
   "id": "ef59aa37-8f65-4a84-9fc0-306ed736faf2",
   "metadata": {},
   "source": [
    "### Hinweise zu J2"
   ]
  },
  {
   "cell_type": "code",
   "execution_count": null,
   "id": "558d472b-25c8-4a0b-a013-59869f8d2691",
   "metadata": {},
   "outputs": [],
   "source": [
    "# Einlesen der Daten\n",
    "f = open('container0.txt',\"r\",encoding='utf-8')\n",
    "lines = [x.rstrip('\\n') for x in f.readlines()]   # Zeilenvorschub \\n entfernen\n",
    "for line in lines:\n",
    "    x, y = line.split()                           \n",
    "    x, y = int(x), int(y)\n",
    "    print(x,y)"
   ]
  },
  {
   "cell_type": "markdown",
   "id": "66486cc9-fe79-435f-ab95-de9b11eaba42",
   "metadata": {},
   "source": [
    "#### Mögliches Vorgehen    \n",
    "\n",
    "Wir verschaffen uns in einem Set einen Überblick, welche Container im Spiel sind. Dann streichen wir daraus alle Container, von denen wir wissen, dass sie nicht die schwersten sind."
   ]
  },
  {
   "cell_type": "markdown",
   "id": "a993cc9f-6b10-46d3-873f-3ae516c149e2",
   "metadata": {},
   "source": [
    "#### Sets   \n",
    "\n",
    "Die Umwandlung einer Liste in ein Set sorgt dafür, dass keine Elemente doppelt vorkommen."
   ]
  },
  {
   "cell_type": "code",
   "execution_count": 2,
   "id": "8b9d798c-7f00-4c52-ae25-5e19182553cf",
   "metadata": {},
   "outputs": [
    {
     "name": "stdout",
     "output_type": "stream",
     "text": [
      "{2, 3, 4, 5}\n"
     ]
    }
   ],
   "source": [
    "a = [3,2,5,5,4,3,2,2,4]\n",
    "b = set(a)\n",
    "print(b)"
   ]
  },
  {
   "cell_type": "markdown",
   "id": "4b2dfd43-ac77-4408-90eb-70566bb757cf",
   "metadata": {},
   "source": [
    "Elemente in ein Set einfügen und löschen:"
   ]
  },
  {
   "cell_type": "code",
   "execution_count": 4,
   "id": "44580bb0-a54d-4456-aa41-a24dde06357b",
   "metadata": {},
   "outputs": [
    {
     "name": "stdout",
     "output_type": "stream",
     "text": [
      "{8, 2, 3, 4}\n",
      "{8, 2, 3}\n"
     ]
    }
   ],
   "source": [
    "s = {2,3,4}             # ein Set\n",
    "s.add(8)                # Element hinzufügen\n",
    "print(s)\n",
    "s.remove(4)             # Element löschen\n",
    "print(s)"
   ]
  },
  {
   "cell_type": "code",
   "execution_count": null,
   "id": "e2b60673-d0ab-47d6-a04d-047df3016cae",
   "metadata": {},
   "outputs": [],
   "source": []
  }
 ],
 "metadata": {
  "kernelspec": {
   "display_name": "Python 3 (ipykernel)",
   "language": "python",
   "name": "python3"
  },
  "language_info": {
   "codemirror_mode": {
    "name": "ipython",
    "version": 3
   },
   "file_extension": ".py",
   "mimetype": "text/x-python",
   "name": "python",
   "nbconvert_exporter": "python",
   "pygments_lexer": "ipython3",
   "version": "3.9.12"
  }
 },
 "nbformat": 4,
 "nbformat_minor": 5
}
