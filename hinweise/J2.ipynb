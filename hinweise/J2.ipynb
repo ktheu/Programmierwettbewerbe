{
 "cells": [
  {
   "cell_type": "markdown",
   "id": "d24ba639-db1f-4c7e-858c-86714eb5f2e6",
   "metadata": {},
   "source": [
    "### J2 \n",
    " \n",
    "Erstelle in deinem Informatik-Ordner einen Unterordner mit dem Namen der Aufgabe und kopiere die png-Versionen der sieben Beispielbilder hinein.  Erstelle in dem Unterordner ein Jupyter-Notebook.\n",
    "\n",
    "Wir nutzen für die Python Image Library PIL (Installation: pip install Pillow)\n",
    " \n",
    "\n",
    " "
   ]
  },
  {
   "cell_type": "code",
   "execution_count": 2,
   "id": "497e11ae-9e17-44e9-8463-4587c272c273",
   "metadata": {},
   "outputs": [
    {
     "data": {
      "image/png": "[encoded data removed]",
      "text/plain": [
       "<PIL.PngImagePlugin.PngImageFile image mode=RGBA size=16x12>"
      ]
     },
     "execution_count": 2,
     "metadata": {},
     "output_type": "execute_result"
    }
   ],
   "source": [
    "from PIL import Image\n",
    "image = Image.open(\"bild01.png\")\n",
    "image\n"
   ]
  },
  {
   "cell_type": "code",
   "execution_count": 3,
   "id": "40585a4f-a203-4607-831e-158892fea666",
   "metadata": {},
   "outputs": [
    {
     "name": "stdout",
     "output_type": "stream",
     "text": [
      "breite=16, hoehe=12\n"
     ]
    }
   ],
   "source": [
    "breite, hoehe = image.size\n",
    "print(f'breite={breite}, hoehe={hoehe}')"
   ]
  },
  {
   "cell_type": "markdown",
   "id": "3813aed1-47e3-4e4e-a0b0-d2b70a0e6ac5",
   "metadata": {},
   "source": [
    "Die Daten sind die RGBA-Werte der ersten 10 Pixelpunkte."
   ]
  },
  {
   "cell_type": "code",
   "execution_count": 4,
   "id": "1a86025a-4600-4bc0-933e-a1e7401ff3d0",
   "metadata": {},
   "outputs": [
    {
     "data": {
      "text/plain": [
       "[(72, 231, 237, 255),\n",
       " (178, 192, 211, 255),\n",
       " (160, 176, 202, 255),\n",
       " (184, 197, 214, 255),\n",
       " (184, 196, 213, 255),\n",
       " (172, 185, 206, 255),\n",
       " (161, 177, 203, 255),\n",
       " (134, 156, 190, 255),\n",
       " (104, 134, 179, 255),\n",
       " (92, 124, 174, 255)]"
      ]
     },
     "execution_count": 4,
     "metadata": {},
     "output_type": "execute_result"
    }
   ],
   "source": [
    "list(image.getdata())[:10]"
   ]
  },
  {
   "cell_type": "markdown",
   "id": "9a4f986f-67a1-474e-ad37-876e1f7613cd",
   "metadata": {},
   "source": [
    "Die ersten drei Werte sind die RGB-Werte, der vierte Wert ist der alpha-Wert für die Transparenz. Den alpha-Wert benötigen wir für die Aufgabe nicht. Deswegen wandeln wir die Daten in reine RGB-Werte um."
   ]
  },
  {
   "cell_type": "code",
   "execution_count": 5,
   "id": "9415466a-2214-45cf-a3f6-836e762b6724",
   "metadata": {},
   "outputs": [
    {
     "data": {
      "text/plain": [
       "[(72, 231, 237),\n",
       " (178, 192, 211),\n",
       " (160, 176, 202),\n",
       " (184, 197, 214),\n",
       " (184, 196, 213),\n",
       " (172, 185, 206),\n",
       " (161, 177, 203),\n",
       " (134, 156, 190),\n",
       " (104, 134, 179),\n",
       " (92, 124, 174)]"
      ]
     },
     "execution_count": 5,
     "metadata": {},
     "output_type": "execute_result"
    }
   ],
   "source": [
    "image = image.convert('RGB')\n",
    "list(image.getdata())[:10]"
   ]
  },
  {
   "cell_type": "markdown",
   "id": "6aa17246-26f8-4f7c-a923-363e0eed8991",
   "metadata": {},
   "source": [
    "Die Daten werden uns beginnend mit dem Pixel an der Stelle (0,0) (=oben links) zeilenweise in einer Liste der Länge 16*12 übergeben."
   ]
  },
  {
   "cell_type": "code",
   "execution_count": 6,
   "id": "df4d6f5a-e3a1-4d60-a9fd-4ab101259a2a",
   "metadata": {},
   "outputs": [
    {
     "data": {
      "text/plain": [
       "192"
      ]
     },
     "execution_count": 6,
     "metadata": {},
     "output_type": "execute_result"
    }
   ],
   "source": [
    "len(list(image.getdata()))"
   ]
  },
  {
   "cell_type": "markdown",
   "id": "d52d0326-f362-42b5-8a69-ecd7805dd510",
   "metadata": {},
   "source": [
    "Wir setzen die Daten in eine 2D-Matrix um, damit wir mit einem Zeilen- und Spaltenindex auf die jeweiligen Pixelwerte zugreifen können."
   ]
  },
  {
   "cell_type": "code",
   "execution_count": 7,
   "id": "d8b99b59-7e51-41c2-b40e-d1bc9ffa03c6",
   "metadata": {},
   "outputs": [],
   "source": [
    "data = []\n",
    "a = list(image.getdata())\n",
    "for i in range(0,len(a),breite):\n",
    "    zeile = a[i:i+breite]\n",
    "    data.append(zeile)"
   ]
  },
  {
   "cell_type": "markdown",
   "id": "f814c7ff-d944-4ff5-8c9d-568f2ee8aa30",
   "metadata": {},
   "source": [
    "RGB-Wert des Pixels oben links"
   ]
  },
  {
   "cell_type": "code",
   "execution_count": 8,
   "id": "098c586b-ab44-43a8-809c-c4f8ec04c888",
   "metadata": {},
   "outputs": [
    {
     "data": {
      "text/plain": [
       "(72, 231, 237)"
      ]
     },
     "execution_count": 8,
     "metadata": {},
     "output_type": "execute_result"
    }
   ],
   "source": [
    "data[0][0]"
   ]
  },
  {
   "cell_type": "markdown",
   "id": "22def824-8e58-4171-9dca-8a47d85430fe",
   "metadata": {},
   "source": [
    "RGB-Wert des Pixels unten rechts"
   ]
  },
  {
   "cell_type": "code",
   "execution_count": 9,
   "id": "8658c560-7ad5-47fb-acef-10995affd26e",
   "metadata": {},
   "outputs": [
    {
     "data": {
      "text/plain": [
       "(82, 65, 34)"
      ]
     },
     "execution_count": 9,
     "metadata": {},
     "output_type": "execute_result"
    }
   ],
   "source": [
    "data[hoehe-1][breite-1]"
   ]
  },
  {
   "cell_type": "markdown",
   "id": "7f6833cd-7373-4ff1-b4b5-677b7e79bead",
   "metadata": {},
   "source": [
    "Der R-Wert des Pixels oben links ist der ASCII-Code des ersten Buchstabens."
   ]
  },
  {
   "cell_type": "code",
   "execution_count": 10,
   "id": "07dc13e1-1b14-4013-8aaf-1fb06fc6a086",
   "metadata": {},
   "outputs": [
    {
     "name": "stdout",
     "output_type": "stream",
     "text": [
      "72 231 237\n",
      "H\n"
     ]
    }
   ],
   "source": [
    "r, g, b = data[0][0]       # unpacking\n",
    "print(r,g,b)\n",
    "print(chr(r))"
   ]
  },
  {
   "cell_type": "markdown",
   "id": "3ad11f7e-a080-4243-a743-89e301212e4f",
   "metadata": {},
   "source": [
    "Wir gehen von (0,0) aus b Schritte nach unten und g Schritte nach rechts. Für den Fall eines Überlaufs nutzen wir den Modulo-Operator."
   ]
  },
  {
   "cell_type": "code",
   "execution_count": 11,
   "id": "379a530d-f317-474a-a5d9-1ec31b27708a",
   "metadata": {},
   "outputs": [
    {
     "name": "stdout",
     "output_type": "stream",
     "text": [
      "97\n",
      "a\n"
     ]
    }
   ],
   "source": [
    "r, g, b = data[(0+b)%hoehe][(0+g)%breite]\n",
    "print(r)\n",
    "print(chr(r))"
   ]
  },
  {
   "cell_type": "markdown",
   "id": "6143205e-6158-415c-8f0c-3d0a39c27341",
   "metadata": {},
   "source": [
    "Damit haben wir den zweiten Buchstaben gefunden."
   ]
  }
 ],
 "metadata": {
  "kernelspec": {
   "display_name": "Python 3 (ipykernel)",
   "language": "python",
   "name": "python3"
  },
  "language_info": {
   "codemirror_mode": {
    "name": "ipython",
    "version": 3
   },
   "file_extension": ".py",
   "mimetype": "text/x-python",
   "name": "python",
   "nbconvert_exporter": "python",
   "pygments_lexer": "ipython3",
   "version": "3.11.2"
  }
 },
 "nbformat": 4,
 "nbformat_minor": 5
}
