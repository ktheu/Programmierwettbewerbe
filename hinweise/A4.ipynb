{
 "cells": [
  {
   "cell_type": "markdown",
   "id": "8a218207-d524-49a3-9d25-4537c0c316af",
   "metadata": {},
   "source": [
    "### A4\n",
    "\n",
    "Wir lesen die Daten in eine Liste von Listen ein, z.B:"
   ]
  },
  {
   "cell_type": "raw",
   "id": "d4bb0ead-06f4-4573-8ab4-679be4af00a1",
   "metadata": {},
   "source": [
    "[['X', 'X', 'Q1', 'Q2', 'X', 'X', 'Q3', 'X'],\n",
    " ['X', 'X', 'B', 'B', 'X', 'R', 'R', 'X'],\n",
    " ['X', 'R', 'R', 'R', 'R', 'W', 'W', 'X'],\n",
    " ['X', 'W', 'W', 'B', 'B', 'W', 'W', 'X'],\n",
    " ['R', 'R', 'B', 'B', 'B', 'B', 'R', 'R'],\n",
    " ['X', 'B', 'B', 'W', 'W', 'B', 'B', 'X'],\n",
    " ['X', 'L1', 'L2', 'X', 'L3', 'L4', 'X', 'X']]"
   ]
  },
  {
   "cell_type": "markdown",
   "id": "92774c9f-5997-44c5-a99c-74616e62f66d",
   "metadata": {},
   "source": [
    "Die Q-Elemente der ersten Zeile ersetzen wir durch die verschiedenen Möglichkeiten der Lichtquellen.\n",
    "Dabei helfen die itertools."
   ]
  },
  {
   "cell_type": "code",
   "execution_count": 11,
   "id": "437b4820-8485-4003-96b5-c5a0243f39b0",
   "metadata": {},
   "outputs": [
    {
     "name": "stdout",
     "output_type": "stream",
     "text": [
      "0 0 0\n",
      "0 0 1\n",
      "0 1 0\n",
      "0 1 1\n",
      "1 0 0\n",
      "1 0 1\n",
      "1 1 0\n",
      "1 1 1\n"
     ]
    }
   ],
   "source": [
    "import itertools as it\n",
    "for a,b,c in it.product([0,1],repeat=3):\n",
    "    print(a,b,c)"
   ]
  },
  {
   "cell_type": "markdown",
   "id": "e9f3a718-a695-463e-8b1a-c4ac84ebae5c",
   "metadata": {},
   "source": [
    "Eine mögliche Lichtsituation zu Beginn:"
   ]
  },
  {
   "cell_type": "code",
   "execution_count": 12,
   "id": "bfe33297-b46c-4f4e-b800-65c7a9aec62d",
   "metadata": {},
   "outputs": [],
   "source": [
    "licht = ['X', 'X', 1, 0, 'X', 'X', 1, 'X'],"
   ]
  },
  {
   "cell_type": "markdown",
   "id": "d7383119-e1a3-4761-bbd5-6d4421d2d510",
   "metadata": {},
   "source": [
    "Wir gehen zeilenweise durch unsere Daten und berechnen die neuen Lichtverhältnisse"
   ]
  },
  {
   "cell_type": "code",
   "execution_count": 17,
   "id": "3ea84a1d-7ed0-4528-a04b-bc5d5e85e03d",
   "metadata": {},
   "outputs": [],
   "source": [
    "def nextLicht(zeile,licht):\n",
    "    '''\n",
    "    zeile: eine Zeile aus unseren eingelesenen Daten\n",
    "    licht: Liste, die aktuelle Lichtsituation\n",
    "    returns: Liste, die neue Lichtsituation nach Anwendung der Bauelemente in zeile\n",
    "\n",
    "    Beispiel:\n",
    "\n",
    "    >>> zeile = ['X', 'X', 'B', 'B', 'X', 'R', 'R', 'X']\n",
    "    >>> licht = ['X', 'X', 1, 0, 'X', 'X', 1, 'X']\n",
    "    >>> nextLicht(zeile,licht)\n",
    "    ['X', 'X', 1, 0, 'X', 0, 0, 'X']\n",
    "    '''\n",
    "    pass\n",
    "\n",
    "            \n",
    "     "
   ]
  }
 ],
 "metadata": {
  "kernelspec": {
   "display_name": "Python 3 (ipykernel)",
   "language": "python",
   "name": "python3"
  },
  "language_info": {
   "codemirror_mode": {
    "name": "ipython",
    "version": 3
   },
   "file_extension": ".py",
   "mimetype": "text/x-python",
   "name": "python",
   "nbconvert_exporter": "python",
   "pygments_lexer": "ipython3",
   "version": "3.11.2"
  }
 },
 "nbformat": 4,
 "nbformat_minor": 5
}
