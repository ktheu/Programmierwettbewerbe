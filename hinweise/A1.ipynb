{
 "cells": [
  {
   "cell_type": "markdown",
   "id": "de7cdb01-0c39-474d-a431-e5a25da2750c",
   "metadata": {},
   "source": [
    "## A1\n",
    "\n",
    "#### Daten einlesen\n",
    "\n",
    "Es empfiehlt sich, den gesamten Text in einen String einzulesen, dann den Zeilenvorschub zu entfernen und alles in Kleinbuchstaben zu verwandeln."
   ]
  },
  {
   "cell_type": "code",
   "execution_count": null,
   "id": "e454a9bb-bd30-45bd-8bc9-f9069b18548a",
   "metadata": {},
   "outputs": [],
   "source": [
    "f = open('eingabe.txt',\"r\",encoding='utf-8')\n",
    "text = f.read()                         # die komplette Eingabe in einen String\n",
    "text = text.replace('\\n','').lower()"
   ]
  },
  {
   "cell_type": "markdown",
   "id": "8720393b-f84d-4f4b-b8b3-95f1cdac45b9",
   "metadata": {},
   "source": [
    "#### Reguläre Ausdrücke\n",
    "Mit regulären Ausdrücken können wir Texte nach Mustern durchsuchen"
   ]
  },
  {
   "cell_type": "markdown",
   "id": "941ab3eb-84a9-4ab5-b46a-e73e4a71b5e1",
   "metadata": {},
   "source": [
    "```\n",
    "\\w steht für einen beliebigen Buchstaben\n",
    "\\w+ steht für ein oder mehrere beliebe Buchstaben, also ein Wort\n",
    "\\w+ \\w+   steht für 2 Worte mit einem Leerzeichen dazwischen\n",
    "```"
   ]
  },
  {
   "cell_type": "code",
   "execution_count": 4,
   "id": "46b9cfd0-a2bc-4c9b-b91c-72536809711e",
   "metadata": {},
   "outputs": [
    {
     "name": "stdout",
     "output_type": "stream",
     "text": [
      "['ein wirklich kurzer Satz', 'ein sehr schöner Satz']\n"
     ]
    }
   ],
   "source": [
    "import re\n",
    "# es sollen die Wortfolgen 'ein _ _ Satz' gefunden werden. _ steht für ein beliebiges Wort.\n",
    "regex = 'ein \\w+ \\w+ Satz'\n",
    "text = 'Dies ist ein wirklich kurzer Satz. Morgen ist Freitag. Auch dies könnte ein sehr schöner Satz werden.'\n",
    "a = re.findall(regex,text)\n",
    "print(a)\n",
    " "
   ]
  },
  {
   "cell_type": "markdown",
   "id": "f1194eaa-2d01-40c1-a4fa-bcb5c8137255",
   "metadata": {},
   "source": [
    "#### Neue Zeile berücksichtigen\n",
    "\n",
    "Auch wenn es in keinem der Beispieldaten vorkommt, sollte man sich Gedanken machen, was passiert, wenn der\n",
    "gesuchte Teiltext über mehrere Zeilen geht. Was findet das Programm bei dem gestörten Text: \"mitgebracht _ liebem\". \n",
    "Ich fürchte, die oben beschriebene Ersetzung von '\\n' durch '' reicht nicht aus.\n",
    "\n",
    "```\n",
    "Gleich welken Blüthen, mitgebracht\n",
    "Aus liebem, fernen Land.\n",
    "\n",
    "```\n"
   ]
  },
  {
   "cell_type": "markdown",
   "id": "21005c26-b306-4312-9051-13ad15188ee0",
   "metadata": {},
   "source": [
    "Gibt es vielleicht noch andere Fälle die kritisch sind? Schaut euch den Text an und erzeugt neue Störungstexte zum Test."
   ]
  },
  {
   "cell_type": "code",
   "execution_count": null,
   "id": "d22cef34-56e7-4742-ba46-b21909deda83",
   "metadata": {},
   "outputs": [],
   "source": []
  }
 ],
 "metadata": {
  "kernelspec": {
   "display_name": "Python 3 (ipykernel)",
   "language": "python",
   "name": "python3"
  },
  "language_info": {
   "codemirror_mode": {
    "name": "ipython",
    "version": 3
   },
   "file_extension": ".py",
   "mimetype": "text/x-python",
   "name": "python",
   "nbconvert_exporter": "python",
   "pygments_lexer": "ipython3",
   "version": "3.9.12"
  }
 },
 "nbformat": 4,
 "nbformat_minor": 5
}
