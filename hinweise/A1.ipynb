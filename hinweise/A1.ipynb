{
 "cells": [
  {
   "cell_type": "markdown",
   "id": "a76420fd-e6fe-4773-919b-c4312e505aa6",
   "metadata": {},
   "source": [
    "### A1\n",
    "\n"
   ]
  },
  {
   "cell_type": "markdown",
   "id": "b6bc539b-0953-4c37-909a-8271ca3a5979",
   "metadata": {},
   "source": [
    "Wir verschaffen uns ein N x N Gitter, das zunächst nur mit Punkten besetzt ist"
   ]
  },
  {
   "cell_type": "code",
   "execution_count": 61,
   "id": "f50f73c5-7953-4cf3-b355-53457970ed92",
   "metadata": {},
   "outputs": [],
   "source": [
    "N = 10\n",
    "grid = [['.']*n for _ in range(n)]"
   ]
  },
  {
   "cell_type": "code",
   "execution_count": 62,
   "id": "bdeac780-43c6-4ebd-8e4b-ec3dba98efcf",
   "metadata": {},
   "outputs": [
    {
     "name": "stdout",
     "output_type": "stream",
     "text": [
      ". . . . . . . . . .\n",
      ". . . . . . . . . .\n",
      ". . . . . . . . . .\n",
      ". . . . . . . . . .\n",
      ". . . . . . . . . .\n",
      ". . . . . . . . . .\n",
      ". . . . . . . . . .\n",
      ". . . . . . . . . .\n",
      ". . . . . . . . . .\n",
      ". . . . . . . . . .\n"
     ]
    }
   ],
   "source": [
    "def show(grid):\n",
    "    for row in grid:\n",
    "        print(*row)\n",
    "\n",
    "show(grid)"
   ]
  },
  {
   "cell_type": "markdown",
   "id": "1b6310b8-19e7-44e2-9031-8cf22f500b5e",
   "metadata": {},
   "source": [
    "Auf die Elemente des grids können wir mit Koordinaten zugreifen."
   ]
  },
  {
   "cell_type": "code",
   "execution_count": 63,
   "id": "0700e542-e8eb-4867-8e85-ce5d5608a69e",
   "metadata": {},
   "outputs": [
    {
     "name": "stdout",
     "output_type": "stream",
     "text": [
      ". . . . . . . . . .\n",
      ". . . . . 2 . . . .\n",
      ". . . . . . . . . .\n",
      ". . . . . . . . . .\n",
      ". . . . . . . . . .\n",
      ". . . . . . . . . .\n",
      ". . . . . . . . . 2\n",
      ". . . . . . . . . .\n",
      ". . . . . . . . . .\n",
      ". . . . . . . . . .\n"
     ]
    }
   ],
   "source": [
    "grid[1][5] = 2     # Zeile 1, Spalte 3  \n",
    "grid[6][9] = 2\n",
    "show(grid)"
   ]
  },
  {
   "cell_type": "markdown",
   "id": "5fac7eb9-79cb-4ff6-8654-9e4b566de4f7",
   "metadata": {},
   "source": [
    "Koordinaten, die wir nicht betreten dürfen, markieren wir mit '#'."
   ]
  },
  {
   "cell_type": "code",
   "execution_count": 64,
   "id": "58b50b26-a560-4e64-a906-eb8c09644523",
   "metadata": {},
   "outputs": [
    {
     "name": "stdout",
     "output_type": "stream",
     "text": [
      ". . . . . . . . . .\n",
      ". . . . . 2 . . . .\n",
      ". . . . . . . . . .\n",
      ". . . . . . . . . .\n",
      ". . . . . . . . . .\n",
      ". . . # # # # # # #\n",
      ". . . . . . . . . 2\n",
      ". . . . . . . . . .\n",
      ". . . . . . . . . .\n",
      ". . . . . . . . . .\n"
     ]
    }
   ],
   "source": [
    "for i in range(3,N):\n",
    "    grid[5][i] = '#'\n",
    "show(grid)"
   ]
  },
  {
   "cell_type": "markdown",
   "id": "4736e8fe-3e34-435d-97ac-1cac5bb7419f",
   "metadata": {},
   "source": [
    "Mit der Breitensuche finden wir den kürzesten Weg zwischen den beiden Punkten.\n",
    "Die Funktion nextPos ermittelt, was unsere möglichen Nachbarkoordinaten sind. "
   ]
  },
  {
   "cell_type": "code",
   "execution_count": 65,
   "id": "0b1429e0-0cc3-42b3-989c-668387649fbe",
   "metadata": {},
   "outputs": [],
   "source": [
    "dirs = [(1,0),(-1,0),(0,1),(0,-1)]   # die vier Bewegungsrichtungen\n",
    "def nextPos(pos):\n",
    "    tmp = []\n",
    "    x, y = pos\n",
    "    for xd,yd in dirs:\n",
    "        x1, y1 = x+xd, y+yd         # Nachbarkoordinate\n",
    "        if (0 <= x1 < N) and (0 <= y1 < N) and grid[x1][y1] != '#':   # im grid und betretbar?\n",
    "            tmp.append((x1,y1))\n",
    "    return tmp    \n",
    "    "
   ]
  },
  {
   "cell_type": "code",
   "execution_count": 66,
   "id": "99047585-0901-48be-922c-6c8765868866",
   "metadata": {},
   "outputs": [],
   "source": [
    "from collections import deque\n",
    "\n",
    "def bfs(start):\n",
    "    frontier =  deque([start])\n",
    "    prev = {start:None}\n",
    "    while frontier:\n",
    "        pos = frontier.popleft()\n",
    "        if pos == goal:\n",
    "            return prev \n",
    "        for p in nextPos(pos):\n",
    "            if p not in prev:\n",
    "                frontier.append(p)\n",
    "                prev[p] = pos\n",
    "    return None \n",
    "\n",
    "def reconstructPath(prev,goal):\n",
    "    pos = goal\n",
    "    path = []\n",
    "    while pos is not None:\n",
    "        path.append(pos)\n",
    "        pos = prev[pos]\n",
    "    path.reverse()\n",
    "    return path"
   ]
  },
  {
   "cell_type": "code",
   "execution_count": 67,
   "id": "932d81b3-85bd-4bb5-b8c0-57f9e07aa5bc",
   "metadata": {},
   "outputs": [
    {
     "name": "stdout",
     "output_type": "stream",
     "text": [
      "[(1, 5), (2, 5), (3, 5), (4, 5), (4, 4), (4, 3), (4, 2), (5, 2), (6, 2), (6, 3), (6, 4), (6, 5), (6, 6), (6, 7), (6, 8), (6, 9)]\n"
     ]
    }
   ],
   "source": [
    "start = (1,5)\n",
    "goal = (6,9)\n",
    "prev = bfs(start)\n",
    "path = reconstructPath(prev,goal)\n",
    "print(path)"
   ]
  },
  {
   "cell_type": "markdown",
   "id": "90417432-6f98-4369-8009-1a69eb2eb073",
   "metadata": {},
   "source": [
    "Jetzt können wir den Pfad markieren"
   ]
  },
  {
   "cell_type": "code",
   "execution_count": 68,
   "id": "2a6d9f42-7d22-4c34-8a36-2270960bfad9",
   "metadata": {},
   "outputs": [
    {
     "name": "stdout",
     "output_type": "stream",
     "text": [
      ". . . . . . . . . .\n",
      ". . . . . 2 . . . .\n",
      ". . . . . 2 . . . .\n",
      ". . . . . 2 . . . .\n",
      ". . 2 2 2 2 . . . .\n",
      ". . 2 # # # # # # #\n",
      ". . 2 2 2 2 2 2 2 2\n",
      ". . . . . . . . . .\n",
      ". . . . . . . . . .\n",
      ". . . . . . . . . .\n"
     ]
    }
   ],
   "source": [
    "for (x,y) in path:\n",
    "    grid[x][y] = 2\n",
    "show(grid)"
   ]
  }
 ],
 "metadata": {
  "kernelspec": {
   "display_name": "Python 3 (ipykernel)",
   "language": "python",
   "name": "python3"
  },
  "language_info": {
   "codemirror_mode": {
    "name": "ipython",
    "version": 3
   },
   "file_extension": ".py",
   "mimetype": "text/x-python",
   "name": "python",
   "nbconvert_exporter": "python",
   "pygments_lexer": "ipython3",
   "version": "3.11.2"
  }
 },
 "nbformat": 4,
 "nbformat_minor": 5
}
