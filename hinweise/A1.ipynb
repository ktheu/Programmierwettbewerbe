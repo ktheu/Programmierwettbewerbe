{
 "cells": [
  {
   "cell_type": "markdown",
   "id": "de7cdb01-0c39-474d-a431-e5a25da2750c",
   "metadata": {},
   "source": [
    "## A1\n",
    "\n",
    "#### Daten einlesen\n",
    "\n",
    "Es empfiehlt sich, den gesamten Text in einen String einzulesen, dann den Zeilenvorschub zu entfernen und alles in Kleinbuchstaben zu verwandeln."
   ]
  },
  {
   "cell_type": "code",
   "execution_count": null,
   "id": "e454a9bb-bd30-45bd-8bc9-f9069b18548a",
   "metadata": {},
   "outputs": [],
   "source": [
    "f = open('eingabe.txt',\"r\",encoding='utf-8')\n",
    "text = f.read()                         # die komplette Eingabe in einen String\n",
    "text = text.replace('\\n','').lower()"
   ]
  },
  {
   "cell_type": "markdown",
   "id": "8720393b-f84d-4f4b-b8b3-95f1cdac45b9",
   "metadata": {},
   "source": [
    "#### Reguläre Ausdrücke\n",
    "Mit regulären Ausdrücken können wir Texte nach Mustern durchsuchen"
   ]
  },
  {
   "cell_type": "markdown",
   "id": "941ab3eb-84a9-4ab5-b46a-e73e4a71b5e1",
   "metadata": {},
   "source": [
    "```\n",
    "\\w steht für einen beliebigen Buchstaben\n",
    "\\w+ steht für ein oder mehrere beliebe Buchstaben, also ein Wort\n",
    "\\w+ \\w+   steht für 2 Worte mit einem Leerzeichen dazwischen\n",
    "```"
   ]
  },
  {
   "cell_type": "code",
   "execution_count": 4,
   "id": "46b9cfd0-a2bc-4c9b-b91c-72536809711e",
   "metadata": {},
   "outputs": [
    {
     "name": "stdout",
     "output_type": "stream",
     "text": [
      "['ein wirklich kurzer Satz', 'ein sehr schöner Satz']\n"
     ]
    }
   ],
   "source": [
    "import re\n",
    "# es sollen die Wortfolgen 'ein _ _ Satz' gefunden werden. _ steht für ein beliebiges Wort.\n",
    "regex = 'ein \\w+ \\w+ Satz'\n",
    "text = 'Dies ist ein wirklich kurzer Satz. Morgen ist Freitag. Auch dies könnte ein sehr schöner Satz werden.'\n",
    "a = re.findall(regex,text)\n",
    "print(a)\n",
    " "
   ]
  }
 ],
 "metadata": {
  "kernelspec": {
   "display_name": "Python 3 (ipykernel)",
   "language": "python",
   "name": "python3"
  },
  "language_info": {
   "codemirror_mode": {
    "name": "ipython",
    "version": 3
   },
   "file_extension": ".py",
   "mimetype": "text/x-python",
   "name": "python",
   "nbconvert_exporter": "python",
   "pygments_lexer": "ipython3",
   "version": "3.9.12"
  }
 },
 "nbformat": 4,
 "nbformat_minor": 5
}
