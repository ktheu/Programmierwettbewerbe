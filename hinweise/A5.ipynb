{
 "cells": [
  {
   "cell_type": "markdown",
   "id": "457a2def-0711-4b44-84bd-565db7fe98e5",
   "metadata": {},
   "source": [
    "## Hüpfburg - Hinweise\n",
    "\n",
    "#### Einlesen der Daten"
   ]
  },
  {
   "cell_type": "code",
   "execution_count": 8,
   "id": "b783f5a4-1f70-4fab-a249-cab08f3864eb",
   "metadata": {},
   "outputs": [
    {
     "data": {
      "text/plain": [
       "['1 18',\n",
       " '1 8',\n",
       " '1 4',\n",
       " '2 3',\n",
       " '2 19',\n",
       " '3 19',\n",
       " '3 6',\n",
       " '5 15',\n",
       " '5 12',\n",
       " '5 13',\n",
       " '6 2',\n",
       " '6 12',\n",
       " '7 5',\n",
       " '7 8',\n",
       " '8 18',\n",
       " '8 4',\n",
       " '9 4',\n",
       " '9 1',\n",
       " '9 14',\n",
       " '10 16',\n",
       " '10 3',\n",
       " '10 12',\n",
       " '10 18',\n",
       " '11 19',\n",
       " '12 3',\n",
       " '13 7',\n",
       " '13 10',\n",
       " '14 17',\n",
       " '14 16',\n",
       " '14 10',\n",
       " '14 18',\n",
       " '14 1',\n",
       " '15 12',\n",
       " '16 11',\n",
       " '16 20',\n",
       " '16 17',\n",
       " '16 19',\n",
       " '17 11',\n",
       " '17 9',\n",
       " '18 13',\n",
       " '18 7',\n",
       " '19 20',\n",
       " '20 3',\n",
       " '20 10']"
      ]
     },
     "execution_count": 8,
     "metadata": {},
     "output_type": "execute_result"
    }
   ],
   "source": [
    "f = open('huepfburg0.txt',\"r\",encoding='utf-8')\n",
    "n, m = f.readline().split()\n",
    "n, m = int(n), int(m)\n",
    " \n",
    "lines = []\n",
    "for i in range(m):\n",
    "    lines.append(f.readline().strip())\n",
    "\n",
    "lines"
   ]
  },
  {
   "cell_type": "markdown",
   "id": "f7218dbe-36da-4272-88a1-6cbacdb6538a",
   "metadata": {},
   "source": [
    "#### Modellierung als gerichteter Graph\n",
    "\n",
    "Wir modellieren den Graph mit einem dictionary. Jeder Knoten ist ein key. Der value ist das Set mit den Nachbarknoten. <br>\n",
    "Wir halten uns an eine gängige Konvention für die Variablennamen\n",
    "\n",
    "- V Menge aller Knoten (vertices) v, v1, v2,... für einzelne Knoten\n",
    "- E Menge aller Kanten (edges) e, e1, e2, .... für einzelne Kanten\n"
   ]
  },
  {
   "cell_type": "code",
   "execution_count": 18,
   "id": "525d61a5-cc46-416b-a4bf-250013254dd7",
   "metadata": {},
   "outputs": [
    {
     "data": {
      "text/plain": [
       "{1: {4, 8, 18},\n",
       " 2: {3, 19},\n",
       " 3: {6, 19},\n",
       " 4: set(),\n",
       " 5: {12, 13, 15},\n",
       " 6: {2, 12},\n",
       " 7: {5, 8},\n",
       " 8: {4, 18},\n",
       " 9: {1, 4, 14},\n",
       " 10: {3, 12, 16, 18},\n",
       " 11: {19},\n",
       " 12: {3},\n",
       " 13: {7, 10},\n",
       " 14: {1, 10, 16, 17, 18},\n",
       " 15: {12},\n",
       " 16: {11, 17, 19, 20},\n",
       " 17: {9, 11},\n",
       " 18: {7, 13},\n",
       " 19: {20},\n",
       " 20: {3, 10}}"
      ]
     },
     "execution_count": 18,
     "metadata": {},
     "output_type": "execute_result"
    }
   ],
   "source": [
    "V = {int(x) for line in lines for x in line.split()}   # die Menge aller Knoten\n",
    "G = {v : set() for v in V}                             # noch haben die Knoten keine Nachbarn\n",
    "\n",
    "for line in lines:\n",
    "    v, w = line.split()\n",
    "    v, w = int(v), int(w)\n",
    "    G[v].add(w)                                        # Knoten v hat Nachbar w            \n",
    "\n",
    "G"
   ]
  },
  {
   "cell_type": "markdown",
   "id": "28c20d4c-811f-45ee-b18b-fafa7451a34e",
   "metadata": {
    "tags": []
   },
   "source": [
    "#### Erreichbarkeit in k Schritten\n",
    "\n",
    "Welche Knoten sind von einem gegebenen Knoten v in k Schritten erreichbar? Hier bietet sich eine rekursive Implementation an.\n"
   ]
  },
  {
   "cell_type": "code",
   "execution_count": 31,
   "id": "26a95a8a-1fab-4213-b226-9a5e50d36941",
   "metadata": {},
   "outputs": [],
   "source": [
    "def erreichbar(v, k):\n",
    "    '''\n",
    "    Graph G wird als globale Variable vorausgesetzt.\n",
    "    v: Knoten in G \n",
    "    k: int \n",
    "    returns: Menge der Knoten, die von v aus in k Sprüngen erreichbar sind\n",
    "    '''\n",
    "    if k == 0: return {v}\n",
    "    tmp = set()\n",
    "    for w in erreichbar(v, k-1):\n",
    "        tmp = tmp | G[w]               #   Vereinigungsmenge\n",
    "    return tmp"
   ]
  },
  {
   "cell_type": "code",
   "execution_count": 30,
   "id": "d2cedbd8-dbb1-4c6b-b66c-8b2a7270a8fa",
   "metadata": {},
   "outputs": [
    {
     "name": "stdout",
     "output_type": "stream",
     "text": [
      "{8, 18, 4}\n",
      "{18, 4, 13, 7}\n"
     ]
    }
   ],
   "source": [
    "print(erreichbar(1,1))\n",
    "print(erreichbar(1,2))"
   ]
  }
 ],
 "metadata": {
  "kernelspec": {
   "display_name": "Python 3 (ipykernel)",
   "language": "python",
   "name": "python3"
  },
  "language_info": {
   "codemirror_mode": {
    "name": "ipython",
    "version": 3
   },
   "file_extension": ".py",
   "mimetype": "text/x-python",
   "name": "python",
   "nbconvert_exporter": "python",
   "pygments_lexer": "ipython3",
   "version": "3.9.12"
  }
 },
 "nbformat": 4,
 "nbformat_minor": 5
}
