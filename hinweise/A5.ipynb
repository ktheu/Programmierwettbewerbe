{
 "cells": [
  {
   "cell_type": "markdown",
   "id": "10057328-b923-49e1-b55e-0a9f9fd157a2",
   "metadata": {},
   "source": [
    "### A5\n",
    "\n",
    "Wir lesen die Daten in eine Liste von Listen ein, z.B:"
   ]
  },
  {
   "cell_type": "markdown",
   "id": "a5cc153a-7903-4e28-8296-511c533accdc",
   "metadata": {},
   "source": [
    "    [['Brauerei', 1613, 'X', 0],\n",
    "     ['Karzer', 1665, 'X', 80],\n",
    "     ['Rathaus', 1678, 'X', 150],\n",
    "     ['Gründungsstein', 1685, ' ', 310],\n",
    "     ['Wallanlage', 1690, ' ', 410],\n",
    "     ['Rathaus', 1739, 'X', 500],\n",
    "     ['Euler-Brücke', 1768, ' ', 680],\n",
    "     ['Fibonacci-Gaststätte', 1820, 'X', 710],\n",
    "     ['Schiefes Haus', 1823, ' ', 830],\n",
    "     ['Theater', 1880, ' ', 960],\n",
    "     ['Emmy-Noether-Campus', 1912, 'X', 1090],\n",
    "     ['Fibonacci-Gaststätte', 1923, ' ', 1180],\n",
    "     ['Hilbert-Raum', 1945, ' ', 1300],\n",
    "     ['Schiefes Haus', 1950, ' ', 1400],\n",
    "     ['Gauß-Turm', 1952, ' ', 1450],\n",
    "     ['Emmy-Noether-Campus', 1998, 'X', 1780],\n",
    "     ['Euler-Brücke', 1999, ' ', 1910],\n",
    "     ['Brauerei', 2012, ' ', 2060]]"
   ]
  },
  {
   "cell_type": "markdown",
   "id": "49266ec4-15a6-4fcf-a35c-eb698c3e66ab",
   "metadata": {},
   "source": [
    "Wir suchen einen Bereich den wir löschen können, z.B: von Emmy-Noether-Campus. Dann erhalten wir eine neue Liste.\n"
   ]
  },
  {
   "cell_type": "markdown",
   "id": "20c9c78f-021f-4100-bbec-d938a3a9aa92",
   "metadata": {},
   "source": [
    "    [['Brauerei', 1613, 'X', 0],\n",
    "     ['Karzer', 1665, 'X', 80],\n",
    "     ['Rathaus', 1678, 'X', 150],\n",
    "     ['Gründungsstein', 1685, ' ', 310],\n",
    "     ['Wallanlage', 1690, ' ', 410],\n",
    "     ['Rathaus', 1739, 'X', 500],\n",
    "     ['Euler-Brücke', 1768, ' ', 680],\n",
    "     ['Fibonacci-Gaststätte', 1820, 'X', 710],\n",
    "     ['Schiefes Haus', 1823, ' ', 830],\n",
    "     ['Theater', 1880, ' ', 960],\n",
    "     ['Emmy-Noether-Campus', 1912, 'X', 1090],\n",
    "     ['Euler-Brücke', 1999, ' ', 1910],\n",
    "     ['Brauerei', 2012, ' ', 2060]]"
   ]
  },
  {
   "cell_type": "markdown",
   "id": "8a605f19-2462-4a0e-a4a1-996f7b8dfe4f",
   "metadata": {},
   "source": [
    "Wir machen das gleiche wieder, solange bis sich keine Veränderung mehr ergibt."
   ]
  },
  {
   "cell_type": "code",
   "execution_count": null,
   "id": "cf9ff76c-fe81-4a2a-91ef-d9a93c33fee8",
   "metadata": {},
   "outputs": [],
   "source": []
  }
 ],
 "metadata": {
  "kernelspec": {
   "display_name": "Python 3 (ipykernel)",
   "language": "python",
   "name": "python3"
  },
  "language_info": {
   "codemirror_mode": {
    "name": "ipython",
    "version": 3
   },
   "file_extension": ".py",
   "mimetype": "text/x-python",
   "name": "python",
   "nbconvert_exporter": "python",
   "pygments_lexer": "ipython3",
   "version": "3.11.2"
  }
 },
 "nbformat": 4,
 "nbformat_minor": 5
}
