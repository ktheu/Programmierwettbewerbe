{
 "cells": [
  {
   "cell_type": "markdown",
   "id": "457a2def-0711-4b44-84bd-565db7fe98e5",
   "metadata": {},
   "source": [
    "## Hüpfburg - Hinweise\n",
    "\n",
    "#### Einlesen der Daten"
   ]
  },
  {
   "cell_type": "code",
   "execution_count": 5,
   "id": "b783f5a4-1f70-4fab-a249-cab08f3864eb",
   "metadata": {},
   "outputs": [
    {
     "name": "stdout",
     "output_type": "stream",
     "text": [
      "['1 18', '1 8', '1 4', '2 3', '2 19', '3 19', '3 6', '5 15', '5 12', '5 13', '6 2', '6 12', '7 5', '7 8', '8 18', '8 4', '9 4', '9 1', '9 14', '10 16', '10 3', '10 12', '10 18', '11 19', '12 3', '13 7', '13 10', '14 17', '14 16', '14 10', '14 18', '14 1', '15 12', '16 11', '16 20', '16 17', '16 19', '17 11', '17 9', '18 13', '18 7', '19 20', '20 3', '20 10']\n"
     ]
    }
   ],
   "source": [
    "f = open('huepfburg0.txt',\"r\",encoding='utf-8')\n",
    "n, m = f.readline().split()\n",
    "n, m = int(n), int(m)\n",
    " \n",
    "lines = []\n",
    "for i in range(m):\n",
    "    lines.append(f.readline().strip())\n",
    "\n",
    "print(lines)"
   ]
  },
  {
   "cell_type": "markdown",
   "id": "f7218dbe-36da-4272-88a1-6cbacdb6538a",
   "metadata": {},
   "source": [
    "#### Modellierung als gerichteter Graph\n",
    "\n",
    "Wir modellieren den Graph mit einem dictionary. Jeder Knoten ist ein key. Der value ist das Set mit den Nachbarknoten. <br>\n",
    "Wir halten uns an eine gängige Konvention für die Variablennamen\n",
    "\n",
    "- V Menge aller Knoten (vertices) v, v1, v2,... für einzelne Knoten\n",
    "- E Menge aller Kanten (edges) e, e1, e2, .... für einzelne Kanten\n"
   ]
  },
  {
   "cell_type": "code",
   "execution_count": 6,
   "id": "525d61a5-cc46-416b-a4bf-250013254dd7",
   "metadata": {},
   "outputs": [
    {
     "data": {
      "text/plain": [
       "{1: {4, 8, 18},\n",
       " 2: {3, 19},\n",
       " 3: {6, 19},\n",
       " 4: set(),\n",
       " 5: {12, 13, 15},\n",
       " 6: {2, 12},\n",
       " 7: {5, 8},\n",
       " 8: {4, 18},\n",
       " 9: {1, 4, 14},\n",
       " 10: {3, 12, 16, 18},\n",
       " 11: {19},\n",
       " 12: {3},\n",
       " 13: {7, 10},\n",
       " 14: {1, 10, 16, 17, 18},\n",
       " 15: {12},\n",
       " 16: {11, 17, 19, 20},\n",
       " 17: {9, 11},\n",
       " 18: {7, 13},\n",
       " 19: {20},\n",
       " 20: {3, 10}}"
      ]
     },
     "execution_count": 6,
     "metadata": {},
     "output_type": "execute_result"
    }
   ],
   "source": [
    "V = {int(x) for line in lines for x in line.split()}   # die Menge aller Knoten\n",
    "G = {v : set() for v in V}                             # noch haben die Knoten keine Nachbarn\n",
    "\n",
    "for line in lines:\n",
    "    v, w = line.split()\n",
    "    v, w = int(v), int(w)\n",
    "    G[v].add(w)                                        # Knoten v hat Nachbar w            \n",
    "\n",
    "G"
   ]
  },
  {
   "cell_type": "code",
   "execution_count": 7,
   "id": "ee53d0d4-b4a1-462e-98a7-2dc6757874b5",
   "metadata": {},
   "outputs": [
    {
     "data": {
      "text/plain": [
       "{3}"
      ]
     },
     "execution_count": 7,
     "metadata": {},
     "output_type": "execute_result"
    }
   ],
   "source": [
    "G[12]"
   ]
  },
  {
   "cell_type": "markdown",
   "id": "28c20d4c-811f-45ee-b18b-fafa7451a34e",
   "metadata": {
    "tags": []
   },
   "source": [
    "#### Erreichbarkeit in k Schritten\n",
    "\n",
    "Welche Knoten sind von einem gegebenen Knoten v in k Schritten erreichbar? Hier bietet sich eine rekursive Implementation an.\n"
   ]
  },
  {
   "cell_type": "code",
   "execution_count": 8,
   "id": "26a95a8a-1fab-4213-b226-9a5e50d36941",
   "metadata": {},
   "outputs": [],
   "source": [
    "def erreichbar(v, k):\n",
    "    '''\n",
    "    Graph G wird als globale Variable vorausgesetzt.\n",
    "    v: Knoten in G \n",
    "    k: int \n",
    "    returns: Menge der Knoten, die von v aus in k Sprüngen erreichbar sind\n",
    "    '''\n",
    "    if k == 0: return {v}\n",
    "    tmp = set()\n",
    "    for w in erreichbar(v, k-1):\n",
    "        tmp = tmp | G[w]               #   Vereinigungsmenge\n",
    "    return tmp"
   ]
  },
  {
   "cell_type": "code",
   "execution_count": 9,
   "id": "d2cedbd8-dbb1-4c6b-b66c-8b2a7270a8fa",
   "metadata": {},
   "outputs": [
    {
     "name": "stdout",
     "output_type": "stream",
     "text": [
      "{8, 18, 4}\n",
      "{18, 4, 13, 7}\n"
     ]
    }
   ],
   "source": [
    "print(erreichbar(1,1))\n",
    "print(erreichbar(1,2))"
   ]
  },
  {
   "cell_type": "markdown",
   "id": "161bb8a9-c555-4e27-be93-0347cfafa84a",
   "metadata": {},
   "source": [
    "#### Einen Weg zwischen zwei Knoten mit einer bestimmten Länge suchen"
   ]
  },
  {
   "cell_type": "code",
   "execution_count": 12,
   "id": "eb71f721-bbc8-4cd8-ad86-96f4a6787d72",
   "metadata": {},
   "outputs": [
    {
     "data": {
      "text/plain": [
       "[1, 8, 18, 7, 5, 13]"
      ]
     },
     "execution_count": 12,
     "metadata": {},
     "output_type": "execute_result"
    }
   ],
   "source": [
    "# Länge des Pfades + 1 = len(path) \n",
    "from collections import deque\n",
    "def bfs(start,ziel,laenge):\n",
    "    frontier =  deque([[start]])\n",
    "    while frontier:\n",
    "        path = frontier.popleft() \n",
    "        if len(path) == laenge+1 and path[-1] == ziel:\n",
    "            return path\n",
    "        for v in G[path[-1]]:\n",
    "            frontier.append((path+[v]).copy())\n",
    "bfs(1,13,5)"
   ]
  },
  {
   "cell_type": "code",
   "execution_count": null,
   "id": "b3700e03-a467-43e1-8e1c-03b5caa95595",
   "metadata": {},
   "outputs": [],
   "source": []
  }
 ],
 "metadata": {
  "kernelspec": {
   "display_name": "Python 3 (ipykernel)",
   "language": "python",
   "name": "python3"
  },
  "language_info": {
   "codemirror_mode": {
    "name": "ipython",
    "version": 3
   },
   "file_extension": ".py",
   "mimetype": "text/x-python",
   "name": "python",
   "nbconvert_exporter": "python",
   "pygments_lexer": "ipython3",
   "version": "3.10.6 | packaged by conda-forge | (main, Aug 22 2022, 20:30:19) [MSC v.1929 64 bit (AMD64)]"
  },
  "vscode": {
   "interpreter": {
    "hash": "5497d93d61f97409de7b7f2fc1ef9587b6eab58d21fac1992c1f6d4a77dcee3b"
   }
  }
 },
 "nbformat": 4,
 "nbformat_minor": 5
}
