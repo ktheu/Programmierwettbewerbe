{
 "cells": [
  {
   "cell_type": "markdown",
   "id": "b3b74cd4-8ba8-4213-9968-212a31d305a3",
   "metadata": {},
   "source": [
    "### A2"
   ]
  },
  {
   "cell_type": "markdown",
   "id": "4ab13c18-f828-47b2-b0be-afcc8566cc68",
   "metadata": {},
   "source": [
    "Die ersten 4 Beispiel kann man mit Rekursion lösen. Aber die Datenmengen der restlichen Beispiele sind so groß, dass eine andere Vorgehensweise nötig wird."
   ]
  },
  {
   "cell_type": "markdown",
   "id": "c7082af6-3bdc-4f74-b0ee-c94671029ed1",
   "metadata": {},
   "source": [
    "Sei Q der ursprüngliche Käsequader. Das Volumen von Q kann man aus den Scheiben berechnen. Q muss ganzzahlige Seitenlängen haben (warum?).\n",
    "Daraus kann man die möglichen ersten Scheiben berechnen.\n",
    "\n",
    "Für jede mögliche erste Scheibe kann man dann die möglichen weiteren Scheiben berechnen. In Beispiel 7 geht es also darum, unter 1.5 Millionen Scheiben zu suchen, ob mögliche weitere Scheiben sich dort befinden. Wenn man immer wieder in einer großen Menge von Dingen suchen muss, empfiehlt es sich, diese Dinge zu sortieren und dann mit der binären Suche zu suchen."
   ]
  },
  {
   "cell_type": "markdown",
   "id": "23c102ed-504e-4635-bbd8-fad98006f4e4",
   "metadata": {},
   "source": [
    "#### Binäre Suche\n",
    "\n",
    "Die binäre Suche am Beispiel einer Liste mit Zahlen:"
   ]
  },
  {
   "cell_type": "code",
   "execution_count": 4,
   "id": "f1cab219-9e4f-4fea-b7e6-1be4053984b6",
   "metadata": {},
   "outputs": [],
   "source": [
    "def binaereSuche(a, x):\n",
    "    '''\n",
    "    a: sortierte Liste mit Zahlen\n",
    "    x: Zahl\n",
    "    returns: Index von x in a, falls x in a\n",
    "             -1              , falls x nicht in a\n",
    "    '''\n",
    "    links = 0\n",
    "    rechts = len(a)-1\n",
    "    mitte = (links + rechts)//2\n",
    "    while links <= rechts and a[mitte] != x:\n",
    "        if a[mitte] < x:\n",
    "            links = mitte + 1\n",
    "        else:\n",
    "            rechts = mitte - 1\n",
    "        mitte = (links + rechts)//2\n",
    "\n",
    "    if links > rechts:\n",
    "        return -1\n",
    "    else:\n",
    "        return mitte"
   ]
  },
  {
   "cell_type": "code",
   "execution_count": 6,
   "id": "1f51e431-dcb3-4033-b9b1-c8e57d47360e",
   "metadata": {},
   "outputs": [
    {
     "data": {
      "text/plain": [
       "4"
      ]
     },
     "execution_count": 6,
     "metadata": {},
     "output_type": "execute_result"
    }
   ],
   "source": [
    "a = [2,4,6,7,8,10]\n",
    "binaereSuche(a,8)"
   ]
  },
  {
   "cell_type": "markdown",
   "id": "7b447ecd-4050-4319-b6b3-9e3c9d9c303a",
   "metadata": {},
   "source": [
    "#### Benutzte Scheiben merken\n",
    "\n",
    "Wenn man eine Scheibe gefunden hat, muss man sich merken, dass diese Scheibe jetzt nicht mehr zur Verfügung steht. Das Entfernen eines Elements aus einer Liste ist aufwendig. Besser ist es, sich in einer getrennten Liste zu merken, ob man ein Element schon benutzt hat.\n",
    " \n"
   ]
  },
  {
   "cell_type": "code",
   "execution_count": 9,
   "id": "c0fd40ea-c917-43fc-9ee6-c63bd52bfab4",
   "metadata": {},
   "outputs": [
    {
     "name": "stdout",
     "output_type": "stream",
     "text": [
      "[0, 0, 0, 0, 0, 0, 1, 0, 0, 0, 0, 0, 0, 0, 0, 0, 0, 0, 0, 0]\n"
     ]
    }
   ],
   "source": [
    "anzahlScheiben = 20\n",
    "used = [0] * anzahlScheiben\n",
    "used[6] = 1     # falls Scheibe mit Index 6 benutzt wurde\n",
    "print(used)"
   ]
  }
 ],
 "metadata": {
  "kernelspec": {
   "display_name": "Python 3 (ipykernel)",
   "language": "python",
   "name": "python3"
  },
  "language_info": {
   "codemirror_mode": {
    "name": "ipython",
    "version": 3
   },
   "file_extension": ".py",
   "mimetype": "text/x-python",
   "name": "python",
   "nbconvert_exporter": "python",
   "pygments_lexer": "ipython3",
   "version": "3.11.2"
  }
 },
 "nbformat": 4,
 "nbformat_minor": 5
}
