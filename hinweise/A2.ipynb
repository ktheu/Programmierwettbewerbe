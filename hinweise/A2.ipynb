{
 "cells": [
  {
   "cell_type": "markdown",
   "id": "73df3805-b727-4b48-9c26-58b6557b8017",
   "metadata": {},
   "source": [
    "## Verzinkt - Hinweise\n",
    "\n",
    "#### Pixelbilder\n",
    "\n",
    "Pixelbilder erzeugen wir mit dem package PIL (Python Image Library). Graustufen werden mit den Werten 0 (schwarz) bis 255 (weiß) codiert.\n",
    "In Replit muss das package PIL erst installliert werden. Dazu auf das package-Symbol clicken und nach Pillow suchen. Dann auf das Zeichen + clicken, um das package zu installieren. Mit den Anweisungen unten kann geprüft werden, ob die Installation erfolgreich war und ein Image erzeugt werden kann. Das Bild kann durch anclicken der png-Datei in Replit angeschaut werden."
   ]
  },
  {
   "cell_type": "code",
   "execution_count": 1,
   "id": "ff6bd6b5-4c56-4a08-9ab5-36930ec56b7b",
   "metadata": {},
   "outputs": [],
   "source": [
    "# hier entsteht ein 100x100 Pixelbild, alle Pixel werden mit der Graustufe 200 vorbelegt\n",
    "from PIL import Image\n",
    "img = Image.new('L', (100,100), 200)   # mode L = Graustufen 0 - 255\n",
    "img.save('bild.png')"
   ]
  },
  {
   "cell_type": "markdown",
   "id": "57c4540d-8c4d-4e7a-a52f-7765f8e3e7cc",
   "metadata": {},
   "source": [
    "PIL bietet uns die Möglichkeit, direkt auf die Pixel zuzugreifen und deren Wert zu verändern."
   ]
  },
  {
   "cell_type": "code",
   "execution_count": 2,
   "id": "ca34f342-86ea-42c6-adf0-116f79280e8b",
   "metadata": {},
   "outputs": [],
   "source": [
    "from PIL import Image\n",
    "breite = 500\n",
    "hoehe = 400\n",
    "img = Image.new('L', (breite,hoehe), 0)   # mode L = Graustufen 0 - 255\n",
    "pixels = img.load()   \n",
    "'''\n",
    "Über das 2-dimensionale pixels-Array können wir die Werte der Pixel setzen.\n",
    "Der Ursprung (0,0) ist oben links\n",
    "Die erste Komponente beschreibt die x-Richtung nach rechts, \n",
    "    die zweite Komponente die y-Richtung nach unten.\n",
    "'''\n",
    "# hier entsteht ein heller (Grauwert 240) horizontaler Streifen\n",
    "for x in range(breite):\n",
    "    for y in range(100,150):\n",
    "        pixels[x,y] = 240\n",
    "img.save('bild.png')"
   ]
  },
  {
   "cell_type": "markdown",
   "id": "82cef940-869a-466a-bea7-fa867055a718",
   "metadata": {},
   "source": [
    "#### Mögliches Vorgehen\n",
    "\n",
    "Für ein 400 x 400 Pixel Bild spendieren wir uns ein 2-dimensionales Array.  Wir können das 2-dimensionale Array als Liste von Listen implementieren, oder wir wählen ein numpy-array. Numpy-Arrays haben mehr Funktionalität und sind schneller, außerdem können wir sie bei der Sudoku-Aufgabe gut gebrauchen. "
   ]
  },
  {
   "cell_type": "code",
   "execution_count": 6,
   "id": "ac4ef85f-4a03-4973-b460-9a32d32bce4d",
   "metadata": {},
   "outputs": [
    {
     "name": "stdout",
     "output_type": "stream",
     "text": [
      "[[0 0 0 ... 0 0 0]\n",
      " [0 0 0 ... 0 0 0]\n",
      " [0 0 0 ... 0 0 0]\n",
      " ...\n",
      " [0 0 0 ... 0 0 0]\n",
      " [0 0 0 ... 0 0 0]\n",
      " [0 0 0 ... 0 0 0]]\n"
     ]
    }
   ],
   "source": [
    "# Ein 2-dimensionales Array, das mit 0 vorbesetzt ist.\n",
    "import numpy as np\n",
    "breite, hoehe = 400, 400\n",
    "grid = np.zeros((breite, hoehe),dtype='int')\n",
    "print(grid)\n"
   ]
  },
  {
   "cell_type": "markdown",
   "id": "a071911a-7846-4626-9148-2d28c805fae6",
   "metadata": {},
   "source": [
    "Die unterschiedlichen Kristallisationskeime benennen wir mit natürlichen Zahlen 1, 2, ... Unten setzen wir einen Kristallisationskeim vom Typ 1 an die Position (0,2).  Die 1. Komponente ist die Zeile, die 2.Komponente ist die Spalte. (Achtung, das ist anders als beim pixel-Array).\n",
    "Irgendwie müssen wir uns noch merken, welches Wachstumverhalten die Kristallisationskeime haben."
   ]
  },
  {
   "cell_type": "code",
   "execution_count": 7,
   "id": "953cdc71-4789-4fd6-9b19-d47a9276b5ee",
   "metadata": {},
   "outputs": [],
   "source": [
    "grid[0,2] = 1                   # Mit Pythonlisten müssten wir grid[0][2] = 1 schreiben.\n",
    "# Keime vom Typ 1 wachsen bei einem Durchgang 1 in Richtung nach oben, 3 nach unten usw. ...\n",
    "wachstum = {1: (1,3,2,3)}       # festgelegte Reihenfolge: oben unten links rechts"
   ]
  },
  {
   "cell_type": "markdown",
   "id": "d57ffb2f-439a-47ba-8be5-4d9d6c1c707e",
   "metadata": {},
   "source": [
    "Das Wachstum erfolgt dann in verschiedenen Runden, bis es keine 0 mehr in unserem grid gibt. In jeder Runde gehen wir Zelle für Zelle durch unser grid, Wenn wir auf ein Kristallzelle stoßen, werden die Nachbarzellen (sofern frei) je nach Wachstumsverhalten gefüllt.\n",
    "\n",
    "Zum Schluss ordnen wir den grid-zellen je nach Typ verschiedene Grauwerten zu und füllen damit das Pixelarray."
   ]
  },
  {
   "cell_type": "markdown",
   "id": "375045ca-455a-4880-8bfa-656a4fb62526",
   "metadata": {},
   "source": [
    "#### Nützliches mit numpy"
   ]
  },
  {
   "cell_type": "code",
   "execution_count": 10,
   "id": "27647d6d-7d23-4a4a-90f3-2e16c6f34ad1",
   "metadata": {},
   "outputs": [
    {
     "data": {
      "text/plain": [
       "array([[0, 1, 1],\n",
       "       [0, 2, 0],\n",
       "       [1, 1, 2]])"
      ]
     },
     "execution_count": 10,
     "metadata": {},
     "output_type": "execute_result"
    }
   ],
   "source": [
    "a = np.array([0,1,1,0,2,0,1,1,2]).reshape(3,3)\n",
    "a"
   ]
  },
  {
   "cell_type": "code",
   "execution_count": 12,
   "id": "18e06394-d3e9-42f4-95f8-9af6f3a8f896",
   "metadata": {},
   "outputs": [
    {
     "data": {
      "text/plain": [
       "array([[ True, False, False],\n",
       "       [ True, False,  True],\n",
       "       [False, False, False]])"
      ]
     },
     "execution_count": 12,
     "metadata": {},
     "output_type": "execute_result"
    }
   ],
   "source": [
    "a == 0                 # Elementweise vergleich"
   ]
  },
  {
   "cell_type": "code",
   "execution_count": 14,
   "id": "4013edd7-086b-410e-98ba-f51b84320b06",
   "metadata": {},
   "outputs": [
    {
     "name": "stdout",
     "output_type": "stream",
     "text": [
      "3\n"
     ]
    }
   ],
   "source": [
    "# Feststellen, wieviele Nullen im Array vorhanden sind\n",
    "anz = np.count_nonzero(a==0)  \n",
    "print(anz)"
   ]
  },
  {
   "cell_type": "code",
   "execution_count": null,
   "id": "5623d709-ddd3-4eff-9557-7d383caedd7d",
   "metadata": {},
   "outputs": [],
   "source": []
  }
 ],
 "metadata": {
  "kernelspec": {
   "display_name": "Python 3 (ipykernel)",
   "language": "python",
   "name": "python3"
  },
  "language_info": {
   "codemirror_mode": {
    "name": "ipython",
    "version": 3
   },
   "file_extension": ".py",
   "mimetype": "text/x-python",
   "name": "python",
   "nbconvert_exporter": "python",
   "pygments_lexer": "ipython3",
   "version": "3.9.12"
  }
 },
 "nbformat": 4,
 "nbformat_minor": 5
}
