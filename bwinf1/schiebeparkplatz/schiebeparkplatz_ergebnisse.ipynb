{
 "cells": [
  {
   "cell_type": "markdown",
   "id": "4f97bddc-e86b-400f-a219-f78534629f12",
   "metadata": {},
   "source": [
    "### Schiebeparkplatz - Ergebnisse"
   ]
  },
  {
   "cell_type": "code",
   "execution_count": null,
   "id": "222cb343-0911-44a2-afa6-939d431c518a",
   "metadata": {},
   "outputs": [],
   "source": [
    "Beispiel: 0\n",
    "A B C D E F G\n",
    ". . H H . I I\n",
    "\n",
    "A : \n",
    "B : \n",
    "C : H: 1 nach rechts  \n",
    "D : H: 1 nach links   \n",
    "E : \n",
    "F : H: 1 nach links   I: 2 nach links   \n",
    "G : I: 1 nach links   "
   ]
  },
  {
   "cell_type": "code",
   "execution_count": null,
   "id": "0770bff9-106d-4a41-913a-da02cfb600c8",
   "metadata": {},
   "outputs": [],
   "source": [
    "Beispiel: 1\n",
    "A B C D E F G H I J K L M N\n",
    ". O O P P . Q Q . . R R . .\n",
    "\n",
    "A : \n",
    "B : P: 1 nach rechts  O: 1 nach rechts  \n",
    "C : O: 1 nach links   \n",
    "D : P: 1 nach rechts  \n",
    "E : O: 1 nach links   P: 1 nach links   \n",
    "F : \n",
    "G : Q: 1 nach rechts  \n",
    "H : Q: 2 nach rechts  \n",
    "I : \n",
    "J : \n",
    "K : R: 1 nach rechts  \n",
    "L : R: 2 nach rechts  \n",
    "M : \n",
    "N :"
   ]
  },
  {
   "cell_type": "code",
   "execution_count": null,
   "id": "d6b64904-7476-4f44-8c67-5b06bdc7308b",
   "metadata": {},
   "outputs": [],
   "source": [
    "Beispiel: 2\n",
    "A B C D E F G H I J K L M N\n",
    ". . O O . P P Q Q R R . S S\n",
    "\n",
    "A : \n",
    "B : \n",
    "C : O: 1 nach rechts  \n",
    "D : O: 1 nach links   \n",
    "E : \n",
    "F : O: 1 nach links   P: 2 nach links   \n",
    "G : P: 1 nach links   \n",
    "H : R: 1 nach rechts  Q: 1 nach rechts  \n",
    "I : P: 1 nach links   Q: 1 nach links   \n",
    "J : R: 1 nach rechts  \n",
    "K : P: 1 nach links   Q: 1 nach links   R: 1 nach links   \n",
    "L : \n",
    "M : P: 1 nach links   Q: 1 nach links   R: 1 nach links   S: 2 nach links   \n",
    "N : S: 1 nach links "
   ]
  },
  {
   "cell_type": "code",
   "execution_count": null,
   "id": "97b96289-8974-4ade-9a4f-846ec7874572",
   "metadata": {},
   "outputs": [],
   "source": [
    "Beispiel: 3\n",
    "A B C D E F G H I J K L M N\n",
    ". O O . P P . . Q Q R R S S\n",
    "\n",
    "A : \n",
    "B : O: 1 nach rechts  \n",
    "C : O: 1 nach links   \n",
    "D : \n",
    "E : P: 1 nach rechts  \n",
    "F : P: 2 nach rechts  \n",
    "G : \n",
    "H : \n",
    "I : Q: 2 nach links   \n",
    "J : Q: 1 nach links   \n",
    "K : Q: 2 nach links   R: 2 nach links   \n",
    "L : Q: 1 nach links   R: 1 nach links   \n",
    "M : Q: 2 nach links   R: 2 nach links   S: 2 nach links   \n",
    "N : Q: 1 nach links   R: 1 nach links   S: 1 nach links   "
   ]
  },
  {
   "cell_type": "code",
   "execution_count": null,
   "id": "161ea742-f933-4505-92c6-889565ff3705",
   "metadata": {},
   "outputs": [],
   "source": [
    "Beispiel: 4\n",
    "A B C D E F G H I J K L M N O P\n",
    "Q Q R R . . S S . . T T . U U .\n",
    "\n",
    "A : R: 1 nach rechts  Q: 1 nach rechts  \n",
    "B : R: 2 nach rechts  Q: 2 nach rechts  \n",
    "C : R: 1 nach rechts  \n",
    "D : R: 2 nach rechts  \n",
    "E : \n",
    "F : \n",
    "G : S: 1 nach rechts  \n",
    "H : S: 2 nach rechts  \n",
    "I : \n",
    "J : \n",
    "K : T: 1 nach rechts  \n",
    "L : T: 1 nach links   \n",
    "M : \n",
    "N : U: 1 nach rechts  \n",
    "O : U: 1 nach links   \n",
    "P : "
   ]
  },
  {
   "cell_type": "code",
   "execution_count": null,
   "id": "1b2908ff-025c-47bb-95bb-a388abcb498e",
   "metadata": {},
   "outputs": [],
   "source": [
    "Beispiel: 5\n",
    "A B C D E F G H I J K L M N O\n",
    ". . P P Q Q . . R R . . S S .\n",
    "\n",
    "A : \n",
    "B : \n",
    "C : P: 2 nach links   \n",
    "D : P: 1 nach links   \n",
    "E : Q: 1 nach rechts  \n",
    "F : Q: 2 nach rechts  \n",
    "G : \n",
    "H : \n",
    "I : R: 1 nach rechts  \n",
    "J : R: 2 nach rechts  \n",
    "K : \n",
    "L : \n",
    "M : S: 1 nach rechts  \n",
    "N : S: 1 nach links   \n",
    "O : "
   ]
  }
 ],
 "metadata": {
  "kernelspec": {
   "display_name": "Python 3 (ipykernel)",
   "language": "python",
   "name": "python3"
  },
  "language_info": {
   "codemirror_mode": {
    "name": "ipython",
    "version": 3
   },
   "file_extension": ".py",
   "mimetype": "text/x-python",
   "name": "python",
   "nbconvert_exporter": "python",
   "pygments_lexer": "ipython3",
   "version": "3.11.2"
  }
 },
 "nbformat": 4,
 "nbformat_minor": 5
}
