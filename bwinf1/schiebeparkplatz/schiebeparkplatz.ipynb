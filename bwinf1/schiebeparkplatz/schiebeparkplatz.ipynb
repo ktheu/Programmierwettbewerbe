{
 "cells": [
  {
   "cell_type": "markdown",
   "id": "744dd46d-f9b8-4b19-a50e-198837aa7f73",
   "metadata": {},
   "source": [
    "### Verschiebeparkplatz\n",
    "\n",
    "#### Hinweise\n",
    "\n",
    "Wir benötigen eine geeignete Modellierung der Parkplatzsituation. Da die obere Reihe konstant ist, reicht es die Information der zweiten Reihe zu speichern, z.B: könnten wir die Ausgangssituation für Beispiel 1 mit folgendem Tupel modellieren:"
   ]
  },
  {
   "cell_type": "code",
   "execution_count": 25,
   "id": "1d1bcba9-ff93-4d4b-9874-32fca74dc670",
   "metadata": {},
   "outputs": [],
   "source": [
    "startstate = ('.', 'O', 'O', 'P', 'P', '.', 'Q', 'Q', '.', '.', 'R', 'R', '.', '.')"
   ]
  },
  {
   "cell_type": "markdown",
   "id": "c387f22a-4df8-40ae-a823-94063668a9de",
   "metadata": {},
   "source": [
    "Die verschiedenen Möglichkeiten des Umparkens können wir interpretieren als Züge in einem Spiel. Wir suchen mit der Breitensuche einen Pfad zu einem goalstate."
   ]
  },
  {
   "cell_type": "markdown",
   "id": "867d4e08-d39d-43b6-abba-49018364ff73",
   "metadata": {},
   "source": [
    "#### Ergebnisse"
   ]
  },
  {
   "cell_type": "markdown",
   "id": "bc43a697-f5aa-410a-a3dd-9fc375e916cb",
   "metadata": {},
   "source": [
    "Die Aufgabenstellung habe ich so interpretiert: Das Programm muss in Bezug auf die Anzahl der zu verschiebenden Autos eine optimale Lösung finden, die Länge des Verschiebungswegs spielt keine Rolle: Ob ich 1 nach links oder 2 nach rechts gehe, ist gleich gut. "
   ]
  },
  {
   "cell_type": "code",
   "execution_count": null,
   "id": "8a33de57-d127-465f-9e5a-02c957a8a1ad",
   "metadata": {},
   "outputs": [],
   "source": [
    "Beispiel 1:\n",
    "A B C D E F G H I J K L M N\n",
    ". O O P P . Q Q . . R R . .\n",
    "\n",
    "A : \n",
    "B : P: 1 nach rechts  O: 1 nach rechts  \n",
    "C : O: 1 nach links   \n",
    "D : P: 1 nach rechts  \n",
    "E : O: 1 nach links   P: 1 nach links   \n",
    "F : \n",
    "G : Q: 1 nach rechts  \n",
    "H : Q: 2 nach rechts  \n",
    "I : \n",
    "J : \n",
    "K : R: 1 nach rechts  \n",
    "L : R: 2 nach rechts  \n",
    "M : \n",
    "N : \n",
    "\n",
    "Beispiel 2:\n",
    "A B C D E F G H I J K L M N\n",
    ". . O O . P P Q Q R R . S S\n",
    "\n",
    "A : \n",
    "B : \n",
    "C : O: 1 nach rechts  \n",
    "D : O: 1 nach links   \n",
    "E : \n",
    "F : O: 1 nach links   P: 2 nach links   \n",
    "G : P: 1 nach links   \n",
    "H : R: 1 nach rechts  Q: 1 nach rechts  \n",
    "I : P: 1 nach links   Q: 1 nach links   \n",
    "J : R: 1 nach rechts  \n",
    "K : P: 1 nach links   Q: 1 nach links   R: 1 nach links   \n",
    "L : \n",
    "M : P: 1 nach links   Q: 1 nach links   R: 1 nach links   S: 2 nach links   \n",
    "N : S: 1 nach links \n",
    "\n",
    "Beispiel 3:\n",
    "A B C D E F G H I J K L M N\n",
    ". O O . P P . . Q Q R R S S\n",
    "\n",
    "A : \n",
    "B : O: 1 nach rechts  \n",
    "C : O: 1 nach links   \n",
    "D : \n",
    "E : P: 1 nach rechts  \n",
    "F : P: 2 nach rechts  \n",
    "G : \n",
    "H : \n",
    "I : Q: 2 nach links   \n",
    "J : Q: 1 nach links   \n",
    "K : Q: 2 nach links   R: 2 nach links   \n",
    "L : Q: 1 nach links   R: 1 nach links   \n",
    "M : Q: 2 nach links   R: 2 nach links   S: 2 nach links   \n",
    "N : Q: 1 nach links   R: 1 nach links   S: 1 nach links \n",
    "\n",
    "Beispiel 4:\n",
    "A B C D E F G H I J K L M N O P\n",
    "Q Q R R . . S S . . T T . U U .\n",
    "\n",
    "A : R: 1 nach rechts  Q: 1 nach rechts  \n",
    "B : R: 2 nach rechts  Q: 2 nach rechts  \n",
    "C : R: 1 nach rechts  \n",
    "D : R: 2 nach rechts  \n",
    "E : \n",
    "F : \n",
    "G : S: 1 nach rechts  \n",
    "H : S: 2 nach rechts  \n",
    "I : \n",
    "J : \n",
    "K : T: 1 nach rechts  \n",
    "L : T: 1 nach links   \n",
    "M : \n",
    "N : U: 1 nach rechts  \n",
    "O : U: 1 nach links   \n",
    "P :\n",
    "\n",
    "Beispiel 5:\n",
    "A B C D E F G H I J K L M N O\n",
    ". . P P Q Q . . R R . . S S .\n",
    "\n",
    "A : \n",
    "B : \n",
    "C : P: 2 nach links   \n",
    "D : P: 1 nach links   \n",
    "E : Q: 1 nach rechts  \n",
    "F : Q: 2 nach rechts  \n",
    "G : \n",
    "H : \n",
    "I : R: 1 nach rechts  \n",
    "J : R: 2 nach rechts  \n",
    "K : \n",
    "L : \n",
    "M : S: 1 nach rechts  \n",
    "N : S: 1 nach links   \n",
    "O :"
   ]
  }
 ],
 "metadata": {
  "kernelspec": {
   "display_name": "Python 3 (ipykernel)",
   "language": "python",
   "name": "python3"
  },
  "language_info": {
   "codemirror_mode": {
    "name": "ipython",
    "version": 3
   },
   "file_extension": ".py",
   "mimetype": "text/x-python",
   "name": "python",
   "nbconvert_exporter": "python",
   "pygments_lexer": "ipython3",
   "version": "3.11.2"
  }
 },
 "nbformat": 4,
 "nbformat_minor": 5
}
