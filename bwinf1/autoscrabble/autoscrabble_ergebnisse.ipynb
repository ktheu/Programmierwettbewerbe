{
 "cells": [
  {
   "cell_type": "markdown",
   "id": "b40a9f40-bcf0-44a5-8bca-e99399f28124",
   "metadata": {},
   "source": [
    "### Auto-Scrabble Ergebnisse\n",
    "\n",
    "##### Teilaufgaben 1+2"
   ]
  },
  {
   "cell_type": "code",
   "execution_count": null,
   "id": "4ee90904-d940-41b4-b4af-630c9eeff7b5",
   "metadata": {},
   "outputs": [],
   "source": [
    "Für TIMO gibt es keine Lösung, da es kein Kürzel TI oder TIM gibt.\n",
    "\n",
    "Keine Lösungen gibt es für:\n",
    "TIER\n",
    "TAT\n",
    "IN"
   ]
  },
  {
   "cell_type": "code",
   "execution_count": null,
   "id": "3409babd-083a-4eec-88c8-a2c331178f0c",
   "metadata": {},
   "outputs": [],
   "source": [
    "Keine Lösungen für:\n",
    "TIER\n",
    "TAT\n",
    "IN"
   ]
  },
  {
   "cell_type": "markdown",
   "id": "735733e5-3748-44e8-baff-76ebf98046dd",
   "metadata": {},
   "source": [
    "##### Teilaufgabe 3+4"
   ]
  },
  {
   "cell_type": "code",
   "execution_count": null,
   "id": "e5aeeeac-90e1-4c3b-8762-ba98f3a7ee13",
   "metadata": {},
   "outputs": [],
   "source": [
    "# Biber\n",
    "B-I-101\n",
    "B-ER-102"
   ]
  },
  {
   "cell_type": "code",
   "execution_count": null,
   "id": "7989f356-a841-414a-bbf5-5448ef2b82ef",
   "metadata": {},
   "outputs": [],
   "source": [
    "# Bundeswettbewerb\n",
    "B-U-101\n",
    "ND-ES-102\n",
    "WE-TT-103\n",
    "B-E-104\n",
    "WE-RB-105"
   ]
  },
  {
   "cell_type": "code",
   "execution_count": null,
   "id": "a45a59f2-b95b-4991-8b5e-26659a81aabe",
   "metadata": {},
   "outputs": [],
   "source": [
    "# CLINTON\n",
    "C-LI-101\n",
    "NT-ON-102"
   ]
  },
  {
   "cell_type": "code",
   "execution_count": null,
   "id": "da9abecd-d62c-4ad6-940b-5e23defb948b",
   "metadata": {},
   "outputs": [],
   "source": [
    "# DONAUDAMPFSCHIFFFAHRTSKAPITÄNSMÜTZE\n",
    "keine Lösung"
   ]
  },
  {
   "cell_type": "code",
   "execution_count": null,
   "id": "9899a5c9-9476-4086-82d4-8ada2c5a8799",
   "metadata": {},
   "outputs": [],
   "source": [
    "# ETHERNET\n",
    "E-T-101\n",
    "H-E-102\n",
    "RN-ET-103"
   ]
  },
  {
   "cell_type": "code",
   "execution_count": null,
   "id": "fff8e742-d1ff-4d62-afa2-d101ae519fa3",
   "metadata": {},
   "outputs": [],
   "source": [
    "# INFORMATIK\n",
    "IN-FO-101\n",
    "R-M-102\n",
    "AT-IK-103"
   ]
  },
  {
   "cell_type": "code",
   "execution_count": null,
   "id": "cb921f1f-a9f7-40f3-b6cd-3902b4226df0",
   "metadata": {},
   "outputs": [],
   "source": [
    "# LLANFAIRPWLLGWYNGYLLGOGERYCHWYRNDROBWLLLLANTYSILIOGOGOGOCH\n",
    "L-LA-101\n",
    "NF-AI-102\n",
    "RP-WL-103\n",
    "LG-WY-104\n",
    "N-GY-105\n",
    "LL-GO-106\n",
    "GER-YC-107\n",
    "H-WY-108\n",
    "R-ND-109\n",
    "R-OB-110\n",
    "WL-LL-111\n",
    "LAN-TY-112\n",
    "S-I-113\n",
    "LI-OG-114\n",
    "OG-OG-115\n",
    "OC-H-116"
   ]
  },
  {
   "cell_type": "code",
   "execution_count": null,
   "id": "20543a23-372c-4ecc-a753-b9adf38e1c83",
   "metadata": {},
   "outputs": [],
   "source": [
    "# RINDFLEISCHETIKETTIERUNGSÜBERWACHUNGSAUFGABENÜBERTRAGUNGSGESETZ\n",
    "keine Lösung"
   ]
  },
  {
   "cell_type": "code",
   "execution_count": null,
   "id": "cc794224-5fc5-455c-8d01-cf4d774ac692",
   "metadata": {},
   "outputs": [],
   "source": [
    "# SOFTWARE\n",
    "SO-FT-101\n",
    "WA-RE-102"
   ]
  },
  {
   "cell_type": "code",
   "execution_count": null,
   "id": "9c58729c-717a-4120-9d5a-2e1c2031ffb0",
   "metadata": {},
   "outputs": [],
   "source": [
    "# TRUMP\n",
    "TR-U-101\n",
    "M-P-102"
   ]
  },
  {
   "cell_type": "code",
   "execution_count": null,
   "id": "58471fe0-30f1-419d-b8ee-f935fd7b252a",
   "metadata": {},
   "outputs": [],
   "source": [
    "# TSCHÜSS\n",
    "keine Lösung"
   ]
  },
  {
   "cell_type": "code",
   "execution_count": null,
   "id": "a9d81cde-2637-4aea-80fb-41fc47baf595",
   "metadata": {},
   "outputs": [],
   "source": [
    "# VERKEHRSWEGEPLANUNGSBESCHLEUNIGUNGSGESETZ\n",
    "VER-KE-101\n",
    "HR-SW-102\n",
    "EG-EP-103\n",
    "LAN-UN-104\n",
    "GS-BE-105\n",
    "SC-HL-106\n",
    "EU-NI-107\n",
    "G-UN-108\n",
    "GS-GE-109\n",
    "SE-TZ-110"
   ]
  }
 ],
 "metadata": {
  "kernelspec": {
   "display_name": "Python 3 (ipykernel)",
   "language": "python",
   "name": "python3"
  },
  "language_info": {
   "codemirror_mode": {
    "name": "ipython",
    "version": 3
   },
   "file_extension": ".py",
   "mimetype": "text/x-python",
   "name": "python",
   "nbconvert_exporter": "python",
   "pygments_lexer": "ipython3",
   "version": "3.11.2"
  }
 },
 "nbformat": 4,
 "nbformat_minor": 5
}
