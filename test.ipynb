{
 "cells": [
  {
   "cell_type": "code",
   "execution_count": null,
   "id": "c4f814b3-0e9d-4d63-8a8a-011f1d8cb27b",
   "metadata": {},
   "outputs": [],
   "source": [
    "MAX_TUITION = 10 \n",
    "n = int(input())\n",
    "tuitionToCow = [0] * (MAX_TUITION + 1)\n",
    "for x in input().split():\n",
    "    tuitionToCow[int(x)] += 1"
   ]
  }
 ],
 "metadata": {
  "kernelspec": {
   "display_name": "Python 3 (ipykernel)",
   "language": "python",
   "name": "python3"
  },
  "language_info": {
   "codemirror_mode": {
    "name": "ipython",
    "version": 3
   },
   "file_extension": ".py",
   "mimetype": "text/x-python",
   "name": "python",
   "nbconvert_exporter": "python",
   "pygments_lexer": "ipython3",
   "version": "3.11.2"
  }
 },
 "nbformat": 4,
 "nbformat_minor": 5
}
