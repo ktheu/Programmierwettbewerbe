{
 "cells": [
  {
   "cell_type": "code",
   "execution_count": 4,
   "id": "1b5b7d18-59c9-434e-bb39-81e602f38877",
   "metadata": {},
   "outputs": [],
   "source": [
    "def koordinatenform(p1, p2):\n",
    "    ''' \n",
    "    p1, p2: zwei Punkte als Tuple, durch die die Gerade geht\n",
    "    returns: a, b, c der Geradengleichung a*x + b*y = c '''\n",
    "    x1, y1 = p1\n",
    "    x2, y2 = p2\n",
    "    a = -(y2-y1)\n",
    "    b = (x2-x1)\n",
    "    c = a*x1 + b*y1\n",
    "    return a, b, c"
   ]
  },
  {
   "cell_type": "code",
   "execution_count": 5,
   "id": "6b198bfe-0584-463e-8af8-98ffc837ad0f",
   "metadata": {},
   "outputs": [
    {
     "data": {
      "text/plain": [
       "(-2, -1, -7)"
      ]
     },
     "execution_count": 5,
     "metadata": {},
     "output_type": "execute_result"
    }
   ],
   "source": [
    "koordinatenform((2,3),(1,5))"
   ]
  },
  {
   "cell_type": "code",
   "execution_count": 7,
   "id": "51b3e953-e35b-4520-b3ff-4427709c8a05",
   "metadata": {},
   "outputs": [
    {
     "data": {
      "text/plain": [
       "5358359254990966640871840"
      ]
     },
     "execution_count": 7,
     "metadata": {},
     "output_type": "execute_result"
    }
   ],
   "source": [
    "def fib(n, memo={}):\n",
    "    if n in memo: return memo[n]   \n",
    "    if n <= 2: \n",
    "        result = 1\n",
    "    else:\n",
    "        result = fib(n-2,memo) + fib(n-1,memo)\n",
    "    memo[n] = result\n",
    "    return result\n",
    " \n",
    "fib(120)"
   ]
  },
  {
   "cell_type": "code",
   "execution_count": 10,
   "id": "4d411385-d32e-47a8-b5cd-0fd17783c38a",
   "metadata": {},
   "outputs": [
    {
     "name": "stdout",
     "output_type": "stream",
     "text": [
      "(0, 1)\n",
      "[1, 1, 0, 0, 0]\n",
      "(0, 2)\n",
      "[1, 0, 1, 0, 0]\n",
      "(0, 3)\n",
      "[1, 0, 0, 1, 0]\n",
      "(0, 4)\n",
      "[1, 0, 0, 0, 1]\n",
      "(1, 2)\n",
      "[0, 1, 1, 0, 0]\n",
      "(1, 3)\n",
      "[0, 1, 0, 1, 0]\n",
      "(1, 4)\n",
      "[0, 1, 0, 0, 1]\n",
      "(2, 3)\n",
      "[0, 0, 1, 1, 0]\n",
      "(2, 4)\n",
      "[0, 0, 1, 0, 1]\n",
      "(3, 4)\n",
      "[0, 0, 0, 1, 1]\n"
     ]
    }
   ],
   "source": [
    "# Alle n-elementigen Binärfolgen, die an genau k Stellen eine 1 haben, sonst 0.\n",
    "import itertools as it\n",
    "n, k = 5, 2\n",
    "for x in it.combinations(range(n),k):\n",
    "    print([int(i in x) for i in range(n)])"
   ]
  },
  {
   "cell_type": "code",
   "execution_count": null,
   "id": "c4f814b3-0e9d-4d63-8a8a-011f1d8cb27b",
   "metadata": {},
   "outputs": [],
   "source": []
  }
 ],
 "metadata": {
  "kernelspec": {
   "display_name": "Python 3 (ipykernel)",
   "language": "python",
   "name": "python3"
  },
  "language_info": {
   "codemirror_mode": {
    "name": "ipython",
    "version": 3
   },
   "file_extension": ".py",
   "mimetype": "text/x-python",
   "name": "python",
   "nbconvert_exporter": "python",
   "pygments_lexer": "ipython3",
   "version": "3.11.2"
  }
 },
 "nbformat": 4,
 "nbformat_minor": 5
}
