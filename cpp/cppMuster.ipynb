{
 "cells": [
  {
   "cell_type": "markdown",
   "id": "91f0268b-6d31-4da5-b105-f25b3553e196",
   "metadata": {},
   "source": [
    "## Reguläre Ausdrücke\n",
    "\n",
    "#### Alle Matches in einem String in einer Liste sammeln"
   ]
  },
  {
   "cell_type": "code",
   "execution_count": 4,
   "id": "c6cdb56b-c9de-4bcd-b10e-93831ede752f",
   "metadata": {},
   "outputs": [
    {
     "name": "stdout",
     "output_type": "stream",
     "text": [
      "['ape', 'apex']\n"
     ]
    }
   ],
   "source": [
    "import re\n",
    "s = \"The ape was at the apex\"\n",
    "reg = r'(ape[^ ]?)'\n",
    "a = re.findall(reg,s)\n",
    "print(a)"
   ]
  },
  {
   "cell_type": "markdown",
   "id": "62826054-d340-4a4e-a2db-a07be231b3ff",
   "metadata": {},
   "source": [
    "```c++\n",
    "#include <vector>\n",
    "#include <string>\n",
    "#include <regex>\n",
    "\n",
    "vector<string> vectorOfMatches(string s, regex reg)\n",
    "{\n",
    "    vector<string> a;\n",
    "    smatch match;\n",
    "    while (regex_search(s, match, reg))\n",
    "    {\n",
    "        a.push_back(match.str(1));\n",
    "        s = match.suffix().str();\n",
    "    }\n",
    "    return a;\n",
    "}\n",
    "\n",
    "int main()\n",
    "{\n",
    "\n",
    "    string s = \"The ape was at the apex\";\n",
    "    regex reg(\"(ape[^ ]?)\");\n",
    "    vector<string> a = vectorOfMatches(s, reg);\n",
    "    for (int i = 0; i < a.size(); i++)\n",
    "    {\n",
    "        cout << a[i] << endl;\n",
    "    }\n",
    "\n",
    "    return 0;\n",
    "}\n",
    "```"
   ]
  },
  {
   "cell_type": "markdown",
   "id": "a3aec8e5-5a46-4e8d-a019-c03879237d77",
   "metadata": {},
   "source": [
    "#### Matches mit Gruppierung\n",
    "\n",
    "Die gruppierten Matches in einer Liste sammeln. Gruppen werden durch runde Klammern erzeugt.\n",
    "\n",
    "\n",
    "\n"
   ]
  },
  {
   "cell_type": "code",
   "execution_count": 15,
   "id": "0a8668e7-22f7-44fa-a9af-3445ffff6827",
   "metadata": {},
   "outputs": [
    {
     "name": "stdout",
     "output_type": "stream",
     "text": [
      "('X', '2')\n"
     ]
    }
   ],
   "source": [
    "import re\n",
    "s = \"X[2]\"\n",
    "reg = r'(\\b.*)\\[(.*)\\]'\n",
    "a = re.findall(reg,s)[0]\n",
    "print(a)"
   ]
  },
  {
   "cell_type": "markdown",
   "id": "881c91e9-63fc-494c-99c1-9183a1037622",
   "metadata": {},
   "source": [
    "```c++\n",
    "#include <stdio.h>\n",
    "#include <iostream>\n",
    "#include <vector>\n",
    "#include <string>\n",
    "#include <regex>\n",
    "using namespace std;\n",
    "\n",
    "vector<string> vectorOfGroups(string s, regex reg)\n",
    "{\n",
    "    vector<string> a;\n",
    "    sregex_iterator next(s.begin(), s.end(), reg);\n",
    "    sregex_iterator end;\n",
    "    while (next != end)\n",
    "    {\n",
    "        smatch match = *next;\n",
    "        for (size_t group = 1; group < match.size(); group++)\n",
    "            a.push_back(match[group]);\n",
    "        next++;\n",
    "    }\n",
    "    return a;\n",
    "}\n",
    "\n",
    "int main()\n",
    "{\n",
    "    string s = \"X[2]\";\n",
    "    regex re(R\"((.*)\\[(.*)\\])\");\n",
    "    vector<string> a = vectorOfGroups(s, re);\n",
    "    for (auto x : a)\n",
    "        cout << x << endl;\n",
    "}\n",
    "```"
   ]
  },
  {
   "cell_type": "code",
   "execution_count": null,
   "id": "c7f19750-5f25-41b0-a27e-09744bd76e9b",
   "metadata": {},
   "outputs": [],
   "source": []
  }
 ],
 "metadata": {
  "kernelspec": {
   "display_name": "Python 3 (ipykernel)",
   "language": "python",
   "name": "python3"
  },
  "language_info": {
   "codemirror_mode": {
    "name": "ipython",
    "version": 3
   },
   "file_extension": ".py",
   "mimetype": "text/x-python",
   "name": "python",
   "nbconvert_exporter": "python",
   "pygments_lexer": "ipython3",
   "version": "3.10.6"
  }
 },
 "nbformat": 4,
 "nbformat_minor": 5
}
