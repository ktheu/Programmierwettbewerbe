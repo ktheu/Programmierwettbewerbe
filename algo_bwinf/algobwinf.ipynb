{
 "cells": [
  {
   "cell_type": "markdown",
   "id": "afd69f4d-0959-42d6-9c4d-994ba41f3f31",
   "metadata": {},
   "source": [
    "## AlgoBwinf\n",
    "\n",
    "### Kurs: while-Schleifen\n",
    "\n",
    "#### Wiederholung: Variablen und Bedingungen\n",
    "\n",
    "Es wird nur das innere einer Schleife codiert."
   ]
  },
  {
   "cell_type": "markdown",
   "id": "c88410af-5386-42f2-a54c-71cb153c159f",
   "metadata": {},
   "source": [
    "<img src='tennis.png' width='600'>"
   ]
  },
  {
   "cell_type": "markdown",
   "id": "5764df30-6e37-4d32-a9ff-ea4bcaac3682",
   "metadata": {},
   "source": [
    "* Position x auf der anderen Seite ist kann ich durch hit(x - myPos) erreichen.\n",
    "* Um den Ball ans untere Ende zu schlagen: hit(-18-myPos)\n",
    "* Nach move(getTargetPos()) ist meine Position da, wo das target ist."
   ]
  },
  {
   "cell_type": "markdown",
   "id": "a279a43c-7bd4-4840-bc61-1aafeb2d1031",
   "metadata": {},
   "source": [
    "#### Wiederholung: Automatische Wiederholungen\n",
    "\n",
    "Auch hier wird nur das innere einer Schleife codiert"
   ]
  },
  {
   "cell_type": "markdown",
   "id": "b205f4ab-7ca5-4e87-bee9-643adfc66be3",
   "metadata": {},
   "source": [
    "#### Wiederholung: Einführung in while-Schleifen\n",
    "\n",
    "Hier muss man eine while-Schleife codieren ('Dein Programm wird nur einmal ausgeführt'). Man muss nur die drei Testfälle richtig machen."
   ]
  },
  {
   "cell_type": "raw",
   "id": "f3684cdf-38fe-4dca-ae2d-a67217a9ec5a",
   "metadata": {},
   "source": [
    "# Gehe solange, bis du auf ein Hindernis stößt\n",
    "while detect() == \"free\":\n",
    "    move()"
   ]
  },
  {
   "cell_type": "markdown",
   "id": "ea0b5950-3a85-466b-a127-eb63307088a7",
   "metadata": {},
   "source": [
    "#### Wiederholung: Variablen in while-Schleifen\n",
    "\n",
    "Die eigene Position muss immer wieder upgedated werden:"
   ]
  },
  {
   "cell_type": "raw",
   "id": "c0eec317-4495-4605-a1d3-5c0eba0cba18",
   "metadata": {},
   "source": [
    "myPos = target"
   ]
  },
  {
   "cell_type": "markdown",
   "id": "e7dc99da-fcfb-405f-aa5c-eac5c860daf7",
   "metadata": {},
   "source": [
    "Wenn x eine Position auf der anderen Seite ist, dann kann ich die durch hit(x - myPos) erreichen.\n"
   ]
  },
  {
   "cell_type": "code",
   "execution_count": null,
   "id": "10f59270-f395-476f-abe0-f8ad0c733b22",
   "metadata": {},
   "outputs": [],
   "source": []
  }
 ],
 "metadata": {
  "kernelspec": {
   "display_name": "Python 3 (ipykernel)",
   "language": "python",
   "name": "python3"
  },
  "language_info": {
   "codemirror_mode": {
    "name": "ipython",
    "version": 3
   },
   "file_extension": ".py",
   "mimetype": "text/x-python",
   "name": "python",
   "nbconvert_exporter": "python",
   "pygments_lexer": "ipython3",
   "version": "3.12.8"
  }
 },
 "nbformat": 4,
 "nbformat_minor": 5
}
