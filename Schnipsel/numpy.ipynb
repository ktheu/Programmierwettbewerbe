{
 "cells": [
  {
   "cell_type": "markdown",
   "id": "89dc4833-98bc-46fe-a87f-0fee4e7f651d",
   "metadata": {},
   "source": [
    "### Grids mit numpy"
   ]
  },
  {
   "cell_type": "code",
   "execution_count": 13,
   "id": "8eed8d7d-2baa-4a9d-9cc8-1aa66d1349a5",
   "metadata": {},
   "outputs": [],
   "source": [
    "import numpy as np\n",
    "import random"
   ]
  },
  {
   "cell_type": "code",
   "execution_count": 27,
   "id": "60c3eef5-3ba3-4c6a-91d1-cb7a991d5823",
   "metadata": {},
   "outputs": [
    {
     "data": {
      "text/plain": [
       "array([[0, 0, 0, 0, 0, 0, 0, 0],\n",
       "       [0, 0, 0, 0, 0, 0, 0, 0],\n",
       "       [0, 0, 0, 0, 0, 0, 0, 0],\n",
       "       [0, 0, 0, 0, 0, 0, 0, 0],\n",
       "       [0, 0, 0, 0, 0, 0, 0, 0]])"
      ]
     },
     "execution_count": 27,
     "metadata": {},
     "output_type": "execute_result"
    }
   ],
   "source": [
    "width, height = 8, 5\n",
    "grid = np.zeros((height,width),dtype='int')\n",
    "grid"
   ]
  },
  {
   "cell_type": "markdown",
   "id": "702beab8-22b2-44f5-9d76-1c880b840990",
   "metadata": {},
   "source": [
    "Zufällige Positionen mit 1 füllen"
   ]
  },
  {
   "cell_type": "code",
   "execution_count": 28,
   "id": "496ffb1b-f278-4386-bf14-7cbee146ef0b",
   "metadata": {},
   "outputs": [
    {
     "name": "stdout",
     "output_type": "stream",
     "text": [
      "[5, 27, 19, 33, 17]\n"
     ]
    },
    {
     "data": {
      "text/plain": [
       "array([[0, 0, 0, 0, 0, 1, 0, 0],\n",
       "       [0, 0, 0, 0, 0, 0, 0, 0],\n",
       "       [0, 1, 0, 1, 0, 0, 0, 0],\n",
       "       [0, 0, 0, 1, 0, 0, 0, 0],\n",
       "       [0, 1, 0, 0, 0, 0, 0, 0]])"
      ]
     },
     "execution_count": 28,
     "metadata": {},
     "output_type": "execute_result"
    }
   ],
   "source": [
    "anzahl = 5\n",
    "kk = random.sample(range(width*height),anzahl)\n",
    "print(kk)\n",
    "for k in kk :\n",
    "    x = k // width\n",
    "    y = k % width\n",
    "    grid[x,y] = 1\n",
    "grid\n",
    " "
   ]
  },
  {
   "cell_type": "markdown",
   "id": "9606f94e-f880-420d-8a5c-b79f349002d5",
   "metadata": {},
   "source": [
    "Anzahl der Einsen"
   ]
  },
  {
   "cell_type": "code",
   "execution_count": 29,
   "id": "e52a2599-5022-4e03-9f1f-7700bb970850",
   "metadata": {},
   "outputs": [
    {
     "data": {
      "text/plain": [
       "5"
      ]
     },
     "execution_count": 29,
     "metadata": {},
     "output_type": "execute_result"
    }
   ],
   "source": [
    "np.count_nonzero(grid==1)   "
   ]
  },
  {
   "cell_type": "markdown",
   "id": "5ab77b61-2fbc-4078-bf00-5499b97d9976",
   "metadata": {},
   "source": [
    "Koordinaten der Einsen:"
   ]
  },
  {
   "cell_type": "code",
   "execution_count": 30,
   "id": "b9203081-2443-4e90-ba8a-954109f0562f",
   "metadata": {},
   "outputs": [
    {
     "data": {
      "text/plain": [
       "[(0, 5), (2, 1), (2, 3), (3, 3), (4, 1)]"
      ]
     },
     "execution_count": 30,
     "metadata": {},
     "output_type": "execute_result"
    }
   ],
   "source": [
    "a = np.where(grid==1)\n",
    "list(zip(a[0],a[1]))"
   ]
  },
  {
   "cell_type": "markdown",
   "id": "80d5a82e-8ab9-4b04-98d2-4784ab4c4018",
   "metadata": {},
   "source": [
    "Indizes der Einsen:"
   ]
  },
  {
   "cell_type": "code",
   "execution_count": 31,
   "id": "992ace32-17e6-487e-bc3f-d900c55bd2f4",
   "metadata": {},
   "outputs": [
    {
     "data": {
      "text/plain": [
       "[5, 17, 19, 27, 33]"
      ]
     },
     "execution_count": 31,
     "metadata": {},
     "output_type": "execute_result"
    }
   ],
   "source": [
    "a = np.where(grid==1)\n",
    "b = list(zip(a[0],a[1]))\n",
    "[p[0]*width+p[1] for p in b]"
   ]
  },
  {
   "cell_type": "code",
   "execution_count": null,
   "id": "05083b45-2a59-43a6-b79c-2e792185d95a",
   "metadata": {},
   "outputs": [],
   "source": []
  }
 ],
 "metadata": {
  "kernelspec": {
   "display_name": "Python 3 (ipykernel)",
   "language": "python",
   "name": "python3"
  },
  "language_info": {
   "codemirror_mode": {
    "name": "ipython",
    "version": 3
   },
   "file_extension": ".py",
   "mimetype": "text/x-python",
   "name": "python",
   "nbconvert_exporter": "python",
   "pygments_lexer": "ipython3",
   "version": "3.10.6"
  }
 },
 "nbformat": 4,
 "nbformat_minor": 5
}
