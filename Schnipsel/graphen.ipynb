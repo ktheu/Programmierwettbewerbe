{
 "cells": [
  {
   "cell_type": "markdown",
   "id": "84be0ffd-f659-4272-b290-eb9af9c487b9",
   "metadata": {},
   "source": [
    "## Ungewichtete Graphen\n",
    "\n",
    "Ungewichtete Graphen haben keine Kosten an ihren Kanten.\n",
    "Wir modellieren sie als dictionaries mit den Knoten als keys und der Menge der Nachbarknoten als values.\n",
    "Ungerichtete Graphen modellieren wir genauso, mit Übergängen zu beiden Seiten.\n",
    "\n",
    "<img src='graph1.png' width=\"300\">"
   ]
  },
  {
   "cell_type": "code",
   "execution_count": 160,
   "id": "680d08d7-702f-456d-888c-882cc494f780",
   "metadata": {},
   "outputs": [
    {
     "data": {
      "text/plain": [
       "{'a': {'b', 'c'}, 'b': {'d'}, 'c': {'b', 'd'}, 'd': {'b'}}"
      ]
     },
     "execution_count": 160,
     "metadata": {},
     "output_type": "execute_result"
    }
   ],
   "source": [
    "G = {'a':set('bc'), 'b':set('d'), 'c':set('bd'), 'd':set('b')}\n",
    "G"
   ]
  },
  {
   "cell_type": "markdown",
   "id": "5442038e-20af-4123-9291-6aa81552decc",
   "metadata": {},
   "source": [
    "In der Regel nutzen wir folgende Variablennamen:\n",
    "\n",
    "    V - Menge oder Liste von Knoten (vertices)\n",
    "    v, v1, .. w - einzelne Knoten\n",
    "\n",
    "\n",
    "Bei allen folgenden Beispielen setzen wir G als globale Variable voraus.\n"
   ]
  },
  {
   "cell_type": "markdown",
   "id": "71291933-55c6-42ba-9869-d7da1fc2d266",
   "metadata": {},
   "source": [
    "----\n",
    "#### Alle Knoten eines Graphen durchlaufen:\n",
    "     "
   ]
  },
  {
   "cell_type": "code",
   "execution_count": 161,
   "id": "db18325c-1598-42b4-8edb-6a391571c0d3",
   "metadata": {},
   "outputs": [
    {
     "name": "stdout",
     "output_type": "stream",
     "text": [
      "a b c d "
     ]
    }
   ],
   "source": [
    "# eine for-Schleife durch ein dict durchläuft immer die keys\n",
    "for v in G:                 \n",
    "    print(v, end=' ')"
   ]
  },
  {
   "cell_type": "markdown",
   "id": "12b29cf2-4fc2-40d9-bb05-20a2a3c701b0",
   "metadata": {},
   "source": [
    "----\n",
    "#### Alle Knoten mit ihren Nachbarn ausgeben\n",
    " \n"
   ]
  },
  {
   "cell_type": "code",
   "execution_count": 162,
   "id": "17b669f0-7e4f-498e-b21e-279963d247a2",
   "metadata": {},
   "outputs": [
    {
     "name": "stdout",
     "output_type": "stream",
     "text": [
      "a -> {'b', 'c'}\n",
      "b -> {'d'}\n",
      "c -> {'d', 'b'}\n",
      "d -> {'b'}\n"
     ]
    }
   ],
   "source": [
    "for v in G:\n",
    "    print(v, '->',G[v])"
   ]
  },
  {
   "cell_type": "markdown",
   "id": "9a80942a-4f0b-4aff-96b2-470f9e2d9d8e",
   "metadata": {},
   "source": [
    "----\n",
    "#### Alle Nachbarn eines gegebenen Knotens durchlaufen"
   ]
  },
  {
   "cell_type": "code",
   "execution_count": 163,
   "id": "fed778bd-12e3-41bd-b171-7e75f9a4a909",
   "metadata": {},
   "outputs": [
    {
     "name": "stdout",
     "output_type": "stream",
     "text": [
      "b c "
     ]
    }
   ],
   "source": [
    "v = 'a'     # alle Nachbarn dieses Knotens durchlaufen\n",
    "for w in G[v]:\n",
    "    print(w, end=' ')"
   ]
  },
  {
   "cell_type": "markdown",
   "id": "b62e3015-aea6-4900-9ffe-b84130540676",
   "metadata": {},
   "source": [
    "---\n",
    "#### Sind zwei Knoten benachbart?"
   ]
  },
  {
   "cell_type": "code",
   "execution_count": 164,
   "id": "f2346880-5384-4497-a3c4-0f010d7cd7fd",
   "metadata": {},
   "outputs": [
    {
     "data": {
      "text/plain": [
       "False"
      ]
     },
     "execution_count": 164,
     "metadata": {},
     "output_type": "execute_result"
    }
   ],
   "source": [
    "# ist w ein Nachbar von v?\n",
    "v, w = 'a', 'd'\n",
    "w in G[v]"
   ]
  },
  {
   "cell_type": "markdown",
   "id": "0355722a-a3ae-41be-b508-c92d60091516",
   "metadata": {},
   "source": [
    "----\n",
    "#### Welche Knoten sind von einem gegebenen Knoten erreichbar?"
   ]
  },
  {
   "cell_type": "code",
   "execution_count": 165,
   "id": "f5ee15eb-4347-4cc1-8701-63376681d62c",
   "metadata": {},
   "outputs": [
    {
     "name": "stdout",
     "output_type": "stream",
     "text": [
      "['b', 'd']\n"
     ]
    }
   ],
   "source": [
    "def explore(v):  \n",
    "    visited[v] = True\n",
    "    for w in G[v]:\n",
    "        if not visited[w]:\n",
    "            explore(w) \n",
    "\n",
    "visited =  {v : False for v in G}      \n",
    "w = 'b' \n",
    "explore(w)\n",
    "result = [v for v in G if visited[v]]            \n",
    "print(result)"
   ]
  },
  {
   "cell_type": "markdown",
   "id": "a68688ee-2d19-4fbe-ac80-189c442fc977",
   "metadata": {},
   "source": [
    "----\n",
    "#### Einen kürzesten Weg zwischen zwei Knoten"
   ]
  },
  {
   "cell_type": "code",
   "execution_count": 166,
   "id": "70d9ce03-adb5-4be1-a73a-13a7e276ae6f",
   "metadata": {},
   "outputs": [
    {
     "data": {
      "text/plain": [
       "['a', 'b', 'd']"
      ]
     },
     "execution_count": 166,
     "metadata": {},
     "output_type": "execute_result"
    }
   ],
   "source": [
    "from collections import deque\n",
    "def bfs(start, ziel):\n",
    "    frontier =  deque([start])\n",
    "    prev = {start:None}\n",
    "    while frontier:\n",
    "        v = frontier.popleft()\n",
    "        if v == ziel:\n",
    "            return prev \n",
    "        for w in G[v]:\n",
    "            if w not in prev:\n",
    "                frontier.append(w)\n",
    "                prev[w] = v\n",
    "\n",
    "def reconstructPath(prev,ziel):\n",
    "    v = ziel\n",
    "    path = []\n",
    "    while v is not None:\n",
    "        path.append(v)\n",
    "        v = prev[v]\n",
    "    path.reverse()\n",
    "    return path\n",
    "\n",
    "\n",
    "# Einen kürzesten Weg zwischen start und ziel\n",
    "start, ziel = 'a', 'd'\n",
    "prev = bfs(start,ziel)\n",
    "reconstructPath(prev,ziel)     "
   ]
  },
  {
   "cell_type": "markdown",
   "id": "9cf72280-f3e7-4f58-a760-6a9dc1a65bd1",
   "metadata": {},
   "source": [
    "----\n",
    "#### Alle einfachen Wege zwischen zwei Knoten\n",
    "\n",
    "Einfache Wege sind solche, bei denen kein Knoten zweimal besucht wird."
   ]
  },
  {
   "cell_type": "code",
   "execution_count": 167,
   "id": "9f4fa580-7c69-4568-a3b7-f9ee335fdfd6",
   "metadata": {},
   "outputs": [
    {
     "data": {
      "text/plain": [
       "[['a', 'b', 'd'], ['a', 'c', 'd'], ['a', 'c', 'b', 'd']]"
      ]
     },
     "execution_count": 167,
     "metadata": {},
     "output_type": "execute_result"
    }
   ],
   "source": [
    "def dfs(path):\n",
    "    if path[-1] == ziel:\n",
    "        solutions.append(path.copy())\n",
    "    else:\n",
    "        for w in G[path[-1]]:\n",
    "            if w not in path:\n",
    "                path.append(w)\n",
    "                dfs(path)\n",
    "                path.pop()              # backtrack\n",
    "\n",
    "solutions = []\n",
    "start, ziel = 'a', 'd'\n",
    "dfs([start])\n",
    "solutions"
   ]
  },
  {
   "cell_type": "markdown",
   "id": "9ede3409-2a59-479a-9149-047252fefe4c",
   "metadata": {},
   "source": [
    "---\n",
    "#### Einen Weg zwischen zwei Knoten mit einer bestimmten Länge suchen"
   ]
  },
  {
   "cell_type": "code",
   "execution_count": 169,
   "id": "f7991e36-31fc-44be-9b2d-9beefa5afcd2",
   "metadata": {},
   "outputs": [],
   "source": [
    "# Länge des Pfades + 1 = len(path) \n",
    "def bfs(start,ziel,laenge):\n",
    "    frontier =  deque([[start]])\n",
    "    while frontier:\n",
    "        path = frontier.popleft() \n",
    "        if len(path) == laenge+1 and path[-1] == ziel:\n",
    "            return path\n",
    "        for v in G[path[-1]]:\n",
    "            frontier.append((path+[v]).copy())"
   ]
  },
  {
   "cell_type": "code",
   "execution_count": 170,
   "id": "b4cf6b33-a398-45e9-bc04-b05c113b0f4d",
   "metadata": {},
   "outputs": [
    {
     "data": {
      "text/plain": [
       "['a', 'b', 'd', 'b', 'd']"
      ]
     },
     "execution_count": 170,
     "metadata": {},
     "output_type": "execute_result"
    }
   ],
   "source": [
    "bfs('a','d', 4)\n"
   ]
  },
  {
   "cell_type": "markdown",
   "id": "08bec3fc-09db-4d8d-bede-fdd853747c9e",
   "metadata": {},
   "source": [
    "---\n",
    "#### Liste aller Pfade mit einer bestimmten Länge zwischen zwei Knoten"
   ]
  },
  {
   "cell_type": "code",
   "execution_count": 171,
   "id": "ff7f252b-c41e-4b40-8307-40dd0747606d",
   "metadata": {},
   "outputs": [],
   "source": [
    "def dfs(path, ziel, laenge):\n",
    "    if path[-1] == ziel and len(path) == laenge + 1:\n",
    "        solutions.append(path.copy())\n",
    "    else:\n",
    "        for w in G[path[-1]]:\n",
    "            if len(path) < laenge + 1:\n",
    "                path.append(w)\n",
    "                dfs(path, ziel, laenge)\n",
    "                path.pop()              # backtrack"
   ]
  },
  {
   "cell_type": "code",
   "execution_count": 172,
   "id": "66436012-ed63-47b7-85e6-23835e7a3a42",
   "metadata": {},
   "outputs": [
    {
     "data": {
      "text/plain": [
       "[['a', 'b', 'd', 'b', 'd'], ['a', 'c', 'd', 'b', 'd']]"
      ]
     },
     "execution_count": 172,
     "metadata": {},
     "output_type": "execute_result"
    }
   ],
   "source": [
    "solutions = []\n",
    "start, ziel = 'a', 'd'\n",
    "dfs([start],ziel,4)\n",
    "solutions"
   ]
  }
 ],
 "metadata": {
  "kernelspec": {
   "display_name": "Python 3 (ipykernel)",
   "language": "python",
   "name": "python3"
  },
  "language_info": {
   "codemirror_mode": {
    "name": "ipython",
    "version": 3
   },
   "file_extension": ".py",
   "mimetype": "text/x-python",
   "name": "python",
   "nbconvert_exporter": "python",
   "pygments_lexer": "ipython3",
   "version": "3.11.2"
  }
 },
 "nbformat": 4,
 "nbformat_minor": 5
}
