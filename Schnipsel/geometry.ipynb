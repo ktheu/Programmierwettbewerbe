{
 "cells": [
  {
   "cell_type": "markdown",
   "id": "875269fd-de2e-4e92-98f2-facda204aac4",
   "metadata": {},
   "source": [
    "## Geometrie\n",
    "\n",
    "[Geogebra](https://www.geogebra.org/calculator)"
   ]
  },
  {
   "cell_type": "markdown",
   "id": "6490a2ea-e9f5-4786-b4a2-63fd4ffb625e",
   "metadata": {
    "tags": []
   },
   "source": [
    "#### Winkel\n",
    "\n",
    "- Wenn der Ursprung unten links ist bedeuten positive Winkel: gegen den UhrzeigerSinn\n",
    "- Wenn der Ursprung oben links ist (und das positive y also nach unten zeigt) bedeuten positive Winkel: mit dem Uhrzeigersinn\n",
    "- Winkel können im Bogenmaß oder in Grad angegeben werden.\n",
    "- Winkel in Grad werden meist in den Bereichen -180 < winkel <= +180 oder in 0 <= winkel < 360 angegeben werden."
   ]
  },
  {
   "cell_type": "markdown",
   "id": "040e9df8-af5b-49d3-8c9b-f5956d4acb09",
   "metadata": {},
   "source": [
    "#### Bogenmaß und Grad\n",
    "\n"
   ]
  },
  {
   "cell_type": "code",
   "execution_count": 117,
   "id": "c4d2b0b7-3a19-4ba4-aae0-5100583c3c5a",
   "metadata": {},
   "outputs": [
    {
     "name": "stdout",
     "output_type": "stream",
     "text": [
      "3.141592653589793\n"
     ]
    }
   ],
   "source": [
    "import math\n",
    "print(math.pi)"
   ]
  },
  {
   "cell_type": "code",
   "execution_count": 118,
   "id": "030c76cd-e174-422e-bf4c-918bffd1194f",
   "metadata": {},
   "outputs": [
    {
     "name": "stdout",
     "output_type": "stream",
     "text": [
      "180.0\n",
      "45.0\n"
     ]
    }
   ],
   "source": [
    "print(math.degrees(math.pi))                      \n",
    "print(math.degrees(1/4*math.pi))"
   ]
  },
  {
   "cell_type": "code",
   "execution_count": 119,
   "id": "81695af4-8cfe-4176-a04c-018097389f6f",
   "metadata": {},
   "outputs": [
    {
     "name": "stdout",
     "output_type": "stream",
     "text": [
      "3.141592653589793\n",
      "0.7853981633974483\n"
     ]
    }
   ],
   "source": [
    "print(math.radians(180))\n",
    "print(math.radians(45))"
   ]
  },
  {
   "cell_type": "markdown",
   "id": "1080eb0f-a9b5-48f6-ba80-afce15116e9c",
   "metadata": {},
   "source": [
    "#### Trigonometrische Funktionen\n",
    "\n",
    "    Sinus: Gegenkathete / Hypothenuse\n",
    "    Cosinus: Ankathete / Hypothenuse\n",
    "    Tangens: Gegenkathete / Ankathete\n",
    "\n",
    "<img src='bild1.jpg' width='500'>"
   ]
  },
  {
   "cell_type": "code",
   "execution_count": 120,
   "id": "6d25b52c-5ff4-4032-b63a-d5f1b7e9cb92",
   "metadata": {},
   "outputs": [
    {
     "name": "stdout",
     "output_type": "stream",
     "text": [
      "a=4, b=7.211102550927978, c=6\n"
     ]
    }
   ],
   "source": [
    "a, c = 4, 6\n",
    "b = math.sqrt(a*a + c*c)\n",
    "print(f'a={a}, b={b}, c={c}')"
   ]
  },
  {
   "cell_type": "code",
   "execution_count": 121,
   "id": "3b068d14-c2ab-46e4-8361-056805cc0ebd",
   "metadata": {},
   "outputs": [
    {
     "name": "stdout",
     "output_type": "stream",
     "text": [
      "0.5547001962252293 0.5547001962252291\n",
      "0.8320502943378436 0.8320502943378437\n",
      "0.666666666666667 0.6666666666666666\n"
     ]
    }
   ],
   "source": [
    "alpha = math.radians(33.6900675259798)\n",
    "\n",
    "print(math.sin(alpha), a/b)\n",
    "print(math.cos(alpha), c/b)\n",
    "print(math.tan(alpha), a/c)\n",
    " "
   ]
  },
  {
   "cell_type": "markdown",
   "id": "4bbf413b-6bee-4b1a-9f2f-691c246e3d70",
   "metadata": {},
   "source": [
    "#### atan, atan2\n",
    "\n",
    "Für die Umkehrung nutzen wir meist den Tangens"
   ]
  },
  {
   "cell_type": "code",
   "execution_count": 122,
   "id": "db0cd8a3-11b3-4ab9-8b40-f7116e5f9831",
   "metadata": {},
   "outputs": [
    {
     "data": {
      "text/plain": [
       "33.690067525979785"
      ]
     },
     "execution_count": 122,
     "metadata": {},
     "output_type": "execute_result"
    }
   ],
   "source": [
    "math.degrees(math.atan(a/c))"
   ]
  },
  {
   "cell_type": "code",
   "execution_count": 123,
   "id": "9e385db7-b41e-4ef7-83af-77ffd50f64df",
   "metadata": {},
   "outputs": [
    {
     "name": "stdout",
     "output_type": "stream",
     "text": [
      "Punkt:  1/ 1   Winkel:  45.0\n",
      "Punkt: -1/ 1   Winkel: -45.0\n",
      "Punkt: -1/-1   Winkel:  45.0\n",
      "Punkt:  1/-1   Winkel: -45.0\n"
     ]
    }
   ],
   "source": [
    "for a,c in [(1,1),(-1,1),(-1,-1),(1,-1)]:\n",
    "    print(f'Punkt: {a:2}/{c:2}   Winkel: {math.degrees(math.atan(a/c)):5}')"
   ]
  },
  {
   "cell_type": "markdown",
   "id": "ffba7747-34dc-4207-9cb7-b094d9374ca7",
   "metadata": {},
   "source": [
    "*atan* berücksichtigt nur den Wert des Quotienten und nicht, in welchem Quadranten der Punkt liegt.\n",
    "Dafür nutzen wir *atan2*. "
   ]
  },
  {
   "cell_type": "code",
   "execution_count": 124,
   "id": "39305ee7-d4e9-4156-8d7c-507d408b6135",
   "metadata": {},
   "outputs": [
    {
     "name": "stdout",
     "output_type": "stream",
     "text": [
      "Punkt:  1/ 1   Winkel:  45.0\n",
      "Punkt: -1/ 1   Winkel: 135.0\n",
      "Punkt: -1/-1   Winkel: -135.0\n",
      "Punkt:  1/-1   Winkel: -45.0\n"
     ]
    }
   ],
   "source": [
    "for a,c in [(1,1),(-1,1),(-1,-1),(1,-1)]:\n",
    "    print(f'Punkt: {a:2}/{c:2}   Winkel: {math.degrees(math.atan2(c,a)):5}')"
   ]
  },
  {
   "cell_type": "markdown",
   "id": "c1104bb9-347c-4024-a714-76325143ad97",
   "metadata": {},
   "source": [
    "**Für den Punkt (x/y) bekommen wir den Winkel alpha im Bogenmaß mit atan2(y,x) im Bereich -pi < alpha <= pi**"
   ]
  },
  {
   "cell_type": "markdown",
   "id": "eabf11d1-5fbb-4afa-b628-bb3248ae7ff4",
   "metadata": {},
   "source": [
    "#### Winkel im Dreieck\n",
    "\n",
    "<img src='bild2.jpg' width='601'>"
   ]
  },
  {
   "cell_type": "code",
   "execution_count": 125,
   "id": "f73b6e1d-f38e-424d-a952-134a06c6de13",
   "metadata": {},
   "outputs": [],
   "source": [
    "A = (2,2)\n",
    "B = (10,4)\n",
    "C = (6,8)"
   ]
  },
  {
   "cell_type": "markdown",
   "id": "3b969fae-2be4-4d8a-86ee-909359799665",
   "metadata": {},
   "source": [
    "Um den Winkel der Strecke AC zur Horizontalen zu berechnen, berechnen wir den Differenzvektor C-A (Ziel minus Start) und wenden darauf die atan2-Funktion an."
   ]
  },
  {
   "cell_type": "code",
   "execution_count": 126,
   "id": "7538d85f-7b27-4633-b1e2-5db23f81928d",
   "metadata": {},
   "outputs": [
    {
     "name": "stdout",
     "output_type": "stream",
     "text": [
      "alpha1 = 56.309932474020215\n",
      "alpha2 = 14.036243467926479\n",
      "Winkel alpha = 42.27368900609373\n"
     ]
    }
   ],
   "source": [
    "# Winkel der Strecke von A nach C zur Horizontalen\n",
    "dx = C[0]-A[0]    # Ziel - Start\n",
    "dy = C[1]-A[1]\n",
    "alpha1 = math.degrees(math.atan2(dy,dx))\n",
    "print(f'alpha1 = {alpha1}')\n",
    "\n",
    "# Winkel der Strecke von A nach B zur Horizontalen\n",
    "dx = B[0]-A[0]    # Ziel - Start\n",
    "dy = B[1]-A[1]\n",
    "alpha2 = math.degrees(math.atan2(dy,dx))\n",
    "print(f'alpha2 = {alpha2}')\n",
    "\n",
    "print(f'Winkel alpha = {abs(alpha1-alpha2)}')\n"
   ]
  },
  {
   "cell_type": "code",
   "execution_count": 127,
   "id": "38deb6a0-e78d-4da9-bed2-19b997567bd2",
   "metadata": {},
   "outputs": [],
   "source": [
    "def getWinkel(A,B,C):\n",
    "    '''\n",
    "    returns: Winkel am Punkt A\n",
    "    '''\n",
    "    dx = C[0]-A[0]    # Ziel - Start\n",
    "    dy = C[1]-A[1]\n",
    "    alpha1 = math.degrees(math.atan2(dy,dx))\n",
    "    dx = B[0]-A[0]    # Ziel - Start\n",
    "    dy = B[1]-A[1]\n",
    "    alpha2 = math.degrees(math.atan2(dy,dx))\n",
    "    angle = abs(alpha1-alpha2)\n",
    "    if angle > 180: angle-= 360\n",
    "    return abs(angle)\n"
   ]
  },
  {
   "cell_type": "code",
   "execution_count": 128,
   "id": "bfd3dd46-7318-42c9-9dac-7bdb1ff3af1f",
   "metadata": {},
   "outputs": [
    {
     "name": "stdout",
     "output_type": "stream",
     "text": [
      "42.27368900609373\n",
      "78.69006752597979\n",
      "59.03624346792651\n"
     ]
    }
   ],
   "source": [
    "print(getWinkel(A,B,C))\n",
    "print(getWinkel(C,B,A))\n",
    "print(getWinkel(B,C,A))"
   ]
  },
  {
   "cell_type": "markdown",
   "id": "cd20f704-95ed-419b-8685-896c81042d7f",
   "metadata": {},
   "source": [
    "#### Abbiegewinkel\n",
    "\n",
    "<img src='bild3.jpg' width='601'>"
   ]
  },
  {
   "cell_type": "code",
   "execution_count": 129,
   "id": "9d7118b5-6add-42e7-8941-7762db4a2b4e",
   "metadata": {},
   "outputs": [
    {
     "name": "stdout",
     "output_type": "stream",
     "text": [
      "49.76364169072616\n"
     ]
    }
   ],
   "source": [
    "A = (1,3)\n",
    "B = (8,6)\n",
    "C = (12,4)\n",
    "\n",
    "abbiegeWinkel = 180 - getWinkel(B,A,C)\n",
    "print(abbiegeWinkel)"
   ]
  }
 ],
 "metadata": {
  "kernelspec": {
   "display_name": "Python 3 (ipykernel)",
   "language": "python",
   "name": "python3"
  },
  "language_info": {
   "codemirror_mode": {
    "name": "ipython",
    "version": 3
   },
   "file_extension": ".py",
   "mimetype": "text/x-python",
   "name": "python",
   "nbconvert_exporter": "python",
   "pygments_lexer": "ipython3",
   "version": "3.10.6"
  }
 },
 "nbformat": 4,
 "nbformat_minor": 5
}
