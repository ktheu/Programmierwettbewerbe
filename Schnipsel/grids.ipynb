{
 "cells": [
  {
   "cell_type": "markdown",
   "id": "cd883be5-f082-4efc-b87c-9aeffefe76bc",
   "metadata": {},
   "source": [
    "## Grids\n",
    "\n",
    "#### Grids als numpy-Arrays\n",
    "\n",
    "In der Regel haben wir die Grid-Daten als eine Liste von Strings zur Verfügung.\n",
    "Die x-Koordinate in eine Grid ist häufig die Spalte, in einer Matrix ist die erste Koordinate die Zeile.\n",
    "Deshalb speichern wir das grid transponiert ab. Bei allen Ausgaben müssen wir wieder transponieren."
   ]
  },
  {
   "cell_type": "code",
   "execution_count": 1,
   "id": "3e9a332e-6af3-40ef-b5f2-36414ffaad39",
   "metadata": {},
   "outputs": [],
   "source": [
    "import numpy as np\n",
    "from collections import deque\n",
    "from copy import copy, deepcopy"
   ]
  },
  {
   "cell_type": "code",
   "execution_count": 14,
   "id": "a4c0b512-42e6-4115-842d-139a0ff06e5d",
   "metadata": {},
   "outputs": [],
   "source": [
    "\n",
    "\n",
    "def getGrid(griddata):\n",
    "    return np.array([list(row) for row in griddata],dtype='object').T\n",
    "    \n",
    "def showGrid(grid):\n",
    "    for row in grid.T:\n",
    "        print(*row)\n",
    "        \n",
    "def getPos(grid,c):\n",
    "    a = np.where(grid == c)\n",
    "    return list(zip(a[0],a[1])) "
   ]
  },
  {
   "cell_type": "markdown",
   "id": "0f913a9d-f6fc-44fa-bce3-f8333938a323",
   "metadata": {},
   "source": [
    "#### Suchen nach besonderen Feldern"
   ]
  },
  {
   "cell_type": "code",
   "execution_count": 41,
   "id": "6f383bd1-1145-4156-b864-f9949b63dde6",
   "metadata": {},
   "outputs": [],
   "source": [
    "class Grid:\n",
    "    # wenn nur Zahlen oder Zeichen: dtype='object' weglassen\n",
    "    def __init__(self, griddata):\n",
    "        self.grid = np.array([list(row) for row in griddata],dtype='object').T\n",
    "        self.walls = []\n",
    "        self.dirs = [(0,-1),(1,0),(0,1),(-1,0)]\n",
    "        self.width = self.grid.shape[0]\n",
    "        self.height = self.grid.shape[1]\n",
    "        \n",
    "    def show(self):\n",
    "        for row in self.grid.T:\n",
    "            print(*row)\n",
    "            \n",
    "            \n",
    "    def getPos(self, c):\n",
    "        a = np.where(self.grid == c)\n",
    "        return list(zip(a[0],a[1]))\n",
    "    \n",
    "    def setPos(self,pos,c):\n",
    "        self.grid[pos[0],pos[1]] = c\n",
    "        \n",
    "    def inside(self, pos):\n",
    "        x, y = pos\n",
    "        return 0 <= x < self.width and 0 <= y < self.height\n",
    "    \n",
    "    def nbs(self,pos):\n",
    "        tmp = []\n",
    "        x, y = pos\n",
    "        for xd, yd in self.dirs:\n",
    "            x1, y1 = x + xd, y + yd\n",
    "            if self.inside((x1,y1)) and self.grid[x1,y1] not in self.walls:\n",
    "                tmp.append((x1,y1))\n",
    "        return tmp\n",
    "    \n",
    "    def bfs(self,pos1, pos2):\n",
    "        frontier =  deque([pos1])\n",
    "        prev = {pos1:None}\n",
    "        if pos1 == pos2:\n",
    "            return prev\n",
    "        while frontier:\n",
    "            pos = frontier.popleft()\n",
    "            for p in self.nbs(pos):\n",
    "                if p not in prev:\n",
    "                    prev[p] = pos\n",
    "                    if p == pos2:\n",
    "                        return prev\n",
    "                    frontier.append(p)\n",
    "                    \n",
    "    def reconstructPath(self,prev, pos):\n",
    "        path = []\n",
    "        while pos is not None:\n",
    "            path.append(pos)\n",
    "            pos = prev[pos]\n",
    "        path.reverse()\n",
    "        return path\n",
    "    \n",
    "    def getPath(self, pos1, pos2):\n",
    "        prev = self.bfs(pos1, pos2)\n",
    "        return self.reconstructPath(prev,pos2)\n",
    "    \n",
    "    def getDist(self, pos1, pos2):\n",
    "        return len(self.getPath(pos1, pos2)) - 1\n",
    "    \n",
    "    def getStep(self, pos1, pos2):\n",
    "        ''' der nächste Einzelschritt auf dem Weg von pos1 nach pos2 '''\n",
    "        path = self.getPath(pos1, pos2)\n",
    "        if len(path) < 2:\n",
    "            return None\n",
    "        return path[1]\n",
    "    \n",
    "    def getNearest(self, pos, c):\n",
    "        ''' die von pos aus nächste Position mit Inhalt c '''\n",
    "        cpos = self.getPos(c)\n",
    "        best, best_val = None, None\n",
    "        for p in cpos:\n",
    "            val = self.getDist(pos,p)\n",
    "            if not best or val < best_val:\n",
    "                best_val = val\n",
    "                best = p\n",
    "        return best\n",
    "  \n"
   ]
  },
  {
   "cell_type": "code",
   "execution_count": 9,
   "id": "90ce3817-93f5-4826-874b-59476ed8d545",
   "metadata": {},
   "outputs": [
    {
     "name": "stdout",
     "output_type": "stream",
     "text": [
      "# # # # # D # # # # #\n",
      "# S . . . . . . . . #\n",
      "# . # # # # 0 # # . #\n",
      "# . # . . # S . # . #\n",
      "# . # # . # # # # . #\n",
      "# . . . . . 1 . . . #\n",
      "# # # # # W # I # B #\n"
     ]
    },
    {
     "data": {
      "text/plain": [
       "(6, 3)"
      ]
     },
     "execution_count": 9,
     "metadata": {},
     "output_type": "execute_result"
    }
   ],
   "source": [
    "griddata=['#####D#####', '#.........#', '#.####0##.#', '#.#..#..#.#', '#.##.####.#', '#.....1...#', '#####W#I#B#']\n",
    "grid = Grid(griddata)\n",
    "grid.walls.append('#')\n",
    "grid.setPos((1,1),'S')\n",
    "grid.setPos((6,3),'S')\n",
    "grid.show()\n",
    "grid.getNearest((5,1),'S')"
   ]
  },
  {
   "cell_type": "code",
   "execution_count": 39,
   "id": "4bd27357-36f0-463d-b334-27fa28555051",
   "metadata": {},
   "outputs": [
    {
     "data": {
      "text/plain": [
       "array([['#', '#', '#', '#', '#', '#', '#'],\n",
       "       ['#', '.', '.', '.', '.', '.', '#'],\n",
       "       ['#', '.', '#', 'Hello', '#', '.', '#'],\n",
       "       ['#', '.', '#', '.', '#', '.', '#'],\n",
       "       ['#', '.', '#', '.', '.', '.', '#'],\n",
       "       ['D', '.', '#', '#', '#', '.', 'W'],\n",
       "       ['#', '.', '0', '.', '#', '1', '#'],\n",
       "       ['#', '.', '#', '.', '#', '.', 'I'],\n",
       "       ['#', '.', '#', '#', '#', '.', '#'],\n",
       "       ['#', '.', '.', '.', '.', '.', 'B'],\n",
       "       ['#', '#', '#', '#', '#', '#', '#']], dtype=object)"
      ]
     },
     "execution_count": 39,
     "metadata": {},
     "output_type": "execute_result"
    }
   ],
   "source": [
    "a = np.array([list(row) for row in griddata],dtype='object').T\n",
    "a[2,3] = 'Hello'\n",
    "a"
   ]
  },
  {
   "cell_type": "code",
   "execution_count": 11,
   "id": "4796ca6d-cb8e-4f45-8689-b319b69e6ae7",
   "metadata": {},
   "outputs": [
    {
     "name": "stdout",
     "output_type": "stream",
     "text": [
      "# # # # # D # # # # #\n",
      "# S . . . . . . . . #\n",
      "# . # # # # 0 # # . #\n",
      "# . # . . # S . # . #\n",
      "# . # # . # # # # . #\n",
      "# . . . . . 1 . . . #\n",
      "# # # # # W # I # B #\n"
     ]
    }
   ],
   "source": [
    "grid1.show()"
   ]
  },
  {
   "cell_type": "code",
   "execution_count": 12,
   "id": "d5c1a026-18dd-443d-ab70-5fadd62f5e5e",
   "metadata": {},
   "outputs": [],
   "source": [
    "grid.grid[3,4]='Hallo'"
   ]
  },
  {
   "cell_type": "code",
   "execution_count": 13,
   "id": "3bcde222-5e5f-4d4b-937e-a32b520b1aa8",
   "metadata": {},
   "outputs": [
    {
     "data": {
      "text/plain": [
       "'H'"
      ]
     },
     "execution_count": 13,
     "metadata": {},
     "output_type": "execute_result"
    }
   ],
   "source": [
    "grid.grid[3,4]"
   ]
  },
  {
   "cell_type": "code",
   "execution_count": 31,
   "id": "7cc4a7eb-199d-47f3-b88e-1480934a726f",
   "metadata": {},
   "outputs": [],
   "source": [
    "a =np.zeros((3,5),dtype='object')   "
   ]
  },
  {
   "cell_type": "code",
   "execution_count": 32,
   "id": "c13fd624-014c-4352-89dc-4321cc522edf",
   "metadata": {},
   "outputs": [
    {
     "data": {
      "text/plain": [
       "(3, 5)"
      ]
     },
     "execution_count": 32,
     "metadata": {},
     "output_type": "execute_result"
    }
   ],
   "source": [
    "a.shape"
   ]
  },
  {
   "cell_type": "code",
   "execution_count": 33,
   "id": "513578c0-aac7-4176-bf37-e435505c34f9",
   "metadata": {},
   "outputs": [],
   "source": [
    "a[2,2] = 'Hello'"
   ]
  },
  {
   "cell_type": "code",
   "execution_count": 34,
   "id": "bb18cf39-251b-4043-a592-292ff1611269",
   "metadata": {},
   "outputs": [
    {
     "data": {
      "text/plain": [
       "'Hello'"
      ]
     },
     "execution_count": 34,
     "metadata": {},
     "output_type": "execute_result"
    }
   ],
   "source": [
    "a[2,2]"
   ]
  },
  {
   "cell_type": "code",
   "execution_count": null,
   "id": "e7a8f919-ceea-4b14-91c2-044282960b0a",
   "metadata": {},
   "outputs": [],
   "source": []
  }
 ],
 "metadata": {
  "kernelspec": {
   "display_name": "Python 3 (ipykernel)",
   "language": "python",
   "name": "python3"
  },
  "language_info": {
   "codemirror_mode": {
    "name": "ipython",
    "version": 3
   },
   "file_extension": ".py",
   "mimetype": "text/x-python",
   "name": "python",
   "nbconvert_exporter": "python",
   "pygments_lexer": "ipython3",
   "version": "3.10.6"
  }
 },
 "nbformat": 4,
 "nbformat_minor": 5
}
