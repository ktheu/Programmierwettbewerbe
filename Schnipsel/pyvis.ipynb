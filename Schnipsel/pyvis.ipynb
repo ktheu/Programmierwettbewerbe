{
 "cells": [
  {
   "cell_type": "markdown",
   "id": "1f1ada3a-05b4-4b89-9ce6-9d39bced55a6",
   "metadata": {
    "tags": []
   },
   "source": [
    "## Pyvis\n",
    "\n",
    "[doc](https://pyvis.readthedocs.io/en/latest/)"
   ]
  },
  {
   "cell_type": "code",
   "execution_count": 131,
   "id": "e5cf333a-eaf8-4822-80b5-dbb3e5b4c433",
   "metadata": {},
   "outputs": [],
   "source": [
    "from pyvis.network import Network\n",
    "def makeGraph(s):\n",
    "    '''\n",
    "    s: String mit Graph-Informationen. \n",
    "    \n",
    "    >>> makeGraph('a:b,c - b:d - c:b,d')\n",
    "    {'a': {'b', 'c'}, 'b': {'d'}, 'c': {'b', 'd'}, 'd': set()}\n",
    "    \n",
    "    '''\n",
    "    G  = {}    \n",
    "    s  = s.replace(' ','')\n",
    "    for t1 in s.split('-'):\n",
    "        a = t1.split(':')\n",
    "        k = a[0] \n",
    "        if k not in G:\n",
    "            G[k] = set()\n",
    "        vv = a[1].split(',')\n",
    "        for v in vv:\n",
    "            if v not in G:\n",
    "                G[v]=set()\n",
    "            G[k].add(v)\n",
    "    return G\n",
    "\n",
    "def makeVisGraph(G,height=300, width=300): \n",
    "    h = str(height)+'px'\n",
    "    w = str(width)+'px'\n",
    "    g = Network(height=h, width = w,directed=True, notebook=True)\n",
    "    nodes = [v for v in G]\n",
    "    label = nodes[:]\n",
    "    g.add_nodes(nodes,label=label,size=[10]*len(nodes))\n",
    "    labels = nodes[:]\n",
    "    for v in G:\n",
    "        for w in G[v]:\n",
    "            g.add_edge(v,w)\n",
    "    return g"
   ]
  },
  {
   "cell_type": "code",
   "execution_count": 1,
   "id": "70b00b4a-eb2c-4042-abb0-12824f84617c",
   "metadata": {},
   "outputs": [
    {
     "ename": "NameError",
     "evalue": "name 'makeGraph' is not defined",
     "output_type": "error",
     "traceback": [
      "\u001b[1;31m--------------------------------------------------------------------\u001b[0m",
      "\u001b[1;31mNameError\u001b[0m                          Traceback (most recent call last)",
      "Input \u001b[1;32mIn [1]\u001b[0m, in \u001b[0;36m<cell line: 2>\u001b[1;34m()\u001b[0m\n\u001b[0;32m      1\u001b[0m s \u001b[38;5;241m=\u001b[39m \u001b[38;5;124m'\u001b[39m\u001b[38;5;124m1:2\u001b[39m\u001b[38;5;124m'\u001b[39m\n\u001b[1;32m----> 2\u001b[0m G \u001b[38;5;241m=\u001b[39m \u001b[43mmakeGraph\u001b[49m(s)\n\u001b[0;32m      3\u001b[0m g \u001b[38;5;241m=\u001b[39m makeVisGraph(G,height\u001b[38;5;241m=\u001b[39m\u001b[38;5;241m300\u001b[39m,width \u001b[38;5;241m=\u001b[39m \u001b[38;5;241m500\u001b[39m)\n\u001b[0;32m      4\u001b[0m g\u001b[38;5;241m.\u001b[39mshow(\u001b[38;5;124m'\u001b[39m\u001b[38;5;124mnx.html\u001b[39m\u001b[38;5;124m'\u001b[39m)\n",
      "\u001b[1;31mNameError\u001b[0m: name 'makeGraph' is not defined"
     ]
    }
   ],
   "source": [
    "s = '1:2'\n",
    "G = makeGraph(s)\n",
    "g = makeVisGraph(G,height=300,width = 500)\n",
    "g.show('nx.html')"
   ]
  },
  {
   "cell_type": "code",
   "execution_count": 130,
   "id": "ba37ecf6-2bad-48b7-b464-96e5230b216f",
   "metadata": {},
   "outputs": [
    {
     "name": "stdout",
     "output_type": "stream",
     "text": [
      "Local cdn resources have problems on chrome/safari when used in jupyter-notebook. \n"
     ]
    },
    {
     "data": {
      "text/html": [
       "\n",
       "        <iframe\n",
       "            width=\"500px\"\n",
       "            height=\"600px\"\n",
       "            src=\"nx.html\"\n",
       "            frameborder=\"0\"\n",
       "            allowfullscreen\n",
       "            \n",
       "        ></iframe>\n",
       "        "
      ],
      "text/plain": [
       "<IPython.lib.display.IFrame at 0x1a33d96bc70>"
      ]
     },
     "execution_count": 130,
     "metadata": {},
     "output_type": "execute_result"
    }
   ],
   "source": [
    "\n"
   ]
  },
  {
   "cell_type": "code",
   "execution_count": null,
   "id": "19f9da48-cd37-42ea-9400-e6c69ebecf20",
   "metadata": {},
   "outputs": [],
   "source": []
  }
 ],
 "metadata": {
  "kernelspec": {
   "display_name": "Python 3 (ipykernel)",
   "language": "python",
   "name": "python3"
  },
  "language_info": {
   "codemirror_mode": {
    "name": "ipython",
    "version": 3
   },
   "file_extension": ".py",
   "mimetype": "text/x-python",
   "name": "python",
   "nbconvert_exporter": "python",
   "pygments_lexer": "ipython3",
   "version": "3.10.6"
  }
 },
 "nbformat": 4,
 "nbformat_minor": 5
}
