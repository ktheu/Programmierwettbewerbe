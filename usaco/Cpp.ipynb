{
 "cells": [
  {
   "cell_type": "markdown",
   "id": "9639ccfe-7af5-4adb-a346-3231210a9d16",
   "metadata": {},
   "source": [
    "### C++"
   ]
  },
  {
   "cell_type": "markdown",
   "id": "c6d15dbb-2d1c-4416-ae2e-d83cbf4c8a8a",
   "metadata": {},
   "source": [
    "#### Header"
   ]
  },
  {
   "cell_type": "code",
   "execution_count": null,
   "id": "a2c82288-d761-4e6a-8877-98f22c6d4c3e",
   "metadata": {},
   "outputs": [],
   "source": [
    "#include <bits/stdc++.h>\n",
    "using namespace std;\n",
    "\n",
    "typedef vector<bool> vb;\n",
    "typedef vector<vb> vvb;\n",
    "\n",
    "typedef vector<int> vi;\n",
    "typedef vector<vi> vvi;\n",
    "\n",
    "typedef vector<pair<int, int>> vii;\n",
    "typedef vector<vii> vvii;   \n",
    "\n",
    "typedef long long ll;\n",
    "typedef vector<long long> vll;\n",
    "typedef vector<vll> vvll;\n",
    "\n",
    "typedef vector<pair<int, ll>> vill;\n",
    "typedef vector<vill> vvill;\n",
    "\n",
    "int main(void) {\n",
    "#ifdef _WIN32\n",
    "    freopen(\"C:\\\\Users\\\\khthe\\\\OneDrive\\\\2_Projekte\\\\ccSolutions\\\\USACO\\\\2023open\\\\bronze\\\\rotate_and_shift\\\\input.txt\", \"r\", stdin);\n",
    "#endif\n",
    "    ios_base::sync_with_stdio(false);\n",
    "    cin.tie(NULL);\n",
    "\n",
    "    int N;\n",
    "    cin >> N;"
   ]
  },
  {
   "cell_type": "markdown",
   "id": "ef524333-672b-4df0-839b-1a290fcfa3b3",
   "metadata": {},
   "source": [
    "----\n"
   ]
  },
  {
   "cell_type": "code",
   "execution_count": null,
   "id": "5fb48515-d79e-4cd5-8303-8b919ae8e70b",
   "metadata": {},
   "outputs": [],
   "source": [
    "N = int(input())    \n",
    "# ---- wird zu \n",
    "cin >> N;"
   ]
  },
  {
   "cell_type": "code",
   "execution_count": null,
   "id": "ab78c709-0c26-4a7c-95a7-e8689baf8581",
   "metadata": {},
   "outputs": [],
   "source": [
    "a = list(map(int, input().split()))\n",
    "# ---- wird zu\n",
    "vi a(N);\n",
    "for (int i = 0; i < N; ++i) {\n",
    "    cin >> a[i];\n",
    "}"
   ]
  },
  {
   "cell_type": "code",
   "execution_count": null,
   "id": "321941b2-296d-4ae6-95ec-9e57cfb6e145",
   "metadata": {},
   "outputs": [],
   "source": [
    "a = [0] * (N)\n",
    "# ---- wird zu\n",
    "vi a(N, 0);"
   ]
  },
  {
   "cell_type": "code",
   "execution_count": null,
   "id": "b0a447ab-ce7d-4f52-894e-a2260246944b",
   "metadata": {},
   "outputs": [],
   "source": [
    "b = [0] + a.copy()              # a hat len N\n",
    "# ----wird zu \n",
    "vi b(N + 1, 0);\n",
    "copy(a.begin(), a.end(), have.begin() + 1)"
   ]
  },
  {
   "cell_type": "code",
   "execution_count": null,
   "id": "864264f5-d0eb-466b-9c4e-08f84bf8e53c",
   "metadata": {},
   "outputs": [],
   "source": [
    "m = dict()\n",
    "# ---- wird zu\n",
    "unordered_map<int, vector<int>> m;"
   ]
  },
  {
   "cell_type": "code",
   "execution_count": null,
   "id": "a92a3ebd-07e2-428c-9814-0c5a8f0c2aee",
   "metadata": {},
   "outputs": [],
   "source": [
    "if j not in m: break          # m dict\n",
    "# ---- wird zu\n",
    "if (m.find(j) == m.end()) break;"
   ]
  },
  {
   "cell_type": "code",
   "execution_count": null,
   "id": "6384d0fc-11f0-481d-905e-778bae0e86d2",
   "metadata": {},
   "outputs": [],
   "source": [
    "sum(a) \n",
    "# ---- wird zu\n",
    "accumulate(a.begin(), a.end(), 0)"
   ]
  },
  {
   "cell_type": "code",
   "execution_count": null,
   "id": "be75ca12-790b-42e3-a9e4-e7cda4fcfade",
   "metadata": {},
   "outputs": [],
   "source": [
    "print(ans)\n",
    "# ---- wird zu\n",
    "cout << ans << endl;"
   ]
  },
  {
   "cell_type": "markdown",
   "id": "6e5a89fc-b7e2-45ec-9bff-b07528b7f5aa",
   "metadata": {},
   "source": [
    "----\n"
   ]
  },
  {
   "cell_type": "markdown",
   "id": "1c9ac303-96be-40f1-b46b-dcc6c991bd64",
   "metadata": {},
   "source": [
    "### Debug Funktionen"
   ]
  },
  {
   "cell_type": "code",
   "execution_count": null,
   "id": "b458172b-40f6-4fe4-9892-206ecbff98e4",
   "metadata": {},
   "outputs": [],
   "source": [
    "void printVector(vi v) {\n",
    "    for (auto x : v)\n",
    "        cout << x << \" \";\n",
    "    cout << endl;\n",
    "}"
   ]
  }
 ],
 "metadata": {
  "kernelspec": {
   "display_name": "Python 3 (ipykernel)",
   "language": "python",
   "name": "python3"
  },
  "language_info": {
   "codemirror_mode": {
    "name": "ipython",
    "version": 3
   },
   "file_extension": ".py",
   "mimetype": "text/x-python",
   "name": "python",
   "nbconvert_exporter": "python",
   "pygments_lexer": "ipython3",
   "version": "3.11.2"
  }
 },
 "nbformat": 4,
 "nbformat_minor": 5
}
