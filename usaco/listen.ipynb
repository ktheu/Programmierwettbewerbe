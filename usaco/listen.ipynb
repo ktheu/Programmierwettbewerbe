{
 "cells": [
  {
   "cell_type": "markdown",
   "id": "3c415588-bcfb-47eb-8ba8-c6812ac8d4bb",
   "metadata": {},
   "source": [
    "### Listen\n",
    "\n",
    "#### Umsortieren"
   ]
  },
  {
   "cell_type": "code",
   "execution_count": 4,
   "id": "c205d89e-de4c-4da4-9174-1c276a2835bf",
   "metadata": {},
   "outputs": [],
   "source": [
    "def neueReihenfolge(a, b, reverse=False):\n",
    "    \"\"\"\n",
    "    a Liste, b Liste mit neuer Reihenfolge für die Elemente von a\n",
    "    returns: Liste a umgruppiert nach neuer Reihenfolge\n",
    "\n",
    "    >>> a = [5,3,9,10,11]\n",
    "    >>> b = [0,3,2,4,1]\n",
    "    >>> neueReihenfolge(a,b)\n",
    "    [5, 11, 9, 3, 10]\n",
    "    \"\"\"\n",
    "    return [x[0] for x in sorted([y for y in zip(a, b)], key=lambda y: y[1], reverse=reverse)]\n",
    "\n",
    "import doctest\n",
    "doctest.run_docstring_examples(neueReihenfolge,globals(),optionflags=doctest.NORMALIZE_WHITESPACE)   "
   ]
  },
  {
   "cell_type": "markdown",
   "id": "d8b82275-24e9-4293-9a64-e4160d1fe770",
   "metadata": {},
   "source": [
    "#### Alle Teillisten"
   ]
  },
  {
   "cell_type": "code",
   "execution_count": 4,
   "id": "9ac6aac0-504e-4815-b55d-a99134130105",
   "metadata": {},
   "outputs": [],
   "source": [
    "import itertools as it\n",
    "def sublists(a,mi,ma):\n",
    "    '''\n",
    "    a: Liste\n",
    "    returns: Liste mit allen Teillisten von a die mindestens mi Elemente haben und maximal ma\n",
    "\n",
    "    >>> sublists([1,2,3,4],1,2)\n",
    "    [[1], [2], [3], [4], [1, 2], [1, 3], [1, 4], [2, 3], [2, 4], [3, 4]]\n",
    "    '''\n",
    "    tmp = []\n",
    "    for x in [list(x) for k in range(1,len(a)+1) for x in it.combinations(a, k)]:\n",
    "        if mi <= len(x) <= ma:\n",
    "            tmp.append(x)\n",
    "    return tmp\n",
    "\n",
    "import doctest\n",
    "doctest.run_docstring_examples(sublists,globals(),optionflags=doctest.NORMALIZE_WHITESPACE)    "
   ]
  },
  {
   "cell_type": "markdown",
   "id": "ead32dd9-f55e-4e77-b561-8dd67d9828aa",
   "metadata": {},
   "source": [
    "#### Nach links und rechts verschieben"
   ]
  },
  {
   "cell_type": "code",
   "execution_count": 6,
   "id": "230c79ac-f060-480d-a6b7-7630cb14ca5a",
   "metadata": {},
   "outputs": [],
   "source": [
    "def shiftLeft(a,k):\n",
    "    '''\n",
    "    >>> shiftLeft([3,4,5,9],1)\n",
    "    [4, 5, 9, 3]\n",
    "    '''\n",
    "    idx = k%len(a)\n",
    "    return a[idx:]+a[:idx]\n",
    "\n",
    "def shiftRight(a,k):\n",
    "    '''\n",
    "    >>> shiftRight([3,4,5,9],1)\n",
    "    [9, 3, 4, 5]\n",
    "    '''\n",
    "    return shiftLeft(a,-k)\n",
    "\n",
    "import doctest\n",
    "doctest.run_docstring_examples(shiftLeft,globals(),optionflags=doctest.NORMALIZE_WHITESPACE)   \n",
    "doctest.run_docstring_examples(shiftRight,globals(),optionflags=doctest.NORMALIZE_WHITESPACE)   "
   ]
  },
  {
   "cell_type": "markdown",
   "id": "a6d36ec0-1c5d-4747-9cca-f56e79996f0b",
   "metadata": {},
   "source": [
    "#### Tauschen von Plätzen: Werte in einer Liste verschieben"
   ]
  },
  {
   "cell_type": "code",
   "execution_count": 9,
   "id": "5cd4b456-2dbf-4be1-bb91-b32a8d7ae34f",
   "metadata": {},
   "outputs": [],
   "source": [
    "def pushValuesWithIdxList(a, idxList):\n",
    "    '''\n",
    "    a: Liste\n",
    "    idxList: Liste mit indizes von a, der Wert an der Stelle idxList[i] soll an die Stelle idxList[i+1], mit wrap around\n",
    "    returns: None, a wird inplace verändert\n",
    "\n",
    "    >>> a = [0, 1, 2, 3, 4]\n",
    "    >>> pushValuesWithIdxList(a, [0, 2, 3])\n",
    "    >>> a\n",
    "    [3, 1, 0, 2, 4]\n",
    "    '''\n",
    "\n",
    "    b = a[idxList[0]]\n",
    "    for k in range(len(idxList),1,-1):\n",
    "        a[idxList[k%len(idxList)]] = a[idxList[k-1]]\n",
    "    a[idxList[1]] = b\n",
    "\n",
    "import doctest\n",
    "doctest.run_docstring_examples(pushValuesWithIdxList,globals(),optionflags=doctest.NORMALIZE_WHITESPACE)   "
   ]
  },
  {
   "cell_type": "markdown",
   "id": "1268ba8f-884d-4107-b6e1-475fc5aead3f",
   "metadata": {},
   "source": [
    "#### Einfügen von Werten"
   ]
  },
  {
   "cell_type": "code",
   "execution_count": 30,
   "id": "dc139311-accb-4154-a602-aa24c295fb8f",
   "metadata": {},
   "outputs": [],
   "source": [
    "def platziere(a, refwert, x, links=True, nah=True, leer=0):\n",
    "    '''\n",
    "    a: Liste, refwert: Referenzwert durch den die Position des einzufügenden Werts festgelegt wird.\n",
    "    x: Wert der eingefügt werden soll\n",
    "    leer = Wert, der eine Leerstelle andeutet\n",
    "    \n",
    "    Der Wert x wird an eine Leerstelle links und nahe dem Referenzwert eingefügt.\n",
    "\n",
    "    >>> a = [0, 0, 2, 4, 6, 0]\n",
    "    >>> platziere(a, 4, 3)\n",
    "    >>> a\n",
    "    [0, 3, 2, 4, 6, 0]\n",
    "\n",
    "    >>> a = [0, 0, 2, 4, 6, 0]\n",
    "    >>> platziere(a, 4, 3, nah=False)\n",
    "    >>> a\n",
    "    [3, 0, 2, 4, 6, 0]\n",
    "\n",
    "    >>> a = [0, 0, 2, 4, 6, 0, 0]\n",
    "    >>> platziere(a, 4, 3, nah=True, links=False)\n",
    "    >>> a\n",
    "    [0, 0, 2, 4, 6, 3, 0]\n",
    "\n",
    "    >>> a = [0, 0, 2, 4, 6, 0, 0]\n",
    "    >>> platziere(a, 4, 3, nah=False, links=False)\n",
    "    >>> a\n",
    "    [0, 0, 2, 4, 6, 0, 3]\n",
    "    '''\n",
    " \n",
    "    if links and nah:\n",
    "        k = a.index(refwert)\n",
    "        while k > 0:\n",
    "            k-=1\n",
    "            if a[k] == 0:\n",
    "                a[k] = x\n",
    "                return\n",
    "\n",
    "    if links and not nah:\n",
    "        k = a.index(leer)\n",
    "        assert k < a.index(refwert)\n",
    "        a[k] = x\n",
    "        return\n",
    "\n",
    "    if not links and nah:\n",
    "        k = a.index(refwert)\n",
    "        for i in range(k+1,len(a)):\n",
    "            if a[i] == 0:\n",
    "                a[i] = x\n",
    "                break\n",
    "\n",
    "    if not links and not nah:\n",
    "        for i in range(len(a)-1,-1,-1):\n",
    "            if a[i] == 0:\n",
    "                a[i] = x\n",
    "                break\n",
    "\n",
    "import doctest\n",
    "doctest.run_docstring_examples(platziere,globals(),optionflags=doctest.NORMALIZE_WHITESPACE)   "
   ]
  },
  {
   "cell_type": "code",
   "execution_count": 54,
   "id": "2cbb6e0d-5d9a-49ea-aa79-19cffed56fd4",
   "metadata": {},
   "outputs": [
    {
     "name": "stdout",
     "output_type": "stream",
     "text": [
      "[-1, 1, 3, 4, 6, 0]\n",
      "[-1, 1, 0, 4, 6, 3]\n",
      "[-1, 0, 1, 4, 6, 3]\n"
     ]
    }
   ],
   "source": [
    "def platziere(a, b, leer=0):\n",
    "    '''\n",
    "    a: Liste mit Leerstellen, b: kleinere Liste \n",
    "    returns: Iterator von möglichen Listen c, die aus a entstehen, wenn die Elemente von b\n",
    "    ordnungstreu an einer Leerstelle von a eingefügt werden.\n",
    "\n",
    "    >>> a = [-1,0,0,4,6,0]\n",
    "    >>> b = [1,3]\n",
    "    >>> it = platziere(a,b)\n",
    "    >>> next(it)\n",
    "    [-1, 1, 3, 4, 6, 0]\n",
    "    >>> next(it)\n",
    "    [-1, 1, 0, 4, 6, 3]\n",
    "    >>> next(it)\n",
    "    [-1, 0, 1, 4, 6, 3]\n",
    "    '''\n",
    "    from itertools import combinations\n",
    "    blen = len(b)\n",
    "    aleer = [i for i in range(len(a)) if a[i] == leer]\n",
    "    for x in combinations(aleer, blen):\n",
    "        c = a.copy()\n",
    "        for i in range(blen):\n",
    "            c[x[i]] = b[i]\n",
    "        yield c\n",
    "\n",
    "a = [-1,0,0,4,6,0]\n",
    "b = [1,3]\n",
    "for x in platziere(a,b):\n",
    "    print(x)\n",
    "\n",
    "\n",
    "import doctest\n",
    "doctest.run_docstring_examples(platziere,globals(),optionflags=doctest.NORMALIZE_WHITESPACE)  "
   ]
  },
  {
   "cell_type": "code",
   "execution_count": null,
   "id": "2f71351f-1f4b-4bc2-be53-42d1de494165",
   "metadata": {},
   "outputs": [],
   "source": []
  }
 ],
 "metadata": {
  "kernelspec": {
   "display_name": "Python 3 (ipykernel)",
   "language": "python",
   "name": "python3"
  },
  "language_info": {
   "codemirror_mode": {
    "name": "ipython",
    "version": 3
   },
   "file_extension": ".py",
   "mimetype": "text/x-python",
   "name": "python",
   "nbconvert_exporter": "python",
   "pygments_lexer": "ipython3",
   "version": "3.11.2"
  }
 },
 "nbformat": 4,
 "nbformat_minor": 5
}
