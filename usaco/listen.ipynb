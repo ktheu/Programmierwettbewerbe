{
 "cells": [
  {
   "cell_type": "markdown",
   "id": "3c415588-bcfb-47eb-8ba8-c6812ac8d4bb",
   "metadata": {},
   "source": [
    "### Listen\n",
    "\n",
    "#### Umsortieren"
   ]
  },
  {
   "cell_type": "code",
   "execution_count": 4,
   "id": "c205d89e-de4c-4da4-9174-1c276a2835bf",
   "metadata": {},
   "outputs": [],
   "source": [
    "def neueReihenfolge(a, b, reverse=False):\n",
    "    \"\"\"\n",
    "    a Liste, b Liste mit neuer Reihenfolge für die Elemente von a\n",
    "    returns: Liste a umgruppiert nach neuer Reihenfolge\n",
    "\n",
    "    >>> a = [5,3,9,10,11]\n",
    "    >>> b = [0,3,2,4,1]\n",
    "    >>> neueReihenfolge(a,b)\n",
    "    [5, 11, 9, 3, 10]\n",
    "    \"\"\"\n",
    "    return [x[0] for x in sorted([y for y in zip(a, b)], key=lambda y: y[1], reverse=reverse)]\n",
    "\n",
    "import doctest\n",
    "doctest.run_docstring_examples(neueReihenfolge,globals(),optionflags=doctest.NORMALIZE_WHITESPACE)   "
   ]
  },
  {
   "cell_type": "markdown",
   "id": "d8b82275-24e9-4293-9a64-e4160d1fe770",
   "metadata": {},
   "source": [
    "#### Alle Teillisten"
   ]
  },
  {
   "cell_type": "code",
   "execution_count": 4,
   "id": "9ac6aac0-504e-4815-b55d-a99134130105",
   "metadata": {},
   "outputs": [],
   "source": [
    "import itertools as it\n",
    "def sublists(a,mi,ma):\n",
    "    '''\n",
    "    a: Liste\n",
    "    returns: Liste mit allen Teillisten von a die mindestens mi Elemente haben und maximal ma\n",
    "\n",
    "    >>> sublists([1,2,3,4],1,2)\n",
    "    [[1], [2], [3], [4], [1, 2], [1, 3], [1, 4], [2, 3], [2, 4], [3, 4]]\n",
    "    '''\n",
    "    tmp = []\n",
    "    for x in [list(x) for k in range(1,len(a)+1) for x in it.combinations(a, k)]:\n",
    "        if mi <= len(x) <= ma:\n",
    "            tmp.append(x)\n",
    "    return tmp\n",
    "\n",
    "import doctest\n",
    "doctest.run_docstring_examples(sublists,globals(),optionflags=doctest.NORMALIZE_WHITESPACE)    "
   ]
  },
  {
   "cell_type": "markdown",
   "id": "ead32dd9-f55e-4e77-b561-8dd67d9828aa",
   "metadata": {},
   "source": [
    "#### Nach links und rechts verschieben"
   ]
  },
  {
   "cell_type": "code",
   "execution_count": 6,
   "id": "230c79ac-f060-480d-a6b7-7630cb14ca5a",
   "metadata": {},
   "outputs": [],
   "source": [
    "def shiftLeft(a,k):\n",
    "    '''\n",
    "    >>> shiftLeft([3,4,5,9],1)\n",
    "    [4, 5, 9, 3]\n",
    "    '''\n",
    "    idx = k%len(a)\n",
    "    return a[idx:]+a[:idx]\n",
    "\n",
    "def shiftRight(a,k):\n",
    "    '''\n",
    "    >>> shiftRight([3,4,5,9],1)\n",
    "    [9, 3, 4, 5]\n",
    "    '''\n",
    "    return shiftLeft(a,-k)\n",
    "\n",
    "import doctest\n",
    "doctest.run_docstring_examples(shiftLeft,globals(),optionflags=doctest.NORMALIZE_WHITESPACE)   \n",
    "doctest.run_docstring_examples(shiftRight,globals(),optionflags=doctest.NORMALIZE_WHITESPACE)   "
   ]
  },
  {
   "cell_type": "markdown",
   "id": "a6d36ec0-1c5d-4747-9cca-f56e79996f0b",
   "metadata": {},
   "source": [
    "#### Tauschen von Plätzen: Werte in einer Liste verschieben"
   ]
  },
  {
   "cell_type": "code",
   "execution_count": 9,
   "id": "5cd4b456-2dbf-4be1-bb91-b32a8d7ae34f",
   "metadata": {},
   "outputs": [],
   "source": [
    "def pushValuesWithIdxList(a, idxList):\n",
    "    '''\n",
    "    a: Liste\n",
    "    idxList: Liste mit indizes von a, der Wert an der Stelle idxList[i] soll an die Stelle idxList[i+1], mit wrap around\n",
    "    returns: None, a wird inplace verändert\n",
    "\n",
    "    >>> a = [0, 1, 2, 3, 4]\n",
    "    >>> pushValuesWithIdxList(a, [0, 2, 3])\n",
    "    >>> a\n",
    "    [3, 1, 0, 2, 4]\n",
    "    '''\n",
    "\n",
    "    b = a[idxList[0]]\n",
    "    for k in range(len(idxList),1,-1):\n",
    "        a[idxList[k%len(idxList)]] = a[idxList[k-1]]\n",
    "    a[idxList[1]] = b\n",
    "\n",
    "import doctest\n",
    "doctest.run_docstring_examples(pushValuesWithIdxList,globals(),optionflags=doctest.NORMALIZE_WHITESPACE)   "
   ]
  },
  {
   "cell_type": "code",
   "execution_count": null,
   "id": "047cdfe7-100b-476a-9b95-08a72253e788",
   "metadata": {},
   "outputs": [],
   "source": []
  }
 ],
 "metadata": {
  "kernelspec": {
   "display_name": "Python 3 (ipykernel)",
   "language": "python",
   "name": "python3"
  },
  "language_info": {
   "codemirror_mode": {
    "name": "ipython",
    "version": 3
   },
   "file_extension": ".py",
   "mimetype": "text/x-python",
   "name": "python",
   "nbconvert_exporter": "python",
   "pygments_lexer": "ipython3",
   "version": "3.11.2"
  }
 },
 "nbformat": 4,
 "nbformat_minor": 5
}
