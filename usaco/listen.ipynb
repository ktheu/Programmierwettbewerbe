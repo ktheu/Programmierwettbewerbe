{
 "cells": [
  {
   "cell_type": "markdown",
   "id": "180992bb-c533-4254-8ddd-28b4df0fc1f7",
   "metadata": {},
   "source": [
    "### Listen\n",
    "\n",
    "#### Alle Teillisten"
   ]
  },
  {
   "cell_type": "code",
   "execution_count": 4,
   "id": "9ac6aac0-504e-4815-b55d-a99134130105",
   "metadata": {},
   "outputs": [],
   "source": [
    "import itertools as it\n",
    "def sublists(a,mi,ma):\n",
    "    '''\n",
    "    a: Liste\n",
    "    returns: Liste mit allen Teillisten von a die mindestens mi Elemente haben und maximal ma\n",
    "\n",
    "    >>> sublists([1,2,3,4],1,2)\n",
    "    [[1], [2], [3], [4], [1, 2], [1, 3], [1, 4], [2, 3], [2, 4], [3, 4]]\n",
    "    '''\n",
    "    tmp = []\n",
    "    for x in [list(x) for k in range(1,len(a)+1) for x in it.combinations(a, k)]:\n",
    "        if mi <= len(x) <= ma:\n",
    "            tmp.append(x)\n",
    "    return tmp\n",
    "\n",
    "import doctest\n",
    "doctest.run_docstring_examples(sublists,globals(),optionflags=doctest.NORMALIZE_WHITESPACE)    "
   ]
  },
  {
   "cell_type": "markdown",
   "id": "ead32dd9-f55e-4e77-b561-8dd67d9828aa",
   "metadata": {},
   "source": [
    "#### Nach links und rechts verschieben"
   ]
  },
  {
   "cell_type": "code",
   "execution_count": 5,
   "id": "230c79ac-f060-480d-a6b7-7630cb14ca5a",
   "metadata": {},
   "outputs": [],
   "source": [
    "def shiftLeft(a,k):\n",
    "    idx = k%len(a)\n",
    "    return a[idx:]+a[:idx]\n",
    "\n",
    "def shiftRight(a,k):\n",
    "    return shiftLeft(a,-k)"
   ]
  },
  {
   "cell_type": "code",
   "execution_count": 7,
   "id": "03e2d665-4080-4357-8dc2-60b6ce56f4dc",
   "metadata": {},
   "outputs": [],
   "source": [
    "def delete_col(grid,k):\n",
    "    ''' deletes inplace column k '''\n",
    "    for row in grid:\n",
    "        del row[k]\n",
    "\n",
    "def delete_row(grid,k):\n",
    "    ''' deletes inplace row k '''\n",
    "    del grid[k]"
   ]
  }
 ],
 "metadata": {
  "kernelspec": {
   "display_name": "Python 3 (ipykernel)",
   "language": "python",
   "name": "python3"
  },
  "language_info": {
   "codemirror_mode": {
    "name": "ipython",
    "version": 3
   },
   "file_extension": ".py",
   "mimetype": "text/x-python",
   "name": "python",
   "nbconvert_exporter": "python",
   "pygments_lexer": "ipython3",
   "version": "3.11.2"
  }
 },
 "nbformat": 4,
 "nbformat_minor": 5
}
