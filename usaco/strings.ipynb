{
 "cells": [
  {
   "cell_type": "markdown",
   "id": "180992bb-c533-4254-8ddd-28b4df0fc1f7",
   "metadata": {},
   "source": [
    "### Strings\n",
    "\n",
    "#### Abschnitte "
   ]
  },
  {
   "cell_type": "code",
   "execution_count": 1,
   "id": "8b92a2b3-31c6-4f72-a3e8-4be36d532998",
   "metadata": {},
   "outputs": [],
   "source": [
    "def abschnitte(s, c):\n",
    "    '''\n",
    "    s: string, c: zeichen \n",
    "    returns: Liste mit den Intervallen der Vorkommen von c in s\n",
    "    \n",
    "    >>> abschnitte('EEFFBEEEFFF',c='F')\n",
    "    [(2, 3), (8, 10)]\n",
    "    '''\n",
    "    sx = ':'+s+':'               #  : Begrenzer, darf sonst keine Rolle spielen, bei Bedarf ändern\n",
    "    positions = [i for i in range(len(sx)) if sx[i] != c]\n",
    "    return [(x[0],x[1]-2) for x in zip(positions, positions[1:]) if x[0] + 1 < x[1]]\n",
    "\n",
    "import doctest\n",
    "doctest.run_docstring_examples(abschnitte,globals(),optionflags=doctest.NORMALIZE_WHITESPACE)"
   ]
  },
  {
   "cell_type": "code",
   "execution_count": 163,
   "id": "0676a003-36ec-4880-8997-95815c480d8e",
   "metadata": {},
   "outputs": [],
   "source": [
    "def rand(s, c):\n",
    "    '''\n",
    "    s: string, c: zeichen\n",
    "    returns: die Anzahl der Zeichen c an den Rändern von s\n",
    "\n",
    "    >>> rand('FFBBEE',c='F')\n",
    "    2\n",
    "    >>> rand('BFFBBEE',c='F')\n",
    "    0\n",
    "    >>> rand('FFFBBFFFFEEFF',c='F')\n",
    "    5\n",
    "\n",
    "    '''\n",
    "    positions = [i for i in range(len(s)) if s[i] != c]\n",
    "    return positions[0] + len(s) - 1 - positions[-1]\n",
    "\n",
    "import doctest\n",
    "doctest.run_docstring_examples(rand,globals(),optionflags=doctest.NORMALIZE_WHITESPACE)"
   ]
  },
  {
   "cell_type": "markdown",
   "id": "5e0ddace-01c5-417c-b444-dcc27f8cb4f8",
   "metadata": {},
   "source": [
    "#### Abstände"
   ]
  },
  {
   "cell_type": "code",
   "execution_count": 2,
   "id": "9c68fd83-940f-40e0-b372-2c9eae77d245",
   "metadata": {},
   "outputs": [],
   "source": [
    "def linksRechtsAbstaende(s, c):\n",
    "    '''\n",
    "    s: string, c: zeichen\n",
    "    returns: dict, das dem Index des Zeichens c in s den linken und rechten Abstand zu dem nächsten Zeichen c zuordnet\n",
    "\n",
    "    >>> linksRechtsAbstaende('GG...G.', 'G')\n",
    "    {0: (0, 0), 1: (0, 3), 5: (3, 1)}\n",
    "    '''\n",
    "    m = dict()\n",
    "    pp = [i for i in range(len(s)) if s[i] == c]\n",
    "    ppx = [-1]+pp+[len(s)]\n",
    "    diff = [ppx[i+1]-ppx[i]-1 for i in range(len(pp)+1)]\n",
    "    for i in range(len(pp)):\n",
    "        m[pp[i]] = (diff[i],diff[i+1])\n",
    "    return m\n",
    "\n",
    "import doctest\n",
    "doctest.run_docstring_examples(linksRechtsAbstaende,globals(),optionflags=doctest.NORMALIZE_WHITESPACE)"
   ]
  },
  {
   "cell_type": "code",
   "execution_count": null,
   "id": "e622c619-657c-4e95-a467-19c359ee2f78",
   "metadata": {},
   "outputs": [],
   "source": []
  }
 ],
 "metadata": {
  "kernelspec": {
   "display_name": "Python 3 (ipykernel)",
   "language": "python",
   "name": "python3"
  },
  "language_info": {
   "codemirror_mode": {
    "name": "ipython",
    "version": 3
   },
   "file_extension": ".py",
   "mimetype": "text/x-python",
   "name": "python",
   "nbconvert_exporter": "python",
   "pygments_lexer": "ipython3",
   "version": "3.11.2"
  }
 },
 "nbformat": 4,
 "nbformat_minor": 5
}
