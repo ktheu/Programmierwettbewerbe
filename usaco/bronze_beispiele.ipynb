{
 "cells": [
  {
   "cell_type": "markdown",
   "id": "37e47430-b946-45f6-bbe5-4588c713a771",
   "metadata": {},
   "source": [
    "## USACO - Bronze Beispiele"
   ]
  },
  {
   "cell_type": "markdown",
   "id": "754b2868-8dc7-4575-8b75-c9182fa96fad",
   "metadata": {},
   "source": [
    "### 2023 December \n",
    "\n",
    "#### Candy\n",
    "\n",
    "\n",
    "<img src='candyCane.png' width='700'>\n",
    "\n",
    "Wir verfolgen in der Variablen t (taken), wieviel schon von einem Candy gegessen wurde und in der Variablen e (eat), wieviel die jeweilige Kuh essen kann. Wenn taken größer gleich der Candylänge ist, beenden wir den Schleifendurchgang vorzeitig\n",
    "\n",
    "#### Contact Tracing\n",
    "\n",
    "<img src='contact1.png'>\n",
    "<img src='contact2.png'>\n",
    "\n",
    "Es kommt nur auf die Länge der 1-Abschnitte an und ob sie am Rand sind oder nicht. Wir berechnen für jeden Abschnitt die maximal möglichen Tage.\n",
    "Das Minimum aller Werte ist der Wert tage. Für jeden Abschnitt berechnen wir dann die minimale Anzahl von Kühen, die ihn in tage Tagen erzeugen kann.\n",
    "\n",
    "#### Farmer John actually farms\n",
    "\n",
    "<img src='farm1.png' width='750'>\n",
    "<img src='farm2.png'>\n",
    "<img src='farm3.png'>\n",
    "\n",
    "Wenn die Pflanzen nach den t-Werten sortiert sind, muss man nur die jeweils nachfolgenden vergleichen, nicht mehr jede mit jeder."
   ]
  },
  {
   "cell_type": "markdown",
   "id": "5610607a-2970-488f-9eea-e7c7b4302daf",
   "metadata": {},
   "source": [
    "### 2023 Open\n",
    "\n",
    "#### FEB\n",
    "\n",
    "Brute-force Ansatz für eine Teillösung und um schneller über verschiedene Eingaben das Muster zu finden.\n",
    "Wir betrachten den String abschnittsweise. Die Abschnitte sind eingeschlossene F-Folgen oder solche am Rand. Es interessieren\n",
    "uns nur die Längen der Abschnitte und ob sie durch gleichartige oder ungleichartige Kühe eingeschlossen sind oder Ränder sind.\n",
    "Ja nach gerader/ungerader Länge gibt es unterschiedlich viele Möglichkeiten. Wenn keine Randfolgen vorhanden sind, sind auch die\n",
    "kombinierten Längen immer im Zweiterabschnitt. Es reicht jeweils das Minimum und Maximum zu berechnen.\n",
    "\n",
    "#### MooLanguae\n",
    "\n",
    "Brute-force: Die erste Schleife geht über die mögliche Anzahl der intransitiven Verben. Gegeben diese Zahl,  probiert man absteigend die Anzahl der möglichen transitiven Verben aus. Die Anzahl der verwendeten transitiven und intransitiven Verben vermindert um die verfügbaren Konjunktionen bestimmt, wieviele Punkte vorhanden sein müssen. Hat man für eine Anzahl transitiver Verben einen besseren Satz gefunden, kann man aus der inneren Schleife raus. \n",
    "\n",
    "#### Rotate und Shift\n",
    "\n",
    "<img src='rotateAndShift.png'>\n",
    "\n",
    "Wir betrachten 1 Tanzschritt und 1 shift nach links als Permutation. Permutationen können wir auch für sehr große Zahlen T wiederholen.\n",
    "Am Ende müssen wir wieder T Schritte nach rechts.\n"
   ]
  },
  {
   "cell_type": "markdown",
   "id": "e731b81e-fe2c-4fff-9162-1317af62fe38",
   "metadata": {},
   "source": [
    "### 2023 Februar\n",
    "\n",
    "#### Hungry Cow\n",
    "\n",
    "Wir updaten an jedem Liefertermin, wieviel schon gegessen wurde und was an Rest noch da ist.\n",
    "\n",
    "\n",
    "#### Stamp Grid\n",
    "\n",
    "brute-force: Wir stempeln an jeder Position und jeder Drehrichtung, sofern dadurch kein ungültiges Bild entsteht. Zum Schluss schauen wir,\n",
    "ob das gewünschte Muster entstanden ist.\n",
    "\n",
    "\n",
    "#### Mooloo\n",
    "\n",
    "Wir berechnen für jeden watch-Tag, ob das bisherige Abo verlängert werden soll, oder ein neues abgeschlossen werden soll. "
   ]
  },
  {
   "cell_type": "markdown",
   "id": "e7a444ad-7b4c-41b4-98f1-d490398b1f45",
   "metadata": {},
   "source": [
    "### 2023 Januar \n",
    "\n",
    "#### Leaders\n",
    "\n",
    "Es gibt zwei Möglichkeiten, Leader zu sein:\n",
    "- (1) alle Elemente des eigenen breeds sind in der Liste\n",
    "- (2) der andere Leader ist in der Liste\n",
    "\n",
    "Beobachtungen:\n",
    "\n",
    "- (2) kann nicht auf beide Leader zutreffen, da der spätere Index den früheren nicht in der Liste enthalten kann.\n",
    "- (1) kann nur für den jeweils frühesten Index zutreffen.\n",
    "\n",
    "#### Air Conditioning\n",
    "\n",
    "Brute force: wir probieren alle Teilmengen von AirConditioner aus.\n",
    "\n",
    "#### Moo Operations\n",
    "\n",
    "Wenn ein O in der Mitte vorkommt geht das immer. Es müssen nur die überflüssigen Zeichen entfernt und die angrenzenden gegebenenfalls umgewandelt werden.\n"
   ]
  },
  {
   "cell_type": "markdown",
   "id": "d2d3347b-c6ff-4b78-af3d-ff5edf5ce6c6",
   "metadata": {},
   "source": [
    "### 2022 December\n",
    "\n",
    "#### Cow College\n",
    "\n",
    "Complete Search: wir probieren alle sinnvollen Tuition-Werte aus\n",
    "\n",
    "\n",
    "#### Feeding the Cows \n",
    "\n",
    "Wir platzieren den patch immer soweit rechts wie möglich, d.h. alle noch zu versorgenden Kühe bekommen einen patch bei i+k. Nur am Ende muss man aufpassen, dass man die patches richtig setzt. - [AlphaStar](https://www.youtube.com/watch?v=dWbMfohtudg)\n",
    "\n",
    "\n",
    "\n",
    "#### Reverse Engineering\n",
    "\n",
    "Wir müssen Spalten finden, bei denen ein Typ von Input genau einem Typ von Output zugeordnet ist. Dann können wir diese\n",
    "Spalte und die entsprechenden Zeilen löschen. Das machen wir bis wir fertig sind. Genau betrachten: wann sind wir fertig?\n",
    "Es empfiehlt sich, Funktionen zum Zeilen und Spaltenlöschen bereit zu halten.\n"
   ]
  },
  {
   "cell_type": "markdown",
   "id": "c502ba4a-b6c1-4ad5-8421-a6edd400cbb1",
   "metadata": {},
   "source": [
    "### 2022 Open\n",
    "\n",
    "#### Photoshoot\n",
    "\n",
    "Der String hat eine gerade Länge N. Dann kann es nützlich sein, den String in Zweierpakete aufzuteilen. \n",
    "\n",
    "\n",
    "<img src='photoshoot.png' width='601'>\n",
    "\n",
    "#### Counting Liars\n",
    "\n",
    "Simple brute force\n",
    "\n",
    "<img src='countingLiars.png' width='601'>"
   ]
  },
  {
   "cell_type": "markdown",
   "id": "a35d2c22-da72-4d69-b1ff-db644db50152",
   "metadata": {},
   "source": [
    "### 2022 Februar\n",
    "\n",
    "#### sleeping in class\n",
    "\n",
    "Die Zahl k, die zum Schluss gleich sein soll, kennen wir nicht. Je kleiner sie ist, desto weniger Operationen waren nötig. Wir probieren alle ks aufsteigend aus, indem wir von links kommend aufaddieren.\n",
    "\n",
    "\n",
    "#### photoshoot2\n",
    "\n",
    "Wir gehen durch die oberen Zahlen und streichen die weg, die in derselben Reihenfolge wie unten stehen. Wenn wir unten fertig sind, zählen wir die übriggebliebenen. Die müssen verschoben werden.\n",
    "\n",
    "\n",
    "\n",
    "#### blocks\n",
    "\n",
    "Brute force: wir probieren alle Möglichkeiten aus\n",
    "\n",
    "\n"
   ]
  },
  {
   "cell_type": "markdown",
   "id": "d8fa3157-265b-4c84-adc0-5c7de7da8e6e",
   "metadata": {},
   "source": [
    "### 2022 Januar\n",
    "\n",
    "#### herdle\n",
    "\n",
    "Listen oder dicts anlegen, die zählen, wieviele Zeichen im guess und im korrekten grid vorkommen und wieviele richtig geraten wurden. Daraus kann man die Antwort berechnen. \n",
    "\n",
    "#### dice\n",
    "\n",
    "Wir schreiben uns eine Funktion, die prüft, ob dice A einen anderen dice B schlägt. Wenn dies der Fall ist, suchen wir mit brute force einen dice C, der A schlägt, aber B nicht. v\n",
    "\n",
    "#### draught\n",
    "\n",
    "Wir versuchen zunächst ein brute force: wir nehmen an, das für alle gleiche Level sei k. Wir gehen sequentiell durch, und versuchen alle auf k zu setzen und ählen dabei, wieviel bags of corn wir verfüttern müssen. Falls es nicht geht, kommt das k nicht in Frage.\n",
    "\n",
    "Wir gehen von den ersten beiden cows aus. Die cow an Index 1 muss mindestens auf den Level von 0 kommen. Das pflanzt sich weiter nach rechts fort. wenn wir dabei auf eine Zahl stoßen, die niedriger ist als die bisherige Konstante müssen wir die vorderen Zahlen auch reduzireen. Das geht aber nur, wenn das eine gerade Anzahl isten.\n",
    "Mit dem brute force Algorithmus können wir uns durch zufällige Versuche weiter Beispiele generieren, von denen wir dann das Ergebnis wissen.\n",
    "\n",
    "Ideen: Brute force (reicht nur für die Hälfte), vom ersten Element ausgehend die Folgen schrittweise nachverfolgen.\n",
    "\n",
    "\n"
   ]
  },
  {
   "cell_type": "markdown",
   "id": "29a0f19e-c7fd-4f3d-9eed-93e3f0f264bc",
   "metadata": {},
   "source": [
    "### 2021 December\n",
    "\n",
    "#### Lonely Photo\n",
    "\n",
    "Wir betrachten zunächst nur die G-Positionen. Wir bestimmen die Abstände a, b zu den nächstens Gs links und rechts. Daraus berechnen wir die Anzahl möglicher Bilder, die nur dieses eine G enthalten.\n",
    "\n",
    "#### Air Cownditioning\n",
    "\n",
    "Wir bilden zunächst die Liste der Differenzen zwischen tatsächlicher und gewünschter Temperatur. Dann fügen wir noch eine Null am Anfang hinzu (unsere Zieltemperatur). Von dieser Liste bilden wir die Differenzliste und beobachten die Wirkung eines Befehls auf diese Liste.\n",
    "\n",
    "#### Walking Home\n",
    "Für Anfangsrichtung R gilt:\n",
    "Bei einem Wechsel müssen die obere und rechte Randbahn frei sein. Zwei Wechsel sind durch eine Zahl 1..N-1 gekennzeichnet"
   ]
  },
  {
   "cell_type": "markdown",
   "id": "3f6bdbed-75c5-41db-9ecc-791d6495ad04",
   "metadata": {},
   "source": [
    "### 2021 Februar\n",
    "\n",
    "#### Year of the Cow\n",
    "\n",
    "Wir ordnen Bessie in einem dict die Zahl 0 zu. Jeder weitere Namen wird mit seiner Differenz zur Bessie-Position in dem dict abgespeichert.\n",
    "(in Python passt die modulo-Berechnung für negative Zahlen dazu). Zum Schluss wird der Absolutwert von Elsie ausgegeben.\n",
    "\n",
    "#### Comfortable Cows\n",
    "\n",
    "Wir speichern in einem dictionary welche Zellen wieviele Nachbarn haben und machen bei jeder neuen Koordinate einen update.\n",
    "(Eines der wenigen Beispiele wo derselbe Algorithmus mit Python bei den letzten beiden Fällen wg. Zeit scheitert, aber mit C++ durchgeht).\n",
    "\n",
    "#### Clockwise Fence\n",
    "\n",
    "Wir zählen für eine Rechtsdrehung +1 für eine Linksdrehung -1, wenn wir insgesamt positiv ankommen, sind wir clockwise gegangen."
   ]
  },
  {
   "cell_type": "markdown",
   "id": "a84155e3-b64e-4cc5-ac56-538bdbb47cc6",
   "metadata": {},
   "source": [
    "### 2021 Januar\n",
    "\n",
    "#### Uddered but not Herd\n",
    "\n",
    "Wir gehen jedesmal das Wort durch und merken uns, welche Buchstaben des Wortes hintereinanderkommen.\n",
    "\n",
    "#### Even More\n",
    "\n",
    "Jedes Paar Gerade - Ungerade gibt 2 Gruppen. Dann bleiben nur noch Geraden oder nur noch Ungeraden übrig. Die geraden kann man nur zu einer Gruppe zusammenfassen, bei den Ungeraden fasst man Gruppen zu gg,g zusammen soweit es geht und betrachtet den Rest.\n",
    "\n",
    "#### Just Stalling\n",
    "\n",
    "Zu Stallgröße ermitteln wir, wieviele Kühe da rein gehen, dann beginnen wir mit der Anzahl der möglichen Kühe für den kleinsten Stall und berechnen weiter die Gesamtzahl."
   ]
  },
  {
   "cell_type": "markdown",
   "id": "590547f6-61aa-4858-8133-c24475f0f0a4",
   "metadata": {},
   "source": [
    "### 2020 December\n",
    "\n",
    "#### Do you know your ABCs?\n",
    "\n",
    "\n",
    "\n",
    "#### Daisy Chains\n",
    "\n",
    "\n",
    "#### Stuck in a Rut\n",
    "\n",
    "Aufgaben genau durchlesen: Die Kühe können nur nach N oder E gehen. Wir berechnen die kritischen Punkte, dazu einfach alle möglichen Differenzen zwischen den x und y Koordinaten der verschiedenen Kühe bilden, die diffListe bilden und in diesen Schritten das Ganze verfolgen. Hier können sogar Klassen nützlich sein.\n"
   ]
  },
  {
   "cell_type": "code",
   "execution_count": null,
   "id": "640ee715-fbfb-4922-ac3a-d4021ba6cc6f",
   "metadata": {},
   "outputs": [],
   "source": []
  }
 ],
 "metadata": {
  "kernelspec": {
   "display_name": "Python 3 (ipykernel)",
   "language": "python",
   "name": "python3"
  },
  "language_info": {
   "codemirror_mode": {
    "name": "ipython",
    "version": 3
   },
   "file_extension": ".py",
   "mimetype": "text/x-python",
   "name": "python",
   "nbconvert_exporter": "python",
   "pygments_lexer": "ipython3",
   "version": "3.11.2"
  }
 },
 "nbformat": 4,
 "nbformat_minor": 5
}
