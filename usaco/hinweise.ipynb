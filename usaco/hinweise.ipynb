{
 "cells": [
  {
   "cell_type": "markdown",
   "id": "27e3990b-117d-4257-946c-ae1c6c09bd34",
   "metadata": {},
   "source": [
    "## USACO"
   ]
  },
  {
   "cell_type": "markdown",
   "id": "52964672-65a3-42f0-8f57-7e263f12cf5e",
   "metadata": {},
   "source": [
    "### Bronze\n",
    "\n",
    "Es gibt 3 Aufgaben, zusammen 1000 Punkte, jede Aufgabe ist gleich gewichtet, jede Aufgabe trägt also ca. 333 Punkte zur Gesamtwertung bei. Bei einer Aufgabe gibt es verschiedene Tests, in der Regel 10-18, die jeweils gleich gewertet werden. Häufig sind die letzten Tests kritisch für die Laufzeit, wenn der gewählte Algorithmus nicht besonders effektiv ist. "
   ]
  },
  {
   "cell_type": "markdown",
   "id": "5bb1cf42-bf89-47b7-b0a9-e50883e4089d",
   "metadata": {},
   "source": [
    "Die Weiterleitung nach Silver ist je nach Wettbewerb unterschiedlich und liegt meist im Bereich 650-750 Punkte Sie wird vor dem Wettbewerb nicht mitgeteilt.\n",
    "Wenn 750 Punkte die Grenze ist, dann müssen also 3/4 aller Testfälle gelöst werden. D.h. insgesamt 3/4*3=9/4=2.25 Aufgaben gelöst werden.\n",
    "\n"
   ]
  },
  {
   "cell_type": "markdown",
   "id": "1e267718-b66a-4d6b-9c55-0601d38f1d91",
   "metadata": {},
   "source": [
    "#### Der letzte Submit zählt\n",
    "\n",
    "Es gibt keine Strafpunkte für falsche submits. Aber nur der letzte submit zählt für die Punkte. Man sollte sich bei mehreren Versuchen also immer notieren, welche Version die meisten Testfälle löst und diese Version am Ende nochmal submitten."
   ]
  },
  {
   "cell_type": "markdown",
   "id": "a75b917a-3529-4067-bd30-f91ccdc8434b",
   "metadata": {},
   "source": [
    "#### Programmiersprache\n",
    "\n",
    "In Bronze kann man mit Python programmieren. Durch den Wechsel auf C++ erhöht sich nach meiner Erfahrung die Anzahl der gelösten Testfälle nicht (mit ganz wenigen Ausnahmen). In Python kann man die Module der Standardlibrary benutzen, also insbesondere die itertools. Numpy kann nicht benutzt werden."
   ]
  },
  {
   "cell_type": "markdown",
   "id": "5479801d-34d9-4c20-8e9c-b396bf978b23",
   "metadata": {},
   "source": [
    "#### Code vorbereiten\n",
    "\n",
    "Für jede Aufgabe kann in der Vorbereitung ein Ordner mit einer py-Datei und ggf. einer cpp-Datei und einer input-Datei angelegt werden.  Man sollte dann auch mal ausprobieren, ob der jeweilige Debugger dort funktioniert. Die Dateien füllen wir mit den jeweiligen headern für Input/Output."
   ]
  },
  {
   "cell_type": "markdown",
   "id": "62b74790-ab76-4b30-be44-941c3d951ac8",
   "metadata": {},
   "source": [
    "#### Zeit einteilen\n",
    "\n",
    "In der Regel haben wir 3-5 Stunden Zeit. Angenommen wir haben 4 Stunden Zeit, also 80 Minuten pro Aufgabe. Es gibt die Empfehlung, sich erst alle Aufgaben durchzulesen. Ich finde das nicht plausibel. Selbst wenn die erste Aufgabe die schwierigste ist, müssen wir sie mindestens zu 1/4 lösen (die beiden anderen müssen dann vollständig gelöst werden). \n",
    "\n",
    "Eine grobe Zeiteinteilung könnte sein:\n",
    "1. Einen Algorithmus zur Lösung finden (siehe unten): 40 Minuten\n",
    "2. Den Algorithmus implementieren. Geeignete Abschnitte in Funktionen zusammenfassen. Gegebenenfalls doctests einfügen und frühzeitig den Debugger einsetzen: 40 Minuten."
   ]
  },
  {
   "cell_type": "markdown",
   "id": "c2112e74-89ad-4ff2-bd8d-6a4d1892aaf3",
   "metadata": {},
   "source": [
    "#### Algorithmus zur Lösung finden\n",
    "\n",
    "- Die Beispiele auf Papier durchgehen, und ggf. um eigene Beispiele ergänzen.\n",
    "- Die Größen, die eine Rolle spielen, mit Variablen benennen.\n",
    "- Zusammenhänge zwischen den Variablen formulieren, keine Angst vor Fallunterscheidungen.\n",
    "- Für die Beschreibung des Lösungswegs sich Funktionen wünschen, ggf. doctest-Beispiele dazu.\n",
    "\n",
    "\n"
   ]
  },
  {
   "cell_type": "markdown",
   "id": "22289a12-e2b3-42ff-bf35-5915bca7b7e4",
   "metadata": {},
   "source": [
    "#### Erfahrungen aus früheren Aufgaben\n",
    "\n",
    "* Wenn die Eingabe ein String mit gerader Länge ist, kann es hilfreich sein, Zeichenpaare zu betrachten.\n",
    "* Wenn ein String manipuliert wird und dann nach einer Zahl gefragt wird, also nicht nach dem Ergebnis der Manipulation, dann kann man\n",
    " das meist analytisch lösen, nicht durch eine Simulation.\n",
    "* Wenn ein Liste sehr häufig durch eine Vorschrift manipuliert wird, sollte man versuchen, diese Manipulation auf eine Permutation zurückzuführen,\n",
    "  vielleicht gilt etwas in der Art: M = (P+X)^n = P1^n + X1^n, mit einfachem X1^n.\n",
    "* Manchmal lohnt es sich, einfache Antworten für Teilfälle auszuprobieren, auch wenn man noch nicht durchblickt, ob sie für alle Fälle gelten können. Manchmal ist das dann so. (guessTheAnimal).\n",
    "* Für Teillösungen kann man die Beschreibung der Anfangsfälle benutzen, evtl. muss man dann das Beispiel hardcodieren (alchemy)."
   ]
  },
  {
   "cell_type": "code",
   "execution_count": null,
   "id": "09a9bcf9-8b6c-4e40-b5fc-6b89e2a2ad74",
   "metadata": {},
   "outputs": [],
   "source": []
  }
 ],
 "metadata": {
  "kernelspec": {
   "display_name": "Python 3 (ipykernel)",
   "language": "python",
   "name": "python3"
  },
  "language_info": {
   "codemirror_mode": {
    "name": "ipython",
    "version": 3
   },
   "file_extension": ".py",
   "mimetype": "text/x-python",
   "name": "python",
   "nbconvert_exporter": "python",
   "pygments_lexer": "ipython3",
   "version": "3.11.2"
  }
 },
 "nbformat": 4,
 "nbformat_minor": 5
}
