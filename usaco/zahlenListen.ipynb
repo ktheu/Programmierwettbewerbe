{
 "cells": [
  {
   "cell_type": "markdown",
   "id": "4c481e58-107c-430b-9f8a-ab9343c79af2",
   "metadata": {},
   "source": [
    "#### Listen mit Zahlen"
   ]
  },
  {
   "cell_type": "markdown",
   "id": "3c01acc2-e79e-4a6a-b584-add82dc39e46",
   "metadata": {},
   "source": [
    "#### Summenformel \n"
   ]
  },
  {
   "cell_type": "code",
   "execution_count": 29,
   "id": "274f85ae-18af-4cf9-b922-5ef6f77c122f",
   "metadata": {},
   "outputs": [],
   "source": [
    "import math\n",
    "def summe(a, b):\n",
    "    ''' a, b: positive ganze Zahlen mit a < b\n",
    "    returns: summe aller zahlen von a bis b einschließlich \n",
    "    \n",
    "    >>> summe(10,11)\n",
    "    21\n",
    "    >>> summe(1,100)\n",
    "    5050\n",
    "    '''\n",
    "    assert(a < b)\n",
    "    return (b+1)*b//2-a*(a-1)//2\n",
    "\n",
    "\n",
    "def summenGrenze(b):\n",
    "    ''' b: positive ganze Zahl\n",
    "    returns: kleinste Zahl a, so dass 1 + 2 + ...+ a >= b\n",
    "\n",
    "    >>> summenGrenze(5050)\n",
    "    100\n",
    "    '''\n",
    "    return math.ceil((-1 + math.sqrt(1+8*b))/2)\n",
    "\n",
    "import doctest\n",
    "doctest.run_docstring_examples(summe,globals(),optionflags=doctest.NORMALIZE_WHITESPACE)     \n",
    "doctest.run_docstring_examples(summenGrenze,globals(),optionflags=doctest.NORMALIZE_WHITESPACE)"
   ]
  },
  {
   "cell_type": "markdown",
   "id": "ba52a42d-6a21-4a1a-93a1-5f862bd31391",
   "metadata": {},
   "source": [
    "#### Liste mit Differenzen, akkumulierte Summen"
   ]
  },
  {
   "cell_type": "code",
   "execution_count": 28,
   "id": "7ca41e9d-b11d-49bf-b031-12cc43536847",
   "metadata": {},
   "outputs": [],
   "source": [
    "import itertools as it\n",
    "def diffList(a):\n",
    "    '''\n",
    "    a: Liste mit Zahlen\n",
    "    returns: Liste mit den Differenzen a[i+1]-a[i]\n",
    "\n",
    "    >>> diffList([3,5,2,8,9])\n",
    "    [2, -3, 6, 1]\n",
    "\n",
    "    '''\n",
    "    if len(a) == 0: return []\n",
    "    tmp = [0]*(len(a)-1)\n",
    "    for i in range(len(a)-1):\n",
    "        tmp[i] = a[i+1]-a[i]\n",
    "    return tmp\n",
    "\n",
    "def sumList(a):\n",
    "    ''' \n",
    "    >>> sumList([3,5,2,8,9])\n",
    "    [3, 8, 10, 18, 27]\n",
    "    '''\n",
    "    return list(it.accumulate(a)) \n",
    "\n",
    "doctest.run_docstring_examples(diffList,globals(),optionflags=doctest.NORMALIZE_WHITESPACE)\n",
    "doctest.run_docstring_examples(sumList,globals(),optionflags=doctest.NORMALIZE_WHITESPACE)"
   ]
  }
 ],
 "metadata": {
  "kernelspec": {
   "display_name": "Python 3 (ipykernel)",
   "language": "python",
   "name": "python3"
  },
  "language_info": {
   "codemirror_mode": {
    "name": "ipython",
    "version": 3
   },
   "file_extension": ".py",
   "mimetype": "text/x-python",
   "name": "python",
   "nbconvert_exporter": "python",
   "pygments_lexer": "ipython3",
   "version": "3.11.2"
  }
 },
 "nbformat": 4,
 "nbformat_minor": 5
}
