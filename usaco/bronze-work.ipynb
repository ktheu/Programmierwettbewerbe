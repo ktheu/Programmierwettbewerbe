{
 "cells": [
  {
   "cell_type": "markdown",
   "id": "27e3990b-117d-4257-946c-ae1c6c09bd34",
   "metadata": {},
   "source": [
    "### work"
   ]
  },
  {
   "cell_type": "code",
   "execution_count": 8,
   "id": "8d691e75-8e7a-4c0d-aac1-95f499ee9e84",
   "metadata": {},
   "outputs": [],
   "source": [
    "cows = [0,1,2,3,4]\n",
    "a = [0,2,3]\n",
    "K = len(a)\n"
   ]
  },
  {
   "cell_type": "code",
   "execution_count": 9,
   "id": "ebd524d2-7e66-457f-b8bb-286821ee6c83",
   "metadata": {},
   "outputs": [],
   "source": [
    "b = cows[a[0]]\n",
    "for k in range(K,1,-1):\n",
    "    cows[a[k%K]] = cows[a[k-1]]\n",
    "cows[a[1]] = b"
   ]
  },
  {
   "cell_type": "code",
   "execution_count": 10,
   "id": "b6974134-2c89-42ba-a72a-469ff956157a",
   "metadata": {},
   "outputs": [
    {
     "data": {
      "text/plain": [
       "[3, 1, 0, 2, 4]"
      ]
     },
     "execution_count": 10,
     "metadata": {},
     "output_type": "execute_result"
    }
   ],
   "source": [
    "cows"
   ]
  },
  {
   "cell_type": "code",
   "execution_count": null,
   "id": "4da6898b-4e92-443c-8b8d-57a13ff99292",
   "metadata": {},
   "outputs": [],
   "source": [
    "def switch(a,b,t):\n",
    "    for _ in range(t):\n",
    "        "
   ]
  },
  {
   "cell_type": "code",
   "execution_count": 25,
   "id": "0eacc4ae-ba6d-4405-babb-6fb4f9be67ff",
   "metadata": {},
   "outputs": [
    {
     "name": "stdout",
     "output_type": "stream",
     "text": [
      "[3, 1, 0, 2, 5]\n"
     ]
    }
   ],
   "source": [
    "def pushValuesWithIdxList(a, idxList):\n",
    "    '''\n",
    "    a: Liste\n",
    "    idxList: Liste mit indizes von a, der Wert an der Stelle idxList[i] soll an die Stelle idxList[i+1], mit wrap around\n",
    "    returns: None, a wird inplace verändert\n",
    "\n",
    "    >>> a = [0, 1, 2, 3, 4]\n",
    "    >>> pushValues(a, [0, 2, 3])\n",
    "    >>> a\n",
    "    [3, 1, 0, 2, 4]\n",
    "    '''\n",
    "\n",
    "    b = a[idxList[0]]\n",
    "    for k in range(len(idxList),1,-1):\n",
    "        a[idxList[k%len(idxList)]] = a[idxList[k-1]]\n",
    "    a[idxList[1]] = b\n",
    "\n",
    "\n",
    "a = [0, 1, 2, 3, 5]\n",
    "pushValuesWithIdxList(a, [0, 2, 3])\n",
    "print(a)\n",
    "\n",
    "import doctest\n",
    "doctest.run_docstring_examples(pushValuesWithIdxList,globals(),optionflags=doctest.NORMALIZE_WHITESPACE)  \n",
    "    "
   ]
  },
  {
   "cell_type": "code",
   "execution_count": null,
   "id": "15d6fd40-2f54-407f-9bad-c7730192818a",
   "metadata": {},
   "outputs": [],
   "source": []
  },
  {
   "cell_type": "code",
   "execution_count": null,
   "id": "57cf303b-6572-4ee1-ad89-456eddbe77f1",
   "metadata": {},
   "outputs": [],
   "source": []
  }
 ],
 "metadata": {
  "kernelspec": {
   "display_name": "Python 3 (ipykernel)",
   "language": "python",
   "name": "python3"
  },
  "language_info": {
   "codemirror_mode": {
    "name": "ipython",
    "version": 3
   },
   "file_extension": ".py",
   "mimetype": "text/x-python",
   "name": "python",
   "nbconvert_exporter": "python",
   "pygments_lexer": "ipython3",
   "version": "3.11.2"
  }
 },
 "nbformat": 4,
 "nbformat_minor": 5
}
