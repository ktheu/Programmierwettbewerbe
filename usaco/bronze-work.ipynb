{
 "cells": [
  {
   "cell_type": "markdown",
   "id": "27e3990b-117d-4257-946c-ae1c6c09bd34",
   "metadata": {},
   "source": [
    "## USACO"
   ]
  },
  {
   "cell_type": "markdown",
   "id": "52964672-65a3-42f0-8f57-7e263f12cf5e",
   "metadata": {},
   "source": [
    "### Bronze\n",
    "\n",
    "Es gibt 3 Aufgaben, zusammen 1000 Punkte, jede Aufgabe ist gleich gewichtet, jede Aufgabe trägt also ca. 333 Punkte zur Gesamtwertung bei. Bei einer Aufgabe gibt es verschiedene Tests, in der Regel 10-18, die jeweils gleich gewertet werden. Häufig sind die letzten Tests kritisch für die Laufzeit, wenn der gewählte Algorithmus nicht besonders effektiv ist. "
   ]
  },
  {
   "cell_type": "markdown",
   "id": "5bb1cf42-bf89-47b7-b0a9-e50883e4089d",
   "metadata": {},
   "source": [
    "Die Weiterleitung nach Silver ist je nach Wettbewerb unterschiedlich und liegt meist im Bereich 650-750 Punkte Sie wird vor dem Wettbewerb nicht mitgeteilt.\n",
    "Wenn 750 Punkte die Grenze ist, dann müssen also 3/4 aller Testfälle gelöst werden. D.h. insgesamt 3/4*3=9/4=2.25 Aufgaben gelöst werden.\n",
    "\n"
   ]
  },
  {
   "cell_type": "markdown",
   "id": "c5081d5b-e684-4663-8ac7-fce38e227a1b",
   "metadata": {},
   "source": [
    "Nehmen wir an, die Grenze liegt bei 750 Punkten. Wieviele Tests sollten richtig sein?"
   ]
  },
  {
   "cell_type": "code",
   "execution_count": 3,
   "id": "806c75d3-a0d8-4a52-ab7a-525037278c7f",
   "metadata": {},
   "outputs": [
    {
     "name": "stdout",
     "output_type": "stream",
     "text": [
      "Bei 10 Tests sollten 8 richtig sein.\n",
      "Bei 11 Tests sollten 9 richtig sein.\n",
      "Bei 12 Tests sollten 9 richtig sein.\n",
      "Bei 13 Tests sollten 10 richtig sein.\n",
      "Bei 14 Tests sollten 11 richtig sein.\n",
      "Bei 15 Tests sollten 12 richtig sein.\n",
      "Bei 16 Tests sollten 12 richtig sein.\n",
      "Bei 17 Tests sollten 13 richtig sein.\n",
      "Bei 18 Tests sollten 14 richtig sein.\n"
     ]
    }
   ],
   "source": [
    "import math\n",
    "for k in range(10,19):\n",
    "    print(f'Bei {k} Tests sollten {math.ceil(750/1000*k)} richtig sein.')\n"
   ]
  },
  {
   "cell_type": "markdown",
   "id": "74f1c7ab-43b4-4cb6-b189-6b4e19fbdd3e",
   "metadata": {},
   "source": [
    "Wenn eine Aufgabe vollständig gelöst ist, dann müssen bei den beiden anderen Aufgaben nur noch ca. die Hälfte der Tests richtig sein.\n"
   ]
  },
  {
   "cell_type": "code",
   "execution_count": 4,
   "id": "99df7b1e-b6d0-47ec-957a-de8f09ee4697",
   "metadata": {},
   "outputs": [
    {
     "name": "stdout",
     "output_type": "stream",
     "text": [
      "Bei 10 Tests sollten 5 richtig sein.\n",
      "Bei 11 Tests sollten 6 richtig sein.\n",
      "Bei 12 Tests sollten 6 richtig sein.\n",
      "Bei 13 Tests sollten 7 richtig sein.\n",
      "Bei 14 Tests sollten 7 richtig sein.\n",
      "Bei 15 Tests sollten 8 richtig sein.\n",
      "Bei 16 Tests sollten 8 richtig sein.\n",
      "Bei 17 Tests sollten 9 richtig sein.\n",
      "Bei 18 Tests sollten 9 richtig sein.\n"
     ]
    }
   ],
   "source": [
    "for k in range(10,19):\n",
    "    print(f'Bei {k} Tests sollten {math.ceil(750/1000*k*(2/3))} richtig sein.')"
   ]
  },
  {
   "cell_type": "markdown",
   "id": "08c5787a-c7b2-4d07-a1da-28694343adec",
   "metadata": {},
   "source": [
    "Wenn zwei Aufgabe vollständig gelöst ist, dann muss bei den restlichen noch ca. 1/3 richtig sein."
   ]
  },
  {
   "cell_type": "code",
   "execution_count": 8,
   "id": "2cd389c8-386e-4549-91de-ddede7bec4af",
   "metadata": {},
   "outputs": [
    {
     "name": "stdout",
     "output_type": "stream",
     "text": [
      "Bei 10 Tests sollten 3 richtig sein.\n",
      "Bei 11 Tests sollten 3 richtig sein.\n",
      "Bei 12 Tests sollten 3 richtig sein.\n",
      "Bei 13 Tests sollten 4 richtig sein.\n",
      "Bei 14 Tests sollten 4 richtig sein.\n",
      "Bei 15 Tests sollten 4 richtig sein.\n",
      "Bei 16 Tests sollten 4 richtig sein.\n",
      "Bei 17 Tests sollten 5 richtig sein.\n",
      "Bei 18 Tests sollten 5 richtig sein.\n"
     ]
    }
   ],
   "source": [
    "for k in range(10,19):\n",
    "    print(f'Bei {k} Tests sollten {math.ceil(750/1000*k*(1/3))} richtig sein.')"
   ]
  },
  {
   "cell_type": "markdown",
   "id": "f4fd86fb-819e-4de4-b903-9748c7a07cc0",
   "metadata": {},
   "source": [
    "Daumenregel: "
   ]
  },
  {
   "cell_type": "markdown",
   "id": "1e267718-b66a-4d6b-9c55-0601d38f1d91",
   "metadata": {},
   "source": [
    "#### Der letzte Submit zählt\n",
    "\n",
    "Es gibt keine Strafpunkte für falsche submits. Aber nur der letzte submit zählt für die Punkte. Man sollte sich bei mehreren Versuchen also immer notieren, welche Version die meisten Testfälle löst und diese Version am Ende nochmal submitten."
   ]
  },
  {
   "cell_type": "markdown",
   "id": "a75b917a-3529-4067-bd30-f91ccdc8434b",
   "metadata": {},
   "source": [
    "#### Programmiersprache\n",
    "\n",
    "In Bronze kann man mit Python programmieren. Durch den Wechsel auf C++ erhöht sich nach meiner Erfahrung die Anzahl der gelösten Testfälle nicht. In Python kann man die Module der Standardlibrary benutzen, also insbesondere die itertools. Numpy kann nicht benutzt werden."
   ]
  },
  {
   "cell_type": "markdown",
   "id": "5479801d-34d9-4c20-8e9c-b396bf978b23",
   "metadata": {},
   "source": [
    "#### Code vorbereiten\n",
    "\n",
    "Um das dauernde Copy+Paste der Input-Daten zu vermeiden kann man das folgende setting benutzen. In die Datei input.txt wird einmal der Input kopiert. Statt input() verwenden wir stdin.readline(). Die Datei kann dann ohne weitere Änderung submitted werden.\n",
    "Der absolute Pfad ist notwendig, da sonst in VSCode (jedenfalls bei mir) der Debugger die Datei nicht findet."
   ]
  },
  {
   "cell_type": "code",
   "execution_count": null,
   "id": "0f3e9c8c-a017-4a98-907d-23b3f8220d5d",
   "metadata": {},
   "outputs": [],
   "source": [
    "from sys import stdin\n",
    "import platform\n",
    "if platform.system() == 'Windows':\n",
    "    stdin = open(\"C:\\\\Users\\\\khthe\\...\\\\USACO\\\\2023dec\\\\candy\\\\input.txt\", \"r\")\n",
    "\n",
    "N, M = map(int, stdin.readline().split())   # usw."
   ]
  },
  {
   "cell_type": "markdown",
   "id": "fae2b183-1ebb-43b8-894c-9fc1a2e19dc1",
   "metadata": {},
   "source": [
    "Für jede Aufgabe kann in der Vorbereitung ein Ordner mit einer py-Datei und einer input-Datei angelegt werden. Man sollte dann auch mal ausprobieren, ob der Debugger dort funktioniert."
   ]
  },
  {
   "cell_type": "markdown",
   "id": "62b74790-ab76-4b30-be44-941c3d951ac8",
   "metadata": {},
   "source": [
    "#### Zeit einteilen\n",
    "\n",
    "In der Regel haben wir 3-5 Stunden Zeit. Angenommen wir haben 4 Stunden Zeit. Das bedeutet"
   ]
  },
  {
   "cell_type": "code",
   "execution_count": 15,
   "id": "de657c8c-f90d-4117-b7b2-8c26239d996c",
   "metadata": {},
   "outputs": [
    {
     "data": {
      "text/plain": [
       "80.0"
      ]
     },
     "execution_count": 15,
     "metadata": {},
     "output_type": "execute_result"
    }
   ],
   "source": [
    "4*60/3"
   ]
  },
  {
   "cell_type": "code",
   "execution_count": 10,
   "id": "003c1849-37ff-4e32-a6cd-36571d084a04",
   "metadata": {},
   "outputs": [
    {
     "data": {
      "text/plain": [
       "2.3333333333333335"
      ]
     },
     "execution_count": 10,
     "metadata": {},
     "output_type": "execute_result"
    }
   ],
   "source": [
    "8"
   ]
  },
  {
   "cell_type": "code",
   "execution_count": 11,
   "id": "5259efef-369c-457b-a469-1b5dd0ea5211",
   "metadata": {},
   "outputs": [
    {
     "data": {
      "text/plain": [
       "0.625"
      ]
     },
     "execution_count": 11,
     "metadata": {},
     "output_type": "execute_result"
    }
   ],
   "source": [
    "5/8"
   ]
  },
  {
   "cell_type": "code",
   "execution_count": 2,
   "id": "edcf713c-f502-4012-9fdf-341c47d4d7d7",
   "metadata": {},
   "outputs": [],
   "source": [
    "def abschnitte(s, c):\n",
    "    '''\n",
    "    s: string, c: zeichen \n",
    "    returns: Liste mit den Intervallen der Vorkommen von c in s\n",
    "    \n",
    "    >>> abschnitte('EEFFBEEEFFF',c='F')\n",
    "    [(2, 3), (8, 10)]\n",
    "    '''\n",
    "    sx = ':'+s+':'               #  : Begrenzer, darf sonst keine Rolle spielen, bei Bedarf ändern\n",
    "    positions = [i for i in range(len(sx)) if sx[i] != c]\n",
    "    return [(x[0],x[1]-2) for x in zip(positions, positions[1:]) if x[0] + 1 < x[1]]"
   ]
  },
  {
   "cell_type": "code",
   "execution_count": 28,
   "id": "ddd5bd01-46da-4775-a3bc-025aeb6575c8",
   "metadata": {},
   "outputs": [],
   "source": [
    "s = 'GG...GG..G.'"
   ]
  },
  {
   "cell_type": "code",
   "execution_count": 29,
   "id": "5e635bbb-c7b5-4f49-9f24-185501c7892a",
   "metadata": {},
   "outputs": [
    {
     "name": "stdout",
     "output_type": "stream",
     "text": [
      "[0, 1, 5, 6, 9]\n"
     ]
    },
    {
     "data": {
      "text/plain": [
       "[-1, 0, 1, 5, 6, 9, 11]"
      ]
     },
     "execution_count": 29,
     "metadata": {},
     "output_type": "execute_result"
    }
   ],
   "source": [
    "pp = [i for i in range(len(s)) if s[i] == 'G']\n",
    "print(pp)\n",
    "ppx = [-1]+pp+[len(s)]\n",
    "ppx"
   ]
  },
  {
   "cell_type": "code",
   "execution_count": 30,
   "id": "c0480293-146d-470d-8ffc-a928db0bd726",
   "metadata": {},
   "outputs": [
    {
     "data": {
      "text/plain": [
       "[0, 0, 3, 0, 2, 1]"
      ]
     },
     "execution_count": 30,
     "metadata": {},
     "output_type": "execute_result"
    }
   ],
   "source": [
    "diff = [ppx[i+1]-ppx[i]-1 for i in range(len(pp)+1)]\n",
    "diff"
   ]
  },
  {
   "cell_type": "code",
   "execution_count": 13,
   "id": "450685f1-b8ee-478b-909e-53463f890084",
   "metadata": {},
   "outputs": [
    {
     "data": {
      "text/plain": [
       "[0, 1, 5, 6, 9, 4]"
      ]
     },
     "execution_count": 13,
     "metadata": {},
     "output_type": "execute_result"
    }
   ],
   "source": [
    "pp"
   ]
  },
  {
   "cell_type": "code",
   "execution_count": 46,
   "id": "f17e3a93-a668-46e7-83ca-b46cec316a74",
   "metadata": {},
   "outputs": [],
   "source": [
    "def linksRechtsAbstaende(s, c):\n",
    "    '''\n",
    "    s: string, c: zeichen\n",
    "    returns: dict das dem Index des Zeichens c in s den linken und rechten Abstand zu dem nächsten Zeichen c zuordnet\n",
    "\n",
    "    >>> linksRechtsAbstaende('GG...G.', 'G')\n",
    "    {0: (0, 0), 1: (0, 3), 5: (3, 1)}\n",
    "    '''\n",
    "    m = dict()\n",
    "    pp = [i for i in range(len(s)) if s[i] == c]\n",
    "    ppx = [-1]+pp+[len(s)]\n",
    "    diff = [ppx[i+1]-ppx[i]-1 for i in range(len(pp)+1)]\n",
    "    for i in range(len(pp)):\n",
    "        m[pp[i]] = (diff[i],diff[i+1])\n",
    "    return m"
   ]
  },
  {
   "cell_type": "code",
   "execution_count": 50,
   "id": "33afa7dd-debe-4460-aa81-ece5115eef99",
   "metadata": {},
   "outputs": [
    {
     "data": {
      "text/plain": [
       "{0: (0, 0), 1: (0, 3), 5: (3, 1)}"
      ]
     },
     "execution_count": 50,
     "metadata": {},
     "output_type": "execute_result"
    }
   ],
   "source": [
    "s = 'GG...G.'\n",
    "linksRechtsAbstaende(s, 'G')"
   ]
  },
  {
   "cell_type": "code",
   "execution_count": 52,
   "id": "b677de91-c70d-4889-9a63-951d7b5d5e40",
   "metadata": {},
   "outputs": [
    {
     "name": "stdout",
     "output_type": "stream",
     "text": [
      "(1,)\n",
      "(2,)\n",
      "(3,)\n",
      "(4,)\n",
      "(1, 2)\n",
      "(1, 3)\n",
      "(1, 4)\n",
      "(2, 3)\n",
      "(2, 4)\n",
      "(3, 4)\n",
      "(1, 2, 3)\n",
      "(1, 2, 4)\n",
      "(1, 3, 4)\n",
      "(2, 3, 4)\n"
     ]
    }
   ],
   "source": [
    "# Alle Teilmengen über Iterator\n",
    "import itertools as it\n",
    "a = [1,2,3,4]\n",
    "for x in it.chain.from_iterable(it.combinations(a, k) for k in range(1,4)):\n",
    "    print(x)"
   ]
  },
  {
   "cell_type": "code",
   "execution_count": 59,
   "id": "822c767f-1157-4b84-84e8-1f186a1d7636",
   "metadata": {},
   "outputs": [
    {
     "name": "stdout",
     "output_type": "stream",
     "text": [
      "(0,)\n",
      "(1,)\n",
      "(2,)\n",
      "(3,)\n",
      "(4,)\n",
      "(0, 1)\n",
      "(0, 2)\n",
      "(0, 3)\n",
      "(0, 4)\n",
      "(1, 2)\n",
      "(1, 3)\n",
      "(1, 4)\n",
      "(2, 3)\n",
      "(2, 4)\n",
      "(3, 4)\n",
      "(0, 1, 2)\n",
      "(0, 1, 3)\n",
      "(0, 1, 4)\n",
      "(0, 2, 3)\n",
      "(0, 2, 4)\n",
      "(0, 3, 4)\n",
      "(1, 2, 3)\n",
      "(1, 2, 4)\n",
      "(1, 3, 4)\n",
      "(2, 3, 4)\n"
     ]
    }
   ],
   "source": [
    "# Alle Teilmengen über Iterator\n",
    "import itertools as it\n",
    "N = 4\n",
    "n = (N-1)*2\n",
    "a = range(n-1)\n",
    "for x in it.chain.from_iterable(it.combinations(a, k) for k in range(1,4)):\n",
    "    print(x)\n",
    "    s1 = 0\n",
    "    s2 = 0\n",
    "    "
   ]
  },
  {
   "cell_type": "code",
   "execution_count": 2,
   "id": "c58fa1b1-927a-4225-9661-bb4fc23748c4",
   "metadata": {},
   "outputs": [
    {
     "data": {
      "text/plain": [
       "5"
      ]
     },
     "execution_count": 2,
     "metadata": {},
     "output_type": "execute_result"
    }
   ],
   "source": [
    "c = [4,2,3,6,8]\n",
    "N = len(c)\n",
    "k = 1\n",
    "sum([k if c[i] >= k else 0 for i in range(N)])"
   ]
  },
  {
   "cell_type": "code",
   "execution_count": 14,
   "id": "9f8298e7-61c5-46c5-aa8c-c1dd8ac0d059",
   "metadata": {},
   "outputs": [],
   "source": [
    "a = [[4, 5, 6, 8], [2, 7, 10, 9], [12, 16, 18, 20]]\n",
    "delete_col(a, 1)"
   ]
  },
  {
   "cell_type": "code",
   "execution_count": 15,
   "id": "88c6bdf4-3bbe-478c-b9b0-f17f029a0181",
   "metadata": {},
   "outputs": [
    {
     "data": {
      "text/plain": [
       "[[4, 6, 8], [2, 10, 9], [12, 18, 20]]"
      ]
     },
     "execution_count": 15,
     "metadata": {},
     "output_type": "execute_result"
    }
   ],
   "source": [
    "a"
   ]
  },
  {
   "cell_type": "code",
   "execution_count": 7,
   "id": "c802ab1d-a37f-4c4f-af8c-d007b29d0d64",
   "metadata": {},
   "outputs": [
    {
     "data": {
      "text/plain": [
       "[[4, 6, 8], [2, 10, 9], [12, 18, 20]]"
      ]
     },
     "execution_count": 7,
     "metadata": {},
     "output_type": "execute_result"
    }
   ],
   "source": [
    "a"
   ]
  },
  {
   "cell_type": "code",
   "execution_count": 17,
   "id": "cf446c61-bc9b-4fee-921b-06a8d398544e",
   "metadata": {},
   "outputs": [],
   "source": [
    "def delete_col(grid,col):\n",
    "    ''' deletes inplace column col '''\n",
    "    for row in grid:\n",
    "        del row[col]\n",
    "\n",
    "def delete_row(grid,row):\n",
    "    del grid[row]"
   ]
  },
  {
   "cell_type": "code",
   "execution_count": 18,
   "id": "2ed32f82-b6c9-4175-aad5-c5b9201983ce",
   "metadata": {},
   "outputs": [],
   "source": [
    "delete_row(a,1)"
   ]
  },
  {
   "cell_type": "code",
   "execution_count": 19,
   "id": "592940a8-1df5-4cb4-b858-de09278487f9",
   "metadata": {},
   "outputs": [
    {
     "data": {
      "text/plain": [
       "[[4, 6, 8], [12, 18, 20]]"
      ]
     },
     "execution_count": 19,
     "metadata": {},
     "output_type": "execute_result"
    }
   ],
   "source": [
    "a"
   ]
  },
  {
   "cell_type": "code",
   "execution_count": 2,
   "id": "ae5cd40d-dd8d-4f4a-8612-96576f42d860",
   "metadata": {},
   "outputs": [
    {
     "data": {
      "text/plain": [
       "7"
      ]
     },
     "execution_count": 2,
     "metadata": {},
     "output_type": "execute_result"
    }
   ],
   "source": [
    "-17%12"
   ]
  },
  {
   "cell_type": "code",
   "execution_count": 1,
   "id": "61929555-f898-41f5-90ac-777f89e0c5f8",
   "metadata": {},
   "outputs": [],
   "source": [
    "def summe(a, b):\n",
    "    \"\"\"returns summe aller zahlen von a bis b einschließlich\n",
    "\n",
    "    >>> summe(10,11)\n",
    "    21\n",
    "    \"\"\"\n",
    "    if b < a:\n",
    "        return 0\n",
    "    return (b + 1) * b // 2 - a * (a - 1) // 2"
   ]
  },
  {
   "cell_type": "code",
   "execution_count": 4,
   "id": "cc471c79-20b0-4285-b296-ad31c74a6817",
   "metadata": {},
   "outputs": [],
   "source": [
    "K = 615221179\n",
    "X = 45056\n",
    "h0 = 35077"
   ]
  },
  {
   "cell_type": "code",
   "execution_count": 6,
   "id": "63de28d3-b8ca-4bae-b3b7-c585ff7c3068",
   "metadata": {},
   "outputs": [],
   "source": [
    "def getA(h, X):\n",
    "    a1 = summe(1, h)\n",
    "    a2 = summe(X + 1, h - 1)\n",
    "    return a1 + a2"
   ]
  },
  {
   "cell_type": "code",
   "execution_count": 12,
   "id": "5ba2c7b3-d84b-49a3-a5eb-c16471134f95",
   "metadata": {},
   "outputs": [
    {
     "data": {
      "text/plain": [
       "5676"
      ]
     },
     "execution_count": 12,
     "metadata": {},
     "output_type": "execute_result"
    }
   ],
   "source": [
    "a0 = getA(h0,X)\n",
    "diff = K - a0\n",
    "diff"
   ]
  },
  {
   "cell_type": "code",
   "execution_count": 9,
   "id": "7a6b882e-83a9-4b1c-925c-97da3079267b",
   "metadata": {},
   "outputs": [
    {
     "data": {
      "text/plain": [
       "True"
      ]
     },
     "execution_count": 9,
     "metadata": {},
     "output_type": "execute_result"
    }
   ],
   "source": [
    "a0 < K"
   ]
  },
  {
   "cell_type": "code",
   "execution_count": 11,
   "id": "9bbcd1f6-ad61-485a-b58e-2466a7e5b168",
   "metadata": {},
   "outputs": [
    {
     "data": {
      "text/plain": [
       "False"
      ]
     },
     "execution_count": 11,
     "metadata": {},
     "output_type": "execute_result"
    }
   ],
   "source": [
    "a1 < K"
   ]
  },
  {
   "cell_type": "code",
   "execution_count": 15,
   "id": "e887efe5-8830-4c38-bf62-087dda49579b",
   "metadata": {},
   "outputs": [
    {
     "name": "stdout",
     "output_type": "stream",
     "text": [
      "35077\n"
     ]
    }
   ],
   "source": [
    "s0 = h0  # Schritte für a0 aufwärts\n",
    "print(s0)\n",
    "if h0 > X:\n",
    "    s0 += h0 - 1 - X  # Schritte für a0 abwärts"
   ]
  },
  {
   "cell_type": "code",
   "execution_count": 14,
   "id": "f92b4075-4bb2-47e9-9d9c-381192b8966d",
   "metadata": {},
   "outputs": [
    {
     "data": {
      "text/plain": [
       "35077"
      ]
     },
     "execution_count": 14,
     "metadata": {},
     "output_type": "execute_result"
    }
   ],
   "source": [
    "s0"
   ]
  },
  {
   "cell_type": "code",
   "execution_count": null,
   "id": "f3eacc90-5496-44d4-b885-d09e40b61f7c",
   "metadata": {},
   "outputs": [],
   "source": []
  }
 ],
 "metadata": {
  "kernelspec": {
   "display_name": "Python 3 (ipykernel)",
   "language": "python",
   "name": "python3"
  },
  "language_info": {
   "codemirror_mode": {
    "name": "ipython",
    "version": 3
   },
   "file_extension": ".py",
   "mimetype": "text/x-python",
   "name": "python",
   "nbconvert_exporter": "python",
   "pygments_lexer": "ipython3",
   "version": "3.11.2"
  }
 },
 "nbformat": 4,
 "nbformat_minor": 5
}
