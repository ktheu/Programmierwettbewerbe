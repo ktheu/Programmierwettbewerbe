{
 "cells": [
  {
   "cell_type": "markdown",
   "id": "82ebf6eb-469c-43a9-9220-b21128c1f11b",
   "metadata": {},
   "source": [
    "### Binäre Suche"
   ]
  },
  {
   "cell_type": "markdown",
   "id": "23904d8a-a1ce-4b22-b384-5148b4836997",
   "metadata": {},
   "source": [
    "#### Die größte Zahl"
   ]
  },
  {
   "cell_type": "code",
   "execution_count": 75,
   "id": "e4a7a3a0-c437-47a7-a94b-6d3e020e422b",
   "metadata": {},
   "outputs": [],
   "source": [
    "def binary_search_largest_true(a, b, p):\n",
    "    \"\"\"\n",
    "    gibt die größte Zahl x zurück, für die p(x) richtig ist \n",
    "    Voraussetzung: die Werte gehen von True nach False\n",
    "\n",
    "    >>> def p(x): return x < 30\n",
    "    >>> binary_search_largest_true(0,100,p)\n",
    "    29\n",
    "    >>> def p(x): return x <= 30\n",
    "    >>> binary_search_largest_true(0,100,p)\n",
    "    30\n",
    "    \"\"\"\n",
    "    while a <= b:\n",
    "        mid = (a + b) // 2\n",
    "        if p(mid):\n",
    "            result = mid\n",
    "            a = mid + 1\n",
    "        else:\n",
    "            b = mid - 1\n",
    "    return result\n",
    "\n",
    "import doctest\n",
    "doctest.run_docstring_examples(binary_search_largest_true,globals(),optionflags=doctest.NORMALIZE_WHITESPACE)"
   ]
  },
  {
   "cell_type": "markdown",
   "id": "89782049-6a00-49e5-b399-3e7412fbcb79",
   "metadata": {},
   "source": [
    "#### Die kleinste Zahl"
   ]
  },
  {
   "cell_type": "code",
   "execution_count": 77,
   "id": "a2ddfe47-2139-4820-999c-9530dd91e5d9",
   "metadata": {},
   "outputs": [],
   "source": [
    "def binary_search_smallest_true(a, b, p):\n",
    "    \"\"\"\n",
    "    gibt die kleinste Zahl x zurück, für die p(x) richtig ist\n",
    "    Voraussetzung: die Werte gehen von False nach True\n",
    "    \n",
    "    >>> def p(x): return x > 30\n",
    "    >>> binary_search_smallest_true(0,100,p)\n",
    "    31\n",
    "    >>> def p(x): return x >= 30\n",
    "    >>> binary_search_smallest_true(0,100,p)\n",
    "    30\n",
    "    \"\"\"\n",
    "    result = None\n",
    "    while a <= b:\n",
    "        mid = (a + b) // 2\n",
    "        if p(mid):\n",
    "            result = mid\n",
    "            b = mid - 1\n",
    "        else:\n",
    "            a = mid + 1\n",
    "    return result\n",
    "\n",
    "import doctest\n",
    "doctest.run_docstring_examples(binary_search_smallest_true,globals(),optionflags=doctest.NORMALIZE_WHITESPACE)"
   ]
  },
  {
   "cell_type": "code",
   "execution_count": null,
   "id": "787b1801-1d34-4a02-abfa-123539cf1902",
   "metadata": {},
   "outputs": [],
   "source": []
  }
 ],
 "metadata": {
  "kernelspec": {
   "display_name": "Python 3 (ipykernel)",
   "language": "python",
   "name": "python3"
  },
  "language_info": {
   "codemirror_mode": {
    "name": "ipython",
    "version": 3
   },
   "file_extension": ".py",
   "mimetype": "text/x-python",
   "name": "python",
   "nbconvert_exporter": "python",
   "pygments_lexer": "ipython3",
   "version": "3.11.2"
  }
 },
 "nbformat": 4,
 "nbformat_minor": 5
}
