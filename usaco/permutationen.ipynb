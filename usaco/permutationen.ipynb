{
 "cells": [
  {
   "cell_type": "markdown",
   "id": "b77a5ee9-403b-4b98-8d3e-51ee5fa979ea",
   "metadata": {},
   "source": [
    "### Permutationen\n",
    "\n",
    "Eine Permutation der Länge N ist eine Liste von 0,N-1 in anderer Reihenfolge. Ist Liste b aus a durch die Permutation p hervorgegangen, \n",
    "dann gilt:\n",
    "\n",
    "```\n",
    "b = [a[p[i]] for i in range(N)]\n",
    "\n",
    "```\n",
    "\n",
    "Wenn die Ausgangsliste a die sortierte Liste von 0 bis N-1 ist, dann ist die Permutation p gleich der Zielliste b."
   ]
  },
  {
   "cell_type": "code",
   "execution_count": 230,
   "id": "da6cef35-e5eb-4f7b-9213-e6d2101c2828",
   "metadata": {},
   "outputs": [],
   "source": [
    "import doctest"
   ]
  },
  {
   "cell_type": "code",
   "execution_count": 59,
   "id": "cb65535f-42b7-4dd9-a1df-9b25a7f6beb9",
   "metadata": {},
   "outputs": [],
   "source": [
    "a = list('BCADE')\n",
    "b = list('BDAEC')"
   ]
  },
  {
   "cell_type": "code",
   "execution_count": 305,
   "id": "5eb2cd10-edab-4b65-b162-b867aef5d9d9",
   "metadata": {},
   "outputs": [],
   "source": [
    "def getPermutation(a, b):\n",
    "    '''\n",
    "    a, b: Listen \n",
    "    returns: Permutation, durch die b aus a hervorgeht\n",
    "\n",
    "    >>> a = [2,5,4,3,1]\n",
    "    >>> b = [3,1,5,4,2]\n",
    "    >>> p = getPermutation(a, b)\n",
    "    >>> p\n",
    "    [3, 4, 1, 2, 0]\n",
    "    >>> b == [a[p[i]] for i in range(len(a))]\n",
    "    True\n",
    "    '''\n",
    "    tmp = []\n",
    "    for x in b:\n",
    "        tmp.append(a.index(x))\n",
    "    return tmp\n",
    "\n",
    "def applyPermutation(p, a):\n",
    "    return [a[p[i]] for i in range(len(a))]\n",
    "\n",
    "import doctest\n",
    "doctest.run_docstring_examples(getPermutation,globals(),optionflags=doctest.NORMALIZE_WHITESPACE)"
   ]
  },
  {
   "cell_type": "markdown",
   "id": "42e8830d-21b1-4b76-b1ca-6f902143daf7",
   "metadata": {},
   "source": [
    "#### Permutation wiederholen\n",
    "\n",
    "Permutation wiederholen mit einer Schleife"
   ]
  },
  {
   "cell_type": "code",
   "execution_count": 304,
   "id": "166f6732-2648-4966-ac24-981093ab7097",
   "metadata": {},
   "outputs": [],
   "source": [
    "\n",
    "\n",
    "def repeatPermutation(p, k):\n",
    "    '''\n",
    "    p eine Permutation\n",
    "    returns: Permutation nach k Wiederholungen\n",
    "    Für sehr große Zahlen von k ungeeignet \n",
    "\n",
    "    >>> p = [2,0,4,1,3]   \n",
    "    >>> repeatPermutation(p,0)\n",
    "    [0, 1, 2, 3, 4]\n",
    "    >>> repeatPermutation(p,1)\n",
    "    [2, 0, 4, 1, 3]\n",
    "    >>> repeatPermutation(p,2)\n",
    "    [4, 2, 3, 0, 1]\n",
    "    '''\n",
    "    p1 = list(range(len(p)))\n",
    "    for _ in range(k):\n",
    "        p1 = [p1[p[i]] for i in range(len(p))]\n",
    "    return p1 \n",
    "\n",
    "import doctest\n",
    "doctest.run_docstring_examples(repeatPermutation,globals(),optionflags=doctest.NORMALIZE_WHITESPACE)"
   ]
  },
  {
   "cell_type": "markdown",
   "id": "f12d75ff-6217-4d14-bfff-192d1ab5454d",
   "metadata": {},
   "source": [
    "Permutation wiederholen durch finden eines Zyklus\n"
   ]
  },
  {
   "cell_type": "code",
   "execution_count": 292,
   "id": "8b853e31-5f3e-42fe-b5a9-19d15046d751",
   "metadata": {},
   "outputs": [],
   "source": [
    "def getPermutationCycle(p):\n",
    "    '''\n",
    "    berechnet, nach wieviel Wiederholungen die Permutation p die identischen Permutation wird.\n",
    "    >>> p = [2,0,4,1,3] \n",
    "    >>> getPermutationCycle(p)\n",
    "    5\n",
    "    >>> repeatPermutation(p,5)  \n",
    "    [0, 1, 2, 3, 4]\n",
    "    '''\n",
    "    anz = 0\n",
    "    p1 = p.copy()\n",
    "    while True:\n",
    "        p1 = [p1[p[i]] for i in range(len(p))]\n",
    "        anz+=1\n",
    "        if p1 == p:\n",
    "            return anz\n",
    "\n",
    "def repeatPermutationALot(p,k):\n",
    "    '''\n",
    "    Dies können wir anwenden, wenn wir vermuten, dass Wiederholungen der Permutation nicht zu lange benötigen,\n",
    "    um zur identischen Permutation zu werden.\n",
    "    '''\n",
    "    k0 = getPermutationCycle(p)\n",
    "    return repeatPermutation(p,k%k0)\n",
    "\n",
    "import doctest\n",
    "doctest.run_docstring_examples(getPermutationCycle,globals(),optionflags=doctest.NORMALIZE_WHITESPACE)"
   ]
  },
  {
   "cell_type": "markdown",
   "id": "09224cb8-8697-4fdc-8051-934486e6255a",
   "metadata": {},
   "source": [
    "Permutation wiederholen durch binary lifting (precompute die 2er Potenzen der Wiederholungen)"
   ]
  },
  {
   "cell_type": "code",
   "execution_count": 291,
   "id": "b970a981-c62b-43cf-aa9d-4c3fd326cbff",
   "metadata": {},
   "outputs": [],
   "source": [
    "import math\n",
    "def getPermutationMatrix(p, maxK):\n",
    "    '''\n",
    "    p: Permutation, maxK: maximale Anzahl der Permutationen\n",
    "    returns: Matrix mit den Ergebnissen der Permutation in 2er-Potenzen\n",
    "\n",
    "    >>> p = [2,0,4,1,3]\n",
    "    >>> getPermutationMatrix(p,31)  # 31 = (11110) binär\n",
    "    [[2, 0, 4, 1, 3],\n",
    "     [4, 2, 3, 0, 1],\n",
    "     [1, 3, 0, 4, 2],\n",
    "     [3, 4, 1, 2, 0],\n",
    "     [2, 0, 4, 1, 3]]\n",
    "    '''\n",
    "    logval = int(math.log(maxK, 2))\n",
    "    m = [p]\n",
    "    for _ in range(logval):\n",
    "        m.append([m[-1][m[-1][j]] for j in range(len(p))])\n",
    "    return m\n",
    "\n",
    "def repeatPermutationBinary(p, k, pMatrix):\n",
    "    '''\n",
    "    p: Permutation, k: Anzahl der Wiederholungen,\n",
    "    pMatrix: Matrix mit den berechneten 2erPotenzen der Wiederholungen\n",
    "    returns: Permutation nach k Wiederholungen\n",
    "\n",
    "    >>> p = [2,0,4,1,3]\n",
    "    >>> m = getPermutationMatrix(p,10**9)\n",
    "    >>> repeatPermutationBinary(p, 12345678, m)\n",
    "    [3, 4, 1, 2, 0]\n",
    "\n",
    "    '''\n",
    "    logval = int(math.log(k, 2))\n",
    "    p = list(range(len(p)))\n",
    "    for i in range(logval + 1):\n",
    "        if k & (1 << i):\n",
    "            p = [pMatrix[i][p[j]] for j in range(len(p))]\n",
    "    return p\n",
    "\n",
    "import doctest\n",
    "doctest.run_docstring_examples(getPermutationMatrix,globals(),optionflags=doctest.NORMALIZE_WHITESPACE)\n",
    "doctest.run_docstring_examples(repeatPermutationBinary,globals(),optionflags=doctest.NORMALIZE_WHITESPACE)"
   ]
  },
  {
   "cell_type": "markdown",
   "id": "39364870-309b-4480-9046-7671365a2e56",
   "metadata": {},
   "source": [
    "#### Wiederholte Permutationen anwenden\n",
    "\n",
    "Die Permutation, die von a nach b führt, soll 20004 mal wiederholt werden:"
   ]
  },
  {
   "cell_type": "code",
   "execution_count": null,
   "id": "62e9f3d7-a71e-4506-9b3a-c9f5c5ee646c",
   "metadata": {},
   "outputs": [],
   "source": [
    "a = list('BCADEFG')\n",
    "b = list('BDFAEGC')"
   ]
  },
  {
   "cell_type": "code",
   "execution_count": 311,
   "id": "32e847cf-5d47-4a89-a89d-b06e595731cc",
   "metadata": {},
   "outputs": [
    {
     "data": {
      "text/plain": [
       "['B', 'G', 'D', 'C', 'E', 'A', 'F']"
      ]
     },
     "execution_count": 311,
     "metadata": {},
     "output_type": "execute_result"
    }
   ],
   "source": [
    "def applyRepeatPermutation(a,b,k):\n",
    "    p = getPermutation(a,b)\n",
    "    pk = repeatPermutation(p,k)         # langsam für große k\n",
    "    return applyPermutation(pk,a)\n",
    "    \n",
    "applyRepeatPermutation(a,b,20004)"
   ]
  },
  {
   "cell_type": "code",
   "execution_count": 312,
   "id": "6b5717e1-14cd-4cdb-8218-63348e193dbc",
   "metadata": {},
   "outputs": [
    {
     "data": {
      "text/plain": [
       "['B', 'G', 'D', 'C', 'E', 'A', 'F']"
      ]
     },
     "execution_count": 312,
     "metadata": {},
     "output_type": "execute_result"
    }
   ],
   "source": [
    "def applyRepeatPermutation(a,b,k):\n",
    "    p = getPermutation(a,b)\n",
    "    pk = repeatPermutationALot(p,k)       # Schnell, wenn Zyklus schnell gefunden werden kann   \n",
    "    return applyPermutation(pk,a)\n",
    "\n",
    "applyRepeatPermutation(a,b,20004)"
   ]
  },
  {
   "cell_type": "code",
   "execution_count": 313,
   "id": "31d495fe-316e-408a-ad1e-eecb6e2a7165",
   "metadata": {},
   "outputs": [
    {
     "data": {
      "text/plain": [
       "['B', 'G', 'D', 'C', 'E', 'A', 'F']"
      ]
     },
     "execution_count": 313,
     "metadata": {},
     "output_type": "execute_result"
    }
   ],
   "source": [
    "def applyRepeatPermutation(a,b,k,m):\n",
    "    p = getPermutation(a,b)\n",
    "    pk = repeatPermutationBinary(p,k,m)     # Schnell auch für sehr große Zahlen k \n",
    "    return applyPermutation(pk,a)\n",
    "\n",
    "p = getPermutation(a,b)\n",
    "m = getPermutationMatrix(p,20004)          \n",
    "applyRepeatPermutation(a,b,20004,m)"
   ]
  },
  {
   "cell_type": "code",
   "execution_count": null,
   "id": "d9a33726-e557-41a4-b902-de6fc0b469dc",
   "metadata": {},
   "outputs": [],
   "source": []
  }
 ],
 "metadata": {
  "kernelspec": {
   "display_name": "Python 3 (ipykernel)",
   "language": "python",
   "name": "python3"
  },
  "language_info": {
   "codemirror_mode": {
    "name": "ipython",
    "version": 3
   },
   "file_extension": ".py",
   "mimetype": "text/x-python",
   "name": "python",
   "nbconvert_exporter": "python",
   "pygments_lexer": "ipython3",
   "version": "3.11.2"
  }
 },
 "nbformat": 4,
 "nbformat_minor": 5
}
