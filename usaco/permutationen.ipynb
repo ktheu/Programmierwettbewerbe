{
 "cells": [
  {
   "cell_type": "markdown",
   "id": "b77a5ee9-403b-4b98-8d3e-51ee5fa979ea",
   "metadata": {},
   "source": [
    "### Permutationen\n",
    "\n",
    "Eine Permutation ist eine Liste von 0,N-1 in anderer Reihenfolge."
   ]
  },
  {
   "cell_type": "code",
   "execution_count": 58,
   "id": "b6ee313b-3a6c-45ff-977d-541fd73daf6b",
   "metadata": {},
   "outputs": [
    {
     "data": {
      "text/plain": [
       "[2, 3, 4, 0, 1]"
      ]
     },
     "execution_count": 58,
     "metadata": {},
     "output_type": "execute_result"
    }
   ],
   "source": [
    "import random\n",
    "random.seed(1)\n",
    "\n",
    "N = 5\n",
    "p = list(range(N))\n",
    "random.shuffle(p) \n",
    "p"
   ]
  },
  {
   "cell_type": "markdown",
   "id": "18684635-6367-47e7-bec2-6d0623eab32d",
   "metadata": {},
   "source": [
    "Die Liste b ist aus a durch eine Permutation p hervorgegangen. Es soll gelten:"
   ]
  },
  {
   "cell_type": "code",
   "execution_count": null,
   "id": "da6cef35-e5eb-4f7b-9213-e6d2101c2828",
   "metadata": {},
   "outputs": [],
   "source": [
    "b = [a[p[i]] for i in range(N)]"
   ]
  },
  {
   "cell_type": "code",
   "execution_count": 59,
   "id": "cb65535f-42b7-4dd9-a1df-9b25a7f6beb9",
   "metadata": {},
   "outputs": [],
   "source": [
    "a = list('BCADE')\n",
    "b = list('BDAEC')"
   ]
  },
  {
   "cell_type": "code",
   "execution_count": 129,
   "id": "5eb2cd10-edab-4b65-b162-b867aef5d9d9",
   "metadata": {},
   "outputs": [],
   "source": [
    "def getPermutation(a, b):\n",
    "    '''\n",
    "    a, b: Listen \n",
    "    returns: Permutations, durch die b aus a hervorgeht\n",
    "\n",
    "    >>> a = [2,5,4,3,1]\n",
    "    >>> b = [3,1,5,4,2]\n",
    "    >>> getPermutation(a, b)\n",
    "    [3, 4, 1, 2, 0]\n",
    "    '''\n",
    "    tmp = []\n",
    "    for x in b:\n",
    "        tmp.append(a.index(x))\n",
    "    return tmp"
   ]
  },
  {
   "cell_type": "code",
   "execution_count": 140,
   "id": "166f6732-2648-4966-ac24-981093ab7097",
   "metadata": {},
   "outputs": [],
   "source": [
    "def applyPermutation(p, a):\n",
    "    return [a[p[i]] for i in range(len(a))]\n",
    "\n",
    "def repeatPermutation(p, k):\n",
    "    '''\n",
    "    a eine Permutation\n",
    "    returns: Permutation nach k Wiederholungen\n",
    "    Für sehr große Zahlen von k ungeeignet, da dann getPermutationMatrix und calcPermutation benutzen.\n",
    "\n",
    "    >>> p = [2,0,4,1,3]   \n",
    "    >>> repeatPermutation(p,0)\n",
    "    [0, 1, 2, 3, 4]\n",
    "    >>> repeatPermutation(p,1)\n",
    "    [2, 0, 4, 1, 3]\n",
    "    >>> repeatPermutation(p,2)\n",
    "    [4, 2, 3, 0, 1]\n",
    "    '''\n",
    "    p1 = list(range(len(p)))\n",
    " \n",
    "    for _ in range(k):\n",
    "        p1 = [p1[p[i]] for i in range(len(p))]\n",
    "    return p1 \n",
    "\n",
    "import doctest\n",
    "doctest.run_docstring_examples(repeatPermutation,globals(),optionflags=doctest.NORMALIZE_WHITESPACE)"
   ]
  },
  {
   "cell_type": "markdown",
   "id": "8d42aee1-9901-4e95-87a3-b7991c0d083d",
   "metadata": {},
   "source": [
    "Wenn die Ausgangsliste a die sortierte Liste von 0 bis N-1 ist, dann ist die Zielliste b gleich der Permutation p.\n",
    "\n"
   ]
  },
  {
   "cell_type": "code",
   "execution_count": 141,
   "id": "61a021c1-9531-4846-afd6-92fa1123062d",
   "metadata": {},
   "outputs": [
    {
     "data": {
      "text/plain": [
       "[1, 3, 4, 0, 2]"
      ]
     },
     "execution_count": 141,
     "metadata": {},
     "output_type": "execute_result"
    }
   ],
   "source": [
    "a = [0,1,2,3,4]\n",
    "b = [1,3,4,0,2]\n",
    "p = getPermutation(a,b)\n",
    "p"
   ]
  },
  {
   "cell_type": "markdown",
   "id": "fc7a11d3-f62f-4fcc-b719-19996a940a85",
   "metadata": {},
   "source": [
    "#### Wiederholte Permutationen\n",
    "\n",
    "Die Permutation, die von a nach b führt, soll 5 mal wiederholt werden:\n"
   ]
  },
  {
   "cell_type": "code",
   "execution_count": 142,
   "id": "00762490-f220-4bbe-bf6b-31e8ab57112b",
   "metadata": {},
   "outputs": [],
   "source": [
    "a = list('BCADEFG')\n",
    "b = list('BDFAEGC')"
   ]
  },
  {
   "cell_type": "code",
   "execution_count": 145,
   "id": "2eb8bb50-b0d0-461a-bdf9-c7ce1b76d2d1",
   "metadata": {},
   "outputs": [
    {
     "data": {
      "text/plain": [
       "['B', 'C', 'A', 'D', 'E', 'F', 'G']"
      ]
     },
     "execution_count": 145,
     "metadata": {},
     "output_type": "execute_result"
    }
   ],
   "source": [
    "# 1. Möglichkeit\n",
    "p = getPermutation(a,b)\n",
    "p5 = repeatPermutation(p,5)\n",
    "applyPermutation(p5,a)"
   ]
  },
  {
   "cell_type": "code",
   "execution_count": 178,
   "id": "0ef063c1-c9a0-4b72-8892-d866c812a741",
   "metadata": {},
   "outputs": [
    {
     "data": {
      "text/plain": [
       "['B', 'C', 'A', 'D', 'E', 'F', 'G']"
      ]
     },
     "execution_count": 178,
     "metadata": {},
     "output_type": "execute_result"
    }
   ],
   "source": [
    "# 2. Möglichkeit\n",
    "p = getPermutation(a,b)\n",
    "a1 = a.copy()\n",
    "for i in range(5):\n",
    "    a1 = applyPermutation(p,a1)\n",
    "a1\n",
    "    "
   ]
  },
  {
   "cell_type": "markdown",
   "id": "c0c44915-1e35-4a13-b929-8ad81de57002",
   "metadata": {},
   "source": [
    "Für sehr große Wiederholungen kann man entweder einen Zyklus finden oder mit binary lifting arbeiten. "
   ]
  },
  {
   "cell_type": "code",
   "execution_count": 152,
   "id": "8b853e31-5f3e-42fe-b5a9-19d15046d751",
   "metadata": {},
   "outputs": [],
   "source": [
    "def getPermutationCycle(p):\n",
    "    '''\n",
    "    berechnet, nach wieviel Wiederholungen die Permutation wieder den Ausgangszustand erreicht hat.\n",
    "    >>> a = [2,0,4,1,3] \n",
    "    >>> getPermutationCycle(a)\n",
    "    5\n",
    "    '''\n",
    "    anz = 0\n",
    "    p1 = p.copy()\n",
    "    while True:\n",
    "        p1 = [p1[p[i]] for i in range(len(p))]\n",
    "        anz+=1\n",
    "        if p1 == p:\n",
    "            return anz"
   ]
  },
  {
   "cell_type": "code",
   "execution_count": 167,
   "id": "3d8d1e31-06f9-4b18-b655-43f896dedc18",
   "metadata": {},
   "outputs": [],
   "source": [
    "def repeatPermutationALot(p,k):\n",
    "    k0 = getPermutationCycle(p)\n",
    "    return repeatPermutation(p,k%k0)"
   ]
  },
  {
   "cell_type": "code",
   "execution_count": 182,
   "id": "b970a981-c62b-43cf-aa9d-4c3fd326cbff",
   "metadata": {},
   "outputs": [],
   "source": [
    "import math\n",
    "def getPermutationMatrix(a, maxK):\n",
    "    '''\n",
    "    a: Permutation, maxK: maximale Anzahl der Permutationen\n",
    "    returns: Matrix mit den Ergebnissen der Permutation in 2er-Potenzen\n",
    "\n",
    "    >>> a = [2,0,4,1,3]\n",
    "    >>> getPermutationMatrix(a,31)  # 31 = (11110) binär\n",
    "    [[2, 0, 4, 1, 3],\n",
    "     [4, 2, 3, 0, 1],\n",
    "     [1, 3, 0, 4, 2],\n",
    "     [3, 4, 1, 2, 0],\n",
    "     [2, 0, 4, 1, 3]]\n",
    "    '''\n",
    "    logval = int(math.log(maxK, 2))\n",
    "    m = [a]\n",
    "    for _ in range(logval):\n",
    "        m.append([m[-1][m[-1][j]] for j in range(len(a))])\n",
    "    return m\n",
    "\n",
    "def repeatPermutationBinary(a, k, pMatrix):\n",
    "    '''\n",
    "    a: Permutation, k: Anzahl der Wiederholungen,\n",
    "    pMatrix: Matrix mit den berechneten 2erPotenzen der Wiederholungen\n",
    "    returns: Permutation nach k Wiederholungen\n",
    "\n",
    "    >>> a = [2,0,4,1,3]\n",
    "    >>> m = getPermutationMatrix(a,10**9)\n",
    "    >>> calcPermutation(a, 12345678, m)\n",
    "    [3, 4, 1, 2, 0]\n",
    "\n",
    "    '''\n",
    "    logval = int(math.log(k, 2))\n",
    "    p = list(range(len(a)))\n",
    "    for i in range(logval + 1):\n",
    "        if k & (1 << i):\n",
    "            p = [pMatrix[i][p[j]] for j in range(len(p))]\n",
    "    return p"
   ]
  },
  {
   "cell_type": "code",
   "execution_count": 183,
   "id": "9ddb226f-0d43-4932-918a-f1a1cc04f3bc",
   "metadata": {},
   "outputs": [],
   "source": [
    "pMatrix = getPermutationMatrix(p,1000) "
   ]
  },
  {
   "cell_type": "code",
   "execution_count": 186,
   "id": "af0d1397-dfc1-42e0-8427-7b808f684cc6",
   "metadata": {},
   "outputs": [
    {
     "data": {
      "text/plain": [
       "[0, 1, 2, 3, 4, 5, 6]"
      ]
     },
     "execution_count": 186,
     "metadata": {},
     "output_type": "execute_result"
    }
   ],
   "source": [
    "repeatPermutation(p,500)"
   ]
  },
  {
   "cell_type": "code",
   "execution_count": 181,
   "id": "56b254c6-9b6d-45d5-b00b-9ca7143df978",
   "metadata": {},
   "outputs": [
    {
     "data": {
      "text/plain": [
       "[0, 6, 3, 1, 4, 2, 5]"
      ]
     },
     "execution_count": 181,
     "metadata": {},
     "output_type": "execute_result"
    }
   ],
   "source": [
    "repeatPermutationALot(p,104)"
   ]
  },
  {
   "cell_type": "code",
   "execution_count": 185,
   "id": "692680e0-0ed1-488f-85fc-e9b8036e4492",
   "metadata": {},
   "outputs": [
    {
     "data": {
      "text/plain": [
       "[0, 6, 3, 1, 4, 2, 5]"
      ]
     },
     "execution_count": 185,
     "metadata": {},
     "output_type": "execute_result"
    }
   ],
   "source": [
    "repeatPermutationBinary(p,104,pMatrix)"
   ]
  },
  {
   "cell_type": "markdown",
   "id": "57c814a5-5893-4793-ad4e-91fc853e5e68",
   "metadata": {},
   "source": [
    "#### Rückwärts"
   ]
  },
  {
   "cell_type": "code",
   "execution_count": 213,
   "id": "3e0efa4c-6f75-4716-a7bb-6832dc79d0ae",
   "metadata": {},
   "outputs": [],
   "source": [
    "a0 = list(range(1,len(a1)+1))\n",
    "a1 = [1,3,4,5,2]\n"
   ]
  },
  {
   "cell_type": "code",
   "execution_count": 226,
   "id": "baf077d4-66ca-43f2-a96b-d576f444dcb6",
   "metadata": {},
   "outputs": [
    {
     "data": {
      "text/plain": [
       "[0, 4, 1, 2, 3]"
      ]
     },
     "execution_count": 226,
     "metadata": {},
     "output_type": "execute_result"
    }
   ],
   "source": [
    "p = getPermutation(a1,a0)\n",
    "p"
   ]
  },
  {
   "cell_type": "code",
   "execution_count": 214,
   "id": "aedbf3fc-fb84-47e8-ae59-1eab444a4e13",
   "metadata": {},
   "outputs": [],
   "source": [
    "p3 = repeatPermutation(p\n",
    "                       ,3)"
   ]
  },
  {
   "cell_type": "code",
   "execution_count": 219,
   "id": "731eb756-90ef-45eb-986f-1dc0b80f7a70",
   "metadata": {},
   "outputs": [
    {
     "data": {
      "text/plain": [
       "['A', 'E', 'B', 'C', 'D']"
      ]
     },
     "execution_count": 219,
     "metadata": {},
     "output_type": "execute_result"
    }
   ],
   "source": [
    "b = list('ABCDE')\n",
    "c = applyPermutation(p3,b)"
   ]
  },
  {
   "cell_type": "code",
   "execution_count": 227,
   "id": "2c6f0675-778d-476e-9b04-f76f39a09525",
   "metadata": {},
   "outputs": [
    {
     "name": "stdout",
     "output_type": "stream",
     "text": [
      "['A', 'D', 'E', 'B', 'C']\n",
      "['A', 'C', 'D', 'E', 'B']\n",
      "['A', 'B', 'C', 'D', 'E']\n"
     ]
    }
   ],
   "source": [
    "b1 = list('AEBCD')\n",
    "for _ in range(3):\n",
    "    b1 = applyPermutation(p,b1)\n",
    "    print(b1)"
   ]
  },
  {
   "cell_type": "code",
   "execution_count": null,
   "id": "6bf398a1-09cc-4792-940c-083ffc46de10",
   "metadata": {},
   "outputs": [],
   "source": []
  }
 ],
 "metadata": {
  "kernelspec": {
   "display_name": "Python 3 (ipykernel)",
   "language": "python",
   "name": "python3"
  },
  "language_info": {
   "codemirror_mode": {
    "name": "ipython",
    "version": 3
   },
   "file_extension": ".py",
   "mimetype": "text/x-python",
   "name": "python",
   "nbconvert_exporter": "python",
   "pygments_lexer": "ipython3",
   "version": "3.11.2"
  }
 },
 "nbformat": 4,
 "nbformat_minor": 5
}
