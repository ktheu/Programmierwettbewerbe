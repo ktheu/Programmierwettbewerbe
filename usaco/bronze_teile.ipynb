{
 "cells": [
  {
   "cell_type": "markdown",
   "id": "4c481e58-107c-430b-9f8a-ab9343c79af2",
   "metadata": {},
   "source": [
    "#### Einige typische Teilaufgaben für Bronze"
   ]
  },
  {
   "cell_type": "code",
   "execution_count": 49,
   "id": "4fd1008d-deb3-4ec6-a0b8-4559e79a8ded",
   "metadata": {},
   "outputs": [],
   "source": [
    "import math\n",
    "import itertools as it\n",
    "import doctest"
   ]
  },
  {
   "cell_type": "markdown",
   "id": "3c01acc2-e79e-4a6a-b584-add82dc39e46",
   "metadata": {},
   "source": [
    "#### Summenformel "
   ]
  },
  {
   "cell_type": "code",
   "execution_count": 57,
   "id": "274f85ae-18af-4cf9-b922-5ef6f77c122f",
   "metadata": {},
   "outputs": [],
   "source": [
    "def summe(a, b):\n",
    "    ''' returns summe aller zahlen von a bis b einschließlich \n",
    "    \n",
    "    >>> summe(10,11)\n",
    "    21\n",
    "    '''\n",
    "    return (b+1)*b//2-a*(a-1)//2"
   ]
  },
  {
   "cell_type": "code",
   "execution_count": 67,
   "id": "db755679-b62f-4ef4-bd04-0bf8577a521a",
   "metadata": {},
   "outputs": [],
   "source": [
    "def summenGrenzeFuer(b):\n",
    "    '''\n",
    "    returns kleinte Zahl a, so dass 1 + 2 + ...+ a >= b\n",
    "    '''\n",
    "    return math.ceil((-1 + math.sqrt(1+8*b))/2)"
   ]
  },
  {
   "cell_type": "markdown",
   "id": "180992bb-c533-4254-8ddd-28b4df0fc1f7",
   "metadata": {},
   "source": [
    "#### Abschnitte bestimmen  \n",
    "\n",
    "(FEB 2023 Open, Lonely Photo 2021 Dec)\n",
    " "
   ]
  },
  {
   "cell_type": "code",
   "execution_count": null,
   "id": "0ca6bf17-3bd5-43cb-b608-a0e1ecec5b74",
   "metadata": {},
   "outputs": [],
   "source": []
  },
  {
   "cell_type": "code",
   "execution_count": 100,
   "id": "8b92a2b3-31c6-4f72-a3e8-4be36d532998",
   "metadata": {},
   "outputs": [],
   "source": [
    "def abschnitte(s, c):\n",
    "    '''\n",
    "    s: string, c: zeichen \n",
    "    returns: Liste mit den Intervallen der Vorkommen von c in s\n",
    "    \n",
    "    >>> abschnitte('EEFFBEEEFFF',c='F')\n",
    "    [(2, 3), (8, 10)]\n",
    "    '''\n",
    "    sx = ':'+s+':'               #  : Begrenzer, darf sonst keine Rolle spielen, bei Bedarf ändern\n",
    "    positions = [i for i in range(len(sx)) if sx[i] != c]\n",
    "    return [(x[0],x[1]-2) for x in zip(positions, positions[1:]) if x[0] + 1 < x[1]]\n",
    "\n",
    "import doctest\n",
    "doctest.run_docstring_examples(rand,globals(),optionflags=doctest.NORMALIZE_WHITESPACE)"
   ]
  },
  {
   "cell_type": "code",
   "execution_count": 163,
   "id": "0676a003-36ec-4880-8997-95815c480d8e",
   "metadata": {},
   "outputs": [],
   "source": [
    "def rand(s, c):\n",
    "    '''\n",
    "    s: string, c: zeichen\n",
    "    returns: die Anzahl der Zeichen c an den Rändern von s\n",
    "\n",
    "    >>> rand('FFBBEE',c='F')\n",
    "    2\n",
    "    >>> rand('BFFBBEE',c='F')\n",
    "    0\n",
    "    >>> rand('FFFBBFFFFEEFF',c='F')\n",
    "    5\n",
    "\n",
    "    '''\n",
    "    positions = [i for i in range(len(s)) if s[i] != c]\n",
    "    return positions[0] + len(s) - 1 - positions[-1]\n",
    "\n",
    "import doctest\n",
    "doctest.run_docstring_examples(rand,globals(),optionflags=doctest.NORMALIZE_WHITESPACE)"
   ]
  },
  {
   "cell_type": "code",
   "execution_count": 1,
   "id": "9c68fd83-940f-40e0-b372-2c9eae77d245",
   "metadata": {},
   "outputs": [],
   "source": [
    "def linksRechtsAbstaende(s, c):\n",
    "    '''\n",
    "    s: string, c: zeichen\n",
    "    returns: dict, das dem Index des Zeichens c in s den linken und rechten Abstand zu dem nächsten Zeichen c zuordnet\n",
    "\n",
    "    >>> linksRechtsAbstaende('GG...G.', 'G')\n",
    "    {0: (0, 0), 1: (0, 3), 5: (3, 1)}\n",
    "    '''\n",
    "    m = dict()\n",
    "    pp = [i for i in range(len(s)) if s[i] == c]\n",
    "    ppx = [-1]+pp+[len(s)]\n",
    "    diff = [ppx[i+1]-ppx[i]-1 for i in range(len(pp)+1)]\n",
    "    for i in range(len(pp)):\n",
    "        m[pp[i]] = (diff[i],diff[i+1])\n",
    "    return m"
   ]
  },
  {
   "cell_type": "markdown",
   "id": "fd2f909f-67ab-4b7c-a2b3-8ac8f912cf2c",
   "metadata": {},
   "source": [
    "#### Alle Teillisten\n"
   ]
  },
  {
   "cell_type": "code",
   "execution_count": 44,
   "id": "9ac6aac0-504e-4815-b55d-a99134130105",
   "metadata": {},
   "outputs": [],
   "source": [
    "def sublists(a,mi,ma):\n",
    "    '''\n",
    "    a: Liste\n",
    "    returns: Liste mit allen Teillisten von a die mindestens mi Elemente haben und maximal ma\n",
    "\n",
    "    >>> sublists([1,2,3,4],1,2)\n",
    "    [[1], [2], [3], [4], [1, 2], [1, 3], [1, 4], [2, 3], [2, 4], [3, 4]]\n",
    "    '''\n",
    "    tmp = []\n",
    "    for x in [list(x) for k in range(1,len(a)+1) for x in it.combinations(a, k)]:\n",
    "        if mi <= len(x) <= ma:\n",
    "            tmp.append(x)\n",
    "    return tmp\n",
    "\n",
    "    "
   ]
  },
  {
   "cell_type": "markdown",
   "id": "ead32dd9-f55e-4e77-b561-8dd67d9828aa",
   "metadata": {},
   "source": [
    "#### Einige Funktionen für Listen"
   ]
  },
  {
   "cell_type": "code",
   "execution_count": 45,
   "id": "230c79ac-f060-480d-a6b7-7630cb14ca5a",
   "metadata": {},
   "outputs": [],
   "source": [
    "def shiftLeft(a,k):\n",
    "    idx = k%len(a)\n",
    "    return a[idx:]+a[:idx]\n",
    "\n",
    "def shiftRight(a,k):\n",
    "    return shiftLeft(a,-k)"
   ]
  },
  {
   "cell_type": "code",
   "execution_count": 288,
   "id": "39141042-ea80-4760-a000-b3a4e2f38e51",
   "metadata": {},
   "outputs": [],
   "source": [
    "def diffList(a):\n",
    "    '''\n",
    "    a: Liste mit Zahlen\n",
    "    returns: Liste mit den Differenzen a[i+1]-a[i]\n",
    "\n",
    "    >>> diffList([3,5,2,8,9])\n",
    "    [2, -3, 6, 1]\n",
    "\n",
    "    '''\n",
    "    if len(a) == 0: return []\n",
    "    tmp = [0]*(len(a)-1)\n",
    "    for i in range(len(a)-1):\n",
    "        tmp[i] = a[i+1]-a[i]\n",
    "    return tmp\n",
    "\n",
    "def sumList(a):\n",
    "    ''' \n",
    "    >>> sumList([3,5,2,8,9])\n",
    "    [3, 8, 10, 18, 27]\n",
    "    '''\n",
    "    import itertools as it\n",
    "    return list(it.accumulate(a)) \n",
    "\n",
    "doctest.run_docstring_examples(diffList,globals(),optionflags=doctest.NORMALIZE_WHITESPACE)\n",
    "doctest.run_docstring_examples(sumList,globals(),optionflags=doctest.NORMALIZE_WHITESPACE)"
   ]
  },
  {
   "cell_type": "markdown",
   "id": "82ebf6eb-469c-43a9-9220-b21128c1f11b",
   "metadata": {},
   "source": [
    "#### Einige Funktionen für grids"
   ]
  },
  {
   "cell_type": "code",
   "execution_count": 7,
   "id": "03e2d665-4080-4357-8dc2-60b6ce56f4dc",
   "metadata": {},
   "outputs": [],
   "source": [
    "def delete_col(grid,k):\n",
    "    ''' deletes inplace column k '''\n",
    "    for row in grid:\n",
    "        del row[k]\n",
    "\n",
    "def delete_row(grid,k):\n",
    "    ''' deletes inplace row k '''\n",
    "    del grid[k]"
   ]
  },
  {
   "cell_type": "markdown",
   "id": "23904d8a-a1ce-4b22-b384-5148b4836997",
   "metadata": {},
   "source": [
    "#### Binäre suche"
   ]
  },
  {
   "cell_type": "code",
   "execution_count": 75,
   "id": "e4a7a3a0-c437-47a7-a94b-6d3e020e422b",
   "metadata": {},
   "outputs": [],
   "source": [
    "def binary_search_largest_true(a, b, p):\n",
    "    \"\"\"\n",
    "    gibt die größte Zahl x zurück, für die p(x) richtig ist \n",
    "    Voraussetzung: die Werte gehen von True nach False\n",
    "\n",
    "    >>> def p(x): return x < 30\n",
    "    >>> binary_search_largest_true(0,100,p)\n",
    "    29\n",
    "    >>> def p(x): return x <= 30\n",
    "    >>> binary_search_largest_true(0,100,p)\n",
    "    30\n",
    "    \"\"\"\n",
    "    while a <= b:\n",
    "        mid = (a + b) // 2\n",
    "        if p(mid):\n",
    "            result = mid\n",
    "            a = mid + 1\n",
    "        else:\n",
    "            b = mid - 1\n",
    "    return result\n",
    "\n",
    "import doctest\n",
    "doctest.run_docstring_examples(binary_search_largest_true,globals(),optionflags=doctest.NORMALIZE_WHITESPACE)"
   ]
  },
  {
   "cell_type": "code",
   "execution_count": 77,
   "id": "a2ddfe47-2139-4820-999c-9530dd91e5d9",
   "metadata": {},
   "outputs": [],
   "source": [
    "def binary_search_smallest_true(a, b, p):\n",
    "    \"\"\"\n",
    "    gibt die kleinste Zahl x zurück, für die p(x) richtig ist\n",
    "    Voraussetzung: die Werte gehen von False nach True\n",
    "    \n",
    "    >>> def p(x): return x > 30\n",
    "    >>> binary_search_smallest_true(0,100,p)\n",
    "    31\n",
    "    >>> def p(x): return x >= 30\n",
    "    >>> binary_search_smallest_true(0,100,p)\n",
    "    30\n",
    "    \"\"\"\n",
    "    result = None\n",
    "    while a <= b:\n",
    "        mid = (a + b) // 2\n",
    "        if p(mid):\n",
    "            result = mid\n",
    "            b = mid - 1\n",
    "        else:\n",
    "            a = mid + 1\n",
    "    return result\n",
    "\n",
    "import doctest\n",
    "doctest.run_docstring_examples(binary_search_smallest_true,globals(),optionflags=doctest.NORMALIZE_WHITESPACE)"
   ]
  },
  {
   "cell_type": "markdown",
   "id": "13c04854-59f0-4032-bc22-7dd27b75af74",
   "metadata": {},
   "source": [
    "#### Intervalle\n",
    "\n"
   ]
  },
  {
   "cell_type": "code",
   "execution_count": 4,
   "id": "1498b3fc-2df9-4e84-bd79-0113a67da011",
   "metadata": {},
   "outputs": [],
   "source": [
    "def find_overlap(a1, a2, b1, b2):\n",
    "    '''\n",
    "    Zwei Intervalle sind durch die Punkte (a1, a2), (b1, b2) gegeben.\n",
    "    returns: Intervall der Überlappung\n",
    "\n",
    "    >>> find_overlap(2,5,3,7)\n",
    "    (3, 5)\n",
    "    >>> find_overlap(2,5,6,7)\n",
    "    '''\n",
    "    start = max(a1, b1)\n",
    "    end = min(a2, b2)\n",
    "\n",
    "    if start < end:\n",
    "        return start, end\n",
    "    else:\n",
    "        return None\n",
    "\n",
    "import doctest\n",
    "doctest.run_docstring_examples(find_overlap,globals(),optionflags=doctest.NORMALIZE_WHITESPACE)"
   ]
  },
  {
   "cell_type": "markdown",
   "id": "636f9cdd-ebad-4234-ad8b-08fbe3ff9617",
   "metadata": {},
   "source": [
    "#### Rechtecke"
   ]
  },
  {
   "cell_type": "code",
   "execution_count": 19,
   "id": "6b080978-2556-4a99-a05f-0cf8ae040438",
   "metadata": {},
   "outputs": [],
   "source": [
    "class Rechteck:\n",
    "    def __init__(self,a1,a2,b1,b2):\n",
    "        '''\n",
    "        (a1,a2), (b1,b2) - Koordinate unten links und oben rechts\n",
    "        '''\n",
    "        self.a1 = a1\n",
    "        self.a2 = a2\n",
    "        self.b1 = b1\n",
    "        self.b2 = b2\n",
    "\n",
    "    def flaeche(self):\n",
    "        return (self.b1-self.a1)*(self.b2-self.a2)\n",
    "\n",
    "    def overlap(self,other):\n",
    "        '''\n",
    "        returns: Rechteck des overlaps, None falls nichts overlappt\n",
    "        '''\n",
    "        xOverlap = find_overlap(self.a1,self.b1,other.a1, other.b1)\n",
    "        yOverlap = find_overlap(self.a2,self.b2,other.a2, other.b2)\n",
    "        if xOverlap == None or yOverlap == None:\n",
    "            return None\n",
    "        c1, c2 = xOverlap[0], yOverlap[0]\n",
    "        d1, d2 = xOverlap[1], yOverlap[1]\n",
    "        return Rechteck(c1,c2,d1,d2)\n",
    "    \n",
    "    def __repr__(self):\n",
    "        return f'({self.a1},{self.a2}), ({self.b1},{self.b2})'"
   ]
  },
  {
   "cell_type": "code",
   "execution_count": null,
   "id": "787b1801-1d34-4a02-abfa-123539cf1902",
   "metadata": {},
   "outputs": [],
   "source": []
  }
 ],
 "metadata": {
  "kernelspec": {
   "display_name": "Python 3 (ipykernel)",
   "language": "python",
   "name": "python3"
  },
  "language_info": {
   "codemirror_mode": {
    "name": "ipython",
    "version": 3
   },
   "file_extension": ".py",
   "mimetype": "text/x-python",
   "name": "python",
   "nbconvert_exporter": "python",
   "pygments_lexer": "ipython3",
   "version": "3.11.2"
  }
 },
 "nbformat": 4,
 "nbformat_minor": 5
}
