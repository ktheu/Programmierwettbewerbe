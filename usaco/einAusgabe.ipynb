{
 "cells": [
  {
   "cell_type": "markdown",
   "id": "d767f535-69b1-4997-be29-5929bc595e61",
   "metadata": {},
   "source": [
    "#### Input/Output\n",
    "\n",
    "Um das dauernde Copy+Paste der Input-Daten zu vermeiden, können wir das folgende Setting benutzen. In die Datei input.txt wird einmal der Input kopiert. Die Datei kann dann ohne weitere Änderung submitted werden.\n",
    "Der absolute Pfad ist notwendig, da sonst in VSCode (jedenfalls bei mir) der Debugger die Datei nicht findet. Das r vor dem String sorgt dafür dass backslash kein Escape-Zeichen ist (sonst müsste es jeweils doppelt angegeben werden)."
   ]
  },
  {
   "cell_type": "code",
   "execution_count": null,
   "id": "2c86ca31-2bbb-4bd4-a433-e980757e2b67",
   "metadata": {},
   "outputs": [],
   "source": [
    "import platform\n",
    "if platform.system() == 'Windows':\n",
    "    f = open(r'\\Users\\khthe\\OneDrive\\2_Projekte\\ccSolutions\\USACO\\2023jan\\Leaders\\input.txt')\n",
    "    input = f.readline"
   ]
  },
  {
   "cell_type": "markdown",
   "id": "e9a01014-194e-4225-bffe-421302082e6a",
   "metadata": {},
   "source": [
    "In C++ können wir folgende Anweisungen nutzen:"
   ]
  },
  {
   "cell_type": "code",
   "execution_count": null,
   "id": "84b31daa-f9c3-4d09-af68-484d3e473c46",
   "metadata": {},
   "outputs": [],
   "source": [
    "int main(void) {\n",
    "#ifdef _WIN32\n",
    "    freopen(\"C:\\\\Users\\\\khthe\\\\OneDrive\\\\2_Projekte\\\\ccSolutions\\\\USACO\\\\2023open\\\\bronze\\\\rotate_and_shift\\\\input.txt\", \"r\", stdin);\n",
    "#endif\n",
    "  ..."
   ]
  },
  {
   "cell_type": "markdown",
   "id": "ff60f419-535c-45cb-a358-66740a18b9c7",
   "metadata": {},
   "source": [
    "#### Mehrere Tests in einem Testcase\n",
    "\n",
    "Häufig werden mehrere unabhängige Testcases in einem Test durchgeführt. Hierfür eignet sich eine solve-Schleife. "
   ]
  },
  {
   "cell_type": "code",
   "execution_count": null,
   "id": "99b609ba-9ce8-4574-982f-526ed1a91dcf",
   "metadata": {},
   "outputs": [],
   "source": [
    "import platform\n",
    "if platform.system() == \"Windows\":\n",
    "    f = open(\n",
    "        r\"\\Users\\khthe\\OneDrive\\2_Projekte\\ccSolutions\\USACO\\2023dec\\farm\\input.txt\"\n",
    "    )\n",
    "    input = f.readline\n",
    "\n",
    "def solve(N,....):\n",
    "    ...\n",
    "\n",
    "T = int(input())\n",
    "for _ in range(T):\n",
    "    N = int(input())\n",
    "    ... \n",
    "    ans = solve(N, ...)\n",
    "    print(ans)"
   ]
  },
  {
   "cell_type": "markdown",
   "id": "ce329bf1-e7d1-4609-82b7-e85c1a9b5083",
   "metadata": {},
   "source": [
    "#### Input/Output in Dateien\n",
    "\n",
    "Für die älteren USACO-Aufgaben, bei denen Ein- und Ausgabe über Dateien geregelt ist, können wir für die lokale Entwicklung den folgenden header verwenden. Im Code wird dann wieder nur input() und print() benutzt."
   ]
  },
  {
   "cell_type": "code",
   "execution_count": 1,
   "id": "2bbed940-9057-46a6-8ab5-3dd2cf2cf285",
   "metadata": {},
   "outputs": [],
   "source": [
    "import sys, platform\n",
    "if platform.system() == \"Windows\":\n",
    "    f = open(\n",
    "        r\"\\Users\\khthe\\OneDrive\\2_Projekte\\ccSolutions\\USACO\\2020feb\\triangles\\input.txt\"\n",
    "    )\n",
    "    input = f.readline\n",
    "else:\n",
    "    sys.stdin = open(\"triangles.in\", \"r\")\n",
    "    sys.stdout = open(\"triangles.out\", \"w\")\n"
   ]
  },
  {
   "cell_type": "markdown",
   "id": "dc9d0c35-3cc4-4ad7-8c44-97bf3361c529",
   "metadata": {},
   "source": [
    "In C++ können wir folgende Anweisungen nutzen. Im Code nutzen wir wieder nur cin und cout."
   ]
  },
  {
   "cell_type": "code",
   "execution_count": null,
   "id": "c4ebe08f-9abd-4626-9d25-023ddb26ac2f",
   "metadata": {},
   "outputs": [],
   "source": [
    "int main(void) {\n",
    "#ifdef _WIN32\n",
    "    freopen(\"C:\\\\Users\\\\khthe\\\\OneDrive\\\\2_Projekte\\\\ccSolutions\\\\USACO\\\\2018feb\\\\Hoofball\\\\input.txt\", \"r\", stdin);\n",
    "#else\n",
    "    freopen(\"hoofball.in\", \"r\", stdin);\n",
    "    freopen(\"hoofball.out\", \"w\", stdout);\n",
    "#endif\n",
    "  ...\n"
   ]
  },
  {
   "cell_type": "markdown",
   "id": "64c07c51-ab1c-4533-90aa-fcd015e23cd3",
   "metadata": {},
   "source": [
    "#### Doctest\n",
    "\n",
    "\n",
    "\n",
    "Manchmal kann es sich lohnen, bei kritischen Funktionen doctests einzufügen, um verschiedene Tests automatisch laufen zu lassen.\n",
    "Der doctest-Aufruf kann auch beim submit bestehen bleiben, da er keinen Output erzeugt, wenn die Tests erfolgreich sind.\n",
    "\n",
    "Aber Achtung: das funktioniert nur für Funktionen, die keine globalen Variablen benutzen."
   ]
  },
  {
   "cell_type": "code",
   "execution_count": 5,
   "id": "461bea73-21d2-4db7-bbbb-12dd02d16fa2",
   "metadata": {},
   "outputs": [],
   "source": [
    "def shiftLeft(a,k):\n",
    "    '''\n",
    "    >>> a = [1,2,3,4,5]\n",
    "    >>> shiftLeft(a,2)\n",
    "    [3, 4, 5, 1, 2]\n",
    "    '''\n",
    "    idx = k%len(a)\n",
    "    return a[idx:]+a[:idx]\n",
    "\n",
    "import doctest\n",
    "doctest.run_docstring_examples(shiftLeft,globals(),optionflags=doctest.NORMALIZE_WHITESPACE)    # update function-name"
   ]
  }
 ],
 "metadata": {
  "kernelspec": {
   "display_name": "Python 3 (ipykernel)",
   "language": "python",
   "name": "python3"
  },
  "language_info": {
   "codemirror_mode": {
    "name": "ipython",
    "version": 3
   },
   "file_extension": ".py",
   "mimetype": "text/x-python",
   "name": "python",
   "nbconvert_exporter": "python",
   "pygments_lexer": "ipython3",
   "version": "3.11.2"
  }
 },
 "nbformat": 4,
 "nbformat_minor": 5
}
