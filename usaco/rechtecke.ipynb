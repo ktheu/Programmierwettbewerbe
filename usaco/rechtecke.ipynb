{
 "cells": [
  {
   "cell_type": "markdown",
   "id": "82ebf6eb-469c-43a9-9220-b21128c1f11b",
   "metadata": {},
   "source": [
    "### Intervalle und Rechtecke"
   ]
  },
  {
   "cell_type": "markdown",
   "id": "13c04854-59f0-4032-bc22-7dd27b75af74",
   "metadata": {},
   "source": [
    "#### Intervalle\n",
    "\n"
   ]
  },
  {
   "cell_type": "code",
   "execution_count": 1,
   "id": "1498b3fc-2df9-4e84-bd79-0113a67da011",
   "metadata": {},
   "outputs": [],
   "source": [
    "def find_overlap(a1, a2, b1, b2):\n",
    "    '''\n",
    "    Zwei Intervalle sind durch die Punkte (a1, a2), (b1, b2) gegeben.\n",
    "    returns: Intervall der Überlappung\n",
    "\n",
    "    >>> find_overlap(2,5,3,7)\n",
    "    (3, 5)\n",
    "    >>> find_overlap(2,5,6,7)\n",
    "    '''\n",
    "    start = max(a1, b1)\n",
    "    end = min(a2, b2)\n",
    "\n",
    "    if start < end:\n",
    "        return start, end\n",
    "    else:\n",
    "        return None\n",
    "\n",
    "import doctest\n",
    "doctest.run_docstring_examples(find_overlap,globals(),optionflags=doctest.NORMALIZE_WHITESPACE)"
   ]
  },
  {
   "cell_type": "markdown",
   "id": "636f9cdd-ebad-4234-ad8b-08fbe3ff9617",
   "metadata": {},
   "source": [
    "#### Rechtecke"
   ]
  },
  {
   "cell_type": "code",
   "execution_count": 19,
   "id": "6b080978-2556-4a99-a05f-0cf8ae040438",
   "metadata": {},
   "outputs": [],
   "source": [
    "class Rechteck:\n",
    "    def __init__(self,a1,a2,b1,b2):\n",
    "        '''\n",
    "        (a1,a2), (b1,b2) - Koordinate unten links und oben rechts\n",
    "        '''\n",
    "        self.a1 = a1\n",
    "        self.a2 = a2\n",
    "        self.b1 = b1\n",
    "        self.b2 = b2\n",
    "\n",
    "    def flaeche(self):\n",
    "        return (self.b1-self.a1)*(self.b2-self.a2)\n",
    "\n",
    "    def overlap(self,other):\n",
    "        '''\n",
    "        returns: Rechteck des overlaps, None falls nichts overlappt\n",
    "        '''\n",
    "        xOverlap = find_overlap(self.a1,self.b1,other.a1, other.b1)\n",
    "        yOverlap = find_overlap(self.a2,self.b2,other.a2, other.b2)\n",
    "        if xOverlap == None or yOverlap == None:\n",
    "            return None\n",
    "        c1, c2 = xOverlap[0], yOverlap[0]\n",
    "        d1, d2 = xOverlap[1], yOverlap[1]\n",
    "        return Rechteck(c1,c2,d1,d2)\n",
    "    \n",
    "    def __repr__(self):\n",
    "        return f'({self.a1},{self.a2}), ({self.b1},{self.b2})'"
   ]
  },
  {
   "cell_type": "code",
   "execution_count": null,
   "id": "787b1801-1d34-4a02-abfa-123539cf1902",
   "metadata": {},
   "outputs": [],
   "source": []
  }
 ],
 "metadata": {
  "kernelspec": {
   "display_name": "Python 3 (ipykernel)",
   "language": "python",
   "name": "python3"
  },
  "language_info": {
   "codemirror_mode": {
    "name": "ipython",
    "version": 3
   },
   "file_extension": ".py",
   "mimetype": "text/x-python",
   "name": "python",
   "nbconvert_exporter": "python",
   "pygments_lexer": "ipython3",
   "version": "3.11.2"
  }
 },
 "nbformat": 4,
 "nbformat_minor": 5
}
