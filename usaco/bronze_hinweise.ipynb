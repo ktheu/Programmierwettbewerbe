{
 "cells": [
  {
   "cell_type": "markdown",
   "id": "27e3990b-117d-4257-946c-ae1c6c09bd34",
   "metadata": {},
   "source": [
    "## USACO"
   ]
  },
  {
   "cell_type": "markdown",
   "id": "52964672-65a3-42f0-8f57-7e263f12cf5e",
   "metadata": {},
   "source": [
    "### Bronze\n",
    "\n",
    "Es gibt 3 Aufgaben, zusammen 1000 Punkte, jede Aufgabe ist gleich gewichtet, jede Aufgabe trägt also ca. 333 Punkte zur Gesamtwertung bei. Bei einer Aufgabe gibt es verschiedene Tests, in der Regel 10-18, die jeweils gleich gewertet werden. Häufig sind die letzten Tests kritisch für die Laufzeit, wenn der gewählte Algorithmus nicht besonders effektiv ist. "
   ]
  },
  {
   "cell_type": "markdown",
   "id": "5bb1cf42-bf89-47b7-b0a9-e50883e4089d",
   "metadata": {},
   "source": [
    "Die Weiterleitung nach Silver ist je nach Wettbewerb unterschiedlich und liegt meist im Bereich 650-750 Punkte Sie wird vor dem Wettbewerb nicht mitgeteilt.\n",
    "Wenn 750 Punkte die Grenze ist, dann müssen also 3/4 aller Testfälle gelöst werden. D.h. insgesamt 3/4*3=9/4=2.25 Aufgaben gelöst werden.\n",
    "\n"
   ]
  },
  {
   "cell_type": "markdown",
   "id": "1e267718-b66a-4d6b-9c55-0601d38f1d91",
   "metadata": {},
   "source": [
    "#### Der letzte Submit zählt\n",
    "\n",
    "Es gibt keine Strafpunkte für falsche submits. Aber nur der letzte submit zählt für die Punkte. Man sollte sich bei mehreren Versuchen also immer notieren, welche Version die meisten Testfälle löst und diese Version am Ende nochmal submitten."
   ]
  },
  {
   "cell_type": "markdown",
   "id": "a75b917a-3529-4067-bd30-f91ccdc8434b",
   "metadata": {},
   "source": [
    "#### Programmiersprache\n",
    "\n",
    "In Bronze kann man mit Python programmieren. Durch den Wechsel auf C++ erhöht sich nach meiner Erfahrung die Anzahl der gelösten Testfälle nicht (mit ganz wenigen Ausnahmen). In Python kann man die Module der Standardlibrary benutzen, also insbesondere die itertools. Numpy kann nicht benutzt werden."
   ]
  },
  {
   "cell_type": "markdown",
   "id": "5479801d-34d9-4c20-8e9c-b396bf978b23",
   "metadata": {},
   "source": [
    "#### Code vorbereiten\n",
    "\n",
    "Um das dauernde Copy+Paste der Input-Daten zu vermeiden kann man das folgende setting benutzen. In die Datei input.txt wird einmal der Input kopiert. Die Datei kann dann ohne weitere Änderung submitted werden.\n",
    "Der absolute Pfad ist notwendig, da sonst in VSCode (jedenfalls bei mir) der Debugger die Datei nicht findet. Das r vor dem String sorgt dafür dass backlash kein Escape-Zeichen ist (sonst müsste es jeweils doppelt angegeben werden)."
   ]
  },
  {
   "cell_type": "code",
   "execution_count": null,
   "id": "0f3e9c8c-a017-4a98-907d-23b3f8220d5d",
   "metadata": {},
   "outputs": [],
   "source": [
    "import platform\n",
    "if platform.system() == 'Windows':\n",
    "    f = open(r'\\Users\\khthe\\OneDrive\\2_Projekte\\ccSolutions\\USACO\\2023jan\\Leaders\\input.txt')\n",
    "    input = f.readline"
   ]
  },
  {
   "cell_type": "markdown",
   "id": "fae2b183-1ebb-43b8-894c-9fc1a2e19dc1",
   "metadata": {},
   "source": [
    "Für jede Aufgabe kann in der Vorbereitung ein Ordner mit einer py-Datei und einer input-Datei angelegt werden. Man sollte dann auch mal ausprobieren, ob der Debugger dort funktioniert.\n",
    "\n",
    "Für die älteren USACO-Aufgaben, bei denen Ein- und Ausgabe über Dateien geregelt ist, können wir für die lokale Entwicklung den folgenden header verwenden.\n",
    "Im Code wird dann wieder nur input() und print() benutzt."
   ]
  },
  {
   "cell_type": "code",
   "execution_count": null,
   "id": "373fdb96-7e80-4dae-a5a7-c74b7eb49487",
   "metadata": {},
   "outputs": [],
   "source": [
    "import sys, platform\n",
    "if platform.system() == \"Windows\":\n",
    "    f = open(\n",
    "        r\"\\Users\\khthe\\OneDrive\\2_Projekte\\ccSolutions\\USACO\\2020feb\\triangles\\input.txt\"\n",
    "    )\n",
    "    input = f.readline\n",
    "else:\n",
    "    sys.stdin = open(\"triangles.in\", \"r\")\n",
    "    sys.stdout = open(\"triangles.out\", \"w\")\n"
   ]
  },
  {
   "cell_type": "markdown",
   "id": "c80714b3",
   "metadata": {},
   "source": [
    "In C++ kann man folgende Konstruktion nutzen:"
   ]
  },
  {
   "cell_type": "code",
   "execution_count": null,
   "id": "5ec1f141",
   "metadata": {},
   "outputs": [],
   "source": [
    "\n",
    "\n",
    "#ifdef _WIN32\n",
    "    freopen(\"C:\\\\Users\\\\khthe\\\\OneDrive\\\\2_Projekte\\\\ccSolutions\\\\USACO\\\\2018feb\\\\Hoofball\\\\input.txt\", \"r\", stdin);\n",
    "#else\n",
    "    freopen(\"hoofball.in\", \"r\", stdin);\n",
    "    freopen(\"hoofball.out\", \"w\", stdout);\n",
    "#endif\n"
   ]
  },
  {
   "cell_type": "markdown",
   "id": "62b74790-ab76-4b30-be44-941c3d951ac8",
   "metadata": {},
   "source": [
    "#### Zeit einteilen\n",
    "\n",
    "In der Regel haben wir 3-5 Stunden Zeit. Angenommen wir haben 4 Stunden Zeit, also 80 Minuten pro Aufgabe. Es gibt die Empfehlung, sich erst alle Aufgaben durchzulesen. Ich finde das nicht plausibel. Selbst wenn die erste Aufgabe die schwierigste ist, muss ich sie mindestens zu 1/4 lösen (die beiden anderen müssen dann vollständig gelöst werden). \n",
    "\n",
    "Eine grobe Zeiteinteilung könnte sein:\n",
    "1. Einen Algorithmus zur Lösung finden: die Beispiele auf Papier durchgehen und ggf. um eigene Beispiele ergänzen. In einer Art Pseudocode die Schritte beschreiben, die zur Lösung führen (40 Minuten).\n",
    "2. Den Algorithmus implementieren. Geeignete Abschnitte in Funktionen zusammenfassen. Gegebenenfalls doctests einfügen und frühzeitig den Debugger einsetzen (40 Minuten)."
   ]
  },
  {
   "cell_type": "markdown",
   "id": "49ad089d-5d3c-44ad-adc6-aeca85d9212a",
   "metadata": {},
   "source": [
    "#### Doctest\n",
    "\n",
    "Manchmal kann es sich lohnen, bei kritischen Funktionen doctests einzufügen, um verschiedene Tests automatisch laufen zu lassen.\n",
    "Der doctest-Aufruf kann auch beim submit bestehen bleiben, da er keinen Output erzeugt, wenn die Tests erfolgreich sind."
   ]
  },
  {
   "cell_type": "code",
   "execution_count": null,
   "id": "de657c8c-f90d-4117-b7b2-8c26239d996c",
   "metadata": {},
   "outputs": [],
   "source": [
    "def beats(a,b):\n",
    "    ''' returns True if a beats b\n",
    "    \n",
    "    >>> beats([1,2,3,4],[1,2,3,4])\n",
    "    False\n",
    "    >>> beats([1,2,3,4],[1,2,3,3])\n",
    "    True\n",
    "    >>> beats([4,5,6,7],[2,4,5,10])\n",
    "    True\n",
    "    '''\n",
    "    pass\n",
    "\n",
    "import doctest\n",
    "doctest.run_docstring_examples(beats,globals(),optionflags=doctest.NORMALIZE_WHITESPACE)"
   ]
  },
  {
   "cell_type": "markdown",
   "id": "c2112e74-89ad-4ff2-bd8d-6a4d1892aaf3",
   "metadata": {},
   "source": []
  }
 ],
 "metadata": {
  "kernelspec": {
   "display_name": "Python 3 (ipykernel)",
   "language": "python",
   "name": "python3"
  },
  "language_info": {
   "codemirror_mode": {
    "name": "ipython",
    "version": 3
   },
   "file_extension": ".py",
   "mimetype": "text/x-python",
   "name": "python",
   "nbconvert_exporter": "python",
   "pygments_lexer": "ipython3",
   "version": "3.11.2"
  }
 },
 "nbformat": 4,
 "nbformat_minor": 5
}
