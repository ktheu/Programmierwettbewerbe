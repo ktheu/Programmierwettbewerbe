{
 "cells": [
  {
   "cell_type": "markdown",
   "id": "64a77b63-9738-4991-8a01-4237c6ecfdde",
   "metadata": {
    "tags": []
   },
   "source": [
    "# Junioraufgabe 1: Bücherregal\n",
    "\n",
    "### Team-ID: 12345\n",
    "\n",
    "### Team-Name: MyTeam\n",
    "\n",
    "### Bearbeiter/-innen dieser Aufgabe: Lena Müller, Malte Riedberg\n",
    "\n",
    "Datum: 10. November 2017\n",
    "\n",
    "### Lösungsidee\n",
    "\n",
    "Die Bücher werden nach Höhen sortiert in einer Liste gespeichert.\n",
    "Zu Beginn ist das erste, also das kleinste Buch, der Beginn des ersten Abschnitts.\n",
    "Dann gehen wir die Bücherliste durch. Sobald ein Buch gefunden wurde, das eine\n",
    "Höhendifferenz größer als 3 cm zum Beginn des Abschnitts hat, setzen wir vor diesem\n",
    "Buch eine Figur und nehmen dieses Buch als Beginn eines neuen Abschnitts.\n",
    "Das machen wir bis zum Ende der Bücherliste und zählen dabei die Anzahl der\n",
    "notwendigen Figuren. Wenn diese Anzahl kleiner oder gleich der Anzahl der verfügbaren\n",
    "Figuren ist, ist eine Aufstellung möglich und wir geben die Lösung aus.\n",
    "\n",
    "<div style=\"page-break-after: always;\"></div>\n",
    "\n",
    "### Umsetzung\n",
    "\n",
    "Die Lösungsidee wird in ein Programm der Sprache Python umgesetzt.\n",
    "Die Höhen der Bücher sind in mm angegeben. Wir lesen die Höhen in eine Liste buecher ein. Mit\n",
    "\n",
    "```python\n",
    "buecher.sort()\n",
    "``` \n",
    "\n",
    "erhalten wir eine nach Höhe sortierte Bücherliste:\n",
    "\n",
    "Die Liste _regal_ ist zu Beginn leer. Wir speichern darin der Reihe nach\n",
    "die Bücher und Figuren für die Aufstellung.\n",
    "\n",
    "Die Variable i zeigt auf den Index des Buches, das sich am Beginn eines\n",
    "Abschnitts befindet. Mit der Variablen j durchlaufen wir die Bücherliste.\n",
    "\n",
    "\n",
    "\n",
    "\n",
    "Innerhalb der Schleife, mit der wir die Bücherliste\n",
    "durchlaufen, fügen wir ein Buch entweder mit _append_ in die Liste regal ein,\n",
    "oder, falls das Buch zu groß ist, fügen wir eine Figur ins regal ein und dann das Buch.\n",
    "Die Anzahl der gesetzten Figuren merken wir uns in der Variablen _zaehl_.\n",
    "\n",
    "Mit _i = j_ wird dann der Beginn des neuen Abschnitts gesetzt.\n",
    "\n",
    "```python\n",
    "while j < len(buecher):                # solange noch nicht am Ende der Bücherliste\n",
    "    if buecher[j] - buecher[i] <= 30:  # passt aktuelles Buch noch in den Abschnitt?\n",
    "        regal.append(buecher[j])       # Buch in den Abschnitt\n",
    "    else:\n",
    "        regal.append('Figur')          # Abschnittsende, setzen der Figur\n",
    "        regal.append(buecher[j])       # aktuelles Buch ist Beginn des nächsten Abschnitts\n",
    "        zaehl += 1                     # Erhöhe Anzahl aufgestellter Figuren\n",
    "        i = j          # Anfang des Abschnitts wird das aktuelle Buch\n",
    "    j = j + 1          # ein Buch weiter in der Liste\n",
    "\n",
    "```\n",
    "\n",
    "In der Ausgabe der Lösung erscheinen nur die Figuren, die für die Aufstellung notwendig sind.\n",
    "Falls weitere Figuren verfügbar sind, können diese beliebig platziert werden.\n",
    "\n",
    "\n",
    " "
   ]
  },
  {
   "cell_type": "markdown",
   "id": "61d91365-2d4f-4ce1-ba1a-12d0472b9c89",
   "metadata": {},
   "source": [
    "<div style=\"page-break-after: always;\"></div>\n",
    "\n",
    "### Beispiele"
   ]
  },
  {
   "cell_type": "code",
   "execution_count": 6,
   "id": "819f6f48-67f7-4608-8eb2-f0926e46bdf0",
   "metadata": {},
   "outputs": [
    {
     "name": "stdout",
     "output_type": "stream",
     "text": [
      "Bücherregal 1:\n",
      "Aufteilung mit 4 Figuren ist möglich.\n",
      "168 170 \n",
      "Figur 202 211 229 \n",
      "Figur 233 254 260 \n",
      "Figur 272 \n",
      "Figur 306 307 "
     ]
    }
   ],
   "source": [
    "buecherregal(1)"
   ]
  },
  {
   "cell_type": "code",
   "execution_count": 7,
   "id": "f9792745-52a1-4910-929e-c881bffbc93b",
   "metadata": {},
   "outputs": [
    {
     "name": "stdout",
     "output_type": "stream",
     "text": [
      "Bücherregal 2:\n",
      "Aufteilung mit 2 Figuren ist möglich.\n",
      "169 175 \n",
      "Figur 203 209 210 229 \n",
      "Figur 235 "
     ]
    }
   ],
   "source": [
    "buecherregal(2)"
   ]
  },
  {
   "cell_type": "code",
   "execution_count": 4,
   "id": "c64dca9a-3ae9-4d2f-8e4d-4cd86fcf3d4f",
   "metadata": {},
   "outputs": [
    {
     "name": "stdout",
     "output_type": "stream",
     "text": [
      "Bücherregal 3:\n",
      "Aufteilung mit 2 Figuren ist nicht möglich.\n"
     ]
    }
   ],
   "source": [
    "buecherregal(3)"
   ]
  },
  {
   "cell_type": "markdown",
   "id": "e5249e52-ca7b-445a-992e-4464e71ea70d",
   "metadata": {},
   "source": [
    "<div style=\"page-break-after: always;\"></div>\n",
    "Beispiele (Fortsetzung)"
   ]
  },
  {
   "cell_type": "code",
   "execution_count": 3,
   "id": "edb79faf-6097-4a98-b3ea-ff5942b570aa",
   "metadata": {},
   "outputs": [
    {
     "name": "stdout",
     "output_type": "stream",
     "text": [
      "Bücherregal 4:\n",
      "Aufteilung mit 4 Figuren ist möglich.\n",
      "160 160 161 161 162 165 165 166 167 167 167 169 170 170 171 173 173 174 174 177 180 182 183 184 184 185 185 187 188 189 190 \n",
      "Figur 196 197 197 199 200 201 202 206 207 207 211 212 212 214 215 216 217 218 219 224 225 \n",
      "Figur 233 235 237 238 238 239 240 240 240 245 246 246 247 253 254 256 258 259 259 261 \n",
      "Figur 264 266 266 267 268 270 270 272 274 275 276 277 278 279 286 286 287 288 289 290 293 293 \n",
      "Figur 295 296 300 301 303 304 "
     ]
    }
   ],
   "source": [
    "buecherregal(4)"
   ]
  },
  {
   "cell_type": "code",
   "execution_count": 10,
   "id": "a91cdc3b-842f-47b0-989e-85ece9637506",
   "metadata": {},
   "outputs": [
    {
     "name": "stdout",
     "output_type": "stream",
     "text": [
      "Bücherregal 5:\n",
      "Aufteilung mit 3 Figuren ist möglich.\n",
      "160 161 161 161 162 162 162 163 163 164 164 164 164 164 165 165 165 166 167 167 168 168 168 168 169 169 170 170 171 171 171 171 172 174 174 174 174 175 175 176 176 176 176 176 177 177 178 179 180 180 \n",
      "Figur 201 202 202 202 203 206 206 208 209 210 211 212 216 220 220 221 221 229 230 230 230 231 \n",
      "Figur 232 232 233 233 235 237 238 240 241 241 241 243 243 246 248 248 250 254 257 258 260 261 261 \n",
      "Figur 263 264 265 265 270 "
     ]
    }
   ],
   "source": [
    "buecherregal(5)"
   ]
  },
  {
   "cell_type": "code",
   "execution_count": 11,
   "id": "9474d9cd-cc10-4300-a0fe-752d4cffa3ee",
   "metadata": {},
   "outputs": [
    {
     "name": "stdout",
     "output_type": "stream",
     "text": [
      "Bücherregal 6:\n",
      "Aufteilung mit 4 Figuren ist nicht möglich.\n"
     ]
    }
   ],
   "source": [
    "buecherregal(6)"
   ]
  },
  {
   "cell_type": "markdown",
   "id": "5dbb288e-7330-4f50-9c72-40fb62e12f52",
   "metadata": {},
   "source": [
    "<div style=\"page-break-after: always;\"></div>\n",
    "\n",
    "### Quellcode - Version ohne Funktionen"
   ]
  },
  {
   "cell_type": "code",
   "execution_count": 2,
   "id": "650a8e7f-888b-43a1-82cd-94fc1361617a",
   "metadata": {},
   "outputs": [],
   "source": [
    "def buecherregal(nr):\n",
    "    f = open('./beispieldaten/buecherregal'+str(nr)+'.txt')\n",
    "\n",
    "    anz_figuren = int(f.readline())\n",
    "    anz_buecher = int(f.readline())\n",
    "\n",
    "    buecher = []           # Liste mit den Büchern\n",
    "\n",
    "    for i in range(anz_buecher):\n",
    "        buecher.append(int(f.readline()))\n",
    "\n",
    "    buecher.sort()\n",
    "\n",
    "    regal = []             # die Aufstellung von Büchern und Figuren\n",
    "    zaehl = 0              # Anzahl aufgestellter Figuren\n",
    "    print(f'Bücherregal {nr}:')\n",
    "\n",
    "    i = 0                  # Anfang des Abschnitts\n",
    "    j = 0                  # aktuelles Buch\n",
    "    while j < len(buecher):                # solange noch nicht am Ende der Bücherliste\n",
    "        if buecher[j] - buecher[i] <= 30:  # passt aktuelles Buch noch in den Abschnitt?\n",
    "            regal.append(buecher[j])       # Buch in den Abschnitt\n",
    "        else:\n",
    "            regal.append('\\nFigur')          # Abschnittsende, setzen der Figur\n",
    "            regal.append(buecher[j])       # aktuelles Buch ist Beginn des nächsten Abschnitts\n",
    "            zaehl += 1                     # Erhöhe Anzahl aufgestellter Figuren\n",
    "            i = j          # Anfang des Abschnitts wird das aktuelle Buch\n",
    "        j = j + 1          # ein Buch weiter in der Liste\n",
    "\n",
    "\n",
    "    if zaehl <= anz_figuren:               # Anzahl verwendeter Figuren <= Anzahl verfügbare Figuren?\n",
    "        print(f'Aufteilung mit {anz_figuren} Figuren ist möglich.')\n",
    "        for x in regal:\n",
    "            print(x,end= ' ')\n",
    "    else:\n",
    "        print(f'Aufteilung mit {anz_figuren} Figuren ist nicht möglich.')"
   ]
  },
  {
   "cell_type": "markdown",
   "id": "0dfcb768-f761-4ec8-8f1e-1e87e8aef949",
   "metadata": {},
   "source": [
    "### Quellcode - Version mit Funktionen"
   ]
  },
  {
   "cell_type": "code",
   "execution_count": 97,
   "id": "ba7130f7-5754-4b03-be83-52e6d6df6019",
   "metadata": {},
   "outputs": [],
   "source": [
    "def datenEinlesen(nr):\n",
    "    '''\n",
    "    nr: int, Nummer des Beispiels von 1 - 6\n",
    "    returns: Tuple (Anzahl Figuren, Liste mit den Höhen der Bücher)\n",
    "    \n",
    "    >>> datenEinlesen(1)\n",
    "    (4, [168, 170, 202, 211, 229, 233, 254, 260, 272, 306, 307])\n",
    "    \n",
    "    '''\n",
    "    f = open('./beispieldaten/buecherregal'+str(nr)+'.txt')\n",
    "\n",
    "    anz_figuren = int(f.readline())\n",
    "    anz_buecher = int(f.readline())\n",
    "\n",
    "    buecher = []           # Liste mit den Büchern\n",
    "\n",
    "    for i in range(anz_buecher):\n",
    "        buecher.append(int(f.readline()))\n",
    "    return anz_figuren, buecher\n",
    "\n",
    "def aufstellung(buecher):\n",
    "    '''\n",
    "    buecher: sortierte Liste mit den Höhen der Bücher\n",
    "    returns: Liste mit den Höhen der Bücher und den platzierten Figuren, die Bücher in einem Figurenabschnitt\n",
    "        haben höchstens einen Höhenunterschied von 30.\n",
    "        \n",
    "    >>> aufstellung([168, 170, 202, 211, 229, 233, 254, 260, 272, 306, 307])\n",
    "    [168, 170, 'Figur', 202, 211, 229, 'Figur', 233, 254, 260, 'Figur', 272, 'Figur', 306, 307]\n",
    "    \n",
    "    '''\n",
    "    regal = []             # die Aufstellung von Büchern und Figuren\n",
    "    zaehl = 0              # Anzahl aufgestellter Figuren\n",
    "\n",
    "    i = 0                  # Anfang des Abschnitts\n",
    "    j = 0                  # aktuelles Buch\n",
    "    while j < len(buecher):                # solange noch nicht am Ende der Bücherliste\n",
    "        if buecher[j] - buecher[i] <= 30:  # passt aktuelles Buch noch in den Abschnitt?\n",
    "            regal.append(buecher[j])       # Buch in den Abschnitt\n",
    "        else:\n",
    "            regal.append('Figur')          # Abschnittsende, setzen der Figur\n",
    "            regal.append(buecher[j])       # aktuelles Buch ist Beginn des nächsten Abschnitts\n",
    "            zaehl += 1                     # Erhöhe Anzahl aufgestellter Figuren\n",
    "            i = j          # Anfang des Abschnitts wird das aktuelle Buch\n",
    "        j = j + 1          # ein Buch weiter in der Liste\n",
    "    return regal\n",
    "\n",
    "def auswertung(nr, regal, anz_figuren):\n",
    "    '''\n",
    "    nr: Nummer des Beispiels\n",
    "    regal: Liste mit Bücherhöhen und Figuren\n",
    "    anzFiguren: int, Anzahl der verfügbaren Figuren\n",
    "    returns: None, gibt das Ergebnis aus\n",
    "    \n",
    "    '''\n",
    "    benoetigt = regal.count('Figur')\n",
    "    print(f'Beispiel {nr}:')\n",
    "    if anz_figuren >= benoetigt:\n",
    "        print(f'Eine Aufteilung mit {anz_figuren} Figuren ist möglich.')\n",
    "        for x in regal:\n",
    "            if x != 'Figur':\n",
    "                print(x, end=' ')\n",
    "            else:\n",
    "                print(x)\n",
    "        print()\n",
    "    else: \n",
    "        print(f'Eine Aufteilung mit {anz_figuren} Figuren ist nicht möglich.')\n",
    "    print()"
   ]
  },
  {
   "cell_type": "code",
   "execution_count": 98,
   "id": "e82ff7fd-be49-4873-9eb6-07ac843afeb0",
   "metadata": {},
   "outputs": [],
   "source": [
    "def buecherregal(nr):\n",
    "    anz_figuren, buecher = datenEinlesen(nr)\n",
    "    buecher.sort()\n",
    "    regal = aufstellung(buecher)\n",
    "    auswertung(nr, regal, anz_figuren)\n"
   ]
  },
  {
   "cell_type": "code",
   "execution_count": 99,
   "id": "5158619a-81dd-4393-a650-6b1ad2394f50",
   "metadata": {},
   "outputs": [
    {
     "name": "stdout",
     "output_type": "stream",
     "text": [
      "Beispiel 1:\n",
      "Eine Aufteilung mit 4 Figuren ist möglich.\n",
      "168 170 Figur\n",
      "202 211 229 Figur\n",
      "233 254 260 Figur\n",
      "272 Figur\n",
      "306 307 \n",
      "\n",
      "Beispiel 2:\n",
      "Eine Aufteilung mit 2 Figuren ist möglich.\n",
      "169 175 Figur\n",
      "203 209 210 229 Figur\n",
      "235 \n",
      "\n",
      "Beispiel 3:\n",
      "Eine Aufteilung mit 2 Figuren ist nicht möglich.\n",
      "\n",
      "Beispiel 4:\n",
      "Eine Aufteilung mit 4 Figuren ist möglich.\n",
      "160 160 161 161 162 165 165 166 167 167 167 169 170 170 171 173 173 174 174 177 180 182 183 184 184 185 185 187 188 189 190 Figur\n",
      "196 197 197 199 200 201 202 206 207 207 211 212 212 214 215 216 217 218 219 224 225 Figur\n",
      "233 235 237 238 238 239 240 240 240 245 246 246 247 253 254 256 258 259 259 261 Figur\n",
      "264 266 266 267 268 270 270 272 274 275 276 277 278 279 286 286 287 288 289 290 293 293 Figur\n",
      "295 296 300 301 303 304 \n",
      "\n",
      "Beispiel 5:\n",
      "Eine Aufteilung mit 3 Figuren ist möglich.\n",
      "160 161 161 161 162 162 162 163 163 164 164 164 164 164 165 165 165 166 167 167 168 168 168 168 169 169 170 170 171 171 171 171 172 174 174 174 174 175 175 176 176 176 176 176 177 177 178 179 180 180 Figur\n",
      "201 202 202 202 203 206 206 208 209 210 211 212 216 220 220 221 221 229 230 230 230 231 Figur\n",
      "232 232 233 233 235 237 238 240 241 241 241 243 243 246 248 248 250 254 257 258 260 261 261 Figur\n",
      "263 264 265 265 270 \n",
      "\n",
      "Beispiel 6:\n",
      "Eine Aufteilung mit 4 Figuren ist nicht möglich.\n",
      "\n"
     ]
    }
   ],
   "source": [
    "for k in range(1,7):\n",
    "    buecherregal(k)"
   ]
  },
  {
   "cell_type": "code",
   "execution_count": null,
   "id": "0b402a1f-ae28-47f7-8ca8-8bb3f5231996",
   "metadata": {},
   "outputs": [],
   "source": []
  }
 ],
 "metadata": {
  "kernelspec": {
   "display_name": "Python 3 (ipykernel)",
   "language": "python",
   "name": "python3"
  },
  "language_info": {
   "codemirror_mode": {
    "name": "ipython",
    "version": 3
   },
   "file_extension": ".py",
   "mimetype": "text/x-python",
   "name": "python",
   "nbconvert_exporter": "python",
   "pygments_lexer": "ipython3",
   "version": "3.10.6"
  }
 },
 "nbformat": 4,
 "nbformat_minor": 5
}
