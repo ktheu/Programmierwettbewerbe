{
 "cells": [
  {
   "cell_type": "code",
   "execution_count": 43,
   "id": "01b77e43-9e90-4191-9bdf-32acbbe3d192",
   "metadata": {},
   "outputs": [],
   "source": [
    "from heapq import heapify, heappop, heappush\n",
    "from collections import deque\n",
    "# dies wird benutzt um die kürzesten Wege von 0 zu den Knoten zu finden\n",
    "def uniformCost(startstate):\n",
    "    frontier = [(0,startstate)]\n",
    "    prev = {startstate:None}\n",
    "    g = {startstate:0}            # die niedrigsten Kosten für einen state     \n",
    "    while frontier:\n",
    "        _, state = heappop(frontier)\n",
    "        for v in G[state]:\n",
    "            gg = g[state]+G[state][v]\n",
    "            if v not in prev or gg < g[v]:\n",
    "                prev[v] = state\n",
    "                g[v] = gg\n",
    "                heappush(frontier,(gg,v))\n",
    "    return prev, g\n",
    "\n",
    "def minval():\n",
    "    bestval = 0\n",
    "    bestEdge = None\n",
    "    for (a,b) in E:\n",
    "        if g[a]+G[a][b]+g[b] > bestval:\n",
    "            bestval =  g[a]+G[a][b]+g[b]\n",
    "            bestEdge = (a,b)\n",
    "    \n",
    "    return bestval\n",
    "\n",
    "# dies wird benutzt um alle Pfade der Länge <= grenze zu finden\n",
    "def bfs(startstate):\n",
    "    frontier =  deque([startstate])\n",
    "    prev = {startstate:None}\n",
    "    while frontier:\n",
    "        state = frontier.popleft()\n",
    "        if goaltest(state):\n",
    "            solutions.append(state)\n",
    "        for v in nextstates(state):\n",
    "            if v not in prev:\n",
    "                frontier.append(v)\n",
    "                prev[v] = state\n",
    "                \n",
    "def goaltest(state):\n",
    "    return len(state)>1 and state[-1] == 0\n",
    "\n",
    "def nextstates(state):\n",
    "    b = state[-1]\n",
    "    tmp = []\n",
    "    zweier = [(state[i],state[i+1]) for i in range(len(state)-1)]\n",
    "    for k in G[b]:\n",
    "        \n",
    "        if cost(state)+G[b][k] + g[k] <= grenze and (b,k) not in zweier:\n",
    "            tmp.append(state+(k,))\n",
    "    return tmp\n",
    "def cost(state):\n",
    "    tmp = 0\n",
    "    for i in range(len(state)-1):\n",
    "        tmp+=G[state[i]][state[i+1]]\n",
    "    return tmp\n",
    "\n",
    "def getNextKante(verbleibend):\n",
    "    tmp = sorted([e for e in verbleibend], key = lambda x : -E[x])\n",
    "    if len(tmp)> 0:\n",
    "        return tmp[0]\n",
    "    else:\n",
    "        return None\n",
    "    \n",
    "def kanten(state):\n",
    "    tmp = set()\n",
    "    for i in range(len(state)-1):\n",
    "        a, b = state[i], state[i+1]\n",
    "        if a < b: tmp.add((a,b))\n",
    "        else: tmp.add((b,a))\n",
    "    return tmp\n",
    "\n",
    "\n",
    "def ueberdeckt(states):\n",
    "    tmp = set()\n",
    "    for state in states:\n",
    "        tmp = tmp | kanten(state)\n",
    "    return tmp"
   ]
  },
  {
   "cell_type": "markdown",
   "id": "30c39414-51f1-41d1-b8ed-1f47ec9d1435",
   "metadata": {},
   "source": [
    "1. Lies die Eingabedaten in eine Graphen mit AdjazenzDicts G ein\n",
    "2. Berechne mit Dijkstra (uniform cost) die kürzesten Wege von 0 zu jedem Knoten\n",
    "3. Berechne mit minval() den kürzesten Rundweg für jede Kante. Dies ist der vorläufige Wert für grenze.\n",
    "4. Berechne mit bfs die Länge aller Rundwege mit Länge <= grenze\n"
   ]
  },
  {
   "cell_type": "code",
   "execution_count": 101,
   "id": "4e43f416-37f1-4f91-9832-17ff1f386c03",
   "metadata": {},
   "outputs": [
    {
     "name": "stdout",
     "output_type": "stream",
     "text": [
      "Wall time: 1 ms\n"
     ]
    }
   ],
   "source": [
    "%%time\n",
    "nr = 1\n",
    "f = open('./beispieldaten/muellabfuhr'+str(nr)+'.txt')\n",
    "anzV, anzE = [int(x) for x in f.readline().split()]\n",
    "anzV, anzE\n",
    "G = {i:dict() for i in range(anzV)}\n",
    "E = {}\n",
    "for i in range(anzE):\n",
    "    von, bis, km = [int(x) for x in f.readline().split()]\n",
    "    G[von][bis]=km\n",
    "    G[bis][von]=km\n",
    "    if von < bis:\n",
    "        E[(von,bis)]=km\n",
    "    else:\n",
    "        E[(bis,von)] =km\n",
    "        \n",
    "prev, g = uniformCost(0)\n",
    " "
   ]
  },
  {
   "cell_type": "code",
   "execution_count": 102,
   "id": "39cf016c-156e-4ddf-907e-50852d18c46c",
   "metadata": {},
   "outputs": [
    {
     "name": "stdout",
     "output_type": "stream",
     "text": [
      "18\n",
      "Wall time: 16 ms\n"
     ]
    },
    {
     "data": {
      "text/plain": [
       "208"
      ]
     },
     "execution_count": 102,
     "metadata": {},
     "output_type": "execute_result"
    }
   ],
   "source": [
    "%%time\n",
    "grenze = minval()      # <<<<< update\n",
    "print(grenze)\n",
    "solutions = []\n",
    "startstate = (0,)\n",
    "bfs(startstate)\n",
    "len(solutions)"
   ]
  },
  {
   "cell_type": "code",
   "execution_count": 103,
   "id": "ac33c992-e5a3-4ffa-87d1-e07bc6d53db3",
   "metadata": {},
   "outputs": [
    {
     "name": "stdout",
     "output_type": "stream",
     "text": [
      "Aufgabe: 1\n",
      "Anzahl Kanten: 13\n",
      "davon überdeckt: 13\n",
      "minimale Runde zur entferntesten Kante: 18\n",
      "Grenze für durchsuchte Pfade: 18\n",
      "Anzahl generierter Pfade: 208\n",
      "Die höchstens 5 Rundwege:\n",
      "(0, 6, 1, 3, 5, 7, 6, 0) 18\n",
      "(0, 4, 7, 6, 3, 6, 0) 18\n",
      "(0, 6, 3, 2, 3, 6, 0) 18\n",
      "(0, 6, 3, 4, 5, 7, 6, 0) 18\n",
      "(0, 5, 0) 12\n",
      "Wall time: 3 ms\n"
     ]
    }
   ],
   "source": [
    "%%time\n",
    "states = []\n",
    "verbleibend = set(E.keys())\n",
    "nextKante = getNextKante(verbleibend)\n",
    "for i in range(5):\n",
    "    bestval = float('inf')\n",
    "    bestsol = None\n",
    "    for sol in solutions:\n",
    "        if nextKante in kanten(sol):\n",
    "            val = len(verbleibend - kanten(sol))\n",
    "            if val < bestval:\n",
    "                bestval = val\n",
    "                bestsol = sol\n",
    "    if bestsol is not None:\n",
    "        states.append(bestsol)\n",
    "        verbleibend = verbleibend - kanten(bestsol)\n",
    "        nextKante = getNextKante(verbleibend)\n",
    "    \n",
    "states,len(ueberdeckt(states)),grenze\n",
    "print('Aufgabe:',nr)\n",
    "print('Anzahl Kanten:', anzE)\n",
    "print('davon überdeckt:',len(ueberdeckt(states)))\n",
    "print('minimale Runde zur entferntesten Kante:', minval())\n",
    "print('Grenze für durchsuchte Pfade:',grenze)\n",
    "print('Anzahl generierter Pfade:',len(solutions))\n",
    "print('Die höchstens 5 Rundwege:')\n",
    "for st in states:\n",
    "    print(st, cost(st))"
   ]
  },
  {
   "cell_type": "markdown",
   "id": "4d03e02e-fa95-4c0b-80ee-330eedeca44d",
   "metadata": {},
   "source": [
    "---"
   ]
  },
  {
   "cell_type": "raw",
   "id": "f53a9b7f-4e81-476a-8ad7-89e2e75b3061",
   "metadata": {},
   "source": [
    "#0  liefert eine minimale Lösung: 4\n",
    "([(0, 2, 1, 8, 0),\n",
    "  (0, 4, 5, 6, 0),\n",
    "  (0, 2, 3, 4, 0),\n",
    "  (0, 6, 7, 8, 0),\n",
    "  (0, 8, 9, 8, 0)],\n",
    " 13,\n",
    " 4)\n",
    "\n",
    "\n",
    "#1  liefert eine minimale Lösung: 18\n",
    "([(0, 6, 1, 3, 5, 7, 6, 0),\n",
    "  (0, 4, 7, 6, 3, 6, 0),\n",
    "  (0, 6, 3, 2, 3, 6, 0),\n",
    "  (0, 6, 3, 4, 5, 7, 6, 0),\n",
    "  (0, 5, 0)],\n",
    " 13,\n",
    " 18)\n",
    "\n",
    "\n",
    "#2 mindestens 7, hier Lösung mit 9:\n",
    "([(0, 5, 9, 6, 1, 13, 3, 4, 6, 0),\n",
    "  (0, 5, 11, 2, 8, 12, 1, 7, 9, 0),\n",
    "  (0, 5, 14, 2, 10, 4, 13, 14, 6, 0),\n",
    "  (0, 5, 14, 7, 11, 8, 14, 10, 9, 0),\n",
    "  (0, 9, 12, 8, 7, 11, 3, 13, 9, 0)],\n",
    " 34,\n",
    " 9)\n",
    " \n",
    "#3 mindestens 3, 91 Pfade mit Kosten 3 überdecken alle.\n",
    "91/5 = 18.2 d.h. man kommt mit 4 Pfaden zu 18*3 und einen Pfad 19*3 aus.\n",
    "das ergibt eine Lösung von: 57\n",
    "\n",
    "#4 richtig mit Lösung 10\n",
    "([(0, 1, 2, 3, 4, 5, 6, 7, 8, 9, 0)], 10, 10)\n",
    "\n",
    "#5 grenze=23,       bfs dauert zu lange\n",
    "#6 grenze = 202587, bfs dauert zu lange\n",
    "#7,8 erst garnicht versucht.\n",
    "\n"
   ]
  },
  {
   "cell_type": "code",
   "execution_count": 91,
   "id": "3ebfa391-59f1-48e7-84e2-42f5e7e3eb28",
   "metadata": {},
   "outputs": [
    {
     "data": {
      "text/plain": [
       "18.2"
      ]
     },
     "execution_count": 91,
     "metadata": {},
     "output_type": "execute_result"
    }
   ],
   "source": [
    "91/5"
   ]
  },
  {
   "cell_type": "code",
   "execution_count": null,
   "id": "db957edf-b153-475c-8ae8-8ca47dcba614",
   "metadata": {},
   "outputs": [],
   "source": []
  }
 ],
 "metadata": {
  "kernelspec": {
   "display_name": "Python 3",
   "language": "python",
   "name": "python3"
  },
  "language_info": {
   "codemirror_mode": {
    "name": "ipython",
    "version": 3
   },
   "file_extension": ".py",
   "mimetype": "text/x-python",
   "name": "python",
   "nbconvert_exporter": "python",
   "pygments_lexer": "ipython3",
   "version": "3.8.8"
  }
 },
 "nbformat": 4,
 "nbformat_minor": 5
}
