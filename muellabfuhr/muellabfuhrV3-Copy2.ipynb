{
 "cells": [
  {
   "cell_type": "markdown",
   "id": "e62f9f60-6539-4ec0-bf96-6f5da16d0de7",
   "metadata": {},
   "source": [
    "## Müllabfuhr\n"
   ]
  },
  {
   "cell_type": "markdown",
   "id": "f6eb4a1f-72a3-4fc3-9b83-a31909d94be5",
   "metadata": {},
   "source": [
    "[Aufgabe](muellabfuhr.pdf) - [Lösungshinweise](muellabfuhrL.pdf)"
   ]
  },
  {
   "cell_type": "markdown",
   "id": "cc716bc8-0cf9-40a9-8f41-8c8d6ffd1ee7",
   "metadata": {},
   "source": [
    "### Kürzeste Wege mit Floyd\n",
    "\n",
    "Der Floyd-Algorithmus liefert uns kürzeste Wege zwischen zwei beliebigen Knoten.\n",
    "Die beiden beiden berechneten Matrizen D (Distanzmatrix) und P (Vorgängerknoten des kürzesten Wegs)\n",
    "speichern wir als globale Variablen. Der Floyd-Algorithmus erwartet als Eingabe eine Adjazenzmatrix\n"
   ]
  },
  {
   "cell_type": "markdown",
   "id": "c0be3d57-6db9-4f9a-af24-79b6f558aaf3",
   "metadata": {},
   "source": [
    "#### Adjazenzmatrix erstellen"
   ]
  },
  {
   "cell_type": "code",
   "execution_count": 1,
   "id": "235141d2-b1e8-4f74-962a-2688083a4f98",
   "metadata": {},
   "outputs": [],
   "source": [
    "inf = float('inf')\n",
    "nr = 6\n",
    "f = open('./beispieldaten/muellabfuhr'+str(nr)+'.txt')\n",
    "anzV, anzE = [int(x) for x in f.readline().split()]\n",
    "\n",
    "G = [[inf]*anzV for _ in range(anzV)]\n",
    "V = set()\n",
    "E = set()\n",
    "for i in range(anzE):\n",
    "    von, bis, km = [int(x) for x in f.readline().split()]\n",
    "    G[von][bis]=km\n",
    "    G[bis][von]=km\n",
    "    V.add(von)\n",
    "    V.add(bis)\n",
    "    \n",
    "    if von < bis:\n",
    "        E.add((von,bis))\n",
    "    else:\n",
    "        E.add((bis,von))\n",
    "for i in range(anzV):\n",
    "    G[i][i]=0"
   ]
  },
  {
   "cell_type": "code",
   "execution_count": 11,
   "id": "3ff80c3c-a9f6-47e1-b0e8-6abb8c1d1bb2",
   "metadata": {},
   "outputs": [
    {
     "data": {
      "text/plain": [
       "[[0, inf, inf, inf, 6, 6, 1, inf],\n",
       " [inf, 0, inf, 9, inf, inf, 1, inf],\n",
       " [inf, inf, 0, 7, inf, inf, inf, inf],\n",
       " [inf, 9, 7, 0, 7, 3, 1, inf],\n",
       " [6, inf, inf, 7, 0, 5, inf, 8],\n",
       " [6, inf, inf, 3, 5, 0, inf, 2],\n",
       " [1, 1, inf, 1, inf, inf, 0, 1],\n",
       " [inf, inf, inf, inf, 8, 2, 1, 0]]"
      ]
     },
     "execution_count": 11,
     "metadata": {},
     "output_type": "execute_result"
    }
   ],
   "source": [
    "G"
   ]
  },
  {
   "cell_type": "code",
   "execution_count": 2,
   "id": "ff828399-29d5-4089-aad9-d15538402f3b",
   "metadata": {},
   "outputs": [],
   "source": [
    "def floyd(c):\n",
    "    n = len(c)\n",
    "    d = [[0]*n for j in range(n)]   # Matrix D\n",
    "    p = [[0]*n for j in range(n)]   # Matrix P\n",
    "    for i in range(n):\n",
    "        for j in range(n):\n",
    "            d[i][j] = c[i][j]\n",
    "            p[i][j] = i\n",
    "\n",
    "    for k in range(n):\n",
    "        for i in range(n):\n",
    "            for j in range(n):\n",
    "                tmp = d[i][k] + d[k][j]\n",
    "                if tmp < d[i][j]:\n",
    "                    d[i][j] = tmp\n",
    "                    p[i][j] = p[k][j]\n",
    "    return d, p\n",
    "\n",
    "def getPath(p, i, j):\n",
    "    if i == j: return (i,)\n",
    "    return getPath(p,i,p[i][j]) + (j,)\n",
    "\n",
    "def printMatrix(a):\n",
    "    for i in range(len(a)):\n",
    "        for j in range(len(a)):\n",
    "            if a[i][j] == inf:\n",
    "                print(\"{:4}\".format(\".\"),end='')\n",
    "            else:\n",
    "                print(\"{:<4}\".format(a[i][j]),end='')\n",
    "        print()\n",
    "    print()\n",
    "    \n",
    "D, P = floyd(G)"
   ]
  },
  {
   "cell_type": "code",
   "execution_count": null,
   "id": "558488ae-d7bf-4bdb-a06e-2a4b8a0593ba",
   "metadata": {},
   "outputs": [],
   "source": [
    "printMatrix(D)"
   ]
  },
  {
   "cell_type": "code",
   "execution_count": 17,
   "id": "20f1fad1-ee86-422b-8976-760e68903b36",
   "metadata": {},
   "outputs": [
    {
     "name": "stdout",
     "output_type": "stream",
     "text": [
      "0   6   3   6   0   7   0   6   \n",
      "6   1   3   6   0   7   1   6   \n",
      "6   6   2   2   3   3   3   6   \n",
      "6   6   3   3   3   3   3   6   \n",
      "4   6   3   4   4   4   0   5   \n",
      "6   6   3   5   5   5   7   5   \n",
      "6   6   3   6   0   7   6   6   \n",
      "6   6   3   6   5   7   7   7   \n",
      "\n"
     ]
    }
   ],
   "source": [
    "printMatrix(P"
   ]
  },
  {
   "cell_type": "code",
   "execution_count": 24,
   "id": "251b256b-bdab-40bd-ad6e-fc1ab484c31d",
   "metadata": {},
   "outputs": [
    {
     "name": "stdout",
     "output_type": "stream",
     "text": [
      "(0, 6, 3, 2)\n",
      "9\n"
     ]
    }
   ],
   "source": [
    "print(sPath(0,2))\n",
    "print(dist(0,2))"
   ]
  },
  {
   "cell_type": "markdown",
   "id": "1ffd5d54-6066-41a2-979b-cd78f2481f5a",
   "metadata": {},
   "source": [
    "### Kreis, der alle Kanten durchläuft.\n",
    "\n",
    "Ein Kreis, der alle Kanten nur einmal durchläuft, ist ein Eulerkreis. Der existiert genau dann, wenn wir alle Knoten einen geraden Grad haben. Das können wir bei unseren Graphen nicht erwarten. Wir verbinden die Knoten, die ungeraden Grad haben paarweise miteinander (möglichst billige Strecken), dann konstruieren wir den Eulerkreis. Dazu benötigen wir eine Modellierung des Graphen als Adjazenzliste. Allerdings brauchen wir hier die Gewichte nicht berücksichtigen (wir wollen ja alle Kanten durchlaufen, egal was sie für ein Gewicht haben). Nur beim matching der ungeraden Kanten benötigen wir die Information über die kürzesten Wege. Die holen wir uns n  "
   ]
  },
  {
   "cell_type": "code",
   "execution_count": 4,
   "id": "8c8a2f67-87a3-48ed-8a34-b4d40d7e1671",
   "metadata": {},
   "outputs": [],
   "source": [
    "# die Matrizen D und P werden als globale Variablen vorausgesetzt.\n",
    "def dist(v1, v2):\n",
    "    '''\n",
    "    returns: kürzeste Distanz zwischen v1 und v2  \n",
    "    \n",
    "    '''\n",
    "    return D[v1][v2]\n",
    "\n",
    "def sPath(v1, v2):\n",
    "    '''\n",
    "    returns: einen kürzesten Weg zwischen v1 und v2\n",
    "    '''\n",
    "    return getPath(P,v1,v2)"
   ]
  },
  {
   "cell_type": "code",
   "execution_count": 5,
   "id": "ee7e0705-bb45-4f3e-98cd-d5a56e210cf5",
   "metadata": {},
   "outputs": [],
   "source": [
    "def match(U):\n",
    "    '''\n",
    "    returns: greedy match\n",
    "    '''\n",
    "    if len(U) == 0:\n",
    "        return []\n",
    "    v = U[0]\n",
    "    best = 1\n",
    "    best_val = dist(U[0],U[1])\n",
    "    for i in range(2,len(U)):\n",
    "        if U[i] not in G[U[0]]:\n",
    "            val = dist(U[0],U[i])\n",
    "            if val < best_val:\n",
    "                best_val = val\n",
    "                best = i\n",
    "    e = (U[0],U[best])\n",
    "    U1 = U.copy()\n",
    "    U1.pop(best)\n",
    "    U1.pop(0)\n",
    "    return match(U1) + [e]\n",
    "\n",
    "def abschnitt(p,i,j):\n",
    "    '''\n",
    "    returns: Kosten für den Weg 0 - p[i]-p[j] - 0\n",
    "    '''\n",
    "    pcost = 0\n",
    "    for k in range(i,j):\n",
    "\n",
    "        pcost += G[p[k]][p[k+1]]\n",
    "    return dist(0,p[i]) + dist(p[j],0) + pcost\n",
    "\n",
    "def aufteilung(path,n):\n",
    "    tmp = []\n",
    "    i = 0\n",
    "    j = 0\n",
    "    for k in range(5):\n",
    "        while j < len(path) and (abschnitt(path,i,j)) <= n:\n",
    "            j+=1\n",
    "        tmp.append((i,j-1))\n",
    "        i=j-1\n",
    "        j=i+1\n",
    "    return tmp"
   ]
  },
  {
   "cell_type": "code",
   "execution_count": null,
   "id": "290cd92a-7f93-45f9-aef4-611056fb849d",
   "metadata": {},
   "outputs": [],
   "source": []
  },
  {
   "cell_type": "markdown",
   "id": "ac875f74-fe56-4a93-99ee-5c46fc7fe4de",
   "metadata": {},
   "source": [
    "#### Einlesen des Graphen mit Adjazenzsets"
   ]
  },
  {
   "cell_type": "markdown",
   "id": "539734aa-2467-4589-a424-c8da0bf12358",
   "metadata": {},
   "source": [
    "Wir haben unter Umständen Mehrfachkanten, deswegen "
   ]
  },
  {
   "cell_type": "code",
   "execution_count": 15,
   "id": "a57e0e61-1ebd-4523-9852-65ec1c4a47cb",
   "metadata": {},
   "outputs": [
    {
     "name": "stdout",
     "output_type": "stream",
     "text": [
      "[0, 1, 2, 3, 4, 5, 7, 8, 12, 13, 14, 15, 21, 22, 24, 28, 29, 30, 33, 34, 35, 37, 39, 40, 42, 43, 46, 48, 49, 51, 52, 55, 57, 60, 62, 63, 64, 68, 69, 70, 72, 73, 75, 78, 81, 83, 86, 87, 88, 90, 91, 95, 98, 99]\n"
     ]
    },
    {
     "data": {
      "text/plain": [
       "([(90, 99),\n",
       "  (83, 88),\n",
       "  (69, 78),\n",
       "  (64, 81),\n",
       "  (57, 62),\n",
       "  (52, 55),\n",
       "  (51, 63),\n",
       "  (46, 98),\n",
       "  (40, 43),\n",
       "  (39, 48),\n",
       "  (37, 75),\n",
       "  (34, 73),\n",
       "  (30, 70),\n",
       "  (29, 95),\n",
       "  (28, 33),\n",
       "  (22, 24),\n",
       "  (15, 49),\n",
       "  (13, 86),\n",
       "  (12, 87),\n",
       "  (8, 14),\n",
       "  (7, 21),\n",
       "  (5, 72),\n",
       "  (4, 35),\n",
       "  (3, 91),\n",
       "  (2, 42),\n",
       "  (1, 68),\n",
       "  (0, 60)],\n",
       " 27)"
      ]
     },
     "execution_count": 15,
     "metadata": {},
     "output_type": "execute_result"
    }
   ],
   "source": [
    "nr = 6\n",
    "f = open('./beispieldaten/muellabfuhr'+str(nr)+'.txt')\n",
    "anzV, anzE = [int(x) for x in f.readline().split()]\n",
    "G = {x:dict() for x in range(anzV)}\n",
    "for _ in range(anzE):\n",
    "    v1, v2, cost = f.readline().split()\n",
    "    v1, v2, cost = int(v1), int(v2), int(cost)\n",
    "    G[v1][v2] = cost\n",
    "    G[v2][v1] = cost\n",
    " \n",
    "\n",
    "#Knoten mit ungeradem Grad bestimmen und ein gieriges Matching durchführen\n",
    "\n",
    "U = []\n",
    "for v in G:\n",
    "    if len(G[v]) % 2 != 0:\n",
    "        U.append(v)\n",
    "len(U)\n",
    "print(U)\n",
    "\n",
    "meta = match(U)\n",
    "meta, len(meta)"
   ]
  },
  {
   "cell_type": "code",
   "execution_count": 14,
   "id": "64ae4112-e5f9-4cd5-83d3-c04deddddac9",
   "metadata": {},
   "outputs": [
    {
     "name": "stdout",
     "output_type": "stream",
     "text": [
      "62164\n",
      "61682\n",
      "13450\n",
      "16358\n",
      "39715\n",
      "11038\n",
      "19552\n",
      "11600\n",
      "6734\n",
      "17186\n",
      "28638\n",
      "23051\n",
      "17540\n",
      "10479\n",
      "22554\n",
      "15071\n",
      "26486\n",
      "26059\n",
      "17559\n",
      "21455\n",
      "17450\n",
      "25097\n",
      "11827\n",
      "10917\n",
      "24586\n",
      "7256\n",
      "11583\n",
      "Kosten des Matchings 577087\n"
     ]
    }
   ],
   "source": [
    "def matchCost(U):\n",
    "    cost = 0\n",
    "    for v,w in match(U):\n",
    "        print(dist(v,w))\n",
    "        cost += dist(v,w)\n",
    "    return cost\n",
    "\n",
    "print(f'Kosten des Matchings {matchCost(U)}')"
   ]
  },
  {
   "cell_type": "markdown",
   "id": "94bd4196-ada0-4908-88c3-2e432738bea0",
   "metadata": {},
   "source": [
    "Metakanten einführen. Dazu Metaknoten einführen, weil unsere Modellierung keine doppelten Kanten kann\n",
    "\n",
    "\n",
    "    "
   ]
  },
  {
   "cell_type": "code",
   "execution_count": 7,
   "id": "81c32309-74b3-43a5-aac4-eb6d71ce8bfe",
   "metadata": {},
   "outputs": [],
   "source": [
    "hilf = 10000\n",
    "for e in meta:\n",
    "    v1, v2 = e\n",
    "    G[hilf] = dict()\n",
    "    G[v1][hilf] = G[v2][hilf] = dist(v1,v2)\n",
    "    G[hilf][v2] = G[hilf][v1] = 0\n",
    "    hilf+=1\n",
    "    \n",
    " \n",
    "degrees = {x:len(G[x]) for x in G} "
   ]
  },
  {
   "cell_type": "code",
   "execution_count": 8,
   "id": "c86c21ec-616f-4920-80e2-e62213f086c2",
   "metadata": {},
   "outputs": [
    {
     "data": {
      "text/plain": [
       "516"
      ]
     },
     "execution_count": 8,
     "metadata": {},
     "output_type": "execute_result"
    }
   ],
   "source": [
    "sum(degrees.values())"
   ]
  },
  {
   "cell_type": "code",
   "execution_count": 9,
   "id": "d55793e3-9261-499f-b484-43b442da37e9",
   "metadata": {},
   "outputs": [],
   "source": [
    "# Kontrolle, ob alle Knoten geraden Grad haben\n",
    "for v in G:\n",
    "    if len(G[v]) % 2 != 0:\n",
    "        print(v)"
   ]
  },
  {
   "cell_type": "code",
   "execution_count": 10,
   "id": "c777fe2a-c002-40bd-b973-500ecd9cfd2a",
   "metadata": {},
   "outputs": [
    {
     "name": "stdout",
     "output_type": "stream",
     "text": [
      "[0, 4, 44, 0, 58, 45, 41, 5, 2, 13, 5, 67, 41, 42, 5, 77, 13, 84, 2, 72, 13, 10017, 86, 42, 45, 10, 4, 93, 35, 32, 46, 35, 88, 73, 20, 8, 87, 27, 43, 66, 40, 89, 16, 80, 53, 29, 26, 6, 62, 54, 9, 17, 22, 9, 47, 22, 54, 17, 56, 9, 26, 56, 47, 26, 57, 29, 10013, 95, 53, 57, 92, 74, 16, 92, 79, 57, 10004, 62, 59, 24, 22, 10015, 24, 82, 31, 28, 30, 25, 39, 30, 33, 60, 39, 19, 2, 10024, 42, 67, 77, 18, 23, 69, 38, 23, 78, 55, 36, 34, 8, 10019, 14, 3, 1, 11, 3, 49, 1, 10025, 68, 37, 78, 69, 75, 55, 52, 20, 34, 10011, 73, 52, 10005, 55, 97, 23, 75, 38, 97, 69, 10002, 78, 75, 10010, 37, 11, 36, 14, 68, 49, 21, 12, 7, 15, 12, 50, 15, 85, 12, 10018, 87, 85, 50, 7, 10020, 21, 50, 91, 68, 3, 10023, 91, 49, 10016, 15, 94, 27, 99, 40, 10008, 43, 99, 89, 96, 99, 10000, 90, 32, 81, 51, 65, 81, 76, 63, 64, 51, 10006, 63, 80, 65, 76, 80, 64, 10003, 81, 88, 32, 98, 10, 48, 19, 84, 77, 86, 72, 10021, 5, 86, 41, 90, 88, 10001, 83, 30, 10012, 70, 28, 83, 25, 48, 10009, 39, 83, 33, 10014, 28, 82, 70, 31, 24, 61, 60, 44, 59, 60, 10026, 0, 71, 46, 10007, 98, 58, 93, 45, 98, 4, 10022, 35, 98, 93, 0]\n"
     ]
    }
   ],
   "source": [
    "import sys\n",
    "from copy import deepcopy\n",
    "GE = deepcopy(G)\n",
    "degrees = {x:len(GE[x]) for x in GE} \n",
    "def dfs(v):\n",
    "\n",
    "    while degrees[v] != 0:\n",
    "        next = list(GE[v])[0]  # die erste noch vorhandene Kante\n",
    "        del(GE[v][next])     # wird aus dem Graphen gelöscht\n",
    "        del(GE[next][v])     # von beiden Seiten\n",
    "        degrees[v]-=1         # der Grad der Knoten v und next\n",
    "        degrees[next]-=1      # wird erniedrigt\n",
    "        dfs(next)\n",
    "    path.append(v) \n",
    "zaehl = 0\n",
    "path = []\n",
    "dfs(0)\n",
    "path.reverse()                # beim undirected eulercircle unnötig\n",
    "print(path)    "
   ]
  },
  {
   "cell_type": "code",
   "execution_count": 13,
   "id": "ff7fc725-8e11-4643-a44b-5ef6e3bd2caa",
   "metadata": {},
   "outputs": [
    {
     "data": {
      "text/plain": [
       "269"
      ]
     },
     "execution_count": 13,
     "metadata": {},
     "output_type": "execute_result"
    }
   ],
   "source": [
    "len(path)"
   ]
  },
  {
   "cell_type": "code",
   "execution_count": 11,
   "id": "0c62a699-202a-43d8-928a-2a2d6d37ba7f",
   "metadata": {},
   "outputs": [
    {
     "name": "stdout",
     "output_type": "stream",
     "text": [
      "[0, 4, 44, 0, 58, 45, 41, 5, 2, 13, 5, 67, 41, 42, 5, 77, 13, 84, 2, 72, 13, 72, 86, 42, 45, 10, 4, 93, 35, 32, 46, 35, 88, 73, 20, 8, 87, 27, 43, 66, 40, 89, 16, 80, 53, 29, 26, 6, 62, 54, 9, 17, 22, 9, 47, 22, 54, 17, 56, 9, 26, 56, 47, 26, 57, 29, 53, 95, 53, 57, 92, 74, 16, 92, 79, 57, 26, 6, 62, 59, 24, 22, 24, 82, 31, 28, 30, 25, 39, 30, 33, 60, 39, 19, 2, 5, 42, 67, 77, 18, 23, 69, 38, 23, 78, 55, 36, 34, 8, 34, 36, 14, 3, 1, 11, 3, 49, 1, 3, 68, 37, 78, 69, 75, 55, 52, 20, 34, 20, 73, 52, 55, 97, 23, 75, 38, 97, 69, 78, 75, 78, 37, 11, 36, 14, 68, 49, 21, 12, 7, 15, 12, 50, 15, 85, 12, 85, 87, 85, 50, 7, 12, 21, 50, 91, 68, 3, 68, 91, 49, 21, 12, 15, 94, 27, 99, 40, 99, 43, 99, 89, 96, 99, 27, 87, 8, 20, 73, 88, 90, 32, 81, 51, 65, 81, 76, 63, 64, 51, 64, 63, 80, 65, 76, 80, 64, 51, 81, 88, 32, 98, 10, 48, 19, 84, 77, 86, 72, 86, 5, 86, 41, 90, 88, 35, 93, 4, 44, 60, 33, 83, 30, 28, 70, 28, 83, 25, 48, 25, 39, 83, 33, 30, 28, 82, 70, 31, 24, 61, 60, 44, 59, 60, 44, 0, 71, 46, 35, 98, 58, 93, 45, 98, 4, 93, 35, 98, 93, 0]\n"
     ]
    }
   ],
   "source": [
    "def eliminateMeta(path):\n",
    "    for i in range(len(path)-1,-1,-1):\n",
    "        if path[i] >= 10000:\n",
    "            zwischen = list(sPath(path[i-1],path[i+1]))\n",
    "            path = (path[:i]+zwischen[1:-1]+path[i+1:])\n",
    "    return path\n",
    "            \n",
    "path = eliminateMeta(path)\n",
    "print(path)"
   ]
  },
  {
   "cell_type": "code",
   "execution_count": 12,
   "id": "2627b6cb-6121-4774-9360-a631bb207bd5",
   "metadata": {},
   "outputs": [
    {
     "data": {
      "text/plain": [
       "269"
      ]
     },
     "execution_count": 12,
     "metadata": {},
     "output_type": "execute_result"
    }
   ],
   "source": [
    "len(path)"
   ]
  },
  {
   "cell_type": "code",
   "execution_count": 8,
   "id": "b977ab4e-a783-4196-b63d-b262560e1371",
   "metadata": {},
   "outputs": [],
   "source": [
    "def aufteilungOK(path,n):\n",
    "    au = aufteilung(path,n)\n",
    "    lastIndex = au[-1][1]\n",
    "    return lastIndex == len(path)-1\n",
    "    "
   ]
  },
  {
   "cell_type": "code",
   "execution_count": 9,
   "id": "aa1984ae-e427-4fac-ac04-dd5800649218",
   "metadata": {},
   "outputs": [
    {
     "name": "stdout",
     "output_type": "stream",
     "text": [
      "21\n"
     ]
    },
    {
     "data": {
      "text/plain": [
       "([(0, 2), (2, 5), (5, 7), (7, 11), (11, 18)], 19)"
      ]
     },
     "execution_count": 9,
     "metadata": {},
     "output_type": "execute_result"
    }
   ],
   "source": [
    "mincost = 0\n",
    "maxcost = abschnitt(path,0,len(path)-1)\n",
    "best = maxcost\n",
    "versuch = maxcost//2\n",
    " \n",
    "while True:\n",
    "    \n",
    "    if aufteilungOK(path,versuch):\n",
    "        best = versuch\n",
    "        versuch = versuch//2\n",
    "    else:\n",
    "        versuch1 = (versuch+best) // 2\n",
    "        if versuch1 == versuch: \n",
    "             break\n",
    "        versuch = versuch1\n",
    "    \n",
    " \n",
    "   \n",
    "print(best)\n",
    "aufteilung(path,best),len(path)"
   ]
  },
  {
   "cell_type": "raw",
   "id": "2d972bee-d032-4016-aa83-29fe9f7262bf",
   "metadata": {},
   "source": [
    "#0: 6    - 4\n",
    "#1: 21   - 25\n",
    "#2: 12   - 14\n",
    "#3: 23   - 24\n",
    "#4: 10   - 10\n",
    "#5: 1476 - 1479\n",
    "#6: 636438 647578\n",
    "#7: 812416 1236244\n",
    "#8:"
   ]
  },
  {
   "cell_type": "code",
   "execution_count": null,
   "id": "2ddf6300-2244-4116-978a-77c28508c714",
   "metadata": {},
   "outputs": [],
   "source": []
  }
 ],
 "metadata": {
  "kernelspec": {
   "display_name": "Python 3 (ipykernel)",
   "language": "python",
   "name": "python3"
  },
  "language_info": {
   "codemirror_mode": {
    "name": "ipython",
    "version": 3
   },
   "file_extension": ".py",
   "mimetype": "text/x-python",
   "name": "python",
   "nbconvert_exporter": "python",
   "pygments_lexer": "ipython3",
   "version": "3.9.12"
  }
 },
 "nbformat": 4,
 "nbformat_minor": 5
}
