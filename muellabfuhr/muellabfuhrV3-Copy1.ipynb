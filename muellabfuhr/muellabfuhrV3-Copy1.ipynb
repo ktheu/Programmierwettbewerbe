{
 "cells": [
  {
   "cell_type": "markdown",
   "id": "e62f9f60-6539-4ec0-bf96-6f5da16d0de7",
   "metadata": {},
   "source": [
    "### Müllabfuhr - Wahl von 5 Pfaden"
   ]
  },
  {
   "cell_type": "markdown",
   "id": "f6eb4a1f-72a3-4fc3-9b83-a31909d94be5",
   "metadata": {},
   "source": [
    "[Aufgabe](muellabfuhr.pdf) - [Lösungshinweise](muellabfuhrL.pdf)"
   ]
  },
  {
   "cell_type": "code",
   "execution_count": 636,
   "id": "89fad41f-020c-4bcf-acbb-b7047cecfed5",
   "metadata": {},
   "outputs": [
    {
     "name": "stdout",
     "output_type": "stream",
     "text": [
      "CPU times: total: 0 ns\n",
      "Wall time: 0 ns\n"
     ]
    }
   ],
   "source": [
    "%%time\n",
    "'''\n",
    "6: 190 ms, 7: 22.6 s, 8: 3min 3s     \n",
    "'''\n",
    "inf = float('inf')\n",
    "nr = 0\n",
    "f = open('./beispieldaten/muellabfuhr'+str(nr)+'.txt')\n",
    "anzV, anzE = [int(x) for x in f.readline().split()]\n",
    "\n",
    "G = [[inf]*anzV for _ in range(anzV)]\n",
    "V = set()\n",
    "E = set()\n",
    "for i in range(anzE):\n",
    "    von, bis, km = [int(x) for x in f.readline().split()]\n",
    "    G[von][bis]=km\n",
    "    G[bis][von]=km\n",
    "    V.add(von)\n",
    "    V.add(bis)\n",
    "    \n",
    "    if von < bis:\n",
    "        E.add((von,bis))\n",
    "    else:\n",
    "        E.add((bis,von))\n",
    "for i in range(anzV):\n",
    "    G[i][i]=0\n",
    "    \n",
    "def floyd(c):\n",
    "    n = len(c)\n",
    "    d = [[0]*n for j in range(n)]   # Matrix D\n",
    "    p = [[0]*n for j in range(n)]   # Matrix P\n",
    "    for i in range(n):\n",
    "        for j in range(n):\n",
    "            d[i][j] = c[i][j]\n",
    "            p[i][j] = i\n",
    "\n",
    "    for k in range(n):\n",
    "        for i in range(n):\n",
    "            for j in range(n):\n",
    "                tmp = d[i][k] + d[k][j]\n",
    "                if tmp < d[i][j]:\n",
    "                    d[i][j] = tmp\n",
    "                    p[i][j] = p[k][j]\n",
    "    return d, p\n",
    "\n",
    "def getPath(p, i, j):\n",
    "    if i == j: return (i,)\n",
    "    return getPath(p,i,p[i][j]) + (j,)\n",
    "\n",
    "def printMatrix(a):\n",
    "    for i in range(len(a)):\n",
    "        for j in range(len(a)):\n",
    "            if a[i][j] == inf:\n",
    "                print(\"{:4}\".format(\".\"),end='')\n",
    "            else:\n",
    "                print(\"{:<4}\".format(a[i][j]),end='')\n",
    "        print()\n",
    "    print()\n",
    "    \n",
    "D, P = floyd(G)\n",
    "\n",
    "\n",
    "# die Matrizen D und P werden als globale Variablen vorausgesetzt.\n",
    "def dist(v1, v2):\n",
    "    '''\n",
    "    returns: kürzeste Distanz zwischen v1 und v2\n",
    "    '''\n",
    "    return D[v1][v2]\n",
    "\n",
    "def sPath(v1, v2):\n",
    "    '''\n",
    "    returns: einen kürzesten Weg zwischen v1 und v2\n",
    "    '''\n",
    "    return getPath(P,v1,v2)\n",
    "\n",
    "def match(U):\n",
    "    '''\n",
    "    returns: greedy match\n",
    "    '''\n",
    "    if len(U) == 0:\n",
    "        return []\n",
    "    v = U[0]\n",
    "    best = 1\n",
    "    best_val = dist(U[0],U[1])\n",
    "    for i in range(2,len(U)):\n",
    "        if U[i] not in G[U[0]]:\n",
    "            val = dist(U[0],U[i])\n",
    "            if val < best_val:\n",
    "                best_val = val\n",
    "                best = i\n",
    "    e = (U[0],U[best])\n",
    "    U1 = U.copy()\n",
    "    U1.pop(best)\n",
    "    U1.pop(0)\n",
    "    return match(U1) + [e]\n",
    "\n",
    "def abschnitt(p,i,j):\n",
    "    '''\n",
    "    returns: Kosten für den Weg 0 - p[i]-p[j] - 0\n",
    "    '''\n",
    "    pcost = 0\n",
    "    for k in range(i,j):\n",
    "\n",
    "        pcost += G[p[k]][p[k+1]]\n",
    "    return dist(0,p[i]) + dist(p[j],0) + pcost\n",
    "\n",
    "def aufteilung(path,n):\n",
    "    tmp = []\n",
    "    i = 0\n",
    "    j = 0\n",
    "    for k in range(5):\n",
    "        while j < len(path) and (abschnitt(path,i,j)) < n:\n",
    "            j+=1\n",
    "        tmp.append((i,j-1))\n",
    "        i=j-1\n",
    "        j=i+1\n",
    "    return tmp"
   ]
  },
  {
   "cell_type": "markdown",
   "id": "ac875f74-fe56-4a93-99ee-5c46fc7fe4de",
   "metadata": {},
   "source": [
    "#### Einlesen des Graphen mit Adjazenzsets"
   ]
  },
  {
   "cell_type": "markdown",
   "id": "539734aa-2467-4589-a424-c8da0bf12358",
   "metadata": {},
   "source": [
    "Wir haben unter Umständen Mehrfachkanten, deswegen "
   ]
  },
  {
   "cell_type": "code",
   "execution_count": 637,
   "id": "a57e0e61-1ebd-4523-9852-65ec1c4a47cb",
   "metadata": {},
   "outputs": [
    {
     "data": {
      "text/plain": [
       "([(6, 9), (2, 4)], 2)"
      ]
     },
     "execution_count": 637,
     "metadata": {},
     "output_type": "execute_result"
    }
   ],
   "source": [
    " \n",
    "f = open('./beispieldaten/muellabfuhr'+str(nr)+'.txt')\n",
    "anzV, anzE = [int(x) for x in f.readline().split()]\n",
    "G = {x:dict() for x in range(anzV)}\n",
    "for _ in range(anzE):\n",
    "    v1, v2, cost = f.readline().split()\n",
    "    v1, v2, cost = int(v1), int(v2), int(cost)\n",
    "    G[v1][v2] = cost\n",
    "    G[v2][v1] = cost\n",
    " \n",
    "\n",
    "#Knoten mit ungeradem Grad bestimmen und ein gieriges Matching durchführen\n",
    "\n",
    "U = []\n",
    "for v in G:\n",
    "    if len(G[v]) % 2 != 0:\n",
    "        U.append(v)\n",
    "len(U)\n",
    "\n",
    "meta = match(U)\n",
    "meta, len(meta)"
   ]
  },
  {
   "cell_type": "markdown",
   "id": "94bd4196-ada0-4908-88c3-2e432738bea0",
   "metadata": {},
   "source": [
    "Metakanten einführen. Dazu Metaknoten einführen, weil unsere Modellierung keine doppelten Kanten kann\n",
    "\n",
    "\n",
    "    "
   ]
  },
  {
   "cell_type": "code",
   "execution_count": 638,
   "id": "81c32309-74b3-43a5-aac4-eb6d71ce8bfe",
   "metadata": {},
   "outputs": [],
   "source": [
    "hilf = 10000\n",
    "for e in meta:\n",
    "    v1, v2 = e\n",
    "    G[hilf] = dict()\n",
    "    G[v1][hilf] = G[v2][hilf] = dist(v1,v2)\n",
    "    G[hilf][v2] = G[hilf][v1] = 0\n",
    "    hilf+=1\n",
    "    \n",
    " \n",
    "degrees = {x:len(G[x]) for x in G} "
   ]
  },
  {
   "cell_type": "code",
   "execution_count": 639,
   "id": "d55793e3-9261-499f-b484-43b442da37e9",
   "metadata": {},
   "outputs": [],
   "source": [
    "# Kontrolle, ob alle Knoten geraden Grad haben\n",
    "for v in G:\n",
    "    if len(G[v]) % 2 != 0:\n",
    "        print(v)"
   ]
  },
  {
   "cell_type": "code",
   "execution_count": 640,
   "id": "c777fe2a-c002-40bd-b973-500ecd9cfd2a",
   "metadata": {},
   "outputs": [
    {
     "name": "stdout",
     "output_type": "stream",
     "text": [
      "[0, 2, 1, 8, 0, 4, 3, 2, 10001, 4, 5, 6, 7, 8, 9, 10000, 6, 0]\n"
     ]
    }
   ],
   "source": [
    "from copy import deepcopy\n",
    "GE = deepcopy(G)\n",
    "degrees = {x:len(GE[x]) for x in GE} \n",
    "def dfs(v):\n",
    "    while degrees[v] != 0:\n",
    "        next = list(GE[v])[0]  # die erste noch vorhandene Kante\n",
    "        del(GE[v][next])     # wird aus dem Graphen gelöscht\n",
    "        del(GE[next][v])     # von beiden Seiten\n",
    "        degrees[v]-=1         # der Grad der Knoten v und next\n",
    "        degrees[next]-=1      # wird erniedrigt\n",
    "        dfs(next)\n",
    "    path.append(v)  \n",
    "path = []\n",
    "dfs(0)\n",
    "path.reverse()                # beim undirected eulercircle unnötig\n",
    "print(path)    "
   ]
  },
  {
   "cell_type": "code",
   "execution_count": 645,
   "id": "ced4d6a6-eede-4b10-bcc2-0ef40f3e0403",
   "metadata": {},
   "outputs": [
    {
     "name": "stdout",
     "output_type": "stream",
     "text": [
      "[0, 2, 1, 8, 0, 4, 3, 2, 10001, 4, 5, 6, 7, 8, 9, 10000, 6, 0]\n"
     ]
    }
   ],
   "source": [
    "visited = {v:set() for v in G}            # die schon besuchten Kanten\n",
    "degrees = {x:len(G[x]) for x in G} \n",
    "path = []\n",
    "\n",
    "def dfs(v):\n",
    "    while degrees[v] != 0:\n",
    "                 \n",
    "        for w in G[v]:\n",
    "            if w not in visited[v]:\n",
    "                next = w      # die nächste noch unbesuchte Kante\n",
    "                break\n",
    "                \n",
    "        visited[v].add(next)  # markiere Kante (v,next) als besucht\n",
    "        visited[next].add(v)\n",
    "\n",
    "        degrees[v]-=1         # der Grad der Knoten v und next\n",
    "        degrees[next]-=1      # wird erniedrigt\n",
    "        dfs(next)\n",
    "    path.append(v)  \n",
    "dfs(0)\n",
    "path.reverse()                # beim undirected eulercircle unnötig\n",
    "print(path)"
   ]
  },
  {
   "cell_type": "code",
   "execution_count": 642,
   "id": "0c62a699-202a-43d8-928a-2a2d6d37ba7f",
   "metadata": {},
   "outputs": [
    {
     "name": "stdout",
     "output_type": "stream",
     "text": [
      "[0, 2, 1, 8, 0, 4, 3, 2, 0, 4, 5, 6, 7, 8, 9, 8, 0, 6, 0]\n"
     ]
    }
   ],
   "source": [
    "def eliminateMeta(path):\n",
    "    for i in range(len(path)-1,-1,-1):\n",
    "        if path[i] >= 10000:\n",
    "            zwischen = list(sPath(path[i-1],path[i+1]))\n",
    "            path = (path[:i]+zwischen[1:-1]+path[i+1:])\n",
    "    return path\n",
    "            \n",
    "path = eliminateMeta(path)\n",
    "print(path)"
   ]
  },
  {
   "cell_type": "code",
   "execution_count": 644,
   "id": "aa1984ae-e427-4fac-ac04-dd5800649218",
   "metadata": {},
   "outputs": [
    {
     "name": "stdout",
     "output_type": "stream",
     "text": [
      "7\n"
     ]
    },
    {
     "data": {
      "text/plain": [
       "([(0, 5), (5, 9), (9, 13), (13, 18), (18, 18)], 19)"
      ]
     },
     "execution_count": 644,
     "metadata": {},
     "output_type": "execute_result"
    }
   ],
   "source": [
    "mincost = 0\n",
    "maxcost = abschnitt(path,0,len(path)-1)\n",
    "\n",
    "\n",
    "fertig = False\n",
    "while not fertig:\n",
    "    mitte = (mincost+maxcost)//2\n",
    "    au = aufteilung(path,mitte)\n",
    "    lastIndex = au[-1][1]\n",
    "    if lastIndex == len(path)-1:\n",
    "        maxcost = mitte-1\n",
    "    else:\n",
    "        mincost = mitte+1\n",
    "    if mincost >= maxcost:\n",
    "        break\n",
    "   \n",
    "print(mitte)\n",
    "aufteilung(path,mitte),len(path)"
   ]
  },
  {
   "cell_type": "code",
   "execution_count": null,
   "id": "cd34cb9d-c3e0-4f01-baf0-58c44f115c5d",
   "metadata": {},
   "outputs": [],
   "source": []
  }
 ],
 "metadata": {
  "kernelspec": {
   "display_name": "Python 3 (ipykernel)",
   "language": "python",
   "name": "python3"
  },
  "language_info": {
   "codemirror_mode": {
    "name": "ipython",
    "version": 3
   },
   "file_extension": ".py",
   "mimetype": "text/x-python",
   "name": "python",
   "nbconvert_exporter": "python",
   "pygments_lexer": "ipython3",
   "version": "3.9.12"
  }
 },
 "nbformat": 4,
 "nbformat_minor": 5
}
