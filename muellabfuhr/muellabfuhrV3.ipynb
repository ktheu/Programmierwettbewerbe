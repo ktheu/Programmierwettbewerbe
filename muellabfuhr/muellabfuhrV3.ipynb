{
 "cells": [
  {
   "cell_type": "markdown",
   "id": "e62f9f60-6539-4ec0-bf96-6f5da16d0de7",
   "metadata": {},
   "source": [
    "## Müllabfuhr\n"
   ]
  },
  {
   "cell_type": "markdown",
   "id": "f6eb4a1f-72a3-4fc3-9b83-a31909d94be5",
   "metadata": {},
   "source": [
    "[Aufgabe](muellabfuhr.pdf) - [Lösungshinweise](muellabfuhrL.pdf)\n",
    "\n",
    "Beispiel 1:\n",
    "\n",
    "<img src='bild2.png' width='400'>"
   ]
  },
  {
   "cell_type": "markdown",
   "id": "cc716bc8-0cf9-40a9-8f41-8c8d6ffd1ee7",
   "metadata": {},
   "source": [
    "### Kürzeste Wege mit Floyd\n",
    "\n",
    "Der Floyd-Algorithmus liefert uns kürzeste Wege zwischen zwei beliebigen Knoten.\n",
    "Die beiden beiden berechneten Matrizen D (Distanzmatrix) und P (Vorgängerknoten des kürzesten Wegs)\n",
    "speichern wir als globale Variablen. Der Floyd-Algorithmus erwartet als Eingabe eine Adjazenzmatrix\n"
   ]
  },
  {
   "cell_type": "markdown",
   "id": "c0be3d57-6db9-4f9a-af24-79b6f558aaf3",
   "metadata": {},
   "source": [
    "#### Adjazenzmatrix erstellen"
   ]
  },
  {
   "cell_type": "code",
   "execution_count": 209,
   "id": "235141d2-b1e8-4f74-962a-2688083a4f98",
   "metadata": {},
   "outputs": [],
   "source": [
    "inf = float('inf')\n",
    "nr = 6\n",
    "f = open('./beispieldaten/muellabfuhr'+str(nr)+'.txt')\n",
    "anzV, anzE = [int(x) for x in f.readline().split()]\n",
    "\n",
    "GM = [[inf]*anzV for _ in range(anzV)]\n",
    "V = set()\n",
    "E = set()\n",
    "for i in range(anzE):\n",
    "    von, bis, km = [int(x) for x in f.readline().split()]\n",
    "    GM[von][bis]=km\n",
    "    GM[bis][von]=km\n",
    "    V.add(von)\n",
    "    V.add(bis)\n",
    "    \n",
    "    if von < bis:\n",
    "        E.add((von,bis))\n",
    "    else:\n",
    "        E.add((bis,von))\n",
    "for i in range(anzV):\n",
    "    GM[i][i]=0"
   ]
  },
  {
   "cell_type": "code",
   "execution_count": null,
   "id": "3ff80c3c-a9f6-47e1-b0e8-6abb8c1d1bb2",
   "metadata": {},
   "outputs": [],
   "source": [
    "GM"
   ]
  },
  {
   "cell_type": "code",
   "execution_count": 210,
   "id": "ff828399-29d5-4089-aad9-d15538402f3b",
   "metadata": {},
   "outputs": [],
   "source": [
    "def floyd(c):\n",
    "    n = len(c)\n",
    "    d = [[0]*n for j in range(n)]   # Matrix D\n",
    "    p = [[0]*n for j in range(n)]   # Matrix P\n",
    "    for i in range(n):\n",
    "        for j in range(n):\n",
    "            d[i][j] = c[i][j]\n",
    "            p[i][j] = i\n",
    "\n",
    "    for k in range(n):\n",
    "        for i in range(n):\n",
    "            for j in range(n):\n",
    "                tmp = d[i][k] + d[k][j]\n",
    "                if tmp < d[i][j]:\n",
    "                    d[i][j] = tmp\n",
    "                    p[i][j] = p[k][j]\n",
    "    return d, p\n",
    "\n",
    "def getPath(p, i, j):\n",
    "    if i == j: return (i,)\n",
    "    return getPath(p,i,p[i][j]) + (j,)\n",
    "\n",
    "def printMatrix(a):\n",
    "    for i in range(len(a)):\n",
    "        for j in range(len(a)):\n",
    "            if a[i][j] == inf:\n",
    "                print(\"{:4}\".format(\".\"),end='')\n",
    "            else:\n",
    "                print(\"{:<4}\".format(a[i][j]),end='')\n",
    "        print()\n",
    "    print()\n",
    "    \n",
    "D, P = floyd(GM)"
   ]
  },
  {
   "cell_type": "code",
   "execution_count": null,
   "id": "558488ae-d7bf-4bdb-a06e-2a4b8a0593ba",
   "metadata": {},
   "outputs": [],
   "source": [
    "printMatrix(D)"
   ]
  },
  {
   "cell_type": "markdown",
   "id": "5e20a0cf-bcef-43ff-ada9-0c3b7d13c133",
   "metadata": {},
   "source": [
    "Jetzt können wir die Distanz und die kürzesten Wege zwischen zwei beliebigen Knoten berechnen."
   ]
  },
  {
   "cell_type": "code",
   "execution_count": 211,
   "id": "8c8a2f67-87a3-48ed-8a34-b4d40d7e1671",
   "metadata": {},
   "outputs": [],
   "source": [
    "# die Matrizen D und P werden als globale Variablen vorausgesetzt.\n",
    "def dist(v1, v2):\n",
    "    '''\n",
    "    returns: kürzeste Distanz zwischen v1 und v2  \n",
    "    \n",
    "    '''\n",
    "    return D[v1][v2]\n",
    "\n",
    "def sPath(v1, v2):\n",
    "    '''\n",
    "    returns: einen kürzesten Weg zwischen v1 und v2\n",
    "    '''\n",
    "    return getPath(P,v1,v2)"
   ]
  },
  {
   "cell_type": "code",
   "execution_count": 9,
   "id": "251b256b-bdab-40bd-ad6e-fc1ab484c31d",
   "metadata": {},
   "outputs": [
    {
     "name": "stdout",
     "output_type": "stream",
     "text": [
      "(0, 93, 45, 42, 5, 2)\n",
      "54730\n"
     ]
    }
   ],
   "source": [
    "print(sPath(0,2))\n",
    "print(dist(0,2))"
   ]
  },
  {
   "cell_type": "markdown",
   "id": "1ffd5d54-6066-41a2-979b-cd78f2481f5a",
   "metadata": {},
   "source": [
    "### Kreis, der alle Kanten durchläuft.\n",
    "\n",
    "Ein Kreis, der alle Kanten nur einmal durchläuft, ist ein Eulerkreis. Der existiert genau dann, wenn wir alle Knoten einen geraden Grad haben. Das können wir bei unseren Graphen nicht erwarten. Wir verbinden die Knoten, die ungeraden Grad haben paarweise miteinander (möglichst billige Strecken), dann konstruieren wir den Eulerkreis. Dazu benötigen wir eine Modellierung des Graphen als Adjazenzliste. Allerdings brauchen wir hier die Gewichte nicht berücksichtigen (wir wollen ja alle Kanten durchlaufen, egal was sie für ein Gewicht haben). Nur beim matching der ungeraden Kanten benötigen wir die Information über die kürzesten Wege. Die holen wir uns aus dem Ergebnis des Floyd-Algorithmus. \n",
    "\n",
    "#### Adjazenzliste erstellen"
   ]
  },
  {
   "cell_type": "code",
   "execution_count": 212,
   "id": "9da5726a-3de7-4aad-b846-d9dcce751c95",
   "metadata": {},
   "outputs": [],
   "source": [
    "nr = 6\n",
    "f = open('./beispieldaten/muellabfuhr'+str(nr)+'.txt')\n",
    "anzV, anzE = [int(x) for x in f.readline().split()]\n",
    "G = {x:set() for x in range(anzV)}\n",
    "for _ in range(anzE):\n",
    "    v1, v2, _ = f.readline().split()\n",
    "    v1, v2 = int(v1), int(v2)\n",
    "    G[v1].add(v2)\n",
    "    G[v2].add(v1)"
   ]
  },
  {
   "cell_type": "code",
   "execution_count": 213,
   "id": "4b247f4a-bd8b-474c-a737-a768efccd23e",
   "metadata": {},
   "outputs": [
    {
     "data": {
      "text/plain": [
       "{0: {4, 44, 58, 71, 93},\n",
       " 1: {3, 11, 49},\n",
       " 2: {5, 13, 19, 72, 84},\n",
       " 3: {1, 11, 14, 49, 68},\n",
       " 4: {0, 10, 44, 93, 98},\n",
       " 5: {2, 13, 41, 42, 67, 77, 86},\n",
       " 6: {26, 62},\n",
       " 7: {12, 15, 50},\n",
       " 8: {20, 34, 87},\n",
       " 9: {17, 22, 26, 47, 54, 56},\n",
       " 10: {4, 45, 48, 98},\n",
       " 11: {1, 3, 36, 37},\n",
       " 12: {7, 15, 21, 50, 85},\n",
       " 13: {2, 5, 72, 77, 84},\n",
       " 14: {3, 36, 68},\n",
       " 15: {7, 12, 50, 85, 94},\n",
       " 16: {74, 80, 89, 92},\n",
       " 17: {9, 22, 54, 56},\n",
       " 18: {23, 77},\n",
       " 19: {2, 39, 48, 84},\n",
       " 20: {8, 34, 52, 73},\n",
       " 21: {12, 49, 50},\n",
       " 22: {9, 17, 24, 47, 54},\n",
       " 23: {18, 38, 69, 75, 78, 97},\n",
       " 24: {22, 31, 59, 61, 82},\n",
       " 25: {30, 39, 48, 83},\n",
       " 26: {6, 9, 29, 47, 56, 57},\n",
       " 27: {43, 87, 94, 99},\n",
       " 28: {30, 31, 70, 82, 83},\n",
       " 29: {26, 53, 57},\n",
       " 30: {25, 28, 33, 39, 83},\n",
       " 31: {24, 28, 70, 82},\n",
       " 32: {35, 46, 81, 88, 90, 98},\n",
       " 33: {30, 60, 83},\n",
       " 34: {8, 20, 36},\n",
       " 35: {32, 46, 88, 93, 98},\n",
       " 36: {11, 14, 34, 55},\n",
       " 37: {11, 68, 78},\n",
       " 38: {23, 69, 75, 97},\n",
       " 39: {19, 25, 30, 60, 83},\n",
       " 40: {66, 89, 99},\n",
       " 41: {5, 42, 45, 67, 86, 90},\n",
       " 42: {5, 41, 45, 67, 86},\n",
       " 43: {27, 66, 99},\n",
       " 44: {0, 4, 59, 60},\n",
       " 45: {10, 41, 42, 58, 93, 98},\n",
       " 46: {32, 35, 71},\n",
       " 47: {9, 22, 26, 56},\n",
       " 48: {10, 19, 25},\n",
       " 49: {1, 3, 21, 68, 91},\n",
       " 50: {7, 12, 15, 21, 85, 91},\n",
       " 51: {64, 65, 81},\n",
       " 52: {20, 55, 73},\n",
       " 53: {29, 57, 80, 95},\n",
       " 54: {9, 17, 22, 62},\n",
       " 55: {36, 52, 75, 78, 97},\n",
       " 56: {9, 17, 26, 47},\n",
       " 57: {26, 29, 53, 79, 92},\n",
       " 58: {0, 45, 93, 98},\n",
       " 59: {24, 44, 60, 62},\n",
       " 60: {33, 39, 44, 59, 61},\n",
       " 61: {24, 60},\n",
       " 62: {6, 54, 59},\n",
       " 63: {64, 76, 80},\n",
       " 64: {51, 63, 80},\n",
       " 65: {51, 76, 80, 81},\n",
       " 66: {40, 43},\n",
       " 67: {5, 41, 42, 77},\n",
       " 68: {3, 14, 37, 49, 91},\n",
       " 69: {23, 38, 75, 78, 97},\n",
       " 70: {28, 31, 82},\n",
       " 71: {0, 46},\n",
       " 72: {2, 13, 86},\n",
       " 73: {20, 52, 88},\n",
       " 74: {16, 92},\n",
       " 75: {23, 38, 55, 69, 78},\n",
       " 76: {63, 65, 80, 81},\n",
       " 77: {5, 13, 18, 67, 84, 86},\n",
       " 78: {23, 37, 55, 69, 75},\n",
       " 79: {57, 92},\n",
       " 80: {16, 53, 63, 64, 65, 76},\n",
       " 81: {32, 51, 65, 76, 88},\n",
       " 82: {24, 28, 31, 70},\n",
       " 83: {25, 28, 30, 33, 39},\n",
       " 84: {2, 13, 19, 77},\n",
       " 85: {12, 15, 50, 87},\n",
       " 86: {5, 41, 42, 72, 77},\n",
       " 87: {8, 27, 85},\n",
       " 88: {32, 35, 73, 81, 90},\n",
       " 89: {16, 40, 96, 99},\n",
       " 90: {32, 41, 88},\n",
       " 91: {49, 50, 68},\n",
       " 92: {16, 57, 74, 79},\n",
       " 93: {0, 4, 35, 45, 58, 98},\n",
       " 94: {15, 27},\n",
       " 95: {53},\n",
       " 96: {89, 99},\n",
       " 97: {23, 38, 55, 69},\n",
       " 98: {4, 10, 32, 35, 45, 58, 93},\n",
       " 99: {27, 40, 43, 89, 96}}"
      ]
     },
     "execution_count": 213,
     "metadata": {},
     "output_type": "execute_result"
    }
   ],
   "source": [
    "G"
   ]
  },
  {
   "cell_type": "markdown",
   "id": "3b162f14-92d3-446a-8cde-5d5521a25799",
   "metadata": {},
   "source": [
    "#### Knoten mit ungeradem Grad bestimmen"
   ]
  },
  {
   "cell_type": "code",
   "execution_count": 215,
   "id": "98889504-ecbe-44c7-9716-cd9ed2aeffc7",
   "metadata": {},
   "outputs": [
    {
     "name": "stdout",
     "output_type": "stream",
     "text": [
      "[0, 1, 2, 3, 4, 5, 7, 8, 12, 13, 14, 15, 21, 22, 24, 28, 29, 30, 33, 34, 35, 37, 39, 40, 42, 43, 46, 48, 49, 51, 52, 55, 57, 60, 62, 63, 64, 68, 69, 70, 72, 73, 75, 78, 81, 83, 86, 87, 88, 90, 91, 95, 98, 99]\n",
      "54\n"
     ]
    }
   ],
   "source": [
    "U = []\n",
    "for v in G:\n",
    "    if len(G[v]) % 2 != 0:\n",
    "        U.append(v)\n",
    "print(U)\n",
    "print(len(U))"
   ]
  },
  {
   "cell_type": "markdown",
   "id": "a1dd4dee-71ee-446c-8a33-1929d8bda47e",
   "metadata": {},
   "source": [
    "#### Greedy Matching für die Knoten mit ungeradem Grad\n",
    "\n",
    "```\n",
    "Setze result = []\n",
    "Solange U noch nicht leer:\n",
    "    hole ein Element v1 aus U\n",
    "    wähle aus dasjenige Element v2, das zu v1 den geringsten Abstand hat\n",
    "    Füge (v1,v2) in die Liste result ein.\n",
    "    Lösche v1, v2 aus U\n",
    "```"
   ]
  },
  {
   "cell_type": "code",
   "execution_count": 216,
   "id": "f3dca1b7-fdb8-4dc8-939f-af58c784d172",
   "metadata": {},
   "outputs": [],
   "source": [
    "def match(U):\n",
    "    U1 = U.copy()          # U soll unverändert bleiben\n",
    "    result = []\n",
    "    while U1:\n",
    "        v = U1.pop()       # v1 ist damit automatisch aus U gelöscht\n",
    "        best_val = inf\n",
    "        best = None\n",
    "        for w in U1:\n",
    "            if dist(v,w) < best_val:\n",
    "                best_val = dist(v,w)\n",
    "                best = w\n",
    "        result.append((v,best))\n",
    "        U1.remove(best)\n",
    "    return result     "
   ]
  },
  {
   "cell_type": "code",
   "execution_count": 217,
   "id": "144153e5-66dd-460c-9d69-112beb72836e",
   "metadata": {},
   "outputs": [
    {
     "data": {
      "text/plain": [
       "[(99, 40),\n",
       " (98, 35),\n",
       " (95, 29),\n",
       " (91, 68),\n",
       " (90, 88),\n",
       " (87, 43),\n",
       " (86, 5),\n",
       " (83, 30),\n",
       " (81, 51),\n",
       " (78, 75),\n",
       " (73, 52),\n",
       " (72, 13),\n",
       " (70, 28),\n",
       " (69, 55),\n",
       " (64, 63),\n",
       " (62, 22),\n",
       " (60, 39),\n",
       " (57, 24),\n",
       " (49, 1),\n",
       " (48, 42),\n",
       " (46, 0),\n",
       " (37, 3),\n",
       " (34, 8),\n",
       " (33, 4),\n",
       " (21, 12),\n",
       " (15, 7),\n",
       " (14, 2)]"
      ]
     },
     "execution_count": 217,
     "metadata": {},
     "output_type": "execute_result"
    }
   ],
   "source": [
    "match(U) "
   ]
  },
  {
   "cell_type": "markdown",
   "id": "923fcd41-c9f2-4d43-a5a6-df9b51e967c6",
   "metadata": {},
   "source": [
    "Kosten des Matchings:\n"
   ]
  },
  {
   "cell_type": "code",
   "execution_count": 218,
   "id": "57724105-3580-4e40-b71e-46f62b07f601",
   "metadata": {},
   "outputs": [
    {
     "name": "stdout",
     "output_type": "stream",
     "text": [
      "3284\n",
      "1367\n",
      "10479\n",
      "8294\n",
      "6562\n",
      "11171\n",
      "8562\n",
      "5381\n",
      "14840\n",
      "13369\n",
      "12591\n",
      "9524\n",
      "5406\n",
      "27962\n",
      "18034\n",
      "15566\n",
      "10998\n",
      "51222\n",
      "4180\n",
      "25988\n",
      "14963\n",
      "17522\n",
      "3519\n",
      "24477\n",
      "12039\n",
      "5807\n",
      "99165\n",
      "Kosten des Matchings 442272\n"
     ]
    }
   ],
   "source": [
    "def matchCost(U):\n",
    "    cost = 0\n",
    "    for v,w in match(U):\n",
    "        print(dist(v,w))\n",
    "        cost += dist(v,w)\n",
    "    return cost\n",
    "\n",
    "print(f'Kosten des Matchings {matchCost(U)}')"
   ]
  },
  {
   "cell_type": "markdown",
   "id": "4169487a-28d7-4f25-97b9-feb623a3fc4d",
   "metadata": {},
   "source": [
    "#### Einfügen der Metakanten in den Graphen\n",
    "Es kann sein, dass eine Kante eingefügt werden soll zwischen zwei Knoten, die schon eine Kante haben.\n",
    "Unsere Implementation des Graphen unterstützt keine doppelten Kanten. Deswegen fügen wir auch einen Metaknoten zwischendrin ein. Wir nummerieren in ab 10000 aufwärts um ihn als Metaknoten erkennen zu können."
   ]
  },
  {
   "cell_type": "code",
   "execution_count": 219,
   "id": "f23ccef9-e4d6-46ef-a2b1-c185a721e220",
   "metadata": {},
   "outputs": [],
   "source": [
    "def addMeta(U):\n",
    "    global hilf\n",
    "    for e in match(U):\n",
    "        v1, v2 = e\n",
    "        G[hilf] = {v1,v2}\n",
    "        G[v1].add(hilf)\n",
    "        G[v2].add(hilf)\n",
    "        hilf+=1\n"
   ]
  },
  {
   "cell_type": "code",
   "execution_count": 220,
   "id": "2a31d908-a121-4d66-8776-103aba029c20",
   "metadata": {},
   "outputs": [
    {
     "data": {
      "text/plain": [
       "{0: {4, 44, 58, 71, 93, 10020},\n",
       " 1: {3, 11, 49, 10018},\n",
       " 2: {5, 13, 19, 72, 84, 10026},\n",
       " 3: {1, 11, 14, 49, 68, 10021},\n",
       " 4: {0, 10, 44, 93, 98, 10023},\n",
       " 5: {2, 13, 41, 42, 67, 77, 86, 10006},\n",
       " 6: {26, 62},\n",
       " 7: {12, 15, 50, 10025},\n",
       " 8: {20, 34, 87, 10022},\n",
       " 9: {17, 22, 26, 47, 54, 56},\n",
       " 10: {4, 45, 48, 98},\n",
       " 11: {1, 3, 36, 37},\n",
       " 12: {7, 15, 21, 50, 85, 10024},\n",
       " 13: {2, 5, 72, 77, 84, 10011},\n",
       " 14: {3, 36, 68, 10026},\n",
       " 15: {7, 12, 50, 85, 94, 10025},\n",
       " 16: {74, 80, 89, 92},\n",
       " 17: {9, 22, 54, 56},\n",
       " 18: {23, 77},\n",
       " 19: {2, 39, 48, 84},\n",
       " 20: {8, 34, 52, 73},\n",
       " 21: {12, 49, 50, 10024},\n",
       " 22: {9, 17, 24, 47, 54, 10015},\n",
       " 23: {18, 38, 69, 75, 78, 97},\n",
       " 24: {22, 31, 59, 61, 82, 10017},\n",
       " 25: {30, 39, 48, 83},\n",
       " 26: {6, 9, 29, 47, 56, 57},\n",
       " 27: {43, 87, 94, 99},\n",
       " 28: {30, 31, 70, 82, 83, 10012},\n",
       " 29: {26, 53, 57, 10002},\n",
       " 30: {25, 28, 33, 39, 83, 10007},\n",
       " 31: {24, 28, 70, 82},\n",
       " 32: {35, 46, 81, 88, 90, 98},\n",
       " 33: {30, 60, 83, 10023},\n",
       " 34: {8, 20, 36, 10022},\n",
       " 35: {32, 46, 88, 93, 98, 10001},\n",
       " 36: {11, 14, 34, 55},\n",
       " 37: {11, 68, 78, 10021},\n",
       " 38: {23, 69, 75, 97},\n",
       " 39: {19, 25, 30, 60, 83, 10016},\n",
       " 40: {66, 89, 99, 10000},\n",
       " 41: {5, 42, 45, 67, 86, 90},\n",
       " 42: {5, 41, 45, 67, 86, 10019},\n",
       " 43: {27, 66, 99, 10005},\n",
       " 44: {0, 4, 59, 60},\n",
       " 45: {10, 41, 42, 58, 93, 98},\n",
       " 46: {32, 35, 71, 10020},\n",
       " 47: {9, 22, 26, 56},\n",
       " 48: {10, 19, 25, 10019},\n",
       " 49: {1, 3, 21, 68, 91, 10018},\n",
       " 50: {7, 12, 15, 21, 85, 91},\n",
       " 51: {64, 65, 81, 10008},\n",
       " 52: {20, 55, 73, 10010},\n",
       " 53: {29, 57, 80, 95},\n",
       " 54: {9, 17, 22, 62},\n",
       " 55: {36, 52, 75, 78, 97, 10013},\n",
       " 56: {9, 17, 26, 47},\n",
       " 57: {26, 29, 53, 79, 92, 10017},\n",
       " 58: {0, 45, 93, 98},\n",
       " 59: {24, 44, 60, 62},\n",
       " 60: {33, 39, 44, 59, 61, 10016},\n",
       " 61: {24, 60},\n",
       " 62: {6, 54, 59, 10015},\n",
       " 63: {64, 76, 80, 10014},\n",
       " 64: {51, 63, 80, 10014},\n",
       " 65: {51, 76, 80, 81},\n",
       " 66: {40, 43},\n",
       " 67: {5, 41, 42, 77},\n",
       " 68: {3, 14, 37, 49, 91, 10003},\n",
       " 69: {23, 38, 75, 78, 97, 10013},\n",
       " 70: {28, 31, 82, 10012},\n",
       " 71: {0, 46},\n",
       " 72: {2, 13, 86, 10011},\n",
       " 73: {20, 52, 88, 10010},\n",
       " 74: {16, 92},\n",
       " 75: {23, 38, 55, 69, 78, 10009},\n",
       " 76: {63, 65, 80, 81},\n",
       " 77: {5, 13, 18, 67, 84, 86},\n",
       " 78: {23, 37, 55, 69, 75, 10009},\n",
       " 79: {57, 92},\n",
       " 80: {16, 53, 63, 64, 65, 76},\n",
       " 81: {32, 51, 65, 76, 88, 10008},\n",
       " 82: {24, 28, 31, 70},\n",
       " 83: {25, 28, 30, 33, 39, 10007},\n",
       " 84: {2, 13, 19, 77},\n",
       " 85: {12, 15, 50, 87},\n",
       " 86: {5, 41, 42, 72, 77, 10006},\n",
       " 87: {8, 27, 85, 10005},\n",
       " 88: {32, 35, 73, 81, 90, 10004},\n",
       " 89: {16, 40, 96, 99},\n",
       " 90: {32, 41, 88, 10004},\n",
       " 91: {49, 50, 68, 10003},\n",
       " 92: {16, 57, 74, 79},\n",
       " 93: {0, 4, 35, 45, 58, 98},\n",
       " 94: {15, 27},\n",
       " 95: {53, 10002},\n",
       " 96: {89, 99},\n",
       " 97: {23, 38, 55, 69},\n",
       " 98: {4, 10, 32, 35, 45, 58, 93, 10001},\n",
       " 99: {27, 40, 43, 89, 96, 10000},\n",
       " 10000: {40, 99},\n",
       " 10001: {35, 98},\n",
       " 10002: {29, 95},\n",
       " 10003: {68, 91},\n",
       " 10004: {88, 90},\n",
       " 10005: {43, 87},\n",
       " 10006: {5, 86},\n",
       " 10007: {30, 83},\n",
       " 10008: {51, 81},\n",
       " 10009: {75, 78},\n",
       " 10010: {52, 73},\n",
       " 10011: {13, 72},\n",
       " 10012: {28, 70},\n",
       " 10013: {55, 69},\n",
       " 10014: {63, 64},\n",
       " 10015: {22, 62},\n",
       " 10016: {39, 60},\n",
       " 10017: {24, 57},\n",
       " 10018: {1, 49},\n",
       " 10019: {42, 48},\n",
       " 10020: {0, 46},\n",
       " 10021: {3, 37},\n",
       " 10022: {8, 34},\n",
       " 10023: {4, 33},\n",
       " 10024: {12, 21},\n",
       " 10025: {7, 15},\n",
       " 10026: {2, 14}}"
      ]
     },
     "execution_count": 220,
     "metadata": {},
     "output_type": "execute_result"
    }
   ],
   "source": [
    "hilf = 10000\n",
    "addMeta(U)\n",
    "G"
   ]
  },
  {
   "cell_type": "markdown",
   "id": "144a4873-8da6-455d-82e6-fd52392ca110",
   "metadata": {},
   "source": [
    "#### Eulerkreis erstellen\n",
    "Jetzt haben alle Knoten einen geraden Grad und wir können den Eulerkreis erstellen."
   ]
  },
  {
   "cell_type": "code",
   "execution_count": 221,
   "id": "6cf75a41-6bb0-462b-a169-5aa3d29ff1a2",
   "metadata": {},
   "outputs": [
    {
     "name": "stdout",
     "output_type": "stream",
     "text": [
      "[0, 58, 93, 45, 58, 98, 93, 4, 44, 60, 61, 24, 31, 70, 10012, 28, 31, 82, 28, 30, 25, 39, 60, 59, 62, 54, 22, 17, 54, 9, 26, 29, 53, 95, 10002, 29, 57, 26, 47, 22, 10015, 62, 6, 26, 56, 17, 9, 56, 47, 9, 22, 24, 59, 44, 0, 71, 46, 10020, 0, 93, 35, 88, 90, 10004, 88, 81, 10008, 51, 81, 76, 63, 10014, 64, 63, 80, 53, 57, 92, 74, 16, 92, 79, 57, 10017, 24, 82, 70, 28, 83, 30, 10007, 83, 39, 30, 33, 10023, 4, 10, 45, 42, 86, 77, 84, 19, 2, 84, 13, 77, 18, 23, 78, 10009, 75, 55, 78, 37, 10021, 3, 49, 91, 68, 10003, 91, 50, 85, 87, 27, 94, 15, 85, 12, 21, 50, 15, 12, 50, 7, 15, 10025, 7, 12, 10024, 21, 49, 68, 14, 36, 55, 10013, 69, 78, 75, 23, 38, 69, 75, 38, 97, 69, 23, 97, 55, 52, 10010, 73, 52, 20, 34, 10022, 8, 87, 10005, 43, 99, 27, 43, 66, 40, 99, 89, 96, 99, 10000, 40, 89, 16, 80, 76, 65, 51, 64, 80, 65, 81, 32, 90, 41, 86, 10006, 5, 86, 72, 13, 5, 77, 67, 5, 42, 41, 45, 98, 10001, 35, 46, 32, 88, 73, 20, 8, 34, 36, 11, 37, 68, 3, 11, 1, 10018, 49, 1, 3, 14, 10026, 2, 13, 10011, 72, 2, 5, 41, 67, 42, 10019, 48, 19, 39, 10016, 60, 33, 83, 25, 48, 10, 98, 35, 32, 98, 4, 0]\n"
     ]
    }
   ],
   "source": [
    "import sys\n",
    "from copy import deepcopy\n",
    "\n",
    "GE = deepcopy(G)\n",
    "degrees = {x:len(GE[x]) for x in GE} \n",
    "\n",
    "def dfs(v):\n",
    "\n",
    "    while degrees[v] != 0:\n",
    "        next = list(GE[v])[0]    # die erste noch vorhandene Kante\n",
    "        GE[v].remove(next)       # wird aus dem Graphen gelöscht\n",
    "        GE[next].remove(v)       # von beiden Seiten\n",
    "        degrees[v]-=1            # der Grad der Knoten v und next\n",
    "        degrees[next]-=1         # wird erniedrigt\n",
    "        dfs(next)\n",
    "    path.append(v) \n",
    "    \n",
    "path = []\n",
    "dfs(0)                         # beim undirected eulercircle unnötig\n",
    "print(path)    "
   ]
  },
  {
   "cell_type": "code",
   "execution_count": 222,
   "id": "5e3e2179-c206-4eec-9aa3-aec9b745154b",
   "metadata": {},
   "outputs": [
    {
     "data": {
      "text/plain": [
       "259"
      ]
     },
     "execution_count": 222,
     "metadata": {},
     "output_type": "execute_result"
    }
   ],
   "source": [
    "len(path)"
   ]
  },
  {
   "cell_type": "markdown",
   "id": "5381813f-a5e1-4565-a550-5e470f156cc2",
   "metadata": {},
   "source": [
    "Links und rechts der 10000er Zahlen stehen die Knoten, zwischen die wir den kürzesten Weg zueinander schreiben müssen."
   ]
  },
  {
   "cell_type": "code",
   "execution_count": 223,
   "id": "e92b2212-07f6-405a-893e-41c66429c0ef",
   "metadata": {},
   "outputs": [],
   "source": [
    "def eliminateMeta(path):\n",
    "    result = []\n",
    "    for i in range(1,len(path)-1):\n",
    "        if path[i] < 10000:\n",
    "            result.append(path[i])\n",
    "        else:\n",
    "            v1, v2 = path[i-1],path[i+1]\n",
    "            for v in sPath(v1,v2)[1:-1]:\n",
    "                result.append(v)\n",
    "    return result"
   ]
  },
  {
   "cell_type": "code",
   "execution_count": 225,
   "id": "a34a90d8-a9a5-4155-9364-6a727c75afba",
   "metadata": {},
   "outputs": [
    {
     "name": "stdout",
     "output_type": "stream",
     "text": [
      "[58, 93, 45, 58, 98, 93, 4, 44, 60, 61, 24, 31, 70, 28, 31, 82, 28, 30, 25, 39, 60, 59, 62, 54, 22, 17, 54, 9, 26, 29, 53, 95, 53, 29, 57, 26, 47, 22, 54, 62, 6, 26, 56, 17, 9, 56, 47, 9, 22, 24, 59, 44, 0, 71, 46, 71, 0, 93, 35, 88, 90, 88, 81, 51, 81, 76, 63, 64, 63, 80, 53, 57, 92, 74, 16, 92, 79, 57, 26, 47, 22, 24, 82, 70, 28, 83, 30, 83, 39, 30, 33, 60, 44, 4, 10, 45, 42, 86, 77, 84, 19, 2, 84, 13, 77, 18, 23, 78, 75, 55, 78, 37, 68, 3, 49, 91, 68, 91, 50, 85, 87, 27, 94, 15, 85, 12, 21, 50, 15, 12, 50, 7, 15, 7, 12, 21, 49, 68, 14, 36, 55, 97, 69, 78, 75, 23, 38, 69, 75, 38, 97, 69, 23, 97, 55, 52, 73, 52, 20, 34, 8, 87, 27, 43, 99, 27, 43, 66, 40, 99, 89, 96, 99, 40, 89, 16, 80, 76, 65, 51, 64, 80, 65, 81, 32, 90, 41, 86, 5, 86, 72, 13, 5, 77, 67, 5, 42, 41, 45, 98, 35, 46, 32, 88, 73, 20, 8, 34, 36, 11, 37, 68, 3, 11, 1, 49, 1, 3, 14, 36, 34, 20, 73, 88, 90, 41, 5, 2, 13, 72, 2, 5, 41, 67, 42, 45, 10, 48, 19, 39, 60, 33, 83, 25, 48, 10, 98, 35, 32, 98, 4]\n",
      "251\n"
     ]
    }
   ],
   "source": [
    "path = eliminateMeta(path)\n",
    "print(path)\n",
    "print(len(path))"
   ]
  },
  {
   "cell_type": "markdown",
   "id": "1b331e3b-0964-4381-9ee2-5605921cf0b5",
   "metadata": {},
   "source": [
    "#### Den Eulerkreis aufteilen"
   ]
  },
  {
   "cell_type": "code",
   "execution_count": 226,
   "id": "ee7e0705-bb45-4f3e-98cd-d5a56e210cf5",
   "metadata": {},
   "outputs": [],
   "source": [
    "def abschnitt(p,i,j):\n",
    "    '''\n",
    "    p: Pfad als Tuple oder Liste\n",
    "    i, j: Indizes des Pfads, i <= j\n",
    "    returns: Pfad (Liste) bestehend aus kürzestem Weg von 0 nach p[i], dann weiter auf p bis p[j], dann den\n",
    "      kürzesten Weg p[j] zurück nach 0 \n",
    "    '''\n",
    "    return sPath(0,p[i])+tuple(p[i+1:j])+sPath(p[j],0)\n",
    "\n",
    "def pathCost(p):\n",
    "    '''\n",
    "    p: Pfad\n",
    "    returns: Summe der Kantenkosten entlang des Pfades\n",
    "    '''\n",
    "    pcost = 0                                  \n",
    "    for k in range(len(p)-1):\n",
    "        pcost += GM[p[k]][p[k+1]] \n",
    "    return pcost\n",
    "\n",
    "def aufteilung(p,n):\n",
    "    '''\n",
    "    Aufteilung von Pfad p in 5 Abschnitte, wobei jeder Abschnitt <= n kostet\n",
    "    returns: Liste mit Abschnitten der Indizes von Pfad p. Wenn n zu klein ist,\n",
    "    decken die Abschnitte nicht den ganzen Pfad ab.\n",
    "    z.B: [(0, 6), (6, 7), (7, 9), (9, 12), (12, 14)]\n",
    "    '''\n",
    "    tmp = []\n",
    "    i = 0\n",
    "    j = 0\n",
    "    for k in range(5):\n",
    "        while j < len(p) and (pathCost(abschnitt(p,i,j))) <= n:\n",
    "            j+=1\n",
    "        tmp.append((i,j-1))\n",
    "        i=j-1\n",
    "        j=i+1\n",
    "    return tmp\n",
    "\n",
    "def aufteilungOK(p,n):\n",
    "    '''\n",
    "    p: Pfad\n",
    "    returns True, wenn die Aufteilung mit n den ganzen Pfad überdeckt\n",
    "    '''\n",
    "    au = aufteilung(path,n)\n",
    "    lastIndex = au[-1][1]\n",
    "    return lastIndex == len(path)-1\n",
    "\n",
    "def printPath(p):\n",
    "    '''\n",
    "    printed den Pfad p mit seinen Kosten\n",
    "    '''\n",
    "    cost = 0\n",
    "    for i in range(len(p)-1):\n",
    "        \n",
    "        cost += D[p[i]][p[i+1]]\n",
    "    print(cost)"
   ]
  },
  {
   "cell_type": "code",
   "execution_count": 114,
   "id": "6fc67999-c217-451c-90d0-be9909cf634d",
   "metadata": {},
   "outputs": [
    {
     "data": {
      "text/plain": [
       "(0, 58, 98, 35, 88, 73, 20, 8, 87, 85, 12, 7, 4, 5, 3, 4, 0)"
      ]
     },
     "execution_count": 114,
     "metadata": {},
     "output_type": "execute_result"
    }
   ],
   "source": [
    "p = [0, 5, 7, 6, 3, 6, 7, 4, 5, 3, 4, 0, 6, 1, 3, 2, 3, 6, 0]\n",
    "abschnitt(p,6,10)"
   ]
  },
  {
   "cell_type": "code",
   "execution_count": 86,
   "id": "94ef314d-9a3b-4b8f-87c4-a6c2ba8c7cfc",
   "metadata": {},
   "outputs": [
    {
     "data": {
      "text/plain": [
       "(3, 14, 36, 34, 20, 73, 88, 35, 98, 58, 0)"
      ]
     },
     "execution_count": 86,
     "metadata": {},
     "output_type": "execute_result"
    }
   ],
   "source": [
    "sPath(3,0)"
   ]
  },
  {
   "cell_type": "code",
   "execution_count": 87,
   "id": "177d3b28-46a0-4aa6-9617-f5a7577e4c90",
   "metadata": {},
   "outputs": [
    {
     "name": "stdout",
     "output_type": "stream",
     "text": [
      "[(0, 0), (0, 0), (0, 0), (0, 0), (0, 0)] False\n",
      "[(0, 0), (0, 0), (0, 0), (0, 0), (0, 0)] False\n"
     ]
    }
   ],
   "source": [
    "print(aufteilung(path,18), aufteilungOK(path,18))\n",
    "print(aufteilung(path,25), aufteilungOK(path,25))\n",
    " "
   ]
  },
  {
   "cell_type": "markdown",
   "id": "49b3805b-d77f-4671-8419-ef3a5deceedd",
   "metadata": {},
   "source": [
    "#### Binäre Suche, um die beste Aufteilung des Eulerkreises zu finden"
   ]
  },
  {
   "cell_type": "code",
   "execution_count": 227,
   "id": "aa1984ae-e427-4fac-ac04-dd5800649218",
   "metadata": {},
   "outputs": [],
   "source": [
    "def besteAufteilung(path):\n",
    "\n",
    "    mincost = 0\n",
    "    maxcost = pathCost(abschnitt(path,0,len(path)-1))\n",
    "\n",
    "    best = maxcost\n",
    "    versuch = maxcost//2\n",
    "\n",
    "    while True:\n",
    "\n",
    "        if aufteilungOK(path,versuch):\n",
    "            best = versuch\n",
    "            versuch = versuch//2\n",
    "        else:\n",
    "            versuch1 = (versuch+best) // 2\n",
    "            if versuch1 == versuch: \n",
    "                 break\n",
    "            versuch = versuch1\n",
    "            \n",
    "    return best, aufteilung(path,best)\n",
    "\n",
    " "
   ]
  },
  {
   "cell_type": "code",
   "execution_count": 228,
   "id": "f0886da6-026d-4f48-bd5a-be949b1b619c",
   "metadata": {},
   "outputs": [
    {
     "name": "stdout",
     "output_type": "stream",
     "text": [
      "Länge des Pfads 251\n",
      "Beste Aufteilung [(0, 62), (62, 104), (104, 148), (148, 196), (196, 250)]\n",
      "Maximale Pfadkosten bei bester Aufteilung: 594484\n"
     ]
    }
   ],
   "source": [
    "best, teile =   besteAufteilung(path)\n",
    "print('Länge des Pfads',len(path))\n",
    "print('Beste Aufteilung',teile)\n",
    "print('Maximale Pfadkosten bei bester Aufteilung:', best)"
   ]
  },
  {
   "cell_type": "markdown",
   "id": "4dd76137-4f04-4fec-8976-dc13207d267f",
   "metadata": {},
   "source": [
    "#### Fahrplan für die 5 Müllabfuhren"
   ]
  },
  {
   "cell_type": "code",
   "execution_count": 229,
   "id": "bd410eba-21ca-4ef7-8f18-b5737cfff665",
   "metadata": {},
   "outputs": [
    {
     "name": "stdout",
     "output_type": "stream",
     "text": [
      "Fahrplan für Beispiel 6:\n",
      "Kosten: 570333 - (0, 58, 93, 45, 58, 98, 93, 4, 44, 60, 61, 24, 31, 70, 28, 31, 82, 28, 30, 25, 39, 60, 59, 62, 54, 22, 17, 54, 9, 26, 29, 53, 95, 53, 29, 57, 26, 47, 22, 54, 62, 6, 26, 56, 17, 9, 56, 47, 9, 22, 24, 59, 44, 0, 71, 46, 71, 0, 93, 35, 88, 90, 88, 81, 32, 98, 58, 0)\n",
      "Kosten: 594484 - (0, 58, 98, 32, 81, 51, 81, 76, 63, 64, 63, 80, 53, 57, 92, 74, 16, 92, 79, 57, 26, 47, 22, 24, 82, 70, 28, 83, 30, 83, 39, 30, 33, 60, 44, 4, 10, 45, 42, 86, 77, 84, 19, 2, 84, 13, 77, 5, 42, 45, 93, 0)\n",
      "Kosten: 583752 - (0, 93, 45, 42, 5, 77, 18, 23, 78, 75, 55, 78, 37, 68, 3, 49, 91, 68, 91, 50, 85, 87, 27, 94, 15, 85, 12, 21, 50, 15, 12, 50, 7, 15, 7, 12, 21, 49, 68, 14, 36, 55, 97, 69, 78, 75, 23, 38, 69, 75, 55, 52, 73, 88, 35, 98, 58, 0)\n",
      "Kosten: 592900 - (0, 58, 98, 35, 88, 73, 52, 55, 75, 38, 97, 69, 23, 97, 55, 52, 73, 52, 20, 34, 8, 87, 27, 43, 99, 27, 43, 66, 40, 99, 89, 96, 99, 40, 89, 16, 80, 76, 65, 51, 64, 80, 65, 81, 32, 90, 41, 86, 5, 86, 72, 13, 5, 77, 67, 5, 42, 45, 93, 0)\n",
      "Kosten: 581424 - (0, 93, 45, 42, 41, 45, 98, 35, 46, 32, 88, 73, 20, 8, 34, 36, 11, 37, 68, 3, 11, 1, 49, 1, 3, 14, 36, 34, 20, 73, 88, 90, 41, 5, 2, 13, 72, 2, 5, 41, 67, 42, 45, 10, 48, 19, 39, 60, 33, 83, 25, 48, 10, 98, 35, 32, 98, 4, 0)\n",
      "Maximale Kosten einer Fahrt: 594484\n"
     ]
    }
   ],
   "source": [
    "print(f'Fahrplan für Beispiel {nr}:')\n",
    "maxcost = 0\n",
    "for teil in teile:\n",
    "    p = abschnitt(path,teil[0],teil[1])\n",
    "    cost = pathCost(p)\n",
    "    if cost > maxcost:\n",
    "        maxcost = cost\n",
    "    print(f'Kosten: {cost} - {p}')\n",
    "print(f'Maximale Kosten einer Fahrt: {maxcost}')"
   ]
  },
  {
   "cell_type": "markdown",
   "id": "1a365044-1b83-4d5a-948f-696ddc8d3046",
   "metadata": {},
   "source": [
    "### Das vollständige Programm"
   ]
  },
  {
   "cell_type": "code",
   "execution_count": 208,
   "id": "8ed7ceaa-cb28-4229-a115-6dbcab29280f",
   "metadata": {},
   "outputs": [
    {
     "name": "stdout",
     "output_type": "stream",
     "text": [
      "Fahrplan für Beispiel 1:\n",
      "Kosten: 18 - (0, 6, 7, 5, 4, 3, 6, 0)\n",
      "Kosten: 18 - (0, 6, 3, 2, 3, 6, 0)\n",
      "Kosten: 18 - (0, 6, 1, 3, 5, 7, 6, 0)\n",
      "Kosten: 10 - (0, 6, 7, 5, 0)\n",
      "Kosten: 16 - (0, 4, 7, 6, 0)\n",
      "Maximale Kosten einer Fahrt: 18\n"
     ]
    }
   ],
   "source": [
    "from copy import deepcopy\n",
    "def floyd(c):\n",
    "    n = len(c)\n",
    "    d = [[0]*n for j in range(n)]   # Matrix D\n",
    "    p = [[0]*n for j in range(n)]   # Matrix P\n",
    "    for i in range(n):\n",
    "        for j in range(n):\n",
    "            d[i][j] = c[i][j]\n",
    "            p[i][j] = i\n",
    "\n",
    "    for k in range(n):\n",
    "        for i in range(n):\n",
    "            for j in range(n):\n",
    "                tmp = d[i][k] + d[k][j]\n",
    "                if tmp < d[i][j]:\n",
    "                    d[i][j] = tmp\n",
    "                    p[i][j] = p[k][j]\n",
    "    return d, p\n",
    "\n",
    "def getPath(p, i, j):\n",
    "    if i == j: return (i,)\n",
    "    return getPath(p,i,p[i][j]) + (j,)\n",
    "\n",
    "def printMatrix(a):\n",
    "    for i in range(len(a)):\n",
    "        for j in range(len(a)):\n",
    "            if a[i][j] == inf:\n",
    "                print(\"{:4}\".format(\".\"),end='')\n",
    "            else:\n",
    "                print(\"{:<4}\".format(a[i][j]),end='')\n",
    "        print()\n",
    "    print()\n",
    "    \n",
    "def dist(v1, v2):\n",
    "    '''\n",
    "    returns: kürzeste Distanz zwischen v1 und v2  \n",
    "    '''\n",
    "    return D[v1][v2]\n",
    "\n",
    "def sPath(v1, v2):\n",
    "    '''\n",
    "    returns: einen kürzesten Weg zwischen v1 und v2\n",
    "    '''\n",
    "    return getPath(P,v1,v2)\n",
    "\n",
    "def match(U):\n",
    "    U1 = U.copy()          # U soll unverändert bleiben\n",
    "    result = []\n",
    "    while U1:\n",
    "        v = U1.pop()       # v1 ist damit automatisch aus U gelöscht\n",
    "        best_val = inf\n",
    "        best = None\n",
    "        for w in U1:\n",
    "            if dist(v,w) < best_val:\n",
    "                best_val = dist(v,w)\n",
    "                best = w\n",
    "        result.append((v,best))\n",
    "        U1.remove(best)\n",
    "    return result  \n",
    "\n",
    "def addMeta(U):\n",
    "    global hilf\n",
    "    for e in match(U):\n",
    "        v1, v2 = e\n",
    "        G[hilf] = {v1,v2}\n",
    "        G[v1].add(hilf)\n",
    "        G[v2].add(hilf)\n",
    "        hilf+=1\n",
    "\n",
    "def dfs(v):\n",
    "    while degrees[v] != 0:\n",
    "        next = list(GE[v])[0]    # die erste noch vorhandene Kante\n",
    "        GE[v].remove(next)       # wird aus dem Graphen gelöscht\n",
    "        GE[next].remove(v)       # von beiden Seiten\n",
    "        degrees[v]-=1            # der Grad der Knoten v und next\n",
    "        degrees[next]-=1         # wird erniedrigt\n",
    "        dfs(next)\n",
    "    path.append(v) \n",
    "\n",
    "def eliminateMeta(path):\n",
    "    result = []\n",
    "    for i in range(1,len(path)-1):\n",
    "        if path[i] < 10000:\n",
    "            result.append(path[i])\n",
    "        else:\n",
    "            v1, v2 = path[i-1],path[i+1]\n",
    "            for v in sPath(v1,v2)[1:-1]:\n",
    "                result.append(v)\n",
    "    return result\n",
    "\n",
    "def abschnitt(p,i,j):\n",
    "    '''\n",
    "    p: Pfad als Tuple oder Liste\n",
    "    i, j: Indizes des Pfads, i <= j\n",
    "    returns: Pfad (Liste) bestehend aus kürzestem Weg von 0 nach p[i], dann weiter auf p bis p[j], dann den\n",
    "      kürzesten Weg p[j] zurück nach 0 \n",
    "    '''\n",
    "    return sPath(0,p[i])+tuple(p[i+1:j])+sPath(p[j],0)\n",
    "\n",
    "def pathCost(p):\n",
    "    '''\n",
    "    p: Pfad\n",
    "    returns: Summe der Kantenkosten entlang des Pfades\n",
    "    '''\n",
    "    pcost = 0                                  \n",
    "    for k in range(len(p)-1):\n",
    "        pcost += GM[p[k]][p[k+1]] \n",
    "    return pcost\n",
    "\n",
    "def aufteilung(p,n):\n",
    "    '''\n",
    "    Aufteilung von Pfad p in 5 Abschnitte, wobei jeder Abschnitt <= n kostet\n",
    "    returns: Liste mit Abschnitten der Indizes von Pfad p. Wenn n zu klein ist,\n",
    "    decken die Abschnitte nicht den ganzen Pfad ab.\n",
    "    z.B: [(0, 6), (6, 7), (7, 9), (9, 12), (12, 14)]\n",
    "    '''\n",
    "    tmp = []\n",
    "    i = 0\n",
    "    j = 0\n",
    "    for k in range(5):\n",
    "        while j < len(p) and (pathCost(abschnitt(p,i,j))) <= n:\n",
    "            j+=1\n",
    "        tmp.append((i,j-1))\n",
    "        i=j-1\n",
    "        j=i+1\n",
    "    return tmp\n",
    "\n",
    "def aufteilungOK(p,n):\n",
    "    '''\n",
    "    p: Pfad\n",
    "    returns True, wenn die Aufteilung mit n den ganzen Pfad überdeckt\n",
    "    '''\n",
    "    au = aufteilung(path,n)\n",
    "    lastIndex = au[-1][1]\n",
    "    return lastIndex == len(path)-1\n",
    "\n",
    "def printPath(p):\n",
    "    '''\n",
    "    printed den Pfad p mit seinen Kosten\n",
    "    '''\n",
    "    cost = 0\n",
    "    for i in range(len(p)-1):\n",
    "        \n",
    "        cost += D[p[i]][p[i+1]]\n",
    "    print(cost)\n",
    "    \n",
    "def besteAufteilung(path):\n",
    "\n",
    "    mincost = 0\n",
    "    maxcost = pathCost(abschnitt(path,0,len(path)-1))\n",
    "\n",
    "    best = maxcost\n",
    "    versuch = maxcost//2\n",
    "\n",
    "    while True:\n",
    "\n",
    "        if aufteilungOK(path,versuch):\n",
    "            best = versuch\n",
    "            versuch = versuch//2\n",
    "        else:\n",
    "            versuch1 = (versuch+best) // 2\n",
    "            if versuch1 == versuch: \n",
    "                 break\n",
    "            versuch = versuch1\n",
    "            \n",
    "    return best, aufteilung(path,best)\n",
    "\n",
    "\n",
    "nr = 1\n",
    "inf = float('inf')\n",
    "f = open('./beispieldaten/muellabfuhr'+str(nr)+'.txt')\n",
    "anzV, anzE = [int(x) for x in f.readline().split()]\n",
    "\n",
    "GM = [[inf]*anzV for _ in range(anzV)]\n",
    "V = set()\n",
    "E = set()\n",
    "for i in range(anzE):\n",
    "    von, bis, km = [int(x) for x in f.readline().split()]\n",
    "    GM[von][bis]=km\n",
    "    GM[bis][von]=km\n",
    "    V.add(von)\n",
    "    V.add(bis)\n",
    "    \n",
    "    if von < bis:\n",
    "        E.add((von,bis))\n",
    "    else:\n",
    "        E.add((bis,von))\n",
    "for i in range(anzV):\n",
    "    GM[i][i]=0\n",
    "    \n",
    "D, P = floyd(GM)\n",
    "\n",
    "f = open('./beispieldaten/muellabfuhr'+str(nr)+'.txt')\n",
    "anzV, anzE = [int(x) for x in f.readline().split()]\n",
    "G = {x:set() for x in range(anzV)}\n",
    "for _ in range(anzE):\n",
    "    v1, v2, _ = f.readline().split()\n",
    "    v1, v2 = int(v1), int(v2)\n",
    "    G[v1].add(v2)\n",
    "    G[v2].add(v1)\n",
    "    \n",
    "U = []\n",
    "for v in G:\n",
    "    if len(G[v]) % 2 != 0:\n",
    "        U.append(v)\n",
    "        \n",
    "hilf = 10000\n",
    "addMeta(U)\n",
    "GE = deepcopy(G)\n",
    "degrees = {x:len(GE[x]) for x in GE} \n",
    "path = []\n",
    "dfs(0)                         # beim undirected eulercircle unnötig\n",
    "path = eliminateMeta(path)\n",
    "kosten, teile =   besteAufteilung(path)\n",
    "\n",
    "print(f'Fahrplan für Beispiel {nr}:')\n",
    "maxcost = 0\n",
    "for teil in teile:\n",
    "    p = abschnitt(path,teil[0],teil[1])\n",
    "    cost = pathCost(p)\n",
    "    if cost > maxcost:\n",
    "        maxcost = cost\n",
    "    print(f'Kosten: {cost} - {p}')\n",
    "print(f'Maximale Kosten einer Fahrt: {maxcost}')"
   ]
  },
  {
   "cell_type": "raw",
   "id": "2d972bee-d032-4016-aa83-29fe9f7262bf",
   "metadata": {},
   "source": [
    "#0: 6    - 4\n",
    "#1: 18   - 25\n",
    "#2: 12   - 14\n",
    "#3: 23   - 24\n",
    "#4: 10   - 10\n",
    "#5: 1468 - 1479\n",
    "#6: 594484 - 647578\n",
    "#7: 807344 - 1236244\n",
    "#8: 2766775 - 3355168"
   ]
  },
  {
   "cell_type": "markdown",
   "id": "7000fe68-45f8-4c53-b568-0676c00a60ee",
   "metadata": {},
   "source": [
    "#### Ergebnisse\n",
    "```\n",
    "Fahrplan für Beispiel 1:\n",
    "Kosten: 18 - (0, 6, 7, 5, 4, 3, 6, 0)\n",
    "Kosten: 18 - (0, 6, 3, 2, 3, 6, 0)\n",
    "Kosten: 18 - (0, 6, 1, 3, 5, 7, 6, 0)\n",
    "Kosten: 10 - (0, 6, 7, 5, 0)\n",
    "Kosten: 16 - (0, 4, 7, 6, 0)\n",
    "Maximale Kosten einer Fahrt: 18\n",
    "\n",
    "```"
   ]
  }
 ],
 "metadata": {
  "kernelspec": {
   "display_name": "Python 3 (ipykernel)",
   "language": "python",
   "name": "python3"
  },
  "language_info": {
   "codemirror_mode": {
    "name": "ipython",
    "version": 3
   },
   "file_extension": ".py",
   "mimetype": "text/x-python",
   "name": "python",
   "nbconvert_exporter": "python",
   "pygments_lexer": "ipython3",
   "version": "3.9.12"
  }
 },
 "nbformat": 4,
 "nbformat_minor": 5
}
