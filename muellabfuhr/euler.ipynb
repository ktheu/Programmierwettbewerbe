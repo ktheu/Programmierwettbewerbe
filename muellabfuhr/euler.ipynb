{
 "cells": [
  {
   "cell_type": "markdown",
   "id": "636ac086-d44f-4961-8b67-056a5b01a25c",
   "metadata": {},
   "source": [
    "## Eulerpfade und Eulerkreise\n",
    "\n",
    "Voraussetzung ist, dass alle Knoten, die überhaupt Kanten haben, miteinander zusammenhängen. \n",
    "\n",
    "Ein Eulerpfad ist ein Pfad in einem Graphen, der alle Kanten genau einmal durchläuft.\n",
    "Ein Eulerkreis ist ein Eulerpfad der beim Startknoten endet.\n",
    "\n",
    "#### Bedingungen für die Existenz von Eulerpfaden und Eulerkreisen\n",
    "\n",
    "Ein **ungerichteter** Graph hat einen Eulerkreis genau dann, wenn jeder Knoten einen geraden Grad hat. Ein Eulerpfad existiert genau dann, wenn alle Knoten einen gerade Grad haben oder genau zwei Knoten einen ungeraden Grad haben. \n",
    "\n",
    "Ein **gerichteter** Graph hat einen Eulerkreis genau dann, wenn für jeden Knoten gilt: Eingangsgrad = Ausgangsgrad.\n",
    "Ein Eulerpfad existiert genau dann, wenn entweder ein Eulerkreis exisitiert oder es zwei Knoten gibt für die gilt:  Eingangsgrad - Ausgangsgrad = 1 bzw. Ausgangsgrad - Eingangsgrad = 1.\n",
    "\n"
   ]
  },
  {
   "cell_type": "code",
   "execution_count": 4,
   "id": "3ee68ced-eabd-41a4-b2aa-dae296262430",
   "metadata": {},
   "outputs": [],
   "source": [
    "gs = '01 12 25 03 34 45 13 24 14 23'  # graph-String"
   ]
  },
  {
   "cell_type": "code",
   "execution_count": 5,
   "id": "afa1a358-c544-4026-90ad-e1b1c2bb35d6",
   "metadata": {},
   "outputs": [],
   "source": [
    "def makeUndiGraph(gs):\n",
    "    '''\n",
    "    returns undirected Graph from a String which names edges only in one direction\n",
    "    e.g  '01 12 25 03 34 45 13 24 14 23' yields\n",
    "    \n",
    "    {0: {1, 3},\n",
    "     1: {0, 2, 3, 4},\n",
    "     2: {1, 3, 4, 5},\n",
    "     5: {2, 4},\n",
    "     3: {0, 1, 2, 4},\n",
    "     4: {1, 2, 3, 5}}\n",
    "    \n",
    "    '''\n",
    "    a = gs.split()\n",
    "    G = {}\n",
    "    for s in a:\n",
    "        x, y = int(s[0]), int(s[1])\n",
    "        if x in G: \n",
    "            G[x].add(y)\n",
    "        else:\n",
    "            G[x] = {y}\n",
    "        if y in G:\n",
    "            G[y].add(x)\n",
    "        else:\n",
    "            G[y] = {x}\n",
    "    return G\n",
    "\n",
    "def getDegrees(G):\n",
    "    return {x:len(G[x]) for x in G}\n",
    "\n",
    "def eulerCirclePossible(G):\n",
    "    deg = getDegrees(G)\n",
    "    for x in G:\n",
    "        if deg[x]%2 != 0:\n",
    "            return False\n",
    "    return True\n",
    "\n",
    "def dfs(v):\n",
    "    '''\n",
    "    global G, degrees\n",
    "    Am Ende der Funktion sind alle Kanten des Graphen G gelöscht\n",
    "    und das dict degrees ist überall 0\n",
    "    '''\n",
    "    while degrees[v] != 0:\n",
    "        next = list(G[v])[0]  # die erste noch vorhandene Kante\n",
    "        G[v].remove(next)     # wird aus dem Graphen gelöscht\n",
    "        G[next].remove(v)     # von beiden Seiten\n",
    "        degrees[v]-=1         # der Grad der Knoten v und next\n",
    "        degrees[next]-=1      # wird erniedrigt\n",
    "        dfs(next)\n",
    "    path.append(v)    "
   ]
  },
  {
   "cell_type": "code",
   "execution_count": null,
   "id": "51ba0568-ac87-450f-92f0-d032824249f6",
   "metadata": {},
   "outputs": [],
   "source": [
    "def dfs(v)"
   ]
  },
  {
   "cell_type": "raw",
   "id": "626bc83e-4260-46e0-8adb-207f3e2d4317",
   "metadata": {},
   "source": [
    "  // Perform DFS to find Eulerian path.\n",
    "  private void dfs(int at) {\n",
    "    while (out[at] != 0) {\n",
    "      int next = graph.get(at).get(--out[at]);\n",
    "      dfs(next);\n",
    "    }\n",
    "    path.addFirst(at);\n",
    "  }"
   ]
  },
  {
   "cell_type": "code",
   "execution_count": 77,
   "id": "ab601567-ccac-4a00-814d-de58dbf9e0de",
   "metadata": {},
   "outputs": [
    {
     "data": {
      "text/plain": [
       "[0, 3, 4, 5, 2, 4, 1, 3, 2, 1, 0]"
      ]
     },
     "execution_count": 77,
     "metadata": {},
     "output_type": "execute_result"
    }
   ],
   "source": [
    "gs = '01 12 25 03 34 45 13 24 14 23'  # graph-String\n",
    "G = makeUndiGraph(gs)\n",
    "degrees = getDegrees(G)\n",
    "path = []\n",
    "dfs(0)\n",
    "path"
   ]
  },
  {
   "cell_type": "code",
   "execution_count": 86,
   "id": "f643f376-4573-4aaa-b6c0-a534f5277d41",
   "metadata": {},
   "outputs": [
    {
     "data": {
      "text/plain": [
       "[0, 2, 1, 4, 3, 1, 0]"
      ]
     },
     "execution_count": 86,
     "metadata": {},
     "output_type": "execute_result"
    }
   ],
   "source": [
    "gs = '01 12 13 34 41 20'\n",
    "G = makeUndiGraph(gs)\n",
    "degrees = getDegrees(G)\n",
    "path = []\n",
    "dfs(0)\n",
    "path\n"
   ]
  },
  {
   "cell_type": "code",
   "execution_count": 87,
   "id": "6bac03f9-dbe6-4d04-9d82-86996786650b",
   "metadata": {},
   "outputs": [
    {
     "data": {
      "text/plain": [
       "'{0: {1, 2}, 1: {0, 2, 3, 4}, 2: {0, 1}, 3: {1, 4}, 4: {1, 3}}'"
      ]
     },
     "execution_count": 87,
     "metadata": {},
     "output_type": "execute_result"
    }
   ],
   "source": [
    "gs = '01 12 13 34 41 20'\n",
    "G = makeUndiGraph(gs)\n",
    "repr(G)"
   ]
  },
  {
   "cell_type": "code",
   "execution_count": 3,
   "id": "fb24dfaa-2e8f-4d32-9cc1-b0cc27f077d6",
   "metadata": {},
   "outputs": [
    {
     "name": "stdout",
     "output_type": "stream",
     "text": [
      "[0, 1, 3, 4, 1, 2, 0]\n"
     ]
    }
   ],
   "source": [
    "G = {0: {1, 2}, 1: {0, 2, 3, 4}, 2: {0, 1}, 3: {1, 4}, 4: {1, 3}}\n",
    "visited = {v:set() for v in G}\n",
    "degrees = {0: 2, 1: 4, 2: 2, 3: 2, 4: 2}\n",
    "path = []\n",
    "\n",
    "def dfs(v):\n",
    "    while degrees[v] != 0:\n",
    "        next = list(G[v])[0]  # die erste noch vorhandene Kante\n",
    "        G[v].remove(next)     # wird aus dem Graphen gelöscht\n",
    "        G[next].remove(v)     # von beiden Seiten\n",
    "        degrees[v]-=1         # der Grad der Knoten v und next\n",
    "        degrees[next]-=1      # wird erniedrigt\n",
    "        dfs(next)\n",
    "    path.append(v)  \n",
    "dfs(0)\n",
    "path.reverse()                # beim undirected eulercircle unnötig\n",
    "print(path)"
   ]
  },
  {
   "cell_type": "code",
   "execution_count": 3,
   "id": "5fe1dccd-5d53-4a01-b3c4-fdce942e7683",
   "metadata": {},
   "outputs": [
    {
     "name": "stdout",
     "output_type": "stream",
     "text": [
      "[0, 1, 3, 4, 1, 2, 0]\n"
     ]
    }
   ],
   "source": [
    "G = {0: {1, 2}, 1: {0, 2, 3, 4}, 2: {0, 1}, 3: {1, 4}, 4: {1, 3}}\n",
    "visited = {v:set() for v in G}            # die schon besuchten Kanten\n",
    "degrees = {0: 2, 1: 4, 2: 2, 3: 2, 4: 2}\n",
    "path = []\n",
    "\n",
    "def dfs(v):\n",
    "    while degrees[v] != 0:\n",
    "                 \n",
    "        for w in G[v]:\n",
    "            if w not in visited[v]:\n",
    "                next = w      # die nächste noch unbesuchte Kante\n",
    "                break\n",
    "                \n",
    "        visited[v].add(next)  # markiere Kante (v,next) als besucht\n",
    "        visited[next].add(v)\n",
    "\n",
    "        degrees[v]-=1         # der Grad der Knoten v und next\n",
    "        degrees[next]-=1      # wird erniedrigt\n",
    "        dfs(next)\n",
    "    path.append(v)  \n",
    "dfs(0)\n",
    "path.reverse()                # beim undirected eulercircle unnötig\n",
    "print(path)"
   ]
  },
  {
   "cell_type": "code",
   "execution_count": 6,
   "id": "ac29c8fc-0497-48a9-b10e-d7e71f0aa49c",
   "metadata": {},
   "outputs": [
    {
     "data": {
      "text/plain": [
       "'{0: {1}, 1: {0, 2, 3}, 2: {1}, 3: {1}}'"
      ]
     },
     "execution_count": 6,
     "metadata": {},
     "output_type": "execute_result"
    }
   ],
   "source": [
    "gs = '01 12 13'\n",
    "G = makeUndiGraph(gs)\n",
    "repr(G)"
   ]
  },
  {
   "cell_type": "code",
   "execution_count": 11,
   "id": "0f24a587-e513-4621-a566-5d7d1ab15947",
   "metadata": {},
   "outputs": [
    {
     "data": {
      "text/plain": [
       "4"
      ]
     },
     "execution_count": 11,
     "metadata": {},
     "output_type": "execute_result"
    }
   ],
   "source": [
    "U = []\n",
    "for v in G:\n",
    "    if len(G[v]) % 2 != 0:\n",
    "        U.append(v)\n",
    "len(U)"
   ]
  },
  {
   "cell_type": "code",
   "execution_count": 12,
   "id": "3f651a44-5612-41e0-a8c1-d3bb2c000b63",
   "metadata": {},
   "outputs": [],
   "source": [
    "def dist(v1, v2):\n",
    "    '''\n",
    "    returns: kürzeste Distanz zwischen v1 und v2\n",
    "    '''\n",
    "    return D[v1][v2]\n",
    "\n",
    "def match(U):\n",
    "    '''\n",
    "    returns: greedy match\n",
    "    '''\n",
    "    if len(U) == 0:\n",
    "        return []\n",
    "    v = U[0]\n",
    "    best = 1\n",
    "    best_val = dist(U[0],U[1])\n",
    "    for i in range(2,len(U)):\n",
    "        if U[i] not in G[U[0]]:\n",
    "            val = dist(U[0],U[i])\n",
    "            if val < best_val:\n",
    "                best_val = val\n",
    "                best = i\n",
    "    e = (U[0],U[best])\n",
    "    U1 = U.copy()\n",
    "    U1.pop(best)\n",
    "    U1.pop(0)\n",
    "    return match(U1) + [e]"
   ]
  },
  {
   "cell_type": "code",
   "execution_count": 14,
   "id": "984428e1-6508-4511-890e-3d93ae6625c5",
   "metadata": {},
   "outputs": [
    {
     "data": {
      "text/plain": [
       "'{0: {1, 2}, 1: {0, 2, 3, 4}, 2: {0, 1}, 3: {1, 4}, 4: {1, 3}}'"
      ]
     },
     "execution_count": 14,
     "metadata": {},
     "output_type": "execute_result"
    }
   ],
   "source": [
    "\n",
    "repr(G)"
   ]
  },
  {
   "cell_type": "code",
   "execution_count": 78,
   "id": "0c7d066d-ae33-447d-8ddf-c66fb0501911",
   "metadata": {},
   "outputs": [],
   "source": [
    "gs = '01 12 13 34 41 20'\n",
    "G = makeUndiGraph(gs)\n",
    "visited = {v : set() for v in G}\n",
    "\n",
    "v = 0\n",
    "path = []\n",
    "path.append(v)\n",
    "W = [u for u in G[v] if u not in visited[v]]"
   ]
  },
  {
   "cell_type": "code",
   "execution_count": 79,
   "id": "fc2b7dce-160f-4985-bbd7-6a1c5aaf2510",
   "metadata": {},
   "outputs": [
    {
     "name": "stdout",
     "output_type": "stream",
     "text": [
      "{0: {1, 2}, 1: {0, 2, 3, 4}, 2: {0, 1}, 3: {1, 4}, 4: {1, 3}}\n",
      "[0, 1]\n",
      "{0: {1, 2}, 1: {0, 2, 3, 4}, 2: {0, 1}, 3: {1, 4}, 4: {1, 3}}\n",
      "[0, 1, 2]\n",
      "{0: {1, 2}, 1: {0, 2, 3, 4}, 2: {0, 1}, 3: {1, 4}, 4: {1, 3}}\n",
      "[0, 1, 2, 0]\n"
     ]
    }
   ],
   "source": [
    "while W:\n",
    "    w = W[0]\n",
    "    visited[w].add(v)\n",
    "    visited[v].add(w)\n",
    "    v  = w\n",
    "    print(G)\n",
    "    path.append(w)\n",
    "    print(path)\n",
    "    W = [u for u in G[v] if u not in visited[v]]\n",
    "    \n",
    "\n"
   ]
  },
  {
   "cell_type": "code",
   "execution_count": 80,
   "id": "7a61c423-ee04-43e4-870f-3b65cef92bce",
   "metadata": {},
   "outputs": [
    {
     "name": "stdout",
     "output_type": "stream",
     "text": [
      "{0: {1, 2}, 1: {0, 2, 3, 4}, 2: {0, 1}, 3: {1, 4}, 4: {1, 3}}\n",
      "{0: {1, 2}, 1: {0, 2}, 2: {0, 1}, 3: set(), 4: set()}\n"
     ]
    }
   ],
   "source": [
    "print(G)\n",
    "print(visited)"
   ]
  },
  {
   "cell_type": "code",
   "execution_count": 81,
   "id": "7d5a0131-45e5-4715-8d54-a583b19302db",
   "metadata": {},
   "outputs": [],
   "source": [
    "v = 1\n",
    "path2 = []\n",
    "path2.append(v)\n",
    "W = [u for u in G[v] if u not in visited[v]]"
   ]
  },
  {
   "cell_type": "code",
   "execution_count": 82,
   "id": "502a2c62-eb56-4e3a-b078-ac8f22fe1b1d",
   "metadata": {},
   "outputs": [
    {
     "name": "stdout",
     "output_type": "stream",
     "text": [
      "{0: {1, 2}, 1: {0, 2, 3, 4}, 2: {0, 1}, 3: {1, 4}, 4: {1, 3}}\n",
      "[1, 3]\n",
      "{0: {1, 2}, 1: {0, 2, 3, 4}, 2: {0, 1}, 3: {1, 4}, 4: {1, 3}}\n",
      "[1, 3, 4]\n",
      "{0: {1, 2}, 1: {0, 2, 3, 4}, 2: {0, 1}, 3: {1, 4}, 4: {1, 3}}\n",
      "[1, 3, 4, 1]\n"
     ]
    }
   ],
   "source": [
    "while W:\n",
    "    w = W[0]\n",
    "    visited[w].add(v)\n",
    "    visited[v].add(w)\n",
    "    v  = w\n",
    "    print(G)\n",
    "    path2.append(w)\n",
    "    print(path2)\n",
    "    W = [u for u in G[v] if u not in visited[v]]"
   ]
  },
  {
   "cell_type": "code",
   "execution_count": null,
   "id": "b35838c4-dfc8-4123-b818-7b3054c0f6e2",
   "metadata": {},
   "outputs": [],
   "source": []
  }
 ],
 "metadata": {
  "kernelspec": {
   "display_name": "Python 3 (ipykernel)",
   "language": "python",
   "name": "python3"
  },
  "language_info": {
   "codemirror_mode": {
    "name": "ipython",
    "version": 3
   },
   "file_extension": ".py",
   "mimetype": "text/x-python",
   "name": "python",
   "nbconvert_exporter": "python",
   "pygments_lexer": "ipython3",
   "version": "3.9.12"
  }
 },
 "nbformat": 4,
 "nbformat_minor": 5
}
