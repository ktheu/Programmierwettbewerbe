{
 "cells": [
  {
   "cell_type": "markdown",
   "id": "e62f9f60-6539-4ec0-bf96-6f5da16d0de7",
   "metadata": {},
   "source": [
    "## Müllabfuhr\n"
   ]
  },
  {
   "cell_type": "markdown",
   "id": "f6eb4a1f-72a3-4fc3-9b83-a31909d94be5",
   "metadata": {},
   "source": [
    "[Aufgabe](muellabfuhr.pdf) - [Lösungshinweise](muellabfuhrL.pdf)\n",
    "\n",
    "Beispiel 1:\n",
    "\n",
    "<img src='bild2.png' width='400'>"
   ]
  },
  {
   "cell_type": "markdown",
   "id": "cc716bc8-0cf9-40a9-8f41-8c8d6ffd1ee7",
   "metadata": {},
   "source": [
    "### Kürzeste Wege mit Floyd\n",
    "\n",
    "Der Floyd-Algorithmus liefert uns kürzeste Wege zwischen zwei beliebigen Knoten.\n",
    "Die beiden beiden berechneten Matrizen D (Distanzmatrix) und P (Vorgängerknoten des kürzesten Wegs)\n",
    "speichern wir als globale Variablen. Der Floyd-Algorithmus erwartet als Eingabe eine Adjazenzmatrix\n"
   ]
  },
  {
   "cell_type": "markdown",
   "id": "c0be3d57-6db9-4f9a-af24-79b6f558aaf3",
   "metadata": {},
   "source": [
    "#### Adjazenzmatrix erstellen"
   ]
  },
  {
   "cell_type": "code",
   "execution_count": 5,
   "id": "235141d2-b1e8-4f74-962a-2688083a4f98",
   "metadata": {},
   "outputs": [],
   "source": [
    "inf = float('inf')\n",
    "nr = 1\n",
    "f = open('./beispieldaten/muellabfuhr'+str(nr)+'.txt')\n",
    "anzV, anzE = [int(x) for x in f.readline().split()]\n",
    "\n",
    "GM = [[inf]*anzV for _ in range(anzV)]\n",
    "V = set()\n",
    "E = set()\n",
    "for i in range(anzE):\n",
    "    von, bis, km = [int(x) for x in f.readline().split()]\n",
    "    GM[von][bis]=km\n",
    "    GM[bis][von]=km\n",
    "    V.add(von)\n",
    "    V.add(bis)\n",
    "    \n",
    "    if von < bis:\n",
    "        E.add((von,bis))\n",
    "    else:\n",
    "        E.add((bis,von))\n",
    "for i in range(anzV):\n",
    "    GM[i][i]=0"
   ]
  },
  {
   "cell_type": "code",
   "execution_count": 6,
   "id": "ff828399-29d5-4089-aad9-d15538402f3b",
   "metadata": {},
   "outputs": [],
   "source": [
    "def floyd(c):\n",
    "    n = len(c)\n",
    "    d = [[0]*n for j in range(n)]   # Matrix D\n",
    "    p = [[0]*n for j in range(n)]   # Matrix P\n",
    "    for i in range(n):\n",
    "        for j in range(n):\n",
    "            d[i][j] = c[i][j]\n",
    "            p[i][j] = i\n",
    "\n",
    "    for k in range(n):\n",
    "        for i in range(n):\n",
    "            for j in range(n):\n",
    "                tmp = d[i][k] + d[k][j]\n",
    "                if tmp < d[i][j]:\n",
    "                    d[i][j] = tmp\n",
    "                    p[i][j] = p[k][j]\n",
    "    return d, p\n",
    "\n",
    "def getPath(p, i, j):\n",
    "    if i == j: return (i,)\n",
    "    return getPath(p,i,p[i][j]) + (j,)\n",
    "\n",
    "def printMatrix(a):\n",
    "    for i in range(len(a)):\n",
    "        for j in range(len(a)):\n",
    "            if a[i][j] == inf:\n",
    "                print(\"{:4}\".format(\".\"),end='')\n",
    "            else:\n",
    "                print(\"{:<4}\".format(a[i][j]),end='')\n",
    "        print()\n",
    "    print()\n",
    "    \n",
    "D, P = floyd(GM)"
   ]
  },
  {
   "cell_type": "code",
   "execution_count": 7,
   "id": "558488ae-d7bf-4bdb-a06e-2a4b8a0593ba",
   "metadata": {},
   "outputs": [
    {
     "name": "stdout",
     "output_type": "stream",
     "text": [
      "0   2   9   2   6   4   1   2   \n",
      "2   0   9   2   8   4   1   2   \n",
      "9   9   0   7   14  10  8   9   \n",
      "2   2   7   0   7   3   1   2   \n",
      "6   8   14  7   0   5   7   7   \n",
      "4   4   10  3   5   0   3   2   \n",
      "1   1   8   1   7   3   0   1   \n",
      "2   2   9   2   7   2   1   0   \n",
      "\n"
     ]
    }
   ],
   "source": [
    "printMatrix(D)"
   ]
  },
  {
   "cell_type": "markdown",
   "id": "5e20a0cf-bcef-43ff-ada9-0c3b7d13c133",
   "metadata": {},
   "source": [
    "Jetzt können wir die Distanz und die kürzesten Wege zwischen zwei beliebigen Knoten berechnen."
   ]
  },
  {
   "cell_type": "code",
   "execution_count": 8,
   "id": "8c8a2f67-87a3-48ed-8a34-b4d40d7e1671",
   "metadata": {},
   "outputs": [],
   "source": [
    "# die Matrizen D und P werden als globale Variablen vorausgesetzt.\n",
    "def dist(v1, v2):\n",
    "    '''\n",
    "    returns: kürzeste Distanz zwischen v1 und v2  \n",
    "    '''\n",
    "    return D[v1][v2]\n",
    "\n",
    "def sPath(v1, v2):\n",
    "    '''\n",
    "    returns: einen kürzesten Weg zwischen v1 und v2\n",
    "    '''\n",
    "    return getPath(P,v1,v2)"
   ]
  },
  {
   "cell_type": "code",
   "execution_count": 9,
   "id": "251b256b-bdab-40bd-ad6e-fc1ab484c31d",
   "metadata": {},
   "outputs": [
    {
     "name": "stdout",
     "output_type": "stream",
     "text": [
      "(0, 6, 3, 2)\n",
      "9\n"
     ]
    }
   ],
   "source": [
    "print(sPath(0,2))\n",
    "print(dist(0,2))"
   ]
  },
  {
   "cell_type": "markdown",
   "id": "1ffd5d54-6066-41a2-979b-cd78f2481f5a",
   "metadata": {},
   "source": [
    "### Kreis, der alle Kanten durchläuft.\n",
    "\n",
    "Ein Kreis, der alle Kanten nur einmal durchläuft, ist ein Eulerkreis. Der existiert genau dann, wenn wir alle Knoten einen geraden Grad haben. Das können wir bei unseren Graphen nicht erwarten. Wir verbinden die Knoten, die ungeraden Grad haben paarweise miteinander (möglichst billige Strecken), dann konstruieren wir den Eulerkreis. Dazu benötigen wir eine Modellierung des Graphen als Adjazenzliste. Allerdings brauchen wir hier die Gewichte nicht berücksichtigen (wir wollen ja alle Kanten durchlaufen, egal was sie für ein Gewicht haben). Nur beim matching der ungeraden Kanten benötigen wir die Information über die kürzesten Wege. Die holen wir uns aus dem Ergebnis des Floyd-Algorithmus. \n",
    "\n",
    "#### Adjazenzliste erstellen"
   ]
  },
  {
   "cell_type": "code",
   "execution_count": 11,
   "id": "9da5726a-3de7-4aad-b846-d9dcce751c95",
   "metadata": {},
   "outputs": [],
   "source": [
    "nr = 1\n",
    "f = open('./beispieldaten/muellabfuhr'+str(nr)+'.txt')\n",
    "anzV, anzE = [int(x) for x in f.readline().split()]\n",
    "G = {x:set() for x in range(anzV)}\n",
    "for _ in range(anzE):\n",
    "    v1, v2, _ = f.readline().split()\n",
    "    v1, v2 = int(v1), int(v2)\n",
    "    G[v1].add(v2)\n",
    "    G[v2].add(v1)"
   ]
  },
  {
   "cell_type": "code",
   "execution_count": 12,
   "id": "4b247f4a-bd8b-474c-a737-a768efccd23e",
   "metadata": {},
   "outputs": [
    {
     "data": {
      "text/plain": [
       "{0: {4, 5, 6},\n",
       " 1: {3, 6},\n",
       " 2: {3},\n",
       " 3: {1, 2, 4, 5, 6},\n",
       " 4: {0, 3, 5, 7},\n",
       " 5: {0, 3, 4, 7},\n",
       " 6: {0, 1, 3, 7},\n",
       " 7: {4, 5, 6}}"
      ]
     },
     "execution_count": 12,
     "metadata": {},
     "output_type": "execute_result"
    }
   ],
   "source": [
    "G"
   ]
  },
  {
   "cell_type": "markdown",
   "id": "3b162f14-92d3-446a-8cde-5d5521a25799",
   "metadata": {},
   "source": [
    "#### Knoten mit ungeradem Grad bestimmen"
   ]
  },
  {
   "cell_type": "code",
   "execution_count": 13,
   "id": "98889504-ecbe-44c7-9716-cd9ed2aeffc7",
   "metadata": {},
   "outputs": [
    {
     "name": "stdout",
     "output_type": "stream",
     "text": [
      "[0, 2, 3, 7]\n",
      "4\n"
     ]
    }
   ],
   "source": [
    "U = []\n",
    "for v in G:\n",
    "    if len(G[v]) % 2 != 0:\n",
    "        U.append(v)\n",
    "print(U)\n",
    "print(len(U))"
   ]
  },
  {
   "cell_type": "markdown",
   "id": "a1dd4dee-71ee-446c-8a33-1929d8bda47e",
   "metadata": {},
   "source": [
    "#### Greedy Matching für die Knoten mit ungeradem Grad\n",
    "\n",
    "```\n",
    "Setze result = []\n",
    "Solange U noch nicht leer:\n",
    "    hole ein Element v1 aus U\n",
    "    wähle aus dasjenige Element v2, das zu v1 den geringsten Abstand hat\n",
    "    Füge (v1,v2) in die Liste result ein.\n",
    "    Lösche v1, v2 aus U\n",
    "```"
   ]
  },
  {
   "cell_type": "code",
   "execution_count": 14,
   "id": "f3dca1b7-fdb8-4dc8-939f-af58c784d172",
   "metadata": {},
   "outputs": [],
   "source": [
    "def match(U):\n",
    "    U1 = U.copy()          # U soll unverändert bleiben\n",
    "    result = []\n",
    "    while U1:\n",
    "        v = U1.pop()       # v1 ist damit automatisch aus U gelöscht\n",
    "        best_val = inf\n",
    "        best = None\n",
    "        for w in U1:\n",
    "            if dist(v,w) < best_val:\n",
    "                best_val = dist(v,w)\n",
    "                best = w\n",
    "        result.append((v,best))\n",
    "        U1.remove(best)\n",
    "    return result     "
   ]
  },
  {
   "cell_type": "code",
   "execution_count": 15,
   "id": "144153e5-66dd-460c-9d69-112beb72836e",
   "metadata": {},
   "outputs": [
    {
     "data": {
      "text/plain": [
       "[(7, 0), (3, 2)]"
      ]
     },
     "execution_count": 15,
     "metadata": {},
     "output_type": "execute_result"
    }
   ],
   "source": [
    "match(U) "
   ]
  },
  {
   "cell_type": "markdown",
   "id": "923fcd41-c9f2-4d43-a5a6-df9b51e967c6",
   "metadata": {},
   "source": [
    "Kosten des Matchings:\n"
   ]
  },
  {
   "cell_type": "code",
   "execution_count": 16,
   "id": "57724105-3580-4e40-b71e-46f62b07f601",
   "metadata": {},
   "outputs": [
    {
     "name": "stdout",
     "output_type": "stream",
     "text": [
      "2\n",
      "7\n",
      "Kosten des Matchings 9\n"
     ]
    }
   ],
   "source": [
    "def matchCost(U):\n",
    "    cost = 0\n",
    "    for v,w in match(U):\n",
    "        print(dist(v,w))\n",
    "        cost += dist(v,w)\n",
    "    return cost\n",
    "\n",
    "print(f'Kosten des Matchings {matchCost(U)}')"
   ]
  },
  {
   "cell_type": "markdown",
   "id": "4169487a-28d7-4f25-97b9-feb623a3fc4d",
   "metadata": {},
   "source": [
    "#### Einfügen der Metakanten in den Graphen\n",
    "Es kann sein, dass eine Kante eingefügt werden soll zwischen zwei Knoten, die schon eine Kante haben.\n",
    "Unsere Implementation des Graphen unterstützt keine doppelten Kanten. Deswegen fügen wir auch einen Metaknoten zwischendrin ein. Wir nummerieren in ab 10000 aufwärts um ihn als Metaknoten erkennen zu können."
   ]
  },
  {
   "cell_type": "code",
   "execution_count": 17,
   "id": "f23ccef9-e4d6-46ef-a2b1-c185a721e220",
   "metadata": {},
   "outputs": [],
   "source": [
    "def addMeta(U):\n",
    "    global hilf\n",
    "    for e in match(U):\n",
    "        v1, v2 = e\n",
    "        G[hilf] = {v1,v2}\n",
    "        G[v1].add(hilf)\n",
    "        G[v2].add(hilf)\n",
    "        hilf+=1\n"
   ]
  },
  {
   "cell_type": "code",
   "execution_count": 18,
   "id": "2a31d908-a121-4d66-8776-103aba029c20",
   "metadata": {},
   "outputs": [
    {
     "data": {
      "text/plain": [
       "{0: {4, 5, 6, 10000},\n",
       " 1: {3, 6},\n",
       " 2: {3, 10001},\n",
       " 3: {1, 2, 4, 5, 6, 10001},\n",
       " 4: {0, 3, 5, 7},\n",
       " 5: {0, 3, 4, 7},\n",
       " 6: {0, 1, 3, 7},\n",
       " 7: {4, 5, 6, 10000},\n",
       " 10000: {0, 7},\n",
       " 10001: {2, 3}}"
      ]
     },
     "execution_count": 18,
     "metadata": {},
     "output_type": "execute_result"
    }
   ],
   "source": [
    "hilf = 10000\n",
    "addMeta(U)\n",
    "G"
   ]
  },
  {
   "cell_type": "markdown",
   "id": "144a4873-8da6-455d-82e6-fd52392ca110",
   "metadata": {},
   "source": [
    "#### Eulerkreis erstellen\n",
    "Jetzt haben alle Knoten einen geraden Grad und wir können den Eulerkreis erstellen."
   ]
  },
  {
   "cell_type": "code",
   "execution_count": 19,
   "id": "6cf75a41-6bb0-462b-a169-5aa3d29ff1a2",
   "metadata": {},
   "outputs": [
    {
     "name": "stdout",
     "output_type": "stream",
     "text": [
      "[0, 6, 7, 5, 4, 3, 10001, 2, 3, 6, 1, 3, 5, 0, 4, 7, 10000, 0]\n"
     ]
    }
   ],
   "source": [
    "import sys\n",
    "from copy import deepcopy\n",
    "\n",
    "GE = deepcopy(G)\n",
    "degrees = {x:len(GE[x]) for x in GE} \n",
    "\n",
    "def dfs(v):\n",
    "\n",
    "    while degrees[v] != 0:\n",
    "        next = list(GE[v])[0]    # die erste noch vorhandene Kante\n",
    "        GE[v].remove(next)       # wird aus dem Graphen gelöscht\n",
    "        GE[next].remove(v)       # von beiden Seiten\n",
    "        degrees[v]-=1            # der Grad der Knoten v und next\n",
    "        degrees[next]-=1         # wird erniedrigt\n",
    "        dfs(next)\n",
    "    path.append(v) \n",
    "    \n",
    "path = []\n",
    "dfs(0)                         # beim undirected eulercircle unnötig\n",
    "print(path)    "
   ]
  },
  {
   "cell_type": "code",
   "execution_count": 20,
   "id": "5e3e2179-c206-4eec-9aa3-aec9b745154b",
   "metadata": {},
   "outputs": [
    {
     "data": {
      "text/plain": [
       "18"
      ]
     },
     "execution_count": 20,
     "metadata": {},
     "output_type": "execute_result"
    }
   ],
   "source": [
    "len(path)"
   ]
  },
  {
   "cell_type": "markdown",
   "id": "5381813f-a5e1-4565-a550-5e470f156cc2",
   "metadata": {},
   "source": [
    "Links und rechts der 10000er Zahlen stehen die Knoten, zwischen die wir den kürzesten Weg zueinander schreiben müssen."
   ]
  },
  {
   "cell_type": "code",
   "execution_count": 21,
   "id": "e92b2212-07f6-405a-893e-41c66429c0ef",
   "metadata": {},
   "outputs": [],
   "source": [
    "def eliminateMeta(path):\n",
    "    result = []\n",
    "    for i in range(1,len(path)-1):\n",
    "        if path[i] < 10000:\n",
    "            result.append(path[i])\n",
    "        else:\n",
    "            v1, v2 = path[i-1],path[i+1]\n",
    "            for v in sPath(v1,v2)[1:-1]:\n",
    "                result.append(v)\n",
    "    return result"
   ]
  },
  {
   "cell_type": "code",
   "execution_count": 22,
   "id": "a34a90d8-a9a5-4155-9364-6a727c75afba",
   "metadata": {},
   "outputs": [
    {
     "name": "stdout",
     "output_type": "stream",
     "text": [
      "[6, 7, 5, 4, 3, 2, 3, 6, 1, 3, 5, 0, 4, 7, 6]\n",
      "15\n"
     ]
    }
   ],
   "source": [
    "path = eliminateMeta(path)\n",
    "print(path)\n",
    "print(len(path))"
   ]
  },
  {
   "cell_type": "markdown",
   "id": "1b331e3b-0964-4381-9ee2-5605921cf0b5",
   "metadata": {},
   "source": [
    "#### Den Eulerkreis aufteilen"
   ]
  },
  {
   "cell_type": "code",
   "execution_count": 23,
   "id": "ee7e0705-bb45-4f3e-98cd-d5a56e210cf5",
   "metadata": {},
   "outputs": [],
   "source": [
    "def abschnitt(p,i,j):\n",
    "    '''\n",
    "    p: Pfad als Tuple oder Liste\n",
    "    i, j: Indizes des Pfads, i <= j\n",
    "    returns: Pfad (Liste) bestehend aus kürzestem Weg von 0 nach p[i], dann weiter auf p bis p[j], dann den\n",
    "      kürzesten Weg p[j] zurück nach 0 \n",
    "    '''\n",
    "    return sPath(0,p[i])+tuple(p[i+1:j])+sPath(p[j],0)\n",
    "\n",
    "def pathCost(p):\n",
    "    '''\n",
    "    p: Pfad\n",
    "    returns: Summe der Kantenkosten entlang des Pfades\n",
    "    '''\n",
    "    pcost = 0                                  \n",
    "    for k in range(len(p)-1):\n",
    "        pcost += GM[p[k]][p[k+1]] \n",
    "    return pcost\n",
    "\n",
    "def aufteilung(p,n):\n",
    "    '''\n",
    "    Aufteilung von Pfad p in 5 Abschnitte, wobei jeder Abschnitt <= n kostet\n",
    "    returns: Liste mit Abschnitten der Indizes von Pfad p. Wenn n zu klein ist,\n",
    "    decken die Abschnitte nicht den ganzen Pfad ab.\n",
    "    z.B: [(0, 6), (6, 7), (7, 9), (9, 12), (12, 14)]\n",
    "    '''\n",
    "    tmp = []\n",
    "    i = 0\n",
    "    j = 0\n",
    "    for k in range(5):\n",
    "        while j < len(p) and (pathCost(abschnitt(p,i,j))) <= n:\n",
    "            j+=1\n",
    "        tmp.append((i,j-1))\n",
    "        i=j-1\n",
    "        j=i+1\n",
    "    return tmp\n",
    "\n",
    "def aufteilungOK(p,n):\n",
    "    '''\n",
    "    p: Pfad\n",
    "    returns True, wenn die Aufteilung mit n den ganzen Pfad überdeckt\n",
    "    '''\n",
    "    au = aufteilung(path,n)\n",
    "    lastIndex = au[-1][1]\n",
    "    return lastIndex == len(path)-1\n",
    "\n",
    "def printPath(p):\n",
    "    '''\n",
    "    printed den Pfad p mit seinen Kosten\n",
    "    '''\n",
    "    cost = 0\n",
    "    for i in range(len(p)-1):\n",
    "        \n",
    "        cost += D[p[i]][p[i+1]]\n",
    "    print(cost)"
   ]
  },
  {
   "cell_type": "code",
   "execution_count": 24,
   "id": "6fc67999-c217-451c-90d0-be9909cf634d",
   "metadata": {},
   "outputs": [
    {
     "data": {
      "text/plain": [
       "(0, 6, 7, 4, 5, 3, 4, 0)"
      ]
     },
     "execution_count": 24,
     "metadata": {},
     "output_type": "execute_result"
    }
   ],
   "source": [
    "p = [0, 5, 7, 6, 3, 6, 7, 4, 5, 3, 4, 0, 6, 1, 3, 2, 3, 6, 0]\n",
    "abschnitt(p,6,10)"
   ]
  },
  {
   "cell_type": "code",
   "execution_count": 25,
   "id": "94ef314d-9a3b-4b8f-87c4-a6c2ba8c7cfc",
   "metadata": {},
   "outputs": [
    {
     "data": {
      "text/plain": [
       "(3, 6, 0)"
      ]
     },
     "execution_count": 25,
     "metadata": {},
     "output_type": "execute_result"
    }
   ],
   "source": [
    "sPath(3,0)"
   ]
  },
  {
   "cell_type": "markdown",
   "id": "49b3805b-d77f-4671-8419-ef3a5deceedd",
   "metadata": {},
   "source": [
    "#### Binäre Suche, um die beste Aufteilung des Eulerkreises zu finden"
   ]
  },
  {
   "cell_type": "code",
   "execution_count": 27,
   "id": "aa1984ae-e427-4fac-ac04-dd5800649218",
   "metadata": {},
   "outputs": [],
   "source": [
    "def besteAufteilung(path):\n",
    "\n",
    "    mincost = 0\n",
    "    maxcost = pathCost(abschnitt(path,0,len(path)-1))\n",
    "\n",
    "    best = maxcost\n",
    "    versuch = maxcost//2\n",
    "\n",
    "    while True:\n",
    "\n",
    "        if aufteilungOK(path,versuch):\n",
    "            best = versuch\n",
    "            versuch = versuch//2\n",
    "        else:\n",
    "            versuch1 = (versuch+best) // 2\n",
    "            if versuch1 == versuch: \n",
    "                 break\n",
    "            versuch = versuch1\n",
    "            \n",
    "    return best, aufteilung(path,best)\n",
    "\n",
    " "
   ]
  },
  {
   "cell_type": "code",
   "execution_count": 28,
   "id": "f0886da6-026d-4f48-bd5a-be949b1b619c",
   "metadata": {},
   "outputs": [
    {
     "name": "stdout",
     "output_type": "stream",
     "text": [
      "Länge des Pfads 15\n",
      "Beste Aufteilung [(0, 4), (4, 7), (7, 10), (10, 11), (11, 14)]\n",
      "Maximale Pfadkosten bei bester Aufteilung: 18\n"
     ]
    }
   ],
   "source": [
    "best, teile =   besteAufteilung(path)\n",
    "print('Länge des Pfads',len(path))\n",
    "print('Beste Aufteilung',teile)\n",
    "print('Maximale Pfadkosten bei bester Aufteilung:', best)"
   ]
  },
  {
   "cell_type": "markdown",
   "id": "4dd76137-4f04-4fec-8976-dc13207d267f",
   "metadata": {},
   "source": [
    "#### Fahrplan für die 5 Müllabfuhren"
   ]
  },
  {
   "cell_type": "code",
   "execution_count": 29,
   "id": "bd410eba-21ca-4ef7-8f18-b5737cfff665",
   "metadata": {},
   "outputs": [
    {
     "name": "stdout",
     "output_type": "stream",
     "text": [
      "Fahrplan für Beispiel 1:\n",
      "Kosten: 18 - (0, 6, 7, 5, 4, 3, 6, 0)\n",
      "Kosten: 18 - (0, 6, 3, 2, 3, 6, 0)\n",
      "Kosten: 18 - (0, 6, 1, 3, 5, 7, 6, 0)\n",
      "Kosten: 10 - (0, 6, 7, 5, 0)\n",
      "Kosten: 16 - (0, 4, 7, 6, 0)\n",
      "Maximale Kosten einer Fahrt: 18\n"
     ]
    }
   ],
   "source": [
    "print(f'Fahrplan für Beispiel {nr}:')\n",
    "maxcost = 0\n",
    "for teil in teile:\n",
    "    p = abschnitt(path,teil[0],teil[1])\n",
    "    cost = pathCost(p)\n",
    "    if cost > maxcost:\n",
    "        maxcost = cost\n",
    "    print(f'Kosten: {cost} - {p}')\n",
    "print(f'Maximale Kosten einer Fahrt: {maxcost}')"
   ]
  },
  {
   "cell_type": "markdown",
   "id": "1a365044-1b83-4d5a-948f-696ddc8d3046",
   "metadata": {},
   "source": [
    "### Das vollständige Programm"
   ]
  },
  {
   "cell_type": "code",
   "execution_count": 30,
   "id": "8ed7ceaa-cb28-4229-a115-6dbcab29280f",
   "metadata": {},
   "outputs": [
    {
     "name": "stdout",
     "output_type": "stream",
     "text": [
      "Fahrplan für Beispiel 2:\n",
      "Kosten: 11 - (0, 6, 14, 13, 9, 12, 8, 14, 7, 11, 5, 0)\n",
      "Kosten: 11 - (0, 5, 11, 8, 7, 11, 5, 14, 6, 4, 6, 0)\n",
      "Kosten: 11 - (0, 6, 4, 3, 11, 2, 14, 10, 4, 13, 9, 0)\n",
      "Kosten: 12 - (0, 9, 13, 3, 13, 1, 7, 9, 10, 2, 10, 9, 0)\n",
      "Kosten: 12 - (0, 9, 10, 2, 8, 12, 1, 6, 9, 0, 5, 9, 0)\n",
      "Maximale Kosten einer Fahrt: 12\n"
     ]
    }
   ],
   "source": [
    "from copy import deepcopy\n",
    "def floyd(c):\n",
    "    n = len(c)\n",
    "    d = [[0]*n for j in range(n)]   # Matrix D\n",
    "    p = [[0]*n for j in range(n)]   # Matrix P\n",
    "    for i in range(n):\n",
    "        for j in range(n):\n",
    "            d[i][j] = c[i][j]\n",
    "            p[i][j] = i\n",
    "\n",
    "    for k in range(n):\n",
    "        for i in range(n):\n",
    "            for j in range(n):\n",
    "                tmp = d[i][k] + d[k][j]\n",
    "                if tmp < d[i][j]:\n",
    "                    d[i][j] = tmp\n",
    "                    p[i][j] = p[k][j]\n",
    "    return d, p\n",
    "\n",
    "def getPath(p, i, j):\n",
    "    if i == j: return (i,)\n",
    "    return getPath(p,i,p[i][j]) + (j,)\n",
    "\n",
    "def printMatrix(a):\n",
    "    for i in range(len(a)):\n",
    "        for j in range(len(a)):\n",
    "            if a[i][j] == inf:\n",
    "                print(\"{:4}\".format(\".\"),end='')\n",
    "            else:\n",
    "                print(\"{:<4}\".format(a[i][j]),end='')\n",
    "        print()\n",
    "    print()\n",
    "    \n",
    "def dist(v1, v2):\n",
    "    '''\n",
    "    returns: kürzeste Distanz zwischen v1 und v2  \n",
    "    '''\n",
    "    return D[v1][v2]\n",
    "\n",
    "def sPath(v1, v2):\n",
    "    '''\n",
    "    returns: einen kürzesten Weg zwischen v1 und v2\n",
    "    '''\n",
    "    return getPath(P,v1,v2)\n",
    "\n",
    "def match(U):\n",
    "    U1 = U.copy()          # U soll unverändert bleiben\n",
    "    result = []\n",
    "    while U1:\n",
    "        v = U1.pop()       # v1 ist damit automatisch aus U gelöscht\n",
    "        best_val = inf\n",
    "        best = None\n",
    "        for w in U1:\n",
    "            if dist(v,w) < best_val:\n",
    "                best_val = dist(v,w)\n",
    "                best = w\n",
    "        result.append((v,best))\n",
    "        U1.remove(best)\n",
    "    return result  \n",
    "\n",
    "def addMeta(U):\n",
    "    global hilf\n",
    "    for e in match(U):\n",
    "        v1, v2 = e\n",
    "        G[hilf] = {v1,v2}\n",
    "        G[v1].add(hilf)\n",
    "        G[v2].add(hilf)\n",
    "        hilf+=1\n",
    "\n",
    "def dfs(v):\n",
    "    while degrees[v] != 0:\n",
    "        next = list(GE[v])[0]    # die erste noch vorhandene Kante\n",
    "        GE[v].remove(next)       # wird aus dem Graphen gelöscht\n",
    "        GE[next].remove(v)       # von beiden Seiten\n",
    "        degrees[v]-=1            # der Grad der Knoten v und next\n",
    "        degrees[next]-=1         # wird erniedrigt\n",
    "        dfs(next)\n",
    "    path.append(v) \n",
    "\n",
    "def eliminateMeta(path):\n",
    "    result = []\n",
    "    for i in range(1,len(path)-1):\n",
    "        if path[i] < 10000:\n",
    "            result.append(path[i])\n",
    "        else:\n",
    "            v1, v2 = path[i-1],path[i+1]\n",
    "            for v in sPath(v1,v2)[1:-1]:\n",
    "                result.append(v)\n",
    "    return result\n",
    "\n",
    "def abschnitt(p,i,j):\n",
    "    '''\n",
    "    p: Pfad als Tuple oder Liste\n",
    "    i, j: Indizes des Pfads, i <= j\n",
    "    returns: Pfad (Liste) bestehend aus kürzestem Weg von 0 nach p[i], dann weiter auf p bis p[j], dann den\n",
    "      kürzesten Weg p[j] zurück nach 0 \n",
    "    '''\n",
    "    return sPath(0,p[i])+tuple(p[i+1:j])+sPath(p[j],0)\n",
    "\n",
    "def pathCost(p):\n",
    "    '''\n",
    "    p: Pfad\n",
    "    returns: Summe der Kantenkosten entlang des Pfades\n",
    "    '''\n",
    "    pcost = 0                                  \n",
    "    for k in range(len(p)-1):\n",
    "        pcost += GM[p[k]][p[k+1]] \n",
    "    return pcost\n",
    "\n",
    "def aufteilung(p,n):\n",
    "    '''\n",
    "    Aufteilung von Pfad p in 5 Abschnitte, wobei jeder Abschnitt <= n kostet\n",
    "    returns: Liste mit Abschnitten der Indizes von Pfad p. Wenn n zu klein ist,\n",
    "    decken die Abschnitte nicht den ganzen Pfad ab.\n",
    "    z.B: [(0, 6), (6, 7), (7, 9), (9, 12), (12, 14)]\n",
    "    '''\n",
    "    tmp = []\n",
    "    i = 0\n",
    "    j = 0\n",
    "    for k in range(5):\n",
    "        while j < len(p) and (pathCost(abschnitt(p,i,j))) <= n:\n",
    "            j+=1\n",
    "        tmp.append((i,j-1))\n",
    "        i=j-1\n",
    "        j=i+1\n",
    "    return tmp\n",
    "\n",
    "def aufteilungOK(p,n):\n",
    "    '''\n",
    "    p: Pfad\n",
    "    returns True, wenn die Aufteilung mit n den ganzen Pfad überdeckt\n",
    "    '''\n",
    "    au = aufteilung(path,n)\n",
    "    lastIndex = au[-1][1]\n",
    "    return lastIndex == len(path)-1\n",
    "\n",
    "def printPath(p):\n",
    "    '''\n",
    "    printed den Pfad p mit seinen Kosten\n",
    "    '''\n",
    "    cost = 0\n",
    "    for i in range(len(p)-1):\n",
    "        \n",
    "        cost += D[p[i]][p[i+1]]\n",
    "    print(cost)\n",
    "    \n",
    "def besteAufteilung(path):\n",
    "\n",
    "    mincost = 0\n",
    "    maxcost = pathCost(abschnitt(path,0,len(path)-1))\n",
    "\n",
    "    best = maxcost\n",
    "    versuch = maxcost//2\n",
    "\n",
    "    while True:\n",
    "\n",
    "        if aufteilungOK(path,versuch):\n",
    "            best = versuch\n",
    "            versuch = versuch//2\n",
    "        else:\n",
    "            versuch1 = (versuch+best) // 2\n",
    "            if versuch1 == versuch: \n",
    "                 break\n",
    "            versuch = versuch1\n",
    "            \n",
    "    return best, aufteilung(path,best)\n",
    "\n",
    "\n",
    "nr = 2\n",
    "inf = float('inf')\n",
    "f = open('./beispieldaten/muellabfuhr'+str(nr)+'.txt')\n",
    "anzV, anzE = [int(x) for x in f.readline().split()]\n",
    "\n",
    "GM = [[inf]*anzV for _ in range(anzV)]\n",
    "V = set()\n",
    "E = set()\n",
    "for i in range(anzE):\n",
    "    von, bis, km = [int(x) for x in f.readline().split()]\n",
    "    GM[von][bis]=km\n",
    "    GM[bis][von]=km\n",
    "    V.add(von)\n",
    "    V.add(bis)\n",
    "    \n",
    "    if von < bis:\n",
    "        E.add((von,bis))\n",
    "    else:\n",
    "        E.add((bis,von))\n",
    "for i in range(anzV):\n",
    "    GM[i][i]=0\n",
    "    \n",
    "D, P = floyd(GM)\n",
    "\n",
    "f = open('./beispieldaten/muellabfuhr'+str(nr)+'.txt')\n",
    "anzV, anzE = [int(x) for x in f.readline().split()]\n",
    "G = {x:set() for x in range(anzV)}\n",
    "for _ in range(anzE):\n",
    "    v1, v2, _ = f.readline().split()\n",
    "    v1, v2 = int(v1), int(v2)\n",
    "    G[v1].add(v2)\n",
    "    G[v2].add(v1)\n",
    "    \n",
    "U = []\n",
    "for v in G:\n",
    "    if len(G[v]) % 2 != 0:\n",
    "        U.append(v)\n",
    "        \n",
    "hilf = 10000\n",
    "addMeta(U)\n",
    "GE = deepcopy(G)\n",
    "degrees = {x:len(GE[x]) for x in GE} \n",
    "path = []\n",
    "dfs(0)                         # beim undirected eulercircle unnötig\n",
    "path = eliminateMeta(path)\n",
    "kosten, teile =   besteAufteilung(path)\n",
    "\n",
    "print(f'Fahrplan für Beispiel {nr}:')\n",
    "maxcost = 0\n",
    "for teil in teile:\n",
    "    p = abschnitt(path,teil[0],teil[1])\n",
    "    cost = pathCost(p)\n",
    "    if cost > maxcost:\n",
    "        maxcost = cost\n",
    "    print(f'Kosten: {cost} - {p}')\n",
    "print(f'Maximale Kosten einer Fahrt: {maxcost}')"
   ]
  },
  {
   "cell_type": "code",
   "execution_count": null,
   "id": "f9dbb4a3-f750-42e1-83fb-fe46ca2f1137",
   "metadata": {},
   "outputs": [],
   "source": []
  }
 ],
 "metadata": {
  "kernelspec": {
   "display_name": "Python 3 (ipykernel)",
   "language": "python",
   "name": "python3"
  },
  "language_info": {
   "codemirror_mode": {
    "name": "ipython",
    "version": 3
   },
   "file_extension": ".py",
   "mimetype": "text/x-python",
   "name": "python",
   "nbconvert_exporter": "python",
   "pygments_lexer": "ipython3",
   "version": "3.9.12"
  }
 },
 "nbformat": 4,
 "nbformat_minor": 5
}
