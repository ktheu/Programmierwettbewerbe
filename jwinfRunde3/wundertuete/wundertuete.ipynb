{
 "cells": [
  {
   "cell_type": "markdown",
   "id": "6a0882a2-374c-4df3-ad5f-b7cb9ea4579e",
   "metadata": {},
   "source": [
    "### Wundertüte\n"
   ]
  },
  {
   "cell_type": "code",
   "execution_count": 2,
   "id": "0f4f0eb3-397e-416b-a19d-d901da1ecd66",
   "metadata": {},
   "outputs": [
    {
     "name": "stdout",
     "output_type": "stream",
     "text": [
      "Beispieldatei: wundertuete0.txt\n",
      "Anzahl Wundertüten: 3\n",
      "Anzahl Spielesorten: 3\n",
      "Anzahl Spiele pro Sorte: [4, 4, 2]\n"
     ]
    }
   ],
   "source": [
    "eingabe = 'wundertuete0.txt'\n",
    "f = open('beispieldaten/'+eingabe)\n",
    "\n",
    "anzahl_tueten = int(f.readline())\n",
    "anzahl_sorten = int(f.readline())\n",
    "spiele_pro_sorte = []\n",
    "for _ in range(anzahl_sorten):\n",
    "    spiele_pro_sorte.append(int(f.readline()))\n",
    "    \n",
    "f.close()\n",
    "\n",
    "print(f'Beispieldatei: {eingabe}')\n",
    "print(f'Anzahl Wundertüten: {anzahl_tueten}')\n",
    "print(f'Anzahl Spielesorten: {anzahl_sorten}')\n",
    "print(f'Anzahl Spiele pro Sorte: {spiele_pro_sorte}')"
   ]
  },
  {
   "cell_type": "markdown",
   "id": "a1af3a72-90b3-48b6-823d-3a2f295bdc73",
   "metadata": {},
   "source": [
    "Die Gesamtheit der zu verteilenden Spiele modellieren wir als eine Liste. Eine Zahl k steht für ein Spiel der Sorte k.\n",
    "\n",
    "<img src='tuete1.png' width='600'>"
   ]
  },
  {
   "cell_type": "code",
   "execution_count": 4,
   "id": "46e10200-3c30-4da3-946e-6e0d18329b8d",
   "metadata": {},
   "outputs": [
    {
     "name": "stdout",
     "output_type": "stream",
     "text": [
      "[0, 0, 0, 0, 1, 1, 1, 1, 2, 2]\n"
     ]
    }
   ],
   "source": [
    "spiele = []\n",
    "for i in range(len(spiele_pro_sorte)):\n",
    "    for k in range(spiele_pro_sorte[i]):\n",
    "        spiele.append(i)\n",
    "print(spiele)"
   ]
  },
  {
   "cell_type": "markdown",
   "id": "4425b1b3-dd12-485e-8195-d29cb639f718",
   "metadata": {},
   "source": [
    "Jede Wundertüte modellieren wir als eine Liste. Alle Wundertüten sammeln wir in der Liste *tueten*. Zu Beginn sind alle Wundertüten leer."
   ]
  },
  {
   "cell_type": "code",
   "execution_count": 5,
   "id": "ae7ab2cf-ac87-4670-b513-1cdba92a3037",
   "metadata": {},
   "outputs": [
    {
     "name": "stdout",
     "output_type": "stream",
     "text": [
      "[[], [], []]\n"
     ]
    }
   ],
   "source": [
    "tueten = [[] for i in range(anzahl_tueten)]              # Liste mit leeren Wundertüten            \n",
    "print(tueten)"
   ]
  },
  {
   "cell_type": "code",
   "execution_count": 6,
   "id": "524a0f33-4900-4b3b-92c6-e0d4ae7b91f4",
   "metadata": {},
   "outputs": [
    {
     "data": {
      "text/plain": [
       "[[0, 0, 1, 2], [0, 1, 1], [0, 1, 2]]"
      ]
     },
     "execution_count": 6,
     "metadata": {},
     "output_type": "execute_result"
    }
   ],
   "source": [
    "nr = 0           # Nummer der Wundertüte, in die als nächstes was reinkommt\n",
    "while spiele:\n",
    "    x = spiele.pop(0)\n",
    "    tueten[nr].append(x)\n",
    "    nr = (nr + 1) % anzahl_tueten\n",
    "    \n",
    "tueten   "
   ]
  },
  {
   "cell_type": "markdown",
   "id": "5e0b2df8-c609-4276-8e8f-a0cc960e90de",
   "metadata": {},
   "source": [
    "Wir stellen die Tüten kompakter dar, indem wir für jede Spielesorte angeben, wieviele Spiele dieser Sorte in der Tüte sind."
   ]
  },
  {
   "cell_type": "code",
   "execution_count": 7,
   "id": "b1bd3de6-5482-4324-b60f-0b48db9fe4ad",
   "metadata": {},
   "outputs": [],
   "source": [
    "def kompakt(tuete):\n",
    "    anz_tuete = [0]*anzahl_sorten\n",
    "    for x in tuete:\n",
    "        anz_tuete[x]+=1\n",
    "    return anz_tuete"
   ]
  },
  {
   "cell_type": "code",
   "execution_count": 8,
   "id": "3987f3cd-010f-4e4f-a42c-cfdee33d8e85",
   "metadata": {},
   "outputs": [
    {
     "data": {
      "text/plain": [
       "[2, 1, 1]"
      ]
     },
     "execution_count": 8,
     "metadata": {},
     "output_type": "execute_result"
    }
   ],
   "source": [
    "kompakt([0,0,1,2])"
   ]
  },
  {
   "cell_type": "code",
   "execution_count": 9,
   "id": "827e6189-1fa0-4423-8a0d-78cf0d173e6d",
   "metadata": {},
   "outputs": [
    {
     "name": "stdout",
     "output_type": "stream",
     "text": [
      "Inhalte der Wundertüten:\n",
      "1 : [2, 1, 1] - 4 Spiele\n",
      "2 : [1, 2, 0] - 3 Spiele\n",
      "3 : [1, 1, 1] - 3 Spiele\n"
     ]
    }
   ],
   "source": [
    "tueten1 = []\n",
    "for t in tueten:\n",
    "    tueten1.append(kompakt(t))\n",
    "\n",
    "print('Inhalte der Wundertüten:')\n",
    "for i in range(anzahl_tueten):\n",
    "    print(f'{i+1} : {tueten1[i]} - {sum(tueten1[i])} Spiele')  \n"
   ]
  },
  {
   "cell_type": "markdown",
   "id": "5ebe862d-b964-4828-a6f9-ad2e8ea60a03",
   "metadata": {},
   "source": [
    " "
   ]
  },
  {
   "cell_type": "markdown",
   "id": "00684851-0682-4190-a15b-2c3f58068f51",
   "metadata": {},
   "source": [
    "----\n",
    "Das ganze Programm"
   ]
  },
  {
   "cell_type": "code",
   "execution_count": 14,
   "id": "19e7dd66-0e23-4a28-a6b8-4068aa70ccfe",
   "metadata": {},
   "outputs": [
    {
     "name": "stdout",
     "output_type": "stream",
     "text": [
      "Beispieldatei: wundertuete5.txt\n",
      "Anzahl Wundertüten: 97\n",
      "Anzahl Spielesorten: 23\n",
      "Anzahl Spiele pro Sorte: [50, 41, 163, 124, 113, 83, 129, 65, 70, 56, 127, 83, 24, 69, 182, 174, 76, 106, 92, 155, 29, 133, 121]\n",
      "Inhalte der Wundertüten:\n",
      " 1 : [1, 0, 2, 1, 2, 0, 2, 0, 1, 1, 1, 1, 0, 1, 2, 2, 0, 1, 1, 2, 0, 2, 1] - 24 Spiele\n",
      " 2 : [1, 0, 2, 1, 2, 0, 2, 0, 1, 1, 1, 1, 0, 1, 2, 1, 1, 1, 1, 2, 0, 2, 1] - 24 Spiele\n",
      " 3 : [1, 0, 2, 1, 2, 0, 2, 0, 1, 1, 1, 1, 0, 1, 2, 1, 1, 1, 1, 2, 0, 2, 1] - 24 Spiele\n",
      " 4 : [1, 0, 2, 1, 2, 0, 2, 0, 1, 1, 1, 1, 0, 1, 2, 1, 1, 1, 1, 2, 0, 2, 1] - 24 Spiele\n",
      " 5 : [1, 0, 2, 1, 2, 0, 2, 0, 1, 1, 1, 1, 0, 1, 2, 1, 1, 1, 1, 2, 0, 2, 1] - 24 Spiele\n",
      " 6 : [1, 0, 2, 1, 2, 0, 2, 0, 1, 1, 1, 1, 0, 1, 2, 1, 1, 1, 1, 2, 0, 2, 1] - 24 Spiele\n",
      " 7 : [1, 0, 2, 1, 1, 1, 2, 0, 1, 1, 1, 1, 0, 1, 2, 1, 1, 1, 1, 2, 0, 2, 1] - 24 Spiele\n",
      " 8 : [1, 0, 2, 1, 1, 1, 2, 0, 1, 1, 1, 1, 0, 1, 2, 1, 1, 1, 1, 2, 0, 2, 1] - 24 Spiele\n",
      " 9 : [1, 0, 2, 1, 1, 1, 2, 0, 1, 1, 1, 1, 0, 1, 2, 1, 1, 1, 1, 2, 0, 2, 1] - 24 Spiele\n",
      "10 : [1, 0, 2, 1, 1, 1, 2, 0, 1, 1, 1, 1, 0, 1, 2, 1, 1, 1, 1, 2, 0, 2, 1] - 24 Spiele\n",
      "11 : [1, 0, 2, 1, 1, 1, 2, 0, 1, 1, 1, 1, 0, 1, 2, 1, 1, 1, 1, 2, 0, 1, 2] - 24 Spiele\n",
      "12 : [1, 0, 2, 1, 1, 1, 2, 0, 1, 1, 1, 1, 0, 1, 2, 1, 1, 1, 1, 2, 0, 1, 2] - 24 Spiele\n",
      "13 : [1, 0, 2, 1, 1, 1, 2, 0, 1, 1, 1, 1, 0, 1, 2, 1, 1, 1, 1, 2, 0, 1, 2] - 24 Spiele\n",
      "14 : [1, 0, 2, 1, 1, 1, 2, 0, 1, 1, 1, 1, 0, 1, 2, 1, 1, 1, 1, 2, 0, 1, 2] - 24 Spiele\n",
      "15 : [1, 0, 2, 1, 1, 1, 2, 0, 1, 1, 1, 1, 0, 1, 2, 1, 1, 1, 1, 2, 0, 1, 2] - 24 Spiele\n",
      "16 : [1, 0, 2, 1, 1, 1, 2, 0, 1, 1, 1, 1, 0, 1, 2, 1, 1, 1, 1, 2, 0, 1, 2] - 24 Spiele\n",
      "17 : [1, 0, 2, 1, 1, 1, 2, 0, 1, 1, 1, 1, 0, 1, 2, 1, 1, 1, 1, 2, 0, 1, 2] - 24 Spiele\n",
      "18 : [1, 0, 2, 1, 1, 1, 2, 0, 1, 1, 1, 1, 0, 1, 2, 1, 1, 1, 1, 2, 0, 1, 2] - 24 Spiele\n",
      "19 : [1, 0, 2, 1, 1, 1, 2, 0, 1, 1, 1, 1, 0, 1, 2, 1, 1, 1, 1, 2, 0, 1, 2] - 24 Spiele\n",
      "20 : [1, 0, 2, 1, 1, 1, 2, 0, 1, 1, 1, 1, 0, 1, 2, 1, 1, 1, 1, 2, 0, 1, 2] - 24 Spiele\n",
      "21 : [1, 0, 2, 1, 1, 1, 2, 0, 1, 1, 1, 1, 0, 1, 2, 1, 1, 1, 1, 2, 0, 1, 2] - 24 Spiele\n",
      "22 : [1, 0, 2, 1, 1, 1, 2, 0, 1, 0, 2, 1, 0, 1, 1, 2, 1, 1, 1, 2, 0, 1, 2] - 24 Spiele\n",
      "23 : [1, 0, 2, 1, 1, 1, 2, 0, 1, 0, 2, 1, 0, 1, 1, 2, 1, 1, 1, 2, 0, 1, 2] - 24 Spiele\n",
      "24 : [1, 0, 2, 1, 1, 1, 2, 0, 1, 0, 2, 1, 0, 1, 1, 2, 1, 1, 1, 2, 0, 1, 2] - 24 Spiele\n",
      "25 : [1, 0, 2, 1, 1, 1, 1, 1, 1, 0, 2, 1, 0, 1, 1, 2, 1, 1, 1, 2, 0, 1, 2] - 24 Spiele\n",
      "26 : [1, 0, 2, 1, 1, 1, 1, 1, 1, 0, 2, 1, 0, 1, 1, 2, 1, 1, 1, 2, 0, 1, 2] - 24 Spiele\n",
      "27 : [1, 0, 2, 1, 1, 1, 1, 1, 1, 0, 2, 1, 0, 1, 1, 2, 1, 1, 1, 2, 0, 1, 2] - 24 Spiele\n",
      "28 : [1, 0, 2, 1, 1, 1, 1, 1, 1, 0, 2, 1, 0, 1, 1, 2, 1, 1, 1, 2, 0, 1, 2] - 24 Spiele\n",
      "29 : [1, 0, 2, 1, 1, 1, 1, 1, 1, 0, 2, 1, 0, 1, 1, 2, 1, 1, 1, 2, 0, 1, 2] - 24 Spiele\n",
      "30 : [1, 0, 2, 1, 1, 1, 1, 1, 1, 0, 2, 1, 0, 1, 1, 2, 1, 1, 1, 2, 0, 1, 2] - 24 Spiele\n",
      "31 : [1, 0, 2, 1, 1, 1, 1, 1, 1, 0, 2, 1, 0, 1, 1, 2, 1, 1, 1, 2, 0, 1, 2] - 24 Spiele\n",
      "32 : [1, 0, 2, 1, 1, 1, 1, 1, 1, 0, 2, 1, 0, 1, 1, 2, 1, 1, 1, 2, 0, 1, 2] - 24 Spiele\n",
      "33 : [1, 0, 2, 1, 1, 1, 1, 1, 1, 0, 2, 1, 0, 1, 1, 2, 1, 1, 1, 2, 0, 1, 2] - 24 Spiele\n",
      "34 : [1, 0, 2, 1, 1, 1, 1, 1, 1, 0, 2, 1, 0, 0, 2, 2, 1, 1, 1, 2, 0, 1, 2] - 24 Spiele\n",
      "35 : [1, 0, 2, 1, 1, 1, 1, 1, 1, 0, 2, 1, 0, 0, 2, 2, 1, 1, 1, 2, 0, 1, 1] - 23 Spiele\n",
      "36 : [1, 0, 2, 1, 1, 1, 1, 1, 1, 0, 2, 1, 0, 0, 2, 2, 1, 1, 1, 2, 0, 1, 1] - 23 Spiele\n",
      "37 : [1, 0, 2, 1, 1, 1, 1, 1, 1, 0, 2, 1, 0, 0, 2, 2, 1, 1, 1, 2, 0, 1, 1] - 23 Spiele\n",
      "38 : [1, 0, 2, 1, 1, 1, 1, 1, 1, 0, 2, 0, 1, 0, 2, 2, 1, 1, 1, 2, 0, 1, 1] - 23 Spiele\n",
      "39 : [1, 0, 2, 1, 1, 1, 1, 1, 1, 0, 2, 0, 1, 0, 2, 2, 1, 1, 1, 2, 0, 1, 1] - 23 Spiele\n",
      "40 : [1, 0, 2, 1, 1, 1, 1, 1, 1, 0, 2, 0, 1, 0, 2, 2, 1, 1, 1, 2, 0, 1, 1] - 23 Spiele\n",
      "41 : [1, 0, 2, 1, 1, 1, 1, 1, 1, 0, 2, 0, 1, 0, 2, 2, 1, 1, 1, 2, 0, 1, 1] - 23 Spiele\n",
      "42 : [1, 0, 2, 1, 1, 1, 1, 1, 1, 0, 2, 0, 1, 0, 2, 2, 1, 1, 1, 2, 0, 1, 1] - 23 Spiele\n",
      "43 : [1, 0, 2, 1, 1, 1, 1, 1, 1, 0, 2, 0, 1, 0, 2, 2, 1, 1, 1, 1, 1, 1, 1] - 23 Spiele\n",
      "44 : [1, 0, 2, 1, 1, 1, 1, 1, 1, 0, 2, 0, 1, 0, 2, 2, 1, 1, 1, 1, 1, 1, 1] - 23 Spiele\n",
      "45 : [1, 0, 2, 1, 1, 1, 1, 1, 1, 0, 2, 0, 1, 0, 2, 2, 1, 1, 1, 1, 1, 1, 1] - 23 Spiele\n",
      "46 : [1, 0, 2, 1, 1, 1, 1, 1, 1, 0, 2, 0, 1, 0, 2, 2, 1, 1, 1, 1, 1, 1, 1] - 23 Spiele\n",
      "47 : [1, 0, 2, 1, 1, 1, 1, 1, 1, 0, 2, 0, 1, 0, 2, 2, 1, 1, 1, 1, 1, 1, 1] - 23 Spiele\n",
      "48 : [1, 0, 2, 1, 1, 1, 1, 1, 1, 0, 2, 0, 1, 0, 2, 2, 1, 1, 1, 1, 1, 1, 1] - 23 Spiele\n",
      "49 : [1, 0, 2, 1, 1, 1, 1, 1, 1, 0, 2, 0, 1, 0, 2, 2, 1, 1, 1, 1, 1, 1, 1] - 23 Spiele\n",
      "50 : [1, 0, 2, 1, 1, 1, 1, 1, 1, 0, 2, 0, 1, 0, 2, 2, 1, 1, 1, 1, 1, 1, 1] - 23 Spiele\n",
      "51 : [0, 1, 2, 1, 1, 1, 1, 1, 1, 0, 2, 0, 1, 0, 2, 2, 1, 1, 1, 1, 1, 1, 1] - 23 Spiele\n",
      "52 : [0, 1, 2, 1, 1, 1, 1, 1, 1, 0, 1, 1, 1, 0, 2, 2, 1, 1, 1, 1, 1, 1, 1] - 23 Spiele\n",
      "53 : [0, 1, 2, 1, 1, 1, 1, 1, 1, 0, 1, 1, 1, 0, 2, 2, 1, 1, 1, 1, 1, 1, 1] - 23 Spiele\n",
      "54 : [0, 1, 2, 1, 1, 1, 1, 1, 1, 0, 1, 1, 1, 0, 2, 2, 1, 1, 1, 1, 1, 1, 1] - 23 Spiele\n",
      "55 : [0, 1, 2, 1, 1, 1, 1, 1, 1, 0, 1, 1, 1, 0, 2, 2, 1, 1, 1, 1, 1, 1, 1] - 23 Spiele\n",
      "56 : [0, 1, 2, 1, 1, 1, 1, 1, 1, 0, 1, 1, 1, 0, 2, 2, 1, 1, 1, 1, 1, 1, 1] - 23 Spiele\n",
      "57 : [0, 1, 2, 1, 1, 1, 1, 1, 1, 0, 1, 1, 1, 0, 2, 2, 1, 1, 1, 1, 1, 1, 1] - 23 Spiele\n",
      "58 : [0, 1, 2, 1, 1, 1, 1, 1, 1, 0, 1, 1, 1, 0, 2, 2, 1, 1, 1, 1, 1, 1, 1] - 23 Spiele\n",
      "59 : [0, 1, 2, 1, 1, 1, 1, 1, 1, 0, 1, 1, 1, 0, 2, 2, 1, 1, 1, 1, 1, 1, 1] - 23 Spiele\n",
      "60 : [0, 1, 2, 1, 1, 1, 1, 1, 1, 0, 1, 1, 1, 0, 2, 2, 1, 1, 1, 1, 1, 1, 1] - 23 Spiele\n",
      "61 : [0, 1, 1, 2, 1, 1, 1, 1, 1, 0, 1, 1, 1, 0, 2, 2, 1, 1, 1, 1, 1, 1, 1] - 23 Spiele\n",
      "62 : [0, 1, 1, 2, 1, 1, 1, 1, 1, 0, 1, 1, 0, 1, 2, 2, 1, 1, 1, 1, 1, 1, 1] - 23 Spiele\n",
      "63 : [0, 1, 1, 2, 1, 1, 1, 1, 0, 1, 1, 1, 0, 1, 2, 2, 1, 1, 1, 1, 1, 1, 1] - 23 Spiele\n",
      "64 : [0, 1, 1, 2, 1, 1, 1, 1, 0, 1, 1, 1, 0, 1, 2, 2, 1, 1, 1, 1, 1, 1, 1] - 23 Spiele\n",
      "65 : [0, 1, 1, 2, 1, 1, 1, 1, 0, 1, 1, 1, 0, 1, 2, 2, 1, 1, 1, 1, 1, 1, 1] - 23 Spiele\n",
      "66 : [0, 1, 1, 2, 1, 1, 1, 1, 0, 1, 1, 1, 0, 1, 2, 2, 1, 1, 1, 1, 1, 1, 1] - 23 Spiele\n",
      "67 : [0, 1, 1, 2, 1, 1, 1, 1, 0, 1, 1, 1, 0, 1, 2, 2, 1, 1, 1, 1, 1, 1, 1] - 23 Spiele\n",
      "68 : [0, 1, 1, 2, 1, 1, 1, 1, 0, 1, 1, 1, 0, 1, 2, 2, 1, 1, 1, 1, 1, 1, 1] - 23 Spiele\n",
      "69 : [0, 1, 1, 2, 1, 1, 1, 1, 0, 1, 1, 1, 0, 1, 2, 2, 1, 1, 1, 1, 1, 1, 1] - 23 Spiele\n",
      "70 : [0, 1, 1, 2, 1, 1, 1, 1, 0, 1, 1, 1, 0, 1, 2, 2, 1, 1, 1, 1, 1, 1, 1] - 23 Spiele\n",
      "71 : [0, 1, 1, 2, 1, 1, 1, 1, 0, 1, 1, 1, 0, 1, 2, 2, 1, 1, 1, 1, 1, 1, 1] - 23 Spiele\n",
      "72 : [0, 1, 1, 2, 1, 1, 1, 1, 0, 1, 1, 1, 0, 1, 2, 2, 1, 1, 1, 1, 0, 2, 1] - 23 Spiele\n",
      "73 : [0, 1, 1, 2, 1, 1, 1, 1, 0, 1, 1, 1, 0, 1, 2, 2, 1, 1, 1, 1, 0, 2, 1] - 23 Spiele\n",
      "74 : [0, 1, 1, 2, 1, 1, 1, 1, 0, 1, 1, 1, 0, 1, 2, 2, 1, 1, 1, 1, 0, 2, 1] - 23 Spiele\n",
      "75 : [0, 1, 1, 2, 1, 1, 1, 1, 0, 1, 1, 1, 0, 1, 2, 2, 1, 1, 1, 1, 0, 2, 1] - 23 Spiele\n",
      "76 : [0, 1, 1, 2, 1, 1, 1, 1, 0, 1, 1, 1, 0, 1, 2, 2, 1, 1, 1, 1, 0, 2, 1] - 23 Spiele\n",
      "77 : [0, 1, 1, 2, 1, 1, 1, 1, 0, 1, 1, 1, 0, 1, 2, 2, 1, 1, 1, 1, 0, 2, 1] - 23 Spiele\n",
      "78 : [0, 1, 1, 2, 1, 1, 1, 1, 0, 1, 1, 1, 0, 1, 2, 2, 0, 2, 1, 1, 0, 2, 1] - 23 Spiele\n",
      "79 : [0, 1, 1, 2, 1, 1, 1, 1, 0, 1, 1, 1, 0, 1, 2, 2, 0, 2, 1, 1, 0, 2, 1] - 23 Spiele\n",
      "80 : [0, 1, 1, 2, 1, 1, 1, 1, 0, 1, 1, 1, 0, 1, 2, 2, 0, 2, 1, 1, 0, 2, 1] - 23 Spiele\n",
      "81 : [0, 1, 1, 2, 1, 1, 1, 1, 0, 1, 1, 1, 0, 1, 2, 2, 0, 2, 1, 1, 0, 2, 1] - 23 Spiele\n",
      "82 : [0, 1, 1, 2, 1, 1, 1, 1, 0, 1, 1, 1, 0, 1, 2, 2, 0, 2, 0, 2, 0, 2, 1] - 23 Spiele\n",
      "83 : [0, 1, 1, 2, 1, 1, 1, 1, 0, 1, 1, 1, 0, 1, 2, 2, 0, 2, 0, 2, 0, 2, 1] - 23 Spiele\n",
      "84 : [0, 1, 1, 2, 1, 1, 1, 1, 0, 1, 1, 1, 0, 1, 2, 2, 0, 2, 0, 2, 0, 2, 1] - 23 Spiele\n",
      "85 : [0, 1, 1, 2, 1, 1, 1, 1, 0, 1, 1, 1, 0, 1, 2, 2, 0, 2, 0, 2, 0, 2, 1] - 23 Spiele\n",
      "86 : [0, 1, 1, 2, 1, 1, 1, 1, 0, 1, 1, 1, 0, 1, 2, 2, 0, 2, 0, 2, 0, 2, 1] - 23 Spiele\n",
      "87 : [0, 1, 1, 2, 1, 1, 1, 1, 0, 1, 1, 1, 0, 1, 2, 2, 0, 1, 1, 2, 0, 2, 1] - 23 Spiele\n",
      "88 : [0, 1, 1, 1, 2, 1, 1, 1, 0, 1, 1, 1, 0, 1, 2, 2, 0, 1, 1, 2, 0, 2, 1] - 23 Spiele\n",
      "89 : [0, 1, 1, 1, 2, 1, 1, 1, 0, 1, 1, 1, 0, 1, 2, 2, 0, 1, 1, 2, 0, 2, 1] - 23 Spiele\n",
      "90 : [0, 1, 1, 1, 2, 0, 2, 0, 1, 1, 1, 1, 0, 1, 2, 2, 0, 1, 1, 2, 0, 2, 1] - 23 Spiele\n",
      "91 : [0, 1, 1, 1, 2, 0, 2, 0, 1, 1, 1, 1, 0, 1, 2, 2, 0, 1, 1, 2, 0, 2, 1] - 23 Spiele\n",
      "92 : [0, 0, 2, 1, 2, 0, 2, 0, 1, 1, 1, 1, 0, 1, 2, 2, 0, 1, 1, 2, 0, 2, 1] - 23 Spiele\n",
      "93 : [0, 0, 2, 1, 2, 0, 2, 0, 1, 1, 1, 1, 0, 1, 2, 2, 0, 1, 1, 2, 0, 2, 1] - 23 Spiele\n",
      "94 : [0, 0, 2, 1, 2, 0, 2, 0, 1, 1, 1, 1, 0, 1, 2, 2, 0, 1, 1, 2, 0, 2, 1] - 23 Spiele\n",
      "95 : [0, 0, 2, 1, 2, 0, 2, 0, 1, 1, 1, 1, 0, 1, 2, 2, 0, 1, 1, 2, 0, 2, 1] - 23 Spiele\n",
      "96 : [0, 0, 2, 1, 2, 0, 2, 0, 1, 1, 1, 1, 0, 1, 2, 2, 0, 1, 1, 2, 0, 2, 1] - 23 Spiele\n",
      "97 : [0, 0, 2, 1, 2, 0, 2, 0, 1, 1, 1, 1, 0, 1, 2, 2, 0, 1, 1, 2, 0, 2, 1] - 23 Spiele\n"
     ]
    }
   ],
   "source": [
    "def kompakt(tuete):\n",
    "    anz_tuete = [0]*anzahl_sorten\n",
    "    for x in tuete:\n",
    "        anz_tuete[x]+=1\n",
    "    return anz_tuete\n",
    "\n",
    "\n",
    "eingabe = 'wundertuete5.txt'\n",
    "f = open('beispieldaten/'+eingabe)\n",
    "\n",
    "anzahl_tueten = int(f.readline())\n",
    "anzahl_sorten = int(f.readline())\n",
    "spiele_pro_sorte = []\n",
    "for _ in range(anzahl_sorten):\n",
    "    spiele_pro_sorte.append(int(f.readline()))\n",
    "    \n",
    "f.close()\n",
    "\n",
    "print(f'Beispieldatei: {eingabe}')\n",
    "print(f'Anzahl Wundertüten: {anzahl_tueten}')\n",
    "print(f'Anzahl Spielesorten: {anzahl_sorten}')\n",
    "print(f'Anzahl Spiele pro Sorte: {spiele_pro_sorte}')\n",
    "\n",
    "spiele = []\n",
    "for i in range(len(spiele_pro_sorte)):\n",
    "    for k in range(spiele_pro_sorte[i]):\n",
    "        spiele.append(i)\n",
    "\n",
    "tueten = [[] for i in range(anzahl_tueten)]  \n",
    "nr = 0           # Nummer der Wundertüte, in die als nächstes was reinkommt\n",
    "while spiele:\n",
    "    x = spiele.pop(0)\n",
    "    tueten[nr].append(x)\n",
    "    nr = (nr + 1) % anzahl_tueten\n",
    "    \n",
    "tueten1 = []\n",
    "for t in tueten:\n",
    "    tueten1.append(kompakt(t))\n",
    "\n",
    "print('Inhalte der Wundertüten:')\n",
    "for i in range(anzahl_tueten):\n",
    "    print(f'{i+1:2} : {tueten1[i]} - {sum(tueten1[i])} Spiele')  \n"
   ]
  },
  {
   "cell_type": "markdown",
   "id": "ad4009f5-599d-4d50-9f2a-e8b37493f5f0",
   "metadata": {},
   "source": [
    "Ergänzung (nicht notwendig für die Aufgabenstellung)"
   ]
  },
  {
   "cell_type": "code",
   "execution_count": null,
   "id": "e0bf6140-84e7-4f7b-a27e-f8419105da9b",
   "metadata": {},
   "outputs": [],
   "source": [
    "max_diff_spiele = 0\n",
    "max_diff_sorten = 0\n",
    "for i in range(anzahl_tueten-1):\n",
    "    for j in range(i,anzahl_tueten):\n",
    "        t1 = tueten1[i]\n",
    "        t2 = tueten1[j]\n",
    "        diff_spiele = abs(sum(t1)-sum(t2))\n",
    "        if diff_spiele > max_diff_spiele:\n",
    "            max_diff_spiele = diff_spiele\n",
    "        for k in range(anzahl_sorten):\n",
    "            diff_sorten = abs(t1[k]-t2[k])\n",
    "            if diff_sorten > max_diff_sorten:\n",
    "                max_diff_sorten = diff_sorten\n",
    "\n",
    "print(f'Maximaler Unterschied in der Gesamtanzahl der Spiele: {max_diff_spiele}')\n",
    "print(f'Maximaler Unterschied in der Anzahl der Spiele pro Sorte: {max_diff_sorten}')"
   ]
  },
  {
   "cell_type": "markdown",
   "id": "9816ad50-18c8-4d0a-ae27-cbd1b44819a2",
   "metadata": {},
   "source": [
    "------"
   ]
  }
 ],
 "metadata": {
  "kernelspec": {
   "display_name": "Python 3 (ipykernel)",
   "language": "python",
   "name": "python3"
  },
  "language_info": {
   "codemirror_mode": {
    "name": "ipython",
    "version": 3
   },
   "file_extension": ".py",
   "mimetype": "text/x-python",
   "name": "python",
   "nbconvert_exporter": "python",
   "pygments_lexer": "ipython3",
   "version": "3.12.8"
  }
 },
 "nbformat": 4,
 "nbformat_minor": 5
}
