{
 "cells": [
  {
   "cell_type": "markdown",
   "id": "1ab35c69-d012-4677-b6c7-d684a9b1bc79",
   "metadata": {},
   "source": [
    "### Texthopsen"
   ]
  },
  {
   "cell_type": "code",
   "execution_count": 3,
   "id": "40e9df1e-47cc-4dcb-859c-d7a60072ee0a",
   "metadata": {},
   "outputs": [
    {
     "name": "stdout",
     "output_type": "stream",
     "text": [
      "Beispieldatei: hopsen1.txt\n",
      "Eine Schildkröte wurde wegen ihrer Langsamkeit von einem Hasen verspottet. Trotzdem wagte sie es, den Hasen zum Wettrennen herauszufordern. Der Hase ließ sich mehr aus Scherz als aus Prahlerei darauf ein. Es kam der Tag, an dem der Wettlauf stattfinden sollte. Das Ziel wurde festgelegt und beide betraten im gleichen Augenblick die Laufbahn.\n",
      "\n",
      "Die Schildkröte kroch langsam und unermüdlich. Der Hase dagegen legte sich mit mächtigen Sprüngen gleich ins Zeug, wollte er den Spott für die Schildkröte doch auf die Spitze treiben. Als der Hase nur noch wenige Schritte vom Ziel entfernt war, setzte er sich schnaufend ins Gras und schlief kurz darauf ein. Die großen, weiten Sprünge hatten ihn nämlich müde gemacht.\n",
      "\n",
      "Doch plötzlich wurde der Hase vom Jubel der Zuschauer geweckt, denn die Schildkröte hatte gerade das Ziel erreicht und gewonnen.\n",
      "\n",
      "Der Hase musste zugeben, dass das Vertrauen in seine Schnelligkeit ihn so leichtsinnig gemacht hatte, dass sogar ein langsames Kriechtier ihn mit Ausdauer besiegen konnte.\n",
      "\n"
     ]
    }
   ],
   "source": [
    "# Eingabedaten lesen\n",
    "eingabe = 'hopsen1.txt'\n",
    "f = open('beispieldaten/'+eingabe, encoding='utf-8')\n",
    "\n",
    "data = f.read()\n",
    "f.close()\n",
    "\n",
    "print(f'Beispieldatei: {eingabe}')\n",
    "print(data)"
   ]
  },
  {
   "cell_type": "markdown",
   "id": "939db35b-eb5c-41f3-8132-7359f33acd41",
   "metadata": {},
   "source": [
    "Wir wandeln alles in Kleinbuchstaben um und übernehmen nur die Buchstaben."
   ]
  },
  {
   "cell_type": "code",
   "execution_count": 4,
   "id": "8f80cd0f-72ca-428e-89f2-f4f2f59044d7",
   "metadata": {},
   "outputs": [
    {
     "name": "stdout",
     "output_type": "stream",
     "text": [
      "eineschildkrötewurdewegenihrerlangsamkeitvoneinemhasenverspottettrotzdemwagtesieesdenhasenzumwettrennenherauszufordernderhaseließsichmehrausscherzalsausprahlereidaraufeineskamdertagandemderwettlaufstattfindensolltedaszielwurdefestgelegtundbeidebetratenimgleichenaugenblickdielaufbahndieschildkrötekrochlangsamundunermüdlichderhasedagegenlegtesichmitmächtigensprüngengleichinszeugwollteerdenspottfürdieschildkrötedochaufdiespitzetreibenalsderhasenurnochwenigeschrittevomzielentferntwarsetzteersichschnaufendinsgrasundschliefkurzdaraufeindiegroßenweitensprüngehattenihnnämlichmüdegemachtdochplötzlichwurdederhasevomjubelderzuschauergewecktdenndieschildkrötehattegeradedaszielerreichtundgewonnenderhasemusstezugebendassdasvertraueninseineschnelligkeitihnsoleichtsinniggemachthattedasssogareinlangsameskriechtierihnmitausdauerbesiegenkonnte\n"
     ]
    }
   ],
   "source": [
    "data = data.lower()\n",
    "text = ''\n",
    "buchstaben = 'abcdefghijklmnopqrstuvwxyzäöüß'\n",
    "for c in data:\n",
    "    if c in buchstaben:\n",
    "        text = text + c\n",
    "print(text)"
   ]
  },
  {
   "cell_type": "markdown",
   "id": "b56000bc-8c8e-49d6-adeb-0d58d5ac5056",
   "metadata": {},
   "source": [
    "Wir legen uns ein dictionary *sprung* an, in dem wir uns merken, welche Sprungweite bei jedem Zeichen gilt."
   ]
  },
  {
   "cell_type": "code",
   "execution_count": 5,
   "id": "31768f46-3072-4af7-b982-336a701bade3",
   "metadata": {},
   "outputs": [
    {
     "name": "stdout",
     "output_type": "stream",
     "text": [
      "{'a': 1, 'b': 2, 'c': 3, 'd': 4, 'e': 5, 'f': 6, 'g': 7, 'h': 8, 'i': 9, 'j': 10, 'k': 11, 'l': 12, 'm': 13, 'n': 14, 'o': 15, 'p': 16, 'q': 17, 'r': 18, 's': 19, 't': 20, 'u': 21, 'v': 22, 'w': 23, 'x': 24, 'y': 25, 'z': 26, 'ä': 27, 'ö': 28, 'ü': 29, 'ß': 30}\n"
     ]
    }
   ],
   "source": [
    "sprung = {}\n",
    "for i in range(len(buchstaben)):\n",
    "    sprung[buchstaben[i]] = i+1\n",
    "print(sprung)"
   ]
  },
  {
   "cell_type": "code",
   "execution_count": 6,
   "id": "5b8ba131-df42-443c-8347-5571136f6556",
   "metadata": {},
   "outputs": [
    {
     "name": "stdout",
     "output_type": "stream",
     "text": [
      "Bela hat mit 68 Sprüngen gewonnen\n"
     ]
    }
   ],
   "source": [
    "bela = 0                # Startposition Bela\n",
    "amira = 1               # Startposition Amia\n",
    "anzahl_spruenge = 0\n",
    "\n",
    "bela_fertig = False\n",
    "amira_fertig = False\n",
    "\n",
    "while bela < len(text) and amira < len(text):\n",
    "    anzahl_spruenge+=1\n",
    "\n",
    "    # Bela macht einen Sprung\n",
    "    bela = bela + sprung[text[bela]]\n",
    "    if bela >= len(text):\n",
    "        bela_fertig = True\n",
    "\n",
    "    # Amira macht einen Sprung\n",
    "    amira = amira + sprung[text[amira]]\n",
    "    if amira >= len(text):\n",
    "        amira_fertig = True\n",
    "\n",
    "    # Check, wer fertig ist\n",
    "    if bela_fertig and not amira_fertig:\n",
    "        print(f'Bela hat mit {anzahl_spruenge} Sprüngen gewonnen')\n",
    "    elif not bela_fertig and amira_fertig:\n",
    "        print(f'Amira hat mit {anzahl_spruenge} Sprüngen gewonnen')\n",
    "    elif bela_fertig and amira_fertig:\n",
    "        print(f'Unentschieden nach {anzahl_spruenge} Sprüngen.')"
   ]
  },
  {
   "cell_type": "markdown",
   "id": "815dac1c-8838-4a2f-94ed-2be03e55d2e0",
   "metadata": {},
   "source": [
    "--------\n",
    "\n",
    "Das ganze Programm "
   ]
  },
  {
   "cell_type": "code",
   "execution_count": 7,
   "id": "1beb8f87-13b9-4832-b18c-c903d7f7d2ad",
   "metadata": {},
   "outputs": [
    {
     "name": "stdout",
     "output_type": "stream",
     "text": [
      "Beispieldatei: hopsen1.txt\n",
      "eineschildkrötewurdewegenihrerlangsamkeitvoneinemhasenverspottettrotzdemwagtesieesdenhasenzumwettrennenherauszufordernderhaseließsichmehrausscherzalsausprahlereidaraufeineskamdertagandemderwettlaufstattfindensolltedaszielwurdefestgelegtundbeidebetratenimgleichenaugenblickdielaufbahndieschildkrötekrochlangsamundunermüdlichderhasedagegenlegtesichmitmächtigensprüngengleichinszeugwollteerdenspottfürdieschildkrötedochaufdiespitzetreibenalsderhasenurnochwenigeschrittevomzielentferntwarsetzteersichschnaufendinsgrasundschliefkurzdaraufeindiegroßenweitensprüngehattenihnnämlichmüdegemachtdochplötzlichwurdederhasevomjubelderzuschauergewecktdenndieschildkrötehattegeradedaszielerreichtundgewonnenderhasemusstezugebendassdasvertraueninseineschnelligkeitihnsoleichtsinniggemachthattedasssogareinlangsameskriechtierihnmitausdauerbesiegenkonnte\n",
      "Bela hat mit 68 Sprüngen gewonnen\n"
     ]
    }
   ],
   "source": [
    "# Eingabedaten lesen\n",
    "eingabe = 'hopsen1.txt'\n",
    "f = open('beispieldaten/'+eingabe, encoding='utf-8')\n",
    "\n",
    "data = f.read()\n",
    "f.close()\n",
    "\n",
    "print(f'Beispieldatei: {eingabe}')\n",
    "\n",
    "# Umwandeln in Kleinbuchstaben, nur Buchstaben übernehmen\n",
    "data = data.lower()\n",
    "text = ''\n",
    "buchstaben = 'abcdefghijklmnopqrstuvwxyzäöüß'\n",
    "for c in data:\n",
    "    if c in buchstaben:\n",
    "        text = text + c\n",
    "print(text)\n",
    "\n",
    "# Sprung dictionary erstellen\n",
    "sprung = {}\n",
    "for i in range(len(buchstaben)):\n",
    "    sprung[buchstaben[i]] = i+1\n",
    "\n",
    "# Hopsen\n",
    "bela = 0                # Startposition Bela\n",
    "amira = 1               # Startposition Amia\n",
    "anzahl_spruenge = 0\n",
    "\n",
    "bela_fertig = False\n",
    "amira_fertig = False\n",
    "\n",
    "while bela < len(text) and amira < len(text):\n",
    "    anzahl_spruenge+=1\n",
    "\n",
    "    # Bela macht einen Sprung\n",
    "    bela = bela + sprung[text[bela]]\n",
    "    if bela >= len(text):\n",
    "        bela_fertig = True\n",
    "\n",
    "    # Amira macht einen Sprung\n",
    "    amira = amira + sprung[text[amira]]\n",
    "    if amira >= len(text):\n",
    "        amira_fertig = True\n",
    "\n",
    "    # Check, wer fertig ist\n",
    "    if bela_fertig and not amira_fertig:\n",
    "        print(f'Bela hat mit {anzahl_spruenge} Sprüngen gewonnen')\n",
    "    elif not bela_fertig and amira_fertig:\n",
    "        print(f'Amira hat mit {anzahl_spruenge} Sprüngen gewonnen')\n",
    "    elif bela_fertig and amira_fertig:\n",
    "        print(f'Unentschieden nach {anzahl_spruenge} Sprüngen.')"
   ]
  },
  {
   "cell_type": "code",
   "execution_count": null,
   "id": "62d23bcb-c77c-499f-bb4e-5a9a706f35af",
   "metadata": {},
   "outputs": [],
   "source": []
  }
 ],
 "metadata": {
  "kernelspec": {
   "display_name": "Python 3 (ipykernel)",
   "language": "python",
   "name": "python3"
  },
  "language_info": {
   "codemirror_mode": {
    "name": "ipython",
    "version": 3
   },
   "file_extension": ".py",
   "mimetype": "text/x-python",
   "name": "python",
   "nbconvert_exporter": "python",
   "pygments_lexer": "ipython3",
   "version": "3.12.8"
  }
 },
 "nbformat": 4,
 "nbformat_minor": 5
}
