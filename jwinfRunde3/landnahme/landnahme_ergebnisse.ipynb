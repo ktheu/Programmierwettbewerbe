{
 "cells": [
  {
   "cell_type": "markdown",
   "id": "c3ec8240-eb8b-4f06-817a-569451ce8348",
   "metadata": {},
   "source": [
    "### Landnahme - Ergebnisse"
   ]
  },
  {
   "cell_type": "code",
   "execution_count": null,
   "id": "435d62f4-5e71-4fcb-870f-d1b40f9c70de",
   "metadata": {},
   "outputs": [],
   "source": [
    "# Beispiel 1:\n",
    "\n",
    "2 3 5 5\n",
    "1 2 4 4 \n",
    "3 1 6 3\n",
    "\n",
    "# Ergebnis:\n",
    "\n",
    "2 3 5 5 genehmigt\n",
    "1 2 4 4 abgelehnt\n",
    "3 1 6 3 genehmigt"
   ]
  },
  {
   "cell_type": "code",
   "execution_count": null,
   "id": "631703d4-937d-420c-b00a-4b101178d10e",
   "metadata": {},
   "outputs": [],
   "source": [
    "# Beispiel 2:\n",
    "\n",
    "-2 2 3 5\n",
    "-4 8 5 1\n",
    "3 2 7 0\n",
    "6 1 9 6\n",
    "\n",
    "# Ergebnis:\n",
    "\n",
    "-2 2 3 5 genehmigt\n",
    "-4 8 5 1 abgelehnt\n",
    "3 2 7 0 genehmigt\n",
    "6 1 9 6 abgelehnt\n"
   ]
  }
 ],
 "metadata": {
  "kernelspec": {
   "display_name": "Python 3 (ipykernel)",
   "language": "python",
   "name": "python3"
  },
  "language_info": {
   "codemirror_mode": {
    "name": "ipython",
    "version": 3
   },
   "file_extension": ".py",
   "mimetype": "text/x-python",
   "name": "python",
   "nbconvert_exporter": "python",
   "pygments_lexer": "ipython3",
   "version": "3.11.2"
  }
 },
 "nbformat": 4,
 "nbformat_minor": 5
}
