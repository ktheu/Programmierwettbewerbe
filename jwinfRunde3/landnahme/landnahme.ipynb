{
 "cells": [
  {
   "cell_type": "markdown",
   "id": "e2e81f1c-6a55-4a4b-a958-4ed91b6c308e",
   "metadata": {},
   "source": [
    "### Landnahme \n",
    "\n",
    "\n",
    "#### Hinweise"
   ]
  },
  {
   "cell_type": "markdown",
   "id": "520adcef-991e-487e-9328-4a4102e2386c",
   "metadata": {},
   "source": [
    "Wir modellieren ein Rechteck durch vier Koordinaten: "
   ]
  },
  {
   "cell_type": "code",
   "execution_count": 3,
   "id": "8c92eea3-e7c2-4d2b-a841-957613e7bf8c",
   "metadata": {},
   "outputs": [],
   "source": [
    "r = [2, 3, 5, 5]"
   ]
  },
  {
   "cell_type": "markdown",
   "id": "a1ccab12-db65-43ab-8605-722c6edd9b36",
   "metadata": {},
   "source": [
    "Mit unpacking weisen wir die Werte geeigneten Variablen zu.\n"
   ]
  },
  {
   "cell_type": "code",
   "execution_count": 4,
   "id": "d803c38f-843d-49e3-a76f-3931ea444139",
   "metadata": {},
   "outputs": [],
   "source": [
    "x1, y1, x2, y2 = r"
   ]
  },
  {
   "cell_type": "markdown",
   "id": "805d062d-4ba5-4448-aa47-f4519dcb5eb1",
   "metadata": {},
   "source": [
    "Die linke Seite können wir jetzt berechnen"
   ]
  },
  {
   "cell_type": "code",
   "execution_count": 6,
   "id": "c2cee6b3-93e1-4513-8655-a719d31da10c",
   "metadata": {},
   "outputs": [],
   "source": [
    "links = min(x1, x2)"
   ]
  },
  {
   "cell_type": "markdown",
   "id": "dd874295-3b1a-49e5-a070-4525625936fa",
   "metadata": {},
   "source": [
    "Auf dieselbe Art können wir rechts, oben und unten berechnen. \n",
    "Jetzt können wir auch berechnen, ob ein Rechteck links von einem anderen liegt:"
   ]
  },
  {
   "cell_type": "code",
   "execution_count": null,
   "id": "2f9096f8-3d52-4104-a0e2-02234b41d4bb",
   "metadata": {},
   "outputs": [],
   "source": [
    "rechts_r1 <= links_r2         # r1 liegt links von r2"
   ]
  },
  {
   "cell_type": "markdown",
   "id": "bb8d2460-3351-4f97-a9a2-6f2161931ae0",
   "metadata": {},
   "source": [
    "Eine Kollision von r1 und r2 liegt genau dann vor, wenn r1 weder rechts noch links noch über noch unter r2 liegt."
   ]
  },
  {
   "cell_type": "markdown",
   "id": "c4a91419-1d1a-482b-b1fa-8701f6f1b12f",
   "metadata": {},
   "source": [
    "#### Ergebnisse"
   ]
  },
  {
   "cell_type": "code",
   "execution_count": null,
   "id": "d40df234-0ae0-4edd-857e-0130056de8ae",
   "metadata": {},
   "outputs": [],
   "source": [
    "Beispiel 1:\n",
    "2 3 5 5 genehmigt\n",
    "1 2 4 4 abgelehnt\n",
    "3 1 6 3 genehmigt\n",
    "\n",
    "Beispiel 2:\n",
    "-2 2 3 5 genehmigt\n",
    "-4 8 5 1 abgelehnt\n",
    "3 2 7 0 genehmigt\n",
    "6 1 9 6 abgelehnt"
   ]
  }
 ],
 "metadata": {
  "kernelspec": {
   "display_name": "Python 3 (ipykernel)",
   "language": "python",
   "name": "python3"
  },
  "language_info": {
   "codemirror_mode": {
    "name": "ipython",
    "version": 3
   },
   "file_extension": ".py",
   "mimetype": "text/x-python",
   "name": "python",
   "nbconvert_exporter": "python",
   "pygments_lexer": "ipython3",
   "version": "3.11.2"
  }
 },
 "nbformat": 4,
 "nbformat_minor": 5
}
