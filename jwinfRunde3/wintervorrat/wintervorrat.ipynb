{
 "cells": [
  {
   "cell_type": "markdown",
   "id": "751c5ac1-8e18-4c10-bc6b-8197e889d419",
   "metadata": {},
   "source": [
    "#### A1 - Einlesen der Daten"
   ]
  },
  {
   "cell_type": "code",
   "execution_count": null,
   "id": "c5039032-347e-42d2-8b9a-b902f17db3a1",
   "metadata": {},
   "outputs": [],
   "source": [
    "%%writefile eingabe.txt \n",
    "3 4\n",
    "2\n",
    "3 1 2 W\n",
    "2 1 29 N"
   ]
  },
  {
   "cell_type": "markdown",
   "id": "9464715c-7d88-4309-94a5-0e183ceec904",
   "metadata": {},
   "source": [
    "**Beachte:** Bei Fehlversuchen beim Einlesen der Daten müssen alle Zellen ab dem open neu ausgeführt werden."
   ]
  },
  {
   "cell_type": "markdown",
   "id": "007083de-c9af-4914-abeb-a942d6402168",
   "metadata": {},
   "source": [
    "a. Lies die Variablen für breite und hoehe ein. <br>\n",
    "b. Lies die Variable für die anzahl der Vögel ein. <br>\n",
    "c. Lies die Daten für die Vögel in eine Liste ein. Jeder Vogel wird selbst als Liste modelliert.\n",
    "Zahlen sollen zu ints umgewandelt werden.\n"
   ]
  },
  {
   "cell_type": "code",
   "execution_count": null,
   "id": "8b0e8806-0d2c-48f3-b3f6-46438b88c9e7",
   "metadata": {},
   "outputs": [],
   "source": [
    "# your code\n"
   ]
  },
  {
   "cell_type": "code",
   "execution_count": null,
   "id": "a141fb1b-587b-4da7-89bf-6383d44527df",
   "metadata": {},
   "outputs": [],
   "source": [
    "# Kontrolle\n",
    "print(f'breite = {breite}, hoehe = {hoehe}')\n",
    "print(f'anzahl vögel = {anzahl}')\n",
    "print(f'voegel = {voegel}')"
   ]
  },
  {
   "cell_type": "raw",
   "id": "28106761-9766-4fda-b6b7-3ea0d5bd2657",
   "metadata": {},
   "source": [
    "# Erwartete Ausgabe\n",
    "breite = 3, hoehe = 4\n",
    "anzahl vögel = 2\n",
    "voegel = [[3, 1, 2, 'W'], [2, 1, 29, 'N']]"
   ]
  },
  {
   "cell_type": "markdown",
   "id": "930aa0e5-5f1a-434b-af62-5033028c5e03",
   "metadata": {},
   "source": [
    "#### A2 - Die Funktion *bewege*\n",
    "Wir spendieren uns eine Variable *uhr*, in der wir speichern, welche Minute des Tages gerade beginnt. \n",
    "Einen Vogel modellieren wir als eine Liste von 4 Werten:\n",
    "\n",
    "    vogel = [3, 1, 2, 'W']    #  x, y, startzeit, Richtung für die nächste Bewegung\n",
    "    \n",
    "Die Funktion *bewege* berechnet den Zustand des Vogels nach Ablauf der aktuellen Minute."
   ]
  },
  {
   "cell_type": "code",
   "execution_count": null,
   "id": "6b113cdc-be79-4033-b0ff-5444bd05bbbb",
   "metadata": {},
   "outputs": [],
   "source": [
    "def bewege(vogel, uhr, breite, hoehe):\n",
    "    '''\n",
    "    vogel - Liste mit dem aktuellen Zustand des Vogels, z.B: [2,1,2,'O'] \n",
    "    uhr   - int, die Minute des Tages, die gerade beginnt.\n",
    "    breite, hoehe - int, Breite/Höhe des Rechteckwaldes\n",
    "    \n",
    "    returns: None - ändert die Werte der Liste vogel auf den Zustand nach Ablauf der Minute\n",
    "    '''\n",
    "    pass\n",
    "\n",
    "\n",
    "            "
   ]
  },
  {
   "cell_type": "code",
   "execution_count": null,
   "id": "94e727a2-4593-4b61-b591-fd1211d73ffa",
   "metadata": {},
   "outputs": [],
   "source": [
    "# Kontrolle\n",
    "uhr = 0\n",
    "vogel = [3, 1, 2, 'W'] \n",
    "for uhr in range(1,10):\n",
    "    bewege(vogel,uhr,breite,hoehe)\n",
    "    print(f'uhr = {uhr:2d}, vogel = {vogel}')"
   ]
  },
  {
   "cell_type": "raw",
   "id": "812f7296-cb47-43b3-9fc0-678c5ad4c87c",
   "metadata": {},
   "source": [
    "# erwartete Ausgabe\n",
    "uhr =  1, vogel = [3, 1, 2, 'W']\n",
    "uhr =  2, vogel = [3, 1, 2, 'W']\n",
    "uhr =  3, vogel = [2, 1, 2, 'W']\n",
    "uhr =  4, vogel = [1, 1, 2, 'O']\n",
    "uhr =  5, vogel = [2, 1, 2, 'O']\n",
    "uhr =  6, vogel = [3, 1, 2, 'W']\n",
    "uhr =  7, vogel = [2, 1, 2, 'W']\n",
    "uhr =  8, vogel = [1, 1, 2, 'O']\n",
    "uhr =  9, vogel = [2, 1, 2, 'O']"
   ]
  },
  {
   "cell_type": "markdown",
   "id": "3c0e54cf-e612-4fd4-ac17-871f03b3bc8b",
   "metadata": {},
   "source": [
    "#### A3 - Das Dictionary *felder*\n",
    "\n",
    "Im dictionary *felder* merken wir uns für jedes Feld, in welchen Minuten ein Vogel darüber war.\n",
    "Die keys des dictionaries sind die Koordinaten der Felder, die values sind Listen mit Minuten.\n",
    "\n",
    "Beispiel: Ist dem key (1,3) die Liste [5,9,11] zugeordnet, so bedeutet dies: Über dem Feld (1,3) war in den Minuten 5, 9 und 11 ein Vogel.\n",
    "\n",
    "Wir initialisieren das dictionary so, dass zu Beginn jedem Feld eine leere Liste zugeordnet ist.\n",
    "Wenn die Vögel fliegen, fügen wir die entsprechenden Minuten in die Listen der Felder ein."
   ]
  },
  {
   "cell_type": "code",
   "execution_count": null,
   "id": "7d724ee4-fe32-4721-94cd-7e6e5b00326a",
   "metadata": {},
   "outputs": [],
   "source": [
    "# your code\n",
    " "
   ]
  },
  {
   "cell_type": "code",
   "execution_count": null,
   "id": "d7a48ecb-5310-44a2-80fe-034ea88dc761",
   "metadata": {},
   "outputs": [],
   "source": [
    "# Kontrolle\n",
    "print(felder)"
   ]
  },
  {
   "cell_type": "raw",
   "id": "3ee5c233-8861-4b84-a88f-cc4dfd35ef9d",
   "metadata": {},
   "source": [
    "# erwartete Ausgabe\n",
    "{(1, 1): [], (1, 2): [], (1, 3): [], (1, 4): [], (2, 1): [], (2, 2): [], (2, 3): [], (2, 4): [], (3, 1): [], (3, 2): [], (3, 3): [], (3, 4): []}"
   ]
  },
  {
   "cell_type": "markdown",
   "id": "d783a9b0-5c39-4049-b37d-ff9e3e961d31",
   "metadata": {},
   "source": [
    "#### A4 - Hauptschleife: wir lassen die Vögel fliegen und markieren ihre Felder\n",
    "\n",
    "Ersetze die Fragezeichen durch die korrekten Werte"
   ]
  },
  {
   "cell_type": "code",
   "execution_count": null,
   "id": "af8daadf-0d6d-404a-ba82-90b6015f8572",
   "metadata": {},
   "outputs": [],
   "source": [
    "for uhr in range(1,???):\n",
    "    for v in voegel:\n",
    "        bewege(v,uhr,breite,hoehe)\n",
    "        if uhr >= ???:                   # berücksichtige die Startzeit des Vogels\n",
    "            x, y, _, _, = v              # unpacking der Listenwerte\n",
    "            felder[(x,y)].append(uhr)"
   ]
  },
  {
   "cell_type": "code",
   "execution_count": null,
   "id": "daf05400-4a19-4e3f-aab0-fc5db03a2ef7",
   "metadata": {},
   "outputs": [],
   "source": [
    "# Kontrolle\n",
    "print(felder[(2,4)])"
   ]
  },
  {
   "cell_type": "raw",
   "id": "068b13d7-7e91-417d-9b87-0e88a3c309bf",
   "metadata": {},
   "source": [
    "# erwartete Ausgabe\n",
    "[31, 37, 43, 49, 55, 61, 67, 73, 79, 85, 91, 97, 103, 109, 115, 121, 127, 133, 139, 145, 151, 157, 163, 169, 175, 181, 187, 193, 199, 205, 211, 217, 223, 229, 235, 241, 247, 253, 259, 265, 271, 277, 283, 289, 295, 301, 307, 313, 319, 325, 331, 337, 343, 349, 355, 361, 367, 373, 379, 385, 391, 397, 403, 409, 415, 421, 427, 433, 439, 445, 451, 457, 463, 469, 475, 481, 487, 493, 499, 505, 511, 517, 523, 529, 535, 541, 547, 553, 559, 565, 571, 577, 583, 589, 595, 601, 607, 613, 619, 625, 631, 637, 643, 649, 655, 661, 667, 673, 679, 685, 691, 697, 703, 709, 715]"
   ]
  },
  {
   "cell_type": "markdown",
   "id": "9213aea2-6926-4293-9d90-494962849f13",
   "metadata": {},
   "source": [
    "#### A5 - Check der Sicherheit\n",
    "\n"
   ]
  },
  {
   "cell_type": "code",
   "execution_count": null,
   "id": "464b8ebd-e63b-43b4-849a-7f9296ace605",
   "metadata": {},
   "outputs": [],
   "source": [
    "def sicher(a):\n",
    "    ''' \n",
    "    a: sortierte Liste mit ints, die Minuten eines Feldes, in denen ein Vogel über dem Feld ist.\n",
    "    returns: (0, None), wenn Feld nicht sicher\n",
    "             (1, None), wenn Feld absolut sicher\n",
    "             (2, t), wenn Feld ab Zeitpunkt t mindestens 30 Minuten sicher ist.\n",
    "    '''\n",
    "    if len(a) == 0: return (1, None)\n",
    "    if a[0] > 30: return (2, 1)\n",
    "   \n",
    "    for i in range(len(a)-1):\n",
    "        t1, t2  = a[i], a[i+1]\n",
    "        if t2-t1 >  30:\n",
    "            return (2, t1+1)\n",
    "    if a[-1] < 720-30:\n",
    "        return (2,a[-1]+1)\n",
    "    return (0, None)"
   ]
  },
  {
   "cell_type": "code",
   "execution_count": null,
   "id": "a844146c-5013-4739-a070-72300623fac0",
   "metadata": {},
   "outputs": [],
   "source": [
    "# Kontrolle\n",
    "a = felder[(1,4)]\n",
    "b = felder[(2,4)]\n",
    "c = felder[(1,1)]\n",
    "print(sicher(a))\n",
    "print(sicher(b))\n",
    "print(sicher(c))"
   ]
  },
  {
   "cell_type": "raw",
   "id": "313740c4-3808-4a78-8f6e-8b69cd8d299b",
   "metadata": {},
   "source": [
    "# erwartete Augabe\n",
    "(1, None)\n",
    "(2, 1)\n",
    "(0, None)"
   ]
  },
  {
   "cell_type": "markdown",
   "id": "dcf5de07-fbc8-451b-8d37-116ee409e73b",
   "metadata": {},
   "source": [
    "#### A6 - Ausgabe der Berechnung\n",
    "\n",
    "Graphische Ausgabe des Rechteckwaldes"
   ]
  },
  {
   "cell_type": "code",
   "execution_count": null,
   "id": "55b186ac-2727-43f8-a6f4-fa7027dfe975",
   "metadata": {},
   "outputs": [],
   "source": [
    "print('. = nicht sicher, x = sicher, + = absolut sicher')\n",
    "for y in range(hoehe,0,-1):\n",
    "    zeile = ''\n",
    "    for x in range(1,breite+1):\n",
    "        a = felder[(x,y)]\n",
    "        k, _ = sicher(a)\n",
    "        if k == 0:\n",
    "            zeile+='.'            \n",
    "        elif k == 1:\n",
    "            zeile+='+'\n",
    "        else:\n",
    "            zeile+='x'\n",
    "    print(zeile)\n",
    "print()"
   ]
  },
  {
   "cell_type": "raw",
   "id": "e7a2726c-a12b-461f-951e-ec233e66cd43",
   "metadata": {},
   "source": [
    "# erwartete Ausgabe:\n",
    ". = nicht sicher, x = sicher, + = absolut sicher\n",
    "+x+\n",
    "+.+\n",
    "+.+\n",
    "..."
   ]
  },
  {
   "cell_type": "markdown",
   "id": "67c3c097-5490-4f39-8da2-fb02b226692f",
   "metadata": {},
   "source": [
    "Ausgabe der sicheren Felder:\n"
   ]
  },
  {
   "cell_type": "code",
   "execution_count": null,
   "id": "959e1134-b5d8-4142-9f0e-a45bf0277eeb",
   "metadata": {},
   "outputs": [],
   "source": [
    "for x in range(1,breite+1):\n",
    "    for y in range(1, hoehe+1):\n",
    "        a = felder[(x,y)]\n",
    "        k, t = sicher(a)\n",
    "        if k == 2:\n",
    "            print(f'Sicherer Zeitraum für {x}/{y} ab Minute {t}')"
   ]
  },
  {
   "cell_type": "raw",
   "id": "b24d63d7-8993-480d-8530-d24196bdb8d9",
   "metadata": {},
   "source": [
    "# erartete Ausgabe\n",
    "Sicherer Zeitraum für 2/4 ab Minute 1"
   ]
  }
 ],
 "metadata": {
  "kernelspec": {
   "display_name": "Python 3 (ipykernel)",
   "language": "python",
   "name": "python3"
  },
  "language_info": {
   "codemirror_mode": {
    "name": "ipython",
    "version": 3
   },
   "file_extension": ".py",
   "mimetype": "text/x-python",
   "name": "python",
   "nbconvert_exporter": "python",
   "pygments_lexer": "ipython3",
   "version": "3.11.2"
  }
 },
 "nbformat": 4,
 "nbformat_minor": 5
}
