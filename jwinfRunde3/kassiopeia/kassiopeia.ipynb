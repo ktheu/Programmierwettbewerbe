{
 "cells": [
  {
   "cell_type": "markdown",
   "id": "a0ba254b-feec-42de-80f6-8d0744019758",
   "metadata": {},
   "source": [
    "###  Kassiopeia\n",
    "\n",
    "34\\. Bundeswettbewerb Informatik - Junioraufgabe 2\n",
    "\n",
    "\n",
    "#### Hinweise\n",
    "\n",
    "Wir lesen die Daten in ein grid ein und zählen dabei alle begehbaren Felder.\n",
    "Wir starten von der Startposition eine Tiefensuche oder Breitensuche und zählen, wieviele Felder wir erreichen können.\n",
    "\n",
    "#### Ergebnisse:\n"
   ]
  },
  {
   "cell_type": "code",
   "execution_count": null,
   "id": "4130cca8-ddc0-4495-8c44-5f2fa25f1347",
   "metadata": {
    "scrolled": true
   },
   "outputs": [],
   "source": [
    "Beispiel 0: Ja\n",
    "Beispiel 1: Nein\n",
    "Beispiel 2: Ja\n",
    "Beispiel 3: Ja\n",
    "Beispiel 4: Ja\n",
    "Beispiel 5: Ja\n",
    "Beispiel 6: Ja\n",
    "Beispiel 7: Ja"
   ]
  }
 ],
 "metadata": {
  "kernelspec": {
   "display_name": "Python 3 (ipykernel)",
   "language": "python",
   "name": "python3"
  },
  "language_info": {
   "codemirror_mode": {
    "name": "ipython",
    "version": 3
   },
   "file_extension": ".py",
   "mimetype": "text/x-python",
   "name": "python",
   "nbconvert_exporter": "python",
   "pygments_lexer": "ipython3",
   "version": "3.11.2"
  }
 },
 "nbformat": 4,
 "nbformat_minor": 5
}
