{
 "cells": [
  {
   "cell_type": "markdown",
   "id": "bfb3fa07-b110-439a-99df-0a02ac6da409",
   "metadata": {},
   "source": [
    "### Stegano\n",
    "\n",
    "Auf Bilddaten können wir in Python mit der Python Image Library PIL zugreifen. Aus der Library PIL importieren wir das Modul Image, das uns verschiedene Funktionen zur Verfügung stellt, um auf die Bilddaten zuzugreifen."
   ]
  },
  {
   "cell_type": "code",
   "execution_count": 2,
   "id": "e8165094-d95d-4b8f-8a3f-239b3c87a808",
   "metadata": {},
   "outputs": [
    {
     "name": "stdout",
     "output_type": "stream",
     "text": [
      "Beispieldatei: bild01.png\n",
      "breite=16, hoehe=12\n"
     ]
    }
   ],
   "source": [
    "from PIL import Image\n",
    "\n",
    "# Eingabedaten lesen\n",
    "eingabe = 'bild01.png'\n",
    "image = Image.open('beispieldaten/'+eingabe)\n",
    "breite, hoehe = image.size\n",
    "\n",
    "print(f'Beispieldatei: {eingabe}')\n",
    "print(f'breite={breite}, hoehe={hoehe}')"
   ]
  },
  {
   "cell_type": "markdown",
   "id": "6cf95732-5b6e-46fe-99ff-cd59f2732be5",
   "metadata": {},
   "source": [
    "Mit *getdata* erhalten wir die RGB-Daten, manchmal ist noch ein vierter Wert für die Transparenz dabei. Den können wir mit convert('RGB') entfernen."
   ]
  },
  {
   "cell_type": "code",
   "execution_count": 3,
   "id": "0ea9f45c-cbbf-4795-a2d5-8d7a67bd31f4",
   "metadata": {},
   "outputs": [
    {
     "name": "stdout",
     "output_type": "stream",
     "text": [
      "[(72, 231, 237, 255), (178, 192, 211, 255), (160, 176, 202, 255), (184, 197, 214, 255), (184, 196, 213, 255), (172, 185, 206, 255), (161, 177, 203, 255), (134, 156, 190, 255), (104, 134, 179, 255), (92, 124, 174, 255), (91, 124, 175, 255), (53, 101, 163, 255), (64, 107, 167, 255), (87, 122, 173, 255), (97, 129, 178, 255), (95, 126, 175, 255)]\n"
     ]
    }
   ],
   "source": [
    "daten = list(image.getdata())\n",
    "print(daten[:breite])                    # die Pixel der ersten Zeile"
   ]
  },
  {
   "cell_type": "markdown",
   "id": "466f3726-cb95-42bc-a514-69bbe82d0e2b",
   "metadata": {},
   "source": [
    "Manchmal ist bei *getdata* noch ein vierter Wert für die Transparenz dabei. Den können wir mit convert('RGB') entfernen."
   ]
  },
  {
   "cell_type": "code",
   "execution_count": 4,
   "id": "fc434abe-2eb8-4736-a92a-e43271037a6e",
   "metadata": {},
   "outputs": [
    {
     "name": "stdout",
     "output_type": "stream",
     "text": [
      "[(72, 231, 237), (178, 192, 211), (160, 176, 202), (184, 197, 214), (184, 196, 213), (172, 185, 206), (161, 177, 203), (134, 156, 190), (104, 134, 179), (92, 124, 174), (91, 124, 175), (53, 101, 163), (64, 107, 167), (87, 122, 173), (97, 129, 178), (95, 126, 175)]\n"
     ]
    }
   ],
   "source": [
    "image = image.convert('RGB')\n",
    "daten = list(image.getdata())\n",
    "print(daten[:breite])                   # die Pixel der ersten Zeile"
   ]
  },
  {
   "cell_type": "markdown",
   "id": "e6505d14-deba-4c9a-bc86-08a6e33b0590",
   "metadata": {},
   "source": [
    "Wir speichern die Daten für jede Zeile in einer Liste. Alle Zeilen speichern wir in einer Liste *grid*"
   ]
  },
  {
   "cell_type": "code",
   "execution_count": 5,
   "id": "395ba3e0-a4ad-440e-8149-e82fc4dbfb3a",
   "metadata": {},
   "outputs": [
    {
     "name": "stdout",
     "output_type": "stream",
     "text": [
      "[(72, 231, 237), (178, 192, 211), (160, 176, 202), (184, 197, 214), (184, 196, 213), (172, 185, 206), (161, 177, 203), (134, 156, 190), (104, 134, 179), (92, 124, 174), (91, 124, 175), (53, 101, 163), (64, 107, 167), (87, 122, 173), (97, 129, 178), (95, 126, 175)]\n"
     ]
    }
   ],
   "source": [
    "grid = []\n",
    "for k in range(hoehe):\n",
    "    zeile = daten[k*breite:(k+1)*breite]\n",
    "    grid.append(zeile)\n",
    "    \n",
    "print(grid[0])                    # die Pixel der ersten Zeile  "
   ]
  },
  {
   "cell_type": "code",
   "execution_count": 6,
   "id": "e79675e2-b2aa-4c33-b5d9-d90573956de3",
   "metadata": {},
   "outputs": [
    {
     "name": "stdout",
     "output_type": "stream",
     "text": [
      "Hallo Welt\n"
     ]
    }
   ],
   "source": [
    "row = 0     # Anfangsposition\n",
    "col = 0\n",
    "text = ''\n",
    "\n",
    "g = -1      # Damit wir in die while Schleife kommen\n",
    "b = -1\n",
    "\n",
    "while not (g == 0 and b == 0):\n",
    "\n",
    "    px = grid[row][col]    # RGB-Daten an dieser Stelle\n",
    "    r,g,b = px\n",
    "    text+=chr(r)           # r ist ASCII-Wert des versteckten Zeichens\n",
    " \n",
    "    row = (row + b)%hoehe  # b beschreibt, um wieviele Pixel nach unten  gegangen wird\n",
    "    col = (col + g)%breite # g beschreibt, um wieviele Pixel nach rechts gegangen wird\n",
    "\n",
    "print(text)"
   ]
  },
  {
   "cell_type": "markdown",
   "id": "312848a3-cecc-4214-a74f-d6d264783faf",
   "metadata": {},
   "source": [
    "-------\n",
    "\n",
    "Das ganze Programm"
   ]
  },
  {
   "cell_type": "code",
   "execution_count": 8,
   "id": "90a0197d-a525-4a51-b23d-21e192d61886",
   "metadata": {},
   "outputs": [
    {
     "name": "stdout",
     "output_type": "stream",
     "text": [
      "Beispieldatei: bild01.png\n",
      "Hallo Welt\n"
     ]
    }
   ],
   "source": [
    "from PIL import Image\n",
    "eingabe = 'bild01.png'\n",
    "print(f'Beispieldatei: {eingabe}')\n",
    "\n",
    "image = Image.open('beispieldaten/'+eingabe)\n",
    "image = image.convert('RGB')\n",
    "daten = list(image.getdata())\n",
    "breite, hoehe = image.size \n",
    "\n",
    "grid = []\n",
    "for k in range(hoehe):\n",
    "    zeile = daten[k*breite:(k+1)*breite]\n",
    "    grid.append(zeile)\n",
    "\n",
    "row = 0     # Anfangsposition\n",
    "col = 0\n",
    "text = ''\n",
    "\n",
    "g = -1      # Damit wir in die while Schleife kommen\n",
    "b = -1\n",
    "\n",
    "while not (g == 0 and b == 0):\n",
    "\n",
    "    px = grid[row][col]    # RGB-Daten an dieser Stelle\n",
    "    r,g,b = px\n",
    "    text+=chr(r)           # r ist ASCII-Wert des versteckten Zeichens\n",
    " \n",
    "    row = (row + b)%hoehe  # b beschreibt, um wieviele Pixel nach unten gegangen wird\n",
    "    col = (col + g)%breite # g beschreibt, um wieviele Pixel nach rechts gegangen wird\n",
    "\n",
    "print(text)\n",
    " "
   ]
  },
  {
   "cell_type": "code",
   "execution_count": null,
   "id": "de1627b4-4b6b-4b18-9e6d-c4225a9c3013",
   "metadata": {},
   "outputs": [],
   "source": []
  }
 ],
 "metadata": {
  "kernelspec": {
   "display_name": "Python 3 (ipykernel)",
   "language": "python",
   "name": "python3"
  },
  "language_info": {
   "codemirror_mode": {
    "name": "ipython",
    "version": 3
   },
   "file_extension": ".py",
   "mimetype": "text/x-python",
   "name": "python",
   "nbconvert_exporter": "python",
   "pygments_lexer": "ipython3",
   "version": "3.12.8"
  }
 },
 "nbformat": 4,
 "nbformat_minor": 5
}
