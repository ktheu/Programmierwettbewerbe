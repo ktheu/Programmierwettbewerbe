{
 "cells": [
  {
   "cell_type": "markdown",
   "id": "11fe3452-12e6-4c58-88c3-d3e8d53e8da2",
   "metadata": {},
   "source": [
    "# Junioraufgabe: St. Egano\n",
    "\n",
    "### Team-ID: 12345\n",
    "\n",
    "### Team-Name: MyTeam\n",
    "\n",
    "### Bearbeiter/-innen dieser Aufgabe: Lena Müller, Malte Riedberg\n",
    "\n",
    "Datum: 29. November 2023\n",
    "\n",
    "### Lösungsidee\n",
    "\n",
    "Wir lesen die Bilddaten als eine Liste von Listen ein. Jede Liste entspricht einer Zeile des Bildes. \n",
    "Wir können dann auf die einzelen Bilddaten mit einem doppelten Index zugreifen. In den Variablen *row* und *col* merken wir uns die Zeile und Spalte unserer aktuellen Position. In einer Schleife lesen wir die RGB-Werte unserer aktuellen Position solange, bis die Werte für Grün und Blau gleich 0 sind. Ansonsten ermitteln wir aus den RGB-Werten der aktuellen Position unsere nächste Position und das verschlüsselte Zeichen. Mit dem Modulo-Operator können wir die neue Position berechnen, wenn wir über den Bildrand kommen.\n",
    "\n",
    "<div style=\"page-break-after: always;\"></div>"
   ]
  },
  {
   "cell_type": "markdown",
   "id": "53acc551-508c-4863-bec8-f0a85a2169d3",
   "metadata": {},
   "source": [
    "### Umsetzung\n",
    "\n",
    "Die Lösungsidee wird in ein Programm der Sprache Python umgesetzt.\n",
    "Auf Bilddaten können wir in Python mit der Python Image Library PIL zugreifen. Aus der Library PIL importieren wir das Modul Image, das uns dafür verschiedene Funktionen zur Verfügung stellt."
   ]
  },
  {
   "cell_type": "code",
   "execution_count": 1,
   "id": "6970a3d4-0ac3-4b73-a9b1-5d3b5260d1a5",
   "metadata": {},
   "outputs": [
    {
     "name": "stdout",
     "output_type": "stream",
     "text": [
      "Beispieldatei: bild01.png\n",
      "breite=16, hoehe=12\n"
     ]
    }
   ],
   "source": [
    "from PIL import Image\n",
    "\n",
    "# Eingabedaten lesen\n",
    "eingabe = 'bild01.png'\n",
    "image = Image.open('beispieldaten/'+eingabe)\n",
    "breite, hoehe = image.size\n",
    "\n",
    "print(f'Beispieldatei: {eingabe}')\n",
    "print(f'breite={breite}, hoehe={hoehe}')"
   ]
  },
  {
   "cell_type": "markdown",
   "id": "fba196a4-a1e7-409e-bc54-fcb70ddbbc0d",
   "metadata": {},
   "source": [
    "Mit *getdata* erhalten wir die RGB-Daten, manchmal ist noch ein vierter Wert für die Transparenz dabei. Den können wir mit convert('RGB') entfernen."
   ]
  },
  {
   "cell_type": "code",
   "execution_count": 2,
   "id": "546d13e8-7cd5-47e6-b1c8-4bf302bb40c5",
   "metadata": {},
   "outputs": [
    {
     "name": "stdout",
     "output_type": "stream",
     "text": [
      "[(72, 231, 237), (178, 192, 211), (160, 176, 202), (184, 197, 214), (184, 196, 213), (172, 185, 206), (161, 177, 203), (134, 156, 190), (104, 134, 179), (92, 124, 174), (91, 124, 175), (53, 101, 163), (64, 107, 167), (87, 122, 173), (97, 129, 178), (95, 126, 175)]\n"
     ]
    }
   ],
   "source": [
    "image = image.convert('RGB')\n",
    "daten = list(image.getdata())\n",
    "print(daten[:breite])                   # die Pixel der ersten Zeile"
   ]
  },
  {
   "cell_type": "markdown",
   "id": "c3ef4160-fe4d-4713-8864-8246bd855945",
   "metadata": {},
   "source": [
    "Wir speichern die Daten für jede Zeile in einer Liste. Alle Zeilen speichern wir in einer Liste *grid*"
   ]
  },
  {
   "cell_type": "code",
   "execution_count": 6,
   "id": "09badd73-5aba-4e47-ad02-ca43d2c7accb",
   "metadata": {},
   "outputs": [],
   "source": [
    "grid = []\n",
    "for k in range(hoehe):\n",
    "    zeile = daten[k*breite:(k+1)*breite]\n",
    "    grid.append(zeile)\n"
   ]
  },
  {
   "cell_type": "markdown",
   "id": "1d7ec91f-1eb5-4b11-a948-c05eba1ff0e8",
   "metadata": {},
   "source": [
    "<div style=\"page-break-after: always;\"></div>\n",
    "Wir beginnen oben links bei Zeile 0 und Spalte 0. In der Schleife lesen wir die RGB-Daten solange bis g und b gleich Null sind. In der "
   ]
  },
  {
   "cell_type": "code",
   "execution_count": 7,
   "id": "d76e967a-248c-49e8-9eb8-7ad0d75fe60f",
   "metadata": {},
   "outputs": [
    {
     "name": "stdout",
     "output_type": "stream",
     "text": [
      "Hallo Welt\n"
     ]
    }
   ],
   "source": [
    "row = 0     # aktuelle Zeile\n",
    "col = 0     # aktuelle Spalte\n",
    "text = ''   # geheime Nachricht\n",
    "\n",
    "g = -1      # Damit wir in die while Schleife kommen\n",
    "b = -1\n",
    "\n",
    "while not (g == 0 and b == 0):    # Solange g und b nicht beide 0\n",
    "\n",
    "    px = grid[row][col]    # RGB-Daten an dieser Stelle\n",
    "    r,g,b = px             # unpacking der RGB-Werte\n",
    "    text+=chr(r)           # r ist ASCII-Wert des versteckten Zeichens\n",
    " \n",
    "    row = (row + b)%hoehe  # b beschreibt, um wieviele Pixel nach unten  gegangen wird\n",
    "    col = (col + g)%breite # g beschreibt, um wieviele Pixel nach rechts gegangen wird\n",
    "\n",
    "print(text)"
   ]
  },
  {
   "cell_type": "markdown",
   "id": "de14fc58-2c21-44b3-9aac-660f88a7240d",
   "metadata": {},
   "source": [
    "<div style=\"page-break-after: always;\"></div>\n",
    "\n",
    "### Beispiele\n",
    "\n",
    "Unser Programm liefert für die Beispieldaten folgende Ergebnisse:\n",
    "\n",
    "```\n",
    "Beispieldatei: bild01.png\n",
    "Hallo Welt\n",
    "\n",
    "Beispieldatei: bild02.png\n",
    "Hallo Gloria\n",
    "\n",
    "Wie treffen uns am Freitag um 15:00 Uhr vor der Eisdiele am Markplatz.\n",
    "\n",
    "Alle Liebe,\n",
    "Juliane\n",
    "\n",
    "Beispieldatei: bild03.png\n",
    "Hallo Juliane,\n",
    "\n",
    "Super, ich werde da sein! Ich freue mich schon auf den riesen Eisbecher mit Erdbeeren. \n",
    "\n",
    "Bis bald,\n",
    "Gloria\n",
    "\n",
    "Beispieldatei: bild04.png\n",
    "Der Jugendwettbewerb Informatik ist ein Programmierwettbewerb für alle, die erste Programmiererfahrungen sammeln und vertiefen möchten. Programmiert wird mit Blockly, einer Bausteinorientierten Programmiersprache. Vorkenntnisse sind nicht nötig. Um sich mit den Aufgaben des Wettbewerbs vertraut zu machen, empfehlen wir unsere Trainingsseite . Er richtet sich an Schülerinnen und Schüler der Jahrgangsstufen 5 - 13, prinzipiell ist aber eine Teilnahme ab Jahrgangsstufe 3 möglich. Der Wettbewerb besteht aus drei Runden. Die ersten beiden Runden erfolgen online. In der 3. Runde werden zwei Aufgaben gestellt, diese gilt es mit eigenen Programmierwerkzeugen zuhause zu bearbeiten.\n",
    "\n",
    "Beispieldatei: bild05.png\n",
    "Der Bundeswettbewerb Informatik richtet sich an Jugendliche bis 21 Jahre, vor dem Studium oder einer Berufstätigkeit. Der Wettbewerb beginnt am 1. September, dauert etwa ein Jahr und besteht aus drei Runden. Dabei können die Aufgaben der 1. Runde ohne größere Informatikkenntnisse gelöst werden; die Aufgaben der 2. Runde sind deutlich schwieriger.\n",
    "\n",
    "Der Bundeswettbewerb ist fachlich so anspruchsvoll, dass die Gewinner i.d.R. in die Studienstiftung des deutschen Volkes aufgenommen werden. Aus den Besten werden die TeilnehmerInnen für die Internationale Informatik-Olympiade ermittelt. Der Bundeswettbewerb ermöglicht den Teilnehmenden, ihr Wissen zu vertiefen und ihre Begabung weiterzuentwickeln. So trägt der Wettbewerb dazu bei, Jugendliche mit besonderem fachlichen Potenzial zu erkennen.\n",
    "\n",
    "Beispieldatei: bild06.png  (Auszug)\n",
    "Bonn\n",
    "\n",
    "Die Bundesstadt Bonn (im Latein der Humanisten Bonna) ist eine kreisfreie Großstadt im Regierungsbezirk Köln im Süden des Landes Nordrhein-Westfalen und Zweitregierungssitz der Bundesrepublik Deutschland. Mit 336.465 Einwohnern (31. Dezember 2022) zählt Bonn zu den zwanzig größten Städten Deutschlands. Bonn gehört zu den Metropolregionen Rheinland und Rhein-Ruhr sowie zur Region Köln/Bonn. Die Stadt an beiden Ufern des Rheins war von 1949 bis 1973 provisorischer Regierungssitz und von 1973 bis 1990 Bundeshauptstadt und bis 1999 Regierungssitz Deutschlands, danach wurde sie zweiter Regierungssitz. Die Vereinten Nationen unterhalten seit 1951 hier einen Sitz.\n",
    "\n",
    "Bonn kann auf eine mehr als 2000-jährige Geschichte zurückblicken, die auf germanische und römische Siedlungen zurückgeht, und ist damit eine der ältesten Städte Deutschlands. Von 1597 bis 1794 war es Haupt- und Residenzstadt des Kurfürstentums Köln. 1770 kam Ludwig van Beethoven hier zur Welt. ......\n",
    "\n",
    ".......\n",
    "\n",
    "Arbeitsmarktbehörden\n",
    "Bonn ist außerdem Standort der Zentralen Auslands- und Fachvermittlung (ZAV) der Bundesagentur für Arbeit (BA). Im Stadtteil Duisdorf befindet sich der Hauptsitz der ZAV mit ihren bundesweit 18 Standorten.\n",
    "\n",
    "Quelle: https://de.wikipedia.org/wiki/Bonn\n",
    "```\n"
   ]
  },
  {
   "cell_type": "markdown",
   "id": "74ebbc00-fe8b-402f-b315-cd5de9f6e6e0",
   "metadata": {},
   "source": [
    "<div style=\"page-break-after: always;\"></div>\n",
    "\n",
    "### Quellcode"
   ]
  },
  {
   "cell_type": "code",
   "execution_count": 15,
   "id": "20a97055-ce43-470a-809a-61e91b2acd40",
   "metadata": {},
   "outputs": [
    {
     "name": "stdout",
     "output_type": "stream",
     "text": [
      "Beispieldatei: bild01.png\n",
      "Hallo Welt\n"
     ]
    }
   ],
   "source": [
    "from PIL import Image\n",
    "\n",
    "# Eingabedaten lesen\n",
    "eingabe = 'bild01.png'\n",
    "image = Image.open('beispieldaten/'+eingabe)\n",
    "breite, hoehe = image.size\n",
    "\n",
    "print(f'Beispieldatei: {eingabe}')\n",
    "\n",
    "# Liste mit RGB-Daten erstellen\n",
    "image = image.convert('RGB')\n",
    "daten = list(image.getdata())\n",
    "\n",
    "# Umwandeln der Liste in ein grid mit Zeilen und Spalten\n",
    "grid = []\n",
    "for k in range(hoehe):\n",
    "    zeile = daten[k*breite:(k+1)*breite]\n",
    "    grid.append(zeile)\n",
    "\n",
    "# Geheime Nachricht ermitteln\n",
    "row = 0     # aktuelle Zeile\n",
    "col = 0     # aktuelle Spalte\n",
    "text = ''   # geheime Nachricht\n",
    "\n",
    "g = -1      # Damit wir in die while Schleife kommen\n",
    "b = -1\n",
    "\n",
    "while not (g == 0 and b == 0):    # Solange g und b nicht beide 0\n",
    "\n",
    "    px = grid[row][col]    # RGB-Daten an dieser Stelle\n",
    "    r,g,b = px             # unpacking der RGB-Werte\n",
    "    text+=chr(r)           # r ist ASCII-Wert des versteckten Zeichens\n",
    " \n",
    "    row = (row + b)%hoehe  # b beschreibt, um wieviele Pixel nach unten  gegangen wird\n",
    "    col = (col + g)%breite # g beschreibt, um wieviele Pixel nach rechts gegangen wird\n",
    "\n",
    "print(text)"
   ]
  }
 ],
 "metadata": {
  "kernelspec": {
   "display_name": "Python 3 (ipykernel)",
   "language": "python",
   "name": "python3"
  },
  "language_info": {
   "codemirror_mode": {
    "name": "ipython",
    "version": 3
   },
   "file_extension": ".py",
   "mimetype": "text/x-python",
   "name": "python",
   "nbconvert_exporter": "python",
   "pygments_lexer": "ipython3",
   "version": "3.12.8"
  }
 },
 "nbformat": 4,
 "nbformat_minor": 5
}
