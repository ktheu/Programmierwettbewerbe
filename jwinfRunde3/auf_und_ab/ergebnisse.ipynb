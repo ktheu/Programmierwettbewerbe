{
 "cells": [
  {
   "cell_type": "markdown",
   "id": "2ca27377-7756-4093-b0e7-7a60891ed036",
   "metadata": {},
   "source": [
    "### Auf und Ab - Ergebnisse"
   ]
  },
  {
   "cell_type": "code",
   "execution_count": null,
   "id": "e1e38ea4-5cd1-4ab4-b029-a4721b596536",
   "metadata": {},
   "outputs": [],
   "source": [
    "Mit 1 kann das Ziel in 26 Wuerfen erreicht werden.\n",
    "Mit 2 kann das Ziel in 17 Wuerfen erreicht werden.\n",
    "Mit 3 kann das Ziel nicht erreicht werden. 92 wird doppelt besucht.\n",
    "Mit 4 kann das Ziel nicht erreicht werden. 97 wird doppelt besucht.\n",
    "Mit 5 kann das Ziel in 16 Wuerfen erreicht werden.\n",
    "Mit 6 kann das Ziel in 14 Wuerfen erreicht werden."
   ]
  }
 ],
 "metadata": {
  "kernelspec": {
   "display_name": "Python 3 (ipykernel)",
   "language": "python",
   "name": "python3"
  },
  "language_info": {
   "codemirror_mode": {
    "name": "ipython",
    "version": 3
   },
   "file_extension": ".py",
   "mimetype": "text/x-python",
   "name": "python",
   "nbconvert_exporter": "python",
   "pygments_lexer": "ipython3",
   "version": "3.11.2"
  }
 },
 "nbformat": 4,
 "nbformat_minor": 5
}
