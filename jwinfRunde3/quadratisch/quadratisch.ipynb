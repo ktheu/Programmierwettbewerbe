{
 "cells": [
  {
   "cell_type": "markdown",
   "id": "bbfee10a-ca38-461f-8b85-68265494d07c",
   "metadata": {},
   "source": [
    "### Quadratisch\n",
    "\n",
    "[Aufgabe](./quadratisch.png)"
   ]
  },
  {
   "cell_type": "code",
   "execution_count": 1,
   "id": "174b2694-ae82-4e6f-8d78-4655cccc6c33",
   "metadata": {},
   "outputs": [
    {
     "name": "stdout",
     "output_type": "stream",
     "text": [
      "Beispieldatei: garten0.txt\n",
      "Anzahl Interessenten = 23\n",
      "Höhe = 42, Breite = 66\n"
     ]
    }
   ],
   "source": [
    "# Eingabedaten lesen\n",
    "eingabe = 'garten0.txt'\n",
    "f = open('beispieldaten/'+eingabe)\n",
    "\n",
    "anz = int(f.readline())\n",
    "hoehe = int(f.readline())\n",
    "breite = int(f.readline())\n",
    "f.close()\n",
    "\n",
    "print(f'Beispieldatei: {eingabe}')\n",
    "print(f'Anzahl Interessenten = {anz}')\n",
    "print(f'Höhe = {hoehe}, Breite = {breite}')"
   ]
  },
  {
   "cell_type": "markdown",
   "id": "b633d183-e972-4770-b3c5-23e0647a90f1",
   "metadata": {},
   "source": [
    "Maximale Anzahl von Grundstücken:"
   ]
  },
  {
   "cell_type": "code",
   "execution_count": 24,
   "id": "6b351987-98af-4346-aad4-88584458548f",
   "metadata": {},
   "outputs": [
    {
     "data": {
      "text/plain": [
       "25"
      ]
     },
     "execution_count": 24,
     "metadata": {},
     "output_type": "execute_result"
    }
   ],
   "source": [
    "maxanz = int(anz*1.1)\n",
    "maxanz"
   ]
  },
  {
   "cell_type": "markdown",
   "id": "5e58911b-03e5-4382-8422-5acffe227eaa",
   "metadata": {},
   "source": [
    "Als Maß für die Quadratischheit nehmen wir das Verhältnis der kürzeren zur längeren Seite. Wenn diese Zahl 1 ist, dann ist das Rechteck ein Quadrat. Wenn das Rechteck kein Quadrat ist, dann ist die Zahl kleiner als 1 ist. Also je größer diese Zahl ist, desto näher sind wir an der 1 und desto quadratischer ist das Rechteck. "
   ]
  },
  {
   "cell_type": "code",
   "execution_count": 25,
   "id": "5206d3be-75fc-4010-95ec-f50c2ba9d3d8",
   "metadata": {},
   "outputs": [],
   "source": [
    "def quadratmass(hoehe, breite):\n",
    "    if hoehe > breite: \n",
    "        return breite/hoehe\n",
    "    else:\n",
    "        return hoehe/breite"
   ]
  },
  {
   "cell_type": "markdown",
   "id": "df93f4b3-cdaf-4923-bac2-546ecf6cc7f4",
   "metadata": {},
   "source": [
    "Beispiele:"
   ]
  },
  {
   "cell_type": "code",
   "execution_count": 26,
   "id": "215750df-a71f-47af-af8a-576e257effb4",
   "metadata": {},
   "outputs": [
    {
     "name": "stdout",
     "output_type": "stream",
     "text": [
      "1.0\n",
      "0.5\n",
      "0.5\n",
      "0.9090909090909091\n",
      "0.9523809523809523\n"
     ]
    }
   ],
   "source": [
    "print(quadratmass(1,1))\n",
    "print(quadratmass(2,1))\n",
    "print(quadratmass(1,2))\n",
    "print(quadratmass(10,11))\n",
    "print(quadratmass(10,10.5))"
   ]
  },
  {
   "cell_type": "markdown",
   "id": "0b65e2e6-ba6c-4b20-ac6e-0b45f23d390b",
   "metadata": {},
   "source": [
    "Wenn wir ein Grundstück aufteilen, erzeugen wir ein Gitter mit einer Anzahl x an Zeilen und einer Anzahl y an Spalten. Die Anzahl der Teilgrundstücke ist dann x * y. Damit können wir die möglichen Aufteilungen aufzählen."
   ]
  },
  {
   "cell_type": "code",
   "execution_count": 30,
   "id": "e818f2c6-ce62-4e62-8ae8-5957a4ab3f4a",
   "metadata": {},
   "outputs": [
    {
     "name": "stdout",
     "output_type": "stream",
     "text": [
      "Aufteilung in 1 Zeilen und 23 Spalten möglich\n",
      "Aufteilung in 1 Zeilen und 24 Spalten möglich\n",
      "Aufteilung in 2 Zeilen und 12 Spalten möglich\n",
      "Aufteilung in 3 Zeilen und 8 Spalten möglich\n",
      "Aufteilung in 4 Zeilen und 6 Spalten möglich\n",
      "Aufteilung in 5 Zeilen und 5 Spalten möglich\n",
      "Aufteilung in 6 Zeilen und 4 Spalten möglich\n",
      "Aufteilung in 8 Zeilen und 3 Spalten möglich\n",
      "Aufteilung in 12 Zeilen und 2 Spalten möglich\n",
      "Aufteilung in 23 Zeilen und 1 Spalten möglich\n",
      "Aufteilung in 24 Zeilen und 1 Spalten möglich\n"
     ]
    }
   ],
   "source": [
    "for x in range(1,maxanz):\n",
    "    for y in range(1,maxanz):\n",
    "        if anz <= x*y <= maxanz:\n",
    "            print(f'Aufteilung in {x} Zeilen und {y} Spalten möglich')"
   ]
  },
  {
   "cell_type": "markdown",
   "id": "71a769f2-7726-4b1b-aa8b-3c42c55cb35d",
   "metadata": {},
   "source": [
    "Für jede dieser Aufteilungen können wir hoehe und Breite eines Grundstücks bestimmen\n"
   ]
  },
  {
   "cell_type": "code",
   "execution_count": 31,
   "id": "cc4a9805-2fd3-4e3e-af02-706897f57be8",
   "metadata": {},
   "outputs": [
    {
     "name": "stdout",
     "output_type": "stream",
     "text": [
      "1 Zeilen mit Hoehe 42.00 und 23 Spalten mit Breite 2.87.\n",
      "1 Zeilen mit Hoehe 42.00 und 24 Spalten mit Breite 2.75.\n",
      "2 Zeilen mit Hoehe 21.00 und 12 Spalten mit Breite 5.50.\n",
      "3 Zeilen mit Hoehe 14.00 und 8 Spalten mit Breite 8.25.\n",
      "4 Zeilen mit Hoehe 10.50 und 6 Spalten mit Breite 11.00.\n",
      "5 Zeilen mit Hoehe 8.40 und 5 Spalten mit Breite 13.20.\n",
      "6 Zeilen mit Hoehe 7.00 und 4 Spalten mit Breite 16.50.\n",
      "8 Zeilen mit Hoehe 5.25 und 3 Spalten mit Breite 22.00.\n",
      "12 Zeilen mit Hoehe 3.50 und 2 Spalten mit Breite 33.00.\n",
      "23 Zeilen mit Hoehe 1.83 und 1 Spalten mit Breite 66.00.\n",
      "24 Zeilen mit Hoehe 1.75 und 1 Spalten mit Breite 66.00.\n"
     ]
    }
   ],
   "source": [
    "for x in range(1,maxanz):\n",
    "    for y in range(1,maxanz):\n",
    "        if anz <= x*y <= maxanz:\n",
    "            h = hoehe/x\n",
    "            b = breite/y\n",
    "            print(f'{x} Zeilen mit Hoehe {h:.2f} und {y} Spalten mit Breite {b:.2f}.')"
   ]
  },
  {
   "cell_type": "markdown",
   "id": "8c8c68d2-7e40-47ae-ada4-0d37fc238df6",
   "metadata": {},
   "source": [
    "Wir können auch für jeden der Fälle das Quadratmass der Teilgrundstücke bestimmen\n"
   ]
  },
  {
   "cell_type": "code",
   "execution_count": 32,
   "id": "1943389f-147f-45ac-8779-087bc7af3b5a",
   "metadata": {},
   "outputs": [
    {
     "name": "stdout",
     "output_type": "stream",
     "text": [
      "1 Zeilen mit Hoehe 42.00 und 23 Spalten mit Breite 2.87 und Quadradmass 0.07\n",
      "1 Zeilen mit Hoehe 42.00 und 24 Spalten mit Breite 2.75 und Quadradmass 0.07\n",
      "2 Zeilen mit Hoehe 21.00 und 12 Spalten mit Breite 5.50 und Quadradmass 0.26\n",
      "3 Zeilen mit Hoehe 14.00 und 8 Spalten mit Breite 8.25 und Quadradmass 0.59\n",
      "4 Zeilen mit Hoehe 10.50 und 6 Spalten mit Breite 11.00 und Quadradmass 0.95\n",
      "5 Zeilen mit Hoehe 8.40 und 5 Spalten mit Breite 13.20 und Quadradmass 0.64\n",
      "6 Zeilen mit Hoehe 7.00 und 4 Spalten mit Breite 16.50 und Quadradmass 0.42\n",
      "8 Zeilen mit Hoehe 5.25 und 3 Spalten mit Breite 22.00 und Quadradmass 0.24\n",
      "12 Zeilen mit Hoehe 3.50 und 2 Spalten mit Breite 33.00 und Quadradmass 0.11\n",
      "23 Zeilen mit Hoehe 1.83 und 1 Spalten mit Breite 66.00 und Quadradmass 0.03\n",
      "24 Zeilen mit Hoehe 1.75 und 1 Spalten mit Breite 66.00 und Quadradmass 0.03\n"
     ]
    }
   ],
   "source": [
    "for x in range(1,maxanz):\n",
    "    for y in range(1,maxanz):\n",
    "        if anz <= x*y <= maxanz:\n",
    "            h = hoehe/x\n",
    "            b = breite/y\n",
    "            q = quadratmass(b,h)\n",
    "            print(f'{x} Zeilen mit Hoehe {h:.2f} und {y} Spalten mit Breite {b:.2f} und Quadradmass {q:.2f}')"
   ]
  },
  {
   "cell_type": "markdown",
   "id": "6611c78b-ee81-448b-8a26-24ff816f35d5",
   "metadata": {},
   "source": [
    "Wir sehen, dass die Aufteilung mit 4 Zeilen und 6 Spalten das beste Quadratmass hat."
   ]
  },
  {
   "cell_type": "code",
   "execution_count": 33,
   "id": "b6773ade-4c49-4721-9c5a-3fcb0b9d00ba",
   "metadata": {},
   "outputs": [
    {
     "name": "stdout",
     "output_type": "stream",
     "text": [
      "Beste Aufteilung:\n",
      "4 Zeilen mit Hoehe 10.50 und 6 Spalten mit Breite 11.00\n"
     ]
    }
   ],
   "source": [
    "best = 0\n",
    "for x in range(1,maxanz):\n",
    "    for y in range(1,maxanz):\n",
    "        if anz <= x*y <= maxanz:\n",
    "            h = hoehe/x\n",
    "            b = breite/y\n",
    "            q = quadratmass(b,h)\n",
    "            if q > best:\n",
    "                best = q\n",
    "                best_x = x\n",
    "                best_y = y\n",
    "print('Beste Aufteilung:')\n",
    "print(f'{best_x} Zeilen mit Hoehe {hoehe/best_x:.2f} und {best_y} Spalten mit Breite {breite/best_y:.2f}')"
   ]
  },
  {
   "cell_type": "markdown",
   "id": "08b94cbb-daa6-4cec-bd09-fe036ba2670a",
   "metadata": {},
   "source": [
    "--------"
   ]
  },
  {
   "cell_type": "markdown",
   "id": "2a4ea7d3-2343-49f9-8c2f-e48879cec0d8",
   "metadata": {},
   "source": [
    "Das gesamte Programm in einer Zelle"
   ]
  },
  {
   "cell_type": "code",
   "execution_count": 2,
   "id": "1b9b1535-0bfa-43ea-ada7-954f8c27229d",
   "metadata": {},
   "outputs": [
    {
     "name": "stdout",
     "output_type": "stream",
     "text": [
      "Beispieldatei: garten0.txt\n",
      "Anzahl Interessenten = 23\n",
      "Höhe = 42, Breite = 66\n",
      "Beste Aufteilung:\n",
      "4 Zeilen mit Hoehe 10.50 und 6 Spalten mit Breite 11.00\n",
      "CPU times: total: 0 ns\n",
      "Wall time: 1.59 ms\n"
     ]
    }
   ],
   "source": [
    "%%time\n",
    "def quadratmass(hoehe, breite):\n",
    "    if hoehe > breite: \n",
    "        return breite/hoehe\n",
    "    else:\n",
    "        return hoehe/breite\n",
    "\n",
    "# Eingabedaten lesen\n",
    "eingabe = 'garten0.txt'\n",
    "f = open('beispieldaten/'+eingabe)\n",
    "\n",
    "anz = int(f.readline())\n",
    "hoehe = int(f.readline())\n",
    "breite = int(f.readline())\n",
    "f.close()\n",
    "print(f'Beispieldatei: {eingabe}')\n",
    "print(f'Anzahl Interessenten = {anz}')\n",
    "print(f'Höhe = {hoehe}, Breite = {breite}')\n",
    "\n",
    "maxanz = int(anz*1.1)\n",
    "\n",
    "best = 0\n",
    "for x in range(1,maxanz):\n",
    "    for y in range(1,maxanz):\n",
    "        if anz <= x*y <= maxanz:\n",
    "            h = hoehe/x\n",
    "            b = breite/y\n",
    "            q = quadratmass(b,h)\n",
    "            if q > best:\n",
    "                best = q\n",
    "                best_x = x\n",
    "                best_y = y\n",
    "print('Beste Aufteilung:')\n",
    "print(f'{best_x} Zeilen mit Hoehe {hoehe/best_x:.2f} und {best_y} Spalten mit Breite {breite/best_y:.2f}')"
   ]
  },
  {
   "cell_type": "markdown",
   "id": "61b2d843-a4e0-4afe-af0e-e56b45eacafd",
   "metadata": {},
   "source": [
    "Verbesserung der Laufzeit"
   ]
  },
  {
   "cell_type": "code",
   "execution_count": 3,
   "id": "cad8a38d-6bad-4e24-a0e2-57acf2f5074a",
   "metadata": {},
   "outputs": [
    {
     "name": "stdout",
     "output_type": "stream",
     "text": [
      "Beispieldatei: garten0.txt\n",
      "Anzahl Interessenten = 23\n",
      "Höhe = 42, Breite = 66\n",
      "Beste Aufteilung:\n",
      "4 Zeilen mit Hoehe 10.50 und 6 Spalten mit Breite 11.00\n"
     ]
    }
   ],
   "source": [
    "def quadratmass(hoehe, breite):\n",
    "    if hoehe > breite: \n",
    "        return breite/hoehe\n",
    "    else:\n",
    "        return hoehe/breite\n",
    "\n",
    "# Eingabedaten lesen \n",
    "eingabe = 'garten0.txt'\n",
    "f = open('beispieldaten/'+eingabe)\n",
    "\n",
    "anz = int(f.readline())\n",
    "hoehe = int(f.readline())\n",
    "breite = int(f.readline())\n",
    "f.close()\n",
    "print(f'Beispieldatei: {eingabe}')\n",
    "print(f'Anzahl Interessenten = {anz}')\n",
    "print(f'Höhe = {hoehe}, Breite = {breite}')\n",
    "\n",
    "maxanz = int(anz*1.1)\n",
    "\n",
    "best = 0\n",
    "for x in range(1,maxanz):\n",
    "    for y in range(1,maxanz):\n",
    "        if x*y > maxanz: break\n",
    "        if anz <= x*y:\n",
    "            h = hoehe/x\n",
    "            b = breite/y\n",
    "            q = quadratmass(b,h)\n",
    "            if q > best:\n",
    "                best = q\n",
    "                best_x = x\n",
    "                best_y = y\n",
    "print('Beste Aufteilung:')\n",
    "print(f'{best_x} Zeilen mit Hoehe {hoehe/best_x:.2f} und {best_y} Spalten mit Breite {breite/best_y:.2f}')"
   ]
  },
  {
   "cell_type": "code",
   "execution_count": null,
   "id": "c9d2a417-14c7-4d16-bed5-25559b4831e4",
   "metadata": {},
   "outputs": [],
   "source": []
  }
 ],
 "metadata": {
  "kernelspec": {
   "display_name": "Python 3 (ipykernel)",
   "language": "python",
   "name": "python3"
  },
  "language_info": {
   "codemirror_mode": {
    "name": "ipython",
    "version": 3
   },
   "file_extension": ".py",
   "mimetype": "text/x-python",
   "name": "python",
   "nbconvert_exporter": "python",
   "pygments_lexer": "ipython3",
   "version": "3.12.8"
  }
 },
 "nbformat": 4,
 "nbformat_minor": 5
}
