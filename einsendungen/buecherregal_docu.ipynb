{
 "cells": [
  {
   "cell_type": "markdown",
   "id": "60df31e5-6fc0-4af3-b7b2-4bfe0dd1c628",
   "metadata": {},
   "source": [
    "# Junioraufgabe 1: Bücherregal\n",
    "\n",
    "### Team-ID: 12345\n",
    "\n",
    "### Team-Name: MyTeam\n",
    "\n",
    "### Bearbeiter/-innen dieser Aufgabe: Lena Müller, Malte Riedberg\n",
    "\n",
    "Datum: 10. November 2017\n",
    "\n",
    "### Lösungsidee\n",
    "\n",
    "Die Bücher werden nach Höhen sortiert in einer Liste gespeichert.\n",
    "Zu Beginn ist das erste, also das kleinste Buch, der Beginn des ersten Abschnitts.\n",
    "Dann gehen wir die Bücherliste durch. Sobald ein Buch gefunden wurde, das eine\n",
    "Höhendifferenz größer als 3 cm zum Beginn des Abschnitts hat, setzen wir vor diesem\n",
    "Buch eine Figur und nehmen dieses Buch als Beginn eines neuen Abschnitts.\n",
    "Das machen wir bis zum Ende der Bücherliste und zählen dabei die Anzahl der\n",
    "notwendigen Figuren. Wenn diese Anzahl kleiner oder gleich der Anzahl der verfügbaren\n",
    "Figuren ist, ist eine Aufstellung möglich und wir geben die Lösung aus.\n",
    "\n",
    "### Umsetzung\n",
    "\n",
    "Die Lösungsidee wird in ein Programm der Sprache Python umgesetzt.\n",
    "Die Höhen der Bücher sind in mm angegeben. Wir lesen die Höhen in eine Liste buecher ein:"
   ]
  },
  {
   "cell_type": "code",
   "execution_count": null,
   "id": "35422629-1be0-45b8-aaa5-821d8c0ffe3e",
   "metadata": {},
   "outputs": [],
   "source": [
    "eingabe = 'buecherregal1.txt'\n",
    "f = open('./beispieldaten/buecherregal'+str(nr)+'.txt')\n",
    "\n",
    "anz_figuren = int(f.readline())\n",
    "anz_buecher = int(f.readline())\n",
    "\n",
    "buecher = []           # Liste mit den Büchern\n",
    "\n",
    "for i in range(anz_buecher):\n",
    "    buecher.append(int(f.readline()))\n",
    "f.close()"
   ]
  },
  {
   "cell_type": "markdown",
   "id": "23ccb81a-7fd2-44c3-8f45-cd8735498ae1",
   "metadata": {},
   "source": [
    "Dann sortieren wir die Bücherliste aufsteigend nach ihrer Höhe"
   ]
  },
  {
   "cell_type": "code",
   "execution_count": null,
   "id": "37f02d12-ef56-42ea-ac8c-fcf6c047dea5",
   "metadata": {},
   "outputs": [],
   "source": [
    "    buecher.sort()"
   ]
  },
  {
   "cell_type": "markdown",
   "id": "e84b1275-02c5-48b1-a737-93b2d9a620c0",
   "metadata": {},
   "source": [
    "Die Liste regal ist zu Beginn leer. Wir speichern darin der Reihe nach\n",
    "die Bücher und Figuren für die Aufstellung.\n",
    "\n",
    "Die Variable i zeigt auf den Index des Buches, das sich am Beginn eines\n",
    "Abschnitts befindet. Mit der Variablen j durchlaufen wir die Bücherliste.\n",
    "\n",
    "Innerhalb der Schleife, mit der wir die Bücherliste\n",
    "durchlaufen, fügen wir ein Buch entweder mit append in die Liste regal ein,\n",
    "oder, falls das Buch zu groß ist, fügen wir eine Figur ins regal ein und dann das Buch.\n",
    "Die Anzahl der gesetzten Figuren merken wir uns in der Variablen zaehl.\n",
    "\n",
    "Mit i = j wird dann der Beginn des neuen Abschnitts gesetzt.\n"
   ]
  },
  {
   "cell_type": "code",
   "execution_count": null,
   "id": "ab6f3599-3cdc-4cd8-a425-5be62f452cd5",
   "metadata": {},
   "outputs": [],
   "source": [
    "    regal = []             # die Aufstellung von Büchern und Figuren\n",
    "    zaehl = 0              # Anzahl aufgestellter Figuren\n",
    "    print(f'Bücherregal {nr}:')\n",
    "    \n",
    "    i = 0                  # Anfang des Abschnitts\n",
    "    j = 0                  # aktuelles Buch\n",
    "    while j < len(buecher):                # solange noch nicht am Ende der Bücherliste\n",
    "        if buecher[j] - buecher[i] <= 30:  # passt aktuelles Buch noch in den Abschnitt?\n",
    "            regal.append(buecher[j])       # Buch in den Abschnitt\n",
    "        else:\n",
    "            regal.append('\\nFigur')          # Abschnittsende, setzen der Figur\n",
    "            regal.append(buecher[j])       # aktuelles Buch ist Beginn des nächsten Abschnitts\n",
    "            zaehl += 1                     # Erhöhe Anzahl aufgestellter Figuren\n",
    "            i = j          # Anfang des Abschnitts wird das aktuelle Buch\n",
    "        j = j + 1          # ein Buch weiter in der Liste"
   ]
  },
  {
   "cell_type": "markdown",
   "id": "6d610287-2620-4f10-867e-dfbfe4b329c9",
   "metadata": {},
   "source": [
    "In der Ausgabe der Lösung erscheinen nur die Figuren, die für die Aufstellung notwendig sind.\n",
    "Falls weitere Figuren verfügbar sind, können diese beliebig platziert werden."
   ]
  },
  {
   "cell_type": "code",
   "execution_count": null,
   "id": "dfbaff77-632a-45b4-855b-0a75c3324a1b",
   "metadata": {},
   "outputs": [],
   "source": [
    "    if zaehl <= anz_figuren:               # Anzahl verwendeter Figuren <= Anzahl verfügbare Figuren?\n",
    "        print(f'Aufteilung mit {anz_figuren} Figuren ist möglich.')\n",
    "        for x in regal:\n",
    "            print(x,end= ' ')\n",
    "    else:\n",
    "        print(f'Aufteilung mit {anz_figuren} Figuren ist nicht möglich.')"
   ]
  },
  {
   "cell_type": "markdown",
   "id": "0fbdca29-28ec-4834-a34a-1f884d85db5a",
   "metadata": {},
   "source": [
    "### Beispiele\n",
    "\n",
    "Unser Programm liefert für die Beispieldaten folgende Ergebnisse:\n",
    "\n"
   ]
  },
  {
   "cell_type": "code",
   "execution_count": 4,
   "id": "88f0c308-593f-4cd6-9b2c-a1e32ebd06bc",
   "metadata": {},
   "outputs": [
    {
     "name": "stdout",
     "output_type": "stream",
     "text": [
      "Bücherregal 1:\n",
      "Aufteilung mit 4 Figuren ist möglich.\n",
      "168 170 \n",
      "Figur 202 211 229 \n",
      "Figur 233 254 260 \n",
      "Figur 272 \n",
      "Figur 306 307 "
     ]
    }
   ],
   "source": [
    "buecherregal(1)"
   ]
  },
  {
   "cell_type": "code",
   "execution_count": 5,
   "id": "b29556bc-e830-4a85-80ab-4d95404a6254",
   "metadata": {},
   "outputs": [
    {
     "name": "stdout",
     "output_type": "stream",
     "text": [
      "Bücherregal 2:\n",
      "Aufteilung mit 2 Figuren ist möglich.\n",
      "169 175 \n",
      "Figur 203 209 210 229 \n",
      "Figur 235 "
     ]
    }
   ],
   "source": [
    "buecherregal(2)"
   ]
  },
  {
   "cell_type": "markdown",
   "id": "1b46f1c6-a8fe-4c16-82c9-dee009b42c83",
   "metadata": {},
   "source": [
    "<div style=\"page-break-after: always;\"></div>"
   ]
  },
  {
   "cell_type": "code",
   "execution_count": 6,
   "id": "48f0fb78-246e-4dc4-a3ee-1a8e67f328c3",
   "metadata": {},
   "outputs": [
    {
     "name": "stdout",
     "output_type": "stream",
     "text": [
      "Bücherregal 3:\n",
      "Aufteilung mit 2 Figuren ist nicht möglich.\n"
     ]
    }
   ],
   "source": [
    "buecherregal(3)"
   ]
  },
  {
   "cell_type": "code",
   "execution_count": 7,
   "id": "8eb14fbc-1c08-4dab-a1a0-20722406999d",
   "metadata": {},
   "outputs": [
    {
     "name": "stdout",
     "output_type": "stream",
     "text": [
      "Bücherregal 4:\n",
      "Aufteilung mit 4 Figuren ist möglich.\n",
      "160 160 161 161 162 165 165 166 167 167 167 169 170 170 171 173 173 174 174 177 180 182 183 184 184 185 185 187 188 189 190 \n",
      "Figur 196 197 197 199 200 201 202 206 207 207 211 212 212 214 215 216 217 218 219 224 225 \n",
      "Figur 233 235 237 238 238 239 240 240 240 245 246 246 247 253 254 256 258 259 259 261 \n",
      "Figur 264 266 266 267 268 270 270 272 274 275 276 277 278 279 286 286 287 288 289 290 293 293 \n",
      "Figur 295 296 300 301 303 304 "
     ]
    }
   ],
   "source": [
    "buecherregal(4)"
   ]
  },
  {
   "cell_type": "code",
   "execution_count": 8,
   "id": "b5882642-bf20-4e78-a731-951baa60aafd",
   "metadata": {},
   "outputs": [
    {
     "name": "stdout",
     "output_type": "stream",
     "text": [
      "Bücherregal 5:\n",
      "Aufteilung mit 3 Figuren ist möglich.\n",
      "160 161 161 161 162 162 162 163 163 164 164 164 164 164 165 165 165 166 167 167 168 168 168 168 169 169 170 170 171 171 171 171 172 174 174 174 174 175 175 176 176 176 176 176 177 177 178 179 180 180 \n",
      "Figur 201 202 202 202 203 206 206 208 209 210 211 212 216 220 220 221 221 229 230 230 230 231 \n",
      "Figur 232 232 233 233 235 237 238 240 241 241 241 243 243 246 248 248 250 254 257 258 260 261 261 \n",
      "Figur 263 264 265 265 270 "
     ]
    }
   ],
   "source": [
    "buecherregal(5)"
   ]
  },
  {
   "cell_type": "code",
   "execution_count": 9,
   "id": "20372c0f-d362-4090-b325-585623faa0f2",
   "metadata": {},
   "outputs": [
    {
     "name": "stdout",
     "output_type": "stream",
     "text": [
      "Bücherregal 6:\n",
      "Aufteilung mit 4 Figuren ist nicht möglich.\n"
     ]
    }
   ],
   "source": [
    "buecherregal(6)"
   ]
  },
  {
   "cell_type": "markdown",
   "id": "46638528-cd55-41f7-9ad9-526fe44c6507",
   "metadata": {},
   "source": [
    "<div style=\"page-break-after: always;\"></div>"
   ]
  },
  {
   "cell_type": "markdown",
   "id": "10e7a2b0-e33d-4c20-900f-1defd32a5190",
   "metadata": {},
   "source": [
    "### Quellcode"
   ]
  },
  {
   "cell_type": "code",
   "execution_count": 2,
   "id": "0bf389e0-4de0-4712-930b-73b37ccdd001",
   "metadata": {},
   "outputs": [],
   "source": [
    "def buecherregal(nr):\n",
    "    f = open('./beispieldaten/buecherregal'+str(nr)+'.txt')\n",
    "    \n",
    "    anz_figuren = int(f.readline())\n",
    "    anz_buecher = int(f.readline())\n",
    "    \n",
    "    buecher = []           # Liste mit den Büchern\n",
    "    \n",
    "    for i in range(anz_buecher):\n",
    "        buecher.append(int(f.readline()))\n",
    "    \n",
    "    buecher.sort()\n",
    "    \n",
    "    regal = []             # die Aufstellung von Büchern und Figuren\n",
    "    zaehl = 0              # Anzahl aufgestellter Figuren\n",
    "    print(f'Bücherregal {nr}:')\n",
    "    \n",
    "    i = 0                  # Anfang des Abschnitts\n",
    "    j = 0                  # aktuelles Buch\n",
    "    while j < len(buecher):                # solange noch nicht am Ende der Bücherliste\n",
    "        if buecher[j] - buecher[i] <= 30:  # passt aktuelles Buch noch in den Abschnitt?\n",
    "            regal.append(buecher[j])       # Buch in den Abschnitt\n",
    "        else:\n",
    "            regal.append('\\nFigur')          # Abschnittsende, setzen der Figur\n",
    "            regal.append(buecher[j])       # aktuelles Buch ist Beginn des nächsten Abschnitts\n",
    "            zaehl += 1                     # Erhöhe Anzahl aufgestellter Figuren\n",
    "            i = j          # Anfang des Abschnitts wird das aktuelle Buch\n",
    "        j = j + 1          # ein Buch weiter in der Liste\n",
    "    \n",
    "    \n",
    "    if zaehl <= anz_figuren:               # Anzahl verwendeter Figuren <= Anzahl verfügbare Figuren?\n",
    "        print(f'Aufteilung mit {anz_figuren} Figuren ist möglich.')\n",
    "        for x in regal:\n",
    "            print(x,end= ' ')\n",
    "    else:\n",
    "        print(f'Aufteilung mit {anz_figuren} Figuren ist nicht möglich.')"
   ]
  }
 ],
 "metadata": {
  "kernelspec": {
   "display_name": "Python 3 (ipykernel)",
   "language": "python",
   "name": "python3"
  },
  "language_info": {
   "codemirror_mode": {
    "name": "ipython",
    "version": 3
   },
   "file_extension": ".py",
   "mimetype": "text/x-python",
   "name": "python",
   "nbconvert_exporter": "python",
   "pygments_lexer": "ipython3",
   "version": "3.12.8"
  }
 },
 "nbformat": 4,
 "nbformat_minor": 5
}
