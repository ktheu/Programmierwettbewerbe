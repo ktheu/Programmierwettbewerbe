{
 "cells": [
  {
   "cell_type": "markdown",
   "id": "60df31e5-6fc0-4af3-b7b2-4bfe0dd1c628",
   "metadata": {},
   "source": [
    "# Junioraufgabe x: Aufgabentitel\n",
    "\n",
    "### Team-ID: 12345\n",
    "\n",
    "### Team-Name: MyTeam\n",
    "\n",
    "### Bearbeiter/-innen dieser Aufgabe: Lena Müller, Malte Riedberg\n",
    "\n",
    "Datum: 10. November 2017\n",
    "\n",
    "### Lösungsidee\n",
    "\n",
    "Hier sollen die wichtigsten Schritte beschrieben werden, die zur Lösung führen. \n",
    "Hier werden keine technische Details erläutert. Es dürfen aber, wenn es für die Beschreibung nützlich ist, \n",
    "abkürzende Variablennamen verwendet werden. \n",
    "\n",
    "### Umsetzung\n",
    "\n",
    "Die Lösungsidee wird in ein Programm der Sprache Python umgesetzt.\n",
    "Dann sollten der Programmablauf und die wichtigsten Funktionen erläutert werden.\n"
   ]
  },
  {
   "cell_type": "markdown",
   "id": "0fbdca29-28ec-4834-a34a-1f884d85db5a",
   "metadata": {},
   "source": [
    "### Beispiele\n",
    "\n",
    "\n",
    "Hier sollten die Ergebnisse für alle bwinf-Beispiele aufgelistet werden.\n",
    "Es wird immer gerne gesehen, wenn weitere eigene Beispiele angefügt werden. Die\n",
    "Ausgabe wird in dreifache Backticks eingeschlossen\n",
    "\n",
    "```\n",
    "Beispieldatei: beispiel0.txt\n",
    "Anzahl: 23\n",
    "```\n",
    "\n"
   ]
  },
  {
   "cell_type": "markdown",
   "id": "10e7a2b0-e33d-4c20-900f-1defd32a5190",
   "metadata": {},
   "source": [
    "### Quellcode"
   ]
  },
  {
   "cell_type": "code",
   "execution_count": null,
   "id": "0bf389e0-4de0-4712-930b-73b37ccdd001",
   "metadata": {},
   "outputs": [],
   "source": [
    "'''\n",
    "Das vollständige Programm\n",
    "'''"
   ]
  },
  {
   "cell_type": "code",
   "execution_count": null,
   "id": "90e124d4-f007-4f62-b7e5-68747e84c573",
   "metadata": {},
   "outputs": [],
   "source": []
  }
 ],
 "metadata": {
  "kernelspec": {
   "display_name": "Python 3 (ipykernel)",
   "language": "python",
   "name": "python3"
  },
  "language_info": {
   "codemirror_mode": {
    "name": "ipython",
    "version": 3
   },
   "file_extension": ".py",
   "mimetype": "text/x-python",
   "name": "python",
   "nbconvert_exporter": "python",
   "pygments_lexer": "ipython3",
   "version": "3.12.8"
  }
 },
 "nbformat": 4,
 "nbformat_minor": 5
}
