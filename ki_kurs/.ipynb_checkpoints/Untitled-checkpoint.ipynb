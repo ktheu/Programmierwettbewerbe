{
 "cells": [
  {
   "cell_type": "markdown",
   "id": "07c0a5f2-2631-4ce3-9237-507b889d11c0",
   "metadata": {},
   "source": [
    "Vorgegeben ist eine Klasse \"Punkt\" mit zwei Attributen: der x- und der y-Koordinate.\n",
    "\n",
    "Es gibt eine Elternklasse \"GeometrischeForm\" und zwei Kindklassen \"Quadrat\" und \"Kreis\", die von \"GeometrischeForm\" erben und diese Elternklasse somit erweitern. Deine Aufgabe ist es eine einfache Klassenhierarchie zu erstellen.\n",
    "\n",
    "Die Elternklasse enthält die Attribute \"farbe\" mit dem Standardwert \"rot\" und \"strichdicke\" mit dem Standardwert 1. Alle Kindklassen (Quadrat, Kreis,...) benötigen diese Attribute, daher werden sie an die Kindklassen weiter vererbt.\n",
    "\n",
    "Die Kindklasse \"Quadrat\" hat die zwei zusätzlichen Attribute \"mittelpunkt\" mit dem Standardwert None und \"kantenlänge\" mit dem Standardwert 1. None bedeutet einfach \"nichts\", d.h. unser Quadrat beginnt mit \"nichts\" als Mittelpunkt (d.h. es wurde einfach noch kein Mittelpunkt festgelegt).\n",
    "\n",
    "Die Kindklasse \"Kreis\" hat die zwei zusätzlichen Attribute \"mittelpunkt\" mit dem Standardwert None und \"radius\" mit dem Standardwert 1.\n",
    "\n",
    "Alle Attribute müssen in der \\_\\_init\\_\\_-Funktion übergeben werden.\n",
    "\n",
    "Lege jetzt ein Objekt vom Typ \"Quadrat\" und eines vom Typ \"Kreis\" an und vergebe Farbe, Strichdicke, Mittelpunkt und Kantenlänge bzw. Radius, wie du möchtest.\n",
    "\n",
    "Falls du nicht auf die Lösung kommst, kannst du dir diese mit dem Button ganz rechts im Code Block (Dokument) anzeigen lassen. Probiere es erstmal selbst!"
   ]
  },
  {
   "cell_type": "code",
   "execution_count": null,
   "id": "f9acc605-b77b-464d-9409-b0e425f1018e",
   "metadata": {},
   "outputs": [],
   "source": [
    "# die Klasse 'Punkt' ist vorgegeben\n",
    "class Punkt:\n",
    "\n",
    "    # __init__-Funktion\n",
    "    def __init__(self, x=0, y=0):\n",
    "        self.x = x\n",
    "        self.y = y\n",
    "\n",
    "    # gebe eine Repräsentation der Klasse als Zeichenkette zurück\n",
    "    # diese Methode ist wie die'__str()__'-Methode\n",
    "    def __repr__(self):\n",
    "        return \"Punkt[x=\" + str(self.x) + \", y=\" + str(self.y) + \"]\"\n",
    "\n",
    "\n",
    "# die Elternklasse 'GeometrischeForm'\n",
    "class GeometrischeForm:\n",
    "    def __init__(self,farbe = 'rot', strichdicke=1):\n",
    "        self.farbe = farbe\n",
    "        self.strichdicke = strichdicke\n",
    "        \n",
    "class Quadrat(GeometrischeForm):\n",
    "    def __init__(self,farbe = 'rot', strichdicke=1, mittelpunkt = None, kantenlänge = 1):\n",
    "        GeometrischeForm.__init__(self,farbe,strichdicke)\n",
    "        self.mittelpunkt = mittelpunkt\n",
    "        self.kantenlänge = kantenlänge\n",
    "        \n",
    "class Kreis(GeometrischeForm):\n",
    "    def __init__(self,farbe = 'rot', strichdicke=1, mittelpunkt = None, radius = 1):\n",
    "        Kreis.__init__(self,farbe,strichdicke)\n",
    "        self.mittelpunkt = mittelpunkt\n",
    "        self.radius = radius\n",
    "        \n",
    "# Attribute\n",
    "# ....\n",
    "\n",
    "# __init__-Funktion\n",
    "# ....\n",
    "\n",
    "# die Kindklasse 'Quadrat' erbt von der Elternklasse 'GeometrischeForm'\n",
    "# ....\n",
    "\n",
    "# die Kindklasse 'Kreis' erbt von der Elternklasse 'GeometrischeForm'\n",
    "# ....\n",
    "\n",
    "# erstelle Objekte der Klassen und gebe sie aus\n",
    "\n",
    "quadrat = Quadrat(\"blau\", 2, Punkt(3, 4), 5)\n",
    "print(quadrat.__dict__)\n",
    "#kreis = Kreis(\"blau\", 6, Punkt(7, 8), 9)\n",
    "#print(kreis.__dict__)"
   ]
  },
  {
   "cell_type": "code",
   "execution_count": null,
   "id": "9aff74ec-80fa-430d-be2e-c7bc0ccd0c56",
   "metadata": {},
   "outputs": [],
   "source": []
  },
  {
   "cell_type": "code",
   "execution_count": null,
   "id": "7d2e5057-f4f7-4012-ab3b-0d09b45bf86f",
   "metadata": {},
   "outputs": [],
   "source": []
  }
 ],
 "metadata": {
  "kernelspec": {
   "display_name": "Python 3",
   "language": "python",
   "name": "python3"
  },
  "language_info": {
   "codemirror_mode": {
    "name": "ipython",
    "version": 3
   },
   "file_extension": ".py",
   "mimetype": "text/x-python",
   "name": "python",
   "nbconvert_exporter": "python",
   "pygments_lexer": "ipython3",
   "version": "3.8.8"
  }
 },
 "nbformat": 4,
 "nbformat_minor": 5
}
