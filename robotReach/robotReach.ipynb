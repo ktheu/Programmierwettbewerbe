{
 "cells": [
  {
   "cell_type": "markdown",
   "id": "7b712a53-eca9-48ba-a56a-775dfe669b35",
   "metadata": {},
   "source": [
    "### Robot Reach\n",
    "\n",
    "Codingame puzzle: https://www.codingame.com/ide/puzzle/robot-reach"
   ]
  },
  {
   "cell_type": "code",
   "execution_count": 117,
   "id": "2ec58834-e49a-4a6f-9789-de8437b35854",
   "metadata": {},
   "outputs": [],
   "source": [
    "def makeGrid(rows, cols, threshold):\n",
    "    '''\n",
    "    rows, cols: Anzahl Zeilen, Spalte eines Grids\n",
    "    An des Stelle (x,y) des Grids steht True, falls die Summe der Ziffern von x und y <= threshold\n",
    "    \n",
    "    >>> makeGrid(3,3,1)\n",
    "    [[True, True, False], [True, False, False], [False, False, False]]\n",
    "   \n",
    "    >>> makeGrid(12,3,3)     #doctest: +NORMALIZE_WHITESPACE\n",
    "    [[True, True, True],\n",
    "     [True, True, True],\n",
    "     [True, True, False],\n",
    "     [True, False, False],\n",
    "     [False, False, False],\n",
    "     [False, False, False],\n",
    "     [False, False, False],\n",
    "     [False, False, False],\n",
    "     [False, False, False],\n",
    "     [False, False, False],\n",
    "     [True, True, True],\n",
    "     [True, True, False]]\n",
    "   \n",
    "    '''\n",
    "    pass\n"
   ]
  },
  {
   "cell_type": "code",
   "execution_count": null,
   "id": "800835bc-7a8d-4aa8-b49b-f9103748ba06",
   "metadata": {},
   "outputs": [],
   "source": [
    "import doctest\n",
    "doctest.run_docstring_examples(makeGrid,globals())"
   ]
  },
  {
   "cell_type": "code",
   "execution_count": 116,
   "id": "ccbc6023-e5cf-4d00-a221-0959f113c6af",
   "metadata": {},
   "outputs": [],
   "source": [
    "def nb(grid,x,y):\n",
    "    '''\n",
    "    grid mit den Werten True, False\n",
    "    returns: Liste mit Nachbarpositionen von (x,y), an denen True steht.\n",
    "    Nachbarn sind die horizontal und vertikal angrenzenden Zellen des grids.\n",
    "    \n",
    "    >>> grid = makeGrid(3,3,1)\n",
    "    >>> x = nb(grid,0,0)\n",
    "    >>> sorted(x)                        # sortieren nur für den doc-test\n",
    "    [(0, 1), (1, 0)]\n",
    "    \n",
    "    >> grid = makeGrid(12,3,3)\n",
    "    >> x = nb(grid,10,1)\n",
    "    [(10, 0), (10, 2), (11, 1)]\n",
    "    \n",
    "    '''\n",
    "    pass"
   ]
  },
  {
   "cell_type": "code",
   "execution_count": 112,
   "id": "e4b4df9f-9bbe-4481-b3f3-77312d5152d2",
   "metadata": {},
   "outputs": [],
   "source": [
    "import doctest\n",
    "doctest.run_docstring_examples(nb,globals())"
   ]
  },
  {
   "cell_type": "code",
   "execution_count": 115,
   "id": "cd2604e2-e501-4f92-88c9-69a690c5a55a",
   "metadata": {},
   "outputs": [],
   "source": [
    "def erreichbar(grid,x,y,visited=set()):\n",
    "    '''\n",
    "    grid: Grid mit True/False Werten\n",
    "    x,y : Position im grid\n",
    "    visited: set mit den schon besuchten zellen.\n",
    "    \n",
    "    von eine Position x1,y1 aus können horizontale oder vertikale Nachbarzellen besucht werden, falls\n",
    "    diese True enthalten.\n",
    "    Von x,y aus sind alle diejenigen Zellen erreichbar, die in mehreren Schritten besucht werden können.\n",
    "         \n",
    "    returns: set mit den erreichbaren Zellkoordinaten\n",
    "    \n",
    "    >>> grid = makeGrid(12,3,3)\n",
    "    >>> x = erreichbar(grid,0,0)\n",
    "    >>> sorted(x)\n",
    "    [(0, 0), (0, 1), (0, 2), (1, 0), (1, 1), (1, 2), (2, 0), (2, 1), (3, 0)]\n",
    "    \n",
    "    '''\n",
    "    pass\n",
    "\n"
   ]
  },
  {
   "cell_type": "code",
   "execution_count": 114,
   "id": "33f1a29b-1fb2-485b-baef-f6478fe65070",
   "metadata": {},
   "outputs": [],
   "source": [
    "import doctest\n",
    "doctest.run_docstring_examples(erreichbar,globals())"
   ]
  }
 ],
 "metadata": {
  "kernelspec": {
   "display_name": "Python 3 (ipykernel)",
   "language": "python",
   "name": "python3"
  },
  "language_info": {
   "codemirror_mode": {
    "name": "ipython",
    "version": 3
   },
   "file_extension": ".py",
   "mimetype": "text/x-python",
   "name": "python",
   "nbconvert_exporter": "python",
   "pygments_lexer": "ipython3",
   "version": "3.10.6"
  }
 },
 "nbformat": 4,
 "nbformat_minor": 5
}
