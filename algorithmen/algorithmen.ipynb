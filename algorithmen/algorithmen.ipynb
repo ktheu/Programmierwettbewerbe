{
 "cells": [
  {
   "cell_type": "markdown",
   "id": "3636bb00-cd16-47ee-b38e-1cc043761882",
   "metadata": {},
   "source": [
    "## Algorithmen\n",
    "\n",
    "#### Zahlentheorie"
   ]
  },
  {
   "cell_type": "code",
   "execution_count": 1,
   "id": "b9fa1fc9-6f9f-4cc7-a45d-cb347ead5e46",
   "metadata": {},
   "outputs": [],
   "source": [
    "def ggt(a,b):\n",
    "    '''\n",
    "    a, b: positive ganze Zahlen\n",
    "    returns: größten gemeinsamen Teiler von a und b\n",
    "    '''\n",
    "    while b != 0:\n",
    "        a, b = b, a % b\n",
    "    return a"
   ]
  },
  {
   "cell_type": "code",
   "execution_count": 2,
   "id": "7b0e29f3-e239-4e22-8493-df3f73c46f6e",
   "metadata": {},
   "outputs": [],
   "source": [
    "def eratosthenes(n):\n",
    "    '''\n",
    "    n: positive ganze Zahl\n",
    "    returns: Liste mit allen Primzahlen <= n\n",
    "    '''\n",
    "    tmp = []\n",
    "    prim = [True] * (n+1)\n",
    "    for i in range(2,n+1):\n",
    "        if prim[i]:\n",
    "            tmp.append(i)\n",
    "            for j in range(i+i,n+1,i):\n",
    "                prim[j] = False\n",
    "    return tmp"
   ]
  },
  {
   "cell_type": "code",
   "execution_count": 8,
   "id": "0e37b1f5-e39d-407d-844b-5930d0632794",
   "metadata": {},
   "outputs": [],
   "source": [
    "def anzahlFaktoren(n):\n",
    "    '''\n",
    "    n: positive ganze Zahl\n",
    "    returns: Liste mit den Anzahl der Faktoren aller Zahlen <= n \n",
    "    '''\n",
    "    tmp = [1] * (n+1)\n",
    "    for i in range(2,n+1):\n",
    "        for j in range(i,n+1,i):\n",
    "            tmp[j]+=1\n",
    "    return tmp\n",
    "    "
   ]
  },
  {
   "cell_type": "markdown",
   "id": "eec9fdd6-dd40-4f15-9ec4-5733dbb4bf7a",
   "metadata": {},
   "source": [
    "#### Binäre Suche"
   ]
  },
  {
   "cell_type": "code",
   "execution_count": 24,
   "id": "81260baa-9643-4fbf-bf66-b3a2276684ed",
   "metadata": {},
   "outputs": [],
   "source": [
    "def binaereSuche(a, x):\n",
    "    '''\n",
    "    a: sortierte Liste mit Zahlen\n",
    "    x: Zahl\n",
    "    returns: Index von x in a, falls x in a\n",
    "             -1              , falls x nicht in a\n",
    "    '''\n",
    "    links = 0\n",
    "    rechts = len(a)-1\n",
    "    mitte = (links + rechts)//2\n",
    "    while links <= rechts and a[mitte] != x:\n",
    "        if a[mitte] < x:\n",
    "            links = mitte + 1\n",
    "        else:\n",
    "            rechts = mitte - 1\n",
    "        mitte = (links + rechts)//2\n",
    "\n",
    "    if links > rechts:\n",
    "        return -1\n",
    "    else:\n",
    "        return mitte"
   ]
  },
  {
   "cell_type": "markdown",
   "id": "e89c504b-4023-4ef2-9f0c-8842588c6db7",
   "metadata": {},
   "source": [
    "#### Bfs \n",
    "\n",
    "Wir modellieren ein state als ein Tuple."
   ]
  },
  {
   "cell_type": "code",
   "execution_count": 30,
   "id": "66c6818e-e21e-423c-a997-c50fc466415e",
   "metadata": {},
   "outputs": [],
   "source": [
    "from collections import deque\n",
    "def bfs(startstate):\n",
    "    frontier =  deque([startstate])\n",
    "    prev = {startstate:None}\n",
    "    while frontier:\n",
    "        state = frontier.popleft()\n",
    "        if goaltest(state):\n",
    "            return prev, state\n",
    "        for v in nextstates(state):\n",
    "            if v not in prev:\n",
    "                frontier.append(v)\n",
    "                prev[v] = state\n",
    "    return None, None\n",
    "\n",
    "def reconstructPath(prev,goalstate):\n",
    "    state = goalstate\n",
    "    path = []\n",
    "    while state is not None:\n",
    "        path.append(state)\n",
    "        state = prev[state]\n",
    "    path.reverse()\n",
    "    return path\n",
    "\n",
    "def goaltest(state):\n",
    "    '''\n",
    "    returns: True, wenn state ein goalstate ist\n",
    "    '''\n",
    "    pass\n",
    "\n",
    "def nextstates(state):\n",
    "    '''\n",
    "    returns: Liste mit den Folgestates von state\n",
    "    '''\n",
    "    pass\n",
    "\n",
    "\n",
    "# Aufruf:\n",
    "# startstate = (.......)\n",
    "# prev, goalstate = bfs(startstate)           # oder dfs, greedy, astar\n",
    "# path = reconstructPath(prev, goalstate)\n",
    "    "
   ]
  },
  {
   "cell_type": "markdown",
   "id": "7bf45559-949d-4f47-8918-49c9e0a4ed3a",
   "metadata": {},
   "source": [
    "#### Dfs"
   ]
  },
  {
   "cell_type": "code",
   "execution_count": 28,
   "id": "91490438-a112-48c3-89ac-006f15379c35",
   "metadata": {},
   "outputs": [],
   "source": [
    "def dfs(startstate):\n",
    "    frontier =  [startstate]\n",
    "    prev = {startstate:None}\n",
    "    while frontier:\n",
    "        state = frontier.pop()  \n",
    "        if goaltest(state):\n",
    "            return prev, state\n",
    "        for v in nextstates(state) :\n",
    "            if v not in prev:\n",
    "                frontier.append(v)\n",
    "                prev[v] = state\n",
    "    return None, None"
   ]
  },
  {
   "cell_type": "markdown",
   "id": "03ff416f-8e8d-4e35-9975-659e1fbe6006",
   "metadata": {},
   "source": [
    "#### Greedy mit Heuristik"
   ]
  },
  {
   "cell_type": "code",
   "execution_count": 29,
   "id": "a223b341-2441-463c-8e6d-6da5f832f188",
   "metadata": {},
   "outputs": [],
   "source": [
    "def h(state):\n",
    "    ''' Heuristik: je kleiner der Wert, desto näher am Ziel '''\n",
    "    pass\n",
    "\n",
    "from heapq import heappop, heappush\n",
    "def greedy(startstate):\n",
    "    frontier =[(h(startstate),startstate)]  \n",
    "    prev = {startstate:None}\n",
    "    while frontier:\n",
    "        _ ,state = heappop(frontier)  \n",
    "        if goaltest(state):\n",
    "            return prev,state\n",
    "        for v in nextstates(state):\n",
    "            if v not in prev:\n",
    "                heappush(frontier,(h(v),v))\n",
    "                prev[v] = state\n",
    "    return None, None"
   ]
  },
  {
   "cell_type": "markdown",
   "id": "aad01a56-f327-4bcb-9c1a-cb2f38df4a38",
   "metadata": {},
   "source": [
    "#### Astar"
   ]
  },
  {
   "cell_type": "code",
   "execution_count": 31,
   "id": "99401ffe-5484-4131-b5ab-baff971f27a4",
   "metadata": {},
   "outputs": [],
   "source": [
    "def h(state):\n",
    "    ''' Heuristik: je kleiner der Wert, desto näher am Ziel '''\n",
    "    pass\n",
    "\n",
    "from heapq import heappop, heappush\n",
    "def astar(s):\n",
    "    frontier =[(h(s),s)]  \n",
    "    prev = {s:None}\n",
    "    g = {s:0}                         # backword costs: hier die Anzahl Züge\n",
    "    while frontier:\n",
    "        _ ,state = heappop(frontier)  # die Kosten braucht man an der Stelle nicht\n",
    "        if goaltest(state):\n",
    "            return prev,state\n",
    "        for v in nextstates(state):\n",
    "            gg = g[state] + 1\n",
    "            if v not in prev or gg < g[v]:\n",
    "                g[v] = gg\n",
    "                heappush(frontier,(g[v]+h(v),v))\n",
    "                prev[v] = state\n",
    "    return None, None"
   ]
  },
  {
   "cell_type": "markdown",
   "id": "d8353fd5-136c-48c6-81de-c19843ffb307",
   "metadata": {},
   "source": [
    "#### Backtracking\n",
    "\n",
    "x ist ein Lösungsvektor, d.h. eine Liste von Entscheidungen, die getroffen wurden auf der Suche\n",
    "nach einer Lösung."
   ]
  },
  {
   "cell_type": "code",
   "execution_count": null,
   "id": "c595b4ce-69e2-4ac7-9f17-db6ac802bf57",
   "metadata": {},
   "outputs": [],
   "source": [
    "def back(x):\n",
    "    global solutions\n",
    "    if isSolution(x):\n",
    "        solutions.append(x.copy())\n",
    "    else:\n",
    "        for cand in candidates(x):\n",
    "            if isGood(cand,x):\n",
    "                x.append(cand)\n",
    "                back(x)\n",
    "                x.pop()\n",
    "                \n",
    "def isSolution(x):\n",
    "    '''\n",
    "    returns: True, wenn der Lösungsvektor x eine Lösung darstellt\n",
    "    '''\n",
    "    pass\n",
    "\n",
    "def candidates(x):\n",
    "    '''\n",
    "    returns: Liste von Entscheidungen, die den Lösungsvektor x um eine Stufe erweitern\n",
    "    '''\n",
    "    pass\n",
    "\n",
    "def isGood(cand, x):\n",
    "    '''\n",
    "    returns: True, wenn die Entscheidung cand den Lösungsvektor x sinnvoll erweitert.\n",
    "    '''\n",
    "               \n",
    "solutions = []\n",
    "back([])"
   ]
  },
  {
   "cell_type": "markdown",
   "id": "b22d4402-9a6a-4d38-b33c-08951773da4d",
   "metadata": {},
   "source": [
    "#### Memoization\n",
    "\n",
    "Am Beispiel der Fibonacci-Zahlen. Das dict memo wird hier als globale Variable gehalten."
   ]
  },
  {
   "cell_type": "code",
   "execution_count": 32,
   "id": "79902a98-0143-4f64-94bb-42ce0cdcbebe",
   "metadata": {},
   "outputs": [
    {
     "data": {
      "text/plain": [
       "5358359254990966640871840"
      ]
     },
     "execution_count": 32,
     "metadata": {},
     "output_type": "execute_result"
    }
   ],
   "source": [
    "def fib(n):\n",
    "    if n in memo: return memo[n]\n",
    "    if n <= 2: \n",
    "        result = 1\n",
    "    else:\n",
    "        result = fib(n-2) + fib(n-1)\n",
    "    memo[n] = result\n",
    "    return result\n",
    "\n",
    "memo = {}\n",
    "fib(120)"
   ]
  },
  {
   "cell_type": "markdown",
   "id": "16fe402c-ac93-44ba-af7b-4f08f0cc6839",
   "metadata": {},
   "source": [
    "#### Floyd-Warshall"
   ]
  },
  {
   "cell_type": "code",
   "execution_count": 34,
   "id": "fad96a7e-bfc5-4f96-955c-d9b37c12d4db",
   "metadata": {},
   "outputs": [
    {
     "name": "stdout",
     "output_type": "stream",
     "text": [
      "Gegebenen Kostenmatrix:\n",
      "0   8   2   .   \n",
      ".   0   .   4   \n",
      ".   1   0   6   \n",
      ".   2   .   0   \n",
      "\n",
      "Errechnete Distanzmatrix:\n",
      "0   3   2   7   \n",
      ".   0   .   4   \n",
      ".   1   0   5   \n",
      ".   2   .   0   \n",
      "\n",
      "Errechnete Wegematrix:\n",
      "0   2   0   1   \n",
      "1   1   1   1   \n",
      "2   2   2   1   \n",
      "3   3   3   3   \n",
      "\n",
      "Kürzester Weg von a nach b\n",
      "a - c - b\n",
      "Kosten = 3\n"
     ]
    }
   ],
   "source": [
    "def floyd(c):\n",
    "    ''' \n",
    "    c: Kostenmatrix\n",
    "    returns: d, p - Distanzmatrix und Wegematrix mit dem Vorgänger des kürzesten Wegs \n",
    "    '''\n",
    "    n = len(c)\n",
    "    d = [[0]*n for j in range(n)]   # Matrix D\n",
    "    p = [[0]*n for j in range(n)]   # Matrix P\n",
    "    for i in range(n):\n",
    "        for j in range(n):\n",
    "            d[i][j] = c[i][j]\n",
    "            p[i][j] = i\n",
    "\n",
    "    for k in range(n):\n",
    "        for i in range(n):\n",
    "            for j in range(n):\n",
    "                tmp = d[i][k] + d[k][j]\n",
    "                if tmp < d[i][j]:\n",
    "                    d[i][j] = tmp\n",
    "                    p[i][j] = p[k][j]\n",
    "    return d, p\n",
    "\n",
    "def getPath(p, i, j):\n",
    "    if i == j: return chr(i+97)\n",
    "    return getPath(p,i,p[i][j]) + ' - ' + chr(j+97)\n",
    "\n",
    "def printMatrix(a):\n",
    "    for i in range(len(a)):\n",
    "        for j in range(len(a)):\n",
    "            if a[i][j] == inf:\n",
    "                print(\"{:4}\".format(\".\"),end='')\n",
    "            else:\n",
    "                print(\"{:<4}\".format(a[i][j]),end='')\n",
    "        print()\n",
    "    print()\n",
    "\n",
    "inf = float('inf')\n",
    "G = [[0,   8,   2, inf],\n",
    "     [inf, 0, inf,   4],\n",
    "     [inf, 1,   0,   6],\n",
    "     [inf, 2, inf,   0]]\n",
    "\n",
    "d, p = floyd(G)\n",
    "\n",
    "print(\"Gegebenen Kostenmatrix:\")\n",
    "printMatrix(G)\n",
    "\n",
    "print(\"Errechnete Distanzmatrix:\")\n",
    "printMatrix(d)\n",
    "\n",
    "print(\"Errechnete Wegematrix:\")\n",
    "printMatrix(p)\n",
    "\n",
    "v, w = 'a','b'        # Start und Zielknoten\n",
    "vi, wi = ord(v)-ord('a'), ord(w)-ord('a')   # Index von Start und Zielknoten\n",
    "print(\"Kürzester Weg von\",v,\"nach\",w)\n",
    "print(getPath(p,vi,wi))\n",
    "print(\"Kosten =\",d[vi][wi])"
   ]
  },
  {
   "cell_type": "markdown",
   "id": "49448a84-fac7-4818-a2a9-02ebfe959cff",
   "metadata": {},
   "source": [
    "#### Erreichbarkeit in einem Graphen\n"
   ]
  },
  {
   "cell_type": "code",
   "execution_count": 44,
   "id": "ab2f9a24-b725-434e-b24a-9c73368222de",
   "metadata": {},
   "outputs": [],
   "source": [
    "def erreichbar(G, v0):\n",
    "    ''' returns: Liste mit den Knoten, die vom Knoten v0 in G erreichbar sind '''\n",
    "    visited =  {v : False for v in G}       \n",
    "    def explore(v):  \n",
    "        visited[v] = True\n",
    "        for w in G[v]:\n",
    "            if not visited[w]:\n",
    "                explore(w) \n",
    "    explore(v0)\n",
    "    result = [v for v in G if visited[v]]    \n",
    "    return result\n",
    "    "
   ]
  },
  {
   "cell_type": "code",
   "execution_count": 45,
   "id": "3797264b-a251-43cf-b727-8af1b865d969",
   "metadata": {},
   "outputs": [
    {
     "data": {
      "text/plain": [
       "['b', 'c', 'd']"
      ]
     },
     "execution_count": 45,
     "metadata": {},
     "output_type": "execute_result"
    }
   ],
   "source": [
    "G = {'a':set('bc'),\n",
    "     'b':set('d'), \n",
    "     'c':set('bd'),\n",
    "     'd':set('b')}\n",
    "\n",
    "erreichbar(G, 'c')"
   ]
  },
  {
   "cell_type": "markdown",
   "id": "40279c26-7cd1-49cc-817e-1ad22b253236",
   "metadata": {},
   "source": [
    "#### Zusammenhangskomponenten in einem ungerichteten Graphen"
   ]
  },
  {
   "cell_type": "code",
   "execution_count": 49,
   "id": "f5954ec5-edb3-4b9b-9b30-2738da71622c",
   "metadata": {},
   "outputs": [],
   "source": [
    "def zusammenhangU(G):\n",
    "    def explore(v):\n",
    "        visited[v] = True\n",
    "        ccnum[v] = cc\n",
    "        for w in G[v]:\n",
    "            if not visited[w]:\n",
    "                explore(w)\n",
    "\n",
    "    visited = {v : False for v in G}\n",
    "    ccnum = {v : 0 for v in G}     # connected component nr von v\n",
    "    cc = 1                         # aktuelle connected component nr\n",
    "    for v in G:\n",
    "        if not visited[v] :\n",
    "            explore(v)\n",
    "            cc+=1\n",
    "    result = []\n",
    "    for i in range(1,cc):\n",
    "        result.append([v for v in G if visited[v] and ccnum[v] == i])\n",
    "    return result"
   ]
  },
  {
   "cell_type": "code",
   "execution_count": 50,
   "id": "6cf9d208-77fc-4886-81cb-1294d53ad1f9",
   "metadata": {},
   "outputs": [
    {
     "data": {
      "text/plain": [
       "[['a', 'b', 'e', 'f'], ['c', 'd']]"
      ]
     },
     "execution_count": 50,
     "metadata": {},
     "output_type": "execute_result"
    }
   ],
   "source": [
    "G = {\n",
    "    'a': set('e'),\n",
    "    'b': set('e'),\n",
    "    'c': set('d'),\n",
    "    'd': set('c'),\n",
    "    'e': set('abf'),\n",
    "    'f': set('e')\n",
    "}\n",
    "zusammenhangU(G)"
   ]
  },
  {
   "cell_type": "markdown",
   "id": "547b6537-68ac-4cab-ae4f-823196e95545",
   "metadata": {},
   "source": [
    "#### Topologische Sortierung\n",
    "\n",
    "Ab Python 3.9 gibt es im Modul graphlib eine fertige Implementation. Als Eingabe wird ein dictionary mit\n",
    "den Vorgängern der Knoten erwartet."
   ]
  },
  {
   "cell_type": "code",
   "execution_count": 22,
   "id": "a7dd8892-4adb-41cd-9379-b3c146ee9ff7",
   "metadata": {},
   "outputs": [
    {
     "data": {
      "text/plain": [
       "['a', 'c', 'b', 'e', 'd', 'f', 'g']"
      ]
     },
     "execution_count": 22,
     "metadata": {},
     "output_type": "execute_result"
    }
   ],
   "source": [
    "def getInverse(G):\n",
    "    m = dict()\n",
    "    for k,vv in G.items():\n",
    "        for v in vv:\n",
    "            if v not in m:\n",
    "                m[v] = {k}\n",
    "            else:\n",
    "                m[v].add(k)\n",
    "    return m\n",
    "    \n",
    "\n",
    "G = {\n",
    "'a': set('b'),\n",
    "'b': set('de'),\n",
    "'c': set('b'),\n",
    "'d': set('g'),\n",
    "'e': set('f'),\n",
    "'f': set('g'),\n",
    "'g': set()\n",
    "}\n",
    "\n",
    "from graphlib import TopologicalSorter\n",
    "ts = TopologicalSorter(getInverse(G))\n",
    "list(ts.static_order())   "
   ]
  },
  {
   "cell_type": "code",
   "execution_count": 43,
   "id": "2ed6c3e7-11dc-4417-9772-6a3811f512b5",
   "metadata": {},
   "outputs": [
    {
     "data": {
      "text/plain": [
       "['c', 'a', 'b', 'd', 'e', 'f', 'g']"
      ]
     },
     "execution_count": 43,
     "metadata": {},
     "output_type": "execute_result"
    }
   ],
   "source": [
    "G = {\n",
    "'a': set('b'),\n",
    "'b': set('de'),\n",
    "'c': set('b'),\n",
    "'d': set('g'),\n",
    "'e': set('f'),\n",
    "'f': set('g'),\n",
    "'g': set()\n",
    "}\n",
    "\n",
    "def topoSort(G):\n",
    "    global counter         \n",
    "    counter = 1        # eine Variable im global scope definieren\n",
    "    def explore(v):\n",
    "        global counter\n",
    "        visited[v] = True\n",
    "        for w in G[v]:\n",
    "            if not visited[w]:\n",
    "                explore(w)\n",
    "        postvisit[v] = counter\n",
    "        counter += 1\n",
    "\n",
    "    visited = {v : False for v in G}\n",
    "    postvisit = {v : 0 for v in G}\n",
    "\n",
    "    for v in G:\n",
    "        if not visited[v] :\n",
    "            explore(v)\n",
    "\n",
    "    return sorted(G.keys(),key=lambda v: postvisit[v],reverse = True)\n",
    " \n",
    "\n",
    "topoSort(G)"
   ]
  },
  {
   "cell_type": "markdown",
   "id": "bee08c64-0427-45c0-b9e8-bdbaaf1b4c46",
   "metadata": {},
   "source": [
    "#### Kürzeste Wege: BFS\n",
    "\n",
    "Kürzeste Wege in einem ungewichteten Graphen mit bfs"
   ]
  },
  {
   "cell_type": "code",
   "execution_count": 54,
   "id": "5565188b-e7a5-4483-a030-aaf0846a363b",
   "metadata": {},
   "outputs": [
    {
     "data": {
      "text/plain": [
       "['s', 'a', 'b', 'h']"
      ]
     },
     "execution_count": 54,
     "metadata": {},
     "output_type": "execute_result"
    }
   ],
   "source": [
    "from collections import deque\n",
    "\n",
    "G = {\n",
    "'a': set('sb'),\n",
    "'b': set('acgh'),\n",
    "'c': set('bs'),\n",
    "'d': set('sef'),\n",
    "'e': set('sd'),\n",
    "'f': set('dg'),\n",
    "'g': set('bfh'),\n",
    "'h': set('bg'),\n",
    "'s': set('acde')\n",
    "}\n",
    "\n",
    "\n",
    "\n",
    "def kuerzesterWeg_bfs(G, von, bis):\n",
    "    \n",
    "    def reconstructPath(prev, von, bis):\n",
    "        path = []\n",
    "        while bis != von:\n",
    "            path.append(bis)\n",
    "            bis = prev[bis]\n",
    "        path.append(von)\n",
    "        path.reverse()\n",
    "        return path\n",
    "\n",
    "    inf = float('inf')\n",
    "    dist = {v:inf for v in G}\n",
    "    prev = {v:None for v in G}\n",
    "    \n",
    "    dist[von] = 0\n",
    "    Q = deque([von])          \n",
    "    while Q:\n",
    "        u = Q.popleft()\n",
    "        for v in G[u]:     \n",
    "            if dist[v] == inf:\n",
    "                Q.append(v)\n",
    "                dist[v] = dist[u]+1\n",
    "                prev[v] = u\n",
    "    \n",
    "    return reconstructPath(prev, von, bis)\n",
    "    \n",
    "    \n",
    "kuerzesterWeg_bfs(G, 's','h')\n"
   ]
  },
  {
   "cell_type": "markdown",
   "id": "21d145d9-32f6-4c66-9fde-8a267f1ee0c9",
   "metadata": {},
   "source": [
    "#### Kürzeste Wege: Dijkstra\n",
    "\n",
    "Kürzeste Wege in einem gewichteten Graphen ohne negative Gewichte:"
   ]
  },
  {
   "cell_type": "code",
   "execution_count": 58,
   "id": "0af2e8f8-a837-44c7-9f25-62879863a289",
   "metadata": {},
   "outputs": [
    {
     "data": {
      "text/plain": [
       "{'a': ['a'],\n",
       " 'b': ['a', 'b'],\n",
       " 'c': ['a', 'b', 'c'],\n",
       " 'd': ['a', 'b', 'c', 'd'],\n",
       " 'e': ['a', 'b', 'c', 'd', 'e'],\n",
       " 'f': ['a', 'b', 'c', 'd', 'e', 'f']}"
      ]
     },
     "execution_count": 58,
     "metadata": {},
     "output_type": "execute_result"
    }
   ],
   "source": [
    "G = {\n",
    "'a': {'b':2, 'c':9},\n",
    "'b': {'c':5, 'd':13},\n",
    "'c': {'d':6, 'e':9},\n",
    "'d': {'e':1, 'f':5},\n",
    "'e': {'f':2},\n",
    "'f': {}\n",
    "}\n",
    "\n",
    "from heapq import heapify, heappop, heappush\n",
    "\n",
    "def dijkstra(G, s):\n",
    "    \n",
    "    def reconstructPath(prev, von, bis):\n",
    "        path = []\n",
    "        while bis != von:\n",
    "            path.append(bis)\n",
    "            bis = prev[bis]\n",
    "        path.append(von)\n",
    "        path.reverse()\n",
    "        return path\n",
    "\n",
    "    inf = float('inf')\n",
    "    dist = {v:inf for v in G}\n",
    "    prev = {v:None for v in G}\n",
    "\n",
    "    dist[s] = 0\n",
    "    endgueltig = set()    \n",
    "\n",
    "    vorlaeufig = [(dist[v],v) for v in G]\n",
    "    heapify(vorlaeufig)\n",
    "    \n",
    "    while vorlaeufig:\n",
    "        _, u = heappop(vorlaeufig)\n",
    "        if u in endgueltig: continue\n",
    "        endgueltig.add(u)\n",
    "        for v in G[u]:\n",
    "            if dist[v] > dist[u] + G[u][v]:\n",
    "                dist[v] = dist[u] + G[u][v]\n",
    "                prev[v] = u\n",
    "                heappush(vorlaeufig,(dist[v],v))\n",
    "    \n",
    "    return {bis: reconstructPath(prev, s, bis) for bis in G} \n",
    "\n",
    "dijkstra(G, 'a')"
   ]
  },
  {
   "cell_type": "code",
   "execution_count": 61,
   "id": "51867c85-8ce9-493d-9a84-866dc49969d5",
   "metadata": {},
   "outputs": [
    {
     "name": "stdout",
     "output_type": "stream",
     "text": [
      "Pfad von a nach e : a b c d e\n",
      "Distanz: 14\n"
     ]
    }
   ],
   "source": [
    "G = {\n",
    "'a': {'b':2, 'c':9},\n",
    "'b': {'c':5, 'd':13},\n",
    "'c': {'d':6, 'e':9},\n",
    "'d': {'e':1, 'f':5},\n",
    "'e': {'f':2},\n",
    "'f': {}\n",
    "}\n",
    "\n",
    "from heapq import heapify, heappop, heappush\n",
    "\n",
    "def reconstructPath(s,u,prev):\n",
    "    temp = []\n",
    "    while u != s:\n",
    "        temp.append(u)\n",
    "        u = prev[u]\n",
    "    temp.append(s)\n",
    "    temp.reverse()\n",
    "    return temp\n",
    "\n",
    "inf = float('inf')\n",
    "dist = {v:inf for v in G}\n",
    "prev = {v:None for v in G}\n",
    "\n",
    "s = 'a'         # startknoten\n",
    "dist[s] = 0\n",
    "endgueltig = set()    \n",
    "\n",
    "vorlaeufig = [(dist[v],v) for v in G]\n",
    "heapify(vorlaeufig)\n",
    "\n",
    "while vorlaeufig:\n",
    "    _, u = heappop(vorlaeufig)\n",
    "    if u in endgueltig: continue\n",
    "    endgueltig.add(u)\n",
    "    for v in G[u]:\n",
    "        if dist[v] > dist[u] + G[u][v]:\n",
    "            dist[v] = dist[u] + G[u][v]\n",
    "            prev[v] = u\n",
    "            heappush(vorlaeufig,(dist[v],v))\n",
    "ziel = 'e'\n",
    "print('Pfad von',s,'nach',ziel,':',*reconstructPath('a',ziel,prev))\n",
    "print('Distanz:',dist[ziel])"
   ]
  },
  {
   "cell_type": "code",
   "execution_count": null,
   "id": "79bdefd0-98cb-41f4-acad-c43c7ec650c6",
   "metadata": {},
   "outputs": [],
   "source": []
  }
 ],
 "metadata": {
  "kernelspec": {
   "display_name": "Python 3 (ipykernel)",
   "language": "python",
   "name": "python3"
  },
  "language_info": {
   "codemirror_mode": {
    "name": "ipython",
    "version": 3
   },
   "file_extension": ".py",
   "mimetype": "text/x-python",
   "name": "python",
   "nbconvert_exporter": "python",
   "pygments_lexer": "ipython3",
   "version": "3.10.6"
  }
 },
 "nbformat": 4,
 "nbformat_minor": 5
}
