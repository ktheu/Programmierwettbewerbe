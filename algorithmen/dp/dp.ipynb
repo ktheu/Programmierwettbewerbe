{
 "cells": [
  {
   "cell_type": "markdown",
   "id": "b92391be-7ae7-4789-91e8-405da2cdcc2f",
   "metadata": {},
   "source": [
    "## Dynamische Programmierung\n",
    "\n",
    "Dynamische Programmierung ist ein Programmiermuster ('program paradigm'), das häufig dazu dient, alle Lösungen eines Problems auf systematische und effiziente Weise zu bestimmen. Die Anwendungsfälle haben in der Regel die folgenden Eigenschaften:\n",
    "\n",
    "- overlapping subproblem: kleinere Problemgrößen werden wiederholt verwendet\n",
    "- optimal substructure: eine optimale Lösung kann mit den optimalen Lösungen der kleineren Teilprobleme ermittelt werden.\n",
    " "
   ]
  },
  {
   "cell_type": "markdown",
   "id": "4290af58-213b-44c4-9543-3e7bebce2f71",
   "metadata": {},
   "source": [
    "### Top-down und Bottom-up\n",
    "\n",
    "Es gibt zwei Möglichkeiten, einen DP Algorithmus zu implementieren:\n",
    "- Bottom-up mittels einer Tabelle (Tabulation)\n",
    "- Top-down mittels Rekursion und Memoization\n",
    "\n",
    "Die Bottom-up Methode ist meistens etwas schneller, die Top-down Methode ist meistens einfacher zu programmieren."
   ]
  },
  {
   "cell_type": "markdown",
   "id": "446332e8-0395-4a95-a2f8-2620093052e5",
   "metadata": {},
   "source": [
    "#### Fibonacci-Zahlen"
   ]
  },
  {
   "cell_type": "code",
   "execution_count": 6,
   "id": "d3b2598e-acf7-46ce-9374-6be8ef553eaf",
   "metadata": {},
   "outputs": [
    {
     "data": {
      "text/plain": [
       "6765"
      ]
     },
     "execution_count": 6,
     "metadata": {},
     "output_type": "execute_result"
    }
   ],
   "source": [
    "# Bottom-up\n",
    "def fib(n):\n",
    "    '''\n",
    "    n: positive ganze Zahl\n",
    "    returns: n-te Fibonacci Zahl\n",
    "    '''\n",
    "    if n <= 2: return 1\n",
    "    a,b = 1,1\n",
    "    for i in range(n-2):\n",
    "        c = a+b\n",
    "        a,b = b,c\n",
    "    return c\n",
    "\n",
    "fib(20)"
   ]
  },
  {
   "cell_type": "code",
   "execution_count": 9,
   "id": "93adb8b8-1f85-429d-bdce-8ed59937ab70",
   "metadata": {},
   "outputs": [
    {
     "data": {
      "text/plain": [
       "6765"
      ]
     },
     "execution_count": 9,
     "metadata": {},
     "output_type": "execute_result"
    }
   ],
   "source": [
    "# Top-Down mit globaler Variablen memo\n",
    "def fib(n):\n",
    "    '''\n",
    "    n: positive ganze Zahl\n",
    "    returns: n-te Fibonacci Zahl\n",
    "    '''\n",
    "    if n in memo: return memo[n]\n",
    "    if n <= 2: \n",
    "        result = 1\n",
    "    else:\n",
    "        result = fib(n-2) + fib(n-1)\n",
    "    memo[n] = result\n",
    "    return result\n",
    "\n",
    "memo = {}\n",
    "fib(20)"
   ]
  },
  {
   "cell_type": "markdown",
   "id": "b2642c12-ec22-4fbb-a819-1b93539d16e1",
   "metadata": {},
   "source": [
    "Wir können die globale Variable vermeiden, wenn wir das dict in den rekursiven Aufrufen mitgeben."
   ]
  },
  {
   "cell_type": "code",
   "execution_count": 63,
   "id": "943879b0-d096-4690-927d-8000ef86161c",
   "metadata": {},
   "outputs": [
    {
     "data": {
      "text/plain": [
       "5702887"
      ]
     },
     "execution_count": 63,
     "metadata": {},
     "output_type": "execute_result"
    }
   ],
   "source": [
    "# Top-Down ohne globale Variable\n",
    "def fib(n,memo={}):\n",
    "    '''\n",
    "    n: positive ganze Zahl\n",
    "    returns: n-te Fibonacci Zahl\n",
    "    '''\n",
    "    if n in memo: return memo[n]\n",
    "    if n <= 2: \n",
    "        result = 1\n",
    "    else:\n",
    "        result = fib(n-2,memo) + fib(n-1,memo)\n",
    "    memo[n] = result\n",
    "    return result\n",
    "\n",
    "fib(34)"
   ]
  },
  {
   "cell_type": "code",
   "execution_count": 66,
   "id": "fd6f33dd-971a-4ef3-84fb-9dfa0f543116",
   "metadata": {},
   "outputs": [
    {
     "data": {
      "text/plain": [
       "5702887"
      ]
     },
     "execution_count": 66,
     "metadata": {},
     "output_type": "execute_result"
    }
   ],
   "source": [
    "# Rekursion ohne Memoization wird ab 34 spürbar langsam\n",
    "# mit dem Dekorator lru-cache erfolgt eine automatische Memoization\n",
    "from functools import lru_cache\n",
    "\n",
    "@lru_cache\n",
    "def fib(n):\n",
    "    '''\n",
    "    n: positive ganze Zahl\n",
    "    returns: n-te Fibonacci Zahl\n",
    "    '''\n",
    "    if n <= 2: \n",
    "        result = 1\n",
    "    else:\n",
    "        result = fib(n-2) + fib(n-1)\n",
    "    return result\n",
    "\n",
    "fib(34)"
   ]
  },
  {
   "cell_type": "markdown",
   "id": "49f1eb42-406e-4d3e-9fe8-6b50f2bd20b6",
   "metadata": {},
   "source": [
    "### Wann dynamische Programmierung?\n",
    "\n",
    "Auch mit den beiden oben gegebenen Eigenschaften eines DP-Problems ist es nicht immer einfach zu entscheiden, ob ein Problem mit dynamischer Programmierung lösbar ist. Hier ein paar Hilfestellungen:\n",
    "\n",
    "1. Bei einem DP Problem wird häufig nach einem optimalen Wert gefragt, ein Minimum oder Maximum von etwas, oder nach der Anzahl von Möglichkeiten, etwas zu tun. Typische Fragestellungen:\n",
    "\n",
    "- Was sind die minimalen Kosten für ...\n",
    "- Welchen maximalen Gewinn kann man erzielen bei ...\n",
    "- Wieviele Arten gibt es, um ... zu tun\n",
    "- Was ist der längste Folge von ...\n",
    "- Ist es möglich,  ... zu erreichen\n",
    "\n",
    "2. Wenn wir uns eine Lösung als Folge von Entscheidungen vorstellen, hängen bei einem typischen DP-Problem zukünftige Entscheidungen von früheren Entscheidungen ab.\n",
    "\n",
    "Wenn eine Problemstellung diese beide Eigenschaften hat, lohnt es sich, einen DP-Ansatz zu versuchen."
   ]
  },
  {
   "cell_type": "markdown",
   "id": "c8230750-129a-4430-9311-f10e3abe16a3",
   "metadata": {},
   "source": [
    "#### House Robber\n",
    "\n",
    "Gegeben ist eine Liste von Zahlen, die die Wertsachen in einer Reihe von Häusern zeigen. Ein Räuber will möglichst viel erbeuten, darf aber in keine benachbarten Häuser einbrechen. Welches ist die maximal mögliche Beute?\n",
    "\n",
    "```\n",
    "Input: [2,7,9,3,1]\n",
    "Output: 12\n",
    "\n",
    "```"
   ]
  },
  {
   "cell_type": "code",
   "execution_count": 13,
   "id": "b5ba6dd1-4b36-4509-9fb8-1fdf05544eaf",
   "metadata": {},
   "outputs": [],
   "source": [
    "def rob(nums,i):\n",
    "    '''\n",
    "    returns: die maximale Beute, wenn nur bis einschließlich Index i geraubt werden darf.\n",
    "    '''\n",
    "    if i in memo:\n",
    "        return memo[i]\n",
    "    if i < 0:\n",
    "        result = 0\n",
    "    else:\n",
    "        result = max(rob(nums,i-1),rob(nums,i-2)+nums[i])\n",
    "    memo[i] = result\n",
    "    return result"
   ]
  },
  {
   "cell_type": "code",
   "execution_count": 14,
   "id": "6fb18f3e-f019-40ca-b3e2-7cc95572138c",
   "metadata": {},
   "outputs": [
    {
     "data": {
      "text/plain": [
       "12"
      ]
     },
     "execution_count": 14,
     "metadata": {},
     "output_type": "execute_result"
    }
   ],
   "source": [
    "memo = {}\n",
    "a = [2,7,9,3,1]\n",
    "rob(a,len(a)-1)"
   ]
  },
  {
   "cell_type": "markdown",
   "id": "2371b0a8-9775-404b-8079-aeb2501b6cd5",
   "metadata": {},
   "source": [
    "#### Min Cost Climbing Stairs\n",
    "\n",
    "Gegeben ist eine Liste *cost*, wobei *cost[i]* die Kosten dafür sind, die i-te Treppenstufe zu benutzen.\n",
    "Man kann entweder eine oder zwei Stufen nehmen und entweder von der Stufe mit Index 0 oder Index 1 beginnen. Finde die  minimalen Kosten, um die Treppe zu besteigen."
   ]
  },
  {
   "cell_type": "code",
   "execution_count": 22,
   "id": "6c06657b-03c4-42d3-971f-5e6284e6b851",
   "metadata": {},
   "outputs": [],
   "source": [
    "def stairs(cost,i):\n",
    "    '''\n",
    "    returns: die minimalen Kosten, um es bis zur Stufe i zu schaffen.\n",
    "    \n",
    "    '''\n",
    "    if i in memo:\n",
    "        return memo[i]\n",
    "    if i <= 1:\n",
    "        result = 0\n",
    "    else:\n",
    "        result = min(stairs(cost,i-2)+cost[i-2], stairs(cost,i-1)+cost[i-1])\n",
    "    memo[i] = result\n",
    "    return result"
   ]
  },
  {
   "cell_type": "code",
   "execution_count": 23,
   "id": "ce061500-9133-4144-9546-921d4f5ac4eb",
   "metadata": {},
   "outputs": [
    {
     "data": {
      "text/plain": [
       "15"
      ]
     },
     "execution_count": 23,
     "metadata": {},
     "output_type": "execute_result"
    }
   ],
   "source": [
    "memo = {}\n",
    "cost = [10,15,20]\n",
    "stairs(cost,len(cost))"
   ]
  },
  {
   "cell_type": "markdown",
   "id": "f65066d3-0668-4d21-a4f2-d151bf33a014",
   "metadata": {},
   "source": [
    "#### Tribonacci-Zahlen\n",
    "\n",
    "Die Tribonacci-Zahlen sind wie folgt definiert: <br>\n",
    "$T_0 = 0, T_1 = 1, T_2 = 1$ und $T_{n+3}=T_n+T_{n-1}+T_{n-2}$ <br>\n",
    "Schreibe eine Funktion, die die n-te Tribonacci-Zahl berechnet."
   ]
  },
  {
   "cell_type": "code",
   "execution_count": 30,
   "id": "edcb5b14-f70b-4112-b463-5b3be8935b46",
   "metadata": {},
   "outputs": [],
   "source": [
    "def tribonacci(n):\n",
    "    if n in memo:\n",
    "        return memo[n]\n",
    "    if n == 0:\n",
    "        result = 0\n",
    "    elif n <= 2: \n",
    "        result = 1\n",
    "    else:\n",
    "        result = tribonacci(n-1)+tribonacci(n-2)+tribonacci(n-3)\n",
    "    memo[n] = result\n",
    "    return result"
   ]
  },
  {
   "cell_type": "code",
   "execution_count": 32,
   "id": "7f5f836b-aee6-4fd8-b406-e367ad7a9b13",
   "metadata": {},
   "outputs": [
    {
     "data": {
      "text/plain": [
       "3136"
      ]
     },
     "execution_count": 32,
     "metadata": {},
     "output_type": "execute_result"
    }
   ],
   "source": [
    "memo = {}\n",
    "tribonacci(15)"
   ]
  },
  {
   "cell_type": "markdown",
   "id": "99ff95be-0356-4ab5-bc45-75dd44516c41",
   "metadata": {},
   "source": [
    "#### Delete and Earn\n",
    "\n",
    "Gegeben sei eine Liste a. Berechne die maximal mögliche Punktzahl, wenn auf der Liste a beliebig oft folgende Operation durchgeführt wird:\n",
    "\n",
    "Wähle eine Zahl a[i] und lösche diese Zahl aus der Liste, um a[i]-Punkte zu gewinnen. Anschließend müssen aus der Liste nums noch alle Elemente gelöscht werden, die den gleichen Wert wie a[i]+1 und a[i]-1 haben.\n",
    "\n"
   ]
  },
  {
   "cell_type": "code",
   "execution_count": 58,
   "id": "8d4f1c5d-04d6-413f-b12d-e693405e2cd6",
   "metadata": {},
   "outputs": [
    {
     "data": {
      "text/plain": [
       "61"
      ]
     },
     "execution_count": 58,
     "metadata": {},
     "output_type": "execute_result"
    }
   ],
   "source": [
    "def earn(a, i):\n",
    "    '''\n",
    "    nums: sortierte Liste mit positiven Zahlen ohne doppeltes Vorkommen    \n",
    "    '''\n",
    "    if i in memo:\n",
    "        return memo[i]\n",
    "    if i == 0:\n",
    "        result = a[0]*counter[a[0]]\n",
    "    elif i == 1:\n",
    "        if a[0]+1<a[1]:\n",
    "            result = counter[a[0]]*a[0] + counter[a[1]]*a[1]\n",
    "        else:\n",
    "            result = max(counter[a[0]]*a[0],counter[a[1]]*a[1])\n",
    "    else:\n",
    "        if a[i-1] < a[i]-1:\n",
    "            result = earn(a,i-1) + counter[a[i]]*a[i]\n",
    "        else:\n",
    "            result = max(earn(a,i-2)+counter[a[i]]*a[i],earn(a,i-1))\n",
    "    memo[i] = result\n",
    "    return result\n",
    "        \n",
    "#\n",
    "# wir merken uns, wie häufig eine Zahl in der Ursprungsliste vorkommt, dann entfernen wir die mehrfachen\n",
    "# Elemente und sortieren die Liste.\n",
    "#\n",
    "from collections import Counter\n",
    "a = [8,3,4,7,6,6,9,2,5,8,2,4,9,5,9,1,5,7,1,4]\n",
    "counter = Counter(a)\n",
    "a = sorted(set(a))\n",
    "memo = {}\n",
    "earn(a,len(a)-1)            \n",
    " "
   ]
  }
 ],
 "metadata": {
  "kernelspec": {
   "display_name": "Python 3 (ipykernel)",
   "language": "python",
   "name": "python3"
  },
  "language_info": {
   "codemirror_mode": {
    "name": "ipython",
    "version": 3
   },
   "file_extension": ".py",
   "mimetype": "text/x-python",
   "name": "python",
   "nbconvert_exporter": "python",
   "pygments_lexer": "ipython3",
   "version": "3.9.12"
  }
 },
 "nbformat": 4,
 "nbformat_minor": 5
}
