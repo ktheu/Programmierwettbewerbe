{
 "cells": [
  {
   "cell_type": "markdown",
   "id": "ab81fcf0-fa10-4700-a7cc-46f107efc7e8",
   "metadata": {},
   "source": [
    "## Binäre Suche"
   ]
  },
  {
   "cell_type": "markdown",
   "id": "0e52d85f-e13e-4ff5-a15c-eae35b53690a",
   "metadata": {},
   "source": [
    "### Ein Zahl in einer sortierten Liste von Zahlen suchen"
   ]
  },
  {
   "cell_type": "code",
   "execution_count": 1,
   "id": "0a4f0796-cf73-4263-88d2-1f0510ab54ff",
   "metadata": {},
   "outputs": [],
   "source": [
    "def binaereSuche(a, x):\n",
    "    '''\n",
    "    a: sortierte Liste mit Zahlen\n",
    "    x: Zahl\n",
    "    returns: Index von x in a, falls x in a\n",
    "             -1              , falls x nicht in a\n",
    "    '''\n",
    "    links = 0\n",
    "    rechts = len(a)-1\n",
    "    mitte = (links + rechts)//2\n",
    "    while links <= rechts and a[mitte] != x:\n",
    "        if a[mitte] < x:\n",
    "            links = mitte + 1\n",
    "        else:\n",
    "            rechts = mitte - 1\n",
    "        mitte = (links + rechts)//2\n",
    "\n",
    "    if links > rechts:\n",
    "        return -1\n",
    "    else:\n",
    "        return mitte"
   ]
  },
  {
   "cell_type": "code",
   "execution_count": 2,
   "id": "36bcaf80-2167-43eb-a75a-cc6105fdea31",
   "metadata": {},
   "outputs": [
    {
     "data": {
      "text/plain": [
       "-1"
      ]
     },
     "execution_count": 2,
     "metadata": {},
     "output_type": "execute_result"
    }
   ],
   "source": [
    "a = []\n",
    "binaereSuche(a,3)"
   ]
  },
  {
   "cell_type": "markdown",
   "id": "4fc36c12-11fc-4b2a-a3d4-e0f698abdc37",
   "metadata": {},
   "source": [
    "### Ganzzahlige Wurzel"
   ]
  },
  {
   "cell_type": "code",
   "execution_count": 11,
   "id": "478da566-f1c5-460a-865b-a88acfd20417",
   "metadata": {},
   "outputs": [],
   "source": [
    "def wurzel(x):\n",
    "    '''\n",
    "    x: nicht negative Zahl\n",
    "    returns: ganzzahlige Wurzel, d.h. die größte ganze Zahl n, so dass n*n <= x\n",
    "    '''\n",
    "    links = 0\n",
    "    rechts = x\n",
    "    mitte = (links + rechts)//2\n",
    "     \n",
    "    while links <= rechts and mitte*mitte != x:\n",
    "        if int(mitte*mitte) < x:\n",
    "            links = mitte + 1\n",
    "        else:\n",
    "            rechts = mitte - 1\n",
    "        mitte = (links + rechts)//2\n",
    " \n",
    "    return mitte\n",
    "        "
   ]
  },
  {
   "cell_type": "code",
   "execution_count": 10,
   "id": "31d51773-f06f-49e5-b30b-9798c2d43ac6",
   "metadata": {},
   "outputs": [
    {
     "data": {
      "text/plain": [
       "19177"
      ]
     },
     "execution_count": 10,
     "metadata": {},
     "output_type": "execute_result"
    }
   ],
   "source": [
    "wurzel(367766660)"
   ]
  },
  {
   "cell_type": "markdown",
   "id": "d8f6b988-1a2a-4181-bf21-5fd51af2c646",
   "metadata": {},
   "source": [
    "### Rotierte Liste\n",
    "\n",
    "Eine sortierte Liste mit verschiedenen Zahlen wurde an einer unbekannten Stelle rotiert, d.h. ein Anfangsteil mit unbekannter Länge wurde vorne abgeschnitten und hinten angehängt. Finde den Index mit dem kleinsten Element.\n",
    "\n",
    "Wir suchen das Element, hinter dem es \"in den Abgrund geht\". Der Index des nächsten Elements ist dann der gesuchte Index.\n",
    "Bei einer sortierten Liste finden wir den Abgrund nicht, deswegen prüfen wir dies vorher ab."
   ]
  },
  {
   "cell_type": "code",
   "execution_count": 81,
   "id": "67d2188d-dd96-4bad-9ba8-92bc7478dd07",
   "metadata": {},
   "outputs": [],
   "source": [
    "def findRotateIndex(a):\n",
    "    if a[0] <= a[-1]:          # die Liste ist noch sortiert, = für Liste mit nur einem Element\n",
    "        return 0\n",
    "    links = 0\n",
    "    rechts = len(a)-1\n",
    "    while links <= rechts:\n",
    "        mitte = (links + rechts)//2\n",
    "        if a[mitte] > a[mitte + 1]:\n",
    "            return mitte + 1\n",
    "        else:\n",
    "            if a[mitte] > a[links]:\n",
    "                links = mitte + 1\n",
    "            else:\n",
    "                rechts = mitte - 1\n",
    "                "
   ]
  },
  {
   "cell_type": "code",
   "execution_count": 84,
   "id": "985d4134-8c0f-4993-8e13-d1e0c8e2c1aa",
   "metadata": {},
   "outputs": [
    {
     "data": {
      "text/plain": [
       "5"
      ]
     },
     "execution_count": 84,
     "metadata": {},
     "output_type": "execute_result"
    }
   ],
   "source": [
    "a = [4,5,6,7,8,1,2,3]\n",
    "findRotateIndex(a)"
   ]
  },
  {
   "cell_type": "code",
   "execution_count": null,
   "id": "39edd893-5c8c-487e-9d0e-2f1e9b55ce1e",
   "metadata": {},
   "outputs": [],
   "source": []
  }
 ],
 "metadata": {
  "kernelspec": {
   "display_name": "Python 3 (ipykernel)",
   "language": "python",
   "name": "python3"
  },
  "language_info": {
   "codemirror_mode": {
    "name": "ipython",
    "version": 3
   },
   "file_extension": ".py",
   "mimetype": "text/x-python",
   "name": "python",
   "nbconvert_exporter": "python",
   "pygments_lexer": "ipython3",
   "version": "3.9.12"
  }
 },
 "nbformat": 4,
 "nbformat_minor": 5
}
