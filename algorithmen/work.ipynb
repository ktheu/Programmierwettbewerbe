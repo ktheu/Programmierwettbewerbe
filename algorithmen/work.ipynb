{
 "cells": [
  {
   "cell_type": "code",
   "execution_count": 3,
   "id": "e4fec88d-98ca-4693-9676-5e7e2489712c",
   "metadata": {
    "tags": []
   },
   "outputs": [
    {
     "name": "stdout",
     "output_type": "stream",
     "text": [
      "0 - 2 - 1 - 3\n",
      "Kosten = 7\n"
     ]
    }
   ],
   "source": [
    "def floyd(c):\n",
    "    ''' \n",
    "    c: Kostenmatrix\n",
    "    returns: d, p - Distanzmatrix und Wegematrix mit dem Vorgänger des kürzesten Wegs \n",
    "    '''\n",
    "    n = len(c)\n",
    "    d = [[0]*n for j in range(n)]   # Matrix D\n",
    "    p = [[0]*n for j in range(n)]   # Matrix P\n",
    "    for i in range(n):\n",
    "        for j in range(n):\n",
    "            d[i][j] = c[i][j]\n",
    "            p[i][j] = i\n",
    "\n",
    "    for k in range(n):\n",
    "        for i in range(n):\n",
    "            for j in range(n):\n",
    "                tmp = d[i][k] + d[k][j]\n",
    "                if tmp < d[i][j]:\n",
    "                    d[i][j] = tmp\n",
    "                    p[i][j] = p[k][j]\n",
    "    return d, p\n",
    "\n",
    "def getPath(p, i, j):\n",
    "    if i == j: return str(i)\n",
    "    return getPath(p,i,p[i][j]) + ' - ' + str(j)\n",
    "\n",
    "\n",
    "inf = float('inf')\n",
    "G = [[0,   8,   2, inf],\n",
    "     [inf, 0, inf,   4],\n",
    "     [inf, 1,   0,   6],\n",
    "     [inf, 2, inf,   0]]\n",
    "\n",
    "d, p = floyd(G)\n",
    "\n",
    "print(getPath(p,0,3))\n",
    "print(\"Kosten =\",d[0][3])"
   ]
  },
  {
   "cell_type": "code",
   "execution_count": 4,
   "id": "9a092c9d-df50-45a4-bc8f-5f03d5edca40",
   "metadata": {
    "tags": []
   },
   "outputs": [
    {
     "name": "stdout",
     "output_type": "stream",
     "text": [
      "Pfad von a nach f : a b c d e f\n",
      "Distanz: 16\n"
     ]
    }
   ],
   "source": [
    "G = {\n",
    "'a': {'b':2, 'c':9},\n",
    "'b': {'c':5, 'd':13},\n",
    "'c': {'d':6, 'e':9},\n",
    "'d': {'e':1, 'f':5},\n",
    "'e': {'f':2},\n",
    "'f': {}\n",
    "}\n",
    "\n",
    "from heapq import heapify, heappop, heappush\n",
    "\n",
    "def reconstructPath(s,u,prev):\n",
    "    temp = []\n",
    "    while u != s:\n",
    "        temp.append(u)\n",
    "        u = prev[u]\n",
    "    temp.append(s)\n",
    "    temp.reverse()\n",
    "    return temp\n",
    "\n",
    "inf = float('inf')\n",
    "dist = {v:inf for v in G}\n",
    "prev = {v:None for v in G}\n",
    "\n",
    "s = 'a'         # startknoten\n",
    "dist[s] = 0\n",
    "endgueltig = set()    \n",
    "\n",
    "vorlaeufig = [(dist[v],v) for v in G]\n",
    "heapify(vorlaeufig)\n",
    "\n",
    "while vorlaeufig:\n",
    "    _, u = heappop(vorlaeufig)\n",
    "    if u in endgueltig: continue\n",
    "    endgueltig.add(u)\n",
    "    for v in G[u]:\n",
    "        if dist[v] > dist[u] + G[u][v]:\n",
    "            dist[v] = dist[u] + G[u][v]\n",
    "            prev[v] = u\n",
    "            heappush(vorlaeufig,(dist[v],v))\n",
    "ziel = 'f'\n",
    "print('Pfad von',s,'nach',ziel,':',*reconstructPath('a','f',prev))\n",
    "print('Distanz:',dist[ziel])"
   ]
  },
  {
   "cell_type": "code",
   "execution_count": 5,
   "id": "b7163f18-28ef-405c-9d65-d94ee76a6522",
   "metadata": {
    "tags": []
   },
   "outputs": [],
   "source": [
    "G = [[0, 1, 1, 0],  \n",
    "     [0, 0, 0, 1],  \n",
    "     [0, 1, 0, 1],  \n",
    "     [0, 1, 0, 0]]"
   ]
  },
  {
   "cell_type": "code",
   "execution_count": 9,
   "id": "3840a149-2314-41f9-a56a-388a2a3ae306",
   "metadata": {
    "tags": []
   },
   "outputs": [
    {
     "data": {
      "text/plain": [
       "[1, 2]"
      ]
     },
     "execution_count": 9,
     "metadata": {},
     "output_type": "execute_result"
    }
   ],
   "source": [
    "\n",
    "G[0][1] == 1                                    # True, wenn es Kante von 0 nach 1 gibt\n",
    "[j for j in range(len(G)) if G[0][j] == 1]      # alle Nachbarn von 0"
   ]
  },
  {
   "cell_type": "code",
   "execution_count": 11,
   "id": "8a1b5e32-97fd-4d7f-870f-abe651b642a1",
   "metadata": {
    "tags": []
   },
   "outputs": [],
   "source": [
    "inf = float('inf') \n",
    "G = [[0,   8,   2, inf],  \n",
    "     [inf, 0, inf,   4],  \n",
    "     [inf, 1,   0,   6],  \n",
    "     [inf, 2, inf,   0]]"
   ]
  },
  {
   "cell_type": "code",
   "execution_count": 13,
   "id": "2e9bcd5c-8f17-4a16-954e-9d96661ed826",
   "metadata": {
    "tags": []
   },
   "outputs": [
    {
     "data": {
      "text/plain": [
       "[1, 2]"
      ]
     },
     "execution_count": 13,
     "metadata": {},
     "output_type": "execute_result"
    }
   ],
   "source": [
    "G[0][1]                                                 # die Kosten der Kante von 0 nach 1\n",
    "[j for j in range(len(G)) if j!=0 and G[0][j] < inf]    # alle Nachbarn von 0"
   ]
  },
  {
   "cell_type": "code",
   "execution_count": 15,
   "id": "13c447a9-83a8-451b-b057-fd9f8c5cd4c0",
   "metadata": {
    "tags": []
   },
   "outputs": [
    {
     "data": {
      "text/plain": [
       "{'b', 'c'}"
      ]
     },
     "execution_count": 15,
     "metadata": {},
     "output_type": "execute_result"
    }
   ],
   "source": [
    "G = {'a':set('bc'),\n",
    "     'b':set('d'), \n",
    "     'c':set('bd'),\n",
    "     'd':set('b')}\n",
    "\n",
    "\n",
    "'b' in G['a']        # True, wenn es Kante von a nach b gibt   \n",
    "G['a']               # alle Nachbarn von 'a'"
   ]
  },
  {
   "cell_type": "code",
   "execution_count": 16,
   "id": "d607cffe-71b4-48e9-b79a-386abc132afe",
   "metadata": {
    "tags": []
   },
   "outputs": [],
   "source": [
    "G = {'a': {'b':8, 'c':2},          \n",
    "     'b': {'d':4},               \n",
    "     'c': {'b':1, 'd':6},          \n",
    "     'd': {'b':2}}"
   ]
  },
  {
   "cell_type": "code",
   "execution_count": 17,
   "id": "d4dd7c3a-27a1-4409-9702-2b95a5c6a4cc",
   "metadata": {
    "tags": []
   },
   "outputs": [
    {
     "data": {
      "text/plain": [
       "['b', 'c']"
      ]
     },
     "execution_count": 17,
     "metadata": {},
     "output_type": "execute_result"
    }
   ],
   "source": [
    "'b' in G['a']        # True, wenn es Kante von a nach b gibt   \n",
    "G['a']['b']          # Die Kosten der Kante von a nach b\n",
    "[v for v in G['a']]  # alle Nachbarn von 'a'"
   ]
  },
  {
   "cell_type": "code",
   "execution_count": null,
   "id": "4daa1246-f614-4acb-8153-0f3327b55cb5",
   "metadata": {},
   "outputs": [],
   "source": [
    "# Beispiel: an welcher Stelle steht die Zahl, die bei Division durch 17 den größten Rest hat.\n",
    "def lineareSuche(a):\n",
    "    best = None\n",
    "    best_val = None  \n",
    "    for i in range(len(a)):\n",
    "        val = a[i] % 17               \n",
    "        if best_val is None or val > best_val:\n",
    "            best_val = val\n",
    "            best = i                # hier ist der Index gesucht\n",
    "    return best     "
   ]
  },
  {
   "cell_type": "code",
   "execution_count": 24,
   "id": "1e650cc2-0ba7-4774-8ec8-6e55975d5476",
   "metadata": {
    "tags": []
   },
   "outputs": [],
   "source": [
    "def anzahlFaktoren(n):\n",
    "    '''\n",
    "    n: positive ganze Zahl\n",
    "    returns: Liste mit den Anzahl der Faktoren aller Zahlen <= n \n",
    "    '''\n",
    "    tmp = [1] * (n+1)\n",
    "    for i in range(2,n+1):\n",
    "        for j in range(i,n+1,i):\n",
    "            tmp[j]+=1\n",
    "    return tmp"
   ]
  },
  {
   "cell_type": "code",
   "execution_count": 25,
   "id": "00908d60-5007-4a8c-a7fd-ca3e2e156295",
   "metadata": {
    "tags": []
   },
   "outputs": [],
   "source": [
    "def eratosthenes(n):\n",
    "    '''\n",
    "    n: positive ganze Zahl\n",
    "    returns: Liste mit allen Primzahlen <= n\n",
    "    '''\n",
    "    tmp = []\n",
    "    prim = [True] * (n+1)\n",
    "    for i in range(2,n+1):\n",
    "        if prim[i]:\n",
    "            tmp.append(i)\n",
    "            for j in range(i+i,n+1,i):\n",
    "                prim[j] = False\n",
    "    return tmp"
   ]
  },
  {
   "cell_type": "code",
   "execution_count": 28,
   "id": "fe1dbe65-54eb-4289-b58a-c7c016263e26",
   "metadata": {
    "tags": []
   },
   "outputs": [],
   "source": [
    "a = anzahlFaktoren(30)"
   ]
  },
  {
   "cell_type": "code",
   "execution_count": 29,
   "id": "052c156d-18ed-4628-9cb6-087303d23aef",
   "metadata": {
    "tags": []
   },
   "outputs": [
    {
     "name": "stdout",
     "output_type": "stream",
     "text": [
      "[1, 1, 2, 2, 3, 2, 4, 2, 4, 3, 4, 2, 6, 2, 4, 4, 5, 2, 6, 2, 6, 4, 4, 2, 8, 3, 4, 4, 6, 2, 8]\n"
     ]
    }
   ],
   "source": [
    "print(a)"
   ]
  },
  {
   "cell_type": "code",
   "execution_count": 31,
   "id": "49b0b663-3562-4352-a507-7ee6670e0d78",
   "metadata": {
    "tags": []
   },
   "outputs": [
    {
     "name": "stdout",
     "output_type": "stream",
     "text": [
      "Lena ist 14 alt.\n"
     ]
    }
   ],
   "source": [
    "name = 'Lena'\n",
    "alter = 14\n",
    "print(f'{name} ist {alter} alt.')"
   ]
  },
  {
   "cell_type": "code",
   "execution_count": 40,
   "id": "32926a85-4e1a-4dbd-beac-687e1607533f",
   "metadata": {
    "tags": []
   },
   "outputs": [
    {
     "ename": "IndexError",
     "evalue": "Replacement index 4 out of range for positional args tuple",
     "output_type": "error",
     "traceback": [
      "\u001b[1;31m---------------------------------------------------------------------------\u001b[0m",
      "\u001b[1;31mIndexError\u001b[0m                                Traceback (most recent call last)",
      "Cell \u001b[1;32mIn[40], line 1\u001b[0m\n\u001b[1;32m----> 1\u001b[0m \u001b[38;5;28mprint\u001b[39m(\u001b[38;5;124;43m'\u001b[39;49m\u001b[38;5;132;43;01m{4}\u001b[39;49;00m\u001b[38;5;124;43m ist \u001b[39;49m\u001b[38;5;132;43;01m{5}\u001b[39;49;00m\u001b[38;5;124;43m Jahre alt.\u001b[39;49m\u001b[38;5;124;43m'\u001b[39;49m\u001b[38;5;241;43m.\u001b[39;49m\u001b[43mformat\u001b[49m\u001b[43m(\u001b[49m\u001b[43mname\u001b[49m\u001b[43m,\u001b[49m\u001b[43malter\u001b[49m\u001b[43m)\u001b[49m)\n",
      "\u001b[1;31mIndexError\u001b[0m: Replacement index 4 out of range for positional args tuple"
     ]
    }
   ],
   "source": [
    "print('{4} ist {5} Jahre alt.'.format(name,alter))"
   ]
  },
  {
   "cell_type": "code",
   "execution_count": null,
   "id": "6ed26429-046f-4756-9fdb-6703a2d9c5c3",
   "metadata": {},
   "outputs": [],
   "source": [
    "print(\"{4d}\".format(x),end=\" \")"
   ]
  }
 ],
 "metadata": {
  "kernelspec": {
   "display_name": "Python 3 (ipykernel)",
   "language": "python",
   "name": "python3"
  },
  "language_info": {
   "codemirror_mode": {
    "name": "ipython",
    "version": 3
   },
   "file_extension": ".py",
   "mimetype": "text/x-python",
   "name": "python",
   "nbconvert_exporter": "python",
   "pygments_lexer": "ipython3",
   "version": "3.11.2"
  }
 },
 "nbformat": 4,
 "nbformat_minor": 5
}
