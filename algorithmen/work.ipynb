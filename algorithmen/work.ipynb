{
 "cells": [
  {
   "cell_type": "code",
   "execution_count": 5,
   "id": "46e17a04-65ce-4cca-8fb0-3f1e00beee3d",
   "metadata": {
    "tags": []
   },
   "outputs": [
    {
     "name": "stdout",
     "output_type": "stream",
     "text": [
      "x = 3\n",
      "x = 3.2335\n"
     ]
    }
   ],
   "source": [
    "x = 3.233474234\n",
    "print(f'x = {x:.0f}')              # ohne Dezimalstelle\n",
    "print(f'x = {x:.4f}')              # mit 4 Dezimalstellen"
   ]
  },
  {
   "cell_type": "code",
   "execution_count": 14,
   "id": "6a5e305a-7ce1-46de-bc5d-ac3d7ce1216c",
   "metadata": {
    "tags": []
   },
   "outputs": [
    {
     "name": "stdout",
     "output_type": "stream",
     "text": [
      "Overwriting input.txt\n"
     ]
    }
   ],
   "source": [
    "%%writefile input.txt\n",
    "Hallo\n",
    "5\n",
    "Das ist ein Satz\n",
    "4 2 3 7"
   ]
  },
  {
   "cell_type": "code",
   "execution_count": 17,
   "id": "8943fe4f-29d4-47b1-a465-a69e64549c07",
   "metadata": {
    "tags": []
   },
   "outputs": [
    {
     "data": {
      "text/plain": [
       "(['Das', 'ist', 'ein', 'Satz'], [4, 2, 3, 7])"
      ]
     },
     "execution_count": 17,
     "metadata": {},
     "output_type": "execute_result"
    }
   ],
   "source": [
    "f = open('input.txt')\n",
    "s = f.readline().strip()\n",
    "x = int(f.readline())\n",
    "a = f.readline().split()\n",
    "b = [int(x) for x in f.readline().split()]\n",
    "a, b"
   ]
  },
  {
   "cell_type": "code",
   "execution_count": null,
   "id": "e6a151d1-5468-4028-8124-51e20db2f6c8",
   "metadata": {},
   "outputs": [],
   "source": []
  }
 ],
 "metadata": {
  "kernelspec": {
   "display_name": "Python 3 (ipykernel)",
   "language": "python",
   "name": "python3"
  },
  "language_info": {
   "codemirror_mode": {
    "name": "ipython",
    "version": 3
   },
   "file_extension": ".py",
   "mimetype": "text/x-python",
   "name": "python",
   "nbconvert_exporter": "python",
   "pygments_lexer": "ipython3",
   "version": "3.11.2"
  }
 },
 "nbformat": 4,
 "nbformat_minor": 5
}
