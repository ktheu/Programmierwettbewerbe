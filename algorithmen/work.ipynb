{
 "cells": [
  {
   "cell_type": "code",
   "execution_count": 1,
   "id": "e6a151d1-5468-4028-8124-51e20db2f6c8",
   "metadata": {
    "tags": []
   },
   "outputs": [],
   "source": [
    "import itertools as it\n",
    " "
   ]
  },
  {
   "cell_type": "markdown",
   "id": "1bf52091-88c4-477e-9035-46ac2ddf2068",
   "metadata": {},
   "source": [
    "#### Teilmengen"
   ]
  },
  {
   "cell_type": "code",
   "execution_count": 2,
   "id": "e15ca917-8928-4bb6-83ff-b52942e46ecb",
   "metadata": {
    "tags": []
   },
   "outputs": [
    {
     "name": "stdout",
     "output_type": "stream",
     "text": [
      "(1, 2)\n",
      "(1, 3)\n",
      "(1, 4)\n",
      "(2, 3)\n",
      "(2, 4)\n",
      "(3, 4)\n"
     ]
    }
   ],
   "source": [
    "a = [1,2,3,4]\n",
    "\n",
    "# alle 2-elementigen Teilmengen als Tuple\n",
    "for x in it.combinations(a,2):\n",
    "    print(x)"
   ]
  },
  {
   "cell_type": "code",
   "execution_count": 3,
   "id": "9ba227a4-a7cf-4cf6-bd67-2d3484189ff7",
   "metadata": {
    "tags": []
   },
   "outputs": [
    {
     "name": "stdout",
     "output_type": "stream",
     "text": [
      "()\n",
      "(1,)\n",
      "(2,)\n",
      "(3,)\n",
      "(4,)\n",
      "(1, 2)\n",
      "(1, 3)\n",
      "(1, 4)\n",
      "(2, 3)\n",
      "(2, 4)\n",
      "(3, 4)\n",
      "(1, 2, 3)\n",
      "(1, 2, 4)\n",
      "(1, 3, 4)\n",
      "(2, 3, 4)\n",
      "(1, 2, 3, 4)\n"
     ]
    }
   ],
   "source": [
    "a = [1,2,3,4]\n",
    "# alle Teilmengen als Tuple\n",
    "for x in it.chain.from_iterable(it.combinations(a, r) for r in range(len(a)+1)):\n",
    "    print(x)"
   ]
  },
  {
   "cell_type": "markdown",
   "id": "1836828c-7184-4b5a-8d31-790dc34dae3f",
   "metadata": {
    "tags": []
   },
   "source": [
    "#### Permutationen \n",
    "Ziehungen ohne Zurücklegen mit Berücksichtigung der Reihenfolge"
   ]
  },
  {
   "cell_type": "code",
   "execution_count": 7,
   "id": "2238b321-adaa-41e9-b8d0-19dededcf270",
   "metadata": {
    "tags": []
   },
   "outputs": [
    {
     "name": "stdout",
     "output_type": "stream",
     "text": [
      "(1, 2)\n",
      "(1, 3)\n",
      "(2, 1)\n",
      "(2, 3)\n",
      "(3, 1)\n",
      "(3, 2)\n"
     ]
    }
   ],
   "source": [
    "# alle 2-elementigen Permutationen \n",
    "for x in it.permutations([1,2,3],2):\n",
    "    print(x)"
   ]
  },
  {
   "cell_type": "code",
   "execution_count": 6,
   "id": "6781262d-48c9-4ad0-a212-806562d4b9b0",
   "metadata": {
    "tags": []
   },
   "outputs": [
    {
     "name": "stdout",
     "output_type": "stream",
     "text": [
      "(1, 2, 3)\n",
      "(1, 3, 2)\n",
      "(2, 1, 3)\n",
      "(2, 3, 1)\n",
      "(3, 1, 2)\n",
      "(3, 2, 1)\n"
     ]
    }
   ],
   "source": [
    "# alle Permutationen \n",
    "for x in it.permutations([1,2,3]):\n",
    "    print(x)"
   ]
  },
  {
   "cell_type": "markdown",
   "id": "3fb00424-492c-4ea2-93d4-70d232dce0b0",
   "metadata": {},
   "source": [
    "#### Cartesische Produkte\n",
    "\n",
    "Ziehen mit Zurücklegen mit Berücksichtigung der Reihenfolge"
   ]
  },
  {
   "cell_type": "code",
   "execution_count": 17,
   "id": "f4b2bb9c-4a13-4e84-8dd3-e6f0f73415ed",
   "metadata": {
    "tags": []
   },
   "outputs": [
    {
     "name": "stdout",
     "output_type": "stream",
     "text": [
      "(1, 1)\n",
      "(1, 2)\n",
      "(1, 3)\n",
      "(2, 1)\n",
      "(2, 2)\n",
      "(2, 3)\n",
      "(3, 1)\n",
      "(3, 2)\n",
      "(3, 3)\n"
     ]
    }
   ],
   "source": [
    "# alle 2-elementigen cartesische Produkte\n",
    "for x in it.product([1,2,3],repeat=2):\n",
    "    print(x)"
   ]
  },
  {
   "cell_type": "markdown",
   "id": "e7a74ec4-df28-4174-af7a-3625208fcb4e",
   "metadata": {
    "tags": []
   },
   "source": [
    "#### 0-1 Folgen"
   ]
  },
  {
   "cell_type": "code",
   "execution_count": 8,
   "id": "511b0b5f-0be6-49cd-a51a-715df522d126",
   "metadata": {
    "tags": []
   },
   "outputs": [
    {
     "name": "stdout",
     "output_type": "stream",
     "text": [
      "(0, 0, 0, 0)\n",
      "(0, 0, 0, 1)\n",
      "(0, 0, 1, 0)\n",
      "(0, 0, 1, 1)\n",
      "(0, 1, 0, 0)\n",
      "(0, 1, 0, 1)\n",
      "(0, 1, 1, 0)\n",
      "(0, 1, 1, 1)\n",
      "(1, 0, 0, 0)\n",
      "(1, 0, 0, 1)\n",
      "(1, 0, 1, 0)\n",
      "(1, 0, 1, 1)\n",
      "(1, 1, 0, 0)\n",
      "(1, 1, 0, 1)\n",
      "(1, 1, 1, 0)\n",
      "(1, 1, 1, 1)\n"
     ]
    }
   ],
   "source": [
    "# alle 4-elementige Binärfolgen\n",
    "for x in it.product([0,1],repeat = 4):\n",
    "    print(x)"
   ]
  },
  {
   "cell_type": "code",
   "execution_count": 9,
   "id": "0fd5cf2a-a89f-42da-8929-4babc9595be7",
   "metadata": {
    "tags": []
   },
   "outputs": [
    {
     "name": "stdout",
     "output_type": "stream",
     "text": [
      "[1, 1, 0, 0, 0]\n",
      "[1, 0, 1, 0, 0]\n",
      "[1, 0, 0, 1, 0]\n",
      "[1, 0, 0, 0, 1]\n",
      "[0, 1, 1, 0, 0]\n",
      "[0, 1, 0, 1, 0]\n",
      "[0, 1, 0, 0, 1]\n",
      "[0, 0, 1, 1, 0]\n",
      "[0, 0, 1, 0, 1]\n",
      "[0, 0, 0, 1, 1]\n"
     ]
    }
   ],
   "source": [
    "#Alle n-elementigen Binärfolgen, die an genau k Stellen eine 1 haben, sonst 0.\n",
    "n = 5\n",
    "k = 2\n",
    "\n",
    "for x in it.combinations(range(n),k):\n",
    "    print([int(k in x) for k in range(n)])"
   ]
  },
  {
   "cell_type": "code",
   "execution_count": 39,
   "id": "221460c7-c1d9-4c38-acac-1d1103431748",
   "metadata": {
    "tags": []
   },
   "outputs": [
    {
     "data": {
      "text/plain": [
       "[5, 4, 2, 1]"
      ]
     },
     "execution_count": 39,
     "metadata": {},
     "output_type": "execute_result"
    }
   ],
   "source": [
    "a = [4,2,1,5]\n",
    "a.sort()                # inplace: a wird sortiert\n",
    "b = sorted(a)           # a bleibt unverändert\n",
    "\n",
    "a.sort(reverse = True)\n",
    "b = sorted(a,reverse = True)\n",
    "b"
   ]
  },
  {
   "cell_type": "code",
   "execution_count": 53,
   "id": "55204ccf-a6d4-48d6-aa4b-d1fb0e375300",
   "metadata": {
    "tags": []
   },
   "outputs": [],
   "source": [
    "a = [4,2,1,5]\n",
    "a.sort(key=lambda x : x%5, reverse=True)"
   ]
  },
  {
   "cell_type": "code",
   "execution_count": 50,
   "id": "7033e7a3-3b73-4dfd-95d6-b328aed5675a",
   "metadata": {
    "tags": []
   },
   "outputs": [
    {
     "data": {
      "text/plain": [
       "[(3, 'a'), (3, 'c'), (2, 'c'), (2, 'd'), (1, 'a'), (1, 'b')]"
      ]
     },
     "execution_count": 50,
     "metadata": {},
     "output_type": "execute_result"
    }
   ],
   "source": [
    "a = [(1, 'a'), (3, 'c'), (1, 'b'), (2, 'c'), (3, 'a'), (2, 'd')]\n",
    "a.sort(key = lambda x : (-x[0],x[1]))\n",
    "a"
   ]
  },
  {
   "cell_type": "code",
   "execution_count": 51,
   "id": "7bdc75b8-bd4d-4105-a844-28f02af80fe5",
   "metadata": {
    "tags": []
   },
   "outputs": [
    {
     "data": {
      "text/plain": [
       "[(1, 'b'), (1, 'a'), (2, 'd'), (2, 'c'), (3, 'c'), (3, 'a')]"
      ]
     },
     "execution_count": 51,
     "metadata": {},
     "output_type": "execute_result"
    }
   ],
   "source": [
    "a = [(1, 'a'), (3, 'c'), (1, 'b'), (2, 'c'), (3, 'a'), (2, 'd')]\n",
    "a.sort(key = lambda x : (x[0],-ord(x[1])))\n",
    "a"
   ]
  },
  {
   "cell_type": "code",
   "execution_count": null,
   "id": "125df166-0d45-4a07-853a-be4c6c9da9c9",
   "metadata": {},
   "outputs": [],
   "source": []
  }
 ],
 "metadata": {
  "kernelspec": {
   "display_name": "Python 3 (ipykernel)",
   "language": "python",
   "name": "python3"
  },
  "language_info": {
   "codemirror_mode": {
    "name": "ipython",
    "version": 3
   },
   "file_extension": ".py",
   "mimetype": "text/x-python",
   "name": "python",
   "nbconvert_exporter": "python",
   "pygments_lexer": "ipython3",
   "version": "3.11.2"
  }
 },
 "nbformat": 4,
 "nbformat_minor": 5
}
