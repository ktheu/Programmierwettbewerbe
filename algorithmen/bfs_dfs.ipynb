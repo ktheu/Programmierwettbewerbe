{
 "cells": [
  {
   "cell_type": "code",
   "execution_count": 3,
   "id": "4705416c-d9b0-469e-869d-fd34222f8a45",
   "metadata": {},
   "outputs": [],
   "source": [
    "from collections import deque\n",
    "def bfs(startstate):\n",
    "    frontier =  deque([startstate])\n",
    "    prev = {startstate:None}\n",
    "    while frontier:\n",
    "        state = frontier.popleft()  \n",
    "        if goaltest(state):\n",
    "            return prev, state\n",
    "        for v in nextstates(state):\n",
    "            if v not in prev:\n",
    "                frontier.append(v)\n",
    "                prev[v] = state\n",
    "    return None, None\n",
    "                \n",
    "def dfs(startstate):\n",
    "    frontier =  [startstate]\n",
    "    prev = {startstate:None}\n",
    "    while frontier:\n",
    "        state = frontier.pop()   \n",
    "        if goaltest(state):\n",
    "            return prev,state\n",
    "        for v in reversed(nextstates(state)):                  # nach rechts runter, für links: reversed(nextstates(state))\n",
    "            if v not in prev:\n",
    "                frontier.append(v)\n",
    "                prev[v] = state\n",
    "    return None, None\n",
    "\n",
    "def reconstructPath(prev,goalstate):\n",
    "    state = goalstate\n",
    "    path = []\n",
    "    while state is not None:\n",
    "        path.append(state)\n",
    "        state = prev[state]        \n",
    "    path.reverse()\n",
    "    return path\n"
   ]
  },
  {
   "cell_type": "markdown",
   "id": "55ce667a-a65e-43b4-9a48-a1fde0d0e9a8",
   "metadata": {},
   "source": [
    "### Zahlenbaum\n",
    "Wir suchen die Zahl 18"
   ]
  },
  {
   "cell_type": "code",
   "execution_count": 4,
   "id": "26785f5f-56e1-4f05-8795-ab5d16244bd5",
   "metadata": {},
   "outputs": [
    {
     "name": "stdout",
     "output_type": "stream",
     "text": [
      "[1, 7, 2, 13]\n"
     ]
    }
   ],
   "source": [
    "def nextstates(state):\n",
    "    if state in baum:\n",
    "        return baum[state]\n",
    "    else: return []\n",
    "\n",
    "def goaltest(state):\n",
    "    return state == 13\n",
    " \n",
    "baum = {1:[12,6,7], 12: [14,22,10], 6: [4,8], 7: [2,18], 22:[3,9], 2:[13]}\n",
    " \n",
    "startstate = 1\n",
    "prev, goalstate = dfs(startstate)\n",
    "print(reconstructPath(prev,goalstate))\n",
    " "
   ]
  },
  {
   "cell_type": "markdown",
   "id": "45e9ad99-2acc-4f8e-a934-719718080582",
   "metadata": {},
   "source": [
    "### 8-Puzzle"
   ]
  },
  {
   "cell_type": "code",
   "execution_count": 5,
   "id": "1d87e631-c5ab-4462-9939-540e39f3b1d0",
   "metadata": {},
   "outputs": [],
   "source": [
    "def swap(state,i,j):\n",
    "    '''\n",
    "    state: tuple\n",
    "    i,j: gueltige Indizes für das tuple\n",
    "    returns: tuple mit vertauschten Werten an Positionen i und j\n",
    "    '''\n",
    "    tmp = list(state)\n",
    "    tmp[i],tmp[j] = tmp[j],tmp[i]\n",
    "    return tuple(tmp)\n",
    "\n",
    "def show(state):\n",
    "    import math\n",
    "    '''\n",
    "    printed state als 3x3 Matrix\n",
    "    '''\n",
    "    for i in range(len(state)):\n",
    "        k = math.sqrt(len(state))\n",
    "        if i%k==0:\n",
    "            print()\n",
    "        print(f'{state[i]:2}',end = ' ')\n",
    "    print()\n",
    "\n",
    "def nextstates(state):\n",
    "    tmp = []\n",
    "    i = state.index(0)\n",
    "    for j in tauschDict[i]:\n",
    "        tmp.append(swap(state,i,j))\n",
    "    return tmp\n",
    "\n",
    "def goaltest(state):\n",
    "    return state == (0,1,2,3,4,5,6,7,8) "
   ]
  },
  {
   "cell_type": "code",
   "execution_count": 6,
   "id": "d3403150-5f2e-4e54-9be2-6c11fe679ed9",
   "metadata": {},
   "outputs": [
    {
     "name": "stdout",
     "output_type": "stream",
     "text": [
      "Lösung in 26 Zügen gefunden.\n",
      "Wall time: 395 ms\n"
     ]
    }
   ],
   "source": [
    "%%time\n",
    "tauschDict = {0:[1,3],1:[2,4,0],2:[5,1],3:[4,6,0],4:[5,7,3,1],5:[8,4,2],6:[7,3],7:[8,6,4],8:[7,5]}\n",
    "startstate = (7,2,4,5,0,6,8,3,1)   \n",
    "#startstate = (8,2,7,3,4,6,5,0,1)\n",
    "#startstate = (1,2,3,4,5,6,8,7,0)    # nicht lösbar\n",
    "prev, goalstate = bfs(startstate)\n",
    "if prev is None:\n",
    "    print('nicht lösbar')\n",
    "else:\n",
    "    path = reconstructPath(prev,goalstate)\n",
    "    print(f'Lösung in {len(path)-1} Zügen gefunden.')\n",
    "\n",
    " "
   ]
  },
  {
   "cell_type": "markdown",
   "id": "28054df1-447c-432a-b02e-ede7ebfe6146",
   "metadata": {},
   "source": [
    "Das dictionary *prev* dient mehreren Zwecken:\n",
    " - wir merken uns, was wir schon untersucht haben (explored) oder was noch zur Untersuchung vorgesehen ist (frontier)\n",
    " - wir merken uns den Elternknoten"
   ]
  },
  {
   "cell_type": "code",
   "execution_count": 9,
   "id": "7eeb3b8a-ca95-4c2b-9a64-a0f5aac399e0",
   "metadata": {},
   "outputs": [],
   "source": [
    "# for state in path:\n",
    "#     show(state)"
   ]
  },
  {
   "cell_type": "markdown",
   "id": "933543d9-b816-404c-bdbe-42ddaefafd33",
   "metadata": {},
   "source": [
    "### 15-Puzzle"
   ]
  },
  {
   "cell_type": "code",
   "execution_count": 10,
   "id": "24a36e57-2e17-4283-b0f0-5dd65714b692",
   "metadata": {},
   "outputs": [],
   "source": [
    "tauschDict = {0:[1,4],1:[2,5,0],2:[3,6,1],3:[7,2],4:[5,8,0],5:[6,9,4,1],6:[7,10,5,2],7:[11,6,3],8:[9,12,4]}\n",
    "tauschDict.update({9:[10,13,8,5],10:[11,14,9,6],11:[15,10,7],12:[13,8],13:[14,12,9],14:[15,13,10],15:[14,11]})\n",
    "\n",
    "# startstatexx - xx: Anzahl Züge, Zeit bfs, Zeit astar(zip), Zeit iterative deepening\n",
    "startstate10  = (2,10,3,4,1,0,6,8,5,9,7,11,13,14,15,12)   # 33 ms  \n",
    "startstate15  = (2,10,4,8,1,6,3,11,5,9,7,0,13,14,15,12)   # 826 ms  \n",
    "startstate20  = (2,10,4,8,5,1,6,11,0,9,3,12,13,14,7,15)   # 14.5 s  - 3.6s - 27 s\n",
    "startstate21  = (10,0,4,8,2,1,6,11,5,9,3,12,13,14,7,15)   # 27.1 s  - 19 ms  -  25.9\n",
    "startstate23  = (10,4,6,8,2,1,0,11,5,9,3,12,13,14,7,15)   # 2.2 min  - 83.5 ms\n",
    "startstate35 = (5,4,8,11,3,1,14,10,13,7,2,0,9,6,15,12)    # ? - 1:27 min - 17 ms\n",
    "\n",
    "goalstate = (1,2,3,4,5,6,7,8,9,10,11,12,13,14,15,0)\n",
    "\n",
    "def goaltest(state):\n",
    "    return state == goalstate"
   ]
  },
  {
   "cell_type": "code",
   "execution_count": 12,
   "id": "04f0631c-2735-4591-9ae7-337f622444c4",
   "metadata": {},
   "outputs": [
    {
     "name": "stdout",
     "output_type": "stream",
     "text": [
      "Wall time: 24 ms\n"
     ]
    },
    {
     "data": {
      "text/plain": [
       "11"
      ]
     },
     "execution_count": 12,
     "metadata": {},
     "output_type": "execute_result"
    }
   ],
   "source": [
    "%%time\n",
    "prev, goalstate = bfs(startstate10)\n",
    "path = reconstructPath(prev,goalstate)\n",
    "len(path)                  "
   ]
  },
  {
   "cell_type": "markdown",
   "id": "69bdc07a-55e5-41d1-9c8b-239e853c7258",
   "metadata": {},
   "source": [
    "### Best first search\n",
    "\n",
    "Best-first search ist ein allgemeiner Begriff für eine Suche, bei dem der state als nächstes aus der frontier geholt wird,\n",
    "der nach einer wie immer gearteteten Evaluations-Funktion, den besten (=niedrigsten) Wert hat.\n",
    "\n",
    "### Greedy\n",
    "\n",
    "Greedy ist eine Form des best-first search. Der state ist am besten, der die größte Ähnlichkeit (oder den kleinsten Abstand) zum goalstate hat.\n"
   ]
  },
  {
   "cell_type": "code",
   "execution_count": 13,
   "id": "71eb5ea5-2773-4987-ab93-c1b689c0f314",
   "metadata": {},
   "outputs": [],
   "source": [
    "from heapq import heappop, heappush\n",
    "def greedy(s):\n",
    "    frontier =[(h(s),s)]  \n",
    "    prev = {s:None}\n",
    "    while frontier:\n",
    "        _ ,state = heappop(frontier)  \n",
    "        if goaltest(state):\n",
    "            return prev, state\n",
    "        for v in nextstates(state):\n",
    "            if v not in prev:\n",
    "                heappush(frontier,(h(v),v))\n",
    "                prev[v] = state\n",
    "    return None, None \n",
    "\n",
    "def astar(s):\n",
    "    frontier =[(h(s),s)]  \n",
    "    prev = {s:None}\n",
    "    g = {s:0}                         # backword costs: hier die Anzahl Züge\n",
    "    while frontier:\n",
    "        _ ,state = heappop(frontier)  # die Kosten braucht man an der Stelle nicht\n",
    "        if goaltest(state):\n",
    "            return prev, state\n",
    "        for v in nextstates(state):\n",
    "            gg = g[state] + 1\n",
    "            if v not in prev or gg < g[v]:\n",
    "                g[v] = gg\n",
    "                heappush(frontier,(g[v]+h(v),v))\n",
    "                prev[v] = state\n",
    "    return None, None\n",
    "\n",
    "def h(state):\n",
    "    ''' returns: anzahl der von der endgültigen position verschiedenen stellen'''\n",
    "    return sum(a!=b for a,b in zip(goalstate,state))\n",
    "\n"
   ]
  },
  {
   "cell_type": "code",
   "execution_count": 14,
   "id": "a0b71471-ac5f-460c-933c-54c2c28cd07a",
   "metadata": {},
   "outputs": [
    {
     "name": "stdout",
     "output_type": "stream",
     "text": [
      "24\n",
      "Wall time: 70 ms\n"
     ]
    }
   ],
   "source": [
    "%%time\n",
    "prev, goalstate = astar(startstate23)\n",
    "path = reconstructPath(prev,goalstate)\n",
    "print(len(path))"
   ]
  },
  {
   "cell_type": "code",
   "execution_count": 15,
   "id": "533a8429-6f5c-4f68-87fd-43c404bc453a",
   "metadata": {},
   "outputs": [
    {
     "name": "stdout",
     "output_type": "stream",
     "text": [
      "102\n",
      "Wall time: 20 ms\n"
     ]
    }
   ],
   "source": [
    "%%time\n",
    "prev, goalstate = greedy(startstate35)\n",
    "path = reconstructPath(prev,goalstate)\n",
    "print(len(path))"
   ]
  },
  {
   "cell_type": "markdown",
   "id": "9e3db5a2-97ac-4712-a9a0-ec0a29eb3cd4",
   "metadata": {},
   "source": [
    "###  Depth Limited Search und Iterative Deepening"
   ]
  },
  {
   "cell_type": "code",
   "execution_count": 57,
   "id": "2034557b-690a-4ccc-9bd0-8c0c14fa18cc",
   "metadata": {},
   "outputs": [],
   "source": [
    "def dls(startpath, maxlevel):\n",
    "    frontier =  [startpath]\n",
    "    result = \"FAILURE\"\n",
    "    while frontier:\n",
    "        path = frontier.pop()   \n",
    "        if goaltest(path):\n",
    "            return path\n",
    "        for p in nextpaths(path):\n",
    "            if len(p) > maxlevel: \n",
    "                result = \"CUTOFF\"\n",
    "            else:\n",
    "                frontier.append(p)\n",
    "    return result\n",
    "\n",
    "def iterativeDeepening(startstate):\n",
    "    for i in range(20,30,1):\n",
    "        startpath = [startstate]\n",
    "        result = dls(startpath,i)\n",
    "        if result != \"CUTOFF\":\n",
    "            return result\n",
    "        \n",
    "def nextpaths(path):\n",
    "    tmp = []\n",
    "    for state in nextstates(path[-1]):\n",
    "        if state not in path:\n",
    "            p = path.copy()\n",
    "            p.append(state)\n",
    "            tmp.append(p)\n",
    "    return tmp\n",
    "\n",
    "def goaltest(path):\n",
    "    return path[-1] == goalstate                   "
   ]
  },
  {
   "cell_type": "code",
   "execution_count": 62,
   "id": "c2fa518a-c07f-4d7d-b3f9-348560c7fdcf",
   "metadata": {},
   "outputs": [
    {
     "name": "stdout",
     "output_type": "stream",
     "text": [
      "Wall time: 2min 30s\n"
     ]
    },
    {
     "data": {
      "text/plain": [
       "23"
      ]
     },
     "execution_count": 62,
     "metadata": {},
     "output_type": "execute_result"
    }
   ],
   "source": [
    "%%time\n",
    "path = iterativeDeepening(startstate23)\n",
    "len(path)-1\n"
   ]
  }
 ],
 "metadata": {
  "kernelspec": {
   "display_name": "Python 3",
   "language": "python",
   "name": "python3"
  },
  "language_info": {
   "codemirror_mode": {
    "name": "ipython",
    "version": 3
   },
   "file_extension": ".py",
   "mimetype": "text/x-python",
   "name": "python",
   "nbconvert_exporter": "python",
   "pygments_lexer": "ipython3",
   "version": "3.8.8"
  }
 },
 "nbformat": 4,
 "nbformat_minor": 5
}
