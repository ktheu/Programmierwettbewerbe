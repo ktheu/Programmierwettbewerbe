{
 "cells": [
  {
   "cell_type": "code",
   "execution_count": 49,
   "id": "3d8de822-c1e4-437c-aba9-89532d1702c2",
   "metadata": {},
   "outputs": [],
   "source": [
    "f = open('maze02.txt')\n",
    "lines = f.read().splitlines()\n",
    "\n",
    "grid = [list(line) for line in lines]\n"
   ]
  },
  {
   "cell_type": "code",
   "execution_count": 50,
   "id": "0b1a759a-ac40-4f61-8f10-f1d618635c0a",
   "metadata": {},
   "outputs": [
    {
     "name": "stdout",
     "output_type": "stream",
     "text": [
      "###################################################################\n",
      "#                                                                 #\n",
      "#                                                                 #\n",
      "#                                                                 #\n",
      "#                       #################                         #\n",
      "#                       #                                         #\n",
      "#                       #                     #                   #\n",
      "#                       #                     #                   #\n",
      "#                       #                     #                   #\n",
      "#                       #                              #          #\n",
      "#                       #      ####################    #          #\n",
      "#                       #                              #          #\n",
      "#                       #           E                  #          #\n",
      "#                       #################### ###########          #\n",
      "#                                                                 #\n",
      "#                                                                 #\n",
      "#                                                                 #\n",
      "#     S                                                           #\n",
      "#                                                                 #\n",
      "###################################################################\n"
     ]
    }
   ],
   "source": [
    "def show():\n",
    "    for line in grid:\n",
    "        print(''.join(line))\n",
    "        \n",
    "show()"
   ]
  },
  {
   "cell_type": "code",
   "execution_count": 51,
   "id": "b1c8df38-94d3-43de-a819-5e5dd985d862",
   "metadata": {},
   "outputs": [],
   "source": [
    "def getStart():\n",
    "    for x in range(len(grid)):\n",
    "        for y in range(len(grid[0])):\n",
    "            if grid[x][y]=='S':\n",
    "                return x,y\n",
    "\n",
    "startstate = getStart()\n"
   ]
  },
  {
   "cell_type": "code",
   "execution_count": 52,
   "id": "8df1e251-87e8-481c-afa1-458686de2db9",
   "metadata": {},
   "outputs": [],
   "source": [
    "def goaltest(state):\n",
    "    x,y = state\n",
    "    return grid[x][y]== 'E'\n",
    "\n",
    "def nextstates(state):\n",
    "    tmp = []\n",
    "    x, y = state\n",
    "    for (xd,yd) in [(1,0),(-1,0),(0,1),(0,-1)]:\n",
    "        x1 = x + xd\n",
    "        y1 = y + yd\n",
    "        if grid[x1][y1] != '#':\n",
    "            tmp.append((x1,y1))\n",
    "    return tmp"
   ]
  },
  {
   "cell_type": "code",
   "execution_count": 53,
   "id": "54e536db-2263-4223-9116-ec79e76dbbf7",
   "metadata": {},
   "outputs": [],
   "source": [
    "from collections import deque\n",
    "def bfs(startstate):\n",
    "    frontier =  deque([startstate])\n",
    "    prev = {startstate:None}\n",
    "    if goaltest(startstate):\n",
    "            return prev, startstate\n",
    "    while frontier:\n",
    "        state = frontier.popleft()\n",
    "        for v in nextstates(state):\n",
    "            if v not in prev:\n",
    "                prev[v] = state\n",
    "                if goaltest(v):\n",
    "                    return prev, v\n",
    "                frontier.append(v)\n",
    "    return None, None\n",
    "                \n",
    "def reconstructPath(prev,goalstate):\n",
    "    state = goalstate\n",
    "    path = []\n",
    "    while state is not None:\n",
    "        path.append(state)\n",
    "        state = prev[state]        \n",
    "    path.reverse()\n",
    "    return path\n"
   ]
  },
  {
   "cell_type": "code",
   "execution_count": 54,
   "id": "d351098c-3847-4cd7-99c5-bc71821db09f",
   "metadata": {},
   "outputs": [],
   "source": [
    "prev, state = bfs(startstate)\n",
    "path = reconstructPath(prev, state)"
   ]
  },
  {
   "cell_type": "code",
   "execution_count": 55,
   "id": "23d59acb-09f0-4195-bdfc-d7e021cede35",
   "metadata": {},
   "outputs": [],
   "source": [
    "for (x,y) in path[1:-1]:\n",
    "    grid[x][y] = 'o'"
   ]
  },
  {
   "cell_type": "code",
   "execution_count": 56,
   "id": "762e6865-9a8c-4c49-b8dd-168b76ad3a84",
   "metadata": {},
   "outputs": [
    {
     "name": "stdout",
     "output_type": "stream",
     "text": [
      "###################################################################\n",
      "#                                                                 #\n",
      "#                                                                 #\n",
      "#                                                                 #\n",
      "#                       #################                         #\n",
      "#                       #                                         #\n",
      "#                       #                     #                   #\n",
      "#                       #                     #                   #\n",
      "#                       #                     #                   #\n",
      "#                       #                              #          #\n",
      "#                       #      ####################    #          #\n",
      "#                       #                              #          #\n",
      "#                       #           Eoooooooo          #          #\n",
      "#                       ####################o###########          #\n",
      "#     ooooooooooooooooooooooooooooooooooooooo                     #\n",
      "#     o                                                           #\n",
      "#     o                                                           #\n",
      "#     S                                                           #\n",
      "#                                                                 #\n",
      "###################################################################\n"
     ]
    }
   ],
   "source": [
    "show()"
   ]
  },
  {
   "cell_type": "code",
   "execution_count": null,
   "id": "89df1102-98c0-4a03-9414-480691260c69",
   "metadata": {},
   "outputs": [],
   "source": []
  }
 ],
 "metadata": {
  "kernelspec": {
   "display_name": "Python 3",
   "language": "python",
   "name": "python3"
  },
  "language_info": {
   "codemirror_mode": {
    "name": "ipython",
    "version": 3
   },
   "file_extension": ".py",
   "mimetype": "text/x-python",
   "name": "python",
   "nbconvert_exporter": "python",
   "pygments_lexer": "ipython3",
   "version": "3.8.8"
  }
 },
 "nbformat": 4,
 "nbformat_minor": 5
}
