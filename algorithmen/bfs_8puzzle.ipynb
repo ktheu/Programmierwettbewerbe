{
 "cells": [
  {
   "cell_type": "markdown",
   "id": "4fbe2450-46ac-4afa-958c-533987e7f993",
   "metadata": {},
   "source": [
    "### 8 Puzzle mit Breitensuche\n",
    "\n",
    "<img src='./such_bild1.png'>"
   ]
  },
  {
   "cell_type": "code",
   "execution_count": 1,
   "id": "4705416c-d9b0-469e-869d-fd34222f8a45",
   "metadata": {},
   "outputs": [],
   "source": [
    "from collections import deque\n",
    "def bfs(startstate):\n",
    "    frontier =  deque([startstate])\n",
    "    prev = {startstate:None}\n",
    "    if goaltest(startstate):\n",
    "            return prev, startstate\n",
    "    while frontier:\n",
    "        state = frontier.popleft()\n",
    "        for v in nextstates(state):\n",
    "            if v not in prev:\n",
    "                prev[v] = state\n",
    "                if goaltest(v):\n",
    "                    return prev, v\n",
    "                frontier.append(v)\n",
    "    return None, None\n",
    "                \n",
    "def reconstructPath(prev,goalstate):\n",
    "    state = goalstate\n",
    "    path = []\n",
    "    while state is not None:\n",
    "        path.append(state)\n",
    "        state = prev[state]        \n",
    "    path.reverse()\n",
    "    return path\n"
   ]
  },
  {
   "cell_type": "code",
   "execution_count": 42,
   "id": "bac31a58-5761-4e96-a243-058dcc0388e8",
   "metadata": {},
   "outputs": [],
   "source": [
    "startstate = (7,2,4,5,0,6,8,3,1)\n",
    "goalstate = (0,1,2,3,4,5,6,7,8)"
   ]
  },
  {
   "cell_type": "code",
   "execution_count": 37,
   "id": "07e759e8-04f1-4312-b253-b3dd5cb16ef1",
   "metadata": {},
   "outputs": [],
   "source": [
    "def goaltest(state):\n",
    "    return state == goalstate"
   ]
  },
  {
   "cell_type": "code",
   "execution_count": 38,
   "id": "19e311a7-ba44-4963-a5cf-3204e516d48c",
   "metadata": {},
   "outputs": [],
   "source": [
    "def nextstates(state):\n",
    "    tmp = []\n",
    "    i = state.index(0)\n",
    "    for j in tauschDict[i]:\n",
    "        tmp.append(swap(state,i,j))\n",
    "    return tmp\n"
   ]
  },
  {
   "cell_type": "code",
   "execution_count": 39,
   "id": "8e6b2a0a-7155-4767-b58c-662214841888",
   "metadata": {},
   "outputs": [],
   "source": [
    "tauschDict = {0:[1,3],1:[2,4,0],2:[5,1],3:[4,6,0],4:[5,7,3,1],5:[8,4,2],6:[7,3],7:[8,6,4],8:[7,5]}"
   ]
  },
  {
   "cell_type": "code",
   "execution_count": 40,
   "id": "d05f40c6-2362-42c6-bb94-c1a41ee22b2e",
   "metadata": {},
   "outputs": [],
   "source": [
    "def swap(state,i,j):\n",
    "    tmp = list(state)\n",
    "    tmp[i],tmp[j] = tmp[j],tmp[i]\n",
    "    return tuple(tmp)"
   ]
  },
  {
   "cell_type": "code",
   "execution_count": 44,
   "id": "d0ca3b97-ea58-4235-9821-cd825de60d45",
   "metadata": {},
   "outputs": [],
   "source": [
    "prev, state = bfs(startstate)"
   ]
  },
  {
   "cell_type": "code",
   "execution_count": 50,
   "id": "2c344f92-f86a-4d77-aa7d-e6c8071d10c2",
   "metadata": {},
   "outputs": [],
   "source": [
    "path = reconstructPath(prev, state)"
   ]
  },
  {
   "cell_type": "code",
   "execution_count": 62,
   "id": "b3e13a83-015f-4cd7-8764-2bf3210320bb",
   "metadata": {},
   "outputs": [],
   "source": [
    "def show(state):\n",
    "    for i in range(0,9,3):\n",
    "        print(*state[i:i+3])\n",
    "    print()"
   ]
  },
  {
   "cell_type": "code",
   "execution_count": 63,
   "id": "73062ba0-b207-4cb5-98f6-a82ed48ee37e",
   "metadata": {},
   "outputs": [
    {
     "name": "stdout",
     "output_type": "stream",
     "text": [
      "7 2 4\n",
      "5 0 6\n",
      "8 3 1\n",
      "\n"
     ]
    }
   ],
   "source": [
    "show(startstate)"
   ]
  },
  {
   "cell_type": "code",
   "execution_count": 64,
   "id": "9f1e82a5-b237-4063-8d9d-ebcec1a90f7b",
   "metadata": {},
   "outputs": [
    {
     "name": "stdout",
     "output_type": "stream",
     "text": [
      "7 2 4\n",
      "5 0 6\n",
      "8 3 1\n",
      "\n",
      "7 2 4\n",
      "0 5 6\n",
      "8 3 1\n",
      "\n",
      "0 2 4\n",
      "7 5 6\n",
      "8 3 1\n",
      "\n",
      "2 0 4\n",
      "7 5 6\n",
      "8 3 1\n",
      "\n",
      "2 5 4\n",
      "7 0 6\n",
      "8 3 1\n",
      "\n",
      "2 5 4\n",
      "7 6 0\n",
      "8 3 1\n",
      "\n",
      "2 5 4\n",
      "7 6 1\n",
      "8 3 0\n",
      "\n",
      "2 5 4\n",
      "7 6 1\n",
      "8 0 3\n",
      "\n",
      "2 5 4\n",
      "7 6 1\n",
      "0 8 3\n",
      "\n",
      "2 5 4\n",
      "0 6 1\n",
      "7 8 3\n",
      "\n",
      "2 5 4\n",
      "6 0 1\n",
      "7 8 3\n",
      "\n",
      "2 5 4\n",
      "6 1 0\n",
      "7 8 3\n",
      "\n",
      "2 5 4\n",
      "6 1 3\n",
      "7 8 0\n",
      "\n",
      "2 5 4\n",
      "6 1 3\n",
      "7 0 8\n",
      "\n",
      "2 5 4\n",
      "6 1 3\n",
      "0 7 8\n",
      "\n",
      "2 5 4\n",
      "0 1 3\n",
      "6 7 8\n",
      "\n",
      "2 5 4\n",
      "1 0 3\n",
      "6 7 8\n",
      "\n",
      "2 5 4\n",
      "1 3 0\n",
      "6 7 8\n",
      "\n",
      "2 5 0\n",
      "1 3 4\n",
      "6 7 8\n",
      "\n",
      "2 0 5\n",
      "1 3 4\n",
      "6 7 8\n",
      "\n",
      "0 2 5\n",
      "1 3 4\n",
      "6 7 8\n",
      "\n",
      "1 2 5\n",
      "0 3 4\n",
      "6 7 8\n",
      "\n",
      "1 2 5\n",
      "3 0 4\n",
      "6 7 8\n",
      "\n",
      "1 2 5\n",
      "3 4 0\n",
      "6 7 8\n",
      "\n",
      "1 2 0\n",
      "3 4 5\n",
      "6 7 8\n",
      "\n",
      "1 0 2\n",
      "3 4 5\n",
      "6 7 8\n",
      "\n",
      "0 1 2\n",
      "3 4 5\n",
      "6 7 8\n",
      "\n"
     ]
    }
   ],
   "source": [
    "for state  in path:\n",
    "    show(state)"
   ]
  },
  {
   "cell_type": "code",
   "execution_count": null,
   "id": "ac212cad-addb-4e58-acb8-d3fbf2e8afac",
   "metadata": {},
   "outputs": [],
   "source": []
  }
 ],
 "metadata": {
  "kernelspec": {
   "display_name": "Python 3",
   "language": "python",
   "name": "python3"
  },
  "language_info": {
   "codemirror_mode": {
    "name": "ipython",
    "version": 3
   },
   "file_extension": ".py",
   "mimetype": "text/x-python",
   "name": "python",
   "nbconvert_exporter": "python",
   "pygments_lexer": "ipython3",
   "version": "3.8.8"
  }
 },
 "nbformat": 4,
 "nbformat_minor": 5
}
