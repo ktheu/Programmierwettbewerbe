{
 "cells": [
  {
   "cell_type": "markdown",
   "id": "b8e436a3-99cc-4c29-9f8e-bc0cbb238cf3",
   "metadata": {
    "tags": []
   },
   "source": [
    "### Backtracking\n",
    "\n",
    "Backtracking ist ein systematisches Ausprobieren. Wenn wir in eine Sackgasse geraten sind, gehen wir zurück (backtrack) und probieren die nächste Variante aus. Meistens sind alle möglichen Lösungen gefragt.\n",
    "\n",
    "Backtracking ist anwendbar, wenn wir eine Lösung schrittweise aufbauen können und wenn wir für eine\n",
    "Teillösung die möglichen Kandidaten aufzählen können, die die Teillösung erweitern. \n",
    "\n",
    "Eine Teillösung bezeichnen wir mit $x$. $x$ ist eine Liste mit Entscheidungen $x[0]...x[k]$, die zur Lösung führen sollen.\n",
    "\n"
   ]
  },
  {
   "cell_type": "code",
   "execution_count": null,
   "id": "fb09c5f7-1e00-418f-a01b-32596d100479",
   "metadata": {
    "tags": []
   },
   "outputs": [],
   "source": [
    "def back(x):\n",
    "    global solutions\n",
    "    if isSolution(x):\n",
    "        solutions.append(x.copy())\n",
    "    else:\n",
    "        for cand in candidates(x):\n",
    "            if isGood(cand,x):\n",
    "                x.append(cand)\n",
    "                back(x)\n",
    "                x.pop()\n",
    "                \n",
    "def isSolution(x):\n",
    "    '''\n",
    "    returns: True, wenn der Lösungsvektor x eine Lösung darstellt\n",
    "    '''\n",
    "    pass\n",
    "\n",
    "def candidates(x):\n",
    "    '''\n",
    "    returns: Liste von Entscheidungen, die den Lösungsvektor x um eine Stufe erweitern\n",
    "    '''\n",
    "    pass\n",
    "\n",
    "def isGood(cand, x):\n",
    "    '''\n",
    "    returns: True, wenn die Entscheidung cand den Lösungsvektor x sinnvoll erweitert.\n",
    "    '''\n",
    "               \n",
    "solutions = []\n",
    "back([])"
   ]
  },
  {
   "cell_type": "markdown",
   "id": "7f1f5df1-9527-4400-a114-38d8275fb5e7",
   "metadata": {},
   "source": [
    "#### Beispiel: Alle Kombinationen 3 aus 5\n",
    "\n",
    "Aus den Zahlen von 1-5 sollen alle möglichen 3er Kombinationen ermittelt werden."
   ]
  },
  {
   "cell_type": "code",
   "execution_count": 4,
   "id": "b84e9027-87cc-4acf-9f67-e8cbc613039b",
   "metadata": {
    "tags": []
   },
   "outputs": [
    {
     "name": "stdout",
     "output_type": "stream",
     "text": [
      "(1, 2, 3)\n",
      "(1, 2, 4)\n",
      "(1, 2, 5)\n",
      "(1, 3, 4)\n",
      "(1, 3, 5)\n",
      "(1, 4, 5)\n",
      "(2, 3, 4)\n",
      "(2, 3, 5)\n",
      "(2, 4, 5)\n",
      "(3, 4, 5)\n"
     ]
    }
   ],
   "source": [
    "# Das lässt sich  natürlich mit itertools lösen\n",
    "import itertools as it\n",
    "for x in it.combinations(range(1,6),r=3):\n",
    "    print(x)"
   ]
  },
  {
   "cell_type": "code",
   "execution_count": 2,
   "id": "c9ebf94a-6084-4b15-a64b-09ab182aeeb9",
   "metadata": {
    "tags": []
   },
   "outputs": [
    {
     "data": {
      "text/plain": [
       "[[1, 2, 3],\n",
       " [1, 2, 4],\n",
       " [1, 2, 5],\n",
       " [1, 3, 4],\n",
       " [1, 3, 5],\n",
       " [1, 4, 5],\n",
       " [2, 3, 4],\n",
       " [2, 3, 5],\n",
       " [2, 4, 5],\n",
       " [3, 4, 5]]"
      ]
     },
     "execution_count": 2,
     "metadata": {},
     "output_type": "execute_result"
    }
   ],
   "source": [
    "# Das lässt sich auch mit backtracking losen\n",
    "'''\n",
    "x ist ein Lösungsvektor, d.h. eine Liste von Entscheidungen, die getroffen wurden auf der Suche\n",
    "nach einer Lösung.\n",
    "'''\n",
    "def back(x):\n",
    "    if isSolution(x):\n",
    "        solutions.append(x.copy())\n",
    "    else:\n",
    "        for cand in candidates(x):\n",
    "            if isGood(cand,x):\n",
    "                x.append(cand)\n",
    "                back(x)\n",
    "                x.pop()\n",
    "                \n",
    "def isSolution(x):\n",
    "    '''\n",
    "    returns: True, wenn der Lösungsvektor x eine Lösung darstellt\n",
    "    '''\n",
    "    return len(x) == 3  \n",
    "\n",
    "def candidates(x):\n",
    "    '''\n",
    "    returns: Liste von Entscheidungen, die den Lösungsvektor x um eine Stufe erweitern\n",
    "    '''\n",
    "    return list(range(1,6))\n",
    "\n",
    "\n",
    "def isGood(cand, x):\n",
    "    '''\n",
    "    returns: True, wenn die Entscheidung cand den Lösungsvektor x sinnvoll erweitert.\n",
    "    '''\n",
    "    return cand not in x and (len(x) == 0 or cand > x[-1])  # Lösungen sind aufsteigend sortiert   \n",
    "    \n",
    "\n",
    "               \n",
    "solutions = []\n",
    "back([])\n",
    "solutions"
   ]
  },
  {
   "cell_type": "markdown",
   "id": "2ac24a98-7fba-41af-b045-7915288cdac8",
   "metadata": {},
   "source": [
    "Die folgende Version fasst die einzelnen Elemente zusammen und nennt die Variablen anders. Der Lösungsvektor heißt jetzt *path* und *x* ist ein Element des Lösungsvektors."
   ]
  },
  {
   "cell_type": "code",
   "execution_count": 21,
   "id": "9c8b2424-bfc4-46cd-ac62-4abb2a65c124",
   "metadata": {
    "tags": []
   },
   "outputs": [
    {
     "name": "stdout",
     "output_type": "stream",
     "text": [
      "[[1, 2, 3], [1, 2, 4], [1, 2, 5], [1, 3, 4], [1, 3, 5], [1, 4, 5], [2, 3, 4], [2, 3, 5], [2, 4, 5], [3, 4, 5]]\n"
     ]
    }
   ],
   "source": [
    "def back(path):\n",
    "    if len(path) == 3:\n",
    "        solutions.append(path.copy())\n",
    "    else:\n",
    "        for x in range(1,6):\n",
    "            if x not in path and (len(path) == 0 or x > path[-1]):\n",
    "                path.append(x)\n",
    "                back(path)\n",
    "                path.pop()\n",
    "                \n",
    "solutions = []\n",
    "back([])\n",
    "print(solutions)"
   ]
  },
  {
   "cell_type": "markdown",
   "id": "b4b73e2d-3657-4109-8a13-83de96c291a8",
   "metadata": {},
   "source": [
    "Im Vergleich dazu die rekursive Tiefensuche. Die nextstates werden als Liste erzeugt. Beim backtracking wird derselbe Pfad immer wieder verändert. Erst wenn eine Lösung gefunden wird, wird eine Kopie gesichert."
   ]
  },
  {
   "cell_type": "code",
   "execution_count": 23,
   "id": "6cfc1d63-1c82-4ec6-ae2a-a33e4651bb33",
   "metadata": {
    "tags": []
   },
   "outputs": [
    {
     "name": "stdout",
     "output_type": "stream",
     "text": [
      "[[1, 2, 3], [1, 2, 4], [1, 2, 5], [1, 3, 4], [1, 3, 5], [1, 4, 5], [2, 3, 4], [2, 3, 5], [2, 4, 5], [3, 4, 5]]\n"
     ]
    }
   ],
   "source": [
    "def nextstates(path):\n",
    "    if len(path) == 3: return []\n",
    "    tmp = []\n",
    "    for x in range(1, 6):\n",
    "        if x not in path and (len(path) == 0 or x > path[-1]):\n",
    "            tmp.append(path+[x])\n",
    "    return tmp\n",
    "\n",
    "def dfs(path):\n",
    "    if len(path) == 3:\n",
    "        solutions.append(path.copy())\n",
    "    else:\n",
    "        for p in nextstates(path):\n",
    "            dfs(p)\n",
    "                \n",
    "solutions = []\n",
    "dfs([])\n",
    "print(solutions) "
   ]
  },
  {
   "cell_type": "markdown",
   "id": "5949051e-b2f0-4f5a-b10e-6f6cedd17e0e",
   "metadata": {},
   "source": [
    "### Breitensuche\n",
    "\n",
    "Wir beginnen mit einem startstate. Mögliche Folgeaktionen führen uns zu den nextstates. Die Knoten in unserem Suchbaum sind nicht die Aktionen, sondern die aus den Aktionen resultierenden Zustände. Unterschiedliche Aktionsfolgen können dieselben Zustände erzeugen. Dieselben Zustände wollen wir nicht nicht mehrfach untersuchen.\n",
    "\n",
    "Die states modellieren wir als Tuple, weil wir sie als keys in dem dictionary prev verwenden wollen. Das dictionary prev speichert für ein Tuple den Vorgänger. Es dient zwei Zwecken: 1. Wir können feststellen, ob wir ein state im Laufe der Suche schon einmal gesehen haben. 2. Wir können die Abfolge der Aktionen rekonstruieren, die uns vom start zum ziel führen.\n"
   ]
  },
  {
   "cell_type": "code",
   "execution_count": 72,
   "id": "4b49bd3f-5ba4-4c0f-8b7f-64c4820ad2bf",
   "metadata": {
    "tags": []
   },
   "outputs": [],
   "source": [
    "from collections import deque\n",
    "def bfs(s):\n",
    "    ''' \n",
    "    s = startstate als Tuple\n",
    "    returns:\n",
    "        prev, goalstate falls Suche erfolgreich\n",
    "        None, None falls Suche nicht erfolgreich\n",
    "        \n",
    "        prev: dict mit den Vorgängern der states\n",
    "        goalstate: state, der den goaltest besteht\n",
    "    '''\n",
    "    frontier =  deque([s])\n",
    "    prev = {s:None}\n",
    "    while frontier:\n",
    "        state = frontier.popleft()  \n",
    "        if goaltest(state):\n",
    "            return prev, state\n",
    "        for v in nextstates(state):\n",
    "            if v not in prev:\n",
    "                frontier.append(v)\n",
    "                prev[v] = state\n",
    "    return None, None\n",
    "\n",
    "def reconstructPath(prev,goalstate):\n",
    "    '''\n",
    "    returns: Pfad vom startstate zum goalstate\n",
    "    '''\n",
    "    state = goalstate\n",
    "    path = []\n",
    "    while state is not None:\n",
    "        path.append(state)\n",
    "        state = prev[state]\n",
    "    path.reverse()\n",
    "    return path\n",
    "\n",
    "def goaltest(state):\n",
    "    '''\n",
    "    state: Spielstellung\n",
    "    returns: True, wenn state den goaltest besteht\n",
    "    '''  \n",
    "    pass\n",
    "\n",
    "def nextstates(state):\n",
    "    '''\n",
    "    returns: Liste mit Tuples, die Liste mit den möglichen Folgestates von state\n",
    "    '''\n",
    "    pass\n",
    " "
   ]
  },
  {
   "cell_type": "markdown",
   "id": "6c676158-4a9b-4b01-9aa3-5c54beacb558",
   "metadata": {},
   "source": [
    "#### Beispiel: 8-Puzzle"
   ]
  },
  {
   "cell_type": "code",
   "execution_count": 73,
   "id": "0673d659-45f7-4a18-b8f8-d4a0be5a9a23",
   "metadata": {
    "tags": []
   },
   "outputs": [],
   "source": [
    "from collections import deque\n",
    "def bfs(s):\n",
    "    frontier =  deque([s])\n",
    "    prev = {s:None}\n",
    "    while frontier:\n",
    "        state = frontier.popleft()  \n",
    "        if goaltest(state):\n",
    "            return prev, state\n",
    "        for v in nextstates(state):\n",
    "            if v not in prev:\n",
    "                frontier.append(v)\n",
    "                prev[v] = state\n",
    "    return None, None\n",
    "\n",
    "def reconstructPath(prev,goalstate):\n",
    "    '''\n",
    "    returns: Pfad vom startstate zum goalstate\n",
    "    '''\n",
    "    state = goalstate\n",
    "    path = []\n",
    "    while state is not None:\n",
    "        path.append(state)\n",
    "        state = prev[state]\n",
    "    path.reverse()\n",
    "    return path\n",
    "\n",
    "def goaltest(state):\n",
    "    '''\n",
    "    state: Spielstellung\n",
    "    returns: True, wenn state den goaltest besteht\n",
    "    '''  \n",
    "    return state == (0,1,2,3,4,5,6,7,8)\n",
    "\n",
    "# wir vereinbaren die Reihenfolge: oben-unten-links-rechts\n",
    "tausch = {0:[3,1], 1:[4,0,2],2:[5,1],3:[0,6,4],4:[1,7,3,5],5:[2,8,4],6:[3,7],7:[4,6,8],8:[5,7]}\n",
    "def nextstates(state):\n",
    "    tmp = []\n",
    "    i = state.index(0)\n",
    "    for j in tausch[i]:\n",
    "        a = list(state)\n",
    "        a[i],a[j] = a[j],a[i]\n",
    "        tmp.append(tuple(a))\n",
    "    return tmp\n",
    "\n",
    "def reconstructActions(path):\n",
    "    tmp = []\n",
    "    for i in range(len(path)-1):\n",
    "        s1 = path[i]\n",
    "        s2 = path[i+1]\n",
    "        i1 = s1.index(0)\n",
    "        i2 = s2.index(0)\n",
    "        if i2 == i1+1:   # right\n",
    "            tmp.append('R')\n",
    "        elif i2 == i1-1: # left\n",
    "            tmp.append('L')\n",
    "        elif i2 == i1-3: # up\n",
    "            tmp.append('U')\n",
    "        elif i2 == i1+3: # donw\n",
    "            tmp.append('D')\n",
    "        else:\n",
    "            raise RuntimeError('Fehler')\n",
    "    return tmp\n",
    "    "
   ]
  },
  {
   "cell_type": "code",
   "execution_count": 74,
   "id": "15a210f1-dfb4-4001-8815-6aef90833a9c",
   "metadata": {
    "tags": []
   },
   "outputs": [
    {
     "name": "stdout",
     "output_type": "stream",
     "text": [
      "L U R D D L U R R U L L D R R D L U R U L D D L U U\n",
      "Anzahl Züge: 26\n",
      "CPU times: total: 266 ms\n",
      "Wall time: 268 ms\n"
     ]
    }
   ],
   "source": [
    "%%time\n",
    "startstate = (7,2,4,5,0,6,8,3,1)\n",
    "prev, goalstate = bfs(startstate)\n",
    "path = reconstructPath(prev, goalstate)\n",
    "actions = reconstructActions(path)\n",
    "print(*actions)\n",
    "print('Anzahl Züge:',len(actions))"
   ]
  },
  {
   "cell_type": "markdown",
   "id": "a3d792f2-4f7f-4918-a76c-0f6928861401",
   "metadata": {},
   "source": [
    "### Tiefensuche\n",
    "\n",
    "Der Code für die iterative Tiefensuche gleicht dem der Breitensuche, nur verwenden wir als frontier einen Stack statt einer Schlange."
   ]
  },
  {
   "cell_type": "code",
   "execution_count": 77,
   "id": "97ade106-06fa-4ca3-a33f-995e93cecd37",
   "metadata": {
    "tags": []
   },
   "outputs": [],
   "source": [
    "def dfs(s):\n",
    "    frontier =  [s]\n",
    "    prev = {s:None}\n",
    "    while frontier:\n",
    "        state = frontier.pop()  \n",
    "        if goaltest(state):\n",
    "            return prev, state\n",
    "        for v in nextstates(state):\n",
    "            if v not in prev:\n",
    "                frontier.append(v)\n",
    "                prev[v] = state\n",
    "    return None, None"
   ]
  },
  {
   "cell_type": "markdown",
   "id": "8cf1b51d-68f4-443c-bad1-8e16576aa881",
   "metadata": {},
   "source": [
    "#### Beispiel: Erreichbarkeit in einem Graphen\n",
    "\n",
    "Wir wollen in dem Graphen alle erreichbaren Knoten durchlaufen, also entfällt der goaltest. Wenn uns der Weg zu den Knoten nicht interessiert, ersetzen wir das dict *prev* durch das set *visited*. Die nextstates sind die Nachbarn des Knotens.\n",
    "\n",
    "<img src='graph1.png' width=\"300\">"
   ]
  },
  {
   "cell_type": "code",
   "execution_count": 4,
   "id": "68df6523-7e11-46cd-bed3-c1994d790958",
   "metadata": {
    "tags": []
   },
   "outputs": [
    {
     "name": "stdout",
     "output_type": "stream",
     "text": [
      "{'a', 'd', 'c', 'b'}\n",
      "{'c', 'd', 'b'}\n"
     ]
    }
   ],
   "source": [
    "G = {'a':set('bc'), 'b':set('d'), 'c':set('bd'), 'd':set('b')}\n",
    "\n",
    "def dfs(s):\n",
    "    frontier =  [s]\n",
    "    visited = set()\n",
    "    while frontier:\n",
    "        w = frontier.pop()  \n",
    "        visited.add(w)\n",
    "        for v in G[w]:\n",
    "            if v not in visited:\n",
    "                frontier.append(v)\n",
    "    return visited\n",
    "\n",
    "print(dfs('a'))\n",
    "print(dfs('c'))"
   ]
  },
  {
   "cell_type": "markdown",
   "id": "5985fd1d-6828-4cf2-9f17-0acc6cfe2505",
   "metadata": {},
   "source": [
    "Die rekursive Variante"
   ]
  },
  {
   "cell_type": "code",
   "execution_count": 9,
   "id": "4be51016-652f-43aa-87db-22d829f2e603",
   "metadata": {
    "tags": []
   },
   "outputs": [
    {
     "name": "stdout",
     "output_type": "stream",
     "text": [
      "['b', 'c', 'd']\n"
     ]
    }
   ],
   "source": [
    "def dfs(v):  \n",
    "    visited[v] = True\n",
    "    for w in G[v]:\n",
    "        if not visited[w]:\n",
    "            dfs(w) \n",
    "\n",
    "visited =  {v : False for v in G}      \n",
    "dfs('c')\n",
    "print([v for v in G if visited[v]])\n"
   ]
  },
  {
   "cell_type": "code",
   "execution_count": null,
   "id": "7bd254b0-e932-4cab-8a7d-7f361ae2ef57",
   "metadata": {},
   "outputs": [],
   "source": []
  }
 ],
 "metadata": {
  "kernelspec": {
   "display_name": "Python 3 (ipykernel)",
   "language": "python",
   "name": "python3"
  },
  "language_info": {
   "codemirror_mode": {
    "name": "ipython",
    "version": 3
   },
   "file_extension": ".py",
   "mimetype": "text/x-python",
   "name": "python",
   "nbconvert_exporter": "python",
   "pygments_lexer": "ipython3",
   "version": "3.11.2"
  }
 },
 "nbformat": 4,
 "nbformat_minor": 5
}
