{
 "cells": [
  {
   "cell_type": "markdown",
   "id": "ba7e33fc-b651-45db-98c3-4733d0726cf4",
   "metadata": {},
   "source": [
    "# Simulated Annealing"
   ]
  },
  {
   "cell_type": "code",
   "execution_count": 17,
   "id": "55f7f3a8-60e9-43b0-a87c-c38745969d65",
   "metadata": {},
   "outputs": [],
   "source": [
    "import random\n",
    "import math\n",
    "\n",
    "'''\n",
    "berlin52 ist eine Liste mit Koordinaten. \n",
    "Der Index in dieser Liste verweist auf die Koordinate\n",
    "\n",
    "eine Tour ist eine Liste der Indizes der Städt, die besucht werden sollen.\n",
    "\n",
    "'''\n",
    "\n",
    "def distance(tour):\n",
    "    '''\n",
    "    cities: Liste mit Koordinaten\n",
    "    tour: Liste mit Indizes der Cities\n",
    "    returns: distance, wenn die cities in der Reihenfolge von tour besucht werden\n",
    "        und zum Anfangspunkt zurückgekehrt wird.\n",
    "    '''\n",
    "    n = len(tour)\n",
    "    result = 0\n",
    "    for i in range(len(tour)):\n",
    "        k = tour[i]\n",
    "        l = tour[(i+1)%n]\n",
    "        xd = cities[l][0] - cities[k][0]\n",
    "        yd = cities[l][1] - cities[k][1]\n",
    "        result += math.sqrt(xd*xd+yd*yd)\n",
    "    return result\n",
    "\n",
    "def neighbor(tour):\n",
    "    '''\n",
    "    tour: Liste von Indizes \n",
    "    returns: Liste mit Indizes, zufällig an zwei Stellen geswappt\n",
    "    '''\n",
    "    # Sortierung wichtig, sonst wird tour länger!!!\n",
    "    i,j = sorted(random.sample(range(len(tour)),2))   \n",
    "    w1 = tour[:i] \n",
    "    w2 = [tour[i],tour[j]]\n",
    "    w3 = tour[j-1:i:-1]  \n",
    "    w4 = tour[j+1:] \n",
    "    return w1 + w2 + w3 + w4\n",
    "\n",
    "\n",
    "berlin52 = [(565, 575), (25, 185), (345, 750), (945, 685), (845, 655), (880, 660), (25, 230), \n",
    "            (525, 1000), (580, 1175), (650, 1130), (1605, 620), (1220, 580), (1465, 200), (1530, 5),\n",
    "            (845, 680), (725, 370), (145, 665), (415, 635), (510, 875), (560, 365), (300, 465), \n",
    "            (520, 585), (480, 415), (835, 625), (975, 580), (1215, 245), (1320, 315), (1250, 400),\n",
    "            (660, 180), (410, 250), (420, 555), (575, 665), (1150, 1160), (700, 580), (685, 595),\n",
    "            (685, 610), (770, 610), (795, 645), (720, 635), (760, 650), (475, 960), (95, 260),\n",
    "            (875, 920), (700, 500), (555, 815), (830, 485), (1170, 65), (830, 610), (605, 625), \n",
    "            (595, 360), (1340, 725), (1740, 245)]\n",
    "\n",
    "cities = berlin52\n",
    "starttour = list(range(len(berlin52)))"
   ]
  },
  {
   "cell_type": "code",
   "execution_count": 20,
   "id": "e5c49531-a650-4952-b19c-4010ad81cb43",
   "metadata": {},
   "outputs": [],
   "source": [
    "\n",
    "def anneal(tour):\n",
    "    dist = distance(tour)\n",
    "    tour = tour.copy()\n",
    "    T = 100\n",
    "    T_min = 0.0005\n",
    "    alpha = 0.995\n",
    "    H = 125\n",
    "    while T > T_min:\n",
    "        for i in range(H):\n",
    "            new_tour = neighbor(tour)\n",
    "            new_dist = distance(new_tour)\n",
    "            if (new_dist < dist):\n",
    "                tour = new_tour.copy()\n",
    "                dist = new_dist\n",
    "            else:\n",
    "                loss = new_dist - dist\n",
    "                if random.random() <=  math.exp(-loss/T):\n",
    "                    tour = new_tour[:]\n",
    "                    dist = new_dist\n",
    "        T = T*alpha\n",
    "    return tour\n",
    "\n",
    " "
   ]
  },
  {
   "cell_type": "code",
   "execution_count": 33,
   "id": "40fa45d7-9075-4b81-abc9-e4adcc3db772",
   "metadata": {},
   "outputs": [
    {
     "name": "stdout",
     "output_type": "stream",
     "text": [
      "57\n"
     ]
    }
   ],
   "source": [
    "tour = berlin52\n",
    "i, j = 9,5\n",
    "\n",
    "w1 = tour[:i] \n",
    "w2 = [tour[i],tour[j]]\n",
    "w3 = tour[j-1:i:-1]  \n",
    "w4 = tour[j+1:] \n",
    "print(len(w1+w2+w3+w4))"
   ]
  },
  {
   "cell_type": "code",
   "execution_count": 21,
   "id": "8ad4baac-623f-4ed4-b04f-af1b5b2e283b",
   "metadata": {},
   "outputs": [
    {
     "name": "stdout",
     "output_type": "stream",
     "text": [
      "0 21 30 17 2 16 20 41 6 1 29 22 19 49 28 15 45 43 33 34 35 38 39 36 37 47 23 4 14 5 3 24 11 27 26 25 46 12 13 51 10 50 32 42 9 8 7 40 18 44 31 48 \n",
      "Weglänge = 7544.36590190409\n",
      "CPU times: total: 12.1 s\n",
      "Wall time: 12.1 s\n"
     ]
    }
   ],
   "source": [
    "%%time\n",
    "cities = berlin52\n",
    "tour = list(range(len(cities)))\n",
    "#explored = []\n",
    "tour = anneal(tour)\n",
    "for x in tour:\n",
    "    print(x, end=' ')\n",
    "print()\n",
    "print(f'Weglänge = {distance(tour)}')"
   ]
  },
  {
   "cell_type": "code",
   "execution_count": 36,
   "id": "ff442748-ad4c-40a4-bc5e-d5d083c538f8",
   "metadata": {},
   "outputs": [
    {
     "ename": "KeyboardInterrupt",
     "evalue": "",
     "output_type": "error",
     "traceback": [
      "\u001b[1;31m---------------------------------------------------------------------------\u001b[0m",
      "\u001b[1;31mKeyboardInterrupt\u001b[0m                         Traceback (most recent call last)",
      "File \u001b[1;32m<timed exec>:4\u001b[0m, in \u001b[0;36m<module>\u001b[1;34m\u001b[0m\n",
      "Input \u001b[1;32mIn [1]\u001b[0m, in \u001b[0;36mdistance\u001b[1;34m(tour, cities)\u001b[0m\n\u001b[0;32m     24\u001b[0m     xd \u001b[38;5;241m=\u001b[39m cities[l][\u001b[38;5;241m0\u001b[39m] \u001b[38;5;241m-\u001b[39m cities[k][\u001b[38;5;241m0\u001b[39m]\n\u001b[0;32m     25\u001b[0m     yd \u001b[38;5;241m=\u001b[39m cities[l][\u001b[38;5;241m1\u001b[39m] \u001b[38;5;241m-\u001b[39m cities[k][\u001b[38;5;241m1\u001b[39m]\n\u001b[1;32m---> 26\u001b[0m     result \u001b[38;5;241m+\u001b[39m\u001b[38;5;241m=\u001b[39m math\u001b[38;5;241m.\u001b[39msqrt(xd\u001b[38;5;241m*\u001b[39mxd\u001b[38;5;241m+\u001b[39myd\u001b[38;5;241m*\u001b[39myd)\n\u001b[0;32m     27\u001b[0m \u001b[38;5;28;01mreturn\u001b[39;00m result\n",
      "\u001b[1;31mKeyboardInterrupt\u001b[0m: "
     ]
    }
   ],
   "source": [
    "%%time\n",
    "while T > T_min:\n",
    "    for i in range(H):\n",
    "        new_tour = neighbor(tour)\n",
    "        new_dist = distance(new_tour,cities)\n",
    "        if (new_dist < dist):\n",
    "            tour = new_tour \n",
    "            dist = new_dist\n",
    "        else:\n",
    "            loss = new_dist - dist\n",
    "            if random.random() <=  math.exp(-loss/T):\n",
    "\n",
    "                tour = new_tour \n",
    "                dist = new_dist\n",
    "         \n",
    "    T = T*alpha\n",
    "    \n",
    "    \n",
    "print(f'Distance = {distance(tour,cities)}')"
   ]
  },
  {
   "cell_type": "code",
   "execution_count": null,
   "id": "4081a46e-a5bb-4b4e-a95d-10bc5d88864f",
   "metadata": {},
   "outputs": [],
   "source": []
  },
  {
   "cell_type": "code",
   "execution_count": null,
   "id": "3b2959fd-f8ef-4c60-8bf0-03916e0a9b86",
   "metadata": {},
   "outputs": [],
   "source": []
  },
  {
   "cell_type": "code",
   "execution_count": null,
   "id": "fd6d317d-55a4-435d-a744-76b586c12fb0",
   "metadata": {},
   "outputs": [],
   "source": []
  }
 ],
 "metadata": {
  "kernelspec": {
   "display_name": "base",
   "language": "python",
   "name": "python3"
  },
  "language_info": {
   "codemirror_mode": {
    "name": "ipython",
    "version": 3
   },
   "file_extension": ".py",
   "mimetype": "text/x-python",
   "name": "python",
   "nbconvert_exporter": "python",
   "pygments_lexer": "ipython3",
   "version": "3.10.6"
  },
  "vscode": {
   "interpreter": {
    "hash": "5497d93d61f97409de7b7f2fc1ef9587b6eab58d21fac1992c1f6d4a77dcee3b"
   }
  }
 },
 "nbformat": 4,
 "nbformat_minor": 5
}
