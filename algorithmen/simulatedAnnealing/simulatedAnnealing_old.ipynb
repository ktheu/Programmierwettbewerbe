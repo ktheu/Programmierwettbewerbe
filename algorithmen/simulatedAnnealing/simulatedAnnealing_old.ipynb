{
 "cells": [
  {
   "cell_type": "code",
   "execution_count": 1,
   "metadata": {},
   "outputs": [],
   "source": [
    "import random  \n",
    "import math  \n",
    "\n",
    "def berlin52():\n",
    "    return [[565,575],[25,185],[345,750],[945,685],[845,655],\n",
    "    [880,660],[25,230],[525,1000],[580,1175],[650,1130],[1605,620],\n",
    "    [1220,580],[1465,200],[1530,5],[845,680],[725,370],[145,665],\n",
    "    [415,635],[510,875],[560,365],[300,465],[520,585],[480,415],\n",
    "    [835,625],[975,580],[1215,245],[1320,315],[1250,400],[660,180],\n",
    "    [410,250],[420,555],[575,665],[1150,1160],[700,580],[685,595],\n",
    "    [685,610],[770,610],[795,645],[720,635],[760,650],[475,960],\n",
    "    [95,260],[875,920],[700,500],[555,815],[830,485],[1170,65],\n",
    "    [830,610],[605,625],[595,360],[1340,725],[1740,245]]\n",
    "\n",
    " \n",
    "def dist1(i,j):\n",
    "    '''\n",
    "    returns: Entfernung zwischen der i-ten und j-ten Stadt\n",
    "    '''\n",
    "    x1,y1 = cities[i][0], cities[i][1]\n",
    "    x2,y2 = cities[j][0], cities[j][1]\n",
    "    return round(math.sqrt((x1-x2)**2 + (y1-y2)**2))\n",
    "\n",
    "\n",
    "def distance(tour):\n",
    "    '''\n",
    "    tour: Liste mit einer Anordnung der Städteindizes\n",
    "    returns: Länge der Tour\n",
    "    '''\n",
    "    summe = 0\n",
    "    for i in range(len(cities)-1):\n",
    "         summe += dist1(tour[i],tour[i+1])\n",
    "    return summe + dist1(tour[-1],tour[0])\n",
    "\n",
    "def nearest(i,iset):\n",
    "    '''\n",
    "    iset: set von indizes, aus denen die nächstgelegene Stadt zu cities[i]\n",
    "        gesucht wird\n",
    "    return: index der nächstgelegenen Stadt\n",
    "    '''\n",
    "    bestIndex = -1\n",
    "    bestDist = float('inf')\n",
    "     \n",
    "    for k in iset:\n",
    "        if dist1(k,i) < bestDist:\n",
    "            bestDist = dist1(k,i)\n",
    "            bestIndex = k\n",
    "\n",
    "    return bestIndex\n",
    "\n",
    "def greedy(start=0):\n",
    "    iset = set(range(len(cities)))\n",
    "    k = start\n",
    "    tour = []\n",
    "    \n",
    "    while iset:\n",
    "        tour.append(k)\n",
    "        iset.remove(k)\n",
    "        k = nearest(k,iset)\n",
    "    return tour\n",
    "\n",
    "def swap(tour,i,j):\n",
    "    w1 = tour[:i] \n",
    "    w2 = [tour[i],tour[j]]\n",
    "    w3 = tour[j-1:i:-1]  \n",
    "    w4 = tour[j+1:] \n",
    "    return w1 + w2 + w3 + w4\n",
    "\n",
    "def neighbor(tour):\n",
    "    i,j = sorted(random.sample(range(len(tour)),2))\n",
    "    return swap(tour,i,j)\n",
    "\n",
    "def anneal(tour):\n",
    "    dist = distance(tour)\n",
    "    tour = tour.copy()\n",
    "    T = 100\n",
    "    T_min = 0.0005\n",
    "    alpha = 0.995\n",
    "    H = 125\n",
    "    while T > T_min:\n",
    "        for i in range(H):\n",
    "            new_tour = neighbor(tour)\n",
    "            new_dist = distance(new_tour)\n",
    "            if (new_dist < dist):\n",
    "                tour = new_tour.copy()\n",
    "                dist = new_dist\n",
    "            else:\n",
    "                loss = new_dist - dist\n",
    "                if random.random() <=  math.exp(-loss/T):\n",
    "                    tour = new_tour[:]\n",
    "                    dist = new_dist\n",
    "        T = T*alpha\n",
    "    return tour\n"
   ]
  },
  {
   "cell_type": "code",
   "execution_count": 2,
   "metadata": {},
   "outputs": [
    {
     "name": "stdout",
     "output_type": "stream",
     "text": [
      "0 21 17 30 22 19 49 15 43 45 24 11 50 10 51 13 12 26 27 25 46 28 29 1 6 41 20 16 2 44 18 40 7 8 9 32 42 3 5 14 4 23 47 37 36 39 38 33 34 35 48 31 \n"
     ]
    },
    {
     "ename": "NameError",
     "evalue": "name 'dist' is not defined",
     "output_type": "error",
     "traceback": [
      "\u001b[1;31m---------------------------------------------------------------------------\u001b[0m",
      "\u001b[1;31mNameError\u001b[0m                                 Traceback (most recent call last)",
      "File \u001b[1;32m<timed exec>:8\u001b[0m, in \u001b[0;36m<module>\u001b[1;34m\u001b[0m\n",
      "\u001b[1;31mNameError\u001b[0m: name 'dist' is not defined"
     ]
    }
   ],
   "source": [
    "%%time\n",
    "cities = berlin52()\n",
    "tour = list(range(len(cities)))\n",
    "#explored = []\n",
    "tour = anneal(tour)\n",
    "for x in tour:\n",
    "    print(x, end=' ')\n",
    "print()\n",
    "print(f'Weglänge = {dist(tour)}')"
   ]
  },
  {
   "cell_type": "code",
   "execution_count": null,
   "metadata": {},
   "outputs": [],
   "source": []
  }
 ],
 "metadata": {
  "kernelspec": {
   "display_name": "Python 3 (ipykernel)",
   "language": "python",
   "name": "python3"
  },
  "language_info": {
   "codemirror_mode": {
    "name": "ipython",
    "version": 3
   },
   "file_extension": ".py",
   "mimetype": "text/x-python",
   "name": "python",
   "nbconvert_exporter": "python",
   "pygments_lexer": "ipython3",
   "version": "3.10.6"
  }
 },
 "nbformat": 4,
 "nbformat_minor": 4
}
