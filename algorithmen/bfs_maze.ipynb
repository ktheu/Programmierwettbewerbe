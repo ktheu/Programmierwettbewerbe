{
 "cells": [
  {
   "cell_type": "code",
   "execution_count": 50,
   "id": "90f44dd7-6016-4afb-a3f7-00856883d4f3",
   "metadata": {},
   "outputs": [
    {
     "name": "stdout",
     "output_type": "stream",
     "text": [
      "###################################################################\n",
      "#                                                                 #\n",
      "#                                                                 #\n",
      "#                                                                 #\n",
      "#                       #################                         #\n",
      "#                       #                                         #\n",
      "#                       #                     #                   #\n",
      "#                       #                     #                   #\n",
      "#                       #                     #                   #\n",
      "#                       #                              #          #\n",
      "#                       #      ####################    #          #\n",
      "#                       #                              #          #\n",
      "#                       #           E                  #          #\n",
      "#                       ################## #############          #\n",
      "#                                                                 #\n",
      "#                                                                 #\n",
      "#                                                                 #\n",
      "#     S                                                           #\n",
      "#                                                                 #\n",
      "###################################################################\n"
     ]
    }
   ],
   "source": [
    "f = open('maze02.txt')      \n",
    "lines = f.read().splitlines()\n",
    "\n",
    "grid = [list(s) for s in lines]\n",
    "def showGrid():\n",
    "    for a in grid:\n",
    "        print(''.join(a))\n",
    "        \n",
    "        \n",
    "def getStart():\n",
    "    for x in range(len(grid)):\n",
    "        for y in range(len(grid[0])):\n",
    "            if grid[x][y] == 'S':\n",
    "                return x, y\n",
    "            \n",
    "showGrid()"
   ]
  },
  {
   "cell_type": "code",
   "execution_count": 51,
   "id": "646516ae-16cd-42eb-85fc-7dce5e5f6156",
   "metadata": {},
   "outputs": [],
   "source": [
    "from collections import deque\n",
    "def bfs(startstate):\n",
    "    frontier =  deque([startstate])\n",
    "    prev = {startstate:None}\n",
    "    if goaltest(startstate):\n",
    "            return prev, startstate\n",
    "    while frontier:\n",
    "        state = frontier.popleft()\n",
    "        for v in nextstates(state):\n",
    "            if v not in prev:\n",
    "                prev[v] = state\n",
    "                if goaltest(v):\n",
    "                    return prev, v\n",
    "                frontier.append(v)\n",
    "    return None, None\n",
    "                \n",
    "def reconstructPath(prev,goalstate):\n",
    "    state = goalstate\n",
    "    path = []\n",
    "    while state is not None:\n",
    "        path.append(state)\n",
    "        state = prev[state]        \n",
    "    path.reverse()\n",
    "    return path\n",
    "\n",
    "def goaltest(state):\n",
    "    return grid[state[0]][state[1]]  == 'E'\n",
    "\n",
    "def nextstates(state):\n",
    "    x, y = state\n",
    "    tmp = []\n",
    "    for xd, yd in [(1,0),(-1,0),(0,1),(0,-1),]:\n",
    "        xn, yn = x+xd, y+yd,\n",
    "        if grid[xn][yn] != '#':\n",
    "            tmp.append((xn,yn))\n",
    "    return tmp"
   ]
  },
  {
   "cell_type": "code",
   "execution_count": 52,
   "id": "ec9a34a5-457f-4518-bb2d-1b87f966dde0",
   "metadata": {},
   "outputs": [
    {
     "name": "stdout",
     "output_type": "stream",
     "text": [
      "###################################################################\n",
      "#                                                                 #\n",
      "#                                                                 #\n",
      "#                                                                 #\n",
      "#                       #################                         #\n",
      "#                       #                                         #\n",
      "#                       #                     #                   #\n",
      "#                       #                     #                   #\n",
      "#                       #                     #                   #\n",
      "#                       #                              #          #\n",
      "#                       #      ####################    #          #\n",
      "#                       #                              #          #\n",
      "#                       #           Eoooooo            #          #\n",
      "#                       ##################o#############          #\n",
      "#     ooooooooooooooooooooooooooooooooooooo                       #\n",
      "#     o                                                           #\n",
      "#     o                                                           #\n",
      "#     S                                                           #\n",
      "#                                                                 #\n",
      "###################################################################\n"
     ]
    }
   ],
   "source": [
    "startstate = getStart()\n",
    "prev, goalstate = bfs(startstate)\n",
    "path = reconstructPath(prev, goalstate)\n",
    "for (x,y) in path:\n",
    "    if ((x,y) != startstate and (x,y) != goalstate):\n",
    "        grid[x][y]='o'\n",
    "showGrid()"
   ]
  },
  {
   "cell_type": "code",
   "execution_count": null,
   "id": "1678bd26-379f-4cff-acef-c8eeeefc16be",
   "metadata": {},
   "outputs": [],
   "source": []
  }
 ],
 "metadata": {
  "kernelspec": {
   "display_name": "Python 3 (ipykernel)",
   "language": "python",
   "name": "python3"
  },
  "language_info": {
   "codemirror_mode": {
    "name": "ipython",
    "version": 3
   },
   "file_extension": ".py",
   "mimetype": "text/x-python",
   "name": "python",
   "nbconvert_exporter": "python",
   "pygments_lexer": "ipython3",
   "version": "3.11.2"
  }
 },
 "nbformat": 4,
 "nbformat_minor": 5
}
