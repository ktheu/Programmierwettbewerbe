{
 "cells": [
  {
   "cell_type": "markdown",
   "id": "9658c832-7805-497d-8373-4858d534f4b9",
   "metadata": {},
   "source": [
    "### Das Haus vom Nikolaus mit Backtracking"
   ]
  },
  {
   "cell_type": "code",
   "execution_count": 49,
   "id": "0de78e79-bb98-4020-bd75-ed4bd556c3d6",
   "metadata": {},
   "outputs": [
    {
     "name": "stdout",
     "output_type": "stream",
     "text": [
      "44\n"
     ]
    }
   ],
   "source": [
    "# Graph als Adjazenzmatrix\n",
    "import numpy as np\n",
    "a = [0,1,1,0,1,  1,0,1,0,1,  1,1,0,1,1,  0,0,1,0,1,  1,1,1,1,0]\n",
    "a= np.array(a).reshape(5,5)\n",
    "x=[0]*9                     # Der Lösungsvektor\n",
    "def back(k):\n",
    "    if (k == 9): solutions.append(tuple(x))\n",
    "    else:\n",
    "        prev = x[k-1]    # der Vorgänger Eintrag\n",
    "        for i in range(5):\n",
    "            if a[i,prev] == 1:\n",
    "                x[k] = i\n",
    "                a[i,prev]= 0\n",
    "                a[prev,i] = 0\n",
    "                back(k+1)\n",
    "                a[i,prev]= 1\n",
    "                a[prev,i] = 1\n",
    "solutions = []\n",
    "back(1)\n",
    "print(len(solutions))\n"
   ]
  },
  {
   "cell_type": "markdown",
   "id": "857a679e-7b60-40cf-bf7f-a14e5010844d",
   "metadata": {},
   "source": [
    "### Graph mit Adjazenzlisten"
   ]
  },
  {
   "cell_type": "code",
   "execution_count": 50,
   "id": "7095e018-6220-4d31-a4a1-bb38ec426f69",
   "metadata": {},
   "outputs": [
    {
     "name": "stdout",
     "output_type": "stream",
     "text": [
      "44\n"
     ]
    }
   ],
   "source": [
    "def back2(x,k):\n",
    "    '''\n",
    "    versucht die Teillösung in x, die aus den Elementen x[0] ... x[k-1] besteht,\n",
    "    um das Element x[k] zu erweitern\n",
    "    '''\n",
    "    if len(x) == 9:\n",
    "        loesungen.append(x[:])\n",
    "    else:\n",
    "        v = x[-1]\n",
    "        for cand in G[v].copy():    # Hier führt for cand in G[v] zum Verhängnis\n",
    "            G[v].remove(cand)\n",
    "            G[cand].remove(v)\n",
    "            x.append(cand)\n",
    "            back2(x,k+1)\n",
    "            y = x.pop()   # Platz für den nächsten Kandidaten\n",
    "            G[v].add(cand)\n",
    "            G[cand].add(v)\n",
    "\n",
    "zaehl = 0\n",
    "loesungen = []\n",
    "G = {1: {2, 3, 5}, 5: {1, 2, 3, 4}, 3: {1, 2, 4, 5}, 2: {1, 3, 5}, 4: {3, 5}}\n",
    "back2([1],1)\n",
    "print(len(loesungen))\n",
    " "
   ]
  },
  {
   "cell_type": "markdown",
   "id": "8ac96a03-18d7-4f4e-854b-4b3152ec29be",
   "metadata": {},
   "source": [
    "#### Version mit übergebenen Variablen"
   ]
  },
  {
   "cell_type": "code",
   "execution_count": 32,
   "id": "b6dced53-cff7-48b3-966d-5248bc1670c5",
   "metadata": {},
   "outputs": [],
   "source": [
    "def nikolaus():\n",
    "    '''\n",
    "       3\n",
    "      / \\  \n",
    "     4---2 \n",
    "     | X |\n",
    "     0---1\n",
    "    \n",
    "    Gibt alle möglichen Eulerpfade von 0 nach 1 aus\n",
    "    '''\n",
    "    def back(G,x,k,visited=set()):\n",
    "        '''\n",
    "        G: ungerichteter Graph mit Adjazenzsets\n",
    "        x: Lösungsvektor \n",
    "        k: Index des Lösungsvektors, an der Erweiterung der Lösung plaziert werden soll\n",
    "        visited: set mit den schon besuchten Kanten\n",
    "        \n",
    "        '''\n",
    "        if len(x) == 9:\n",
    "            loesungen.append(tuple(x))\n",
    "        else:\n",
    "            v = x[-1]\n",
    "            for cand in G[v]:    # Hier führt for cand in G[v] zum Verhängnis\n",
    "                if (cand,v) not in visited:\n",
    "                    visited.add((cand,v))\n",
    "                    visited.add((v,cand))\n",
    "                    x.append(cand)\n",
    "                    back(G,x,k+1,visited)\n",
    "                    x.pop()   # Platz für den nächsten Kandidaten\n",
    "                    visited.remove((cand,v))\n",
    "                    visited.remove((v,cand))\n",
    "         \n",
    "    loesungen = []\n",
    "    G = {0: {1, 2, 4}, 1: {0, 2, 4}, 2: {0, 1, 3, 4}, 3: {2, 4}, 4: {0, 1, 2, 3}}\n",
    "    back(G,[0],1,visited=set())\n",
    "    return loesungen\n",
    "    "
   ]
  },
  {
   "cell_type": "code",
   "execution_count": 52,
   "id": "742f0cd8-555a-4c60-8ce8-8d069f125fac",
   "metadata": {},
   "outputs": [
    {
     "name": "stdout",
     "output_type": "stream",
     "text": [
      "44\n"
     ]
    }
   ],
   "source": [
    "loesungen = nikolaus()\n",
    "print(len(loesungen))"
   ]
  },
  {
   "cell_type": "code",
   "execution_count": 54,
   "id": "407caf11-6f14-4d4f-ab95-7dce5cbc8b6c",
   "metadata": {},
   "outputs": [
    {
     "name": "stdout",
     "output_type": "stream",
     "text": [
      "44\n"
     ]
    }
   ],
   "source": [
    "loesungen = nikolaus()\n",
    "print(len(loesungen))"
   ]
  },
  {
   "cell_type": "code",
   "execution_count": null,
   "id": "babf602a-6598-4ed4-a0b9-adec9468e54c",
   "metadata": {},
   "outputs": [],
   "source": []
  }
 ],
 "metadata": {
  "kernelspec": {
   "display_name": "Python 3 (ipykernel)",
   "language": "python",
   "name": "python3"
  },
  "language_info": {
   "codemirror_mode": {
    "name": "ipython",
    "version": 3
   },
   "file_extension": ".py",
   "mimetype": "text/x-python",
   "name": "python",
   "nbconvert_exporter": "python",
   "pygments_lexer": "ipython3",
   "version": "3.9.12"
  }
 },
 "nbformat": 4,
 "nbformat_minor": 5
}
