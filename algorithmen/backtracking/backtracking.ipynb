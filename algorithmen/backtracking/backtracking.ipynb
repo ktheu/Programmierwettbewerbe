{
 "cells": [
  {
   "cell_type": "markdown",
   "id": "b8e436a3-99cc-4c29-9f8e-bc0cbb238cf3",
   "metadata": {},
   "source": [
    "## Backtracking\n",
    "\n",
    "x ist ein Lösungsvektor, d.h. eine Liste von Entscheidungen, die getroffen wurden auf der Suche\n",
    "nach einer Lösung.\n",
    "\n"
   ]
  },
  {
   "cell_type": "code",
   "execution_count": null,
   "id": "fb09c5f7-1e00-418f-a01b-32596d100479",
   "metadata": {},
   "outputs": [],
   "source": [
    "def back(x):\n",
    "    global solutions\n",
    "    if isSolution(x):\n",
    "        solutions.append(x.copy())\n",
    "    else:\n",
    "        for cand in candidates(x):\n",
    "            if isGood(cand,x):\n",
    "                x.append(cand)\n",
    "                back(x)\n",
    "                x.pop()\n",
    "                \n",
    "def isSolution(x):\n",
    "    '''\n",
    "    returns: True, wenn der Lösungsvektor x eine Lösung darstellt\n",
    "    '''\n",
    "    pass\n",
    "\n",
    "def candidates(x):\n",
    "    '''\n",
    "    returns: Liste von Entscheidungen, die den Lösungsvektor x um eine Stufe erweitern\n",
    "    '''\n",
    "    pass\n",
    "\n",
    "def isGood(cand, x):\n",
    "    '''\n",
    "    returns: True, wenn die Entscheidung cand den Lösungsvektor x sinnvoll erweitert.\n",
    "    '''\n",
    "               \n",
    "solutions = []\n",
    "back([])"
   ]
  },
  {
   "cell_type": "markdown",
   "id": "7f1f5df1-9527-4400-a114-38d8275fb5e7",
   "metadata": {},
   "source": [
    "#### Beispiel 1: Alle Kombinationen 3 aus 5\n",
    "\n",
    "Aus den Zahlen von 1-10 sollen alle möglichen 3er Kombinationen ermittelt werden."
   ]
  },
  {
   "cell_type": "code",
   "execution_count": 10,
   "id": "b84e9027-87cc-4acf-9f67-e8cbc613039b",
   "metadata": {},
   "outputs": [
    {
     "name": "stdout",
     "output_type": "stream",
     "text": [
      "(1, 2, 3)\n",
      "(1, 2, 4)\n",
      "(1, 2, 5)\n",
      "(1, 3, 4)\n",
      "(1, 3, 5)\n",
      "(1, 4, 5)\n",
      "(2, 3, 4)\n",
      "(2, 3, 5)\n",
      "(2, 4, 5)\n",
      "(3, 4, 5)\n"
     ]
    }
   ],
   "source": [
    "# Das lässt sich  natürlich mit itertools lösen\n",
    "import itertools as it\n",
    "for x in it.combinations(range(1,6),r=3):\n",
    "    print(x)"
   ]
  },
  {
   "cell_type": "code",
   "execution_count": 22,
   "id": "c9ebf94a-6084-4b15-a64b-09ab182aeeb9",
   "metadata": {},
   "outputs": [
    {
     "data": {
      "text/plain": [
       "[[1, 2, 3],\n",
       " [1, 2, 4],\n",
       " [1, 2, 5],\n",
       " [1, 3, 4],\n",
       " [1, 3, 5],\n",
       " [1, 4, 5],\n",
       " [2, 3, 4],\n",
       " [2, 3, 5],\n",
       " [2, 4, 5],\n",
       " [3, 4, 5]]"
      ]
     },
     "execution_count": 22,
     "metadata": {},
     "output_type": "execute_result"
    }
   ],
   "source": [
    "# Das lässt sich auch mit backtracking losen\n",
    "'''\n",
    "x ist ein Lösungsvektor, d.h. eine Liste von Entscheidungen, die getroffen wurden auf der Suche\n",
    "nach einer Lösung.\n",
    "'''\n",
    "def back(x):\n",
    "    global solutions\n",
    "    if isSolution(x):\n",
    "        solutions.append(x.copy())\n",
    "    else:\n",
    "        for cand in candidates(x):\n",
    "            if isGood(cand,x):\n",
    "                x.append(cand)\n",
    "                back(x)\n",
    "                x.pop()\n",
    "                \n",
    "def isSolution(x):\n",
    "    '''\n",
    "    returns: True, wenn der Lösungsvektor x eine Lösung darstellt\n",
    "    '''\n",
    "    return len(x) == 3  \n",
    "\n",
    "def candidates(x):\n",
    "    '''\n",
    "    returns: Liste von Entscheidungen, die den Lösungsvektor x um eine Stufe erweitern\n",
    "    '''\n",
    "    return list(range(1,6))\n",
    "\n",
    "\n",
    "def isGood(cand, x):\n",
    "    '''\n",
    "    returns: True, wenn die Entscheidung cand den Lösungsvektor x sinnvoll erweitert.\n",
    "    '''\n",
    "    return cand not in x and (len(x) == 0 or cand > x[-1])  # Lösungen sind aufsteigend sortiert   \n",
    "    \n",
    "\n",
    "               \n",
    "solutions = []\n",
    "back([])\n",
    "solutions"
   ]
  },
  {
   "cell_type": "markdown",
   "id": "a8b6fe8c-3958-4c10-910f-66cd2aea2719",
   "metadata": {},
   "source": [
    "#### Beispiel 2: Welche Permutation passt?\n",
    "\n",
    "Gegen seien zwei Sudokus. Durch welche Permutation der Ziffern lassen sie sich ineinander überführen?"
   ]
  },
  {
   "cell_type": "code",
   "execution_count": 1,
   "id": "320a9815-5105-4f0d-ab08-105267cb2746",
   "metadata": {},
   "outputs": [],
   "source": [
    "import numpy as np\n",
    "su1 = np.array([[4, 0, 0, 0, 0, 8, 5, 0, 3],\n",
    "       [0, 5, 9, 0, 2, 0, 0, 0, 7],\n",
    "       [0, 0, 0, 7, 0, 0, 0, 0, 0],\n",
    "       [0, 0, 4, 0, 0, 0, 0, 0, 2],\n",
    "       [0, 0, 2, 1, 3, 9, 4, 0, 0],\n",
    "       [0, 6, 0, 0, 0, 0, 7, 0, 0],\n",
    "       [0, 0, 6, 0, 0, 2, 0, 0, 5],\n",
    "       [0, 9, 7, 0, 8, 0, 0, 0, 0],\n",
    "       [0, 0, 0, 0, 7, 0, 2, 0, 1]])\n",
    "su2 = np.array([[9, 0, 0, 0, 0, 3, 2, 0, 1],\n",
    "       [0, 2, 6, 0, 8, 0, 0, 0, 7],\n",
    "       [0, 0, 0, 7, 0, 0, 0, 0, 0],\n",
    "       [0, 0, 9, 0, 0, 0, 0, 0, 8],\n",
    "       [0, 0, 8, 4, 1, 6, 9, 0, 0],\n",
    "       [0, 5, 0, 0, 0, 0, 7, 0, 0],\n",
    "       [0, 0, 5, 0, 0, 8, 0, 0, 2],\n",
    "       [0, 6, 7, 0, 3, 0, 0, 0, 0],\n",
    "       [0, 0, 0, 0, 7, 0, 8, 0, 4]])\n",
    " "
   ]
  },
  {
   "cell_type": "code",
   "execution_count": 41,
   "id": "eec982ba-bdb4-4cf4-bc8c-95ea3bca2e5c",
   "metadata": {},
   "outputs": [],
   "source": [
    "def back(x):\n",
    "    global solutions\n",
    "    if isSolution(x):\n",
    "        solutions.append(x.copy())\n",
    "    else:\n",
    "        for cand in candidates(x):\n",
    "            if isGood(cand,x):\n",
    "                x.append(cand)\n",
    "                back(x)\n",
    "                x.pop()\n",
    "                \n",
    "def isSolution(x):\n",
    "    '''\n",
    "    returns: True, wenn der Lösungsvektor x eine Lösung darstellt\n",
    "    '''\n",
    "    return len(x) == 9 \n",
    "\n",
    "\n",
    "def candidates(x):\n",
    "    '''\n",
    "    returns: Liste von Entscheidungen, die den Lösungsvektor x um eine Stufe erweitern\n",
    "    '''\n",
    "    return list(range(1,10))\n",
    "\n",
    "\n",
    "def isGood(cand, x):\n",
    "    '''\n",
    "    returns: True, wenn die Entscheidung cand den Lösungsvektor x sinnvoll erweitert.\n",
    "    '''\n",
    "    k = len(x)+1    # an den Stellen, an denen su1 k hat, muss su2 cand haben\n",
    "    return cand not in x and np.array_equal(su1==k, su2==cand)\n"
   ]
  },
  {
   "cell_type": "code",
   "execution_count": 42,
   "id": "350ac3d0-5d91-4f6d-a394-d824a0d4136c",
   "metadata": {},
   "outputs": [
    {
     "data": {
      "text/plain": [
       "[[4, 8, 1, 9, 2, 5, 7, 3, 6]]"
      ]
     },
     "execution_count": 42,
     "metadata": {},
     "output_type": "execute_result"
    }
   ],
   "source": [
    "solutions = []\n",
    "back([])\n",
    "solutions"
   ]
  },
  {
   "cell_type": "markdown",
   "id": "e0a64a0c-f6c9-4daa-9d73-92510f967c28",
   "metadata": {
    "tags": []
   },
   "source": [
    "#### Das Haus vom Nikolaus\n",
    "\n",
    "Um zu prüfen, ob wir eine Kante schon durchlaufen haben, führen wir die globale Variable *visited* ein. In der Funktion *back*\n",
    "müssen die entsprechenden Werte gesetzt und nach dem rekursiven Aufruf wieder zurückgenommen werden.\n",
    "\n",
    "```\n",
    "   3\n",
    "  / \\  \n",
    " 4---2 \n",
    " | X |\n",
    " 0---1\n",
    "\n",
    "Gibt alle möglichen Eulerpfade von 0 nach 1 aus\n",
    "```"
   ]
  },
  {
   "cell_type": "code",
   "execution_count": 54,
   "id": "ddf25742-6c55-4639-a601-c2a5758f092c",
   "metadata": {},
   "outputs": [],
   "source": [
    "def back(x):\n",
    "    global solutions\n",
    "    if isSolution(x):\n",
    "        solutions.append(x.copy())\n",
    "    else:\n",
    "        for cand in candidates(x):\n",
    "            if isGood(cand,x):\n",
    "                last = x[-1]\n",
    "                visited.add((cand,last))\n",
    "                visited.add((last,cand))\n",
    "                x.append(cand)\n",
    "                back(x)\n",
    "                visited.remove((cand,last))\n",
    "                visited.remove((last,cand))\n",
    "                x.pop()\n",
    "                \n",
    "def isSolution(x):\n",
    "    '''\n",
    "    returns: True, wenn der Lösungsvektor x eine Lösung darstellt\n",
    "    '''\n",
    "    return len(x) == 9 \n",
    "\n",
    "\n",
    "def candidates(x):\n",
    "    '''\n",
    "    returns: Liste von Entscheidungen, die den Lösungsvektor x um eine Stufe erweitern\n",
    "    '''\n",
    "    return G[x[-1]]\n",
    "\n",
    "\n",
    "def isGood(cand, x):\n",
    "    '''\n",
    "    returns: True, wenn die Entscheidung cand den Lösungsvektor x sinnvoll erweitert.\n",
    "    '''\n",
    "    return (x[-1],cand) not in visited\n"
   ]
  },
  {
   "cell_type": "code",
   "execution_count": 53,
   "id": "be058806-06f0-4233-ac3b-275cdd758ef5",
   "metadata": {},
   "outputs": [
    {
     "name": "stdout",
     "output_type": "stream",
     "text": [
      "44\n"
     ]
    }
   ],
   "source": [
    "solutions = []\n",
    "visited = set()\n",
    "G = {1: {2, 3, 5}, 5: {1, 2, 3, 4}, 3: {1, 2, 4, 5}, 2: {1, 3, 5}, 4: {3, 5}}\n",
    "back([1])\n",
    "print(len(solutions))\n"
   ]
  },
  {
   "cell_type": "markdown",
   "id": "2a6a08d0-7bdd-4362-a293-7edef2ce9108",
   "metadata": {},
   "source": [
    "#### 8-Damen\n",
    "\n",
    "Wieviele Möglichkeiten gibt es, 8 Damen auf einem Schachbrett so zu plazieren, dass sie sich nicht gegenseitig bedrohen?\n",
    "\n",
    "Im Lösungsvektor x bedeutet x[i] die Spalte, in der die Dame in der i-Zeile plaziert wird. (0-Indexed)"
   ]
  },
  {
   "cell_type": "code",
   "execution_count": 119,
   "id": "233cbcb0-9805-4b42-847d-9dda90301a88",
   "metadata": {},
   "outputs": [],
   "source": [
    "def back(x):\n",
    "    global solutions\n",
    "    if isSolution(x):\n",
    "        solutions.append(x.copy())\n",
    "    else:\n",
    "        for cand in candidates(x):\n",
    "            if isGood(cand,x):\n",
    "                x.append(cand)\n",
    "                back(x)\n",
    "                x.pop()\n",
    "                \n",
    "def isSolution(x):\n",
    "    '''\n",
    "    returns: True, wenn der Lösungsvektor x eine Lösung darstellt\n",
    "    '''\n",
    "    return len(x) == anzahl_damen\n",
    "\n",
    "\n",
    "def candidates(x):\n",
    "    '''\n",
    "    returns: Liste von Entscheidungen, die den Lösungsvektor x um eine Stufe erweitern\n",
    "    '''\n",
    "    return list(range(anzahl_damen))\n",
    "\n",
    "\n",
    "def isGood(cand, x):\n",
    "    '''\n",
    "    returns: True, wenn die Entscheidung cand den Lösungsvektor x sinnvoll erweitert.\n",
    "    '''\n",
    "    k = len(x)\n",
    "    for j in range(k):\n",
    "        if x[j] == cand: return False\n",
    "        if k - j == abs(cand-x[j]): return False\n",
    "    return True"
   ]
  },
  {
   "cell_type": "code",
   "execution_count": 129,
   "id": "80f8ad40-8716-44da-b4fd-bd586d8113bd",
   "metadata": {},
   "outputs": [
    {
     "name": "stdout",
     "output_type": "stream",
     "text": [
      "92\n"
     ]
    }
   ],
   "source": [
    "anzahl_damen = 8\n",
    "solutions = []\n",
    "back([])\n",
    "print(len(solutions))"
   ]
  },
  {
   "cell_type": "code",
   "execution_count": 127,
   "id": "d06227a8-39dc-4c67-a8a5-cdf2975cc656",
   "metadata": {},
   "outputs": [],
   "source": [
    "def printLoesung(x):\n",
    "    '''\n",
    "    x:  Liste mit der Lösung\n",
    "    '''\n",
    "    n = len(x)   # Anzahl Damen\n",
    "    for j in range(n):\n",
    "        for i in range(n):\n",
    "            if x[j] == i: zeichen = 'X'\n",
    "            else: zeichen = '_'\n",
    "            print(\"|{0:s}\".format(zeichen),end='')\n",
    "        print('|')\n",
    "    print()"
   ]
  },
  {
   "cell_type": "code",
   "execution_count": 128,
   "id": "f6b7ec98-ff09-478c-9932-77d2d7a44b0a",
   "metadata": {},
   "outputs": [
    {
     "name": "stdout",
     "output_type": "stream",
     "text": [
      "|_|X|_|_|_|_|\n",
      "|_|_|_|X|_|_|\n",
      "|_|_|_|_|_|X|\n",
      "|X|_|_|_|_|_|\n",
      "|_|_|X|_|_|_|\n",
      "|_|_|_|_|X|_|\n",
      "\n"
     ]
    }
   ],
   "source": [
    "printLoesung(solutions[0])"
   ]
  },
  {
   "cell_type": "markdown",
   "id": "d1d9fe93-416d-4a29-9ec3-cd567e1c4eaf",
   "metadata": {},
   "source": [
    "#### Sudoku\n",
    "\n",
    "Manchmal ist es einfacher, die Lösungen schrittweise am Ausgangsobjekt zu konstruieren. Insbesondere dann, wenn uns eigentlich nur die Lösung interessiert und nicht der Weg, der zur Lösung geführt hat. Die Ablauflogik kann dadurch etwas schwieriger werden. Im Beispiel unten ist es wichtig, das *return*-Statement richtig zu plazieren."
   ]
  },
  {
   "cell_type": "code",
   "execution_count": 70,
   "id": "be8144fb-f55a-48fb-a57c-c4f550c02302",
   "metadata": {},
   "outputs": [],
   "source": [
    "grid = np.array([[5, 3, 0, 0, 7, 0, 0, 0, 0],\n",
    "       [6, 0, 0, 1, 9, 5, 0, 0, 0],\n",
    "       [0, 9, 8, 0, 0, 0, 0, 6, 0],\n",
    "       [8, 0, 0, 0, 6, 0, 0, 0, 3],\n",
    "       [4, 0, 0, 8, 0, 3, 0, 0, 1],\n",
    "       [7, 0, 0, 0, 2, 0, 0, 0, 6],\n",
    "       [0, 6, 0, 0, 0, 0, 2, 8, 0],\n",
    "       [0, 0, 0, 4, 1, 9, 0, 0, 5],\n",
    "       [0, 0, 0, 0, 8, 0, 0, 7, 9]])"
   ]
  },
  {
   "cell_type": "code",
   "execution_count": 105,
   "id": "2580fecc-2160-470a-96ec-1628b0aaceb2",
   "metadata": {},
   "outputs": [],
   "source": [
    "def back():\n",
    "    global grid\n",
    "    for i in range(9):\n",
    "        for j in range(9):\n",
    "            if grid[i,j] == 0:               # hier muss nochwas gefüllt werden\n",
    "                for n in range(1,10):        # alle Kandidaten für die Füllung\n",
    "                    if isGood(i,j,n):        # wenn Kandidat gut\n",
    "                        grid[i,j] = n        # ersetze die 0 durch den Kandidaten\n",
    "                        back()\n",
    "                        grid[i,j] = 0\n",
    "                return                 # wenn wir hier landen, gibt es noch eine 0, aber nichts passt, daher zurück\n",
    "    solutions.append(grid.copy())      # wenn wir hier landen, sind alle 0er versorgt worden.\n",
    "    \n",
    "\n",
    "def isGood(x,y,n):\n",
    "    if n in grid[x,:] or n in grid[:,y]:\n",
    "        return False\n",
    "    x0 = (x//3)*3\n",
    "    y0 = (y//3)*3\n",
    "    if n in grid[x0:x0+3,y0:y0+3]:\n",
    "        return False\n",
    "    return True"
   ]
  },
  {
   "cell_type": "code",
   "execution_count": 106,
   "id": "19915299-eddf-439e-9e23-3e8f18b65bdf",
   "metadata": {},
   "outputs": [
    {
     "data": {
      "text/plain": [
       "[array([[5, 3, 4, 6, 7, 8, 9, 1, 2],\n",
       "        [6, 7, 2, 1, 9, 5, 3, 4, 8],\n",
       "        [1, 9, 8, 3, 4, 2, 5, 6, 7],\n",
       "        [8, 5, 9, 7, 6, 1, 4, 2, 3],\n",
       "        [4, 2, 6, 8, 5, 3, 7, 9, 1],\n",
       "        [7, 1, 3, 9, 2, 4, 8, 5, 6],\n",
       "        [9, 6, 1, 5, 3, 7, 2, 8, 4],\n",
       "        [2, 8, 7, 4, 1, 9, 6, 3, 5],\n",
       "        [3, 4, 5, 2, 8, 6, 1, 7, 9]])]"
      ]
     },
     "execution_count": 106,
     "metadata": {},
     "output_type": "execute_result"
    }
   ],
   "source": [
    "solutions = []\n",
    "back()\n",
    "solutions      "
   ]
  },
  {
   "cell_type": "markdown",
   "id": "ebf564a3-1700-4435-9250-abc8f2c33265",
   "metadata": {},
   "source": [
    "-----\n",
    "#### Liste aller einfachen Pfade zwischen zwei Knoten in einem Graphen"
   ]
  },
  {
   "cell_type": "code",
   "execution_count": 3,
   "id": "77593a75-d5cf-4949-a6e4-5d0708c197f4",
   "metadata": {},
   "outputs": [
    {
     "data": {
      "text/plain": [
       "{0: {1, 2, 4}, 1: {3, 4}, 2: {4}, 3: {2}, 4: set()}"
      ]
     },
     "execution_count": 3,
     "metadata": {},
     "output_type": "execute_result"
    }
   ],
   "source": [
    "G = {0:{1,2,4}, 1:{4,3}, 2:{4}, 3:{2}, 4:set()}\n",
    "G"
   ]
  },
  {
   "cell_type": "code",
   "execution_count": 4,
   "id": "e1475e34-1b81-4ee8-8681-ee0b90ef65b6",
   "metadata": {},
   "outputs": [],
   "source": [
    "def back(x):\n",
    "    global solutions\n",
    "    if isSolution(x):\n",
    "        solutions.append(x.copy())\n",
    "    else:\n",
    "        for cand in candidates(x):\n",
    "            if isGood(cand,x):\n",
    "                x.append(cand)\n",
    "                back(x)\n",
    "                x.pop()\n",
    "                \n",
    "def isSolution(x):\n",
    "    '''\n",
    "    returns: True, wenn der Lösungsvektor x eine Lösung darstellt\n",
    "    '''\n",
    "    return x[-1] == 4\n",
    "\n",
    "\n",
    "def candidates(x):\n",
    "    '''\n",
    "    returns: Liste von Entscheidungen, die den Lösungsvektor x um eine Stufe erweitern\n",
    "    '''\n",
    "    return G[x[-1]]\n",
    " \n",
    "\n",
    "\n",
    "def isGood(cand, x):\n",
    "    '''\n",
    "    returns: True, wenn die Entscheidung cand den Lösungsvektor x sinnvoll erweitert.\n",
    "    '''\n",
    "    return cand not in x\n"
   ]
  },
  {
   "cell_type": "code",
   "execution_count": 5,
   "id": "acde828f-36f6-45b9-a7e0-f26a1dbb1acf",
   "metadata": {
    "tags": []
   },
   "outputs": [
    {
     "data": {
      "text/plain": [
       "[[0, 1, 3, 2, 4], [0, 1, 4], [0, 2, 4], [0, 4]]"
      ]
     },
     "execution_count": 5,
     "metadata": {},
     "output_type": "execute_result"
    }
   ],
   "source": [
    "solutions = []\n",
    "back([0])\n",
    "solutions   "
   ]
  },
  {
   "cell_type": "markdown",
   "id": "42039e1a-a879-4f91-86b6-6ec4e3cd263a",
   "metadata": {},
   "source": [
    "##### Die kurze Version"
   ]
  },
  {
   "cell_type": "code",
   "execution_count": 6,
   "id": "f8bf074b-fce3-4176-94ab-c5e81dc78250",
   "metadata": {},
   "outputs": [
    {
     "data": {
      "text/plain": [
       "[[0, 1, 3, 2, 4], [0, 1, 4], [0, 2, 4], [0, 4]]"
      ]
     },
     "execution_count": 6,
     "metadata": {},
     "output_type": "execute_result"
    }
   ],
   "source": [
    "def dfs(path):\n",
    "    if path[-1] == ziel:\n",
    "        solutions.append(path.copy())\n",
    "    else:\n",
    "        for w in G[path[-1]]:\n",
    "            if w not in path:\n",
    "                path.append(w)\n",
    "                dfs(path)\n",
    "                path.pop()              # backtrack\n",
    "\n",
    "solutions = []\n",
    "start, ziel = 0, 4\n",
    "dfs([start])\n",
    "solutions"
   ]
  },
  {
   "cell_type": "markdown",
   "id": "d56e8478-eb34-44fb-a364-411b1dbf502a",
   "metadata": {},
   "source": [
    "Wenn man nur die erste Lösung will:"
   ]
  },
  {
   "cell_type": "code",
   "execution_count": 16,
   "id": "09230e1b-494f-445c-830a-6a583c97f8a2",
   "metadata": {},
   "outputs": [
    {
     "data": {
      "text/plain": [
       "[0, 1, 3, 2, 4]"
      ]
     },
     "execution_count": 16,
     "metadata": {},
     "output_type": "execute_result"
    }
   ],
   "source": [
    "def dfs(path):\n",
    "    global solution, fertig\n",
    "    if path[-1] == ziel:\n",
    "        solution = path.copy()\n",
    "        fertig = True\n",
    "        return\n",
    "    else:\n",
    "        for w in G[path[-1]]:\n",
    "            if w not in path:\n",
    "                path.append(w)\n",
    "                dfs(path)\n",
    "                if fertig: return\n",
    "                path.pop()              # backtrack\n",
    "\n",
    "solution = None\n",
    "fertig = False\n",
    "start, ziel = 0, 4\n",
    "dfs([start])\n",
    "solution"
   ]
  },
  {
   "cell_type": "markdown",
   "id": "28f0b33a-6f83-44ef-8270-72d19d23566e",
   "metadata": {},
   "source": [
    "---\n",
    "#### Liste aller Pfade mit einer bestimmten Länge zwischen zwei Knoten\n",
    "\n"
   ]
  },
  {
   "cell_type": "code",
   "execution_count": 32,
   "id": "14ef1801-3a97-471b-9da3-4869f90e0aa1",
   "metadata": {},
   "outputs": [],
   "source": [
    "def dfs(G, laenge, path):\n",
    "    if path[-1] == ziel and len(path) == laenge:\n",
    "        solutions.append(path.copy())\n",
    "    else:\n",
    "        for w in G[path[-1]]:\n",
    "            if len(path) < laenge:\n",
    "                path.append(w)\n",
    "                dfs(G,laenge,path)\n",
    "                path.pop()              # backtrack"
   ]
  },
  {
   "cell_type": "code",
   "execution_count": 33,
   "id": "c5d0c993-3a7e-4076-b27f-56e30253a186",
   "metadata": {},
   "outputs": [
    {
     "data": {
      "text/plain": [
       "[[0, 1, 4], [0, 2, 4]]"
      ]
     },
     "execution_count": 33,
     "metadata": {},
     "output_type": "execute_result"
    }
   ],
   "source": [
    "\n",
    "G = {0:{1,2,4}, 1:{4,3}, 2:{4}, 3:{2}, 4:set()}\n",
    "G\n",
    "solutions = []\n",
    "start, ziel = 0, 4\n",
    "dfs(G,3,[start])\n",
    "solutions"
   ]
  },
  {
   "cell_type": "code",
   "execution_count": null,
   "id": "bd853902-1e29-4105-90e0-0fc293081534",
   "metadata": {},
   "outputs": [],
   "source": []
  }
 ],
 "metadata": {
  "kernelspec": {
   "display_name": "Python 3 (ipykernel)",
   "language": "python",
   "name": "python3"
  },
  "language_info": {
   "codemirror_mode": {
    "name": "ipython",
    "version": 3
   },
   "file_extension": ".py",
   "mimetype": "text/x-python",
   "name": "python",
   "nbconvert_exporter": "python",
   "pygments_lexer": "ipython3",
   "version": "3.10.6"
  }
 },
 "nbformat": 4,
 "nbformat_minor": 5
}
