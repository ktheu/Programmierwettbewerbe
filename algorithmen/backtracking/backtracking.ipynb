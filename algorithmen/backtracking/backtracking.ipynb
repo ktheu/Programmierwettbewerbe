{
 "cells": [
  {
   "cell_type": "markdown",
   "id": "b8e436a3-99cc-4c29-9f8e-bc0cbb238cf3",
   "metadata": {
    "tags": []
   },
   "source": [
    "## Backtracking\n",
    "\n",
    "Backtracking ist ein systematisches Ausprobieren. Wenn wir in eine Sackgasse geraten sind, gehen wir zurück (backtrack) und probieren die nächste Variante aus. Meistens sind alle möglichen Lösungen gefragt.\n",
    "\n",
    "Backtracking ist anwendbar, wenn wir eine Lösung schrittweise aufbauen können und wenn wir für eine\n",
    "Teillösung die möglichen Kandidaten aufzählen können, die die Teillösung erweitern. \n",
    "\n",
    "Eine Teillösung bezeichnen wir mit $x$. $x$ ist eine Liste mit Entscheidungen $x[0]...x[k]$, die zur Lösung führen sollen.\n",
    "\n"
   ]
  },
  {
   "cell_type": "code",
   "execution_count": null,
   "id": "fb09c5f7-1e00-418f-a01b-32596d100479",
   "metadata": {
    "tags": []
   },
   "outputs": [],
   "source": [
    "def back(x):\n",
    "    global solutions\n",
    "    if isSolution(x):\n",
    "        solutions.append(x.copy())\n",
    "    else:\n",
    "        for cand in candidates(x):\n",
    "            if isGood(cand,x):\n",
    "                x.append(cand)\n",
    "                back(x)\n",
    "                x.pop()\n",
    "                \n",
    "def isSolution(x):\n",
    "    '''\n",
    "    returns: True, wenn der Lösungsvektor x eine Lösung darstellt\n",
    "    '''\n",
    "    pass\n",
    "\n",
    "def candidates(x):\n",
    "    '''\n",
    "    returns: Liste von Entscheidungen, die den Lösungsvektor x um eine Stufe erweitern\n",
    "    '''\n",
    "    pass\n",
    "\n",
    "def isGood(cand, x):\n",
    "    '''\n",
    "    returns: True, wenn die Entscheidung cand den Lösungsvektor x sinnvoll erweitert.\n",
    "    '''\n",
    "               \n",
    "solutions = []\n",
    "back([])"
   ]
  },
  {
   "cell_type": "markdown",
   "id": "7f1f5df1-9527-4400-a114-38d8275fb5e7",
   "metadata": {},
   "source": [
    "#### Beispiel: Alle Kombinationen 3 aus 5\n",
    "\n",
    "Aus den Zahlen von 1-5 sollen alle möglichen 3er Kombinationen ermittelt werden."
   ]
  },
  {
   "cell_type": "code",
   "execution_count": 4,
   "id": "b84e9027-87cc-4acf-9f67-e8cbc613039b",
   "metadata": {
    "tags": []
   },
   "outputs": [
    {
     "name": "stdout",
     "output_type": "stream",
     "text": [
      "(1, 2, 3)\n",
      "(1, 2, 4)\n",
      "(1, 2, 5)\n",
      "(1, 3, 4)\n",
      "(1, 3, 5)\n",
      "(1, 4, 5)\n",
      "(2, 3, 4)\n",
      "(2, 3, 5)\n",
      "(2, 4, 5)\n",
      "(3, 4, 5)\n"
     ]
    }
   ],
   "source": [
    "# Das lässt sich  natürlich mit itertools lösen\n",
    "import itertools as it\n",
    "for x in it.combinations(range(1,6),r=3):\n",
    "    print(x)"
   ]
  },
  {
   "cell_type": "code",
   "execution_count": 2,
   "id": "c9ebf94a-6084-4b15-a64b-09ab182aeeb9",
   "metadata": {
    "tags": []
   },
   "outputs": [
    {
     "data": {
      "text/plain": [
       "[[1, 2, 3],\n",
       " [1, 2, 4],\n",
       " [1, 2, 5],\n",
       " [1, 3, 4],\n",
       " [1, 3, 5],\n",
       " [1, 4, 5],\n",
       " [2, 3, 4],\n",
       " [2, 3, 5],\n",
       " [2, 4, 5],\n",
       " [3, 4, 5]]"
      ]
     },
     "execution_count": 2,
     "metadata": {},
     "output_type": "execute_result"
    }
   ],
   "source": [
    "# Das lässt sich auch mit backtracking losen\n",
    "'''\n",
    "x ist ein Lösungsvektor, d.h. eine Liste von Entscheidungen, die getroffen wurden auf der Suche\n",
    "nach einer Lösung.\n",
    "'''\n",
    "def back(x):\n",
    "    if isSolution(x):\n",
    "        solutions.append(x.copy())\n",
    "    else:\n",
    "        for cand in candidates(x):\n",
    "            if isGood(cand,x):\n",
    "                x.append(cand)\n",
    "                back(x)\n",
    "                x.pop()\n",
    "                \n",
    "def isSolution(x):\n",
    "    '''\n",
    "    returns: True, wenn der Lösungsvektor x eine Lösung darstellt\n",
    "    '''\n",
    "    return len(x) == 3  \n",
    "\n",
    "def candidates(x):\n",
    "    '''\n",
    "    returns: Liste von Entscheidungen, die den Lösungsvektor x um eine Stufe erweitern\n",
    "    '''\n",
    "    return list(range(1,6))\n",
    "\n",
    "\n",
    "def isGood(cand, x):\n",
    "    '''\n",
    "    returns: True, wenn die Entscheidung cand den Lösungsvektor x sinnvoll erweitert.\n",
    "    '''\n",
    "    return cand not in x and (len(x) == 0 or cand > x[-1])  # Lösungen sind aufsteigend sortiert   \n",
    "    \n",
    "\n",
    "               \n",
    "solutions = []\n",
    "back([])\n",
    "solutions"
   ]
  }
 ],
 "metadata": {
  "kernelspec": {
   "display_name": "Python 3 (ipykernel)",
   "language": "python",
   "name": "python3"
  },
  "language_info": {
   "codemirror_mode": {
    "name": "ipython",
    "version": 3
   },
   "file_extension": ".py",
   "mimetype": "text/x-python",
   "name": "python",
   "nbconvert_exporter": "python",
   "pygments_lexer": "ipython3",
   "version": "3.11.2"
  }
 },
 "nbformat": 4,
 "nbformat_minor": 5
}
