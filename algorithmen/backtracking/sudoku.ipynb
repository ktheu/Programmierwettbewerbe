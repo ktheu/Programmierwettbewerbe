{
 "cells": [
  {
   "cell_type": "markdown",
   "id": "372ee8a2-c881-4843-accc-14b621b29b50",
   "metadata": {},
   "source": [
    "## Sudoku\n",
    "\n",
    "#### Werte eingeben"
   ]
  },
  {
   "cell_type": "code",
   "execution_count": 25,
   "id": "d543ef67-289f-4895-b6d1-3563d40218a5",
   "metadata": {},
   "outputs": [
    {
     "name": "stdout",
     "output_type": "stream",
     "text": [
      "Writing sudoku0.txt\n"
     ]
    }
   ],
   "source": [
    "%%writefile sudoku0.txt\n",
    "530 070 000\n",
    "600 195 000\n",
    "098 000 060\n",
    "800 060 003\n",
    "400 803 001\n",
    "700 020 006\n",
    "060 000 280\n",
    "000 419 005\n",
    "000 080 079"
   ]
  },
  {
   "cell_type": "code",
   "execution_count": 48,
   "id": "f09ee1f6-5fb5-4a1d-887d-d6f64ea9041e",
   "metadata": {},
   "outputs": [
    {
     "data": {
      "text/plain": [
       "array([[5, 3, 0, 0, 7, 0, 0, 0, 0],\n",
       "       [6, 0, 0, 1, 9, 5, 0, 0, 0],\n",
       "       [0, 9, 8, 0, 0, 0, 0, 6, 0],\n",
       "       [8, 0, 0, 0, 6, 0, 0, 0, 3],\n",
       "       [4, 0, 0, 8, 0, 3, 0, 0, 1],\n",
       "       [7, 0, 0, 0, 2, 0, 0, 0, 6],\n",
       "       [0, 6, 0, 0, 0, 0, 2, 8, 0],\n",
       "       [0, 0, 0, 4, 1, 9, 0, 0, 5],\n",
       "       [0, 0, 0, 0, 8, 0, 0, 7, 9]])"
      ]
     },
     "execution_count": 48,
     "metadata": {},
     "output_type": "execute_result"
    }
   ],
   "source": [
    "f = open('sudoku0.txt',\"r\",encoding='utf-8')\n",
    "lines = [x.rstrip('\\n') for x in f.readlines()]\n",
    "s = ''\n",
    "for line in lines:\n",
    "    for c in line:\n",
    "        if c.isdigit():\n",
    "            s+=c\n",
    "grid = np.array([int(x) for x in s]).reshape(9,9) \n",
    "grid"
   ]
  },
  {
   "cell_type": "code",
   "execution_count": null,
   "id": "fdd2371f-96cd-4755-8a64-a9098c1a1487",
   "metadata": {},
   "outputs": [],
   "source": []
  },
  {
   "cell_type": "code",
   "execution_count": 40,
   "id": "c86c34c3-6933-483b-a9de-dfef5eafa1ed",
   "metadata": {},
   "outputs": [],
   "source": [
    "def possible(y,x,n):\n",
    "    global grid\n",
    "    for i in range(0,9):\n",
    "        if grid[y,i] == n:\n",
    "            return False\n",
    "    for i in range(0,9):\n",
    "        if grid[i,x] == n:\n",
    "            return False\n",
    "    x0 = (x//3)*3\n",
    "    y0 = (y//3)*3\n",
    "    for i in range(0,3):\n",
    "        for j in range(0,3):\n",
    "            if grid[y0+i,x0+j] == n:\n",
    "                return False\n",
    "    return True\n"
   ]
  },
  {
   "cell_type": "code",
   "execution_count": 41,
   "id": "4a7f455c-4431-4e56-af58-d05536c07644",
   "metadata": {},
   "outputs": [],
   "source": [
    "def solve():\n",
    "    global grid\n",
    "    for y in range(9):\n",
    "        for x in range(9):\n",
    "            if grid[y][x] == 0:\n",
    "                for n in range(1,10):\n",
    "                    if possible(y,x,n):\n",
    "                        grid[y,x] = n\n",
    "                        solve()\n",
    "                        grid[y,x] = 0\n",
    "                return\n",
    "    print(grid)\n",
    "    input(\"More?\")"
   ]
  },
  {
   "cell_type": "code",
   "execution_count": 42,
   "id": "cab43dae-2717-4a92-94ec-48fc4d1d8ada",
   "metadata": {},
   "outputs": [
    {
     "name": "stdout",
     "output_type": "stream",
     "text": [
      "[[5 3 4 6 7 8 9 1 2]\n",
      " [6 7 2 1 9 5 3 4 8]\n",
      " [1 9 8 3 4 2 5 6 7]\n",
      " [8 5 9 7 6 1 4 2 3]\n",
      " [4 2 6 8 5 3 7 9 1]\n",
      " [7 1 3 9 2 4 8 5 6]\n",
      " [9 6 1 5 3 7 2 8 4]\n",
      " [2 8 7 4 1 9 6 3 5]\n",
      " [3 4 5 2 8 6 1 7 9]]\n"
     ]
    },
    {
     "name": "stdin",
     "output_type": "stream",
     "text": [
      "More? \n"
     ]
    }
   ],
   "source": [
    "solve()"
   ]
  },
  {
   "cell_type": "markdown",
   "id": "4b5f436c-73f6-4c08-8eb8-06c7a4a9d3b5",
   "metadata": {},
   "source": [
    "#### Lösung mit Lösungsvektor\n",
    "\n",
    "Wir sammeln die Koordinaten der Leerstellen in eine Liste. "
   ]
  },
  {
   "cell_type": "code",
   "execution_count": null,
   "id": "504ca58c-8178-4141-b3ea-27570f87d27c",
   "metadata": {},
   "outputs": [],
   "source": [
    "f = open('sudoku0.txt',\"r\",encoding='utf-8')\n",
    "lines = [x.rstrip('\\n') for x in f.readlines()]\n",
    "s = ''\n",
    "for line in lines:\n",
    "    for c in line:\n",
    "        if c.isdigit():\n",
    "            s+=c\n",
    "grid = np.array([int(x) for x in s]).reshape(9,9) \n",
    "grid"
   ]
  },
  {
   "cell_type": "code",
   "execution_count": 51,
   "id": "17b94e7a-52e0-4faa-9397-854a893f452f",
   "metadata": {},
   "outputs": [
    {
     "ename": "TypeError",
     "evalue": "_count_nonzero_dispatcher() got an unexpected keyword argument 'grid'",
     "output_type": "error",
     "traceback": [
      "\u001b[1;31m---------------------------------------------------------------------------\u001b[0m",
      "\u001b[1;31mTypeError\u001b[0m                                 Traceback (most recent call last)",
      "Input \u001b[1;32mIn [51]\u001b[0m, in \u001b[0;36m<cell line: 1>\u001b[1;34m()\u001b[0m\n\u001b[1;32m----> 1\u001b[0m \u001b[43mnp\u001b[49m\u001b[38;5;241;43m.\u001b[39;49m\u001b[43mcount_nonzero\u001b[49m\u001b[43m(\u001b[49m\u001b[43mgrid\u001b[49m\u001b[43m \u001b[49m\u001b[38;5;241;43m=\u001b[39;49m\u001b[43m \u001b[49m\u001b[38;5;241;43m0\u001b[39;49m\u001b[43m)\u001b[49m\n",
      "File \u001b[1;32m<__array_function__ internals>:4\u001b[0m, in \u001b[0;36mcount_nonzero\u001b[1;34m(*args, **kwargs)\u001b[0m\n",
      "\u001b[1;31mTypeError\u001b[0m: _count_nonzero_dispatcher() got an unexpected keyword argument 'grid'"
     ]
    }
   ],
   "source": [
    "np.count_nonzero(grid = 0)"
   ]
  },
  {
   "cell_type": "code",
   "execution_count": 45,
   "id": "e04c2ebc-2abd-446f-988d-619fcfc237c7",
   "metadata": {},
   "outputs": [],
   "source": [
    "leerstellen = []\n",
    "for x in range(9):\n",
    "    for y in range(9):\n",
    "        if grid[x,y] == 0:\n",
    "            leerstellen.append((x,y))"
   ]
  },
  {
   "cell_type": "code",
   "execution_count": 47,
   "id": "a46d4bb5-144b-44a6-91fa-2b3e070e787a",
   "metadata": {},
   "outputs": [
    {
     "data": {
      "text/plain": [
       "51"
      ]
     },
     "execution_count": 47,
     "metadata": {},
     "output_type": "execute_result"
    }
   ],
   "source": [
    "len(leerstellen)"
   ]
  },
  {
   "cell_type": "code",
   "execution_count": null,
   "id": "12bceffc-b747-4444-8b1e-8c3726d3223f",
   "metadata": {},
   "outputs": [],
   "source": []
  }
 ],
 "metadata": {
  "kernelspec": {
   "display_name": "Python 3 (ipykernel)",
   "language": "python",
   "name": "python3"
  },
  "language_info": {
   "codemirror_mode": {
    "name": "ipython",
    "version": 3
   },
   "file_extension": ".py",
   "mimetype": "text/x-python",
   "name": "python",
   "nbconvert_exporter": "python",
   "pygments_lexer": "ipython3",
   "version": "3.9.12"
  }
 },
 "nbformat": 4,
 "nbformat_minor": 5
}
