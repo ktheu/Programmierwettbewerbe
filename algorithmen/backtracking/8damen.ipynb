{
 "cells": [
  {
   "cell_type": "markdown",
   "id": "24a56364-a07a-47c5-9e0b-1ddf160bda92",
   "metadata": {},
   "source": [
    "## 8 Damen-Problem"
   ]
  },
  {
   "cell_type": "code",
   "execution_count": 5,
   "id": "1c0a9db7-ce79-4aa5-abab-4261db5c825f",
   "metadata": {},
   "outputs": [],
   "source": [
    "def back(x,k):\n",
    "    '''\n",
    "    versucht die Teillösung in x, die aus den Elementen x[0] ... x[k-1] besteht,\n",
    "    um das Element x[k] zu erweitern\n",
    "    '''\n",
    "    if k == anzahl_damen:\n",
    "        loesungen.append(x[:])\n",
    "    else:\n",
    "        for cand in range(anzahl_damen):\n",
    "            if isGood(x,k,cand):\n",
    "                x.append(cand)\n",
    "                back(x,k+1)\n",
    "                x.pop()   # Platz für den nächsten Kandidaten\n",
    "\n",
    "def isGood(x,k,cand):\n",
    "    '''\n",
    "    prüft, ob der Kandidat cand die Teillösung x[0] ... x[k-1]\n",
    "    um ein Element erweitert.\n",
    "        '''\n",
    "    for j in range(k):\n",
    "        if x[j] == cand: return False\n",
    "        if k - j == abs(cand-x[j]): return False\n",
    "    return True\n",
    "\n",
    "def printLoesung(x):\n",
    "    '''\n",
    "    x:  Liste mit der Lösung\n",
    "    '''\n",
    "    n = len(x)   # Anzahl Damen\n",
    "    for j in range(n):\n",
    "        for i in range(n):\n",
    "            if x[j] == i: zeichen = 'X'\n",
    "            else: zeichen = '_'\n",
    "            print(\"|{0:s}\".format(zeichen),end='')\n",
    "        print('|')\n",
    "    print()"
   ]
  },
  {
   "cell_type": "code",
   "execution_count": 6,
   "id": "1ff61cde-1bc7-43ba-a2d2-89735a17fff5",
   "metadata": {},
   "outputs": [
    {
     "data": {
      "text/plain": [
       "92"
      ]
     },
     "execution_count": 6,
     "metadata": {},
     "output_type": "execute_result"
    }
   ],
   "source": [
    "loesungen = []             # Globale Variable zum sammeln der Lösungen\n",
    "anzahl_damen = 8\n",
    "back([],0)\n",
    "len(loesungen)"
   ]
  },
  {
   "cell_type": "code",
   "execution_count": null,
   "id": "54fdb0cf-7ffb-437b-9032-d7b57e9bb788",
   "metadata": {},
   "outputs": [],
   "source": []
  },
  {
   "cell_type": "code",
   "execution_count": null,
   "id": "c0dfa320-5b46-4832-b456-015c61885954",
   "metadata": {},
   "outputs": [],
   "source": []
  }
 ],
 "metadata": {
  "kernelspec": {
   "display_name": "Python 3 (ipykernel)",
   "language": "python",
   "name": "python3"
  },
  "language_info": {
   "codemirror_mode": {
    "name": "ipython",
    "version": 3
   },
   "file_extension": ".py",
   "mimetype": "text/x-python",
   "name": "python",
   "nbconvert_exporter": "python",
   "pygments_lexer": "ipython3",
   "version": "3.9.12"
  }
 },
 "nbformat": 4,
 "nbformat_minor": 5
}
