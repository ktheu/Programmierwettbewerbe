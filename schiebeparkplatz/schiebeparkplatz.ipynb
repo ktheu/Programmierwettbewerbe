{
 "cells": [
  {
   "cell_type": "markdown",
   "id": "74a46e42-c6ba-4533-8625-c6260759afb1",
   "metadata": {},
   "source": [
    "### Schiebeparkplatz\n",
    "\n",
    "[Lösungsidee](schiebeparkplatz.pdf)\n",
    "\n",
    "<img src='schiebeparkplatz.png' width='300'>"
   ]
  },
  {
   "cell_type": "markdown",
   "id": "bd661040-543e-427f-acff-e5f8c51b4b89",
   "metadata": {},
   "source": [
    "Die Beispieldaten von 0-5"
   ]
  },
  {
   "cell_type": "code",
   "execution_count": 20,
   "id": "e4c743e4-aa94-49d6-86e7-963b0817598d",
   "metadata": {},
   "outputs": [
    {
     "name": "stdout",
     "output_type": "stream",
     "text": [
      "A G\n",
      "2\n",
      "H 2\n",
      "I 5\n",
      "\n"
     ]
    }
   ],
   "source": [
    "nr = 0\n",
    "f = open('./beispieldaten/parkplatz'+str(nr)+'.txt')\n",
    "print(f.read())"
   ]
  },
  {
   "cell_type": "markdown",
   "id": "590d5c01-bb8e-40a5-a276-9bdc9b805ffc",
   "metadata": {},
   "source": [
    "Lesen der ersten Eingabezeile. Damit wird die obere Wagenreihe modelliert"
   ]
  },
  {
   "cell_type": "code",
   "execution_count": 21,
   "id": "32cd19e2-39db-44b4-b0f3-618cb866952a",
   "metadata": {},
   "outputs": [
    {
     "data": {
      "text/plain": [
       "['A', 'B', 'C', 'D', 'E', 'F', 'G']"
      ]
     },
     "execution_count": 21,
     "metadata": {},
     "output_type": "execute_result"
    }
   ],
   "source": [
    "f = open('./beispieldaten/parkplatz'+str(nr)+'.txt')\n",
    "c1, c2 = f.readline().split()\n",
    "oben = [chr(c) for c in range(ord(c1), ord(c2)+1)]    # obere Wagenreihe als Liste mit Buchstaben\n",
    "oben\n",
    " "
   ]
  },
  {
   "cell_type": "code",
   "execution_count": 22,
   "id": "98ebd2bf-47a4-480d-be49-d78287510caf",
   "metadata": {},
   "outputs": [
    {
     "data": {
      "text/plain": [
       "[('H', 2), ('I', 5)]"
      ]
     },
     "execution_count": 22,
     "metadata": {},
     "output_type": "execute_result"
    }
   ],
   "source": [
    "n = int(f.readline())   # anzahl querstehender Wagen                 \n",
    "quer = []               # Liste mit Namen und Position der querstehenden Wagen\n",
    "for i in range(n):\n",
    "    name, pos = f.readline().split()\n",
    "    quer.append((name,int(pos)))\n",
    "    \n",
    "quer"
   ]
  },
  {
   "cell_type": "code",
   "execution_count": 23,
   "id": "e93a1f24-b352-4a4c-982e-3759489265ad",
   "metadata": {},
   "outputs": [
    {
     "data": {
      "text/plain": [
       "('.', '.', 'H', 'H', '.', 'I', 'I')"
      ]
     },
     "execution_count": 23,
     "metadata": {},
     "output_type": "execute_result"
    }
   ],
   "source": [
    "# Konstruktion des startstates als Tuple\n",
    "startstate = ['.']*len(oben)\n",
    "for c,k in quer:\n",
    "    startstate[k]=c\n",
    "    startstate[k+1]=c\n",
    "    \n",
    "startstate = tuple(startstate)\n",
    "startstate"
   ]
  },
  {
   "cell_type": "code",
   "execution_count": 24,
   "id": "02e17ffd-7915-4680-900f-fe43dec21ee2",
   "metadata": {},
   "outputs": [
    {
     "name": "stdout",
     "output_type": "stream",
     "text": [
      "A B C D E F G\n",
      ". . H H . I I\n"
     ]
    }
   ],
   "source": [
    "# Zur Visualisierung der Situation\n",
    "def show(state):\n",
    "    print(*oben)\n",
    "    print(*state)\n",
    "    \n",
    "show(startstate)"
   ]
  },
  {
   "cell_type": "markdown",
   "id": "b723aa11-9edf-453a-aa74-c800bc636037",
   "metadata": {},
   "source": [
    "Zur Suche in dem Baum der Möglichkeiten benötigen wir die Funktionen *goaltest* und *nextstates*."
   ]
  },
  {
   "cell_type": "code",
   "execution_count": 25,
   "id": "b890b3d2-4968-4a6a-8ab9-e1b4d926b4ff",
   "metadata": {},
   "outputs": [],
   "source": [
    "wagenIdx = 5    # globale Variable, Index des Wagens, der rausgefahren werden soll\n",
    "\n",
    "def goaltest(state):\n",
    "    return state[wagenIdx] == '.'"
   ]
  },
  {
   "cell_type": "code",
   "execution_count": 26,
   "id": "d8cbfeb0-6d28-4afa-9a17-af0f8dd79932",
   "metadata": {},
   "outputs": [],
   "source": [
    "querwagen = [c[0] for c in quer]      # Liste mit den Buchstaben der querstehenden Wagen\n",
    "\n",
    "def nextstates(state):\n",
    "    tmp = []\n",
    "    for c in querwagen:\n",
    "        k = state.index(c)\n",
    "        new_state = list(state)\n",
    "        while k+2 < len(state) and state[k+2]=='.':   # solange rechts Platz ist\n",
    "            new_state[k]='.'                          # verschiebe die beiden Zeichen in new_state                     \n",
    "            new_state[k+2]=c                          # um eins nach rechts\n",
    "            tmp.append(tuple(new_state))              # speichere den Zustand als möglichen Folgezustand\n",
    "            k+=1\n",
    "            \n",
    "        k = state.index(c)                            \n",
    "        new_state = list(state)\n",
    "        while k-1 >= 0 and new_state[k-1]=='.':       # solange links Platz ist\n",
    "            new_state[k-1]=c\n",
    "            new_state[k+1]='.'\n",
    "            tmp.append(tuple(new_state))\n",
    "            k-=1\n",
    "    return tmp"
   ]
  },
  {
   "cell_type": "code",
   "execution_count": 27,
   "id": "488c17a7-7018-4b9f-822c-46ac67e64112",
   "metadata": {},
   "outputs": [
    {
     "data": {
      "text/plain": [
       "[('.', '.', '.', 'H', 'H', 'I', 'I'),\n",
       " ('.', 'H', 'H', '.', '.', 'I', 'I'),\n",
       " ('H', 'H', '.', '.', '.', 'I', 'I'),\n",
       " ('.', '.', 'H', 'H', 'I', 'I', '.')]"
      ]
     },
     "execution_count": 27,
     "metadata": {},
     "output_type": "execute_result"
    }
   ],
   "source": [
    "nextstates(startstate)"
   ]
  },
  {
   "cell_type": "code",
   "execution_count": 28,
   "id": "6f5996ba-df87-4f22-8d0a-83d118190e38",
   "metadata": {},
   "outputs": [],
   "source": [
    "from collections import deque\n",
    "def bfs(startstate):\n",
    "    frontier =  deque([startstate])\n",
    "    prev = {startstate:None}\n",
    "    if goaltest(startstate):\n",
    "            return prev, startstate\n",
    "    while frontier:\n",
    "        state = frontier.popleft()\n",
    "        for v in nextstates(state):\n",
    "            if v not in prev:\n",
    "                prev[v] = state\n",
    "                if goaltest(v):\n",
    "                    return prev, v\n",
    "                frontier.append(v)\n",
    " "
   ]
  },
  {
   "cell_type": "code",
   "execution_count": 29,
   "id": "78bbf9e2-08d1-464b-bdd0-f5fd711e0aaa",
   "metadata": {},
   "outputs": [
    {
     "data": {
      "text/plain": [
       "('.', 'H', 'H', 'I', 'I', '.', '.')"
      ]
     },
     "execution_count": 29,
     "metadata": {},
     "output_type": "execute_result"
    }
   ],
   "source": [
    "prev, goalstate = bfs(startstate)\n",
    "goalstate"
   ]
  },
  {
   "cell_type": "code",
   "execution_count": 30,
   "id": "2cc13ab9-c1b1-4a2b-b6bf-947b79dcf8b8",
   "metadata": {},
   "outputs": [
    {
     "data": {
      "text/plain": [
       "{('.', '.', 'H', 'H', '.', 'I', 'I'): None,\n",
       " ('.', '.', '.', 'H', 'H', 'I', 'I'): ('.', '.', 'H', 'H', '.', 'I', 'I'),\n",
       " ('.', 'H', 'H', '.', '.', 'I', 'I'): ('.', '.', 'H', 'H', '.', 'I', 'I'),\n",
       " ('H', 'H', '.', '.', '.', 'I', 'I'): ('.', '.', 'H', 'H', '.', 'I', 'I'),\n",
       " ('.', '.', 'H', 'H', 'I', 'I', '.'): ('.', '.', 'H', 'H', '.', 'I', 'I'),\n",
       " ('.', 'H', 'H', '.', 'I', 'I', '.'): ('.', 'H', 'H', '.', '.', 'I', 'I'),\n",
       " ('.', 'H', 'H', 'I', 'I', '.', '.'): ('.', 'H', 'H', '.', '.', 'I', 'I')}"
      ]
     },
     "execution_count": 30,
     "metadata": {},
     "output_type": "execute_result"
    }
   ],
   "source": [
    "prev"
   ]
  },
  {
   "cell_type": "code",
   "execution_count": 31,
   "id": "9c67f66a-6d4c-4469-ad42-2fa656ee0974",
   "metadata": {},
   "outputs": [],
   "source": [
    "def reconstructPath(prev,goalstate):\n",
    "    state = goalstate\n",
    "    path = []\n",
    "    while state is not None:\n",
    "        path.append(state)\n",
    "        state = prev[state]        \n",
    "    path.reverse()\n",
    "    return path"
   ]
  },
  {
   "cell_type": "code",
   "execution_count": 32,
   "id": "95cd0580-298d-4fb0-ab78-baeffabcae8a",
   "metadata": {},
   "outputs": [
    {
     "data": {
      "text/plain": [
       "[('.', '.', 'H', 'H', '.', 'I', 'I'),\n",
       " ('.', 'H', 'H', '.', '.', 'I', 'I'),\n",
       " ('.', 'H', 'H', 'I', 'I', '.', '.')]"
      ]
     },
     "execution_count": 32,
     "metadata": {},
     "output_type": "execute_result"
    }
   ],
   "source": [
    "path = reconstructPath(prev,goalstate)\n",
    "path"
   ]
  },
  {
   "cell_type": "markdown",
   "id": "65b75164-dd34-4ab8-b134-429e8546529b",
   "metadata": {},
   "source": [
    "Um die Abfolge des Pfades in Worten wiederzugeben, definieren wir uns eine Funktion *schieb*"
   ]
  },
  {
   "cell_type": "code",
   "execution_count": 33,
   "id": "201cde4c-5549-422a-8c00-4ae6b2625e87",
   "metadata": {},
   "outputs": [],
   "source": [
    "def schieb(s1, s2):\n",
    "    for c in querwagen:\n",
    "        i1 = s1.index(c)\n",
    "        i2 = s2.index(c)\n",
    "        if i1 > i2:\n",
    "            return f'{c}: {i1-i2} nach links ' \n",
    "        if i1 < i2:\n",
    "            return f'{c}: {i2-i1} nach rechts' "
   ]
  },
  {
   "cell_type": "code",
   "execution_count": 34,
   "id": "ea85ae77-7c31-459d-980a-7d022b94f400",
   "metadata": {},
   "outputs": [
    {
     "name": "stdout",
     "output_type": "stream",
     "text": [
      "H: 1 nach links \n",
      "I: 2 nach links \n"
     ]
    }
   ],
   "source": [
    "for i in range(len(path)-1):\n",
    "    print(schieb(path[i],path[i+1]))"
   ]
  },
  {
   "cell_type": "markdown",
   "id": "a768c5d0-ac71-41bf-99fd-711ffe2404ae",
   "metadata": {},
   "source": [
    "In einer Schleife lassen ermitteln wir die Ergebnisse für alle Wagen"
   ]
  },
  {
   "cell_type": "code",
   "execution_count": 35,
   "id": "5d1cf7e9-287d-4765-9ccd-013b4e69d006",
   "metadata": {},
   "outputs": [
    {
     "name": "stdout",
     "output_type": "stream",
     "text": [
      "A : \n",
      "B : \n",
      "C : H: 1 nach rechts  \n",
      "D : H: 1 nach links   \n",
      "E : \n",
      "F : H: 1 nach links   I: 2 nach links   \n",
      "G : I: 1 nach links   \n"
     ]
    }
   ],
   "source": [
    "for w in oben:\n",
    "    wagenIdx = ord(w)-ord('A')\n",
    "    prev, state = bfs(startstate)\n",
    "    path = reconstructPath(prev, state)\n",
    "    print(w,': ',end='')\n",
    "    for i in range(len(path)-1):\n",
    "        print(schieb(path[i],path[i+1]),end='  ')\n",
    "    print()"
   ]
  },
  {
   "cell_type": "markdown",
   "id": "744dd46d-f9b8-4b19-a50e-198837aa7f73",
   "metadata": {},
   "source": [
    "### Das vollständige Programm"
   ]
  },
  {
   "cell_type": "code",
   "execution_count": 37,
   "id": "1d3ddef0-9849-44e1-80e4-4ade60e677df",
   "metadata": {},
   "outputs": [
    {
     "name": "stdout",
     "output_type": "stream",
     "text": [
      "A : \n",
      "B : \n",
      "C : O: 1 nach rechts  \n",
      "D : O: 1 nach links   \n",
      "E : \n",
      "F : O: 1 nach links   P: 2 nach links   \n",
      "G : P: 1 nach links   \n",
      "H : R: 1 nach rechts  Q: 1 nach rechts  \n",
      "I : P: 1 nach links   Q: 1 nach links   \n",
      "J : R: 1 nach rechts  \n",
      "K : P: 1 nach links   Q: 1 nach links   R: 1 nach links   \n",
      "L : \n",
      "M : P: 1 nach links   Q: 1 nach links   R: 1 nach links   S: 2 nach links   \n",
      "N : S: 1 nach links   \n"
     ]
    }
   ],
   "source": [
    "from collections import deque\n",
    "\n",
    "def goaltest(state):\n",
    "    return state[wagenIdx] == '.'\n",
    "\n",
    "def nextstates(state):\n",
    "    tmp = []\n",
    "    for c in querwagen:\n",
    "        k = state.index(c)\n",
    "        new_state = list(state)\n",
    "        while k+2 < len(state) and state[k+2]=='.':   # solange rechts Platz ist\n",
    "            new_state[k]='.'                          # verschiebe die beiden Zeichen in new_state                     \n",
    "            new_state[k+2]=c                          # um eins nach rechts\n",
    "            tmp.append(tuple(new_state))              # speichere den Zustand als möglichen Folgezustand\n",
    "            k+=1\n",
    "            \n",
    "        k = state.index(c)                            \n",
    "        new_state = list(state)\n",
    "        while k-1 >= 0 and new_state[k-1]=='.':       # solange links Platz ist\n",
    "            new_state[k-1]=c\n",
    "            new_state[k+1]='.'\n",
    "            tmp.append(tuple(new_state))\n",
    "            k-=1\n",
    "    return tmp\n",
    "\n",
    "def bfs(startstate):\n",
    "    frontier = deque([startstate])\n",
    "    prev = {startstate:None}\n",
    "    if goaltest(startstate):\n",
    "            return prev, startstate\n",
    "    while frontier:\n",
    "        state = frontier.popleft()\n",
    "        for v in nextstates(state):\n",
    "            if v not in prev:\n",
    "                prev[v] = state\n",
    "                if goaltest(v):\n",
    "                    return prev, v\n",
    "                frontier.append(v)\n",
    "                \n",
    "def reconstructPath(prev,goalstate):\n",
    "    state = goalstate\n",
    "    path = []\n",
    "    while state is not None:\n",
    "        path.append(state)\n",
    "        state = prev[state]        \n",
    "    path.reverse()\n",
    "    return path\n",
    "\n",
    "def schieb(s1, s2):\n",
    "    for c in querwagen:\n",
    "        i1 = s1.index(c)\n",
    "        i2 = s2.index(c)\n",
    "        if i1 > i2:\n",
    "            return f'{c}: {i1-i2} nach links ' \n",
    "        if i1 < i2:\n",
    "            return f'{c}: {i2-i1} nach rechts' \n",
    "\n",
    "# Obere Wagenreihe        \n",
    "nr = 2\n",
    "f = open('./beispieldaten/parkplatz'+str(nr)+'.txt')\n",
    "c1, c2 = f.readline().split()\n",
    "oben = [chr(c) for c in range(ord(c1), ord(c2)+1)]  \n",
    "\n",
    "# Untere Wagenreihe\n",
    "n = int(f.readline())   # anzahl querstehender Wagen                 \n",
    "quer = []               # Liste mit Namen und Position der querstehenden Wagen\n",
    "for i in range(n):\n",
    "    name, pos = f.readline().split()\n",
    "    quer.append((name,int(pos)))\n",
    "\n",
    "querwagen = [c[0] for c in quer]   # Liste mit den Buchstaben der querstehenden Wagen\n",
    "\n",
    "# Konstruktion startstate\n",
    "startstate = ['.']*len(oben)\n",
    "for c,k in quer:\n",
    "    startstate[k]=c\n",
    "    startstate[k+1]=c\n",
    "startstate = tuple(startstate)\n",
    "\n",
    "# Breitensuche und Ausgabe Ergebnisse\n",
    "for w in oben:\n",
    "    wagenIdx = ord(w)-ord('A')\n",
    "    prev, state = bfs(startstate)\n",
    "    path = reconstructPath(prev, state)\n",
    "    print(w,': ',end='')\n",
    "    for i in range(len(path)-1):\n",
    "        print(schieb(path[i],path[i+1]),end='  ')\n",
    "    print()\n",
    "\n",
    " "
   ]
  }
 ],
 "metadata": {
  "kernelspec": {
   "display_name": "Python 3 (ipykernel)",
   "language": "python",
   "name": "python3"
  },
  "language_info": {
   "codemirror_mode": {
    "name": "ipython",
    "version": 3
   },
   "file_extension": ".py",
   "mimetype": "text/x-python",
   "name": "python",
   "nbconvert_exporter": "python",
   "pygments_lexer": "ipython3",
   "version": "3.9.12"
  }
 },
 "nbformat": 4,
 "nbformat_minor": 5
}
