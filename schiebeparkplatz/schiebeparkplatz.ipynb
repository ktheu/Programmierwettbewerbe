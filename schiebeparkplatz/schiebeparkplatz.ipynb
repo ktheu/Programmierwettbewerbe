{
 "cells": [
  {
   "cell_type": "markdown",
   "id": "74a46e42-c6ba-4533-8625-c6260759afb1",
   "metadata": {},
   "source": [
    "### Schiebeparkplatz\n",
    "\n",
    "[Lösungsidee](schiebeparkplatz.pdf)\n",
    "\n",
    "<img src='schiebeparkplatz.png' width='300'>\n",
    "\n",
    "Hinweis: das Programm muss eine in Bezug auf die Anzahl der zu verschiebenden Autos optimale Lösung finden, die Länge des Verschiebungswegs spielt keine Rolle: Ob ich 1 nach links oder 2 nach rechts gehe, ist gleich gut."
   ]
  },
  {
   "cell_type": "markdown",
   "id": "bd661040-543e-427f-acff-e5f8c51b4b89",
   "metadata": {},
   "source": [
    "Die Beispieldaten von 0-5"
   ]
  },
  {
   "cell_type": "code",
   "execution_count": 35,
   "id": "e4c743e4-aa94-49d6-86e7-963b0817598d",
   "metadata": {},
   "outputs": [
    {
     "name": "stdout",
     "output_type": "stream",
     "text": [
      "A N\n",
      "4\n",
      "O 1\n",
      "P 3\n",
      "Q 6\n",
      "R 10\n",
      "\n"
     ]
    }
   ],
   "source": [
    "nr = 1\n",
    "f = open('./beispieldaten/parkplatz'+str(nr)+'.txt')\n",
    "print(f.read())"
   ]
  },
  {
   "cell_type": "markdown",
   "id": "590d5c01-bb8e-40a5-a276-9bdc9b805ffc",
   "metadata": {},
   "source": [
    "Lesen der ersten Eingabezeile. Damit wird die obere Wagenreihe modelliert"
   ]
  },
  {
   "cell_type": "code",
   "execution_count": 36,
   "id": "32cd19e2-39db-44b4-b0f3-618cb866952a",
   "metadata": {},
   "outputs": [
    {
     "data": {
      "text/plain": [
       "['A', 'B', 'C', 'D', 'E', 'F', 'G', 'H', 'I', 'J', 'K', 'L', 'M', 'N']"
      ]
     },
     "execution_count": 36,
     "metadata": {},
     "output_type": "execute_result"
    }
   ],
   "source": [
    "f = open('./beispieldaten/parkplatz'+str(nr)+'.txt')\n",
    "c1, c2 = f.readline().split()\n",
    "oben = [chr(c) for c in range(ord(c1), ord(c2)+1)]    # obere Wagenreihe als Liste mit Buchstaben\n",
    "oben\n",
    " "
   ]
  },
  {
   "cell_type": "code",
   "execution_count": 37,
   "id": "98ebd2bf-47a4-480d-be49-d78287510caf",
   "metadata": {},
   "outputs": [
    {
     "data": {
      "text/plain": [
       "[('O', 1), ('P', 3), ('Q', 6), ('R', 10)]"
      ]
     },
     "execution_count": 37,
     "metadata": {},
     "output_type": "execute_result"
    }
   ],
   "source": [
    "n = int(f.readline())   # anzahl querstehender Wagen                 \n",
    "quer = []               # Liste mit Namen und Position der querstehenden Wagen\n",
    "for i in range(n):\n",
    "    name, pos = f.readline().split()\n",
    "    quer.append((name,int(pos)))\n",
    "    \n",
    "quer"
   ]
  },
  {
   "cell_type": "code",
   "execution_count": 38,
   "id": "e93a1f24-b352-4a4c-982e-3759489265ad",
   "metadata": {},
   "outputs": [
    {
     "data": {
      "text/plain": [
       "('.', 'O', 'O', 'P', 'P', '.', 'Q', 'Q', '.', '.', 'R', 'R', '.', '.')"
      ]
     },
     "execution_count": 38,
     "metadata": {},
     "output_type": "execute_result"
    }
   ],
   "source": [
    "# Konstruktion des startstates als Tuple\n",
    "startstate = ['.']*len(oben)\n",
    "for c,k in quer:\n",
    "    startstate[k]=c\n",
    "    startstate[k+1]=c\n",
    "    \n",
    "startstate = tuple(startstate)\n",
    "startstate"
   ]
  },
  {
   "cell_type": "code",
   "execution_count": 39,
   "id": "02e17ffd-7915-4680-900f-fe43dec21ee2",
   "metadata": {},
   "outputs": [
    {
     "name": "stdout",
     "output_type": "stream",
     "text": [
      "A B C D E F G H I J K L M N\n",
      ". O O P P . Q Q . . R R . .\n"
     ]
    }
   ],
   "source": [
    "# Zur Visualisierung der Situation\n",
    "def show(state):\n",
    "    print(*oben)\n",
    "    print(*state)\n",
    "    \n",
    "show(startstate)"
   ]
  },
  {
   "cell_type": "markdown",
   "id": "b723aa11-9edf-453a-aa74-c800bc636037",
   "metadata": {},
   "source": [
    "Zur Suche in dem Baum der Möglichkeiten benötigen wir die Funktionen *goaltest* und *nextstates*."
   ]
  },
  {
   "cell_type": "code",
   "execution_count": 40,
   "id": "b890b3d2-4968-4a6a-8ab9-e1b4d926b4ff",
   "metadata": {},
   "outputs": [],
   "source": [
    "wagenIdx = 5    # globale Variable, Index des Wagens, der rausgefahren werden soll\n",
    "\n",
    "def goaltest(state):\n",
    "    return state[wagenIdx] == '.'"
   ]
  },
  {
   "cell_type": "code",
   "execution_count": 41,
   "id": "d8cbfeb0-6d28-4afa-9a17-af0f8dd79932",
   "metadata": {},
   "outputs": [],
   "source": [
    "querwagen = [c[0] for c in quer]      # Liste mit den Buchstaben der querstehenden Wagen\n",
    "\n",
    "def nextstates(state):\n",
    "    tmp = []\n",
    "    for c in querwagen:\n",
    "        k = state.index(c)\n",
    "        new_state = list(state)\n",
    "        while k+2 < len(state) and state[k+2]=='.':   # solange rechts Platz ist\n",
    "            new_state[k]='.'                          # verschiebe die beiden Zeichen in new_state                     \n",
    "            new_state[k+2]=c                          # um eins nach rechts\n",
    "            tmp.append(tuple(new_state))              # speichere den Zustand als möglichen Folgezustand\n",
    "            k+=1\n",
    "            \n",
    "        k = state.index(c)                            \n",
    "        new_state = list(state)\n",
    "        while k-1 >= 0 and new_state[k-1]=='.':       # solange links Platz ist\n",
    "            new_state[k-1]=c\n",
    "            new_state[k+1]='.'\n",
    "            tmp.append(tuple(new_state))\n",
    "            k-=1\n",
    "    return tmp"
   ]
  },
  {
   "cell_type": "code",
   "execution_count": 42,
   "id": "488c17a7-7018-4b9f-822c-46ac67e64112",
   "metadata": {},
   "outputs": [
    {
     "data": {
      "text/plain": [
       "[('.', 'O', 'O', '.', 'P', 'P', 'Q', 'Q', '.', '.', 'R', 'R', '.', '.'),\n",
       " ('.', 'O', 'O', 'P', 'P', '.', '.', '.', 'Q', 'Q', 'R', 'R', '.', '.'),\n",
       " ('.', 'O', 'O', 'P', 'P', '.', '.', 'Q', 'Q', '.', 'R', 'R', '.', '.'),\n",
       " ('.', 'O', 'O', 'P', 'P', '.', 'Q', 'Q', '.', '.', '.', '.', 'R', 'R'),\n",
       " ('.', 'O', 'O', 'P', 'P', '.', 'Q', 'Q', '.', '.', '.', 'R', 'R', '.'),\n",
       " ('.', 'O', 'O', 'P', 'P', '.', 'Q', 'Q', '.', 'R', 'R', '.', '.', '.'),\n",
       " ('.', 'O', 'O', 'P', 'P', '.', 'Q', 'Q', 'R', 'R', '.', '.', '.', '.'),\n",
       " ('.', 'O', 'O', 'P', 'P', 'Q', 'Q', '.', '.', '.', 'R', 'R', '.', '.'),\n",
       " ('O', 'O', '.', 'P', 'P', '.', 'Q', 'Q', '.', '.', 'R', 'R', '.', '.')]"
      ]
     },
     "execution_count": 42,
     "metadata": {},
     "output_type": "execute_result"
    }
   ],
   "source": [
    "\n",
    "sorted(nextstates(startstate))\n",
    " "
   ]
  },
  {
   "cell_type": "code",
   "execution_count": 43,
   "id": "6f5996ba-df87-4f22-8d0a-83d118190e38",
   "metadata": {},
   "outputs": [],
   "source": [
    "from collections import deque\n",
    "def bfs(startstate):\n",
    "    frontier =  deque([startstate])\n",
    "    prev = {startstate:None}\n",
    "    if goaltest(startstate):\n",
    "            return prev, startstate\n",
    "    while frontier:\n",
    "        state = frontier.popleft()\n",
    "        for v in nextstates(state):\n",
    "            if v not in prev:\n",
    "                prev[v] = state\n",
    "                if goaltest(v):\n",
    "                    return prev, v\n",
    "                frontier.append(v)\n",
    "\n",
    "    "
   ]
  },
  {
   "cell_type": "code",
   "execution_count": 44,
   "id": "78bbf9e2-08d1-464b-bdd0-f5fd711e0aaa",
   "metadata": {},
   "outputs": [
    {
     "data": {
      "text/plain": [
       "('.', 'O', 'O', 'P', 'P', '.', 'Q', 'Q', '.', '.', 'R', 'R', '.', '.')"
      ]
     },
     "execution_count": 44,
     "metadata": {},
     "output_type": "execute_result"
    }
   ],
   "source": [
    "prev, goalstate = bfs(startstate)\n",
    "goalstate"
   ]
  },
  {
   "cell_type": "code",
   "execution_count": 45,
   "id": "2cc13ab9-c1b1-4a2b-b6bf-947b79dcf8b8",
   "metadata": {},
   "outputs": [
    {
     "data": {
      "text/plain": [
       "{('.', 'O', 'O', 'P', 'P', '.', 'Q', 'Q', '.', '.', 'R', 'R', '.', '.'): None}"
      ]
     },
     "execution_count": 45,
     "metadata": {},
     "output_type": "execute_result"
    }
   ],
   "source": [
    "prev"
   ]
  },
  {
   "cell_type": "code",
   "execution_count": 46,
   "id": "9c67f66a-6d4c-4469-ad42-2fa656ee0974",
   "metadata": {},
   "outputs": [],
   "source": [
    "def reconstructPath(prev,goalstate):\n",
    "    state = goalstate\n",
    "    path = []\n",
    "    while state is not None:\n",
    "        path.append(state)\n",
    "        state = prev[state]        \n",
    "    path.reverse()\n",
    "    return path"
   ]
  },
  {
   "cell_type": "code",
   "execution_count": 47,
   "id": "95cd0580-298d-4fb0-ab78-baeffabcae8a",
   "metadata": {},
   "outputs": [
    {
     "data": {
      "text/plain": [
       "[('.', 'O', 'O', 'P', 'P', '.', 'Q', 'Q', '.', '.', 'R', 'R', '.', '.')]"
      ]
     },
     "execution_count": 47,
     "metadata": {},
     "output_type": "execute_result"
    }
   ],
   "source": [
    "path = reconstructPath(prev,goalstate)\n",
    "path"
   ]
  },
  {
   "cell_type": "markdown",
   "id": "65b75164-dd34-4ab8-b134-429e8546529b",
   "metadata": {},
   "source": [
    "Um die Abfolge des Pfades in Worten wiederzugeben, definieren wir uns eine Funktion *schieb*"
   ]
  },
  {
   "cell_type": "code",
   "execution_count": 48,
   "id": "201cde4c-5549-422a-8c00-4ae6b2625e87",
   "metadata": {},
   "outputs": [],
   "source": [
    "def schieb(s1, s2):\n",
    "    for c in querwagen:\n",
    "        i1 = s1.index(c)\n",
    "        i2 = s2.index(c)\n",
    "        if i1 > i2:\n",
    "            return f'{c}: {i1-i2} nach links ' \n",
    "        if i1 < i2:\n",
    "            return f'{c}: {i2-i1} nach rechts' "
   ]
  },
  {
   "cell_type": "code",
   "execution_count": 49,
   "id": "ea85ae77-7c31-459d-980a-7d022b94f400",
   "metadata": {},
   "outputs": [],
   "source": [
    "for i in range(len(path)-1):\n",
    "    print(schieb(path[i],path[i+1]))"
   ]
  },
  {
   "cell_type": "markdown",
   "id": "a768c5d0-ac71-41bf-99fd-711ffe2404ae",
   "metadata": {},
   "source": [
    "In einer Schleife lassen ermitteln wir die Ergebnisse für alle Wagen"
   ]
  },
  {
   "cell_type": "code",
   "execution_count": 50,
   "id": "5d1cf7e9-287d-4765-9ccd-013b4e69d006",
   "metadata": {},
   "outputs": [
    {
     "name": "stdout",
     "output_type": "stream",
     "text": [
      "A : \n",
      "B : P: 1 nach rechts  O: 1 nach rechts  \n",
      "C : O: 1 nach links   \n",
      "D : P: 1 nach rechts  \n",
      "E : O: 1 nach links   P: 1 nach links   \n",
      "F : \n",
      "G : Q: 1 nach rechts  \n",
      "H : Q: 2 nach rechts  \n",
      "I : \n",
      "J : \n",
      "K : R: 1 nach rechts  \n",
      "L : R: 2 nach rechts  \n",
      "M : \n",
      "N : \n"
     ]
    }
   ],
   "source": [
    "for w in oben:\n",
    "    wagenIdx = ord(w)-ord('A')\n",
    "    prev, state = bfs(startstate)\n",
    "    path = reconstructPath(prev, state)\n",
    "    print(w,': ',end='')\n",
    "    for i in range(len(path)-1):\n",
    "        print(schieb(path[i],path[i+1]),end='  ')\n",
    "    print()"
   ]
  },
  {
   "cell_type": "markdown",
   "id": "744dd46d-f9b8-4b19-a50e-198837aa7f73",
   "metadata": {},
   "source": [
    "### Das vollständige Programm"
   ]
  },
  {
   "cell_type": "code",
   "execution_count": 51,
   "id": "1d3ddef0-9849-44e1-80e4-4ade60e677df",
   "metadata": {},
   "outputs": [
    {
     "name": "stdout",
     "output_type": "stream",
     "text": [
      "A B C D E F G H I J K L M N\n",
      ". O O . P P . . Q Q R R S S\n",
      "\n",
      "A : \n",
      "B : O: 1 nach rechts  \n",
      "C : O: 1 nach links   \n",
      "D : \n",
      "E : P: 1 nach rechts  \n",
      "F : P: 2 nach rechts  \n",
      "G : \n",
      "H : \n",
      "I : Q: 2 nach links   \n",
      "J : Q: 1 nach links   \n",
      "K : Q: 2 nach links   R: 2 nach links   \n",
      "L : Q: 1 nach links   R: 1 nach links   \n",
      "M : Q: 2 nach links   R: 2 nach links   S: 2 nach links   \n",
      "N : Q: 1 nach links   R: 1 nach links   S: 1 nach links   \n"
     ]
    }
   ],
   "source": [
    "from collections import deque\n",
    "\n",
    "def goaltest(state):\n",
    "    return state[wagenIdx] == '.'\n",
    "\n",
    "def nextstates(state):\n",
    "    tmp = []\n",
    "    for c in querwagen:\n",
    "        k = state.index(c)\n",
    "        new_state = list(state)\n",
    "        while k+2 < len(state) and state[k+2]=='.':   # solange rechts Platz ist\n",
    "            new_state[k]='.'                          # verschiebe die beiden Zeichen in new_state                     \n",
    "            new_state[k+2]=c                          # um eins nach rechts\n",
    "            tmp.append(tuple(new_state))              # speichere den Zustand als möglichen Folgezustand\n",
    "            k+=1\n",
    "            \n",
    "        k = state.index(c)                            \n",
    "        new_state = list(state)\n",
    "        while k-1 >= 0 and new_state[k-1]=='.':       # solange links Platz ist\n",
    "            new_state[k-1]=c\n",
    "            new_state[k+1]='.'\n",
    "            tmp.append(tuple(new_state))\n",
    "            k-=1\n",
    "    return tmp\n",
    "\n",
    "def bfs(startstate):\n",
    "    frontier = deque([startstate])\n",
    "    prev = {startstate:None}\n",
    "    if goaltest(startstate):\n",
    "            return prev, startstate\n",
    "    while frontier:\n",
    "        state = frontier.popleft()\n",
    "        for v in nextstates(state):\n",
    "            if v not in prev:\n",
    "                prev[v] = state\n",
    "                if goaltest(v):\n",
    "                    return prev, v\n",
    "                frontier.append(v)\n",
    "                \n",
    "def reconstructPath(prev,goalstate):\n",
    "    state = goalstate\n",
    "    path = []\n",
    "    while state is not None:\n",
    "        path.append(state)\n",
    "        state = prev[state]        \n",
    "    path.reverse()\n",
    "    return path\n",
    "\n",
    "def schieb(s1, s2):\n",
    "    for c in querwagen:\n",
    "        i1 = s1.index(c)\n",
    "        i2 = s2.index(c)\n",
    "        if i1 > i2:\n",
    "            return f'{c}: {i1-i2} nach links ' \n",
    "        if i1 < i2:\n",
    "            return f'{c}: {i2-i1} nach rechts' \n",
    "\n",
    "# Obere Wagenreihe        \n",
    "nr = 3\n",
    "f = open('./beispieldaten/parkplatz'+str(nr)+'.txt')\n",
    "c1, c2 = f.readline().split()\n",
    "oben = [chr(c) for c in range(ord(c1), ord(c2)+1)]  \n",
    "\n",
    "# Untere Wagenreihe\n",
    "n = int(f.readline())   # anzahl querstehender Wagen                 \n",
    "quer = []               # Liste mit Namen und Position der querstehenden Wagen\n",
    "for i in range(n):\n",
    "    name, pos = f.readline().split()\n",
    "    quer.append((name,int(pos)))\n",
    "\n",
    "querwagen = [c[0] for c in quer]   # Liste mit den Buchstaben der querstehenden Wagen\n",
    "\n",
    "# Konstruktion startstate\n",
    "startstate = ['.']*len(oben)\n",
    "for c,k in quer:\n",
    "    startstate[k]=c\n",
    "    startstate[k+1]=c\n",
    "startstate = tuple(startstate)\n",
    "\n",
    "# Ausgabe Startstate\n",
    "show(startstate)\n",
    "print()\n",
    "\n",
    "# Breitensuche und Ausgabe Ergebnisse\n",
    "\n",
    "for w in oben:\n",
    "    \n",
    "    wagenIdx = ord(w)-ord('A')\n",
    "    prev, state = bfs(startstate)\n",
    "    path = reconstructPath(prev, state)\n",
    "    print(w,': ',end='')\n",
    "    for i in range(len(path)-1):\n",
    "        print(schieb(path[i],path[i+1]),end='  ')\n",
    "    print()\n",
    "\n",
    " "
   ]
  },
  {
   "cell_type": "code",
   "execution_count": null,
   "id": "8a33de57-d127-465f-9e5a-02c957a8a1ad",
   "metadata": {},
   "outputs": [],
   "source": []
  }
 ],
 "metadata": {
  "kernelspec": {
   "display_name": "Python 3 (ipykernel)",
   "language": "python",
   "name": "python3"
  },
  "language_info": {
   "codemirror_mode": {
    "name": "ipython",
    "version": 3
   },
   "file_extension": ".py",
   "mimetype": "text/x-python",
   "name": "python",
   "nbconvert_exporter": "python",
   "pygments_lexer": "ipython3",
   "version": "3.10.6"
  }
 },
 "nbformat": 4,
 "nbformat_minor": 5
}
